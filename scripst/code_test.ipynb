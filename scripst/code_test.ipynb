{
 "cells": [
  {
   "cell_type": "markdown",
   "metadata": {},
   "source": [
    "## Imports"
   ]
  },
  {
   "cell_type": "code",
   "execution_count": 1,
   "metadata": {},
   "outputs": [
    {
     "name": "stdout",
     "output_type": "stream",
     "text": [
      "3.8.13\n",
      "['e:\\\\kaggle\\\\DLSprint_challenge\\\\scripst', 'c:\\\\Users\\\\tonmo\\\\.conda\\\\envs\\\\open-mmlab\\\\python38.zip', 'c:\\\\Users\\\\tonmo\\\\.conda\\\\envs\\\\open-mmlab\\\\DLLs', 'c:\\\\Users\\\\tonmo\\\\.conda\\\\envs\\\\open-mmlab\\\\lib', 'c:\\\\Users\\\\tonmo\\\\.conda\\\\envs\\\\open-mmlab', '', 'c:\\\\Users\\\\tonmo\\\\.conda\\\\envs\\\\open-mmlab\\\\lib\\\\site-packages', 'd:\\\\projects\\\\openmmlab\\\\ocronwindows\\\\mmocr', 'd:\\\\projects\\\\openmmlab\\\\windowslab\\\\mmdetection', 'd:\\\\projects\\\\openmmlab\\\\windowslab\\\\mmdetection\\\\src\\\\mmtrack', 'c:\\\\Users\\\\tonmo\\\\.conda\\\\envs\\\\open-mmlab\\\\lib\\\\site-packages\\\\win32', 'c:\\\\Users\\\\tonmo\\\\.conda\\\\envs\\\\open-mmlab\\\\lib\\\\site-packages\\\\win32\\\\lib', 'c:\\\\Users\\\\tonmo\\\\.conda\\\\envs\\\\open-mmlab\\\\lib\\\\site-packages\\\\Pythonwin']\n"
     ]
    }
   ],
   "source": [
    "import sys\n",
    "import platform\n",
    "print(platform.python_version())\n",
    "print(sys.path)"
   ]
  },
  {
   "cell_type": "code",
   "execution_count": 2,
   "metadata": {},
   "outputs": [
    {
     "name": "stdout",
     "output_type": "stream",
     "text": [
      "Thu Jul  7 14:25:20 2022       \n",
      "+-----------------------------------------------------------------------------+\n",
      "| NVIDIA-SMI 511.79       Driver Version: 511.79       CUDA Version: 11.6     |\n",
      "|-------------------------------+----------------------+----------------------+\n",
      "| GPU  Name            TCC/WDDM | Bus-Id        Disp.A | Volatile Uncorr. ECC |\n",
      "| Fan  Temp  Perf  Pwr:Usage/Cap|         Memory-Usage | GPU-Util  Compute M. |\n",
      "|                               |                      |               MIG M. |\n",
      "|===============================+======================+======================|\n",
      "|   0  NVIDIA GeForce ... WDDM  | 00000000:01:00.0  On |                  N/A |\n",
      "| 92%   44C    P8    27W / 200W |    927MiB /  8192MiB |      1%      Default |\n",
      "|                               |                      |                  N/A |\n",
      "+-------------------------------+----------------------+----------------------+\n",
      "                                                                               \n",
      "+-----------------------------------------------------------------------------+\n",
      "| Processes:                                                                  |\n",
      "|  GPU   GI   CI        PID   Type   Process name                  GPU Memory |\n",
      "|        ID   ID                                                   Usage      |\n",
      "|=============================================================================|\n",
      "|    0   N/A  N/A      1408    C+G                                   N/A      |\n",
      "|    0   N/A  N/A      1808    C+G   ...y\\ShellExperienceHost.exe    N/A      |\n",
      "|    0   N/A  N/A      2044    C+G   ...bbwe\\Microsoft.Photos.exe    N/A      |\n",
      "|    0   N/A  N/A      6864    C+G   ...me\\Application\\chrome.exe    N/A      |\n",
      "|    0   N/A  N/A      7312    C+G   C:\\Windows\\explorer.exe         N/A      |\n",
      "|    0   N/A  N/A      8040    C+G   ...lPanel\\SystemSettings.exe    N/A      |\n",
      "|    0   N/A  N/A      8568    C+G   ...artMenuExperienceHost.exe    N/A      |\n",
      "|    0   N/A  N/A      8820    C+G   ...n1h2txyewy\\SearchHost.exe    N/A      |\n",
      "|    0   N/A  N/A      9872    C+G   ...ekyb3d8bbwe\\YourPhone.exe    N/A      |\n",
      "|    0   N/A  N/A     10596    C+G   ...cw5n1h2txyewy\\LockApp.exe    N/A      |\n",
      "|    0   N/A  N/A     11760    C+G                                   N/A      |\n",
      "|    0   N/A  N/A     12196    C+G   ...n64\\EpicGamesLauncher.exe    N/A      |\n",
      "|    0   N/A  N/A     12524    C+G   ...\\app-1.0.9005\\Discord.exe    N/A      |\n",
      "|    0   N/A  N/A     13000    C+G   ...s\\Win64\\EpicWebHelper.exe    N/A      |\n",
      "|    0   N/A  N/A     13320    C+G   ...ge\\Application\\msedge.exe    N/A      |\n",
      "|    0   N/A  N/A     14152    C+G                                   N/A      |\n",
      "|    0   N/A  N/A     16052    C+G   ...264.49\\msedgewebview2.exe    N/A      |\n",
      "|    0   N/A  N/A     17140    C+G   ...icrosoft VS Code\\Code.exe    N/A      |\n",
      "+-----------------------------------------------------------------------------+\n"
     ]
    }
   ],
   "source": [
    "gpu_info = !nvidia-smi\n",
    "gpu_info = '\\n'.join(gpu_info)\n",
    "if gpu_info.find('failed') >= 0:\n",
    "    print('Not connected to a GPU')\n",
    "else:\n",
    "    print(gpu_info)"
   ]
  },
  {
   "cell_type": "code",
   "execution_count": 3,
   "metadata": {},
   "outputs": [
    {
     "name": "stdout",
     "output_type": "stream",
     "text": [
      "# packages in environment at C:\\Users\\tonmo\\.conda\\envs\\open-mmlab:\n",
      "#\n",
      "# Name                    Version                   Build  Channel\n",
      "absl-py                   1.1.0                    pypi_0    pypi\n",
      "addict                    2.4.0                    pypi_0    pypi\n",
      "anyio                     3.6.1            py38haa244fe_0    conda-forge\n",
      "appdirs                   1.4.4                    pypi_0    pypi\n",
      "asgiref                   3.5.2              pyhd8ed1ab_0    conda-forge\n",
      "asttokens                 2.0.5              pyhd3eb1b0_0  \n",
      "asynctest                 0.13.0                   pypi_0    pypi\n",
      "atomicwrites              1.4.0                    pypi_0    pypi\n",
      "attributee                0.1.5                    pypi_0    pypi\n",
      "attrs                     21.4.0                   pypi_0    pypi\n",
      "backcall                  0.2.0              pyhd3eb1b0_0  \n",
      "blas                      1.0                         mkl  \n",
      "brotlipy                  0.7.0           py38h2bbff1b_1003  \n",
      "ca-certificates           2022.6.15            h5b45459_0    conda-forge\n",
      "cachetools                5.2.0                    pypi_0    pypi\n",
      "certifi                   2022.6.15        py38haa244fe_0    conda-forge\n",
      "cffi                      1.15.0           py38h2bbff1b_1  \n",
      "charset-normalizer        2.0.4              pyhd3eb1b0_0  \n",
      "cityscapesscripts         2.2.0                    pypi_0    pypi\n",
      "click                     8.1.3            py38haa244fe_0    conda-forge\n",
      "codecov                   2.1.12                   pypi_0    pypi\n",
      "colorama                  0.4.5                    pypi_0    pypi\n",
      "coloredlogs               15.0.1                   pypi_0    pypi\n",
      "commonmark                0.9.1                    pypi_0    pypi\n",
      "coverage                  6.4.1                    pypi_0    pypi\n",
      "cryptography              37.0.1           py38h21b164f_0  \n",
      "cudatoolkit               11.3.1               h59b6b97_2  \n",
      "cudnn                     8.2.1                cuda11.3_0  \n",
      "cycler                    0.11.0                   pypi_0    pypi\n",
      "cython                    0.29.30                  pypi_0    pypi\n",
      "debugpy                   1.5.1            py38hd77b12b_0  \n",
      "decorator                 5.1.1              pyhd3eb1b0_0  \n",
      "dotty-dict                1.3.0                    pypi_0    pypi\n",
      "entrypoints               0.4              py38haa95532_0  \n",
      "executing                 0.8.3              pyhd3eb1b0_0  \n",
      "fastapi                   0.78.0             pyhd8ed1ab_0    conda-forge\n",
      "flake8                    4.0.1                    pypi_0    pypi\n",
      "flatbuffers               2.0                      pypi_0    pypi\n",
      "fonttools                 4.33.3                   pypi_0    pypi\n",
      "freetype                  2.10.4               hd328e21_0  \n",
      "future                    0.18.2                   pypi_0    pypi\n",
      "google-auth               2.8.0                    pypi_0    pypi\n",
      "google-auth-oauthlib      0.4.6                    pypi_0    pypi\n",
      "grpcio                    1.47.0                   pypi_0    pypi\n",
      "h11                       0.13.0             pyhd8ed1ab_1    conda-forge\n",
      "humanfriendly             10.0                     pypi_0    pypi\n",
      "idna                      3.3                pyhd3eb1b0_0  \n",
      "imagecorruptions          1.1.2                    pypi_0    pypi\n",
      "imageio                   2.19.3                   pypi_0    pypi\n",
      "imgaug                    0.4.0                    pypi_0    pypi\n",
      "importlib-metadata        4.12.0                   pypi_0    pypi\n",
      "importlib-resources       5.8.0                    pypi_0    pypi\n",
      "iniconfig                 1.1.1                    pypi_0    pypi\n",
      "intel-openmp              2021.4.0          haa95532_3556  \n",
      "interrogate               1.5.0                    pypi_0    pypi\n",
      "ipykernel                 6.9.1            py38haa95532_0  \n",
      "ipython                   8.3.0            py38haa95532_0  \n",
      "isort                     4.3.21                   pypi_0    pypi\n",
      "jaraco-classes            3.2.1                    pypi_0    pypi\n",
      "jaraco-collections        3.5.1                    pypi_0    pypi\n",
      "jaraco-context            4.1.1                    pypi_0    pypi\n",
      "jaraco-functools          3.5.0                    pypi_0    pypi\n",
      "jaraco-structures         2.1.0                    pypi_0    pypi\n",
      "jaraco-text               3.8.0                    pypi_0    pypi\n",
      "jaraco-ui                 2.3.0                    pypi_0    pypi\n",
      "jaraco-windows            5.7.0                    pypi_0    pypi\n",
      "jarowinkler               1.0.4                    pypi_0    pypi\n",
      "jedi                      0.18.1           py38haa95532_1  \n",
      "joblib                    1.1.0                    pypi_0    pypi\n",
      "jpeg                      9e                   h2bbff1b_0  \n",
      "jupyter_client            7.2.2            py38haa95532_0  \n",
      "jupyter_core              4.10.0           py38haa95532_0  \n",
      "kiwisolver                1.4.3                    pypi_0    pypi\n",
      "kwarray                   0.6.2                    pypi_0    pypi\n",
      "lanms-neo                 1.0.2                    pypi_0    pypi\n",
      "lap                       0.4.0                    pypi_0    pypi\n",
      "libpng                    1.6.37               h2a8f88b_0  \n",
      "libtiff                   4.2.0                he0120a3_1  \n",
      "libuv                     1.40.0               he774522_0  \n",
      "libwebp                   1.2.2                h2bbff1b_0  \n",
      "lmdb                      1.3.0                    pypi_0    pypi\n",
      "lz4-c                     1.9.3                h2bbff1b_1  \n",
      "markdown                  3.3.7                    pypi_0    pypi\n",
      "matplotlib                3.5.2                    pypi_0    pypi\n",
      "matplotlib-inline         0.1.2              pyhd3eb1b0_2  \n",
      "mccabe                    0.6.1                    pypi_0    pypi\n",
      "mkl                       2021.4.0           haa95532_640  \n",
      "mkl-service               2.4.0            py38h2bbff1b_0  \n",
      "mkl_fft                   1.3.1            py38h277e83a_0  \n",
      "mkl_random                1.2.2            py38hf11a4ad_0  \n",
      "mmcls                     0.23.1                   pypi_0    pypi\n",
      "mmcv-full                 1.5.0                    pypi_0    pypi\n",
      "mmdet                     2.25.0                    dev_0    <develop>\n",
      "mmocr                     0.6.0                     dev_0    <develop>\n",
      "mmtrack                   0.13.0                    dev_0    <develop>\n",
      "model-index               0.1.11                   pypi_0    pypi\n",
      "modelindex                0.0.2                    pypi_0    pypi\n",
      "more-itertools            8.13.0                   pypi_0    pypi\n",
      "motmetrics                1.2.5                    pypi_0    pypi\n",
      "nest-asyncio              1.5.5            py38haa95532_0  \n",
      "networkx                  2.8.4                    pypi_0    pypi\n",
      "numpy                     1.22.3           py38h7a0a035_0  \n",
      "numpy-base                1.22.3           py38hca35cd5_0  \n",
      "oauthlib                  3.2.0                    pypi_0    pypi\n",
      "onnx                      1.7.0                    pypi_0    pypi\n",
      "onnxruntime               1.11.1                   pypi_0    pypi\n",
      "opencv-python             4.6.0.66                 pypi_0    pypi\n",
      "openmim                   0.2.0                    pypi_0    pypi\n",
      "openssl                   1.1.1p               h8ffe710_0    conda-forge\n",
      "ordered-set               4.1.0                    pypi_0    pypi\n",
      "packaging                 21.3                     pypi_0    pypi\n",
      "pandas                    1.3.5                    pypi_0    pypi\n",
      "parso                     0.8.3              pyhd3eb1b0_0  "
     ]
    },
    {
     "name": "stdout",
     "output_type": "stream",
     "text": [
      "\n",
      "path                      16.4.0                   pypi_0    pypi\n",
      "pickleshare               0.7.5           pyhd3eb1b0_1003  \n",
      "pillow                    9.0.1            py38hdc2b20a_0  \n",
      "pip                       21.2.2           py38haa95532_0  \n",
      "pluggy                    1.0.0                    pypi_0    pypi\n",
      "prompt-toolkit            3.0.20             pyhd3eb1b0_0  \n",
      "protobuf                  3.19.4                   pypi_0    pypi\n",
      "pure_eval                 0.2.2              pyhd3eb1b0_0  \n",
      "py                        1.11.0                   pypi_0    pypi\n",
      "pyasn1                    0.4.8                    pypi_0    pypi\n",
      "pyasn1-modules            0.2.8                    pypi_0    pypi\n",
      "pyclipper                 1.3.0.post3              pypi_0    pypi\n",
      "pycocotools               2.0.2                    pypi_0    pypi\n",
      "pycodestyle               2.8.0                    pypi_0    pypi\n",
      "pycparser                 2.21               pyhd3eb1b0_0  \n",
      "pydantic                  1.9.1            py38h294d835_0    conda-forge\n",
      "pyflakes                  2.4.0                    pypi_0    pypi\n",
      "pygments                  2.11.2             pyhd3eb1b0_0  \n",
      "pyopenssl                 22.0.0             pyhd3eb1b0_0  \n",
      "pyparsing                 3.0.9                    pypi_0    pypi\n",
      "pyquaternion              0.9.9                    pypi_0    pypi\n",
      "pyreadline3               3.4.1                    pypi_0    pypi\n",
      "pysocks                   1.7.1            py38haa95532_0  \n",
      "pytest                    7.1.2                    pypi_0    pypi\n",
      "pytest-cov                3.0.0                    pypi_0    pypi\n",
      "pytest-runner             6.0.0                    pypi_0    pypi\n",
      "python                    3.8.13               h6244533_0  \n",
      "python-dateutil           2.8.2              pyhd3eb1b0_0  \n",
      "python_abi                3.8                      2_cp38    conda-forge\n",
      "pytorch                   1.11.0          py3.8_cuda11.3_cudnn8_0    pytorch\n",
      "pytorch-mutex             1.0                        cuda    pytorch\n",
      "pytz                      2022.1                   pypi_0    pypi\n",
      "pywavelets                1.3.0                    pypi_0    pypi\n",
      "pywin32                   302              py38h2bbff1b_2  \n",
      "pyyaml                    6.0                      pypi_0    pypi\n",
      "pyzmq                     22.3.0           py38hd77b12b_2  \n",
      "rapidfuzz                 2.0.15                   pypi_0    pypi\n",
      "regex                     2022.6.2                 pypi_0    pypi\n",
      "requests                  2.27.1             pyhd3eb1b0_0  \n",
      "requests-oauthlib         1.3.1                    pypi_0    pypi\n",
      "rich                      12.4.4                   pypi_0    pypi\n",
      "rsa                       4.8                      pypi_0    pypi\n",
      "scikit-image              0.19.3                   pypi_0    pypi\n",
      "scikit-learn              1.1.1                    pypi_0    pypi\n",
      "scipy                     1.7.3                    pypi_0    pypi\n",
      "seaborn                   0.11.2                   pypi_0    pypi\n",
      "setuptools                61.2.0           py38haa95532_0  \n",
      "setuptools-scm            7.0.2                    pypi_0    pypi\n",
      "shapely                   1.8.2                    pypi_0    pypi\n",
      "six                       1.16.0             pyhd3eb1b0_1  \n",
      "sklearn                   0.0                      pypi_0    pypi\n",
      "sniffio                   1.2.0            py38haa244fe_3    conda-forge\n",
      "sqlite                    3.38.5               h2bbff1b_0  \n",
      "stack_data                0.2.0              pyhd3eb1b0_0  \n",
      "starlette                 0.19.1             pyhd8ed1ab_0    conda-forge\n",
      "tabulate                  0.8.10                   pypi_0    pypi\n",
      "tensorboard               2.9.1                    pypi_0    pypi\n",
      "tensorboard-data-server   0.6.1                    pypi_0    pypi\n",
      "tensorboard-plugin-wit    1.8.1                    pypi_0    pypi\n",
      "terminaltables            3.1.10                   pypi_0    pypi\n",
      "threadpoolctl             3.1.0                    pypi_0    pypi\n",
      "tifffile                  2022.5.4                 pypi_0    pypi\n",
      "timm                      0.5.4                    pypi_0    pypi\n",
      "tk                        8.6.12               h2bbff1b_0  \n",
      "toml                      0.10.2                   pypi_0    pypi\n",
      "tomli                     2.0.1                    pypi_0    pypi\n",
      "torch-tb-profiler         0.4.0                    pypi_0    pypi\n",
      "torchaudio                0.11.0               py38_cu113    pytorch\n",
      "torchvision               0.12.0               py38_cu113    pytorch\n",
      "tornado                   6.1              py38h2bbff1b_0  \n",
      "tqdm                      4.64.0                   pypi_0    pypi\n",
      "traitlets                 5.1.1              pyhd3eb1b0_0  \n",
      "typing                    3.7.4.3                  pypi_0    pypi\n",
      "typing-extensions         4.1.1                hd3eb1b0_0  \n",
      "typing_extensions         4.1.1              pyh06a4308_0  \n",
      "ubelt                     1.1.1                    pypi_0    pypi\n",
      "urllib3                   1.26.9           py38haa95532_0  \n",
      "uvicorn                   0.17.6           py38haa244fe_1    conda-forge\n",
      "vc                        14.2                 h21ff451_1  \n",
      "vs2015_runtime            14.27.29016          h5e58377_2  \n",
      "wcwidth                   0.2.5              pyhd3eb1b0_0  \n",
      "werkzeug                  2.1.2                    pypi_0    pypi\n",
      "wheel                     0.37.1             pyhd3eb1b0_0  \n",
      "win_inet_pton             1.1.0            py38haa95532_0  \n",
      "wincertstore              0.2              py38haa95532_2  \n",
      "xdoctest                  1.0.0                    pypi_0    pypi\n",
      "xmltodict                 0.13.0                   pypi_0    pypi\n",
      "xz                        5.2.5                h8cc25b3_1  \n",
      "yapf                      0.32.0                   pypi_0    pypi\n",
      "zipp                      3.8.0                    pypi_0    pypi\n",
      "zlib                      1.2.12               h8cc25b3_2  \n",
      "zstd                      1.5.2                h19a0ad4_0  \n"
     ]
    }
   ],
   "source": [
    "!conda list"
   ]
  },
  {
   "cell_type": "code",
   "execution_count": 4,
   "metadata": {},
   "outputs": [
    {
     "name": "stdout",
     "output_type": "stream",
     "text": [
      "Collecting jiwer\n",
      "  Downloading jiwer-2.3.0-py3-none-any.whl (15 kB)\n",
      "Collecting python-Levenshtein==0.12.2\n",
      "  Using cached python_Levenshtein-0.12.2-cp38-cp38-win_amd64.whl\n",
      "Requirement already satisfied: setuptools in c:\\users\\tonmo\\.conda\\envs\\open-mmlab\\lib\\site-packages (from python-Levenshtein==0.12.2->jiwer) (61.2.0)\n",
      "Installing collected packages: python-Levenshtein, jiwer\n",
      "Successfully installed jiwer-2.3.0 python-Levenshtein-0.12.2\n"
     ]
    }
   ],
   "source": [
    "%%capture\n",
    "!pip install datasets\n",
    "!pip install transformers\n",
    "!pip install torchaudio\n",
    "!pip install jiwer"
   ]
  },
  {
   "cell_type": "code",
   "execution_count": 3,
   "metadata": {},
   "outputs": [
    {
     "name": "stderr",
     "output_type": "stream",
     "text": [
      "c:\\Users\\tonmo\\.conda\\envs\\open-mmlab\\lib\\site-packages\\tqdm\\auto.py:22: TqdmWarning: IProgress not found. Please update jupyter and ipywidgets. See https://ipywidgets.readthedocs.io/en/stable/user_install.html\n",
      "  from .autonotebook import tqdm as notebook_tqdm\n",
      "Reusing dataset cvbn (C:\\Users\\tonmo\\.cache\\huggingface\\datasets\\bengaliAI___cvbn\\bn\\9.0.0\\87d0f829e4c25e6138fccec70a352eb556b9093ccb3d68714983c4d1fe983424)\n",
      "100%|██████████| 3/3 [00:00<00:00, 23.26it/s]\n"
     ]
    }
   ],
   "source": [
    "from datasets import load_dataset, load_metric, Audio\n",
    "dataset=load_dataset(\"bengaliAI/cvbn\", \"bn\")"
   ]
  },
  {
   "cell_type": "code",
   "execution_count": null,
   "metadata": {},
   "outputs": [],
   "source": [
    "from datasets import list_datasets, load_dataset, list_metrics, load_metric\n",
    "\n",
    "# Print all the available datasets\n",
    "print(list_datasets())"
   ]
  },
  {
   "cell_type": "code",
   "execution_count": 4,
   "metadata": {},
   "outputs": [],
   "source": [
    "common_voice_train=dataset[\"train\"]\n",
    "common_voice_test=dataset[\"validation\"]"
   ]
  },
  {
   "cell_type": "code",
   "execution_count": null,
   "metadata": {},
   "outputs": [],
   "source": [
    "# common_voice_train['segment']"
   ]
  },
  {
   "cell_type": "code",
   "execution_count": 5,
   "metadata": {},
   "outputs": [],
   "source": [
    "common_voice_train = common_voice_train.remove_columns([\"accent\", \"age\", \"client_id\", \"down_votes\", \"gender\", \"locale\", \"segment\", \"up_votes\"])\n",
    "common_voice_test = common_voice_test.remove_columns([\"accent\", \"age\", \"client_id\", \"down_votes\", \"gender\", \"locale\", \"segment\", \"up_votes\"])"
   ]
  },
  {
   "cell_type": "code",
   "execution_count": 6,
   "metadata": {},
   "outputs": [
    {
     "data": {
      "text/plain": [
       "Dataset({\n",
       "    features: ['path', 'audio', 'sentence'],\n",
       "    num_rows: 206951\n",
       "})"
      ]
     },
     "execution_count": 6,
     "metadata": {},
     "output_type": "execute_result"
    }
   ],
   "source": [
    "common_voice_train"
   ]
  },
  {
   "cell_type": "code",
   "execution_count": 7,
   "metadata": {},
   "outputs": [
    {
     "ename": "ImportError",
     "evalue": "To support decoding 'mp3' audio files, please install 'sox'.",
     "output_type": "error",
     "traceback": [
      "\u001b[1;31m---------------------------------------------------------------------------\u001b[0m",
      "\u001b[1;31mRuntimeError\u001b[0m                              Traceback (most recent call last)",
      "File \u001b[1;32mc:\\Users\\tonmo\\.conda\\envs\\open-mmlab\\lib\\site-packages\\datasets\\features\\audio.py:269\u001b[0m, in \u001b[0;36mAudio._decode_mp3\u001b[1;34m(self, path_or_file)\u001b[0m\n\u001b[0;32m    268\u001b[0m \u001b[39mtry\u001b[39;00m:\n\u001b[1;32m--> 269\u001b[0m     torchaudio\u001b[39m.\u001b[39;49mset_audio_backend(\u001b[39m\"\u001b[39;49m\u001b[39msox_io\u001b[39;49m\u001b[39m\"\u001b[39;49m)\n\u001b[0;32m    270\u001b[0m \u001b[39mexcept\u001b[39;00m \u001b[39mRuntimeError\u001b[39;00m \u001b[39mas\u001b[39;00m err:\n",
      "File \u001b[1;32mc:\\Users\\tonmo\\.conda\\envs\\open-mmlab\\lib\\site-packages\\torchaudio\\backend\\utils.py:44\u001b[0m, in \u001b[0;36mset_audio_backend\u001b[1;34m(backend)\u001b[0m\n\u001b[0;32m     43\u001b[0m \u001b[39mif\u001b[39;00m backend \u001b[39mis\u001b[39;00m \u001b[39mnot\u001b[39;00m \u001b[39mNone\u001b[39;00m \u001b[39mand\u001b[39;00m backend \u001b[39mnot\u001b[39;00m \u001b[39min\u001b[39;00m list_audio_backends():\n\u001b[1;32m---> 44\u001b[0m     \u001b[39mraise\u001b[39;00m \u001b[39mRuntimeError\u001b[39;00m(\u001b[39mf\u001b[39m\u001b[39m'\u001b[39m\u001b[39mBackend \u001b[39m\u001b[39m\"\u001b[39m\u001b[39m{\u001b[39;00mbackend\u001b[39m}\u001b[39;00m\u001b[39m\"\u001b[39m\u001b[39m is not one of \u001b[39m\u001b[39m'\u001b[39m \u001b[39mf\u001b[39m\u001b[39m\"\u001b[39m\u001b[39mavailable backends: \u001b[39m\u001b[39m{\u001b[39;00mlist_audio_backends()\u001b[39m}\u001b[39;00m\u001b[39m.\u001b[39m\u001b[39m\"\u001b[39m)\n\u001b[0;32m     46\u001b[0m \u001b[39mif\u001b[39;00m backend \u001b[39mis\u001b[39;00m \u001b[39mNone\u001b[39;00m:\n",
      "\u001b[1;31mRuntimeError\u001b[0m: Backend \"sox_io\" is not one of available backends: ['soundfile'].",
      "\nThe above exception was the direct cause of the following exception:\n",
      "\u001b[1;31mImportError\u001b[0m                               Traceback (most recent call last)",
      "\u001b[1;32me:\\kaggle\\DLSprint_challenge\\scripst\\code_test.ipynb Cell 12'\u001b[0m in \u001b[0;36m<cell line: 1>\u001b[1;34m()\u001b[0m\n\u001b[1;32m----> <a href='vscode-notebook-cell:/e%3A/kaggle/DLSprint_challenge/scripst/code_test.ipynb#ch0000011?line=0'>1</a>\u001b[0m common_voice_train[\u001b[39m0\u001b[39;49m]\n",
      "File \u001b[1;32mc:\\Users\\tonmo\\.conda\\envs\\open-mmlab\\lib\\site-packages\\datasets\\arrow_dataset.py:2154\u001b[0m, in \u001b[0;36mDataset.__getitem__\u001b[1;34m(self, key)\u001b[0m\n\u001b[0;32m   2152\u001b[0m \u001b[39mdef\u001b[39;00m \u001b[39m__getitem__\u001b[39m(\u001b[39mself\u001b[39m, key):  \u001b[39m# noqa: F811\u001b[39;00m\n\u001b[0;32m   2153\u001b[0m     \u001b[39m\"\"\"Can be used to index columns (by string names) or rows (by integer index or iterable of indices or bools).\"\"\"\u001b[39;00m\n\u001b[1;32m-> 2154\u001b[0m     \u001b[39mreturn\u001b[39;00m \u001b[39mself\u001b[39;49m\u001b[39m.\u001b[39;49m_getitem(\n\u001b[0;32m   2155\u001b[0m         key,\n\u001b[0;32m   2156\u001b[0m     )\n",
      "File \u001b[1;32mc:\\Users\\tonmo\\.conda\\envs\\open-mmlab\\lib\\site-packages\\datasets\\arrow_dataset.py:2139\u001b[0m, in \u001b[0;36mDataset._getitem\u001b[1;34m(self, key, decoded, **kwargs)\u001b[0m\n\u001b[0;32m   2137\u001b[0m formatter \u001b[39m=\u001b[39m get_formatter(format_type, features\u001b[39m=\u001b[39m\u001b[39mself\u001b[39m\u001b[39m.\u001b[39mfeatures, decoded\u001b[39m=\u001b[39mdecoded, \u001b[39m*\u001b[39m\u001b[39m*\u001b[39mformat_kwargs)\n\u001b[0;32m   2138\u001b[0m pa_subtable \u001b[39m=\u001b[39m query_table(\u001b[39mself\u001b[39m\u001b[39m.\u001b[39m_data, key, indices\u001b[39m=\u001b[39m\u001b[39mself\u001b[39m\u001b[39m.\u001b[39m_indices \u001b[39mif\u001b[39;00m \u001b[39mself\u001b[39m\u001b[39m.\u001b[39m_indices \u001b[39mis\u001b[39;00m \u001b[39mnot\u001b[39;00m \u001b[39mNone\u001b[39;00m \u001b[39melse\u001b[39;00m \u001b[39mNone\u001b[39;00m)\n\u001b[1;32m-> 2139\u001b[0m formatted_output \u001b[39m=\u001b[39m format_table(\n\u001b[0;32m   2140\u001b[0m     pa_subtable, key, formatter\u001b[39m=\u001b[39;49mformatter, format_columns\u001b[39m=\u001b[39;49mformat_columns, output_all_columns\u001b[39m=\u001b[39;49moutput_all_columns\n\u001b[0;32m   2141\u001b[0m )\n\u001b[0;32m   2142\u001b[0m \u001b[39mreturn\u001b[39;00m formatted_output\n",
      "File \u001b[1;32mc:\\Users\\tonmo\\.conda\\envs\\open-mmlab\\lib\\site-packages\\datasets\\formatting\\formatting.py:532\u001b[0m, in \u001b[0;36mformat_table\u001b[1;34m(table, key, formatter, format_columns, output_all_columns)\u001b[0m\n\u001b[0;32m    530\u001b[0m python_formatter \u001b[39m=\u001b[39m PythonFormatter(features\u001b[39m=\u001b[39m\u001b[39mNone\u001b[39;00m)\n\u001b[0;32m    531\u001b[0m \u001b[39mif\u001b[39;00m format_columns \u001b[39mis\u001b[39;00m \u001b[39mNone\u001b[39;00m:\n\u001b[1;32m--> 532\u001b[0m     \u001b[39mreturn\u001b[39;00m formatter(pa_table, query_type\u001b[39m=\u001b[39;49mquery_type)\n\u001b[0;32m    533\u001b[0m \u001b[39melif\u001b[39;00m query_type \u001b[39m==\u001b[39m \u001b[39m\"\u001b[39m\u001b[39mcolumn\u001b[39m\u001b[39m\"\u001b[39m:\n\u001b[0;32m    534\u001b[0m     \u001b[39mif\u001b[39;00m key \u001b[39min\u001b[39;00m format_columns:\n",
      "File \u001b[1;32mc:\\Users\\tonmo\\.conda\\envs\\open-mmlab\\lib\\site-packages\\datasets\\formatting\\formatting.py:281\u001b[0m, in \u001b[0;36mFormatter.__call__\u001b[1;34m(self, pa_table, query_type)\u001b[0m\n\u001b[0;32m    279\u001b[0m \u001b[39mdef\u001b[39;00m \u001b[39m__call__\u001b[39m(\u001b[39mself\u001b[39m, pa_table: pa\u001b[39m.\u001b[39mTable, query_type: \u001b[39mstr\u001b[39m) \u001b[39m-\u001b[39m\u001b[39m>\u001b[39m Union[RowFormat, ColumnFormat, BatchFormat]:\n\u001b[0;32m    280\u001b[0m     \u001b[39mif\u001b[39;00m query_type \u001b[39m==\u001b[39m \u001b[39m\"\u001b[39m\u001b[39mrow\u001b[39m\u001b[39m\"\u001b[39m:\n\u001b[1;32m--> 281\u001b[0m         \u001b[39mreturn\u001b[39;00m \u001b[39mself\u001b[39;49m\u001b[39m.\u001b[39;49mformat_row(pa_table)\n\u001b[0;32m    282\u001b[0m     \u001b[39melif\u001b[39;00m query_type \u001b[39m==\u001b[39m \u001b[39m\"\u001b[39m\u001b[39mcolumn\u001b[39m\u001b[39m\"\u001b[39m:\n\u001b[0;32m    283\u001b[0m         \u001b[39mreturn\u001b[39;00m \u001b[39mself\u001b[39m\u001b[39m.\u001b[39mformat_column(pa_table)\n",
      "File \u001b[1;32mc:\\Users\\tonmo\\.conda\\envs\\open-mmlab\\lib\\site-packages\\datasets\\formatting\\formatting.py:312\u001b[0m, in \u001b[0;36mPythonFormatter.format_row\u001b[1;34m(self, pa_table)\u001b[0m\n\u001b[0;32m    310\u001b[0m row \u001b[39m=\u001b[39m \u001b[39mself\u001b[39m\u001b[39m.\u001b[39mpython_arrow_extractor()\u001b[39m.\u001b[39mextract_row(pa_table)\n\u001b[0;32m    311\u001b[0m \u001b[39mif\u001b[39;00m \u001b[39mself\u001b[39m\u001b[39m.\u001b[39mdecoded:\n\u001b[1;32m--> 312\u001b[0m     row \u001b[39m=\u001b[39m \u001b[39mself\u001b[39;49m\u001b[39m.\u001b[39;49mpython_features_decoder\u001b[39m.\u001b[39;49mdecode_row(row)\n\u001b[0;32m    313\u001b[0m \u001b[39mreturn\u001b[39;00m row\n",
      "File \u001b[1;32mc:\\Users\\tonmo\\.conda\\envs\\open-mmlab\\lib\\site-packages\\datasets\\formatting\\formatting.py:221\u001b[0m, in \u001b[0;36mPythonFeaturesDecoder.decode_row\u001b[1;34m(self, row)\u001b[0m\n\u001b[0;32m    220\u001b[0m \u001b[39mdef\u001b[39;00m \u001b[39mdecode_row\u001b[39m(\u001b[39mself\u001b[39m, row: \u001b[39mdict\u001b[39m) \u001b[39m-\u001b[39m\u001b[39m>\u001b[39m \u001b[39mdict\u001b[39m:\n\u001b[1;32m--> 221\u001b[0m     \u001b[39mreturn\u001b[39;00m \u001b[39mself\u001b[39;49m\u001b[39m.\u001b[39;49mfeatures\u001b[39m.\u001b[39;49mdecode_example(row) \u001b[39mif\u001b[39;00m \u001b[39mself\u001b[39m\u001b[39m.\u001b[39mfeatures \u001b[39melse\u001b[39;00m row\n",
      "File \u001b[1;32mc:\\Users\\tonmo\\.conda\\envs\\open-mmlab\\lib\\site-packages\\datasets\\features\\features.py:1612\u001b[0m, in \u001b[0;36mFeatures.decode_example\u001b[1;34m(self, example, token_per_repo_id)\u001b[0m\n\u001b[0;32m   1599\u001b[0m \u001b[39mdef\u001b[39;00m \u001b[39mdecode_example\u001b[39m(\u001b[39mself\u001b[39m, example: \u001b[39mdict\u001b[39m, token_per_repo_id\u001b[39m=\u001b[39m\u001b[39mNone\u001b[39;00m):\n\u001b[0;32m   1600\u001b[0m     \u001b[39m\"\"\"Decode example with custom feature decoding.\u001b[39;00m\n\u001b[0;32m   1601\u001b[0m \n\u001b[0;32m   1602\u001b[0m \u001b[39m    Args:\u001b[39;00m\n\u001b[1;32m   (...)\u001b[0m\n\u001b[0;32m   1609\u001b[0m \u001b[39m        :obj:`dict[str, Any]`\u001b[39;00m\n\u001b[0;32m   1610\u001b[0m \u001b[39m    \"\"\"\u001b[39;00m\n\u001b[1;32m-> 1612\u001b[0m     \u001b[39mreturn\u001b[39;00m {\n\u001b[0;32m   1613\u001b[0m         column_name: decode_nested_example(feature, value, token_per_repo_id\u001b[39m=\u001b[39mtoken_per_repo_id)\n\u001b[0;32m   1614\u001b[0m         \u001b[39mif\u001b[39;00m \u001b[39mself\u001b[39m\u001b[39m.\u001b[39m_column_requires_decoding[column_name]\n\u001b[0;32m   1615\u001b[0m         \u001b[39melse\u001b[39;00m value\n\u001b[0;32m   1616\u001b[0m         \u001b[39mfor\u001b[39;00m column_name, (feature, value) \u001b[39min\u001b[39;00m zip_dict(\n\u001b[0;32m   1617\u001b[0m             {key: value \u001b[39mfor\u001b[39;00m key, value \u001b[39min\u001b[39;00m \u001b[39mself\u001b[39m\u001b[39m.\u001b[39mitems() \u001b[39mif\u001b[39;00m key \u001b[39min\u001b[39;00m example}, example\n\u001b[0;32m   1618\u001b[0m         )\n\u001b[0;32m   1619\u001b[0m     }\n",
      "File \u001b[1;32mc:\\Users\\tonmo\\.conda\\envs\\open-mmlab\\lib\\site-packages\\datasets\\features\\features.py:1613\u001b[0m, in \u001b[0;36m<dictcomp>\u001b[1;34m(.0)\u001b[0m\n\u001b[0;32m   1599\u001b[0m \u001b[39mdef\u001b[39;00m \u001b[39mdecode_example\u001b[39m(\u001b[39mself\u001b[39m, example: \u001b[39mdict\u001b[39m, token_per_repo_id\u001b[39m=\u001b[39m\u001b[39mNone\u001b[39;00m):\n\u001b[0;32m   1600\u001b[0m     \u001b[39m\"\"\"Decode example with custom feature decoding.\u001b[39;00m\n\u001b[0;32m   1601\u001b[0m \n\u001b[0;32m   1602\u001b[0m \u001b[39m    Args:\u001b[39;00m\n\u001b[1;32m   (...)\u001b[0m\n\u001b[0;32m   1609\u001b[0m \u001b[39m        :obj:`dict[str, Any]`\u001b[39;00m\n\u001b[0;32m   1610\u001b[0m \u001b[39m    \"\"\"\u001b[39;00m\n\u001b[0;32m   1612\u001b[0m     \u001b[39mreturn\u001b[39;00m {\n\u001b[1;32m-> 1613\u001b[0m         column_name: decode_nested_example(feature, value, token_per_repo_id\u001b[39m=\u001b[39;49mtoken_per_repo_id)\n\u001b[0;32m   1614\u001b[0m         \u001b[39mif\u001b[39;00m \u001b[39mself\u001b[39m\u001b[39m.\u001b[39m_column_requires_decoding[column_name]\n\u001b[0;32m   1615\u001b[0m         \u001b[39melse\u001b[39;00m value\n\u001b[0;32m   1616\u001b[0m         \u001b[39mfor\u001b[39;00m column_name, (feature, value) \u001b[39min\u001b[39;00m zip_dict(\n\u001b[0;32m   1617\u001b[0m             {key: value \u001b[39mfor\u001b[39;00m key, value \u001b[39min\u001b[39;00m \u001b[39mself\u001b[39m\u001b[39m.\u001b[39mitems() \u001b[39mif\u001b[39;00m key \u001b[39min\u001b[39;00m example}, example\n\u001b[0;32m   1618\u001b[0m         )\n\u001b[0;32m   1619\u001b[0m     }\n",
      "File \u001b[1;32mc:\\Users\\tonmo\\.conda\\envs\\open-mmlab\\lib\\site-packages\\datasets\\features\\features.py:1243\u001b[0m, in \u001b[0;36mdecode_nested_example\u001b[1;34m(schema, obj, token_per_repo_id)\u001b[0m\n\u001b[0;32m   1240\u001b[0m \u001b[39m# Object with special decoding:\u001b[39;00m\n\u001b[0;32m   1241\u001b[0m \u001b[39melif\u001b[39;00m \u001b[39misinstance\u001b[39m(schema, (Audio, Image)):\n\u001b[0;32m   1242\u001b[0m     \u001b[39m# we pass the token to read and decode files from private repositories in streaming mode\u001b[39;00m\n\u001b[1;32m-> 1243\u001b[0m     \u001b[39mreturn\u001b[39;00m schema\u001b[39m.\u001b[39;49mdecode_example(obj, token_per_repo_id\u001b[39m=\u001b[39;49mtoken_per_repo_id) \u001b[39mif\u001b[39;00m obj \u001b[39mis\u001b[39;00m \u001b[39mnot\u001b[39;00m \u001b[39mNone\u001b[39;00m \u001b[39melse\u001b[39;00m \u001b[39mNone\u001b[39;00m\n\u001b[0;32m   1244\u001b[0m \u001b[39mreturn\u001b[39;00m obj\n",
      "File \u001b[1;32mc:\\Users\\tonmo\\.conda\\envs\\open-mmlab\\lib\\site-packages\\datasets\\features\\audio.py:126\u001b[0m, in \u001b[0;36mAudio.decode_example\u001b[1;34m(self, value, token_per_repo_id)\u001b[0m\n\u001b[0;32m    124\u001b[0m     \u001b[39mraise\u001b[39;00m \u001b[39mValueError\u001b[39;00m(\u001b[39mf\u001b[39m\u001b[39m\"\u001b[39m\u001b[39mAn audio sample should have one of \u001b[39m\u001b[39m'\u001b[39m\u001b[39mpath\u001b[39m\u001b[39m'\u001b[39m\u001b[39m or \u001b[39m\u001b[39m'\u001b[39m\u001b[39mbytes\u001b[39m\u001b[39m'\u001b[39m\u001b[39m but both are None in \u001b[39m\u001b[39m{\u001b[39;00mvalue\u001b[39m}\u001b[39;00m\u001b[39m.\u001b[39m\u001b[39m\"\u001b[39m)\n\u001b[0;32m    125\u001b[0m \u001b[39melif\u001b[39;00m path \u001b[39mis\u001b[39;00m \u001b[39mnot\u001b[39;00m \u001b[39mNone\u001b[39;00m \u001b[39mand\u001b[39;00m path\u001b[39m.\u001b[39mendswith(\u001b[39m\"\u001b[39m\u001b[39mmp3\u001b[39m\u001b[39m\"\u001b[39m):\n\u001b[1;32m--> 126\u001b[0m     array, sampling_rate \u001b[39m=\u001b[39m \u001b[39mself\u001b[39;49m\u001b[39m.\u001b[39;49m_decode_mp3(file \u001b[39mif\u001b[39;49;00m file \u001b[39melse\u001b[39;49;00m path)\n\u001b[0;32m    127\u001b[0m \u001b[39melif\u001b[39;00m path \u001b[39mis\u001b[39;00m \u001b[39mnot\u001b[39;00m \u001b[39mNone\u001b[39;00m \u001b[39mand\u001b[39;00m path\u001b[39m.\u001b[39mendswith(\u001b[39m\"\u001b[39m\u001b[39mopus\u001b[39m\u001b[39m\"\u001b[39m):\n\u001b[0;32m    128\u001b[0m     \u001b[39mif\u001b[39;00m file:\n",
      "File \u001b[1;32mc:\\Users\\tonmo\\.conda\\envs\\open-mmlab\\lib\\site-packages\\datasets\\features\\audio.py:271\u001b[0m, in \u001b[0;36mAudio._decode_mp3\u001b[1;34m(self, path_or_file)\u001b[0m\n\u001b[0;32m    269\u001b[0m     torchaudio\u001b[39m.\u001b[39mset_audio_backend(\u001b[39m\"\u001b[39m\u001b[39msox_io\u001b[39m\u001b[39m\"\u001b[39m)\n\u001b[0;32m    270\u001b[0m \u001b[39mexcept\u001b[39;00m \u001b[39mRuntimeError\u001b[39;00m \u001b[39mas\u001b[39;00m err:\n\u001b[1;32m--> 271\u001b[0m     \u001b[39mraise\u001b[39;00m \u001b[39mImportError\u001b[39;00m(\u001b[39m\"\u001b[39m\u001b[39mTo support decoding \u001b[39m\u001b[39m'\u001b[39m\u001b[39mmp3\u001b[39m\u001b[39m'\u001b[39m\u001b[39m audio files, please install \u001b[39m\u001b[39m'\u001b[39m\u001b[39msox\u001b[39m\u001b[39m'\u001b[39m\u001b[39m.\u001b[39m\u001b[39m\"\u001b[39m) \u001b[39mfrom\u001b[39;00m \u001b[39merr\u001b[39;00m\n\u001b[0;32m    273\u001b[0m array, sampling_rate \u001b[39m=\u001b[39m torchaudio\u001b[39m.\u001b[39mload(path_or_file, \u001b[39mformat\u001b[39m\u001b[39m=\u001b[39m\u001b[39m\"\u001b[39m\u001b[39mmp3\u001b[39m\u001b[39m\"\u001b[39m)\n\u001b[0;32m    274\u001b[0m \u001b[39mif\u001b[39;00m \u001b[39mself\u001b[39m\u001b[39m.\u001b[39msampling_rate \u001b[39mand\u001b[39;00m \u001b[39mself\u001b[39m\u001b[39m.\u001b[39msampling_rate \u001b[39m!=\u001b[39m sampling_rate:\n",
      "\u001b[1;31mImportError\u001b[0m: To support decoding 'mp3' audio files, please install 'sox'."
     ]
    }
   ],
   "source": [
    "common_voice_train[0]"
   ]
  },
  {
   "cell_type": "code",
   "execution_count": null,
   "metadata": {},
   "outputs": [],
   "source": []
  }
 ],
 "metadata": {
  "kernelspec": {
   "display_name": "Python 3.8.13 ('open-mmlab')",
   "language": "python",
   "name": "python3"
  },
  "language_info": {
   "codemirror_mode": {
    "name": "ipython",
    "version": 3
   },
   "file_extension": ".py",
   "mimetype": "text/x-python",
   "name": "python",
   "nbconvert_exporter": "python",
   "pygments_lexer": "ipython3",
   "version": "3.8.13"
  },
  "orig_nbformat": 4,
  "vscode": {
   "interpreter": {
    "hash": "e1611e328d9ce540a72720ddfd7d51bd2ff21548f455827874db30256d5360e0"
   }
  }
 },
 "nbformat": 4,
 "nbformat_minor": 2
}

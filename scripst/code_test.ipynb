{
 "cells": [
  {
   "cell_type": "markdown",
   "metadata": {},
   "source": [
    "## Imports"
   ]
  },
  {
   "cell_type": "code",
   "execution_count": 1,
   "metadata": {},
   "outputs": [
    {
     "name": "stdout",
     "output_type": "stream",
     "text": [
      "3.8.13\n",
      "['e:\\\\kaggle\\\\DLSprint_challenge\\\\scripst', 'c:\\\\Users\\\\tonmo\\\\.conda\\\\envs\\\\open-mmlab\\\\python38.zip', 'c:\\\\Users\\\\tonmo\\\\.conda\\\\envs\\\\open-mmlab\\\\DLLs', 'c:\\\\Users\\\\tonmo\\\\.conda\\\\envs\\\\open-mmlab\\\\lib', 'c:\\\\Users\\\\tonmo\\\\.conda\\\\envs\\\\open-mmlab', '', 'c:\\\\Users\\\\tonmo\\\\.conda\\\\envs\\\\open-mmlab\\\\lib\\\\site-packages', 'd:\\\\projects\\\\openmmlab\\\\ocronwindows\\\\mmocr', 'd:\\\\projects\\\\openmmlab\\\\windowslab\\\\mmdetection', 'd:\\\\projects\\\\openmmlab\\\\windowslab\\\\mmdetection\\\\src\\\\mmtrack', 'c:\\\\Users\\\\tonmo\\\\.conda\\\\envs\\\\open-mmlab\\\\lib\\\\site-packages\\\\win32', 'c:\\\\Users\\\\tonmo\\\\.conda\\\\envs\\\\open-mmlab\\\\lib\\\\site-packages\\\\win32\\\\lib', 'c:\\\\Users\\\\tonmo\\\\.conda\\\\envs\\\\open-mmlab\\\\lib\\\\site-packages\\\\Pythonwin']\n"
     ]
    }
   ],
   "source": [
    "import sys\n",
    "import platform\n",
    "print(platform.python_version())\n",
    "print(sys.path)"
   ]
  },
  {
   "cell_type": "code",
   "execution_count": 2,
   "metadata": {},
   "outputs": [
    {
     "name": "stdout",
     "output_type": "stream",
     "text": [
      "Wed Jul  6 16:00:07 2022       \n",
      "+-----------------------------------------------------------------------------+\n",
      "| NVIDIA-SMI 511.79       Driver Version: 511.79       CUDA Version: 11.6     |\n",
      "|-------------------------------+----------------------+----------------------+\n",
      "| GPU  Name            TCC/WDDM | Bus-Id        Disp.A | Volatile Uncorr. ECC |\n",
      "| Fan  Temp  Perf  Pwr:Usage/Cap|         Memory-Usage | GPU-Util  Compute M. |\n",
      "|                               |                      |               MIG M. |\n",
      "|===============================+======================+======================|\n",
      "|   0  NVIDIA GeForce ... WDDM  | 00000000:01:00.0  On |                  N/A |\n",
      "|  0%   44C    P8    24W / 200W |   1364MiB /  8192MiB |      2%      Default |\n",
      "|                               |                      |                  N/A |\n",
      "+-------------------------------+----------------------+----------------------+\n",
      "                                                                               \n",
      "+-----------------------------------------------------------------------------+\n",
      "| Processes:                                                                  |\n",
      "|  GPU   GI   CI        PID   Type   Process name                  GPU Memory |\n",
      "|        ID   ID                                                   Usage      |\n",
      "|=============================================================================|\n",
      "|    0   N/A  N/A      1380    C+G                                   N/A      |\n",
      "|    0   N/A  N/A      4512    C+G   ...icrosoft VS Code\\Code.exe    N/A      |\n",
      "|    0   N/A  N/A      5156    C+G   ...artMenuExperienceHost.exe    N/A      |\n",
      "|    0   N/A  N/A      5376    C+G   ...bbwe\\Microsoft.Photos.exe    N/A      |\n",
      "|    0   N/A  N/A      6108    C+G   C:\\Windows\\explorer.exe         N/A      |\n",
      "|    0   N/A  N/A      6744    C+G   ...264.44\\msedgewebview2.exe    N/A      |\n",
      "|    0   N/A  N/A      6844    C+G   ...n1h2txyewy\\SearchHost.exe    N/A      |\n",
      "|    0   N/A  N/A      8764    C+G   ...ekyb3d8bbwe\\YourPhone.exe    N/A      |\n",
      "|    0   N/A  N/A      8792    C+G                                   N/A      |\n",
      "|    0   N/A  N/A     10400    C+G   ...ser\\Application\\brave.exe    N/A      |\n",
      "|    0   N/A  N/A     10760    C+G   ...me\\Application\\chrome.exe    N/A      |\n",
      "|    0   N/A  N/A     11364    C+G   ...n64\\EpicGamesLauncher.exe    N/A      |\n",
      "|    0   N/A  N/A     11852    C+G   ...\\app-1.0.9005\\Discord.exe    N/A      |\n",
      "|    0   N/A  N/A     12784    C+G   ...s\\Win64\\EpicWebHelper.exe    N/A      |\n",
      "|    0   N/A  N/A     14456    C+G   ...y\\ShellExperienceHost.exe    N/A      |\n",
      "|    0   N/A  N/A     14764    C+G                                   N/A      |\n",
      "|    0   N/A  N/A     15316    C+G   ...264.44\\msedgewebview2.exe    N/A      |\n",
      "|    0   N/A  N/A     19732    C+G   C:\\Windows\\explorer.exe         N/A      |\n",
      "|    0   N/A  N/A     19776    C+G   ...ge\\Application\\msedge.exe    N/A      |\n",
      "|    0   N/A  N/A     19940    C+G   ...lPanel\\SystemSettings.exe    N/A      |\n",
      "|    0   N/A  N/A     20168    C+G   ...cw5n1h2txyewy\\LockApp.exe    N/A      |\n",
      "+-----------------------------------------------------------------------------+\n"
     ]
    }
   ],
   "source": [
    "gpu_info = !nvidia-smi\n",
    "gpu_info = '\\n'.join(gpu_info)\n",
    "if gpu_info.find('failed') >= 0:\n",
    "    print('Not connected to a GPU')\n",
    "else:\n",
    "    print(gpu_info)"
   ]
  },
  {
   "cell_type": "code",
   "execution_count": 3,
   "metadata": {},
   "outputs": [
    {
     "name": "stdout",
     "output_type": "stream",
     "text": [
      "# packages in environment at C:\\Users\\tonmo\\.conda\\envs\\open-mmlab:\n",
      "#\n",
      "# Name                    Version                   Build  Channel\n",
      "absl-py                   1.1.0                    pypi_0    pypi\n",
      "addict                    2.4.0                    pypi_0    pypi\n",
      "anyio                     3.6.1            py38haa244fe_0    conda-forge\n",
      "appdirs                   1.4.4                    pypi_0    pypi\n",
      "asgiref                   3.5.2              pyhd8ed1ab_0    conda-forge\n",
      "asttokens                 2.0.5              pyhd3eb1b0_0  \n",
      "asynctest                 0.13.0                   pypi_0    pypi\n",
      "atomicwrites              1.4.0                    pypi_0    pypi\n",
      "attributee                0.1.5                    pypi_0    pypi\n",
      "attrs                     21.4.0                   pypi_0    pypi\n",
      "backcall                  0.2.0              pyhd3eb1b0_0  \n",
      "blas                      1.0                         mkl  \n",
      "brotlipy                  0.7.0           py38h2bbff1b_1003  \n",
      "ca-certificates           2022.6.15            h5b45459_0    conda-forge\n",
      "cachetools                5.2.0                    pypi_0    pypi\n",
      "certifi                   2022.6.15        py38haa244fe_0    conda-forge\n",
      "cffi                      1.15.0           py38h2bbff1b_1  \n",
      "charset-normalizer        2.0.4              pyhd3eb1b0_0  \n",
      "cityscapesscripts         2.2.0                    pypi_0    pypi\n",
      "click                     8.1.3            py38haa244fe_0    conda-forge\n",
      "codecov                   2.1.12                   pypi_0    pypi\n",
      "colorama                  0.4.5                    pypi_0    pypi\n",
      "coloredlogs               15.0.1                   pypi_0    pypi\n",
      "commonmark                0.9.1                    pypi_0    pypi\n",
      "coverage                  6.4.1                    pypi_0    pypi\n",
      "cryptography              37.0.1           py38h21b164f_0  \n",
      "cudatoolkit               11.3.1               h59b6b97_2  \n",
      "cudnn                     8.2.1                cuda11.3_0  \n",
      "cycler                    0.11.0                   pypi_0    pypi\n",
      "cython                    0.29.30                  pypi_0    pypi\n",
      "debugpy                   1.5.1            py38hd77b12b_0  \n",
      "decorator                 5.1.1              pyhd3eb1b0_0  \n",
      "dotty-dict                1.3.0                    pypi_0    pypi\n",
      "entrypoints               0.4              py38haa95532_0  \n",
      "executing                 0.8.3              pyhd3eb1b0_0  \n",
      "fastapi                   0.78.0             pyhd8ed1ab_0    conda-forge\n",
      "flake8                    4.0.1                    pypi_0    pypi\n",
      "flatbuffers               2.0                      pypi_0    pypi\n",
      "fonttools                 4.33.3                   pypi_0    pypi\n",
      "freetype                  2.10.4               hd328e21_0  \n",
      "future                    0.18.2                   pypi_0    pypi\n",
      "google-auth               2.8.0                    pypi_0    pypi\n",
      "google-auth-oauthlib      0.4.6                    pypi_0    pypi\n",
      "grpcio                    1.47.0                   pypi_0    pypi\n",
      "h11                       0.13.0             pyhd8ed1ab_1    conda-forge\n",
      "humanfriendly             10.0                     pypi_0    pypi\n",
      "idna                      3.3                pyhd3eb1b0_0  \n",
      "imagecorruptions          1.1.2                    pypi_0    pypi\n",
      "imageio                   2.19.3                   pypi_0    pypi\n",
      "imgaug                    0.4.0                    pypi_0    pypi\n",
      "importlib-metadata        4.12.0                   pypi_0    pypi\n",
      "importlib-resources       5.8.0                    pypi_0    pypi\n",
      "iniconfig                 1.1.1                    pypi_0    pypi\n",
      "intel-openmp              2021.4.0          haa95532_3556  \n",
      "interrogate               1.5.0                    pypi_0    pypi\n",
      "ipykernel                 6.9.1            py38haa95532_0  \n",
      "ipython                   8.3.0            py38haa95532_0  \n",
      "isort                     4.3.21                   pypi_0    pypi\n",
      "jaraco-classes            3.2.1                    pypi_0    pypi\n",
      "jaraco-collections        3.5.1                    pypi_0    pypi\n",
      "jaraco-context            4.1.1                    pypi_0    pypi\n",
      "jaraco-functools          3.5.0                    pypi_0    pypi\n",
      "jaraco-structures         2.1.0                    pypi_0    pypi\n",
      "jaraco-text               3.8.0                    pypi_0    pypi\n",
      "jaraco-ui                 2.3.0                    pypi_0    pypi\n",
      "jaraco-windows            5.7.0                    pypi_0    pypi\n",
      "jarowinkler               1.0.4                    pypi_0    pypi\n",
      "jedi                      0.18.1           py38haa95532_1  \n",
      "joblib                    1.1.0                    pypi_0    pypi\n",
      "jpeg                      9e                   h2bbff1b_0  \n",
      "jupyter_client            7.2.2            py38haa95532_0  \n",
      "jupyter_core              4.10.0           py38haa95532_0  \n",
      "kiwisolver                1.4.3                    pypi_0    pypi\n",
      "kwarray                   0.6.2                    pypi_0    pypi\n",
      "lanms-neo                 1.0.2                    pypi_0    pypi\n",
      "lap                       0.4.0                    pypi_0    pypi\n",
      "libpng                    1.6.37               h2a8f88b_0  \n",
      "libtiff                   4.2.0                he0120a3_1  \n",
      "libuv                     1.40.0               he774522_0  \n",
      "libwebp                   1.2.2                h2bbff1b_0  \n",
      "lmdb                      1.3.0                    pypi_0    pypi\n",
      "lz4-c                     1.9.3                h2bbff1b_1  \n",
      "markdown                  3.3.7                    pypi_0    pypi\n",
      "matplotlib                3.5.2                    pypi_0    pypi\n",
      "matplotlib-inline         0.1.2              pyhd3eb1b0_2  \n",
      "mccabe                    0.6.1                    pypi_0    pypi\n",
      "mkl                       2021.4.0           haa95532_640  \n",
      "mkl-service               2.4.0            py38h2bbff1b_0  \n",
      "mkl_fft                   1.3.1            py38h277e83a_0  \n",
      "mkl_random                1.2.2            py38hf11a4ad_0  \n",
      "mmcls                     0.23.1                   pypi_0    pypi\n",
      "mmcv-full                 1.5.0                    pypi_0    pypi\n",
      "mmdet                     2.25.0                    dev_0    <develop>\n",
      "mmocr                     0.6.0                     dev_0    <develop>\n",
      "mmtrack                   0.13.0                    dev_0    <develop>\n",
      "model-index               0.1.11                   pypi_0    pypi\n",
      "modelindex                0.0.2                    pypi_0    pypi\n",
      "more-itertools            8.13.0                   pypi_0    pypi\n",
      "motmetrics                1.2.5                    pypi_0    pypi\n",
      "nest-asyncio              1.5.5            py38haa95532_0  \n",
      "networkx                  2.8.4                    pypi_0    pypi\n",
      "numpy                     1.22.3           py38h7a0a035_0  \n",
      "numpy-base                1.22.3           py38hca35cd5_0  \n",
      "oauthlib                  3.2.0                    pypi_0    pypi\n",
      "onnx                      1.7.0                    pypi_0    pypi\n",
      "onnxruntime               1.11.1                   pypi_0    pypi\n",
      "opencv-python             4.6.0.66                 pypi_0    pypi\n",
      "openmim                   0.2.0                    pypi_0    pypi\n",
      "openssl                   1.1.1p               h8ffe710_0    conda-forge\n",
      "ordered-set               4.1.0                    pypi_0    pypi\n",
      "packaging                 21.3                     pypi_0    pypi\n",
      "pandas                    1.3.5                    pypi_0    pypi\n",
      "parso                     0.8.3              pyhd3eb1b0_0  "
     ]
    },
    {
     "name": "stdout",
     "output_type": "stream",
     "text": [
      "\n",
      "path                      16.4.0                   pypi_0    pypi\n",
      "pickleshare               0.7.5           pyhd3eb1b0_1003  \n",
      "pillow                    9.0.1            py38hdc2b20a_0  \n",
      "pip                       21.2.2           py38haa95532_0  \n",
      "pluggy                    1.0.0                    pypi_0    pypi\n",
      "prompt-toolkit            3.0.20             pyhd3eb1b0_0  \n",
      "protobuf                  3.19.4                   pypi_0    pypi\n",
      "pure_eval                 0.2.2              pyhd3eb1b0_0  \n",
      "py                        1.11.0                   pypi_0    pypi\n",
      "pyasn1                    0.4.8                    pypi_0    pypi\n",
      "pyasn1-modules            0.2.8                    pypi_0    pypi\n",
      "pyclipper                 1.3.0.post3              pypi_0    pypi\n",
      "pycocotools               2.0.2                    pypi_0    pypi\n",
      "pycodestyle               2.8.0                    pypi_0    pypi\n",
      "pycparser                 2.21               pyhd3eb1b0_0  \n",
      "pydantic                  1.9.1            py38h294d835_0    conda-forge\n",
      "pyflakes                  2.4.0                    pypi_0    pypi\n",
      "pygments                  2.11.2             pyhd3eb1b0_0  \n",
      "pyopenssl                 22.0.0             pyhd3eb1b0_0  \n",
      "pyparsing                 3.0.9                    pypi_0    pypi\n",
      "pyquaternion              0.9.9                    pypi_0    pypi\n",
      "pyreadline3               3.4.1                    pypi_0    pypi\n",
      "pysocks                   1.7.1            py38haa95532_0  \n",
      "pytest                    7.1.2                    pypi_0    pypi\n",
      "pytest-cov                3.0.0                    pypi_0    pypi\n",
      "pytest-runner             6.0.0                    pypi_0    pypi\n",
      "python                    3.8.13               h6244533_0  \n",
      "python-dateutil           2.8.2              pyhd3eb1b0_0  \n",
      "python_abi                3.8                      2_cp38    conda-forge\n",
      "pytorch                   1.11.0          py3.8_cuda11.3_cudnn8_0    pytorch\n",
      "pytorch-mutex             1.0                        cuda    pytorch\n",
      "pytz                      2022.1                   pypi_0    pypi\n",
      "pywavelets                1.3.0                    pypi_0    pypi\n",
      "pywin32                   302              py38h2bbff1b_2  \n",
      "pyyaml                    6.0                      pypi_0    pypi\n",
      "pyzmq                     22.3.0           py38hd77b12b_2  \n",
      "rapidfuzz                 2.0.15                   pypi_0    pypi\n",
      "regex                     2022.6.2                 pypi_0    pypi\n",
      "requests                  2.27.1             pyhd3eb1b0_0  \n",
      "requests-oauthlib         1.3.1                    pypi_0    pypi\n",
      "rich                      12.4.4                   pypi_0    pypi\n",
      "rsa                       4.8                      pypi_0    pypi\n",
      "scikit-image              0.19.3                   pypi_0    pypi\n",
      "scikit-learn              1.1.1                    pypi_0    pypi\n",
      "scipy                     1.7.3                    pypi_0    pypi\n",
      "seaborn                   0.11.2                   pypi_0    pypi\n",
      "setuptools                61.2.0           py38haa95532_0  \n",
      "setuptools-scm            7.0.2                    pypi_0    pypi\n",
      "shapely                   1.8.2                    pypi_0    pypi\n",
      "six                       1.16.0             pyhd3eb1b0_1  \n",
      "sklearn                   0.0                      pypi_0    pypi\n",
      "sniffio                   1.2.0            py38haa244fe_3    conda-forge\n",
      "sqlite                    3.38.5               h2bbff1b_0  \n",
      "stack_data                0.2.0              pyhd3eb1b0_0  \n",
      "starlette                 0.19.1             pyhd8ed1ab_0    conda-forge\n",
      "tabulate                  0.8.10                   pypi_0    pypi\n",
      "tensorboard               2.9.1                    pypi_0    pypi\n",
      "tensorboard-data-server   0.6.1                    pypi_0    pypi\n",
      "tensorboard-plugin-wit    1.8.1                    pypi_0    pypi\n",
      "terminaltables            3.1.10                   pypi_0    pypi\n",
      "threadpoolctl             3.1.0                    pypi_0    pypi\n",
      "tifffile                  2022.5.4                 pypi_0    pypi\n",
      "timm                      0.5.4                    pypi_0    pypi\n",
      "tk                        8.6.12               h2bbff1b_0  \n",
      "toml                      0.10.2                   pypi_0    pypi\n",
      "tomli                     2.0.1                    pypi_0    pypi\n",
      "torch-tb-profiler         0.4.0                    pypi_0    pypi\n",
      "torchaudio                0.11.0               py38_cu113    pytorch\n",
      "torchvision               0.12.0               py38_cu113    pytorch\n",
      "tornado                   6.1              py38h2bbff1b_0  \n",
      "tqdm                      4.64.0                   pypi_0    pypi\n",
      "traitlets                 5.1.1              pyhd3eb1b0_0  \n",
      "typing                    3.7.4.3                  pypi_0    pypi\n",
      "typing-extensions         4.1.1                hd3eb1b0_0  \n",
      "typing_extensions         4.1.1              pyh06a4308_0  \n",
      "ubelt                     1.1.1                    pypi_0    pypi\n",
      "urllib3                   1.26.9           py38haa95532_0  \n",
      "uvicorn                   0.17.6           py38haa244fe_1    conda-forge\n",
      "vc                        14.2                 h21ff451_1  \n",
      "vs2015_runtime            14.27.29016          h5e58377_2  \n",
      "wcwidth                   0.2.5              pyhd3eb1b0_0  \n",
      "werkzeug                  2.1.2                    pypi_0    pypi\n",
      "wheel                     0.37.1             pyhd3eb1b0_0  \n",
      "win_inet_pton             1.1.0            py38haa95532_0  \n",
      "wincertstore              0.2              py38haa95532_2  \n",
      "xdoctest                  1.0.0                    pypi_0    pypi\n",
      "xmltodict                 0.13.0                   pypi_0    pypi\n",
      "xz                        5.2.5                h8cc25b3_1  \n",
      "yapf                      0.32.0                   pypi_0    pypi\n",
      "zipp                      3.8.0                    pypi_0    pypi\n",
      "zlib                      1.2.12               h8cc25b3_2  \n",
      "zstd                      1.5.2                h19a0ad4_0  \n"
     ]
    }
   ],
   "source": [
    "!conda list"
   ]
  },
  {
   "cell_type": "code",
   "execution_count": 4,
   "metadata": {},
   "outputs": [
    {
     "name": "stdout",
     "output_type": "stream",
     "text": [
      "Collecting jiwer\n",
      "  Downloading jiwer-2.3.0-py3-none-any.whl (15 kB)\n",
      "Collecting python-Levenshtein==0.12.2\n",
      "  Using cached python_Levenshtein-0.12.2-cp38-cp38-win_amd64.whl\n",
      "Requirement already satisfied: setuptools in c:\\users\\tonmo\\.conda\\envs\\open-mmlab\\lib\\site-packages (from python-Levenshtein==0.12.2->jiwer) (61.2.0)\n",
      "Installing collected packages: python-Levenshtein, jiwer\n",
      "Successfully installed jiwer-2.3.0 python-Levenshtein-0.12.2\n"
     ]
    }
   ],
   "source": [
    "%%capture\n",
    "!pip install datasets\n",
    "!pip install transformers\n",
    "!pip install torchaudio\n",
    "!pip install jiwer"
   ]
  },
  {
   "cell_type": "code",
   "execution_count": 5,
   "metadata": {},
   "outputs": [
    {
     "name": "stderr",
     "output_type": "stream",
     "text": [
      "c:\\Users\\tonmo\\.conda\\envs\\open-mmlab\\lib\\site-packages\\tqdm\\auto.py:22: TqdmWarning: IProgress not found. Please update jupyter and ipywidgets. See https://ipywidgets.readthedocs.io/en/stable/user_install.html\n",
      "  from .autonotebook import tqdm as notebook_tqdm\n",
      "Downloading builder script: 100%|██████████| 11.8k/11.8k [00:00<00:00, 11.8MB/s]\n",
      "Downloading extra modules: 100%|██████████| 30.0/30.0 [00:00<00:00, 30.0kB/s]\n",
      "Downloading extra modules: 100%|██████████| 966/966 [00:00<00:00, 941kB/s]\n"
     ]
    },
    {
     "name": "stdout",
     "output_type": "stream",
     "text": [
      "Downloading and preparing dataset cvbn/bn to C:\\Users\\tonmo\\.cache\\huggingface\\datasets\\bengaliAI___cvbn\\bn\\9.0.0\\87d0f829e4c25e6138fccec70a352eb556b9093ccb3d68714983c4d1fe983424...\n"
     ]
    },
    {
     "name": "stderr",
     "output_type": "stream",
     "text": [
      "Downloading data:  10%|▉         | 804M/8.26G [09:43<1:04:50, 1.92MB/s]  "
     ]
    }
   ],
   "source": [
    "from datasets import load_dataset, load_metric, Audio\n",
    "dataset=load_dataset(\"bengaliAI/cvbn\", \"bn\")"
   ]
  },
  {
   "cell_type": "code",
   "execution_count": null,
   "metadata": {},
   "outputs": [],
   "source": [
    "from datasets import list_datasets, load_dataset, list_metrics, load_metric\n",
    "\n",
    "# Print all the available datasets\n",
    "print(list_datasets())"
   ]
  }
 ],
 "metadata": {
  "kernelspec": {
   "display_name": "Python 3.8.13 ('open-mmlab')",
   "language": "python",
   "name": "python3"
  },
  "language_info": {
   "codemirror_mode": {
    "name": "ipython",
    "version": 3
   },
   "file_extension": ".py",
   "mimetype": "text/x-python",
   "name": "python",
   "nbconvert_exporter": "python",
   "pygments_lexer": "ipython3",
   "version": "3.8.13"
  },
  "orig_nbformat": 4,
  "vscode": {
   "interpreter": {
    "hash": "e1611e328d9ce540a72720ddfd7d51bd2ff21548f455827874db30256d5360e0"
   }
  }
 },
 "nbformat": 4,
 "nbformat_minor": 2
}

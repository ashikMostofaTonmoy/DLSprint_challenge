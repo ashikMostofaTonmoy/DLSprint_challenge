{
  "cells": [
    {
      "cell_type": "markdown",
      "metadata": {},
      "source": [
        "on local pc set file structure like this\n",
        "\n",
        "```\n",
        "DLSprint_challenge\n",
        "│   README.md\n",
        "│   .gitignore    \n",
        "│\n",
        "└───data\n",
        "│   │   dlsprint.zip\n",
        "│   └───dlsprint\n",
        "│       │   ...\n",
        "│   \n",
        "└───scripst\n",
        "│       │   ...\n",
        "└───starter_scripts \n",
        "│       │   ... \n",
        "```"
      ]
    },
    {
      "cell_type": "code",
      "execution_count": 99,
      "metadata": {
        "colab": {
          "base_uri": "https://localhost:8080/"
        },
        "id": "Ksa837N43D3S",
        "outputId": "826f5b77-0d60-4505-b534-1447447ced2e"
      },
      "outputs": [],
      "source": [
        "# from google.colab import drive\n",
        "# drive.mount('/content/gdrive')\n",
        "# drive.mount(\"/content/gdrive\", force_remount=True)"
      ]
    },
    {
      "cell_type": "code",
      "execution_count": 100,
      "metadata": {
        "id": "QwSY0Gn_3dNz"
      },
      "outputs": [],
      "source": [
        "# !pip install kaggle\n",
        "# /mnt/e/kaggle/DLSprint_challenge/.gitignore"
      ]
    },
    {
      "cell_type": "code",
      "execution_count": 101,
      "metadata": {
        "id": "PW5gM1iQ4CFB"
      },
      "outputs": [],
      "source": [
        "# root_path = '/content/gdrive/MyDrive/kaggleProject'  #change dir to your project folder"
      ]
    },
    {
      "cell_type": "code",
      "execution_count": 102,
      "metadata": {
        "id": "eMzSBTI-4i_8"
      },
      "outputs": [],
      "source": [
        "# from google.colab import files\n",
        "# files.upload()"
      ]
    },
    {
      "cell_type": "code",
      "execution_count": 103,
      "metadata": {
        "colab": {
          "base_uri": "https://localhost:8080/"
        },
        "id": "dcrW1m2p6ozB",
        "outputId": "6fb34986-b27a-4628-fe0f-ca65a8647031"
      },
      "outputs": [
        {
          "name": "stdout",
          "output_type": "stream",
          "text": [
            "/mnt/c/Users/tonmo/Desktop/DLSprint_challenge/scripst\n"
          ]
        }
      ],
      "source": [
        "!pwd"
      ]
    },
    {
      "cell_type": "code",
      "execution_count": 104,
      "metadata": {
        "colab": {
          "base_uri": "https://localhost:8080/"
        },
        "id": "8p0nk0cX6rr6",
        "outputId": "8b30b14b-8e0f-49ed-e72f-4710632c845f"
      },
      "outputs": [],
      "source": [
        "# !mkdir -p ~/.kaggle\n",
        "# # !cp kaggle.json ~/.kaggle/\n",
        "# !cp /content/gdrive/MyDrive/kaggleProject/kaggle.json ~/.kaggle/ # for use on tonmoy's gdrive\n",
        "# !ls ~/.kaggle\n",
        "# !chmod 600 /root/.kaggle/kaggle.json "
      ]
    },
    {
      "cell_type": "code",
      "execution_count": 105,
      "metadata": {
        "colab": {
          "base_uri": "https://localhost:8080/"
        },
        "id": "ZEr-C08411uN",
        "outputId": "c71ffdf9-1776-4b25-c037-f6689d89691d"
      },
      "outputs": [],
      "source": [
        "# !kaggle competitions download -c dlsprint\n",
        "# !kaggle competitions download -c dlsprint -p /content/gdrive/MyDrive/kaggleProject/dlsprint"
      ]
    },
    {
      "cell_type": "code",
      "execution_count": 106,
      "metadata": {
        "id": "TLBMXdJR8NZB"
      },
      "outputs": [],
      "source": [
        "# import zipfile\n",
        "# # extract_path = '/content/input/dlsprint'\n",
        "# extract_path = 'data/dlsprint'\n",
        "# with zipfile.ZipFile('data/dlsprint.zip', 'r') as zip_ref:\n",
        "#     zip_ref.extractall(extract_path)"
      ]
    },
    {
      "cell_type": "code",
      "execution_count": 107,
      "metadata": {
        "id": "vq-fblSLGMSc"
      },
      "outputs": [
        {
          "name": "stdout",
          "output_type": "stream",
          "text": [
            "text: বায়ান্ন\n",
            "new text: বায়ান্ন\n",
            "are they same?: False\n"
          ]
        }
      ],
      "source": [
        "import unicodedata\n",
        "text=\"বায়ান্ন\"\n",
        "new_text = unicodedata.normalize(\"NFKC\", text)\n",
        "print(\"text:\",text)\n",
        "print(\"new text:\",new_text)\n",
        "print(\"are they same?:\",text==new_text)"
      ]
    },
    {
      "cell_type": "code",
      "execution_count": 108,
      "metadata": {
        "id": "e9q1vBBKGOf1"
      },
      "outputs": [
        {
          "name": "stdout",
          "output_type": "stream",
          "text": [
            "first one: ['ক', 'ে', 'ন', '্', 'দ', '্', 'র', 'ী', 'য', '়']\n",
            "second one: ['ক', 'ে', 'ন', '্', 'দ', '্', 'র', 'ী', 'য়']\n"
          ]
        }
      ],
      "source": [
        "print(\"first one:\",[f for f in 'কেন্দ্রীয়'])\n",
        "print(\"second one:\",[f for f in 'কেন্দ্রীয়'])"
      ]
    },
    {
      "cell_type": "code",
      "execution_count": 109,
      "metadata": {
        "id": "zq856OM6GZIl"
      },
      "outputs": [
        {
          "name": "stdout",
          "output_type": "stream",
          "text": [
            "first one: ['ব', 'া', 'য়', 'া', 'ন', '্', 'ন']\n",
            "second one: ['ব', 'া', 'য', '়', 'া', 'ন', '্', 'ন']\n"
          ]
        }
      ],
      "source": [
        "print(\"first one:\",[f for f in text])\n",
        "print(\"second one:\",[f for f in new_text])"
      ]
    },
    {
      "cell_type": "markdown",
      "metadata": {
        "id": "CzQz9TI9eYhG"
      },
      "source": [
        "## Importhing Necessary Libraries for EDA"
      ]
    },
    {
      "cell_type": "code",
      "execution_count": 110,
      "metadata": {},
      "outputs": [],
      "source": [
        "# !conda install -c conda-forge librosa -y\n",
        "# conda install -c conda-forge ipywidgets -y\n",
        "# conda install -c conda-forge pandas-profiling -y"
      ]
    },
    {
      "cell_type": "code",
      "execution_count": 111,
      "metadata": {
        "colab": {
          "base_uri": "https://localhost:8080/"
        },
        "id": "MvzH6HpheXH-",
        "outputId": "904022ce-b716-45dc-8356-7454040e485b"
      },
      "outputs": [],
      "source": [
        "import os\n",
        "\n",
        "import numpy as np\n",
        "import pandas as pd\n",
        "\n",
        "import librosa\n",
        "import librosa.display\n",
        "\n",
        "import IPython.display as ipd # for displaying the play audio buttom\n",
        "\n",
        "import warnings\n",
        "warnings.filterwarnings('ignore')"
      ]
    },
    {
      "cell_type": "markdown",
      "metadata": {
        "id": "PUjcoWGlegkA"
      },
      "source": [
        "## Reading the .csv files"
      ]
    },
    {
      "cell_type": "code",
      "execution_count": 112,
      "metadata": {
        "id": "ryKJit0Qej3N"
      },
      "outputs": [],
      "source": [
        "extract_path = '../data/dlsprint'\n",
        "os.path.join(extract_path,)\n",
        "train_df = pd.read_csv(os.path.join(extract_path,'train.csv'))\n",
        "val_df = pd.read_csv(os.path.join(extract_path,'validation.csv'))\n",
        "sample_submissin_df = pd.read_csv(os.path.join(extract_path,'sample_submission.csv'))"
      ]
    },
    {
      "cell_type": "markdown",
      "metadata": {
        "id": "1Sl6tX_Ef7I1"
      },
      "source": [
        "## Take a look at the .csv files"
      ]
    },
    {
      "cell_type": "code",
      "execution_count": 113,
      "metadata": {
        "colab": {
          "base_uri": "https://localhost:8080/",
          "height": 450
        },
        "id": "0INF36i5f5vt",
        "outputId": "940a699f-ac71-45d4-c404-a3515b72d07e"
      },
      "outputs": [
        {
          "data": {
            "text/html": [
              "<div>\n",
              "<style scoped>\n",
              "    .dataframe tbody tr th:only-of-type {\n",
              "        vertical-align: middle;\n",
              "    }\n",
              "\n",
              "    .dataframe tbody tr th {\n",
              "        vertical-align: top;\n",
              "    }\n",
              "\n",
              "    .dataframe thead th {\n",
              "        text-align: right;\n",
              "    }\n",
              "</style>\n",
              "<table border=\"1\" class=\"dataframe\">\n",
              "  <thead>\n",
              "    <tr style=\"text-align: right;\">\n",
              "      <th></th>\n",
              "      <th>client_id</th>\n",
              "      <th>path</th>\n",
              "      <th>sentence</th>\n",
              "      <th>up_votes</th>\n",
              "      <th>down_votes</th>\n",
              "      <th>age</th>\n",
              "      <th>gender</th>\n",
              "      <th>accents</th>\n",
              "      <th>locale</th>\n",
              "    </tr>\n",
              "  </thead>\n",
              "  <tbody>\n",
              "    <tr>\n",
              "      <th>0</th>\n",
              "      <td>6c274d3678353b62f5d3465c771e4a8c5cd917186a5323...</td>\n",
              "      <td>common_voice_bn_30991326.mp3</td>\n",
              "      <td>বাবা সত্যেন ঘোষ।</td>\n",
              "      <td>1.0</td>\n",
              "      <td>1.0</td>\n",
              "      <td>NaN</td>\n",
              "      <td>NaN</td>\n",
              "      <td>NaN</td>\n",
              "      <td>bn</td>\n",
              "    </tr>\n",
              "    <tr>\n",
              "      <th>1</th>\n",
              "      <td>3991c2cfe1be64e77f2f6bdaeaae601219af906c1295cd...</td>\n",
              "      <td>common_voice_bn_30991371.mp3</td>\n",
              "      <td>দেওয়ান ফরিদ গাজী বাংলাদেশ আওয়ামী লীগের উপদেষ...</td>\n",
              "      <td>1.0</td>\n",
              "      <td>0.0</td>\n",
              "      <td>NaN</td>\n",
              "      <td>NaN</td>\n",
              "      <td>NaN</td>\n",
              "      <td>bn</td>\n",
              "    </tr>\n",
              "    <tr>\n",
              "      <th>2</th>\n",
              "      <td>3991c2cfe1be64e77f2f6bdaeaae601219af906c1295cd...</td>\n",
              "      <td>common_voice_bn_30991410.mp3</td>\n",
              "      <td>এর মাধ্যমে কারও গান গাওয়া দক্ষতা বা নিজস্ব ধর...</td>\n",
              "      <td>0.0</td>\n",
              "      <td>0.0</td>\n",
              "      <td>NaN</td>\n",
              "      <td>NaN</td>\n",
              "      <td>NaN</td>\n",
              "      <td>bn</td>\n",
              "    </tr>\n",
              "  </tbody>\n",
              "</table>\n",
              "</div>"
            ],
            "text/plain": [
              "                                           client_id  \\\n",
              "0  6c274d3678353b62f5d3465c771e4a8c5cd917186a5323...   \n",
              "1  3991c2cfe1be64e77f2f6bdaeaae601219af906c1295cd...   \n",
              "2  3991c2cfe1be64e77f2f6bdaeaae601219af906c1295cd...   \n",
              "\n",
              "                           path  \\\n",
              "0  common_voice_bn_30991326.mp3   \n",
              "1  common_voice_bn_30991371.mp3   \n",
              "2  common_voice_bn_30991410.mp3   \n",
              "\n",
              "                                            sentence  up_votes  down_votes  \\\n",
              "0                                   বাবা সত্যেন ঘোষ।       1.0         1.0   \n",
              "1  দেওয়ান ফরিদ গাজী বাংলাদেশ আওয়ামী লীগের উপদেষ...       1.0         0.0   \n",
              "2  এর মাধ্যমে কারও গান গাওয়া দক্ষতা বা নিজস্ব ধর...       0.0         0.0   \n",
              "\n",
              "   age gender accents locale  \n",
              "0  NaN    NaN     NaN     bn  \n",
              "1  NaN    NaN     NaN     bn  \n",
              "2  NaN    NaN     NaN     bn  "
            ]
          },
          "execution_count": 113,
          "metadata": {},
          "output_type": "execute_result"
        }
      ],
      "source": [
        "train_df.head(n = 3)"
      ]
    },
    {
      "cell_type": "code",
      "execution_count": 114,
      "metadata": {
        "colab": {
          "base_uri": "https://localhost:8080/"
        },
        "id": "BdULt1ZhgJru",
        "outputId": "31aeba5b-d11c-4d3f-8f8a-2b22a1752d6a"
      },
      "outputs": [
        {
          "name": "stdout",
          "output_type": "stream",
          "text": [
            "<class 'pandas.core.frame.DataFrame'>\n",
            "RangeIndex: 206950 entries, 0 to 206949\n",
            "Data columns (total 9 columns):\n",
            " #   Column      Non-Null Count   Dtype  \n",
            "---  ------      --------------   -----  \n",
            " 0   client_id   206950 non-null  object \n",
            " 1   path        206950 non-null  object \n",
            " 2   sentence    206950 non-null  object \n",
            " 3   up_votes    206950 non-null  float64\n",
            " 4   down_votes  206950 non-null  float64\n",
            " 5   age         60309 non-null   object \n",
            " 6   gender      61196 non-null   object \n",
            " 7   accents     11088 non-null   object \n",
            " 8   locale      206950 non-null  object \n",
            "dtypes: float64(2), object(7)\n",
            "memory usage: 14.2+ MB\n"
          ]
        }
      ],
      "source": [
        "train_df.info()"
      ]
    },
    {
      "cell_type": "code",
      "execution_count": 115,
      "metadata": {
        "colab": {
          "base_uri": "https://localhost:8080/"
        },
        "id": "GPdWWzOKgKKg",
        "outputId": "36988de7-7ac2-4f9a-8471-a28d614cbe40"
      },
      "outputs": [
        {
          "data": {
            "text/plain": [
              "client_id          0\n",
              "path               0\n",
              "sentence           0\n",
              "up_votes           0\n",
              "down_votes         0\n",
              "age           146641\n",
              "gender        145754\n",
              "accents       195862\n",
              "locale             0\n",
              "dtype: int64"
            ]
          },
          "execution_count": 115,
          "metadata": {},
          "output_type": "execute_result"
        }
      ],
      "source": [
        "train_df.isna().sum()"
      ]
    },
    {
      "cell_type": "code",
      "execution_count": 116,
      "metadata": {
        "colab": {
          "base_uri": "https://localhost:8080/"
        },
        "id": "DJtccubMghBT",
        "outputId": "93853d78-e459-4828-c6f6-0f8747c0e883"
      },
      "outputs": [
        {
          "data": {
            "text/plain": [
              "array([ 1.,  0.,  5.,  2.,  3.,  6.,  4.,  7., 14., 10.,  9., 13., 16.,\n",
              "        8., 21., 17., 12., 11., 22., 24., 30., 18., 48., 20.])"
            ]
          },
          "execution_count": 116,
          "metadata": {},
          "output_type": "execute_result"
        }
      ],
      "source": [
        "train_df['down_votes'].unique()"
      ]
    },
    {
      "cell_type": "code",
      "execution_count": 117,
      "metadata": {
        "colab": {
          "base_uri": "https://localhost:8080/"
        },
        "id": "zXbnHCcYgjA0",
        "outputId": "d4657844-827f-4ac1-e0c8-a10498c280c0"
      },
      "outputs": [
        {
          "data": {
            "text/plain": [
              "array([  1.,   0.,   6.,   2.,   4.,   3.,  16.,   7.,   8.,   5.,  14.,\n",
              "        11.,  15.,  10.,  12.,  13.,  17.,   9.,  18.,  20.,  30.,  26.,\n",
              "        24.,  22.,  32.,  28.,  29.,  21.,  53.,  34.,  23.,  38.,  35.,\n",
              "        19.,  36.,  27.,  40.,  25.,  37.,  31.,  45.,  39.,  50.,  33.,\n",
              "        47.,  42.,  46.,  66.,  59.,  78.,  56.,  44., 108.,  88.,  55.,\n",
              "        43.,  41.,  60.,  92., 124.,  51.,  54.,  52.,  48.,  68.,  62.,\n",
              "       106.,  58.,  80.,  74.,  70.,  84.,  94.])"
            ]
          },
          "execution_count": 117,
          "metadata": {},
          "output_type": "execute_result"
        }
      ],
      "source": [
        "train_df['up_votes'].unique()"
      ]
    },
    {
      "cell_type": "markdown",
      "metadata": {
        "id": "sZAcmLTBgtMa"
      },
      "source": [
        "Higher the upvotes more accurate the text labels\n",
        "\n",
        "Samples with higher number of downvote than upper are considered as incorrect."
      ]
    },
    {
      "cell_type": "markdown",
      "metadata": {
        "id": "0P-gaGEVgzRe"
      },
      "source": [
        "## Let't check how label them"
      ]
    },
    {
      "cell_type": "code",
      "execution_count": 118,
      "metadata": {
        "colab": {
          "base_uri": "https://localhost:8080/"
        },
        "id": "razoPw1LgvpN",
        "outputId": "a8b43073-82dc-4a60-ff3e-6c3a73a22e76"
      },
      "outputs": [
        {
          "data": {
            "text/plain": [
              "array(['bn'], dtype=object)"
            ]
          },
          "execution_count": 118,
          "metadata": {},
          "output_type": "execute_result"
        }
      ],
      "source": [
        "train_df['locale'].unique()"
      ]
    },
    {
      "cell_type": "markdown",
      "metadata": {
        "id": "zHzZTa3fhE5w"
      },
      "source": [
        "So all the audio files are labled by native bengalies"
      ]
    },
    {
      "cell_type": "markdown",
      "metadata": {
        "id": "SQXPG4tuhH7Q"
      },
      "source": [
        "*Columns named 'age', 'gender', 'accents', 'locale' would be removed as they didn't carry important information for the project.*"
      ]
    },
    {
      "cell_type": "code",
      "execution_count": 119,
      "metadata": {
        "id": "nuEICkAFhLHY"
      },
      "outputs": [],
      "source": [
        "train_df = train_df.drop(['age', 'gender', 'accents', 'locale'],axis = 1)\n",
        "val_df = val_df.drop(['age', 'gender', 'accents', 'locale'],axis = 1)"
      ]
    },
    {
      "cell_type": "code",
      "execution_count": 120,
      "metadata": {
        "colab": {
          "base_uri": "https://localhost:8080/",
          "height": 110
        },
        "id": "KVSw3Tqvj4ky",
        "outputId": "e62b7cce-ca5d-4328-f925-8db1b37a9ee0"
      },
      "outputs": [
        {
          "name": "stdout",
          "output_type": "stream",
          "text": [
            "../data/dlsprint/train_files/common_voice_bn_30614352.mp3\n",
            "Shape of the audio:  (107163,)\n",
            "Sample rate of the audio:  22050\n"
          ]
        },
        {
          "data": {
            "text/html": [
              "\n",
              "                <audio  controls=\"controls\" >\n",
              "                    <source src=\"data:audio/wav;base64,UklGRlpFAwBXQVZFZm10IBAAAAABAAEAIlYAAESsAAACABAAZGF0YTZFAwAAAAAAAAAAAAAAAAAAAAAAAAAAAAAAAAAAAAAAAAAAAAAAAAAAAAAAAAAAAAAAAAAAAAAAAAAAAAAAAAAAAAAAAAAAAAAAAAAAAAAAAAAAAAAAAAAAAAAAAAAAAAAAAAAAAAAAAAAAAAAAAAAAAAAAAAAAAAAAAAAAAAAAAAAAAAAAAAAAAAAAAAAAAAAAAAAAAAAAAAAAAAAAAAAAAAAAAAAAAAAAAAAAAAAAAAAAAAAAAAAAAAAAAAAAAAAAAAAAAAAAAAAAAAAAAAAAAAAAAAAAAAAAAAAAAAAAAAAAAAAAAAAAAAAAAAAAAAAAAAAAAAAAAAAAAAAAAAAAAAAAAAAAAAAAAAAAAAAAAAAAAAAAAAAAAAAAAAAAAAAAAAAAAAAAAAAAAAAAAAAAAAAAAAAAAAAAAAAAAAAAAAAAAAAAAAAAAAAAAAAAAAAAAAAAAAAAAAAAAAAAAAAAAAAAAAAAAAAAAAAAAAAAAAAAAAAAAAAAAAAAAAAAAAAAAAAAAAAAAAAAAAAAAAAAAAAAAAAAAAAAAAAAAAAAAAAAAAAAAAAAAAAAAAAAAAAAAAAAAAAAAAAAAAAAAAAAAAAAAAAAAAAAAAAAAAAAAAAAAAAAAAAAAAAAAAAAAAAAAAAAAAAAAAAAAAAAAAAAAAAAAAAAAAAAAAAAAAAAAAAAAAAAAAAAAAAAAAAAAAAAAAAAAAAAAAAAAAAAAAAAAAAAAAAAAAAAAAAAAAAAAAAAAAAAAAAAAAAAAAAAAAAAAAAAAAAAAAAAAAAAAAAAAAAAAAAAAAAAAAAAAAAAAAAAAAAAAAAAAAAAAAAAAAAAAAAAAAAAAAAAAAAAAAAAAAAAAAAAAAAAAAAAAAAAAAAAAAAAAAAAAAAAAAAAAAAAAAAAAAAAAAAAAAAAAAAAAAAAAAAAAAAAAAAAAAAAAAAAAAAAAAAAAAAAAAAAAAAAAAAAAAAAAAAAAAAAAAAAAAAAAAAAAAAAAAAAAAAAAAAAAAAAAAAAAAAAAAAAAAAAAAAAAAAAAAAAAAAAAAAAAAAAAAAAAAAAAAAAAAAAAAAAAAAAAAAAAAAAAAAAAAAAAAAAAAAAAAAAAAAAAAAAAAAAAAAAAAAAAAAAAAAAAAAAAAAAAAAAAAAAAAAAAAAAAAAAAAAAAAAAAAAAAAAAAAAAAAAAAAAAAAAAAAAAAAAAAAAAAAAAAAAAAAAAAAAAAAAAAAAAAAAAAAAAAAAAAAAAAAAAAAAAAAAAAAAAAAAAAAAAAAAAAAAAAAAAAAAAAAAAAAAAAAAAAAAAAAAAAAAAAAAAAAAAAAAAAAAAAAAAAAAAAAAAAAAAAAAAAAAAAAAAAAAAAAAAAAAAAAAAAAAAAAAAAAAAAAAAAAAAAAAAAAAAAAAAAAAAAAAAAAAAAAAAAAAAAAAAAAAAAAAAAAAAAAAAAAAAAAAAAAAAAAAAAAAAAAAAAAAAAAAAAAAAAAAAAAAAAAAAAAAAAAAAAAAAAAAAAAAAAAAAAAAAAAAAAAAAAAAAAAAAAAAAAAAAAAAAAAAAAAAAAAAAAAAAAAAAAAAAAAAAAAAAAAAAAAAAAAAAAAAAAAAAAAAAAAAAAAAAAAAAAAAAAAAAAAAAAAAAAAAAAAAAAAAAAAAAAAAAAAAAAAAAAAAAAAAAAAAAAAAAAAAAAAAAAAAAAAAAAAAAAAAAAAAAAAAAAAAAAAAAAAAAAAAAAAAAAAAAAAAAAAAAAAAAAAAAAAAAAAAAAAAAAAAAAAAAAAAAAAAAAAAAAAAAAAAAAAAAAAAAAAAAAAAAAAAAAAAAAAAAAAAAAAAAAAAAAAAAAAAAAAAAAAAAAAAAAAAAAAAAAAAAAAAAAAAAAAAAAAAAAAAAAAAAAAAAAAAAAAAAAAAAAAAAAAAAAAAAAAAAAAAAAAAAAAAAAAAAAAAAAAAAAAAAAAAAAAAAAAAAAAAAAAAAAAAAAAAAAAAAAAAAAAAAAAAAAAAAAAAAAAAAAAAAAAAAAAAAAAAAAAAAAAAAAAAAAAAAAAAAAAAAAAAAAAAAAAAAAAAAAAAAAAAAAAAAAAAAAAAAAAAAAAAAAAAAAAAAAAAAAAAAAAAAAAAAAAAAAAAAAAAAAAAAAAAAAAAAAAAAAAAAAAAAAAAAAAAAAAAAAAAAAAAAAAAAAAAAAAAAAAAAAAAAAAAAAAAAAAAAAAAAAAAAAAAAAAAAAAAAAAAAAAAAAAAAAAAAAAAAAAAAAAAAAAAAAAAAAAAAAAAAAAAAAAAAAAAAAAAAAAAAAAAAAAAAAAAAAAAAAAAAAAAAAAAAAAAAAAAAAAAAAAAAAAAAAAAAAAAAAAAAAAAAAAAAAAAAAAAAAAAAAAAAAAAAAAAAAAAAAAAAAAAAAAAAAAAAAAAAAAAAAAAAAAAAAAAAAAAAAAAAAAAAAAAAAAAAAAAAAAAAAAAAAAAAAAAAAAAAAAAAAAAAAAAAAAAAAAAAAAAAAAAAAAAAAAAAAAAAAAAAAAAAAAAAAAAAAAAAAAAAAAAAAAAAAAAAAAAAAAAAAAAAAAAAAAAAAAAAAAAAAAAAAAAAAAAAAAAAAAAAAAAAAAAAAAAAAAAAAAAAAAAAAAAAAAAAAAAAAAAAAAAAAAAAAAAAAAAAAAAAAAAAAAAAAAAAAAAAAAAAAAAAAAAAAAAAAAAAAAAAAAAAAAAAAAAAAAAAAAAAAAAAAAAAAAAAAAAAAAAAAAAAAAAAAAAAAAAAAAAAAAAAAAAAAAAAAAAAAAAAAAAAAAAAAAAAAAAAAAAAAAAAAAAAAAAAAAAAAAAAAAAAAAAAAAAAAAAAAAAAAAAAAAAAAAAAAAAAAAAAAAAAAAAAAAAAAAAAAAAAAAAAAAAAAAAAAAAAAAAAAAAAAAAAAAAAAAAAAAAAAAAAAAAAAAAAAAAAAAAAAAAAAAAAAAAAAAAAAAAAAAAAAAAAAAAAAAAAAAAAAAAAAAAAAAAAAAAAAAAAAAAAAAAAAAAAAAAAAAAAAAAAAAAAAAAAAAAAAAAAAAAAAAAAAAAAAAAAAAAAAAAAAAAAAAAAAAAAAAAAAAAAAAAAAAAAAAAAAAAAAAAAAAAAAAAAAAAAAAAAAAAAAAAAAAAAAAAAAAAAAAAAAAAAAAAAAAAAAAAAAAAAAAAAAAAAAAAAAAAAAAAAAAAAAAAAAAAAAAAAAAAAAAAAAAAAAAAAAAAAAAAAAAAAAAAAAAAAAAAAAAAAAAAAAAAAAAAAAAAAAAAAAAAAAAAAAAAAAAAAAAAAAAAAAAAAAAAAAAAAAAAAAAAAAAAAAAAAAAAAAAAAAAAAAAAAAAAAAAAAAAAAAAAAAAAAAAAAAAAAAAAAAAAAAAAAAAAAAAAAAAAAAAAAAAAAAAAAAAAAAAAAAAAAAAAAAAAAAAAAAAAAAAAAAAAAAAAAAAAAAAAAAAAAAAAAAAAAAAAAAAAAAAAAAAAAAAAAAAAAAAAAAAAAAAAAAAAAAAAAAAAAAAAAAAAAAAAAAAAAAAAAAAAAAAAAAAAAAAAAAAAAAAAAAAAAAAAAAAAAAAAAAAAAAAAAAAAAAAAAAAAAAAAAAAAAAAAAAAAAAAAAAAAAAAAAAAAAAAAAAAAAAAAAAAAAAAAAAAAAAAAAAAAAAAAAAAAAAAAAAAAAAAAAAAAAAAAAAAAAAAAAAAAAAAAAAAAAAAAAAAAAAAAAAAAAAAAAAAAAAAAAAAAAAAAAAAAAAAAAAAAAAAAAAAAAAAAAAAAAAAAAAAAAAAAAAAAAAAAAAAAAAAAAAAAAAAAAAAAAAAAAAAAAAAAAAAAAAAAAAAAAAAAAAAAAAAAAAAAAAAAAAAAAAAAAAAAAAAAAAAAAAAAAAAAAAAAAAAAAAAAAAAAAAAAAAAAAAAAAAAAAAAAAAAAAAAAAAAAAAAAAAAAAAAAAAAAAAAAAAAAAAAAAAAAAAAAAAAAAAAAAAAAAAAAAAAAAAAAAAAAAAAAAAAAAAAAAAAAAAAAAAAAAAAAAAAAAAAAAAAAAAAAAAAAAAAAAAAAAAAAAAAAAAAAAAAAAAAAAAAAAAAAAAAAAAAAAAAAAAAAAAAAAAAAAAAAAAAAAAAAAAAAAAAAAAAAAAAAAAAAAAAAAAAAAAAAAAAAAAAAAAAAAAAAAAAAAAAAAAAAAAAAAAAAAAAAAAAAAAAAAAAAAAAAAAAAAAAAAAAAAAAAAAAAAAAAAAAAAAAAAAAAAAAAAAAAAAAAAAAAAAAAAAAAAAAAAAAAAAAAAAAAAAAAAAAAAAAAAAAAAAAAAAAAAAAAAAAAAAAAAAAAAAAAAAAAAAAAAAAAAAAAAAAAAAAAAAAAAAAAAAAAAAAAAAAAAAAAAAAAAAAAAAAAAAAAAAAAAAAAAAAAAAAAAAAAAAAAAAAAAAAAAAAAAAAAAAAAAAAAAAAAAAAAAAAAAAAAAAAAAAAAAAAAAAAAAAAAAAAAAAAAAAAAAAAAAAAAAAAAAAAAAAAAAAAAAAAAAAAAAAAAAAAAAAAAAAAAAAAAAAAAAAAAAAAAAAAAAAAAAAAAAAAAAAAAAAAAAAAAAAAAAAAAAAAAAAAAAAAAAAAAAAAAAAAAAAAAAAAAAAAAAAAAAAAAAAAAAAAAAAAAAAAAAAAAAAAAAAAAAAAAAAAAAAAAAAAAAAAAAAAAAAAAAAAAAAAAAAAAAAAAAAAAAAAAAAAAAAAAAAAAAAAAAAAAAAAAAAAAAAAAAAAAAAAAAAAAAAAAAAAAAAAAAAAAAAAAAAAAAAAAAAAAAAAAAAAAAAAAAAAAAAAAAAAAAAAAAAAAAAAAAAAAAAAAAAAAAAAAAAAAAAAAAAAAAAAAAAAAAAAAAAAAAAAAAAAAAAAAAAAAAAAAAAAAAAAAAAAAAAAAAAAAAAAAAAAAAAAAAAAAAAAAAAAAAAAAAAAAAAAAAAAAAAAAAAAAAAAAAAAAAAAAAAAAAAAAAAAAAAAAAAAAAAAAAAAAAAAAAAAAAAAAAAAAAAAAAAAAAAAAAAAAAAAAAAAAAAAAAAAAAAAAAAAAAAAABAAAAAAAAAAAAAAAAAAAAAAAAAAAAAAAAAAAAAAAAAAAAAAAAAAAAAAD//wAAAAAAAAEA//8CAAEAAAAEAAQAAADu/+j/6v/r//T/+f8KABMAHQAeABoAHQAbACYAJwApACEAIQAYAAcAAQD1//b/9P8AAPv/+P8EAPj/AAARAB4AKAApADAAOgA2ADkAPQAuACwAIQAOAAIA+P/0/+z/8P/6//3////8//D/5v/n//H/9v/8/w0ACwAQAB0AFgAQAA0ACQABAAAA///3//b/9f/1//D/7v/p/+H/3v/Y/9P/zv/J/8T/wP++/8H/w//K/83/0P/c/+H/6v/m/+j/7//x//X/9///////BAAKAA0AEwAQAA0ACQADAP3/8//r/+P/3v/j/+P/6P/u/+7/7v/z/wMABgAMABgAGgAhACEAHQAaABcAHAAWABcAGgAhACIAGgAYABIADwAIAA4ADgAHAAsABgAJAAYABQABAP//BAAFABYAEAAVABsABwADAPz//v/3/wQACAD7/wIA//8AAP//AAAAAP//AAABAAAAAAABAAAAAAABAAIAAgAAAP//AAD//wAAAgAAAAAAAAAAAP//AAAAAAAAAAAAAAAAAAABAAEAAAD//wAAAAAAAP////8AAAAA///8//3//v///wAAAAAAAAAAAQAAAAEAAQABAAEAAAACAAIAAwACAAEABgADAAIAAwABAAIAAgAAAP//AAAAAAAA//8BAAAAAAD+/////f/+//3/CQAVAAwAFQAPABEAFgAYAB0AGgAYABQAFQAQABMACwALAAgA9//7//T/7//z//L/8f/w//T/9P/z/+7/7P/q/+v/7P/2/wIABAAHAPz/+P/2//T/+v8CAAgABwAPAAsAAAD///j/9f/x//T/+P/t//H/6P/j/+j/5f/t/+3/8f/w//L/8v/q/+7/5P/o/+n/5P/q/9r/0//Q/9H/3v/m/+r/6//3/wAABQATABQAGAAQAAEA+//t/+f/3P/W/9H/yv/V/9r/2//d/+H/5P/r//P/+v8JABIAIAAlABoAFAAOAAcADQARAAQABAD4//H//f8HAA4AFQAkACMAJwAoACEAHwAqACkALgAyACMAKwAmACEAHQAWABUAFAAWABgAHQAhACQAJAAoACcAHgAWAAYA/v/0//L/+v/6/wIABgABAAcACAAIAAUABwAJAA4AHAAhACcAJgAjACIAFgAJAPL/4//l/9z/3P/g/9b/2//a/9b/3//m/+//9v/+/wEA//8EABAAHgAiACEAGwARABQACAD8//P/7//w/+7/9v/1//r/AgAAAP3/+v/v/+//9P/6//3/+/8DAAcACwAMAA4ABgAMABEACwATABMADQARABQAFQAdAB4AIwAiAB0AGQAMAA0AAgAAAPb/5P/i/9f/1f/R/9z/4//r//L/8//6//f/9P/x/+v/5//n/+n/7P/z//3////+//7/+//5//z/BwAFAAYABgAAAAIA/P8AAAAACAAXABkAHQAeABYACQD+//7/AgAFAA4ADAANAAoABgAPAAcADAANAAYACwAFAAIAAAD9//7//v8FAAAA/v/6//D/6f/c/9P/yf/M/8z/xP/I/8P/xf/I/8n/0P/P/9v/4P/d/+T/3v/b/97/6v/4//3/DQAEAAAABAD//wIAAgACAPr/9f/4//P/8//3//f/9f/z//b/+P/5/wIAAAAFAAgABQAKAAQACAAMAA4ACwAOABgAFgAbABoAGQAgACsAKgAuADAAJwAqACQAJgAqACkALAArACsAJgAhACEAGAAXABcAGwAhABgAIgAXABsAIQAWACUACAAGAAUA7f/8//H/8v/+//z/AAD9/wIABQAAAP3/9P/x/+n/5//p/+v/+f/4//7/BgAFAA0AEgAZACYALgA0ADkANQAvACgAJQAmACEAHgAZABIADQACAAEAAAD7/////f/+/wQAAAAAAAIA9v/5//v/7//8////+/8GAAMAAQALAAwAEQAWAB0ALgAuADsAQAA1ACgAEwALAPv/+P/0/+7/6P/i/+j/4f/m/+f/2//Q/8f/wP/C/8z/zP/M/8X/yP/Z/93/6f/x/+n/7f/p/+T/3v/Y/9v/z//i/+b/6v/5/+7/8v/n/+P/2//X/9v/xP/I/83/wf/K/9H/zP/X/93/5f/v//P/8//o/+X/4f/j//L/+/8AAAQAAwAHAAcABwAKAAEAAgAHAAQACgALAAkAEAAQABEAFAAVABwAIQAUABAAEgAIAAQA///9//7//v8CAAYAAwABAAQAAAD//wAA///9/wIADQASABsAHQAeAB4AIQAnACMAIAAWAAsACQAKAAAAAAABAAMAEAAVABsAFwAUAAYAAAD7/+7/8//q/+T/6P/q//D/9f/7//3/9f/3//P///8OABAAGAAVABkAGQAZABgADwAUABgAHwAiABwAHAAfAB8AJgAuADcAQQBBAEMAQgBGAEMAOQAuAB4ADwABAPn/8f/o/9r/1//c/9//5//t//T/AAAGAA8AGAAZAB4AFgAQAA0ABgAGAAYAAwD9//n/8f/u/+r/6v/n/+n/9f/y/////v/9/wYA/////wAA+f/2//n/9v/4//H/7P/s/+P/4//n/+7/9v/4//n/+//5//j//f/7//r/9P/n/+P/5P/i/+f/6v/m/+//8P/p//L/7f/t//f/9P/4//j/9v/2//P/9P/y//P/9v/1//7////7//r/8//w/+r/6f/t//L/+f/6//X/8//u/+v/5//k/+T/5v/o/+T/6f/l/+X/5//j/9//2f/e/9v/3v/e/9f/6P/t/+7/8P/0//n/9f8AAAMAAwD8//j/7v/q//X/8f/2/wAAAgAEAA4ADwASABoAFAAjACcAKgA0ADkAPAA5ADsAOQA8AD0APgA8ADQAOAAsACcAIwAeACIAIwAkACMAIgAdABkAGgAYABgAIAAeACgAIwAoADUAIwAnACEAIQAnACcALgAnACQAHQAfAB0AIwAlACQAJQAcABkACQAIAAgABAABAP7/+f/t//H/7P/t/+z/7f/6/wMAFAAbAB8AIQAkACQAHwAcAB4AHwAkACYAHAAaABMADQAFAAEA/v/t/+n/5P/g/+H/1//d/+X/4v/t//X/9f8AAPv/7//y//D/6//s/+z/6//r//H/7//w//f/8//s/+j/5//d/9v/3f/d/9//4//j/+f/5v/g/+j/4//k/+r/5f/h/97/2//c/+D/1P/S/87/0P/T/87/2P/i/+v/8/8AAAUABQALAAQABAD9//X/9f/q/+r/2v/M/8b/wf/E/8D/wP/D/8//1P/i//b/9P8IAAkACgAKAP///v/r//H/7//v//b/+P8HAA4ADgAQAAsABwADAP//+//4//v/BwAaABYAGAAaABoAIwAbABwAGQAWABAACQACAPb/+//2//3//v/7/wAA8//3//P/6v/h/9X/0P/Q/9b/2f/e/+H/6f/x//b/9f/1//b/9P/5//j/CQAVAB0AKgArADwAPgBLAEoASwBOAEcAUABTAFoATgBMAE0APAAwAB4AEwARAAkA/v/w/+r/7v/s//L//v///wgADQAKAA0ADQANAAoAEgASABEADQAIAAkABQAFAAMABQAEAAIACQAJAAEA/P/6/wAA/////wYADAAXABoAGQAjACIAGwAWABEADAAIABQAEwAYABcAEgAUAAsADwALAA4ACQABAPj/8P/u/+P/5P/j/+P/4v/b/9//2//c/+L/z//O/9v/3v/t//P/9/8BAAMAEQAMAB0AJgAcAB4AFgAYAPz/BAABAPn/AQD5////+P/9//3//f/3//b/9v/q//b/9//y//H/6f/q/+P/2v/e/9j/1f/b/+H/4P/c/97/2//W/9T/2//l/+b/9v/9/wAACgANABcAIwAsADIAMgAsAB8AEwAGAPT/7P/f/9b/3f/Y/97/3f/c/+L/3v/o/+v/9/8AAAAACgAGAAUAAgDx/+r/8//7/wMABwAFAAQAAgACAP3/9v/w/+3/7//u/+3/4v/i/+3/+/8CABEAHQAdAB0AEQARAAkADAANAAkAFwAPABMAFQATABMAFAAZABwAIwAeABwAFwAWAB8AFwAUABEAAQD8//3/+////wAA/f8FAP//+f/s/+L/3f/Q/9X/1v/b/+H/7P/y/wAAFQAZAC4ANgA2AEAAQgA2AC4AKQAaACAAJgArAC4AIgAeABAADAAHAAcACAABAAYAAwADAPr/+v/7////CQAHAAoA/f/1/+v/4P/d/+D/5v/k/9//3v/g/+j/9v/8/wkAEQAYAB8AIwAnACYAJAAfABkAEQAWABEADgAXABEAEgAJAAAA+v/6//3/8//z//L/7f/o/+D/2P/Z/9P/0v/S/8z/1f/V/+L/6v/k/+v/8P/4/////f8AAAQADQAZACMAJwAlAC0AKAAqACsALQAtACQAJgAeAB8AFAAHAAwABAD9//X/6v/r/+7/8//7//3/+v/z//L/7//p/+H/0f/E/7j/sP+t/7H/vf/D/8T/yv/U/93/5P/n/+z/6v/q//H/9P/3//b/+//8/wIABgAGABEAEwAXABkAHQAeACQAKwAtADcAQABBAEMAPwA4ADMAKwAiABcAEQAGAP7//P/y//f///8AAAgACQAIAAUA+f/y/+n/5f/u/+z/8f/3//X/8v/t/+j/4//o/+n/9v/9/wEAEAAUABgAHAAoADQAPQBCAEgARwBGAEsARgBGAD8AQAA8ADIAKQAgABcAAQAAAP3/+f/3/+3/5v/Z/87/xf/F/8L/xv/T/9b/2f/h/+T/5v/q/+v/6v/r/+n/7P/0//X/+f/+/wIABgAAAP//CQAKAAoADQAKAAsAAgD9/wAAAwAHAAkADAAKAAgAAgD7//P/6v/s/+v/4v/a/9b/2f/W/9D/0P/T/9f/1v/a/+f/8P/7/wMABQAHAAYAEQARAA8AEQAHAAYAAgD///P/8f/2//D/8f/t/+z/9P/w/+7/8v/4/wEAAAAEAAYACwAAAO7/8//h/9n/3P/Z/+H/5v/t//D/9P/1//r/+f/z//L/8P/u/+///v8BAAAA//8GAA0AEQAbABsAJAAnACUAJAAlACcAKAAwADUAOgA+AD8APAA5ADQAMAAsACgAJgAfABUADQAHAP3/9P/w/+//6//t/+3/7P/n/97/2f/U/9n/5P/p//D/+//9/wAAAQD+//3/+//5//X/9P/1//j/+v/7/wEABQAIAAwADgAMABIAGAAaAB4AHAAgAB8ALQA6ADgAOgA1ADUAMQAtACsALgAqAB0AFwAPAAwAAwD2//b//v8CAP//CAARAAgACQAAAPX/9P/x/+7/5f/k/+b/5//l/9r/1v/T/9L/2//g/+z/+P/4//3/AgAAAP7///8CAAMABgAQAAsABwAEAPj/9P/y/+7/7f/k/9//3v/Z/97/4//o//f//f8EAA4ACwAMABAAFAAVABQAEQAXABMACwAXABgAFgAVAAoABQADAAQADgASABcAGwASABEAEQABAP7/+f/v/+f/4//f/+H/6P/h/+n/7P/z//f/7f/p/+P/5v/f/+f/6f/h/+L/3//f/93/1f/M/9P/0//d/+f/5f/l/+T/9f/8/wQADgAQAAQACAATAAEABwANABMAFwAWACAAIQAgAB0AIQAfABgAEgAPABAACQAEAAEAAAD5//P/6v/e/9f/0//W/9r/4P/h/+D/4P/m/+z/8P/8/wAAAQACAP7/AAD+//n/9v8AAAgABwANABAADwARAA0ABwAIAAYAAQABAAcABwANABgAFwAbAB0AIQAeABkAHQAXAA8AEAAKAAQABwAGAAkACwAKAAoACQAMABEAFAAUABMAFAAbAB8AIQAmACMAHQAcACgALQAqADQAOwA+AEAAQwBIAEAAOgAwACoAKgAoACwALQAjABgADgD+//L/5P/W/8//zf/U/9D/0P/U/9j/1v/Z/+D/3v/c/9j/2//W/9P/1//c/9z/3v/o/+f/6f/o/+f/6P/o/+//+v8BAAwAFgAXABsAFgASABQAFAAZABsAGAATABUAEAAFAAMAAQD9//P/7f/k/+P/5f/g/+D/1f/X/9//2v/m/+//7f/1//L/7//y/+v/8v/3//P/7//o/+n/6v/s//b/AAD9//7/AAD//wAA/v/6//f/+//5//b/8//0//H/5f/l/+D/2//j/+X/5P/n/+n/5v/h/+X/9P8AAAsAEAAVABAABQAJAAgA///5//D/5//d/+H/4//b/9v/3P/g/+H/7v8DAAsAEQAgACwALwA6AEcARwA+AD8AOwAzADMANgA0ADAAMAA2ADUALwA0ADQAKwAqACkAJwAaABgAGgAQAAcAAwACAPT/7f/u/+//7v/u/+3/6v/q/+z/7v/r//P/AQAEAAkAEQAYABMAEAAWABoAIQAiACEAIgAnACYAKQApACEAHgAVABIACwAEAAIA+P/v/+f/5//i/9r/2P/V/9P/0v/X/9f/0//V/9f/z//U/9//3//a/9b/3P/Z/9X/1v/W/9X/1//m/+//9P/8//z/9//0//z/AQAAAP7/CAAQAA8AGAAgACAAHAAdABsAEwATABMADgALAAgABwAJAAgABwAIAAgACwAIAAoADgAJAAUA//8AAAkACgAMABIAEAAKAAgACAAHAAwADwAPAA0ACgAKAAoACQAAAPf/7//r/+j/5f/n/+L/5v/y//j/9P/5/wUABAACAAUACQAHAAMACQALAAYABwAKAAQAAQD///b/8v/z//T/6//i/+T/6P/n/+n/9v/3//X/AAALAAgABAAKAA4ADwAPABAADQAMABQAGQAaAB0AKwArABsAFQAYABIACwAQAAcA9//w/+n/6f/s//D/9v/6//v/AwALABAAFwAUABMADwAKAAgABAAAAAIABgAAAP7/AQACAP3/9v/2//X/7v/q//b/+P/u//T//v/+////CAAJAAQABwAMAAgABAAOAAsA/P/2//P/8f/v//D/9f/3//T/9v/8//v/+//+/wEABQAOABIADwAQAAoA/v/3//P/7//p/+X/5f/l/+T/7f/v/+f/6P/p/+v/6//o/+j/6v/p//L/AAADAAcACgAOABEAFAAZABUADwANAAwACgAFAAMAAQD///z///8AAAAAAQAAAAQABwAMABIAGQAqADMALwArACcAIQAeABoAGgARAP3/8//o/9//5f/o/+n/7f/s//T//P/3/wMACwD+/wIABwAAAAAAAAD6//X/7//u/+//7v/y//b/+//+//3/AAD8//b/8P/p/+3/9P/5//3/CQAWABsAGgAYABgAEQAQABAADAAHAP//+v/6//r/+P/3//P/7v/m/+b/6v/s//z/BQADAAQABgAGAAIAAQD8//X/8f/5//j/7f/q/9//1f/T/9T/2f/j//D/8//s/+v/+P/6//f/BQAQABEAHAAoACYAIAAgACMAIgAfACEAIAAcAB0AIAAeABgAEwALAAUAAAD9/wIA+//y//3//f/8/wMA///+//v/8P/s/+7/8f/s//D/8//4/wUACAAJAAoAEAAXABgAHAAZABsAHwAfACYAJwAhABoAFAANAAYAAAD4//P/7//v/+j/5f/k/+D/2v/U/9P/yv/H/9D/0//S/9j/5P/j/9v/3//j/+D/6//5//7/AAARABsAGQAjACkAJAAcAB8AHgAXABcAFwATABMAGQAeACEAJAAlAB8AGAAUABEADwAPAAsACQAJAAoAEwAOAAUAAAD3//P/8v/6/wYADwAWAB0AIAAaABcAFAAFAPb/9P/w/+z/8P/x/+n/4//s/+7/7f/0//7/AAD+/wAA///4//H/6//n/+r/7P/n/97/3v/e/9f/2P/k/+j/7f/z//n/+v/4//b/7v/q/+v/7P/v//b/+//4//L/7f/r/+b/4v/i/+L/5//t//X/BQAMAA4AFQAWABsAGQAWABQACwAJAAAA+f/6////AAAEABAAFQAYACEAJgAkACYAIgAVAAsAAwAAAAAABwAOAA0ADwATABQAEAAKAAYABAABAP3//P/7//v///8FAAoAEgAZAB8AHQAbAB0AFwAWABAACwAIAAwAEgASABQAFgAWABAADwAMAAgABwAAAAAAAwABAP//AQAEAAQACwAVABAABgAAAPX/8P/t//H/8v/y//j/9f/z//T/9P/y//P/+P///wQABgD///L/7//s/+f/5f/i/97/2P/X/9n/3P/k/+//+v8DAAgACgALAAsACwASABsAIQAnACAAEQAAAPP/7f/q//D/9//9//3/AQAIAAoACQALAAwADgANABAAFQAPAAsACQAHAAQABQANAAwADAAQAAoAAwAEAPz/7v/n/+T/5v/q//H/9v/4//7////6//X/9P/w/+v/5//d/9P/0v/X/9f/1//W/9f/2f/f/+T/5f/q/+r/6f/p/+X/4//k/+P/3//i/+X/6f/0//7/AAAHAAoABwAKAAYACAANABAAFAAXAA8ACgAGAAEABQAIAA4AEgAQAAsADAAOAA0AFAAZABYAFAAXABMACwALAAcA/v/6//3/BAANAA8AFAAaABoAHgAkACQAIgAlACIAHAAfABoAEQAUABMAEwAYABAADgARAAcABQAKAAkACAAGAAMAAAADAAMA//8AAPj/9v/4//H/9P/+//r//v8PABgAHAAfACMAIAAfAB4AGQAdABgAEAATAA0AAgAAAPX/8P/0//L/9f/5//b/8f/u/+b/2v/V/9L/0f/a/97/2v/d/93/3v/i/+L/6//5//n/+v8DAAIAAwAMAAsACgAIAAIABQAPABIAFAAYABQAEwAbABsAGgAeABYADwAMAAAA/f/5//f//f/7//n//v/9//j//P8AAP3/AAAJAAQAAQAHAAIAAAAFAAQAAAD9//v///8AAPr/+P/0/+7/7//y//D/8//2//X//v8BAP//AQD6//D/8//y//H/+P/6//n//P8BAAMA///2//D/6//k/+f/7P/n/+z/8f/m/+X/6f/o/+r/5v/i/9//1//S/9f/4f/r//b////3//b/+f/v//L/7v/g/+f/5P/e/+7/8v/z//n/8v/p/+v/9P/2/wAACwAHABQAGQATACYAIgAWACsAJQAiAC4AIgAjACMAFgAaAB0AFQAOAAsABAD9/wIA/v8AABMADAALABQAAwAEAAIA9f/5//D/6//1//D/8f/4//X/9//9/wAAAQAJABUAHQAoACoAIQAdABcAFgAZABEADQAIAP7/AgAFAAEACgAKAAkADwAHAAAA/v/7/wIACAAKAAsABgAGAAkADwAVABoAIwAgACEAJAAVAA4ABgD1//L/7P/q//j/AAALABkAFAAOAAcA///8//v/AAABAAQAAAD4//b/7f/n//D/9P/7/wEA/P/0/+z/3//V/87/0f/h//r/EQAjADUANgAuAC0AIwAaAB4AIwAkACAAHQAVAAsAAgD3//b/9v/4/wEA//8AAAcABQD///r/8P/n/+z/9f/2//z//P/n/87/tf+p/7b/xP/R/+T/9/8AAA0AEgACAAEA/f/u//r////9/wcAAQD9/wAA8f/h/9z/1f/f//v/EAAaAB8ADwD0//H/6f/r/wIABgAVACQAEgAPAA0A+v/z/+v/5P/v//z/AAADAAkAAQD2//P/5f/q//j//P8OABAAAAD6//P/7//0//n/AQALAA0ADAASABcAGQAkACoAKAArACYAGwAWAA4ABgAGAAUAAQD///r/9v/y//T/+//9//7////8/wAAAAD4//b/6f/l/+3/9P/+/wUABgACAPz/9f/u//f/CgAYACQAJwAWAAcA9//g/93/3f/p/wMAEQAeACMAGwATAAYA+//y//b/AAAEAAYAAADy/+n/4//l//z/DwARABIAEwADAPL/8f/x/wAAEgAWABkACgD4//L//P8OABwAJgAbAAwAAADg/9T/1//X/+r/+f8FABMADQADAP3/8f/w//3/DQAWAB4AJgAcABQAEQAEAPj/8//z//b//f/1/+n/5P/X/+b/AgARACAAGgADAPf/8P/n/+H/4v/b/9P/0P/O/9D/1f/S/9b/3//d//L/CgAQABgAEAD7//T/6v/Y/+D/+v8SADAAPQA3ACgADADx/+//BAAVADMAQAAsABwA/f/h/+P/4f/v/yAARwBWAFAAKwAAANb/uP+5/9T//v8aADAAOQAhAAMA4P/L/8v/0f/q/wwAIQAfAA0A9//d/9T/3v/q/xEAOgBAAEQAJQDw/97/0//U/9r/4P/y/wAAGwAyAEYATwAoAPj/0P+6/9D/7/8PADcAQAA1ACMAAADj/9z/6P8AACAALwAUAP3/2//B/9L/3//o/+//8P/+/xcALAAjAAEA0P+j/6X/wf/1/zQASABNADcAAwDs/9r/zf/W/+H/+f8OACEALQAnAD4AUABMAEYAGQDi/8D/tf/e/woAIQAuACIAAwDr//n/EgAdACsAIAATABMA+//n/97/2//r//j/CQAoADwAPgAxACAA9//M/8P/uP/I//z/JwBBADIAEwD2/+n/8//7/wkABQD6/wgACAAYACwAGQARAAMA3P/J/9D/4v/5/xAAGAAVAAgA1/+y/7r/zP/7/ywAOgA0ABoAAgD4/97/1P/i/+f/6/8AAB8AMABGAFIAJgAKAPL/wP+7/8D/6f86AHYAmwB2ABYAxP+c/6P/xP8EADUAQwBEAA4A0/+w/4f/kP+8/+v/KQBFADAABwDX/7b/yf8BAB4AKAAmABsAHgAPAAQABAD7//H/8v8FABUAMABGADIAHgABAOL/1//E/7r/2/8MADQARAAuAAMA0v+5/8b/5v/9//3/DgAQAAoAIgAhACQAKgAXAPX/0P/D/8D/3/8XAEQAXAAzAO3/o/9w/5r/9/9FAHsAewA+ANz/if9x/3r/s//3/ywAXgBWAD0AEADP/7b/rP/C/+//DQAdABQAFgAQAAEABQAOABkAEAASABsAAADn/8v/vP/G/9H/7P/2//r/AQD6/wIADgARAPX/zv/P/8T/2f8dAEIAUgBKAC8AGgAAAO//9v8MACYAMAAfAA0A/P/c/8r/9v80AEkAXQBYACkADQAAAPz/8v/Z/8L/uv/F/+L/EQAvADMAIQAAAPL/6f/e/+T/7//m/9P/3f/z/wEAAgD8/wMABwAAAAgAIgA2ADIAIQAXAAAA2v/G/+P/HABOAIMAmgB2ACkAz/+m/7L/3P8QADIAOwAWAOX/1//o//z//P/u/+P/yP+m/6b/v//c//v/FQAhABUA9//X/9L/3P/n//v/EgAsAC0AFQAFAAYAAQD+/y4AYABuAHoAYgA4AA4A7P/y//P/4P/O/9L/9/8aAD4AUQBOADEA3f+c/4P/cv+J/8L/BQAsADgAMQADAOf/1P/d/wMAAADy/+H/1f/c/+n/FwA8AD8AIgAFAA8ADgAQABwAHAAZAA4A/P/n/+n/6f/z/zQAZgBsAFAAFADh/7H/n//T/xEALQAlABIA/P/h/9//7P8GABkADwAWACcAFgDm/8v/xf/H//H/CgAcACQAEgAiADwATgBBAAMAs/9u/2v/jf/T/yQAOQAxAB4A9f/R/8b/xP/G/+H/AAAYACgAEwDv/8z/u//I/9r/+/8qAFAATgAwAA4A5v/V/9X/+f8wAEoAWQA7ABMA7//P/+7/AAAYADQAOABEACkACQDm/7r/tf/B/+v/BgAFABEADQAJAAQA7P/n/93/tP+j/7L/uP/R/+7///8iADEAMwAuAAEA4f/Q/+H/HgBLAGMAWgBEAB0A+v8OABMACgABAN7/1f/V/9L/6P/5/wIABwD+/+3/3v/X/+r/FQA6ADkAFwDe/53/cf95/7b/AAA6AF4AYQBdAD4AAgD1/9b/uP/X//r/IAAkABEAAwDi/+z/BAAcACwAEQAEAPz/BwAhABoAHgAUAN7/xf/c/+D/+f8ZABoALwAMAOj/7P/H/8r/3v/x/xkAKAAwAD8AYABeAD0AIQDv/9L/wv/V/xYAWgCJAHUATwAIALL/i/99/73//f8nAF0ARQAPAM7/n/+k/8D/6P8PADMAIgAGAPL/0//G/7n/zv/j//z/FwAhADYAHAAHAA4ADgAoAC4AIwAUAPv/9v8TAEIARgAtABsA8//T/9r/6f/y/wgAKgA/ADUAGgABANv/1v/+/xkALQASAOr/2P/K/9//9v//////9f/9/w8AKgAwABoA6v/N/9H/0f/v//j/AAAeADAAPQAuABcA2P+Z/5r/vv8AADAATQBDAA4A2v+x/6P/rv/W/wgARwBWAEoALwDQ/5n/bv93/8n/+f9OAI8AhQBWABYA3v+T/3P/f/+n//j/MgBeAH0AXQAeAOb/uP+p/7f/5v8XABoAEAADAOz/4P/d//3/GAANAP7/7/8GACgARgBTAB4A1f+V/3v/f/+z/wAAOwBiAFwASAABAL7/n/93/4n/uv/x/xUAMQA9ACIAIgAuAC8APQBYAEgAMQAqAAEA6f/B/7T/0f/x/yAARgBmADEA7P+3/3n/ev+Y/9L/8v8DABAA9v/m/+H//f8JAAEA+v/6/wIA8v/2/+j/4//j/8n/3f8BAC8AbgCaAJQAbwAxAPP/2P/U/wAAHAA5AE0AMwA5ACUAIgA2ADYAMgAPAAQA+P/r//L/7P/w//T/AAD7/+z/AQACAOz/7P/e/9L/6v/L/7z/5/8DADIARgBTAFQAKQANABEAGwAtAE4ATQBKAC4A7v/U/9L/1//u/zYAUwBPAGwASAAYAPf/2P/K/8z/3v/z/xwAIwAQAPz/0/+v/6f/x//2/y0ATgBJADgADwDN/4//e/+B/6f/6/8XAC8AJwD3/8r/vP+j/5n/lf+K/57/rf/U/wkANwBGABYA5v/J/93/BQAzAGAAXAAoAN3/wf+t/6r/1f/x/xcAKwAZAA4AAQDm/+r/7//y//7/+f8RAAcAAQAZABUAHAAlACcAHQARAPr/5P/o/wkAHgAcACwACgD4//T/4f8NAC8APgA5ACIAAgDY/9f/3f/r/xkAQgBMAFgARQAHAOT/wv/K//j/KgBHADQADwDS/77/x//d/wwAJQApAAsA+//1/9r/1//y/wYAMwBiAGYAZwA8ABgA9//g//L/8f8SABMACQD9/9j/xP+8/9f/6f8WADoASgBLAEIAQAATAAQA+P/i/+H/8v8PAC4APwAhAAUA6f/h/+H/6v/q/+v//f/r//L/7f/q/8b/j/+B/2z/n//l/ykAVgBQAC8A6f+u/4v/lv+s/+H/IABOAGwATwAsABcACAABAB8APAA3ACsACQDc/6f/sP+9/9r/IAA5AF0ARgAQAPr/8//l/8b/2P/Z/9//9f8AAAsAGQAeAPX/5//i/9r/4v/2/wAAAAAWAP7/CwAdABAAKgAsADYANgAXAPL/1P/G/8H/3P8RADAAUgBiADIALwA0ADMAPQAQAOv/v/+I/4n/wf/9/ykARwA6ABYA/P/S/8H/6f/7/xkAJgAXAP//z//K/9T/+f8LAA0AKQAlAA0A7P/R/7P/pP+y/9r/6f8AAAkA7v8IAAAAFQAzACQAIQAMAA0ABwAYACAAFwAgABoACgALAAYA//8SABUAHAAdACcAEwABAAAA5f/j/8//7f/6//v/EwD8/w0AGAAbAD0APwAkAAgA0v+6/73/zP8AAB0ARgA2ABUAAQDU/9b/6v/7/wQAGgAUAPv/5P+8/63/u//q/xMANgBaAFEAIADh/6v/j/+U/5n/uv/p//D/BAAjAB0AAADj/8//wv+7/9P/1//g/wEACQAdACIAGwAXABcAHQApAD4ARgBKACQAGQAfACgAOwBAAF0AZgBfAD0ADwDg/7//uv/m/xsAIQArAAMA9//3/+f/9/8CAAcA6v/d/9n/3P/o/woAMAAxACkABwDg/67/qv/D/9z/CgA4AEAALAAOAOj/+/8EACIAUgBcAEMADADv/9j/1v8HAEEAYgCMAGsANgAGALL/pP+S/6T/0//i//j/9f/8/wMA9//5//T/yf+w/6D/p/+6/8T/7P/4/+n/1v/J/8L/1//q//H/DAD+//f/3v+a/4v/hv+W/7n/3/8gACgAHQAwABwAIAAaABYANAAVAAgACQAGADEAVABtAHQAbQBWADIAGgAIABAAQQBpAFYAaABzAC8AGwAfAPX/5//u/+n/2P/L/9r/yf/N/9//wP/A/7D/m/+q/6r/w//i//X/AwDw/+//7P/W/+v/7v/m/wEAFQAKAPj/3//d//j/+P8QAEUANwAFAC0AUgDH/3X/AQAQALb/HACQAD8Axf8DADIAzP/h/z8ALwD8/wQAKAALAPj/JwAcAAQACAALACIAEgD7/wAAAADA/5z/1f/2//f/KQBpAFcAOgBAACgA9P/S/8H/2//h/9f/+P/v/+j/2v/h//j/AAAkABgADAAdAPT/v//G/97/7v/o/wgAHwALAAoA6v/k/+n/2//M/8z/0v/M/+X//P8EABoALgAtADIALgAZAPz/6v/u/wcAKAAVAC8AOwAXABAADgAKAAsAIAAVAPv/CwAWAAgAKQAiAAsAFgD+/+r/1f/p//T/BAAxAEIATwA7ABYA9f/l/9//8/8MABsAIgAlACgAKgA8ADcANQAoACQADgDx/+f/0f/c/+v/8P/2/wQAFwAXAAUAGwAZAAgAEAD/////z//F/9r/y//b/wAAKwAyAD4APwAkAAAA8P/c/93/6//u/w4AGAArAEcAUAA+ADEACgDe/+X/2v/c/+r//v8AAPP/7v/g/9n/BgAaABMAGwD9//f/z//F/9L/0v/p/+L/BgAVAPf/9P/8/9b/yP/S/9f/6P/o/wAA/P/w/+D/0v+3/57/qf+z/7z/wP/c/9T/zP/G/7H/sP+x/7r/3v/u/+n/7v/Y/+X/0f/I/9X/z//o/+//+//j/8n/uv+z/7H/xP/u/xUANwA/AG4AWAArADAAIQD//xYANgAhAD0ASAA/AD0ASwBCACkAIQAOAAoAGAAeAB4AEQDt/xUAJAAWACEAHwAxACUAIwAQAN3/q/+p/5//mf/D/9///v8DAB8AJwAnACUAHgAXAPn/4//r////8P8PAC8AQABNAEQAXgBjAEwAUwBOACsAFgAGACQAIQAkAD0AOABPAEcANwAbABIAGAAmAC8ANwBPAFkAXwBAAEEANAAuAEYATQBUAFMATgBGADwAFQAQAAUAAAAXACAAFgAAABAAFwD9//v/AAD8/xwAFgAHAP//5//Q/7n/0//I/7j/uP+t/5L/cP9d/2r/kv+d/8D/1P/P/7H/oP+m/5f/rv/P/8b/s//A/7//wv/O/8H/p/+y/8z/wP+z/7b/u//I/9T/2f/4/+z/3//u/+7//f/4/wUADgAVACcANAA2AC4AJQAOAAEA7f/u//D/BQAfACAAOABAAEYAWABSAD0AJwAUABEABAATACsAMwBIAEsASQBTAE0AMQAZAPz/+v/0//L/BQAYAEEAOgAoACYAJgAoAC4ARQBEAC0AEwD9//D/CwAXABsALQASAAEAAADY/93/+P/r/+L/1f/D/6H/lP+V/47/pv/F/9n/4v/U/73/w//A/+H/+f8HAC4AJwA6ADoAKAAvADIAOQBGAEsARwBNAEAAIwAMAP///P8NABMADgAUABMA/P/v/+z/1//r/+z/4//q/97/0//b/+D/4//4//n/8P/W/97/1v/I/9T/v/+9/6P/j/+U/6P/t/+4/8L/yf/J/9n/7//w/+r/9P/7/+n/7v/1//T/AQAXADcARwBiAGwAYwBLAC0AGwAGAPT//v8FAAkAPwBgAIUAlQCIAH0AWAA/ACgAKAArADYASgBMAEwASAA/ACEA/P/i/9j/7P8DAAgADwAHAPP/yP+6/9X/4/8YADMAJgAkAAcA7v/8/wAAAwAPAAkAAADm//X//v/5//j/7/8KABIADgADAOv/1P/N/9D/3f/t/+7/6P/b/97/9v/m/87/yP+s/8b/5P/m//f/7v/t/+//7f/m/9v/2v/F/8L/7//3//v/FADw/+r/7P/U/8f/vf/K/9D/6P8AAAsAJQBDAEYARQBCACsAGAAEAO3/4f/i/+n/+v8CAA0ACgAMABcA/v/3/+n/1//e/93/5f8AAAYADQAZAB0AKgAlACkAFQAOABMA7//s/+3/4v/c/9D/wP+//7z/vf/K/8b/x//P/9v/2f/d//P/BgANABIADwACAAMABAAXABgAHQAmAB4AEwAEAPz/+//4/+r/9v/y//H/8v/1/w4AGQApADIANQAvACYAHQAnADEAPABVAFQAXQBiAGMAUwA6AD0ANwAuADgAMAAmACIABAAOAA4ACgAfACEAIQAbAA4AAAAMABQAFwAaABAAAgAJABMAAAANABQACgATAAwA6v/t/9v/uP/M/7T/sv/I/87/5f/x//j//f/4/+L/uv+3/9H/z//1/wsAEwAtABYADAACAPP/8f/m/+L/7P/p/+f/2f+2/7n/uv/A/+D/8v/z/wIA+f/c/9X/1v/z//r/BQARAAIABwACAAgAEgANACcALQAeACAA///3//L/5P8LABMAHQAxAB0ADwASAAsACwAPAAAA8v/1/+3/4f/0/wgAGAApADUAMwAyADAAFgAWAAoA+f8AAP3/FAArADYAVgBMADsAOwAaABoAFwAbADUAKwApABwAGwAOAPH//P8DAAYAGQAZAAoA+//Z/8n/zf/d/+P/6P/o/9b/3//k//P/9v/4//b/3v/m/8z/yP/Y/7r/r//B/8n/4//2//v/BwAMACkAEAAGAAAA5f/4/+//9v8AAAAAAwADAAgACwAEAPn/7f/Q/9D/1P/f/+X/6//t/+n/5v/I/9//5P/l//j/BAAcABwAHgAGAPH/8P/j/9b/9f/+/wgAHQAOABMAAgAQABIADQAYABEALQBGAEIALwArABEABAD9/+3/+v8IAAcACwAcAAQA9P/Y/73/uf/C/97/4/8BAAEA9P/3/+X/5//8/woAGAAdAA8AEwAFAAIA+f/w/wAA6P/Y/9X/1f/T/9j/0f/I/9n/1v/o//z/+P/1////AgD9//j/+P8LABsAIQAWACgALwAtAFMAWABhAE8ANAAwABoABgD5/+f/4v/z////FAAcACIALAAmAB8AIAA4AEUAWgBTADoAHgD+//z/8/8AABEAGAAVAP3/1/+6/7X/wP/d//P/FQASAA4AAADf//D/3//r/wcAEQAdACcAIQAUAA4A7P/e/9H/w/+4/7z/0P/d/+7/7P/3/+v/6P/q/+//BwAOACQAHQAUAAIA6P/a/+X/AAAfADUAOwBNADMAQAA0ACMAKQAJABEACQANABoAHAAXABQACgD0//3/8v/v/+X/5//y/wgAFQAIAA8A7P/X/8n/zP/O/8z/3//T/9//4v/j/+r/7P/l//D/8f/7/wwACgAiAAkADgAKAPX/AwDp/+n/+P8FAAcADQAEAPP/+f/m/+X/9f8SABQAIAAZAAoAEAADABYAGAAnACYAJgApAA4ADQD2/+b/5//o//n/AwADABgAIAAqAEAAMgA9AC4AJQAgAAUABgD9//7/+/8GAAQABgAHAP7/DwAMAAwABwAHAP//BAAAAPD/8//i/+z/9v8EAPf/7f/8/+v/AQD3/97/4P/X/9z/9P///wUABQDy/+j/1f/p//D/+/8eAB0AGwAQAAQA4//p/+f/6P8CAPb/BAASABwAFAAUABAAAgABAPb//P8AABEA/f8DAAAA5v/3/+D/6v/w//3/EAAHAPj/4f/e/93/5f/i//P/+v/3//7/9//s/+v/+f/8/w4ADgAZAB4ADQAfABsAHgANAO//zf/C/8r/y//e/9//4f/q/wgAAwAGAPr/2P/0//D//f8TABkACAD2//L/5v/3/wEACwARABgADgD7//3/+/8AAPz/+//y/wEA/f/y/wUACAAdADMAPwA6AEAANwAqAC4ALgAvACsAMgAWACIAIgAaADUAOQBUAFoAXwBVAD0AIQABAPr/8P/9//3/BAAEAP7/8//n/+r/7f/9/+r/7//m/9f/7P/o//X/8v/e/93/2P/S/97/4v/r/+3/2//Z/9n/2P/E/9b/5f/d/wAACgAOABIACgD5/+3/6v/Y/+D/7P/n/+3/8v/q//f/+f/u//H/5v/s/+b/6v/5//L//v/w//D/DQAGABIAJAAfACQALwA1AB4AIQArABkALQAwAB4AIQAmACgAKAAzAC4AHgAdACUAJAAbABQABwD8//T/+P/8//7/6f/O/8n/u//M/9D/xf/X/77/sP+r/6b/vv+1/7j/y//U/9//8f/x/9j/0f/W/9n/5//2//r/CgASABEAJAAkABkAGgAXAAMACAAdAAsACQALAP3//v8FAAQADAAPABIAFgAZAC8AJAAvACwADwAOAOz/4P/e/+D/2f/j//z/6P/z/+//5v/g/97/2f/R/+D/3v/z//j/AwAAAP7/BAD8/yUALQAzADUAIwAMAO3/6//i//L/AQASACYAKwAhABwADQD5/wcABAAZAC4APQBNAEgAVgBNAEgAMAA5AEcARwBfAE4APAAqAC4AIwAfACsAIAAqABkAFQALAAgA9f/k//n/5f/3//j/9f/y/+P/7f/W/87/y//K/9n/7//3//v/CQDz/+r/4P/G/8H/yP/V/+j/9v/2//D/2f/R/9T/2v/k/+v/9f/u/+f/8v/+//T/+//4/+P/8//8/wwAEwAJAP3/8v/3/+X/5P/l/+b/9P/7/wgADgAfABwAHwAjAA4AFAALAAUABAAHAA0A/P/7//b/7//p/+3/+v/9/wgAAgAKAAwA9v8AAAgA6v/W/wsAEQDg/wwASwA+ACcAQgAzAPT/8v8MAAcA+v8JAAQA7v/4/+r/5/8EAAgA/f/z/+//4//L/8r/y//a/9//0P/m//3/+f/z/wEA+v/r//j/9f8DAAgA+P/0//X/9P/u/wcAFAALAAAABQALAP7/AgD6/wkAEQD///3/6f/g/9P/2//6/wMABwAAAOn/z//K/8f/2v/5/wEADQAPABsAHwAdAB4ADwAFAAQAFQAXABwAIwADAPX/9v/z//f/BwAeABEAEAAcAP3/9//5//T//f8KABwAGAATAAcAAwADAAUADAD8//z/6v/b/9//5P/r/+H//f/+/wMAHwAMAAYA+//3/+j/4v/0//T/BgACAPj/AQAEAP7/9v8GAAUAAwAaACAAKgAnACsALQArADkALwA+AEQARQBPAEEARAAxADMANgAwAEkAPQBAAD8ANQA8ACoANQA3ACYAJwAcACAAFAAIAP//3//b/9D/x//A/8X/1P/H/8//wf+0/7n/uv+6/7X/z//K/8z/6P/l//L/AAD6/+r/5//g/87/z//W/+L/9v8AAPz/7f/u/9z/xP/o//j/BwAmACMAGgD///r/7P/j//P/7f/4//P//P/+//T/9//m//P/+f/8/w0AEQAUAAoACAAIAAIAEAAPAA8AGAAJAAcA///p/+3//P8NAAsAGQAbAPz/8//n/+v/5f/x/wcA+f8KAPj/6P/y/9z/5//h//H//v/0/wMA7f/m/97/z//h/+X/9f/8////DgD//wYAIwAmAC8AMQAyACwAHwAnABMAEwAaABwAOwBAAFIASAA1ADMABQD0/+v/5P/0//v/DwAZABgAIwAYAB0AIwAPAB8AGQAaAB8ABQALAPn/+f8QAA4AHAAUABIABgDz/wEA8f/m/+T/2P/f/+D/6//w/+n/8v/7//n/AAD8//b/8f/u//b/7P/z//v/9f/5//v/CQAPAAMADQADAAIAGgAcACIAIQAVABQADQAVABkAGwAnAB0AHwAaAAkABQDw/+D/7P/r/+7//P/w//L/8v/p//L/+v8HAP//7v/4/+j/3f/h/9//6P/e/+j/8f/h/+P/0//E/73/tv/A/8f/z//d/9f/3//3//L/7P/w/87/tf+p/5D/lf+W/6f/zP/o//3/DAAWAAwACAADAAQADgARABUAIwAoADUAOQA3AEUAPwBEAEgAUwBTAEMAOQAiABkADwAYACwAQABMAFcATwAzACYADQD///L/5//k/+T/6v/k/+r/9v/w////BwD6//T/5f/o/+v/8v/5/+7/6//t/+T/zv/T/9P/0//b/97/5v/o/+L/3P/O/8r/y//R/+v/4v/u//b/8P/8//P/CgAUAA8AFwAmADcAPwBJAEIASwBfAF8AcQBvAE0APAAmAA8A+P/q/+//5f/w/wQACAAJAA4A///1//f/2//k/+X/6f/e/+D/5//Q/93/0f/u//n///8UAAUABQD1//P/9P8GAAgADgAsABUANAAFACYAHQAXADQACQBFAPz/OgC3/3AANQB8/78Asf8SAFYAqv8NAO3/1P8HAPf/AgDa/9H/FgC3/yIA/P8DADYA5v82APn/AAD7/+v/HADV/wsAEADv/ycA/P8EAA4A7//w/+L/4v/h/+v/8//2/wkAFwAHABMABgDz//z/4v/l//L/8f/z/wcACAADAAMACwADAAYAFQD+/x0AFgAAAAoA7//r//j/AQAbACIAHgAgABUAFAAOAPz/+f/q/9b/3v/d/+X/9f/6/wcADgANAAsAFAAdABkAJwAdAB4AGQDv/+3/2f/K/8X/v//f/93/7f8FAPX//P/0/+H/2f/d//f/9v8RABwACgAVAAUA9//3/+//8v/m/+//FQAbACYAMQAXAB0ALgAbABsACQD7/9X/vP/Y/8v/4v8HAA8A6f/L/7j/pP/N/9f/zv/B/7H/xP/d//f/AgD9/+f/y//m//T/BgAnAA8ADgAdACMAKgAwACMAFwAKAAAACAAtACcAOgBhACAACQDp/9H/1f/Z/9n/xf/q/+b/DQAfAPv/HQDt/9//+//y/xcAFwAXABEAAgAeAAEAEwA5ABoATgAZABgAQAAOAE4AKgAcACEADwA0AC4AOwA9ADoALwAlADcAKQAYAAoA2//X/9H/1v/v/+X//P/z/+7/7v/s//H/2//n//z////v/93///9EAFYAGADo//b/HgBIACMA9P/k/9z/BgALAAAA3P/Q//X/AAANAAsAFAAbACMADwD4/+z/3v8EAP7/6P/u/+v/8v/9/+D/z//N/87/5//l/wMACAAcAB8ADwAWAAcAIwAdAAsA/f/2//z////8/+v/zP/H/97/5f////b/2v/D/6r/n/+Y/5//qf+l/5j/m/+v/8j/2f/V/8L/vv/B/7T/rv+3/8f/y//Z/+b/7/8FABQAKQAkABIABgDz/wkAIgAnACAA+//t//P/DQAoACIAEwAEABEAJQAxAC4AGAAfADUANQA8AC8AHQAnACEAMAArABsADwANACkAJwAzADQAOQBPAFcAZQBoAFcAWgBkAGAAZABDADEAGAAUACAAFAAbAA4AEQAZACkAKQAuADwAJAAMAPL/6P8AAB4AKwAvABAACAAUAAkAAADw/+T/z//m/wEAEgAIANr/x//A/9r/5//l/9z/2//8/xMAEwAKAPD/+v8TAPz/6/+1/7H/1P/v/xAAyP+V/6r/0v8QAPz/uP+W/4r/xP/v/9X/uf+k/9H/AgAQAO3/sP+5/9X/6f/q/8r/u//e/wAA/f/b/87/6v8FABAAAADc/8H/4v8QACQAGgAGAAEADwAsACIA/f/y/w0ALgA7ACkA8P/T//P/AQAAAOr/zf/X/9z//P8PAO3/5P/n/+7/BQAZAC4AKwA0AEkANQAxABwADAAiAB0AGwADAPL/DQAaABoAFQACAAwAHQAtADEACADw/+T/6P/v/+T/2f/i/wEAGQAkAA0A7//t/wAADAATAAAA6P8AAB4AOQA3ABwABAACAAwAEQAXAAgABwAGAAQAAQD3/+P/2P/f/+P/3f/S/+T/+P8MABYAGwATAPr/7v/t//X/5f/a/93/5f/4/wEA9P/q//j/CwAvADAAKwAyADYAOAAjAAEA4v/p//z/GAAhAAYA+/8KACEAGQACAPD/9/8QADEALgAKAOj/5/8CAAQAAwD//w8ALABAADwAAgDW/8v/1f/g/8j/q/+4/+r/HAAqAAQAwv+e/7j/zf/a/8b/pf/F/+7/DgAdAAMA5f/O/9P/7//4/wkAHgAmACgAFAANAAsAGAAwACgAEQAIABkALAA6ADgAJgAVABgALQA7AEUALAAWABMACgAUAC0ANQBGAEgALQAyACIADwACAOX/7P8AABcAMAA4ACUAFAAVABEABQD+//f/+v8UACQAIQAQABAAEQAKAAEA7v/q/+b/BgAfABsAFQACAP7/+P/s/9j/vP+6/87/2//o/+f/5v/u/+D/zP+x/63/vP/L/9D/yP/H/9P/5//o/9b/uP+t/8D/y//M/8f/xP/I/+T/7//q/+D/4v8FABsAJAAbAAQA9P/4/w8AFwATABUAEwAGAAoAAQD2//X/2f/X/+L/5/8BABQAEgAFAPb/6f/u//f/9f/w//X/AAAPACAAIAASAA4AHgAsAC4AKwAwADgARABLAEMAMwAfABkAGQAkADIAOwBHAEsAPwAqABEA/P/7//3/8f/w//f/+/8HAAAA6P/Y/8j/0//e/97/2P/T/9v/4v/r/+P/3v/a/9T/2//n//X///8KAAkABQD///L/9v8HAA8A9//q//b///8UACgAIwATABMAJAA2ACwACwDg/8H/wP/J/+L/7f/s//j//f////z/8v/x//f/+P/w/+D/2//k/+7/5v/g/87/sf+1/7b/xf/h//D//f8KAB8AKwAnAB4AGwAJAP///P/9/wkAEwAyADkAMQAuABkAEQAEAPD/7f/v/wAAFwAeACcAIAAhACUAJQAqABMACgAIAAwAHQAVABQAEgATABwAJAArABoACAD//wMAFQAiACYAKgAdABEADgAFAAkAAwAMABUADAAQAAkAFAAZAAoA///2//r/AQAAAPr/8//w//b/BAAWABgAHAAeABMAEAATAA4AAQD4//v/AAAAAPr/5P/Y/8n/wv/P/9T/2P/S/9n/7v/5//L/6v/l/+H/5v/n/+n/5//p//T//f8AAAIAAAD//wEABAAFAAAACAAMABcAIgAPAAEAAwAPAAsADAANAPv/9//8/wcAHgAbAAQA+f/x//L///8AAO3/2P/X/+7/BgAPAA0ACAACAPP/8v/w/+X/7P/j/9//5f/r/w0ALQAvAB8AEAADAPX/5v/n/+P/4P/s//X/CwAIAAcAEwATACcALQAuACwAHAAPAAcABAADAAMA9f/r//T/DwAdAA4A8//h/+T/9P8JAA0ABAD7//z////0/+j/5v/t//T/8//p/+D/4f/y//v/7f/d/9v/7/8IAAwA/P/q/+r/8//3/+z/3f/f/+v/+/////b/8P/8/xkAHgAZAA8ABgASACIALAAeABgAJwA2ADoAKAAJAPD/8v8IABMABQDp/+L//v8eACcADQD2//b/AwAZABQACwAGAAYAEQALAPf/6f/+/ycAQAA1ABwAGgA2AE4ARwAlAAIAEgBCAFYAPgATAP3/BgAbABYABADs/+j/9P/o/+P/3P/f//D/+f/5/+L/3v/1/wIA+v/k/9H/0v/y/wsAAgDs/9f/0P/d/+7/7//i/+b//v8TAB8AHwAcABkAFQALAAcADQALAAIAAAAAAAAA9P/l/9//3//r//f/8v/q/+v/AAATAAIA6f/d/9//7P/s/9P/vv/G/9j/5f/V/73/wP/O/+n/9v/n/9z/5f/4////+v/w/9//3v/q/+v/7//5//7/BQAIAPX/4v/r//7/EQAgABkAFwAcACcANAA3ACUACgANACUARABOAD0ANAA1AEIARQA1AB8ADwAZACAABwAAAA4ADgAOAAoABAD3//v/EQAQAAsAAADw////GAATAP3/+/8FABIAFgAMAPH/3//r//z/FQAkABUA/P/3/wcAEgANAPL/5v/x/wkAHQATAAUA9/8FABwAFAAHAPv/CQAnACcABgDq//L/BQAiACYAAwDv//b/FQAmAAEAyP+v/8v/7P/w/9n/wP/P//n/DQABAPH/7v/w/+//5v/N/73/yf/d/+P/0v+8/8T/1//o/+n/1//W/9b/5P8FABUAFAAAAO///f8ZACUAJgAeAB4AKAAeABkAEgAGABEADAARABwADQAGAAAA+//r/9j/3v/y/xEAFwD4/9T/0//4/woAAADc/9D/7f8KABwAGAAMAAEAAAADAAkABgACAA4AEgAKAPr/7P/s/wMAEgD+/+j/6P8HABsACQDx/+T/6//l/87/uP+z/73/wP/J/9v/8P8AAAYACgDw/+r/DAAwAEEAIwAAAPj/HABDADsAIwAgADoATwBcAFEARQBDADcAIwAMAAoAFgArADEAHQAFAAoALQA0ABkAAwD9//H/7f/u/+f/0v/C/8n/1f/u//v//v/t/9z/7//1//T/+v/+//n//v8NABcAHgAXAAwAGAAdAPz/5v/9/yAAKAAXAP//9f8LAB8AGgAKAP//AQAaAC8AOQAhAAAADAAZABkACQD4/wkAKQAxAA4A9f/x/wIABQD2//T/9f8KACgAQQA/ABwAAwABAAMA+v/r/9D/vf+1/7j/xv+3/6T/p//F//T/CwABAOT/1P/Q/9H/xf+l/6T/u//f//z/DgAUAA4AJAA7ADcAHQAeACkAHgAhABMABQAJABIAFAAOABAACwAAAPn/BAAPAAYA8//m/+n/8////wAAAAD6//b/7v/6/xkAEQABAPP/7v8FABIAAwDo/9f/6v8IAAcA/f/+/wQAIQBIAFIAMQAMAAsAIQA2ACQA+v/x/wEAGAAhAA8A7v/g/+z/9f8BAAAA7//m/+r/+v8IAPn/5f/2/wwAFQAaAA0A4//U//f/BwDu/8f/uv/I/+L/9v/o/8b/tf/L/+P/6v/h/8n/xf/r/xkAHAAHAPr/AwAhADMAKAASABcAGAAHAAMABwD8/+j/7v8NACQAHQAYABQAGgAuAC8AHQD8//X/BwAgAC8AIwAJAP3/FgAiABsABADi/9b/7/8YAA8A7v/d/9//2v/X/+3/8f/s/+P/3v/q/xQAIQDs/77/tv/S/+r/BAAGAPj/BAAYACEAEQAIAAAAFAAyADMAHgD3/w4AMQAlAAYA/f8PABsAIwAZAA0A+f/z/w8AJAAvAB4ADQAZACYALAApACMAHQASABMAJQAgAPf/1P/N/9v/5P/b/9//5f/i/9T/v/+6/7//wv++/7j/t//D/87/1v/2/wkA5f/C/+P/EgASAPf/8P8DABEAEwAeAB8AGAAhACsAKQAgACoANgAzADUAMAAYAAoADwAkADgAEADe/9r/9v8OAAYA7v/L/8///P8VAAAAzv+//+b/DgABAM3/ov/B/w0ANgADALb/xv8JACsAAgDR/8n/8P8dACMAEgDy//P/6//h/+7/AgAUABAAFwAKAAAA8//o/+3/6//p/97/7//t//f/EwAAAOj/3//r//7/BQDu/9n/8P8VACQAIgAgABMAMQBVAFsAXABIAEYAUQA+ABwAHABCAF8AWAAfAPH/BABCAFgAOgAFAOP//v8oADUACwDT/8D/2P/9//r/9P/q/9z/5v/s//H/+f8DAP3/8f/7/xQAKQAbAP3/6P/u//n/+//r//f/KQAsAAIA0f/Y/xAAOwAeAMf/uv/9/0AARAATAPL//v8oAEkAQwAHAMv/0/8ZADgAEgDa/7v/9P8rAB0A6P/P//L/AADu/9f/yP/a//X/7v/i/9v/4P8AABwAGADq/+P/FwA4ACEA3f/I//H/HAAXAN7/tv/H//f/AADe/8L/xP/L/9n/6P/c/9X/1f/s/wAA9P/h/8j/1P8RADUAEQDT/8r/7/8YACMA6/+p/9D/LgBlAD0A1/++//n/PwBhAD8A9f/V/xYAWgBSAB0A4//j/zcAagBAAAAA5/8SAEwANwDs/9T/9P8WADgAIADW/7z/4/8VABkA3v+S/6j/HABPAAUAn/+J/+P/MwAeAOz/3v8FAD0ASQAgAOj/4v8SADkALwAEAOT/8v8mAEIAEwDQ/93/JAA8AAsA4P/3/xwADQD9/wYA/v/4/wEABQAAAPn/BQD+/+H/3//q//X//P8GAAgA7f/k/+v/0v/J/93/9f8AAP7/AgAFABgAJQAJAOL/4P8QACsAFgD///H/9/8RABMA7f/P/+T/BwAAAN7/1v/4/xEAAwDp/8v/2P8HABUA+//b/+P/BwA+AE4ACwDd//n/KQAxAAEA0v/X/wIAIgAIANn/zv/n/wsACwD7//H/8P8TAC4AJgAAAOb///8iADUAJgD+//H/HABJAEoAHQD1/wQALgBPAD8AFwAMAB0ARABcAEQACADg//r/PQBHAA4A5//c/wUALwAXANz/sf/N////EwD+/8//zf/+/zEASwAyAP7/AAArAE8ANgD2/9z/8v8RAAQA5//X/9H/4//5/wAA8P/Q/73/3v8UABwA7//C/8r/7/8DAPj/1/+5/9b/EgAfAAcA5v/Z/+X/+/8FAO//1f/W//D/BAD//+b/2f/k//H/5P/K/8j/1f/X/97/8P/c/7//x//U/9n/3P/f/97/7f8TAC8ALQAaAAoAGQA4AD4ALAATABwANgA4ADEAKwAqABUADwAlABwA//8FABAA/v/w//X//f///wAA6f/Q/+f/+//z/+3//v8bABUA6P/b//j/DQAZAAYA2f/Q/wIAKAATAPb/5v/w/w8AJQAiAAgA9P8GAC0ANAAeAA4ACAD//wcADAABAAIA/P///wMA+/8FABQAEAAAAPD/7P/5//z/9f/4/wAAAgD+/wIA+f/s//X/FwA0ACMABAAAABwANwAvABUAFAA4AEYAJwACAPH/9f8BAAkA+//u//n/CwAOAAEA+v/0//b/CAAMAPP/7/8GAP//9v/7/wYACgD8//r/AgAOABcAGAD+/+j/AQAaABIA/v/w//f/HAAuAAUA3//i/wAAEwAGAOT/2P/9/xwAAADb/97/9v8XABgA7P/e/+L/7v8YABoA/v/x/+n/7P/2/wAA///v/+X/5v/9/xMAGAALAPD/3v/3/xUAEwAAAPD/CAAsADkAGQDr//v/IQAeAOL/uv/Q//P/AwDy/8//y////xQA/P/Y/8r/5//4//H/2//W//L/EgAVAP//6P/b//H/BgAIAAUAAgAJABEAHAAeAAgA/P8HAAcAAQD7/+7/7P8EACgAHgABAAMABwAKABsAIgAlACYAGAAYAB4AMgA0AB4ADQADAAsAAQDx/93/y//H/97//f/4/9T/uP/P/+z/6v/G/6v/nv+Z/8X/2f/i/+b/2P/U/9z/9/8QABgABwD8/wsAKABEAFAAPAAiACoAQwBhAFMAKAAbABQAIgAzAC4AHQARABMAEQAJAAkAFQAXAAgA8//4/xIAHAASAPf/3//b//v/BwDt/9D/vf/D/+z/KQAXANP/wP/Y//f/DAALAOj/1P/d/wQAHgAQAPv/4v/v/w8AFwAOAAUAAwAUADIALgARAAsAIQAuABkADQD+//b//P8BAAkABgAMAAQAAADz/9j/3P/2/xgAIAARAPn/7f8DACkAMQAFAPP/EgAuACsAHgAIAPf/DQAcABkAFAD8/+j/4P8EABoACwAFAP7//f8AABgAFQAAAPf/6//n////HwDy/8z/3v/4/xYALwAXAMf/yP8UAD8AHgDr/+////8KABQACwDo/9H/2//o//j/5P/b/+//9/8BAPH/3v/p/wcAGgAZAAUAAgAXABUAIgAJAOb/8P/l/+D/7P/Z/9L/2v/G/9L/0v/Y//H/0f/L/97/5f/x/+//+f/4/+X/8//w//7/FAAFABQAHQAUABcAGwAkABUABQAAAOP/3P/v//X/6//g/+r/3P/I/+f/5v/O/+b//f/0/+X//v8LABAAKQA0ACMADQAyAD8AOgA4AA4A+P8HACEALwAnABIAFAAXAEIATAAMAA0ALgA0ACUAIwAMAO//EQA4ADAAAADx/wAADAArADgAGgD3/+z/7f/3/wcACQDl/8n/4//3/w4AJAAVAPD/6f8XACYAKAAVAOn/6f8RADcALAAOAP7/+f/2/xoAIgD1/+7/+P/3/wIAIwAiAA0A+f/2/wcACAAUAAQA5v/k//b/EwAyAB4A5f/i//f/+f/w//r//v/v//H/4//k//T/8v8FABsAEAD5/+b/+v8pABkA9//s/9T/4P8JABUA8v/y/xEADwAhACUA/f/n//n/DAD5/9z/8//3/9v/8f8jAB0A6f/p/+7/5P/+//v/0f/N/8z/xf/T/+r/AQD0/+j/7P/n//P/EgAPAOb/vv+n/73/+v8aANf/rv/s/xkAGQD4/77/u/8LAEgANgALAB4AOgAyAEEAKgDx//n/IQAXAP//MwBXADEAJwAfABUAKAArABcA4//J//b/DQARACUA5/+u/8z/9f8DAPD/7v/n//r/JgA6ACcA/P/7/woAHwAdACIADAD2/yMAFwAIAAwAAQD7/9z/zf/W/+//DwATAOr/3P/v/w4ALAAOAOD/qf/N//z/2//A/63/0P/V/9H/3//g/+3/9//w/+H/DQAjAAcA///l/9D/AwAwABwA/P/j//j/AAAGABQA4v/M/+v/AgD5//j/8f+1/73/9v/6/+n/7//g/9b/+P8MAAsAEAA5ACUA4//q/xoAQgBJACAA3P/S//3/GwAOAPv/5v/A/9v/EAAcAAAAAQASAAgADgAaADQAWQBcABIA//9AAGsAXAA+ABwA3//v/zkAZQA0AAsABgD//zAAPQAaAO//9P/5/+f/4f/V//L/CAAcAPf/1P8LABsAEQAWAA4AAgAoAEIAMgAYAPX/BgAsAE8AIQDT/9j/9/8nAC4A///J/7D/DgBVAA8A4P8AAC0ARAAcANv/2P8YAGIAHQCv/5r/vf8qACIAzf+U/5D/+P8PAP7/2P+c/+H/QQBOAAYApv/J/xYARAA0AKz/vf8gABcABgDa/8r/9f8QAAsAw/+a/yYASgDm/7T/nv/Z/xcAGwCv/2X/mv/6/zQANgACAJT/sf8BAEwAKQDG/7b/kP/v/zIAEQD4/+j//P/7//z/2//X/xYAQgAIAMX/4v8kAEQAAQCh/2X/w/9OACMA0v+5/8r/AABEAFsA7f+y/wUALgAtABoADQD8/yEAWQAVAOP/EwBDABAA6v/g/+X/FABNAFEA3P+5//H/LgBGAAgAr/+n/wYAKgAyABkAEgArAPH/6P8XACwAOAAjAO//BAAKACoAfgBcABsA+/8SACIAMQAyAPn/sP/I/0MAUwA9ACMA+//j/yYAawAtAAgACwANAAgASABNAOr/uf+Q/4v/m//u/+//hf+g//H/GQAFABEA9/+q/8r/3P/V//z/MAAxACgADADt/xoARwBwABgAp/+0/8H/IAB9AF8A0v+n//L/DAAqABEAyP+J/8v/IgAaAC0ALQDn/7X/7f8EAAgAHQDv/5L/iP8tAH8AUQAkAMj/af+3/2sAfQAQAKb/lf/K/zwAiAA0ANb/wv/S/9n/GwAeAPH/BAAAAA4AHwBgAHEAGgDb/73/xv/+/zUAKAAiACsAPgA0ACUAKwDd/8v/1v+l/73/9/8TAPT/+P8PAPL/EgA2AAEAvP/A/wcALwArACsA5v+6////KQAQAN//x/++/+//OQA2ABYAFAAjAAgA3v/+/ycAEAABAOT/5P8bAEIAZQAOAKP/pv/R/ycAEADS/7D/n/8gAEUAHwASAOX/HwA2AB0ABACo/9L/SgA/AOT/xf8MADgAIQDp/4P/gP/l/xwACgDa//D//P/6/0EANQD3/+T/5v+9/7X/DAAUABQAFQAQAPr/1/89AF0AEgDk/6n/rf9GAMAAhADo/5r/1/84AF4AKgCw/2f/6P82ACcALQD3//D/8P/v/9v/qf8GAEEA3v97/5//JAB3AF8Azf9q/7b/TACLADcAwv+n/+z/TgB+ACIAxP/G/9n/5//l//v/GwApACgAKAAOAPX/FwAVANX/iv+U/+7/KQA+APn/rv/m/28AqwAyANP/y//V/yYAWgAzAO7/8v8tABcAEQA8AA0A3P/e/+H/s//z/3wAaQAuAPn/9//z/y0AhwD9/4v/vv/r//z/SgBVAOf/yP/y/zYAHgDl/9b/ef+8/0gA4v+u/xwALgAQAPr/6//d/7z/AwDa/1z/t/8sABAA0P/I/5b/xv9fADYAo/+D//n/LwASAEoAFACd/+H/LAANAPX/IAAPALL/BwBZAB0AHQBVAEkA9f8JAC4A/v8FACEA9f+4//v/NgAgACoAFADb/9b/agCvAB0Asf++//n/EgAuACwA4v+P/5z/0/8MAGkATgDF/0v/e/80AJAAhwD1/0n/Uv/v/3MAQwDv/8j/j/+k/yoAbAAgAPb/BgDg/+7/eQClAD8A3//e/wQAJQBnABgAg/+U/+j/GgBBACAAnf+B/xMAeAAvAOf/6//g//T/RgBJAN3/0v8HAP//7P8BAC4AOwBIAPj/m//r/1kAagAAANP/wv/E/1sAlgA/AMf/3f8ZAMv/vv/L/9f/+v/k/9v/+f8aACUAAADo/+f/wf/E//r/8v+5/6T/6P9DAF0AJgDS/6n/yP82AIMARwDX/63/5v8bAC8AWQAaAKT/q//j/xwAKgA2ACoA0//7/0gAPQA3ADwAAAC//+//AQDi/zcAjAASALD/8/8eAAUA+/9HAAEAkf8VAFkAVQBEANr/w/8BAE0AIADI//T/KwAZACwAZAAxAPT/LwBDABYAFAAdADMADgD0//j/6P86AFsAGADq/7f/tP8NAFUAHQC8/5H/wv8pAF8AXQDc/3//2P/9/xQAMgDq/7X/0v8AAAMA/f8HAOL/x/8NAC4A0v+t/wcAAQDx/xQA6f/L/+j/LwDr/4T/1P8mACkAEgDg/5f/5f+AAEIA0//C/+P/FQAjAD0A3P+G/xwAawAQAOD/x//R/yEAPgALAK//qP/7/ycAKgAEALP/l//q/yAAAADX/8L/w//Q/9r/3v++/9X/KgAwAPf/wf8DAFQAQwAhANH/xv8LABsAFwAAAA8ARQBSAEoA9/+n/8j/IwAWALD/cf+L/93/8v8CAOH/hv+F/8z/BAAIANz/mv+q/w8AJQD6/+P/FQBNAPn/CQAjAPb/ZgCfAGoAJgAGAFUAdABjAEIA8f8fAJkAlQAhAPT/IwAtADEAPQD2/5L/xv8HAPL/4P/i////AAAoACUAzv/d/yAALwD9/8X/nf+I/xoAYwADAK//hf8MAGAATQAbALn/+v9HAFgAPADt/yEAVwBiADIA8P8jAEIAfgBDAMj/wP/K/zMAQAD+/97/wf8gAFUAIQDv/+f/PgBFABUA1/+x//P/BwBLAE4A6P/a//7/UQB0AA0Amv+t/xMALwAVAOP/4f8oACcALwD4/8b/IgAvABQA4f+M/9//hACXACgAwf/h/yYAMgA7AAkAsv/I/xIACgDi/6//gP+G/+X/DwDD/5f/x//S/5r/1P/s/7D/uf/n/83/hP+5/w8ADQASAAAAw//r/2EAbADt/8H/6v/r//f/EQD4/7z/2v8cAP7/6v8NACUAKAD//wcA9v/x/z4AHQDf/9f/+f/3/8H/1f/i/8n/8P8GANT/tv/e/w4A9v/4/wkA0P/b/yYALQACAOX//v8XACUARQAhAOf/CgBCAEEAHwAPAO3/9f9KAFMA+P/E/wcAIAAJAP//5P/Z//P/IgAFAN////8GABUAWAAuALr/u/8SADsAGgD9/+D/1P8ZAEYAHQDy/wMAHAAeAEMACwDY/xoAbwB1ACcAHQD9//L/RgBlACsA9P/s/wAAHAApAPb/tP/5/ysA9v/O/9D/2f/4/ysA+v+N/5H/7v8iADgADwCi/6v/OwBmABkA+P/1/wYAKwAxAAEArv/b/yAA7v/k/+z/rv/C/yQALwD3/7f/2P8IACMANADQ/6P/CABlADYA0f/t/ywAOQBRACsA0v/T/xwARAAzAOH/wP/X/w0AOADp/7r/4f8tABwAx/+r/7z/+f8qACoA5v+o/8P/MgBFAPv/z//C/8j/5f8AAOn/5P///wkA9P///wsA9f8DADkALQDW/9z/JQA4ABUAAgD5/+H/AAApAAIA5P/2/+//AAAaAP//2f+5/+D/9P/G/+n/DgD///j/EQAfAAkA5f+5/9P/8f/+/+7/3P8DABgAEADw/wEAJQAtACkAEQANABEAOQBPAEIAFwD5/xIAGgA6AD8AGgAbACwANAAuABAA/v/7/wAAFQDa/7D/4f8wAEYADADW/9j/FQA2APD/l/+5/wkAFgDn/9r/3v/n/xMADADS/7D/1v/s//b/DADd/73/8f8/AC4A6/8KADMAKgAsAC0AAgAAAFIAaABHABoA/f/3/ygAdgA1AN7/5P8nAC4AEAAAAO3/8v8IAA0AwP/V//j/BQAiAAoADAD1/wYAIwACAOr/4//h/+3/AAAOAAkADwATABEAIwAWABIAEQACACgARQA/ACUA3v8NAFAAGAAMANz/uv8BABMA+//P/7z/9P/t/9v/7f/G/7D/BQAvAOj/vf+5/+D/GAA6APH/gv+e/+H/IAACAMf/xv/T/y8APADh/8n/6f8eAEQADgC//7D/BAB3AEwA+v+//8T/SQBgACIA9f/5/1YAWwAXAAMA5v8TAGYARwDk/5z/uv8JADsAAQCb/5P/8f85AA4Ayv+0/8//DwApAPv/xv/F/wwANwAgAOT/yP8iAIYAVgDd/9D/AwBAAEgA9f+3/9//LQBJACgAyf+M/8v/EgApAOb/n//W/+z//P/w/8H/zv/f/8//lP+y/+X/8/8YADYAGAAEACIAKABWAB0A/v8XAAAAZABiACIAMQAzAFgANwAKAB4AOwBwAEEA9P8OAD0AZwBPAPn/9f8iAE8APADW/+v/NQA+ADgADADY/6f/3/8OAKP/pf/T/7z/2//V/+n/5//w/zkA//+7/93/FAAQACcASQAJAPT/HwBFABwA1//C/+D///8VACQAxv/a/1MAWgAiAPL/HQA2ADIAOAD7/97/MABkABYAzf/r/yUAJwD//+H/uf/g/0IAAACZ/7b/5//b/67/uf/V/8n/2f/r/9H/x/8BAA8AzP/g/+j/qv/a/zsAJgDE/5P/1P83AEQALQDF/5//PACXAHcA///A/wUAUwB+ACkAy//t/yoAPwAvAOD/xv8zACAA1P+z/4f/4v8QAPb/1P9K/1H/7v/w/87/sv9k/6L/DgBSADkAyP/q/y0ANAAyACUAIQAWAEoATAABACMAbQBiADYACAD3/yQAVABcAP//t//i/yAAPAAVANP/nv/P/yIAJgADAMr/yv/1////6P/K/93/AQAAAOT/4f8EAD0ASgAFAP3/DwAXAFYAOADz//3/DgAmACAA/f8pAEcAFwAAANz/3/9AAD0A9v/K/8b/BgAkACYA+P+//6v/3P8rANf/c/+K/97/LQAhAML/kP/l/0MAWwD1/5T/2/84AIEAUQDo/7//AACMAGAA7v+z/+7/fwCDAEIAAwD0/0EAnwA4AKr/x//3/zsAEQCh/4n/zv9gAFsAzP9s/6v/BgAmAPz/P/85/9X/TABSALH/mf/7/1AAbgDu/4r/0/9TAGgADACt/9H/fwDJAH4A9P+3/1AA3QCEAMr/aP+h/1kAZADG/4H/jv8LAF0AEwCw/5b/9/9DABUAu/+o/9z/GAA/AOf/cf/M/2UAUQDk/5X/m/8MAGwANgCZ/4T/JQCUAHIAFAABACMAcgDAAEYAy//+/2MAeAAWAMn/z/8aADUAEACj/1b/+v80ANP/i/9d/6X//v8gAAwAqf+K/yQAWgAUAOD/of/k/ycAHADP/3n/1v9GACMArf+m/wcANABEAAgAv//h/zwAbgArAOT/CABIAEsAMgDc/63/GwBoADoA1f+1/wIATwBTAAoA0f/D//7/PADw/63/0P/8/xsA7v+s/8r/5P81AGIAvP9s/9j/LQBFABcAlP+A/9n/PQA5AGz/bf8LAB0AFQAAAMT/5P9UAHkAJgCy/wAAmwCPAE8AFQACAG0AwAB+AAAAzv8qAFgAPwAfAMz/2/8VAEUAHgCX/3r/v/8RAPX/l/9x/8D/GQAEANX/kP+o/wwANQAAALf/1f8PAFgAXAD1/9H/4v8uAHgALwDy/woASwCvAIAA6//l/xEATQBeAOH/p//g/x4AOAAEAML/yP/w/yoAMAC2/5j/6v8yACIAwf+V/6j/BgAXAL//j//B/ysAJQAGAPL/u//p/0IAQAD4/63/x//7/xgASgAZAN7/HwCZAJAANgAZABwANQA4ABsAxv/K/ygASgAWAJ//sP/o/ycAdQADAKr/7f9WAHwAMwDq/9z//v8nABYA4P+t/9b/CQD8/x0Ay/+T//T/GADo/4//mv/f//n/6/+7/5j/wv9CAFsAAADb/wcASwCJAJQAFADb/ygAbgB+ABMA6f8BAAsARgAWANj/6P8GABoA2//A/8X/4v8jAAwA0v+4/8r/EAAxAA4Ax/+U/8z/HAAXAMj/o//H//3/KAABAMX/uv/2/zcAIADq//H/JgBHAE4AHwAPADMAZgBwABYA//8rAEEAVAAhANX/y//f/xAA+P+n/63/rv/O//7/8v+t/6P/4//p//b/x/+y/9//+/8fAOf/t//v/x0A/f/0//T/8f8RACQANQADAAIATgBnAFQAKAA1ADIAHAAMAP3/GgAcADcAHgDi/w8AFQD4//H/3f/U/8T/t//G/7f/rv/s/+b/y//v//b/BAD7/+b/3f8DACIA+v/u//D/DADp/+H/IgDc/7L/8v8GAPj/BQAjAAUADABSAEEA7P/m/y4AKAD8/w0A/v/t/zYARQDI/5b//v9KABwA8//n/8P/CQBgAEYA8//q/zEAEQDp//j/DQAzAFkAMQDN//D/VQBlABIAxv/E/9v/BwAwAOP/bP+n/wYAIgAFAMf/s//X/1AAUwDl/8L/AABhADAA6//Z/7n/GwByAAkAov++/y4AagA4APX/qf/g/3YAXgC7/27/5f89ACcABACf/6b/MQBfAA4Al/+9/yUAKAAgANH/iv/2/2gASgDI/5X/9f9EAHEAKQCu/9v/ZwCmAD8A+f/1/w8AcABQAO7/sf+8/yAAGwDX/9P/0P/0/zIAAwDL//X/PAA6AP//3f/V/xMALQAMAO7/wf8JAEcALgAfANf/zf8ZAD0AFQCz/67//P8cAAAA0f/D/+D/EQAHAMD/sf/s/xUANgAdAMD/sf/W/xwAKADW/8T/4/8LACQAJgAbAB4ANQApACwAKAAOABcALAAPANP/0f/2/xkADADk/8j/rf/s/zkAGQDu/9f/8v89AEEAFwD3/+3/IgA1APj/6//9/xIAWABXAPD/wf/8/0EAOgDl/6P/rf/f/yIACgCd/47/y//5/wMA2P+e/5T/6f8uAOn/i/+G/7T/5P/5/8z/kP+b/+b//v/X/9r/9/8VAC4AGQDz/wAAUwBpAAoAw//y/0cAcgBrABcA2/8JAF8AcwAgAOn//f8UACYAIQACAPz/HwAUANn/yv/v/xMADgDo/9z/AwAaAB8ADADk/wEABAD3/xIA2/+7//z/FgAJAPv/+f8XABYADwAmAAwACAAsABgAAAAQAB8AJQAwACYACgAAACQAUQBEABQA4f/Z/wgAPwA5AO7/yf/Q/9j/AAAIANX/u/+5/9X/AgAKAP//0v+//+z/AQDq/9v/5v/t/+3/5//X/87/3v8NAB0AAgABAAcAHgBNADAAAwATADgAUAAdAP7/IwAsADoAOgARAOT/6v8+AE4AEwDZ/6//5v8/AFIADQC9/87/EQAWAPb/3P/V/wEAFQDt/7b/3f9MAE0AAQC//83/LQB7AGEA4v+1/wkAZABTAA8A7P/Y/xEAOQAYAPz/CwAzAAsA3//w/w0AJAAjAAMA0P/e/ycARwATAMX/pv/b/0IANgDV/47/of8hAFQADACY/3T/4/9VACgAjP9n/8P/SwBdAL7/dP+6/zQAZAD0/4L/nf8KAFQAAABi/2D/1v8uAAAAfP9b/6P/DgAkAML/aP93/+P/GgDo/5r/jf/l/zoAPAD3/8j///9QAGEAIADN/8//NACBAGkABwDg/ykAaQCAAEwA6P/K/w4AZgBwADAA2v/k/0EAggB1AAUAxv/6/zoARAAZAMH/tv8VAFUARwDw/8v/AAAnAC0A//++/9b/HQAwABMA5P/o/xEAMQA6AAYA1//p/yEAPgAhAPL/5/8dAGoAWgD5/9r/AwBUAIQASgD8/+T/GQBlAEkA/P/v/wQALQBBABAA6v/5/x8ARQAqAOL/z//l/yAANADm/6n/rf/2/0oAUADu/6T/2f83AG4ALADQ/8n/9/8oABkA5P/a//z//f/m/+X//P8oACgA9//O//P/QwBBAAAAvf/O/xAAJgANALf/n//R/wIAAADK/8D/1f/v/93/rf+o/9z/EAAEAMf/jv+x/w4ARQACAJj/i//N/x0AEgDG/4v/pv/+/xIAz/+K/5r/2//9/93/pP+g//H/KAAIAMr/n//g/zYATAAHAKX/uf8jAIoAdgD2/6b/zf9CAIgANQC2/5P/4v9ZAFkA///C/9T/GAAkAAcA2v/Y/xAAFwDu/9j/8P86AF0AJgDa/63/5/9KAF8AHAC8/6X/6/9OAF4A/P+x/8j/EABGACkA4//J//P/LwAxAPv/6P8GACMAKgAWAAUAGQAvACwAEADq/+X///8cACMA/f/W/+r/KQBeAGQAEQDD//L/RQBxAEYA8P/j/x8AXwB1AEAABAAvADgAHQAWAAUANgBHACQA5f/A//z/QAAxANH/o/+m/+3/PQA6AAsAy//d/xUALQAgAP//1v/R/wEADwAVAAkABAANAO//5//+/xAAEgDq/6//tv/y/yQAFgDa/7//yP/1/xQACwDo/83/2P/t/wUAIgAsAPn/xv/F/+n/HwAeAPb/vf+u/+r/JAAzAAoAv/+G/57/7v8kAAwAvv+Y/7T/+f84ADsAGQD0/9z/6P8cAFEAYQAjAMD/sP/p/zEAPgD1/6v/lf/C/xEAOwAjAPj/zv/O/xUAYwByAC4A2P/Q/xcAXABgAA4Atv/H/w8APwA3AP3/5P/s/+X/8f/+/wQA9/+t/4P/r/8PAF8AQwDL/3f/pv8hAHkAVADe/4v/nv8AAFMAUAAAALP/m//P/yMARAAVAND/sf/G/wAAGQAIAOf/zP/Z//r/HAA/ADwABQDg/+X/GABJACoA+P/T/9//GgA0ACkAAQDR/8///f8kACwACQDg/9v/9/8rAE8AMgD6/9n/3P8KAD8ARwAbAOL/1f/v/xMAMQA2AA4A5P/h/wAAOgBiAGEAKADt//j/JgBVAFcAHgDZ/8//FQBSAE0ADgDP/8P/7/8uAC8A8f/A/8b/AAA8AEEADADb/+b/EwAcAAUA7f/m//L/+P/0//H/AgAWAAAAz//G//L/KwBDABkA3//M//3/RABNACEA+v/y/wUAJgAwACAACQDx//f/AgAHAAwA6f/R/+D/5v/f/9X/3v/6//f/2v/Q/93/AAAbAP//1f/N/+z/HgAtAAQA0v++/9P/9//x/8j/qf+0//T/KgAdAOv/0//n/xYAKQAJAN//3f8AABsADwDw/+T/7//9////3v/F/9j/7f/1/+3/2v/X/+f/BQAQAO//2f/y/xsAKwASAPT/9f8VAC0AIgAJAP//CwAgACsANQAxAB4AGgAjADUAOgAjAA0AAwAGAA4ACwAJAAYA///w/+r/9//5//D/6f/b/9//9v8PACEADgD+/wkAJABJAFIAMwAIAPb/BQAjADMAIQD4/93/7v8bADUAJwAAAOH/8v8qAEsANwACAN//6v8IAB0ACwDj/9r/6P/x/+b/1P/d/+n/4v/G/7H/wf/i//v/9//c/8r/2v8KACwAFwDZ/77/7P8xAEkAFgDh/+P/DwA3ACMA7//V/+7/DgAPAPr/9P8LABkADQDt/+n/FgAxABwA3/+6/93/HQBGACMA0/+u/93/GAAhAPb/t/+m/8v/+f8FAOH/xP/M/+7/EAAPAPj/5v/v/wIAAQD3//3/BgABAP3/9P/u//f/AQD+//P/6f/s/wUAEwANAAMA9f8KAC8ALwAhAAUA8////xAAGwATAAAA/f8NAB4AHwAVAAgADgAcAB8AJAAqACUAHgAgACEAJQAeABoAKAAoAB4ACgD//w0AFwAAAOD/3P/l//T/9f/Y/87/0f/k/wIA+v/i/+D/6v8PACoAGQAVABoAGAAfABUAFwAoACUAGwAOAAUAEwAcAA4A/P/s//L/DAAYAAkA8v/r/wAAEwAXABYACAAAAAAA/P8EABAACgAHAAQABQAXABUAAgDz/+D/2f/k//T/BQAJAPT/5v/y/wAABgADAPj/7P/o//H/AAAOABEACQD///z/BQAUACgALwAhAA8ADgAmADUAJgAHAO//6//w/+//3v/R/9f/5P/2//7/9//7/wYADQARAAoAAwAPAB4AIgAMAOb/5P/9/w0AAQDi/9n/6P/7//z/5f/T/9z/8v/8//v/9f/3/wEACAAIAAQAAQAHAAkAAQAHABYAFwAUAAoABQAIAAIAAQD8//L/AwASAAMA8f/t//3/EAAPAAAA+f/8/wwADwD4/+T/6f8AAA4A///l/93/9/8eACQABADz//3/DgAPAPL/3P/k//7/DgD9/+b/8v8VACoAHQAIAAAADwAtADQAKQAfABgAHQAiABAA+v/o/+P/7f/v/+v/4P/d//P/CgALAO3/1//g//P/AADz/9X/yf/a//n/BgACAAEAAwAAAAQABQADABMAGQAPAAAA+f8IABgAGAASAPv/4P/o//7/AgD7/+L/z//N/9X/6//s/9f/1P/m/wMAEwAHAAAACgAWABgADwAJABYAIQAaAAQA+v8LACcAOAAmAAMA+v8PACgAHgD4/9v/4v/7/wcA+v/b/9L/7P8AAPv/5//e/+r/9P/k/9n/5//4/wAA9f/l/+z//P8AAPb/6v/z/wQABwD5/9//zv/Y/+X/5f/l/+T/6//2//X/8v/0//j/AAADAPn/7v/x/wYAIAAcAAQA8P/2/xAAGwAFAOz/6//9/wMA9//s//j/DQAZAA4A/f8IACUAMAAaAPr/9f8FABIAEwAIAPv/AAASABwAJwApACMAJAAmAB0ACwABAA4AHgAiAB4AHQAqADwANgAYAAMAAAAKAAsA+f/r/+//9v/z/+z/4//m/+//8f/3////BwAOABIAEQAPABYAIAAhABMAAgACABEAIQAnACAAGAAiADUAOgAuABgAEQAdACYAIgAXABYAHAAWAA8AFgAfABcAAgD1//f/+P/v/+L/1f/U/+H/5f/X/8r/0f/d/9//2f/S/9v/8f/4/+7/7f/9/wsABQD7//3/AAD7//X/8f/y//X/9P/v/+//8//0/+3/5//j/+T/7P/u/+P/3v/n/+v/5v/f/9v/4//w//T/9P/4//f/9P/5/wIACQALAA0ACwAHAAgABwADAAYAAQD1//j/BAAJAAUABgALAAgABgAHAAEA/f8AAAEAAwAPABYAEgANAAsADQATABgAGgARAA0AFgAbABgAEwAJAAIABAAHAAYA/f/w/+j/5P/k/+T/4P/h/+b/4P/V/9L/1//e/9r/0//W/9z/5P/w//j/+//6//b/AgAgADIAKQAcAB8AKgAnABYAAAD6/wwAIQAjAB8AJAAsACoAHQATABYAHQAdAA4AAAAHABsAHwAUAAwACQAHAAkADwAKAP//+P/2//3/CAALAAkACwAQABcAHwAhABYABAD9/wYAEQAYABkAEgANAA8AEgASAA0AAQD1/+r/4//j/+b/5//e/9D/y//S/9v/4v/c/9T/3P/p//H/8f/n/+D/6P/y//X/9//8/wIAAwD/////AQAAAP7/+//8//r/9P/z//X/9P/x//H/8v/4//7//f/6/wAACgANAAMA/P/8/wEACAAFAP3/AgARAA4AAAD9/wMABQD9/+//6v/y////AgD3//D/9f/9/wwAGAASAAcACgAXABwAFAAFAP7/BwASAAwABQAOABYACwD0/+L/4//7/wcA+P/h/+L/+v8LAAIA8f/w//v/BgAGAPz/8P/t//L/9f/5//j/7P/j/+j/7//x//T/9//z//L///8PABcAGwAiACoAKgAlAB0AGAAVABEADwAUABgAFgASABIAFgAXABgAFgASAAoAAAD9/wAAAQAEAAYABAAAAPz/8v/m/+D/4//p/+3/7//x//L/9v/5//r/+f/4//f/9f/y//L/+P/9////AgAJABIAGQAeACAAGgARABMAHQAeABMACQAMABkAHQANAP3//v8GAAEA7v/k//H/AwANAAMA9P/0/wUAFQAZABEACQAPABkAFwANAAQAAQD9//n/9f/q/+L/5//u/+7/7v/z//v/AgAEAAAAAwAQABIABQD6//r//P/9/wAA9//k/93/7P///wMA9//s//b/CQAQAAAA8f/q/+X/5f/r/+j/3f/a/97/2//W/9n/4//p/+f/5P/q//T/+v/5//f/9P/x/+//8f/1//f/+v/+/wQADAAVAB4AJgAsACsAIQAcAB8AIwAfABIABQAAAAAA///5//L/9f/6//n/9P/0//f/AAANABAAAADu//D///8AAO7/3P/Z/+r/AQAMAAoABgALABIAEAAAAPD/7v/5/wQABgADAAYAEAAaABoAEAAKABEAGgAeABwAGQAcACIAHwASAAMA/v////3/8v/n/+b/8/8DAAoABAD5//f/AQAMAAwABQACAAsAGgAeABgAEQAUABsAHQAXAA4ACgANABIAEAAEAPf/8f/w/+v/4//d/+D/4v/e/9f/0//S/9b/3//s//v/BgANAA8ADwAPAA8AEwAVABUAFQAUAA8ACwANAA4ADwANAAoACwATABwAGgAWABcAGAAVABAADwAQABcAGAAKAP3/+/8AAAAA+//z/+v/6v/x//r/AAADAAEAAAAAAAIAAgABAP3/8//q/+f/6v/u/+v/4v/a/97/5v/r/+v/5v/i/+j/9v/6//D/5f/f/+P/6v/v/+3/7f/z//r///8AAAAAAwASAB8AIAAbABkAHAAjACgAIwAcABoAHAAdAB4AIAAaABYAFwAYABcAEwALAAYACgAKAP7/7f/j/+P/6f/v//D/7f/q/+z/7//v/+z/6v/1/wAA/v/2//P/9//8/wIABQAHABEAHAAlACsAKwAnACMAHwAVAAkAAAD///3/+f/1//T/+P/8////AAAAAP3/+P/2//P/7v/l/+D/5v/1//z/8v/j/9z/4v/r/+//7f/r//L/AAALAAsACAALABEAEAAHAP//+//9//7/9v/r/+f/6P/o/+f/5v/n/+v/8//8/wEABwAOABUAGQAZABYADgAGAAQACQAMAAkACAAKABAAEwAQAAoABgABAPn/8f/t//D/9P/2//b/+f/7//r/9v/v/+n/5v/q/+3/7f/w//n/AgAGAAcAAwAAAAEAAAD6//T/8v/0//v////+//3//f8CAAoADgALAAwAFQAfACQAIwAiABsAFgAQAAUA+//0//H/8P/1//n//P8AAAEAAAD+//3//v/+//r/8f/q/+f/5//r/+//7//r/+3/9v8AAAcACwALAAwAEgAWABkAGwAdABcAEAAOABAAFQAWABIADAANABMAGgAdABsAGQAYABcAEQALAAcAAgD9//j/9f/0//T/8P/o/+f/7v/3//3//////wEACQASABUAEAAJAAEA/f/5//X/8P/t//P//v8EAAQAAQAHABIAHAAcABYAFAAXABkAEwAKAAQABgAKAAkAAwD6//X/9P/3//T/8f/z//b/9v/1//T/8f/t/+f/4P/d/97/3//h/+X/6//1/wAABwAJAAcABgAHAAwACwAGAAQABgAGAP7/9f/w/+//8v/0//T/9f/7/wAABwAOABIAFQAVABMADQALAAoABwACAPv/9f/2//n/+f/3//L/7f/w//n/AwAGAAQAAQD///7/+f/w/+v/7P/s/+b/3f/a/+T/8f/3//f/+P8AAA0AFgAWABQAGQAlAC4ALgAmABsAEgAPABEAEQAMAAkABwAIAA0AEQAQAA0ACQAHAAYAAgD7/+z/3P/S/9P/2//f/+L/4//o//T/BAAQABUAGQAeACUAKgApACIAGQAOAAYAAQD7//D/5v/k/+r/9P/7//r/+/8AAAYADAAQABEADQAHAAAA//////z/9//v/+r/6f/t//H/8//2//v/AAAEAAQAAAD9//z/9v/q/97/2P/W/9j/3//m/+z/9P/+/wYADQATABsAIwAqAC8ALgAqACMAGAAQAAsACwALAAYAAAD//wAAAwAGAAkADQARABMAEgARABEADwANAAcAAQD9//f/7v/j/97/3v/i/+X/6f/r/+//9P/4//3/AwAIAAcABAABAAEAAgAAAPr/8//z//X/9f/z//H/9P/7/wIACQANAA4ADQAMAA4AEwAaABoAEwAPAA8AEQAWABwAHQAbABoAGwAZABMABwD8//X/9f/4//b/7v/j/9//5f/r/+3/6//m/+T/6f/z/wEADgAUABIACwAIAAgACwAOAA8AEgATABAADgAMAAgAAAD0/+r/5//o/+r/5//i/+D/4P/g/9//3P/a/9r/2v/b/9//5f/q/+3/7v/z//z/CQAUABcAFgAVABUAEQAKAAEA+v/2//j/+f/4//f/+f/9/wIACQAQABUAGwAfACIAIgAhACAAHgAcABkAEwAMAAgABgAIAAoACgAMABMAGAAbABsAGgAWAA4ABwACAAEAAQAAAPv/8v/p/+H/2v/Y/9//7f/7/wcADgAOAAoAAgD+////AQAAAPn/8v/w//H/8v/x//H/8v/1//X/9v/8/wEAAgD+//j/9P/x/+7/6P/i/97/3//h/+X/6//y//b/+f/+/wMABwAFAAQABQAJAAsACQAGAAMAAQD8//P/7P/o/+n/6v/o/+j/7v/1//n/+/8AAAUACAAJAAgACgAOABQAFwAbACQAKwAuAC0AKwAsAC8ALgAlABcACgAEAAYABwADAP7/+v/5//b/8P/s/+7/9v8AAAwAFQAeACUAKQAoACUAJQAhABcACQD7/+//5v/g/9r/1v/X/9r/3v/i/+P/4v/g/+H/4v/j/+P/3//c/93/4v/o/+3/8v/2//r//f/+//7/AAAFAAoADwAVABkAHQAeACAAIwAlACYAJQAiABkAEwARAA8ADQAMAA4AEgAYABwAHQAfACAAHQAYAA0A///4//T/7//l/+D/4f/l/+z/7f/t/+v/6f/p/+n/6v/n/+P/2//T/87/yv/K/9D/2f/h/+r/8P/1//z/BwASABsAHwAhACQAKAAsACkAJAAZAAwAAgD7//X/8P/v/+7/7f/v//T/+v/8//z///8BAAUACgALAAkABAADAAgAEQAVABMAEQASABgAHwAlACkAKQAnACQAIwAiAB8AGQASAAoABgAEAAEA///8//b/8f/v/+n/5v/k/+P/5P/r//X//f8AAAEA/f/6//j/9P/0//b/+v///wQABQAGAA0AEQAVABUAFAAXABYAEgAMAAwAEAAQAA0ABAD8//f/9f/1//j/+//8//7/AAACAAQABAAEAAUAAwABAPv/8//x//f/AAAFAAcABAAAAP7/+f/3//n/+f/3//P/8f/s/+n/6v/s//D/8//0/+//6v/p/+3/9//6//r/+//5//n/+/8AAAQACAAGAAAA/P/5//H/6f/j/97/3P/e/+D/4f/k/+P/5P/p//L//v8GAA4AEgAZACEAIQAdABMACAAAAPz//P/9/////v/+/wAAAAAAAAAAAAAAAAAA///8//f/8v/u/+//8f/z//b/+f8AAAcAEQAcACcALwAyADMALQAnACIAHQAYABQADQALAAsACgAHAAYACAAKAA4AEAAOAAsACgAJAAgACgAJAAgACAAEAAQABgAHAAQA///7//f/9f/x/+v/6//q/+n/5//i/9z/2v/b/9r/2v/Z/9r/4v/t//n/AwAOABQAFQAXABkAGwAeAB0AGgAUAAwAAQD7//n/+f/+/wAAAAAAAAEAAQAAAAAAAwAGAAkACQAIAAkACwANABAAEgAVABQADwAKAAUAAQABAAEA/f/3//D/7v/z//j/+//9//7/+//4//j/+f/6/wAABwAQABcAGQAUAAwAAgD2//H/7v/r/+j/5f/i/+L/5//r//L/+f/7//z/+f/1//X/9//8/wAABgAKAA0ADAAHAAQAAgAAAPz/+P/4//f/9//5//j/9//0//L/8v/y/+//7f/w//D/7v/t/+//9v/+/wUADAAPABAADwAQABUAGgAeABwAGgAbABwAHQAdAB0AHQAZABEABAD7//b/9P/x/+7/7f/t/+v/6P/l/+j/7v/2//3//v////z/+//9/wAABAALABAADgAMAAkAAwD7//D/4//Y/8//yv/H/8z/1v/e/+f/8P/4////AwAJABIAIQAtADEAMwAyADIAMQAvAC4AKwAnACAAGgAUAA4ACwAIAAcAAwD///z///8CAAEAAAD+/wAAAwAGAAgADAAUABwAJAApACwALwAwACkAHgAQAAEA+f/x/+n/3//X/87/y//N/83/zv/Q/9b/3f/k/+z/8f/7/wkAFAAdACMAKQAwADQAMwAsACIAFQAGAPr/7v/k/9r/0f/J/7//u/+9/8T/yv/O/9D/zv/R/9z/5//2/wIACwARABUAHAAgACgAKwArACgAJAAhABsAFgANAAUAAAD4//D/6//t//T/+v/7//j/+P/5//n/+//8/wAACAAPABMAFgAYABcAFAAPAAYA/v/2/+7/6P/k/+P/5//r//D/9f/3//L/7P/j/9z/3f/h/+3/+/8IABEAFwAeACMAJwAuADEAMAAsACYAJAAiACAAHAAbABkAEQAFAPn/9P/w//D/8v/2//7/BAAPABsAKgA3AD0APwA8ADkAOAA3ADUAMAAqACQAGgAPAAUA/P/z/+j/3P/O/8b/v/+4/7P/sv+0/7r/xP/Q/93/6P/v//H/8v/y//X/9//4//n/+v/8//3///8AAAAA///5//H/7P/n/+H/2//a/9//5//x//r/BAAMABIAFQAXABgAFgAVABQAEgAQABAAFgAeACUAJwAjABkACgD8/+z/3//Z/9T/z//M/8z/zf/S/9v/5f/z/wIADwAeACoANQA+AEUASQBFAD4ALwAfAA4A/f/x/+n/5f/g/9r/1P/S/9b/3f/m/+3/8P/z//n/AQAMABYAHQAiACcAKQAnACYAIAAYAA8ACAAEAAMAAAD5//L/6//m/+T/5P/m/+j/6f/p/+r/8P/3/wAACAAIAAoAEAAVABUAFwAYABUAEQAHAP3/9P/x/+z/5f/e/9b/0//W/9r/3P/d/97/4f/l/+7/+v8EAAoADgASABMAFwAZABoAHgAjACUAIwAgABsAEgAIAAAA+//1/+z/4v/c/9z/4f/n/+//9/8AAAUACAAIAAoADQATABsAIQAoADIAOQA7ADgANgA1ADMALQAiABQACQABAPj/7f/i/9r/1f/T/9T/0v/T/9f/2v/h/+v/8//8/wcAFAAfAC0ANgA7ADwAOwA4ADEAKAAcAA0A/f/s/97/2P/X/9j/2P/b/9//5P/r//P//f8DAAYABgAFAAgADQARABQAFgAYABcAFAALAAEA+//3//T/8P/u/+f/2//S/8z/yf/K/8v/y//S/9//6f/2/wIADgAYACEAKwAwADQANQAyAC8AKwAnACAAFgAHAPb/6f/g/9j/zv/F/7//uv++/8j/0//e/+j/9P/+/wgAEgAaACUALQA0ADUANgA5ADkANwAzADAAKwAnACYAIgAfABsAFQAPAAoABgABAP///f/8//3/+//4//L/6//l/9z/1//U/9D/zf/J/8j/y//Q/9L/0v/Q/9D/1f/W/9X/2f/d/+H/4v/l/+T/5P/n/+f/6P/t//X//v8FAA4AFAAaACMAKwAvADEAMwAzADEALgArACgAJgAlACEAHgAfAB0AGgAZABsAGAAUABUAFQAVABcAFwAYABoAHQAdABwAHAAZABcAEQAJAAAA//8AAAAA/f/7//z//P/4//X/9P/6/wAAAgAAAPv/9v/u/+n/5f/i/+L/4v/i/+L/4v/i/+P/6P/t//P/9//1//L/8P/v/+3/6v/p/+3/9v///wgAEgAbACEAIgAfABwAGwAYABcAFQARAA4ADAAHAP3/7//h/9b/0f/P/8z/yv/M/87/0P/V/9v/4f/n/+3/9f8AAAgACwAKAAcACAANABQAGgAfAB8AHAAVAA8ADAAHAAEA+f/z//D/7v/q/+T/4//n/+z/8v/1//j//f8AAAEAAAABAP//+v/6/wAABwAQABwAJQArADAANAA2ADQALgAiABMABQD8//b/9v/4//n/9//3//r//f8AAAAA///7//v/+v/7//z//P/+/wAAAQABAAEAAQD8//T/7f/p/+f/5//r//P/+/8CAAcADQARABYAGAAaAB4AIQAgABwAGQAVABEAEgAUABgAGQAVABIADgANAA0ACAAAAPT/7P/i/9z/2f/X/9b/0v/R/9H/0//X/9n/3P/g/+X/6f/t//X//f8CAAUABAAGAAUAAgD+//v//P8AAAQABQAEAAIAAQAFAAkAEgAYABsAHAAcAB0AHgAgACAAHwAdABgAFAAMAAUAAQD9//3//v8AAP3/9//x/+v/6//s/+3/8P/z//n///////3/+f/3//j/+v/5//f/9v/6/wIACQAPABUAFQATAA4ABgD9//D/5f/a/9P/0P/U/9z/4//t//D/8f/z//f/+//7//n/9f/1//n//v8CAAYADQAcACcALgAwAC0AKAAjAB8AGAARAAgAAQAAAP//AAD///7/AAACAAMAAAD7//n/+P/4//n/+v/4//b/9f/y/+7/5v/g/93/3f/c/9z/3v/h/+n/8//5////AgADAAMAAQD///r/9//0//L/8P/w//X/+/8DAA4AFwAcAB0AHgAdABcADwAJAAcACgANABAAFQAgACsANgA8ADsANgAvACkAJAAfABgAFQAUABIAEgAUABcAGwAbABgAEgAKAAQAAAD7//T/8f/z//X/+v/+/wMACQARABkAHwAfAB0AGQAYABYAEgAJAP//+P/5////AAADAAQAAAD5//D/6//n/+D/2P/V/9f/3P/m/+//9P/6/wAABgAOABEADgAIAAIAAAABAAAA/P/z/+v/5v/i/9//3v/e/9z/2P/T/9H/0P/R/9T/0//W/9v/4//r//P//f8CAAcADQAUAB0AIQAfACAAJAAoACsAKQAhABsAGQAXABIACwAGAAQAAgABAAMAAgD///r/9f/v/+3/7P/p/+X/4v/h/+H/4v/i/+T/5P/j/+P/4//j/+D/3v/d/9//5f/u//b//v8DAAUABAABAP///v8AAAMABwAGAAYACgAPABUAGQAcABoAGAAUAAwABQD9//X/8P/r/+b/4P/d/93/4v/s//b/AAAFAAgACAAHAAcABgAHAAoADAAMAA4AEwAZAB4AIAAdABgADQAAAPj/7//s/+r/7P/x//b/+v/+/wEAAQABAAAAAAABAAIABAAGAAYACAAMAA8AEAAQABAADgAMAAcABAAAAPr/9P/t/+v/7v/2//v///8FAAsADgANABAAEwAQAA0ABwAAAP3///8HAA0AEQAXAB8AJgAmACYAJwAmACMAIwAiAB0AFAARAA4ACgAGAAkADgAUABsAIAAkACUAJwAnACYAJAAiACUAIwAeABYADAAAAPb/8P/p/+H/2f/V/9L/zP/I/8b/xP/H/83/1f/a/9j/1f/S/9T/2P/h/+v/8P/y//b//v8BAAEAAQD+//3/+P/z/+z/5P/g/+D/4//g/97/3P/e/+D/4f/j/+X/6P/s//H/9f/1//X/+P/8//3//v/9//r/+P/3//b/9//6//7/AwAIAAwADwAUABcAGwAfAB8AIgAiACQAIwAeABoAFwAVABIAEAAPAA0ADgANAAsACAAIAAkACgAJAAcABgAHAAUAAAD6//b/9v/4//r/9v/y//T//P8IABEAGAAbAB4AHgAbABUADAAGAAMABAAGAAYABAAAAAAA/f/7//r/9//0//H/8v/0//b/9f/z//f//f8CAAgACgAIAAgACwAOAAwACQAFAAQABQAFAAYABAAJABEAGgAcABkAFQASABAADAAHAAEA//8AAAMABQABAP//AQAFAAcACgAGAAAA+v/5//f/9v/5//z/AgAHAAsADwASABYAGQAeAB8AHQAZABYAFQATABQAEwAVABkAHAAbABMADwAMAA4AEAAOAAcA///4//D/6P/g/9z/3f/j/+n/7v/v/+z/5//j/+T/5P/m/+f/5v/k/9//3P/Y/9j/2v/d/93/2//b/9z/4P/i/+T/4//k/+n/7v/z//T/8v/v/+v/6P/m/+f/6f/r/+//8v/z//X/+P/9/wAAAgAGAAcABgACAAEAAgAFAAcABQABAPv/9//0//P/8f/w//X/+v8AAAYACwANAAwADQAPABEAFQAWABQAEgAPAAsACAAHAAgACgANAA8AEAAPAA0ADAAOAA4ADwARAA8ADQALAAoABgABAAAA/v/8//f/9f/4//7/AgADAAMAAQACAAMAAAD5//D/5//f/9v/2v/d/+L/6//0//z/AQAEAAMA/P/z/+7/7P/r/+n/6f/n/+T/5//y////CAASAB0AJgApACkAJAAdABkAGgAfACQAKwAzADsAOwA3ADMAMAArACgAJwAjACAAHAAaABgAGAAZABoAHAAfACAAHAAYABQAFQAVABIAEQARABMAFQAXABYAFAATABYAGgAaABoAGAATAAwAAQD6//X/9P/3//v//f/7//f/8//v/+v/6v/s/+r/4//Z/9P/0f/S/9L/1f/Y/9v/3f/c/9r/2//g/+b/6//u//D/8f/x//H/8v/0//b/+P/5//f/9//2//b/9v/z//H/7//u/+//7//w//P/+v8BAAYABwAJAAoABwABAPz/+v/8/wAABQAJAAkABwADAP3/+f/5//r//f///wIABAAEAAMAAwAIAA4AEQAQAAwADAAMAAgAAwABAAUACgAKAAQA/P/2//b/+/8AAAAAAQAGAA0AEAAQAA8ADQAMAA8ADwAMAAoACgAKAAQA/P/6//7/AwAIAAkABQD///r/9P/w/+v/6f/n/+b/6P/o/+T/3P/U/9L/0f/P/83/zf/M/87/0//Z/+D/5//w//X/9//6//3/AAAAAAAAAwAGAAgACQANABEAFQAXABcAFQAWABcAGAAZABkAGgAZABYAEQANAAwACAABAPz//P8CAAoADgAPABEAFgAcAB0AHQAcABwAGAARAAoABwAIAA0AFAAcACEAJQApACgAJQAfABoAGAAZAB0AHgAaABYAFgAcACQAKgAtAC8ALQAmAB0AEAAEAP3/+f/6/wAABQAIAAQA/v/3//P/8v/w/+z/6P/l/+X/6f/t/+//8//8/wQACgALAAUA/v/2/+3/5v/l/+r/8v/6//7/AAABAAEAAQACAAUACgAQABQAEAAKAAgABwAJAAwAFQAhAC0AMwAzADEAKwAiABcADgAJAAcABQACAAEABAAFAAUACAALAAsACAAFAAIA+//w/+L/1v/Q/9D/2P/g/+f/7P/v//D/7v/s/+j/4v/Z/9T/0v/R/9D/z//Q/9b/3P/h/+b/6f/p/+P/2f/P/8f/wv+7/7r/v//J/9P/3P/j/+b/5//o/+n/7f/w/+3/6f/n/+r/8v/+/woAGQAlACoAJgAgABsAFAALAAUAAwAFAAcABgADAAEAAAD+//n/9f/y/+//6v/j/97/2//d/+L/6v/x//n///8BAAIAAQD///v/+P/3//T/8P/x//b///8HAA4AFAAYABkAGAAYABgAGAAZABsAHwAmADMAQQBKAFAAUgBRAE0ARwBAADsAOAA0ADMAMwAyADIAMQAtACsAKAAkAB4AFgANAAIA+f/z//D/8P/z//f/+v/9////AQAEAAQAAQACAAIA///6//j//P8DAA4AFgAaABkAEwALAAUAAgD///v/9//z//H/8//3/wAABgAFAAIAAAD///3/+v/4//f/+P/3//X/8f/v/+//8//7//3//P/5//b/7//n/9//2f/Z/+D/6f/y//r///8CAAcADAATABsAIgAmACcAJAAgAB0AGgAUABAADwAQABIAFQAYABgAFgASAA0ACAAGAAgADQARABEAEAANAAsABgACAAAA/P/6//L/6P/f/9r/1f/Q/9P/2v/j/+T/4f/Z/9P/0v/R/9L/0f/Q/9D/0P/R/9P/2f/e/9//3f/a/9f/1v/Y/9v/2//d/+P/8P/9/wUACQALAAoACQAIAAIA/f/5//b/8v/y//j///8GAAsADgAOAA0ACQADAPz/9f/x//L/9P/2//r///8CAAoAFQAdACMAJQAnACsALwAyADEAMwA3ADsAOwA1AC4AKAAkACEAIgAlACgAKAAiABMAAQD5//f/+//+/wAAAgABAP7/9f/v//D/8//2//b/9v/y//D/8v/z//L/9f/+/wUADgAPAA0AEQAaACEAHwAaABQAEAAOAAcABAAGAA0AFQAfACMAIQAdABgAEQAGAAEAAQAGAA4AFAAcACgANAA5ADgANgA1ADIAKwAiABoAEwAMAAYAAgACAAQABAABAPj/8P/s/+r/6v/n/+j/7v/y//X/+P8AAAkAFAAdACMAJQAiABcACAD7/+//5f/e/97/4v/n/+z/7//z//f/9//5//v/+//0/+v/5v/n/+7/+f8GABIAFwAVAAwAAwD//wAAAgD8/+//4f/W/87/yP/C/7v/v//F/8v/zf/M/83/zv/U/9b/2f/h/+v/9P/7/wMABQAHAAcABgAEAAAA/f/z/+3/6P/l/+b/5v/q/+z/8f/u/+j/5v/k/+n/6v/o/+P/3//f/+H/5P/l/+z/9v8EABEAEwARAAsADQAOAA0ACQAFAAMAAAD+//X/6v/m/+X/5v/l/+X/5v/n/+7/+f8EABAAGAAbABoAGwAYABMADwAMAAgABAACAP7/+v/0//H/7v/p/+b/4P/Y/9T/0f/P/83/1P/h/+3/+P/+/wEABQAKAA0AEAAVABsAIQAnACgAIgAcABoAFwAXABkAGgAdAB8AIAAcABcAFAATABgAIAAmACsAMAAzADYAOgA9AD8APgA8ADgANAAsACQAIAAeABoAFgARAA4ADgAPABAAEAAVABQAFAAVABYAGwAeAB8AFgAUABcAGgAdACAAJAAjACMAIwAiACIAJAAmACMAIwAjACUAKAArAC4ALwAzADEALAAnAB8AGwAaAB0AHgAaABcAFAARAA0ADgAOAAwABwAAAPz/+f/6//z/AAADAAIAAAD//wIABgAHAAUA+//0/+//5P/X/8X/uf+x/7D/sP+s/6r/rP+y/7n/wf/F/8j/zP/P/9b/2//i/+n/7//y//f//v/+/wAAAgABAP//+v/4//T/7P/m/+H/3//i/+X/4f/Z/9L/zf/P/9b/3P/g/+j/7f/u//H/9v8AAAcACwALAAgACwAIAAAA+P/z//D/7v/o/+H/3P/a/9n/0//P/8//0P/S/9L/zv/I/8n/0f/a/+T/7//5/wEACAAMAA4ADgAPAAwACQALAAsACgAEAP3/9f/x//T/+////wAAAAADAAYABwAFAAgAEQAdACYALwA1ADcANwA2ADUANgA2ADEALAAmAB8AGQAaACAAKQAuACwAKAAiABsAEwANAAgABAAGAAUABgAJAAsAEQAbACMAJwArACoAKgAsACwAMQAyADUANwA2ADIALAApACUAIAAaABIACwALAA0ADQAMAAwADAARABIACQAAAPn/9v/2//f/+f/8/wAABAAIAAoADgAQABIAEwATABQAFAAWABcAFgAVABcAGAAYABoAGQAYABoAGgARAAQA/P/4//v///8AAP7/+//2//L/8P/u/+z/6P/i/+D/3v/b/9b/0//W/9n/2//b/9n/1//V/9H/z//M/87/1P/X/9n/2v/Z/9n/3f/k/+3/8P/z//n//v8EAAYABwAMABkAIAAhAB0AGgAaABcADwAEAPv/8f/t/+n/5//m/+b/5//l/+X/4v/g/9//4//m/+j/5//j/+L/5P/q/+7/7//w/+z/5f/f/93/2f/V/9H/0v/W/9n/3P/e/9//3f/a/9n/3//q//f//f8AAAQACQAQAA8ADAAKAAsADgAQAAwAAwD+//f/9v/7/wEABAAFAAwAEwAYABoAGQAaACAAJgAoACkALQAyADUAMgAsACEAGAATAAwAAwD4/+7/6f/o/+j/5f/g/93/4P/m/+f/5f/i/+b/7v/z//T/9f/4//z/BAAKAA0AFAAaACAAIgAgABsAFwAaAB4AIQAiACQAJwAmACMAHgAZABEACQABAPv/9v/w/+v/6f/o/+f/5v/f/9n/2f/a/9j/1//Z/+H/8f/9/wUADgAbACUALgAzADEALgAqACoAKQAlAB0AFwAXABUAEAALAAkACAALAA0ACwAKAA0AEQATABAACwALABEAGgAcABsAGQAeACUAIgAaAA4AAgD5//j/+v/8/wAA/v/9////AgADAAEA/v/8/wAA///7//v/AgALABQAHAAgACUAKwAvAC4AKwAlABsADwACAPb/6f/e/9z/3//h/+D/2v/Z/9z/4//r//H/8//1//r/AAAIAA4AEAANAAYAAQD7//H/5//b/9X/0//Q/83/yv/I/8n/zP/S/9b/1P/Q/83/zv/Q/9D/1f/f//H/AAAJAA8AEgAXABoAGgAXABUAEAAHAP7/8//r/+j/5//t//H/7P/n/+f/7P/w//T/9f/9/woAEwAZABoAHQAaABYAEQAJAAMAAAD+//j/9f/w//D/9//9/wYADQAQABEAEgARAA4ADAAKAAYAAwAAAPv/+//8//z/AAAAAP7//P/5//f/+f/+//7//P/+/wAABQAFAAAA/P///wYADAARAA4ACgAIAAgADQAQABYAHQAkAC4AMwA0ADAAKQAkACIAHQAZABwAHwAgAB8AIgAnADAANgA1AC8AKwAqACMAHQAVAAsABgAHAAkAAgD5//L/8//7/wAAAgD9//f/+v////3/+f/5////CQARABQAEQAMAAYABAAAAPj/8v/w//H/9P/0//D/7P/r/+j/5f/h/+D/4//n/+n/7P/3/wUAEwAeACQAJgApACsALQAtACgAHAAQAAoABQD///D/4f/Z/9f/2P/V/9D/yP/H/8b/w//J/9P/3f/n//X/AQAJAAsACQAIAAcACAAGAAEA/P/3//L/6//k/+P/6f/q/+n/5//l/+L/3//h/+D/4f/n/+7//P8KABUAGQAaAB8AIgAeABUACQD9//P/7P/i/9X/z//K/8f/xv/F/8P/wf/C/8P/x//N/9P/3v/p//T//v8IABEAFwAZABYAFQAVABMAEAAMAAUAAQACAAIAAwAEAAIA///+/wQACAAOABIAEgAXAB4AJAAmACYAKgAuADAALwAoAB0AFwASAAwABwAAAPn/+v/9//7/+P/z//H/8v/2//b/9f/x/+z/6P/n/+r/7f/y//X/+P/+/wQACgAIAAcABwAHAAcAAAD//wAAAQAFAAgACwAQABQAEgARABAAEAAMAAQA+//v/+v/6P/m/+f/6P/s//D/8f/s/+f/5f/o//D/9f/7////BAAMABYAHQAfACMAJwAtADEALgAmABcACAAEAAMAAwAAAP3//f8AAAcABAAFAAwAFgAgACUAJAAkACoAMQAxACsAJAAdABoAGAAPAAIA+f/y/+7/6P/k/9//3f/d/9r/1v/W/+D/7f/5/wAAAAAFABAAFQARAAsABAABAAMABQACAP3/+//7//z/+f/5//j/9//3//T/8v/0//3/AAAFAA4AEwAXABcAEgAKAAgACQAIAAkABwAEAAAAAAD9//f/8v/t/+n/5P/c/9b/0P/T/97/6//4/wEABQAHAAoADQAMAA0ADQALAA0ADgAPAAkAAQD4/+//6P/j/+D/3P/e/+P/6P/r/+3/7//y//r/AAAGAA4AEAAPAA4ADAAKAAkABgABAP3/+//2//D/6v/p/+z/8P/1//b/9//3//f/9//5//3///8AAAAAAAAAAAMABQAGAAkACAALAAwADQAQAAsABwABAP7///8AAAMAAAD7//n/+v/8//v/9P/u/+r/6//w//L/8v/w/+7/7f/q/+b/4f/a/9n/2v/b/97/3P/Z/9r/3v/m/+7/+v8EAAsAFAAXABoAHwAhABwAFgAUABYAHQAlACcAIQAdABgAEgAOAAoAAwABAAUACgALAAoACQAGAAgAEAAXABsAGwAYABMAFAAWABEACQABAPv/+f/7//z//f/+/wEACAAOABcAIAArADEAMgAwAC8AMAAvACoAJAAhABwAFwANAAIA+v/1//H/7f/o/+f/5//s//D/7v/w//P/+P/5//j/+f/2//L/7//r/+3/7//s/+r/6//w//X/+/8AAAYACAAGAAIAAQAAAP7/+//x/+z/7v/x//X/9v/3//f/+P/5//b/9v/7//3/+v/0/+z/6P/o/+f/5//n/+f/5//q/+z/7v/u/+r/5f/k/+b/6v/r/+j/5P/g/97/3v/e/+D/5P/m/+X/5f/k/+X/6f/o/+b/5P/i/+D/4v/k/+T/5//r//D/+P8AAAYACQAKAA0AFAAcAB4AGgAUABIAFAASAA4ADAANABUAGwAfAB4AHwAdABoAGAAUABQAGAAeACAAIgAnACUAIAAYAA8ACAAEAAIA/v/9////BAALABEAGQAbABwAIQAkACMAIgAfABsAHgAhAB4AGwAZABUAEgAMAAIA/P/2//P/8P/u//D/9f/7/wEABwAKAA4ACgAEAP3/+v/5//j/+f/8/wIACQAQABYAFwATAAwABgABAP3/9//1//n///8EAAUACQAMAAwADQAPAA4ADQAJAAQAAQD9//j/9P/0//T/+f/8//7/AAABAP3/9//z/+r/6P/j/9z/1//V/9z/5f/u//P/+v8BAAgAEAASABIAEQASAA8ADQALAAkABgD///3//P/5//b/8//w/+v/6P/j/+H/4P/i/+f/7//4//v//P/7/wAAAQAAAP//+//5//X/8v/w/+7/7P/u/+//9v8CAAsADgAJAAIA+v/0//H/8f/0//b/+f/+/wAAAgD///r/8//v/+7/8P/x/+z/5//n/+v/7v/u/+3/8f/0//T/8//w/+7/6v/m/+j/7v/3//z/AAACAAEAAgABAP7/9v/s/+T/4f/i/+X/5f/m/+n/7P/z//T/9f/1/+7/6v/n/+X/6v/w//f//v8GAA8AFAAZABsAGwAbABwAHAAZABUAFQAZABwAHgAcABgAEAAMAA0ADwAQABMAFwAWABgAFwAVABoAIQAjAB4AGAAPAAYA/v/3//T/+P///wUADQAOAA4ADQAKAAcAAQD9//b/9P/5////AgAGAAoACwAOAAoACAAHAAgACAALAA0ADgAQAA4ADAAKAAIA/P/1/+7/6f/n/+f/6//w//T/9v/2//P/8P/v/+3/7v/y//n///8AAAMACAAQABYAGgAcABwAIAAkACQAIgAiACMAJgAmACIAGwAWABQAEgAOAAwADAAOAA8AEAASABMAEgANAAgAAAD6//b/8P/t/+7/7v/s//D/9f/7////AgAFAAIAAQD7//f/9P/v/+7/7P/w//H/8f/y//b//v8AAAMABAADAAIABgANAA8ADQAGAP//9v/x/+z/5//m/+L/3v/Z/9X/0//V/9n/2//d/9v/0//M/8b/wf/D/8n/z//X/+D/6//4/wQADgAPAA4ABwAAAPn/9P/z//P/8//1//z/AAAFAAYABwAKAAkABgAAAAAABAAKAA4ADwAQAA8ADwANAA8ADwARABYAGQAZABYAEgANAAwACgAHAAEAAAAAAAIABgAFAAUAAwACAAIAAwADAAEAAwAGAAgABQD+//f/9P/2//v//v8AAAIABgAIAAUAAAD9//3/AgAGAAYABgALABEAFgAYABYAEAAJAAYAAQD+//j/9P/z//b//P8BAAcADAAOAAwABgAAAPz/8v/r/+f/5f/k/+j/8P/8/w0AGQAcABgAEAAGAP3/9//0//f/+f/+/wEACAAPABAADQAHAAMA/P/8/wAAAAAGAAkACwALAAkAAwAAAAAA/P/0/+3/7f/u//T/+f/3//n//P/9//3/+//4//T/8f/u/+j/5//l/+X/6f/x////CQASABcAFgANAAEA+P/y//D/8v/2//v/AwALABAAFwAdAB0AGAARAAsADAASABoAIgAlAB4AEwAIAAAA/P/7//X/7P/p/+j/6v/v//T/9v/4//7/AQAAAP3/+//5//j/9P/t/+j/5f/p/+//9////wUADQAUABkAHQAgACMAJQAoACgAJQAhABkAEAAMAAYA///2//P/9v/9/wUABgAFAAMAAgAAAPv/+P/0//H/8f/x//X/+//+/wMABQAFAAAA/v/6//T/9v/3//f/8//u/+n/6f/x//f//v8AAAAA/f/6//v//P/7//v//P///wAAAwAGAAIAAAD2/+3/6f/q/+//9P/+/wYAEAAXABMACwAFAAIA/f/5//L/5f/f/+H/5v/n/+j/5//k/+v/9P/7/wEACAAIAAMA///9//n/+P/6//v//v8BAAEA/P/3//T/9P/1//v//v8AAAQAAwAFAAQAAgACAAQACQALABEAGQAgACYAKAAnACMAHgAWABEACgAEAP7/9//y//H/9v/7/wAABQAIAAkACgAKAAQAAAD+//r/+//4//L/8v/1//f/9v/1//P/8//2//f/+v/8//3/+f/3//j/9//y/+z/6P/m/+n/7f/x//X//P8HABAAFwAcAB0AGwAYABYAEQANAAcAAQD9//z/AAABAAMAAwAEAAQABQAFAAAA/v/7//f/9P/1//X/9v/4//v///8AAAQABgAEAAAA//////7////+//7//v/9//v/9v/y/+7/6P/m/+P/4f/k/+r/8//8/wcADgATABcAFgAVABAADgAHAAEA/v/9//3//P/9//3//P/9/wAABgALAA4ADwAMAAwACQADAP//9//0//L/9f/4//r/+v/6//z/AgAGAAoADQAPAA8AEgATABEAEwAVABUAEQAMAAcAAAD//wAAAQAIAA4ADwAMAAcAAQD3/+//7P/q/+v/7P/0//v/AwAIAAkACgAJAAoACgAMABEAGAAeABsAEwAJAAIA/v/6//j/9f/x/+v/6//w//f/AAADAAUAAwAFAAgABgACAPz/9//1//f//v8AAAMACAAOABIAFAATABAACAAAAPn/+f/8//z/AAABAAMABwAOABMADgAKAAQAAAABAAIAAwD///n/9f/y//L/7P/l/97/2v/V/9D/zf/H/8f/yv/N/9L/1v/e/+b/6//v//P/9P/1//L/7//0////DAASABgAGwAcAB8AHgAdABgAFQAUABcAHQAeAB0AHAAaABkAGwAbABcAEQAIAAEAAwAJAAwADwATABgAHQAhACQAIQAZABEABwD+//X/7v/q/+n/6v/u//T//f///////////wAA/f/7//b/8v/w//D/8v/w/+7/7P/w//H/7//w//H/8v/2//j/+f/6//r/+P/x/+f/3//a/9r/2v/Y/9v/3//k/+n/8P/1//f/9//1//H/6//n/+L/3//f/97/4f/l/+r/8f/2//3/AAAFAAsAEAAUABMAEAANAA4ADgAQABQAFAATAA8ACgAEAAIAAQAGAAsAEQAXABwAHwAgACIAIQAgACAAHwAcABkAFwATABEAEAALAAYAAAD2/+//8P/w/+v/6f/n/+f/6v/v//L/+v8CAAkACgAEAAMABgANABMAFwAbACEAJAAlACMAIQAeABoAFwAPAAUAAAD+//z//f8BAAcADgASABgAGAAZABcAFQAVABIADgAHAAEA+v/1/+v/5v/o/+v/7P/u//H/8f/x//H/8v/w//L/9P/2//r/AAAIAA4AEwAYAB4AIgAjAB4AGgAcACEAIgAfABgAEgAMAAcA///z/+z/5//l/+f/7f/w//L/+f8BAA0AGAAfACAAIQAmACgAJgAjAB0AFAASABMAFAARAAwABQD7//X/7f/l/9//2//d/+H/5v/p/+3/9v/+/wIAAwABAP3/+f/2/+7/6P/n/+X/4f/e/93/3P/g/+H/3P/R/83/zf/S/9v/4v/n/+v/8f/0//X/8//x/+7/6//m/+D/3v/e/+T/7P/z//H/7v/u/+z/6f/n/+j/6P/q/+v/8P/3/wIADAASABcAGgAXABMADwAIAAMAAAD+//n/9P/y//H/7//v//L/9f/6/wAABwAJAA0AEwAbACYALQAvAC4ALAAtAC4ALAAoACEAGQASAA4ADQATABsAHwAhACIAIQAaABMADQAGAAAAAAACAAIAAwAFAAcACwAQAA8ADAAMAAoAAgD7//r/+v/5//n/9v/y/+7/7P/p/+f/6P/s//L/+f////7/+v/x/+j/5//q/+v/7P/v//T/+/8FAAoADgAWAB8AJAAlACgAJgAmACcAKQApACYAIAAVABAAEAARAAwABQD+//X/7v/q/+n/5v/i/+D/4f/j/+P/4f/h/+T/5//q/+j/5f/p//H/+P/7//r/+f/3//v/+f/0//H/8P/u/+v/7P/q/+v/7v/w//D/8v/1//T/9f/7//z/+P/2//X/8f/w//H/7v/s/+//8//z//f/+P/y/+7/8v/3//n/AAAIAAwADQAPABEAEwAXABkAHAAdABsAFgAOAAkABgADAAEAAQADAAMAAwAAAP///P/5//j/+P/7//z/+v/4//v/AAABAAAAAAAAAP7///8BAAcACwAOAA4ACgAHAAYABgAEAAEA/f/4//b/9P/z//L/9P/6/wAACgAQABMAEQAPABMAFwAbAB0AIQAfABwAGAAUABQAFAAUABEADgAJAAAA+//5//z/AAAGAA8AEQASAA0ACgAJAA4AEQAMAAsACgAFAAAAAAACAAMACAAKAA0ADwARABIAFAAYABYAFgASAAwACQALAA0ACwAJAAUAAgAAAP///v/9/////P/3//f//P8AAAAAAAD7//f/9f/4//f/9//8//r/8v/r/+f/5v/o/+3/9f/7//v/+f/5//z//v/8//f/9f/3//r///8FAAgACQANABEAEQASABIADwAMAAkACgAJAAYAAgD7//b/8v/y//H/7P/o/+j/6v/r/+7/7f/t/+7/7//w/+3/8P/y//X/+P/7//z/+//8//n/+P/2//b/9P/x/+//6//p/+3/8v/2//f//f8EAAgACAAEAAMAAwABAP3/+v/6//v/AwAHAA4AEwAUABIADAAFAPn/9f/1//f/9v/2//b/8v/0//L/8f/u/+r/5v/j/+j/7//1//f/+f/7/wAABwAKAAkACwAKAAwADQAOAA4ACgAGAAUACwAMAAsADAAOAA8ACwAMAAgAAQD7//P/7f/m/+X/5v/o/+b/5v/r//L/+v8AAAYAEAAgADAAOwA+ADgAMgAvACgAHwATAAsABwABAPv/9f/w/+3/7f/u//L/+f///wIAAAD/////AAAEAAgACwAKAAwADgAOAAcA/v/4//P/8f/0//j//f8EAAwAEQAVABcAEwAQABIAEQAMAAYAAwAAAAAAAAD///7//P/4//X/9v/5////AQAFAAwAEgAWABkAGwAZABcAEgAJAAEA9//u/+n/6P/o/+n/7f/z//r/AwALAA4AEQASABAADgAKAAcAAwD8//P/8P/v/+z/7f/u/+//8f/3//7/AQABAAAAAQAAAP7///8EAAYABQAHAAgACAAEAAAA/f/9//z/+//8/wEACgASABcAEwAOAAkAAwD+//f/8f/o/+D/3f/c/93/4P/m/+f/7P/u/+n/5v/l/+f/6//x//b/+P/6//n/+P/2//b/8//v/+v/7P/w//L/9//8/wEABwALAA8AEQARABQAFgAZACAAJQAoACgAJAAcABIACgAAAPz/+v/2//f/+f/9//7/AwAJAAkADQALAAcAAQD///z//f///wAAAQD8//j/9f/2//n/+v/3//P/7//r/+f/5v/p/+n/7P/x//L/9P/0//f/9P/z//b/+f/8//z/AAAGAAoACgAKAAwADAALAAUAAAD+//v/+f/0//D/7//x//P/9P/y/+7/6//r/+//9P/2//T/9v/4//b/9f/0//D/6//n/+b/6f/x//f//P8AAAAABQAKABAAGgAgACMAKAAtAC8ALQAuADQAOQA4ADMALAAfABQACwADAP3/+P/v/+X/5P/p/+z/8P/3/wAABwAQABkAGwAYABYAGQAYABUAFQAYABsAGQAUAA4ACgAFAAMAAAD8//b/8v/y//P/9v/5//n/9f/v/+j/4f/d/9//4//p//H/+/8EAAwAFAAVABUAEQAOAAgAAwABAPv/9f/u/+r/6P/k/+L/4//m/+f/5//s//X//P8AAAIAAgD///7/+v/2//P/8P/x//b//P/+/wAABQAKAA8AEwAVABYAGAAdACAAJQAkACMAJgAlACIAGgAWAAsA/f/z/+n/4//h/+b/6v/r//P/9//3//f/9//1/+//7P/r/+n/6v/s/+3/8//9/wAAAgAGAAsAEQASABUAGAAaACEAJAAmACQAIgAgABsAFwARAAwABAAAAPz/+v/3//L/6//k/+H/3//e/93/3f/h/+L/5P/p/+//8v/z//P/9P/1//n/AQAIAAYABgAIAAkAEAATABYAGgAgACkALgA1ADUALwAoACAAFQAGAPn/8//x//T/+//9/wAAAwAFAAYABgABAAAAAwAEAAcABwAKAAYAAwACAPr/8v/q/+j/5v/j/+f/5//o//H//P8FAAkACwANAAwACQAJAAcAAQD+//7//P/6//7/AAAAAAAAAgAAAPz/9//0//T/8f/y/+z/6f/v//T/+f/6//3/+v/0//T/8//y//P/7f/m/+b/5//m/+P/6P/t/+3/8f/3//3//v/9//z///8DAAIAAQD//wAAAwAEAAEA//8AAAAABwAQABQADwAPABMAEQAQAAgABAABAP7/AgAHAA0ADQAKAAkACQAQAAoA///3//r/9//y//n//v8AAAAABAAGAAIABQAHAAEAAAAAAPz//v8IABIAEgAcACUAJwAnACAAGgATABcAEwANAA8ACwANABIAEwASAA0ABgAEAAEA/v////j/9v/7//3//P/+//7/9f/3//z/8//u//P/+f/3//j/9v/p/+f/6f/p/+f/4//i/9z/3P/e/9z/4P/o//T/+//4//H/6f/p/+3/6f/o/+b/4v/n//D/+f/6////BAAFAAgADgAMABAAHQAbACEAIAAdAB8AEQAGAAAA+P/1/+//6f/z//z///8BAAIABwAIAAwACwADAAsABgD6//n/9f/y/+X/6P/z//P/9v/+//j/8f/z/+r/5f/h/97/1//e/+r/6//1//r/AAAMABEACwAJAAoACQAIAAQA/P/7//z///////b/9v/4//v/9//1//H/8f/7////BgASABwAIwAtACUAGAAYABIACwARABEACAASAA8AEAAMAAEAAgD6//z/AQABAP//AQAMAA8AEwAbABMADQATAA4ACwAHAAQADAAGAAQADAAIAA8AGgAVABoAIgAZAB0AGgAQABMAFgAeAB4AJAAWAAwAGwATAA0AAQD2//3////6//z/9//w//n/+f/y/+z/7P/t//b/CAAEAAAA/P8AAA8ACwADAAQABQAJABEABwD5//b/8f/0//X/7P/d/9b/2P/Z/9//1P/O/9f/0P/V/9//4//4////AwAWABQADgAVAAsAAAAFAP//+P8BAPv/6v/s/+P/3f/p/9//2v/m/+j/6f/2//7/+f8CAAQABAANAAgABQAGAAAA+v/9//b/8v/1//T/6P/x//D/6f8DAAIACQAJAAUAGQAUABIAHgAZABcAIQAdAB0AGQAaAA8ACgAYAP7/7//p/+P/8f/u/+3/9P/0/wQADQAVAA8ABwAeAA0AIgAxAPn/HgAlAAsANwAPAAsALAAVACYACQD7////9P8XAAYA+P/w/9f//f/y//j////b//3/7v/s/+7/2//x/9///P////X/EgD8/woA+v/s/wAA8/8TAP//7P8HAPv/FwAIAAcACwDt/ygADAAHACUAAAAnACMAJAAoAAUAKQAhACAAJwAFACQAHAAoACUA7f8CAAIAFAAlAA0A9f/s/xMADwATAAUA4v/3//b/EQD5/+D/5v/Y/wEA5v/h/9T/wv/w/9L/4//b/87/+//q/wEA7v/y/wMA+P8YAPP/BADv/+T/BgDY//7/6P/X//7/7v8DAAcAAgD+//7/DgARABAABQDr/+j/BgDz/wcA+f/I//j/3//+/wQA3P/0/9b/BAD3//3/DADV/wIA8P8HABUA8v/6//r/CQD+/ycACgAHABsA5P8zABsA+f8rAPP/CwAeAAUAFgD7/wwACAAQACkA+v8YAAcA7v8fAPv//v8AANb/7//Y/9//7v/e/+r/2P8DAAAA//8JAOH/AAATABgAEQAAAN//+P8KAA0AMQD6/+n/4f8HAB0AGQAVAOX/GAAFADAASgAPABYA+/8PAC0AJwAOAAYA2v/+/w8A5/8JANn/4v/Y/+f/7P/I/wMAxv/Y/wYAxv/3/wwA0v8NAAEA3f8pAAgAMwAlAAAAMAAVAEEAKAAtAD0ACgAwADIACQA2ACcAGQA4AAcAJQAVACgAEQD//yIAAQA+AAEAFAD+//T/PQADADsABADR/xsAEwAfACAA4P/4/+n/DQAdAM7/6P+u//z/DADx//X/ov/X/9z/AgD2/7z/yf/Q/wIAHgDZ/9z/8f/d/zYAAADr/9z/u//7/+L//P/W/8D/7f/i/wwAAADm/xEA2/8HAA8A1v8hAOX/DwAdAOj/JgDg////DQDI/wwA2P/f/w0A4P8JAOn/AQDy//f/MwDU/xkA///M/0MA9f8nACsA3/81AOr/FQAfAPz/HgDu/yoA+//7/y8A+/8pAP7//v8IAOH/KwDg/wEA9P/L/zwA6v8EAAUAwv/z/+f/8//7/+P/0f/Y//7/xf8JAAAA4v86APH/LAAcAAAAJQAFACsABQAaACIAzf8xAAQAAwBJANr/JgADAPv/HwAPAAIA8f8QAOn/IwD9/+3/AADh/wAA+f8ZANX//v/z/9n/SADf/xsA8P+7/wIA6f/+/7r/CAC7/9z/LQCq/zsA3f/w/zcA4f8tAOX/HAD6/w4APgDw/x4A/P8OADkAQwA0ACgAEQA2AF0ANQAkAAQA+v8sAD4AGwAHAOH/BQA8AEUASgDt/ywAOQAlAFwA0P/s/+b/6P8fAMj/xv/D/9j/MgAKAOv/6f/f/ygAJwAwALH/6v8JAOP/YACQ/8z/8f/V/1YA2//O/8X/1v8bAPv/xP+1/7v/AwDl/8H/yP97/wAA6f/s/8f/ov/9/+H/SADK/7n/wf/Y/0wA8f/v/7H/qf8lAC8ABwAYALj/GABSABQAbQDo/xcAPQAZAGAAGQAZAB0AMAA1ACgAIgAOADcAOgAfAFEAEgAOAEYA1/9ZAPv/5/8xAKX/HwDk/wIAAACw/wMAxv8GAA4A3//4/6n/6v/Z/7v/+f+m/wAA5v+f//r/4P8oABIABgDy/5L/LAATACMAGQCI/9P/xP8sAA8A0P/d/6D/NwAPAP3/9v+W//D/6P8HAA4Av/8AAOX/GAAdAOP/HwAEACUA/f8cABsAKwBxAPj/SgAwADQAjgAvABkA3v8SACQAGgAgAJn/3v/x/woAUQAMABYAFwA5ADUARgAyAAUAQwAvAFUAHgD//2AAPwBxACEA8P8EAN7/dAAOAOr/wf95/xAA7P8dAPT/iv+p//v/MQArACAAuf/a/+3/OQA+ANr/w/9W/xIA0/+U/z8Abv/r/wAA1P9gANH/7P9BADMA6P8RAMz/1P9TALH/HQDT/4n/WgAYABoADgDb//7/LgABAOz/4/+s/yIAAwDO/8n/p/8OAE4AQwANAPb//v9hAI8AHQDd/5j/FQB1ACsAJgCw/5v/GwBlADIADADF/63/NgD//yUADADS/9j/yP8sALz/KAAPAOP/LwC0/xoAVQA3AAkAIgCv//D/MQDU/zQApP+k/+f/0/8CABYA4f/I//b/wP8vABIAzP/4/5r/0P/6/wgA4f/7/+3/4/9RAAkANQAMABgAIAAYADkAr//t/+D//P8bANT/AQD1/+n/QgA5APz/HwDW/zgAHgDa/z8A2P/v/wgA6//o/yoA5f/u/2EAm////y8A9f9GAMn/vP/Z//r/BgDg/9L/x////0gAEwDM/xUAFACKAJsAFgARAOT/PwB7AEgA9v+5/wMAYwB6APr/lv+s/wgAPwDz/3b/Uf9///r/PwC6/5P/pP9QAIoAZAA9AKL/QgAhADEAVwCD/9n/EQCx/+7/sP/T/00A9P/5/7b/9/9BAGgAOQB+/4//6f9WAEMAEgCo/9H/PAA0AGsA5//E/0cA9v/F/6j/Wv87AE8A3P/F/0X/0P+fANQATgCy/3f/HwDaAIkACACU/53/3/9+ABwAW/+r/5f/AABSAKL//f8QAMH/WAD7/xQAZQBVAIYACQAeAGgAigC0ACAABQBSAC8AewATAIv/xP/s/1oACgCP/2P/wf9eADcAAwCS/5z/MgCTADgAyP+t/6H/fwA7AOn/UACR/ywAaQDT/2gA8//d/x4Ajf+S/9f/1f/5/6b/Lv98/8n/cQCHABcAy/9w/xoAsQCLADUAi/9S/97/CgBkAEAAtf+U/4j/TwBBAGEAMACM/6v/xf8uAAUAyP9s/+//v//2/2IA/f9vAAQApQBgACIAYQC3/4AA7/9x/yIAYv8BADwAtv9bAMf/ZQC4AB4Ay/+7/0oARAAtAHP/Ov9m/1wAqgDW/7n/Q/8fAKEAZwBQAHj/f/+n/wwAFwCY/77/av+7/wcA7f/gAN0AKQArAMH/GgDTAEYA+f8r/+/+AwApACUAyP9M/9X/EAB8AIAAof/M/6X/FQBjAIn/qv+e/83/SABNAFEASQBYAJsAjwAbABEAOAA9APT/Tf+H/1T/tv9cAHv/6//c/18A+wAgAC8Aq//8/2oA1f/d/zL/Z/9BAB4AqAD8/57/fACsAPsAWADC/7T/af/V/9H/8P4k/0n/pv8TALT/IwBUAM0AGAGyAHUAHACCAL4AEwDS/yr/QP9LABUAHQDC/3b/5f90AKIAMQDB/6D/4f/V/wsApP+d/4v/1v+JACIAigB0ADsAlwCTAMsAjQCh/33/av/h//D/J/8a/9b+1/+SAKgAugD8/9j/swAyAfUAbgA9/zn/of8NAH8ArP/+/kH/KwAcAaoAUgAIAFX/TgBoAF0A+/80/4D/tf/1/+b/MgD+/wgATwBcAPr/NwBDAJz/7f8n/2T/4/82/8f/AACF/yQA+/9lAIMAJQC/AN3/5P+V/9H/fwCs/3j/kP9b/wAAiAAfAFcAsf8yAK4ARwCFADIAMgDR/5H/BAD9/xoAgwCl/4b/mP8HAOoAUgDa/3b/kf/Y/ywAIACR/yf/oP/i/xMALwB4/1wABQALAMsAFwDx/+//WQCeAGsAq/9j/3H/PAC6AAUAZf8P/2AA5wCdACwALf97/34AzACvALD/Ef+h//L/PAAQABAAo/+V/+n/KQBZAAEA7v+B/8T/CQCsAKoAp//Z/8//JgDiAEwAtf9u/zkAQgFtAML/IP/Y/9sAWQDT/7H+jP7S/5kA9f8G/5P+hP+wANYAbwDl/zkAWADqAMUA9/9EADAAOwDe/zr/0v8YAEsA7/9e//T/aQDaAIcAjv8u//3/pQBrAMj/6P7//qX/9P9iADkAd/+s/wwAEwErAVIAd/85/4sAxwCeAAH/RP52/wgA8wBBAML+M//Z/z0BGQLk/2H/wP9uAFoBZQCm/0j/xv/SANsA4v80/17/mADzAIQA0f8K/5D/OgDLABQAIP/0/jj/hQDrACQA0/87/wEAjgFHAX8ARf8q/xMA+QBsAGn/Af/U/gkA+P8mADsAyP/X/2X/JQCJAFAAXwCG/1r/gP+c/8YAYgBw/x//6/7m/6oAKQBv/67+jf4eABcBQAH1/6X+Yf+QAA0COQHQ/wX/2/6xAH0BiwAg/3X+Zf+zAOwAFQD1/hn/zf8sACQAo/9//7X/qP/h/xsASf9PAJoAQgCzAB0AkwCYAN0A7ABoAAMAsP88AG0A5v+o/4z/UP9/AJIAGAARAGn/CwDCABcAh/9c/1T/KgB4AJMA0/+h/y4AqwDQAYMAw//h/53/EQBTAO7/bf8z/9r+pv/i/wUAtgBAAKD/rv9tAG0BAAFsALv/+/5oAJoAsgDL/0T+4f5f/7QAEAFVAED/vf4VACYB1gAVAPT+DP/3/+j/hgDj/4n/3v/Y/zwAeAAfARIBbwCX/23/wP/KAKsAHwCF/2L+7P9UAKUAuQCJ/1f/g//0/yAAOwCH/7T/5v+Q/wwAUgAbAB8AdgAAAHD/5P9UAGgAugBl/4T/6f/g/2kBrf9f/tv+9f9pAfYA//87/+T/OgEsAZIAvf8h/zMASwDS/13/+/6a/7r/DwDb/1wAKgCn/xgAt/9zAFUA3f92/yn/EQB7AO8ABgCT/gr/FAD0APAAmv+7/gD/mgAyArMB9P+W/v7+bgDpAYQBm/8R/jb+GwDzAAIBKv/v/af+1P/TAScB5v/r/sL+3wBSAcEAUQAu/yn/mv/p/54AigB7AJn/9v5o/yYAJgF4AKP/rP7V/jkA6gChADv/M//6/tH/mAG0AJz/D/+k/w4B4gCXABwAEv+U/yoAiQACAHX/CgCD/xcAYgCVADkBZAAdALL/vP8vAIAA+f96/w7/m/5VALEAnwANAB//2v9EANIAhQADALv/uv8ZAEUAgQB0ANX/Zf+z/9T/nwAPAZQAu//C/2YACgEbAW7//f7i/rf/tADQ/0D/+f5M/1YAcQH4AP7/TP/L/xkBXAH1AKj/Cv8S/4EA5AAUAI3/7f4pAPsA4wDe/5X/z//v/wAAIf9O/0r/if/m/9//fv9d/+L/NADxAGMA9f8dAHEAtwCeAK8Aqv9u/5r/PAB6AJz/Y/+T/3kAkAB0AM//Sf8GAGcAzgAXABT/rv4//5kApABBALH/ov8oAMAAOgG7AIn/xv5K/8v/KgAPABkAmP9j/2AAVQByAKz/rf8JAA4AmwC3/6j/sf92ACoBHQBT/zH/fv8eAHoAa/8i/wD/8v/PAGIATQBB/wwAJgB9AO4ASP/q/9v/DwCVACYAkQDi/5T/8v8DAPP/1//L/6L/j//M/9L/5f8hAPj/+P/q/kr/iABjAAoBl/98/pL/bgBwAbgAKf+S/gv/HAAvAe8AuP8y/9n/BwG5AEEAi//9/uj/yP/i//T+FP7C/4cAzAASAMT/LQB+ALYBPAFYAI//7P83AYkAHAC6/1v/JQA+AOz/i//n/uv/sACJABAAS//1/2sAzACEALP/Lf8f/0YAfwBbADkA+f+AACoATwDYAO7//f/h/yj/5v8JABoAQADB/08AeQCoAHAAwv/H/4H/HQBqANf/s/8g/1f/gACkAHYArv8V/9n/dgDkAIsAkP8VANf/PwDsAB0AnACR/2D/J/8S/5sAAABJAIv/hP+4AIUAugAxAMH/s/+MADgAqP94/yD/PwBWAP//T/9C/57/GwCCAOD/jP9w/43/EQC0ADAAIQAfAOz/NAAdAHsAcQD+//X/xP8HAHQAuwC+AIj/bv+7/1AAuwACAMX/KP+c/14ATwAyANH/7v/o/+3/HQC//+3/Wv/T/3MANv/7/9T/AQAoAAL/e/8J/+j/ewAmALP/Fv/GABcBDAGXAE3/jf/M/zcAegCF/5P/NwB0AFIA2P/i/6r/LQD+/87/9/+N/9r/JAB//6n/OAAHAFsA7/+s/+//fQBWAEIA1f9+/9v/HACVAOT/Rf///gkAigBDADsADgDm/xwAVgAwACcAzP/O/0L/Pv/D/20AnADw/2b/9v+PAIoAbgDc/xQAXQDhADwAwf/X/zcAHAHe/1//UP+U/+sAvgARAAr/Mf+HAKgA+QAYAMz+QP9z/ygApQCP/87/qv/x/9UAKQA1ANj/GgBJAPv/Wf9G/1QAWADIAA8AfP9rAJ0AqwClAAT/Zv9mACkAeQBp//T/TAA9ABoAF/98/9H/dABTAKb+7P4FAJAAOQHP/xn/T/9DAD0BcQCC/1j/3wDjAGwAWwD0/w0BOwFBAPn/Ef/Y/6EAmv8v/0T+Pv/3ADwB8v8V/+n+sf8gAWYA6v/N/hz/VgBTACQAsv+5/8j/aABnADYAcwAOAFEASgDW/3EAPAD4/63/4P8UALv/BABD/93/DACk/8IAWwBJ/3P/1P9IADUAD/9U/rb+LQALAccA4v9y/0AAfgE7AdMAGQA1/7EAawAgAML/Af/s/zUAVwAMAPj/8/8LABEAzf9M/3T/6f/3/1oAef95/7b/0f96AEkAGwCz/1UA5wD1AJwApv+4/+7/IwDK/0n/hP/e/yIAAABG/8r/rQB/AEcAKv86/xkAcgAbAJX/mP/r/7EACADF/x4AaQAnAaQAMP9Z/9j/bQAnAez/Mv9T/4gA2wA8APP/SP8FADMA+v+OAM//Nv8kAKv/i/+u/4H/+f/7/+v/kf8LAIQAEAGiAOX/y/8VAKMAHAAsADP/WP8IAOX/VwCd/2X/4v8/AFAAkwAHAL3/7v+V/xIACgDX/9P/1f/w/zgAyAApAeEAMgCX/9T/iQBKAEEAef/n/nj/FQAWAPL/1f9U/2kAOQAvAEkAR/8eAHYANwBe/zX/qf8TAHsAs/8v/3//PwBjABUBVQCi/3kARwBxAK//TP+T/7v/tv/J//T/uf+JAIEAnQA5APb/NgCv//z/Gv9g/8T/9/8mABv/7f9OAOUApADP/7z/8f8kAaoAtP/V/kD/KQByACgA9f5Q/9b/RABGAID/4f+oAHQAFgA4/2H/3ADcAE0ANP9F/1AAOgHYALz/df9y//EAEwG7AIz/Df+B/6r/yADk//n/h//F/+b/zP+yAOX/XwCx/wwAIgDu/1wA//8ZAOf+ev/u/8oA1QCb/9P/7v8kAawA0/9f/xj/SwB7AP//Ef/l/rX/nwDVAO7/ZP99/14AbAC5/6b/QQBfAOr/QACw/77/1QDDAGoAmP8v/8EARQFgAND/Nv+0/0cA7ABYAGz/Uf/f/uP/yv/W/y8AxP/o/0r//P8lAJoAvQAN/0X/UP+NAAcBHwCz/y7/wgDDALwAEgAs/yIA+P+SABgArP/K/z0A2QBs/1D/wP9KANUAOgAH/8v+FgClAHcBLACw/gAAhwCWAfUAZP9r/1j/ggCiAD8A8f+F/xQApP+//6X/MACtAEj/SP9H//f/yACu/wv/+v5q/74ADQE/AHz/nP+BAMoAAwEVAPX/JAD0/78A0/8wADoAMABiAAD/if+n/4IAWQA6/4f/If/j/zgASwDo/2X/0f/q/w4Azf97AFUAbQDIALX/PgB+AAYB1QB4/3j/Qv/k//D/HgAJAPH+m/9W//T/aQDT/+j/hP6A/qT/rAB0AaAAUv9v/04AVAEgAoIAPv8Z/+b/SwFHAZsAi/8IADsAVgAaAC3/EwAd/43/3v8i/2cAq/9OABYAhP8FAKz/tQD7/xYAvv/X/0sBFwDIAFQAAgAEAToAkACy/03/8v/g/yAAf//x/mL/SABGAOT/Vf+7/nT/2P80AC0AKf9N/zMAnQCyAL4A5P/e/2MA+v+2AHQAaQCzAMn/LQCh/x4AqwAlACAA7f5i/5n/TwAmAPj+df/Z/rIA+wAkAIsAF/8oALwAcwCJAIL/2v/+/2QAYQDJ/10AMwBxAO7/Xf8hAAMAGgAs/4v+Hf92/1QAAgBn/zn/uv9xABsAKADH/zsAggAvAOAAQQBbAEsABABQAPb/wwBhAF8AEwB1/6IA2f8oAI7/xP7N/wv/YwBKAKL/Uv8//tb/4f/SAH4AN/8/ALH/YgFJAdX/+P8b/6wA2AA6AFUA3f9aAA0AIQARANT/rP96/3X/5f6A/8X/BQABAEH/h//P/8sAbwDm/+H/If9TADkAYgDjAL3/kgCHAJsAKgFNAFAAwP8YAHkAp/84AMj/kv8FAI7/AAD3/6v/r/8x/1v/5P90AH0A2P9f/1//LgD9APcA+P+r/9//9f8OARYByQBQAJT/JAAgAFcA5v9x/7b/x/7l/wAAk/97ABD/UP96/5v/9wC9/2r/Ov+A/8wANwBqAOX/ov+gAIcAGAGQAAgA8v+Q/+AAhwDp/8P/6/4EAEIAYgBIAOT+Zf9v/8P/MAC+/+b/8/5u/yUATAAIARMA6/9c/0f/qQCIACsBfQDW/4wAjgB6AYoAAgAiAAz/zv93/5f/IgCL/xMAL/9h/8H/bv90AJr/ff9F/1b/rAD1/3wA6v+M/8sAKAAvAVwA8v86Abv/LgDi/+b//ADt/0EAJP8v/1EAfP89ABL/0v63/2f/CAE6ANX/8f/U/oQAOgAlAL8Af/9EAAYAcwBLAWoAGQFjAP3/JAD3/z8BMwAm/7z+ef4jAEAA5/+9/hb+6f87ALgAUQDn/hv/a/+kAKEAAAAAAGn/wgAFAbEAFwH5/2oAPwCz/0kAAABqAIX/GP/P/5v/zAAUAAP/Vv/Z/j4AtwAZAK3/9v6AAAgB5QDHAET//f+RAIUACQH7/zsA4QDTAPEArv+G/+X/8f+YAKD/GP8e/+L+6f8FAOj/k/8N/+r/PgDQAM4A1//t/2b/t//VAMwAnwC6/4T/CwA9AAMBhACe/3H/Of8tAGsA+P/U/wP/X/8CADMA7P/0/lH/Yf/7//sADQD//8z/+f9rAQkBbgCb/3L/zQDmAN4A4f8i/wwA4P+pAGgA9f6y/2j/nf8WAF3/tf9T/5H/6P+c/6EASQA9AJkAyv+LAM0AbQCUAK7/wP+WAL8AYwAy/xj/dP+7/9AA6/8O/1P/Cv+tAPwAdP9A/7f+ev82AAIATACK/x0AkgBKAPMA8f9eABgB6v89AOj/3/9/AOn/KwC1/3//GQCv/xoAwP9B//P/pv/e/4P/xf7S//z//P8wAJf/GACzADABTwHX/1H/wv99AGgBhgDS/8T/m/9WAMj/X//3/4D/0f/B/0r/5v8oAHoAjf/H/lv/af+nAGcA+P6e/6r/3QDSAUoAAQDq/1AASgG9AB0Agv+k/yEAFgB/AOL/Rf+Q/2n/AABnAM7/m/9M/0D/6/9KAHgAGwB//83/TADXAAwBgAAyAOf/KQC/AJoAfQD//5D/uf/Z/yAA9//G/8P/vf8wABAA0//l/8n/NwA0AIz/iP+c/7X/SQA+APL/LAAaAHAAyQBJAAUAzf/1/1UAdQCLAAkAHAAhANH/MQCu/57/8P+C/9j/sv+d/+f/ff/1/0UAMQAgAFH/iP8/AM8ASAErAGP/k//Z/9oAtQAiAOH/9/6j/3MAQgBdAHD/7P5z/+f/wgC3AKP/Cf9d/9D/SgCcAM3/mP/0/ywA7wDfAH8AJAC5/+L//f9eAD8AKwBRALr/VAA9AHX/LwDB/0n/rv9A/6r/AwCH//b/+v+W//r/9v84AL4ATQDj/9X/SgB6AGgAmwDJ/63/DQAVAJAAuf9Z/7z/cv/t/+P/pP/C/6D/yf+t/7X/lP93/9v/8//2/+r/GwApACsAoACsAJwAGQD2/2sAIwBjADEAp//q/8P/FQBvAAgAqP8e/wj/0v9jAFcAMgBn/97+4f/MAO0ANgB//7n/GgCVAHgAUABCALH/9P8YACsAYACL/3f/9v/n/ycAQADB/6j/0P+V/xcAQADY/zYAtv+4/1UA9v9mAEgAkP8CAGQAuQDEACoA8/8wAIcAlAA2AAUAPABAAAkAx/+c/7z/9f8NAHz/JP+s/x0ASADO/1D/bP+6/1QAXAD1/wMAewC/AHoAcQAiADkApgDw/9f/6/8EAKAA7f+h/7D/Q//l/y0A0v98/x7/if8qAEoACwCN/z3/wv9eACkAEAAdAFcA7gDZAJcAcwAlAIMApAA0ACQA8P8oAHkA3/9x/zb/Zf/O/2f/Uv9J/0z/r/94/7X/r/+B/xYA/f81AKQAoADVAEEA9P9iAKkAAgHSAFsA1/+g/+z/DgAZAKH/Lv9V/33/7/8OAO3/BQCo/33/nv/Y/z0ALwD2/6T/j/8gAHcAgwBPAPn/CgAoAIoAugBEAAcA2//m/xEAEAAxAMX/Uf9X/13/y//z/+n/2f9A/0v/4v+MABEBkwDj/8L/FwDXACYByAAqALb/0P9PALkAQgBW//b+NP/6/0oAyv9q/wv/E/+y//T/KgAxAMv/t/8FAH8A8QDJAEoAGgD//yUAjACOAFoACwDl/zUAMAAUAPb/1P8AAKz/b/9z/4D/4/+Z/zr/Tv9y/xEAIADK/9P/vf/v/ykAJAB0AJAAPwBcAF0AQQB7ADgAEQAAAK7/IQBYAPj/0P9y/4//CAABANr/jv9s/9r/GAAhADoA4//I/xAAGABRADAA3v8yAEEAaACaAAUA/f9iAGkAeQA0AND/MABCAN//5f+a/5//1P9N/0L/lP/Z/xQAp/9C/4T/KgBvAFYALQDp/1AAzQDQALEAIgDm/1IAmACpAFwA3v/q/1kALwDD/7X/b/95/47/UP+7/7z/b/++/4n/sf9BABgAOQBcADIAlwCuAGIAawBVAF4AhAB+AF8ANAARALz/1P8WAOP/9P9+//n+dP9v/4n/BACg/4n/uv+T/xwAZAAzAHkATQAVAG0AfQBuAIYAPAD2/w4ADQAgACUAwP+N/4//iv/H/+D/nv94/27/iv/d/+7/0v+t/4b/yP8gAEkAVgBRAGQATAAaAF0AsgDZALgARgAYAP//FQBsAEwA3v+I/37/r/+j/2//aP9n/0j/cf+t/8b/CwAmAAgAyf/c/3wA6gDKAHcAUAAyAEgArwCEAOz/uP+s/8//5v+1/8n/wv92/2//N/8i/7n/HQAJAOn/5v8YAGAAWgBDAC8A/v/5/ywAUgA9AFkAfgBOABIA3f8BAHQAWgAAALD/Sf+c/04AUgDE/yP/Lv/A/zIASQDm/7v/s//C/wgAAAA9AGoACwDq/xAAcQDOAK4ASgDt/xEAdQCPAHoAzf9O/5z/vv/x//n/f/9//4L/f//3/wEAof+Q/5L/nv/q/y4AewCpAFkA/v9JAN4AIwENAUoAvP8hAHoAlQBcALf/df9+/4n/v//R/5v/iP9+/2P/mf/4/zkAPAD3/8L/yP/9/2cAkAB+AFUAFQBGAHoAngDbAIUAMwAhAOD/6/8MAPP/4v+h/0b/ZP+M/33/g/+K/7D/yf+f/4H/r//U/+D/BQAeAGQAmgCAAGIAaACxAMkAfAAtAP3/MwCCAFoA/P+r/4L/kf+M/3f/ef+D/5r/qv+Y/33/0v84AF0AfAA/ACUAXgCGAKcAgQBaAGEAVAAzABAAIQBgAHEAIwCv/2L/fv/G/7P/ZP8G///+a/+T/4X/gP93/9L/QgBLACAA7/8GAFMAggCTAHMAVwBkAHQAbgBlAI4ApgBbAOD/sv/y/xgA+v+O/xb/JP9z/7r/xv9d/0//0f8tAEUAJAAIACUARwBnAGMAMgAlAFEAbwBTAEIASwA6ACQAAADf/9r/2v/O/5b/J//6/i//eP/M/9T/pf+b/8H/NwCSAIcAWABEAHEAqQDMANIAnQBVAEQAVABiAHEAcABLAPX/tP+w/7D/iP9e/y7/7P4W/4L/x/+5/4v/ov/U/1kA0QDBAI4AWwBKAFgAfACPAGEAJAALABoAEgAdAFAAMwDy/8z/i/90/6H/mf9q/zT/Lv9j/3//n/+y/8r//v8mAFUAcgCPAKgAhwB9AJUAhwB1AD8A9f/s//v/CQASAPj/0f/C/7D/p//C/6//e/9U/zj/V/+Q/8b/7f/n//f/MgBzALAA1wDLAJEAcwCbAI4ARAAjABsAEAAFAOz/wP/B//7/KgD5/5j/cv9y/3b/d/94/4P/lv/J/9n/3/8oAGQAfgB9AG0AkQCkAIMAYwAwAA8AKwBJAD0AGQDy/+D/4P/c/83/k/9S/1H/gP+K/3z/lP+T/5v/zf/r//f/CAA4AGIAaABbAGAAagB8AKgAqgCNAHEAVAA8AC8AKQABANH/p/+b/43/af90/4H/jf+e/4//i/+o/+j/IwAwAC4ARgB4AKkAvQDDALoAtgC3AIwAYwBEACkAHwDs/6n/cf9Z/1z/Tf9C/z//Qf9M/2b/jf+W/7H/9v8VAA0A///0/xQAZACiAJYAawBNAGUAkQCJAHUAUAAdAAUA8P/Z/9L/2/+0/4L/ZP9K/2T/jP+I/27/af96/6H/uP+t/8r/9/8lAGcAoQDLANkA4wDvAPUA9gDlALAAaAAyABIA+//O/5X/dP95/57/vf+8/6b/mf+f/6f/w//e/83/2v///wwAMABdAIcAlQB+AFsAPwBZAIIAdQAWAKb/lv/F/+T/5f++/5n/pP/F/+r/7P/W/8f/o/+G/43/u//k//L/8f/d/+7/JABkAH4AVAAzADUAUQBmAE0ADQDf/+H/6v/h/7z/nv+Q/5P/pf+j/6L/pf+w/8n/1f/w/xIAKAA1ADIASgCIALYAyQDCAJ8AfgB+AJIAnAB5ADEABwDq/8//vP+j/4r/Xv89/07/h/++/9f/6f/n/+D/8v8bADgANgA6AEQAVgBwAIQAiABzAE8AMwAuAC4AMgAbAN7/lv9d/1f/dP9//1//UP+E/8n//f8TAAkA+P8HADUAUgA9ABoAHQAzAEYARQA1ACgAIAAhACgANQBGADkA/P+4/4L/cv+J/37/S/8p/zT/ev/C/9r/4P/X/+H/JABjAHcAagBkAHEAfACNAIsAhgCQAJAAfABLACcALgAsAO3/ov97/3H/jv+o/5j/dv90/5b/uf/M/9L/4v/3/wsAIAAcABIAIQA3ADoAJgASABYALwBNAFEANwAcAA0ABQD7//P/7//w/+P/uv+W/47/o/+7/7z/r/+6/+j/HwBPAF0AWwBpAH0AjwCVAI4AhACGAIMAaQBJACkAFQAHAO7/0v+6/6P/mP+a/5f/lv+X/6X/tf/H/+j/DAAuAEUARQBFAFoAegCOAH8AYwBSAFMAXgBZAEYAMAAkABUA/v/s/9r/w/+q/4z/dv9w/2//cv92/3L/c/+F/6n/1P/6/xgAQQB4AKAAqwCkAJoAkwCMAHoAUAAkAAAA4P/H/5r/bv9Z/0z/Qf8z/yv/Lv8//13/cv99/4f/qf/n/xoARQBuAJwA0QD9AA8BBwH0AN4AwACRAGAAOAAWAPn/1f+x/5T/hf+D/3//d/9u/2v/cP9//4b/h/+c/7r/1v/t/wgAMQBdAIgAmwCYAJUAkgCNAHQAUAAvAAAAyv+i/4r/dv9o/2P/Xf9a/2P/cP90/4L/mP+s/8f/6/8WADQAQwBZAHQAigCaAKQAmgCIAH4AbABPAC0AEQD5/9v/zP/Q/9n/1//K/7T/nv+n/7n/uf+l/5b/pP+5/8T/x//Z//7/LQBbAHcAhgCZALUAvgCoAIUAZgBQADoAHgABAN7/vf+r/6L/nf+b/6T/rv+q/5z/lv+h/7n/1P/i/+b/+P8oAGcAmQCzALgAugC6ALYAqQCQAHMAWQA7ABoABQAAAAAA+v/p/9b/xv/G/9b/3f/N/7X/p/+v/7//0//o/wkAPQBzAJkApACsALYAvACoAH4ATwAbAPz/4P/C/6v/mf+W/4//jf+X/63/y//V/9X/y//A/8n/3P/n/+L/1//e//n/FQA3AFgAbQB1AHMAcgBtAGkAXgBMACcA9//V/8X/u/+q/5X/fv9v/2j/Yf9Y/1T/X/91/4z/l/+n/8j/8/8ZADUAVwB9AKQAvwDIAMIAqgB+AEoAEQDe/7n/lf+A/3L/bP92/33/lv+r/7//0//d/+3/+v8EAAsADAAZACQAKQAtADQARwBMAEMALwAaABUACwD7/9n/vP+0/7H/rv+h/57/rP+//9H/0f/B/7//x//V/93/3v/t//v/DAAVABoAKQA1ADgALAAdACMANgA+ADcAHgAPAAkACAAGAPn/8//r/+T/3v/R/8L/rP+c/5//pf+o/67/vf/X//L/EAAtAE8AcwCOAJ8AoACkAKYAmQCCAGoAWgBLAC8ACwDg/7j/nv+L/4j/gv9+/33/ff+Q/6v/1/8GADcAaQCPALAAxwDXANkAyACnAIYAbwBXADgACwDl/8f/r/+Z/4T/ef98/4n/mf+u/8H/3P/y/wQAFQAhADgARQBTAGAAawB9AIgAkACGAG0AUwA+AC8AIgAOAPn/6v/m/+v/7f/x//L/8P/y/+//7f/g/9L/vv+h/47/hf+X/7P/1//8/xgAOgBfAIQAnQCmAK0ArQCdAIoAcgBdAD4AFgD3/87/sv+a/4b/gP92/3b/av9h/2v/gP+d/7b/0P/0/xUAMgBHAF4AfACOAIwAcQBPAC8ADADo/7z/mv+E/33/gP+M/6j/yP/i//D/+f8JACAANABBADwANQAsACUAIAAVABEACgAEAAEAAwAFAAQA/f/w/+P/2P/S/8b/vv/D/9L/5f/1/wQAEgAbABoADAD4/+b/1v/B/6r/mf+e/6//wv/X/+7/DgAzAFMAZgBtAGsAZgBXAD8AJAAKAPP/2P/A/7H/pf+Z/4n/dv9n/17/Yf9p/3j/kv+u/9H/7P8NADEAVQB5AJYAsQC+AMEAtgCcAHcASQAWAOH/s/+R/3n/aP9k/2j/e/+Q/6r/wv/T/+r/+/8PACMAOwBXAGsAfQCIAI4AkgCNAIMAcABfAFAAPQAkAAQA5v/N/77/s/+r/6j/sv/F/9b/3v/h/+v/+v8LAA0ACAABAP//+P/j/9P/x//Q/97/7P8AABoAQABXAFwAVgBQAE8ASAA2ACIAEgAKAAYAAAD6//T/7P/b/8f/uf+2/7z/xP/P/9j/4f/u//z/EAAlADsATQBaAGkAcQByAGkAWQBEACcAAQDg/8r/v/+6/7L/rf+v/73/0//q//n/AwAJAA8AGAAgACUAIQAaABEADAALAA8AFgAbABYADQAHAAQABQD///f/8v/5/wkAFQAYABEACQAAAPj/6v/a/8z/yP/L/8//0//S/9L/0//W/9//8f8KACcAOABFAFEAYABrAGcAVgBAADEAJAARAPX/0/+y/5j/hP96/3v/g/+O/5z/sP/K/+n/AQAQABcAHgApADQAPQA+ADsANwAzACkAGwALAAMAAAACAAQAAQD6/+3/4P/T/8z/yv/R/97/8v8IAB0ALQA0ADAAIQARAAMAAAD8//n/9P/z//f//f8BAAMAAwACAAYACgAKAAIA9f/m/9v/1f/R/9P/1//g/+n/9f8CABcAKgA2ADwAQgBMAFMAUwBKAD4AMQAkABQABgD9//j/9//4//T/6v/e/9T/zP/A/7T/rv+0/8H/zf/W/+D/8/8EAA8AEAAQABUAGgAXAA0AAQD5//b/8P/p/+T/5f/t//r/BwATABsAHAAYABUAGAAgACwANwBDAE0AVwBeAF0AUwBFADkALwAlABQAAADt/+D/1P/J/77/uf+9/8v/3v/v//7/BwANAAwACAACAAEAAwAGAAsADwAVABcAFwATAAoAAADy/+f/6P/v//T/8//r/+b/5f/m/+X/6P/v//r/AAAGAAwAEwAUAAkA+v/v//L//P8DAAQABQAHAAwADQAKAAYAAwADAAMAAgAAAP//9v/o/9v/1//l//v/CgAPAA0ABwACAPf/5f/P/7z/sP+v/7r/y//d/+f/5v/f/97/5v/3/wkAGwArAD0AUgBjAGwAaQBbAEoAPQAyACoAHwALAPT/2f/A/6n/mP+O/4//m/+s/73/zv/g/+///P8HABUAJAAzAD4ARgBJAEgAQAAtABQA/P/q/93/1f/R/9T/3P/n/+3/7f/s//H//v8RACUANABAAEcASwBOAE0ARQA4ACoAHgASAAIA6//P/7b/oP+S/4z/kv+k/7v/0//m//f/BwAYACYALgAzADsARABOAFIATQA8ACIABgDu/93/0//Q/9D/0v/W/9f/1v/Q/8v/y//T/+H/8v8BAA8AFwAVAA0AAgD7//v/AAAGAA0AEgATAA8ACAABAP3//f8HABsAOABaAHMAfQB1AF8ARQAuABwADwAHAAIAAAD8//T/5v/V/8X/uP+1/73/zv/e/+f/5P/e/9r/2//e/+L/5//w/wAAEQAgACYAHwARAAIA/P8AAAwAFgAbABoAGQAcAB0AGwAVAA4ACwAOABgAIwAqACYAFgAFAPj/8v/z//f///8IABEAFAAPAAQA+P/t/+P/3//h/+j/7f/r/9//zf+8/7D/q/+t/7T/u//D/87/2//q//b/+v/6//z/CQAiAD8AWQBsAHgAewB3AG8AZwBeAFQARgA2ACgAGwALAPT/1v+3/6H/mf+b/6T/r/+3/7n/uP+0/7T/uv/J/+D//P8ZADEAOwA4ACsAHgASAAsACQAJAAoABAD5/+r/3P/U/87/zf/W/+j/AQAdADEAPAA/ADwANwAzADYAPwBIAEsARQA2ACAABgDp/83/uP+t/6//tf++/8P/wf+5/67/pf+i/6f/sf/A/9X/7/8GABMAEwAHAPr/9P/9/xEALQBLAGEAbgBxAGoAXwBXAE4ARAA4AC8ALAAtACoAGgD8/9v/wv+4/73/y//b/+v/+P/8//r/8//p/97/2P/f//X/EwAzAEkAUQBLAD8ANAAvAC8ALwAtACoAKQAkABYA/v/k/8//yf/R/+L/9v8JABYAFQAKAPv/8P/o/+H/2//d/+n/+f8AAPn/6P/U/8f/xf/N/9z/6f/w/+z/6P/o/+//9//6//j/9f/3//3/AQAAAPX/5v/Z/9P/3P/v////AwD///r//P8JABoALQA7AEQASwBSAFkAWgBNADEAEAD1/+T/2f/M/7v/p/+Y/4z/hv+F/4n/kP+X/6X/uf/T/+r/+P/9/wAACQAXACUALwA2ADkAPAA6ADUALwApACMAIQAeAB0AIgAoACwALAAoACEAGgATAA4ADAAOABEAEQANAAQA+//w/+j/6v/w//b/9v/x/+3/7P/u//D/7f/k/9r/0v/O/87/0P/Q/8n/vf+0/7f/xf/Z/+n/9f/+/wgAGQAxAEsAYwByAHoAgwCLAJUAmQCTAIQAcABaAEYANwAlABIA+P/Y/7j/nf+M/4P/gP97/3n/ff+L/6D/uv/N/9b/2//h/+//AAAPAB0ALAA4AEEAQwA+ADkAMwAzADQANwA6ADkAMwAoABoABwD4//D/8v/5/wQADgAYABwAGgAWABMAGQAkADQAQQBHAEMANgAmABQABAD6//X/8v/u/+T/1f/B/6v/mf+K/4L/gP+H/5P/n/+o/67/t//G/9v/7f8AABAAIgAzAEcAWwBsAHkAfQCAAH4AeABwAGkAYwBZAEUAJwAJAO7/1f+9/6f/mf+b/6f/tv/A/8T/w/++/7j/sf+1/8T/2//3/w4AHgAjACEAHgAhACgALwA1ADsAPwA9ADQAIAAJAPD/2//M/8j/y//N/8r/vv+x/6L/nv+l/7f/zv/l//n/CQAbACwAPgBJAE8AUwBaAGMAaQBrAGMAVAA9ACQACgDy/9z/xv+y/6H/mP+U/5f/nP+g/6L/pf+x/8b/3//z/wMAEAAfAC4APABEAEgATQBSAFsAYQBkAF4AVgBHADIAGQD+/+n/2//Y/9j/1P/K/7z/sP+n/6P/pv+z/8n/3//u//r/BAARAB0AJAAnACoANABCAE8AUQBDACcACgDz/+H/1P/J/8b/xP+//7f/r/+t/6//tv/B/9D/5f8AABoAMAA8AEIARwBRAF0AbwCAAI4AlwCSAIYAcABWADsAIQALAPf/5//X/8z/wP+w/57/jv+H/4r/l/+o/7r/yP/T/9r/4//w/wMAGQAvAEIAUgBiAHIAfgB+AHYAZgBUAEcAQAA7AC8AHwAKAPj/6P/a/8r/u/+w/6X/o/+l/63/u//P/+P/8v/+/wkAHAA0AE4AYgBvAHYAegB7AHMAZQBOADQAGwAIAP3/8f/f/8X/pP+F/2r/X/9l/3L/g/+Q/57/rv/C/9f/7P8AABMAKwBHAGQAdwB8AHEAWQBCAC0AHgASAAYA+f/h/8T/p/+P/4L/f/+D/4X/iv+R/53/rv++/9D/3//x/wQAFQAqADkAQgBGAEcARwBJAE4ASwBAAC4AFgADAPT/6f/f/9L/wP+p/5v/l/+e/6r/tf+8/8D/yP/V/+r/AAAUACMAKQAtADEANQA7ADwANQAlABQABQD///z/9//x/+f/3f/W/9b/3P/e/+D/3//e/97/3//k/+j/7f/x//f/AAAMABcAHQAbABIACAAGAA4AHAAqADEALwApACIAGgAMAAIA+//3//T/7v/n/+P/4v/f/9r/1v/Z/+X/9/8DAAgABQADAAQACQAUACIAMwBAAEoATABKAEgARQA/ADUAKgAfABsAGAATAAoA+P/l/9n/2v/i/+n/8v/3//v/AAAGABMAJAAzADgANgAxAC4AMQAxADAALQAqACQAGAAMAAAA9P/k/9f/zv/L/9X/4P/p/+//8//4/wAACwAcADIASABVAFsAWgBZAFgAVQBRAEgARgBFAEEAOAAlAA0A7v/Q/7b/q/+r/6r/p/+i/5//oP+p/7n/zv/o//7/EQAhAC0AOgBCAEUAQgA6ADAAKAAkABoAEAAAAO3/2v/G/7b/qP+g/5n/lv+W/5j/ov+x/8b/2P/k/+7/+P8DABIAHgAmACwALgAsACgAJQAiACIAHwAaABMACQD6/+H/xf+s/5z/lP+X/57/p/+u/6//q/+o/6z/uf/O/+T/+P8IABEAFAAUABUAFgAbAB8AIgAhABkAEAAHAP7/9f/p/9n/yv+//7b/rf+l/5v/mf+g/63/uv/K/9z/8f8GABYAJQAyAEEAUABZAGMAZwBnAGAAVABFADQAIgAPAAAA7f/T/7v/p/+Z/5D/jv+Q/5D/kv+S/5f/pP+8/+H/BwAuAEkAWQBiAGUAagBvAHcAfgCHAJAAjgCAAGcASQAmAAUA7f/e/9n/1P/H/7L/nP+M/4f/j/+g/7n/1v/w/wgAHwAzAEMAUQBgAHEAggCTAKQArACqAJ4AigBvAFcARgA7ADIAIAAEAOn/0P+6/6z/pP+j/6r/tP/A/8r/1//p/wAAGAAzAEwAYQB2AIYAjwCTAJMAlACUAIsAdwBZADUAEQD2/+P/1v/J/7b/o/+S/4D/dP9r/2f/bv+A/5r/vf/f//j/CQAQABQAIQA4AFQAcgCHAIsAfwBnAEsAMAAYAAgAAAD0/+f/2f/H/7P/nf+H/33/gf+O/6f/w//W/+H/5//t//r/EwA2AFkAbwB1AHAAYwBWAEsAQQA3ACoAGAAHAPf/4f/J/7T/n/+Q/4P/df9r/2X/Zv9s/3r/lf+4/9n/8v8GABYAIQArADcARwBZAGQAaQBsAGYAWABFAC4AGAAHAP7/9P/m/9H/tf+X/37/cP9v/3v/kf+o/77/0v/m//z/FgAyAEwAZQB5AIYAjwCUAI0AegBiAEcAMgAiABMAAwDv/9L/tP+e/5H/i/+J/4n/iv+N/5b/p/+//9j/8P8CABQAJgA5AE0AYQByAHwAfwB5AGwAXQBNADsAKAAUAP7/6P/X/8n/uv+p/5z/kv+N/5L/nf+s/7//z//a/+L/6v/z/wMAFwAoADoASABPAFAATgBIAEEAOQAzADAAJwAbAA4AAAD0/+r/3P/P/8f/vP+3/7X/sP+v/7D/tf+//9D/3//v/wIAGAAvAEEAUABeAGoAdAB/AIUAgwB2AFkAOwAjAA0A/f/s/9T/uP+f/4n/ef9y/3L/fP+L/5//u//T/+b/+/8MACEAOQBQAGoAgwCOAIgAegBiAE0AQgA5ADMAMAApAB8AEQD8/+X/0f+//7j/tv+2/7P/qv+n/6n/tP/G/9//+v8LABkAJAAqADUARQBaAGsAdAB3AHQAaABRADQAFwD8/+H/zv/C/7b/qf+c/5T/l/+n/8D/4v8FACQAPABKAFAAUABPAFIAVwBZAFkATwBAAC4AFgD9/+T/z/++/6//p/+n/67/tf/B/9H/3v/o/+z/7v/2//7/AgALABIAFAAUABMADwALAAcAAAABAAcAEAAgACwAMQAuAB4ADgADAP//AQAFAAMA/v/5//D/5f/c/9P/0P/R/9H/0//a/+L/6f/r/+j/5v/q//n/DAAgACwALwAuACsAKQAnACcAKQApACcAHwAOAPz/6P/X/8z/w/+//7r/s/+x/7P/u//H/9b/6/8CABsALQA8AEYASgBNAE8ATwBNAEkARAA5ACoAFgD//+7/5v/m/+7/7//p/+H/2f/W/9z/6v/6/wYAEQAWABkAFwAYACAAKwA7AEsAVABXAFYAVgBYAFgAVABOAEcAOgAlABAA/v/s/9b/wf+z/63/s/+//8z/2v/f/+T/8f8BABsANwBGAE4AUgBRAE4ASgBEADsALgAUAPv/6v/a/9P/z//I/8j/xP/A/8X/z//d/+//AAARACAAKgArACsAIwAZABIACwAKAAsABwD///D/4P/W/87/zf/U/9z/5P/r/+//8P/x//H/9f/9/wAABAAJAAoADAAMAAsADwARABMAFgATAA8ACwAFAP7/9v/y//H/8//z//P/8//s/+X/5P/l/+j/5//l/+b/5P/i/9//3v/Z/9T/0//X/97/3v/X/9D/yv/T/+X/+f8LABMAGQAcAB0AJAAqAC8ANAA4ADoAOwA8ADQAJwAYAAIA9v/x//P/+P/2//L/7P/o/+j/6f/s//P/+P/5//X/7v/s//L//f8LAB8AKgAsADEAMAAxADAAKAAmACIAGQASAAoAAAD1/+j/3//h/+P/5//t//H/8P/x//P/+P8HABgAKQA3ADcAMgAsACMAHAAZABQAEgAMAAMA+v/m/9r/0f/U/+T/9f8JABcAIwAsADUAPwBEAEgASABFAD0AMwAhABAAAgDx//D/6//l/+T/2v/T/9P/0f/W/+b/8f8GAB4AKQAwAC8ALAAjACQAJQAlAC4AIwAbABMAAQD4/+z/4//o/+7/8f/z/+r/4P/Y/9L/0P/Y/+P/5f/o/93/0//M/8P/0P/i//X/AQAIAA8AFAAXABYAHAAkACwAMwA1AC8AJAAWAAgAAgD//wIABgAMAAkA+v/v/9n/1f/X/9X/3f/b/9b/zv/B/7X/sv+x/7b/x//T/+L/7f/1//j/AAAHAAoAJQAuADgAQwA2ADQALgAeABgAFQADAP3/7//W/87/t/+o/6L/nP+g/6n/uP+8/8T/w/++/87/2//q//7/AAD//wIA+//4/wAAAAAGABAAEgASAA4A///2/+//5f/n/+P/3P/T/8P/tf+t/7D/rv/C/9X/3f/0//P/6//x/+3/9v8NABsAJwA2ADUALwAqACEAFQAVABIAEAAaABUAFAAQAAAAAAD8/wAACwATABwAGgAcABQABQD8/+H/1P/S/9D/1//c/+P/6v/0/wEABwAYACQAJwA4AD4APwBFAEAAPQBFAD4AMwAoAA4A+v/r/9n/1P/Y/9H/yP/C/7b/rv+r/6f/qv+6/8b/zf/Z/9r/1//X/9P/2v/k/+///f8AAP//9P/f/9T/0v/R/9H/zf/G/8H/uP+r/5T/fv9z/1//Yv9u/27/fv9//3//if+M/5P/nf+w/8P/0f/i/+f/6v/y/+T/6P/v/+f///////z/CAD7//T/7f/v/+//+v8OAAIACwAGAPf/AQAFAAwAGAAgACgANAA1ADkAOgA1AEoAVQBXAGwAcgBnAHsAggB1AJsAogCgAMEAugC3AMcAzgDQAOcA9QDoAAEBBAH6ABoBDgEFASkBHAEuAWABUwF2AZMBeAGWAacBowHFAd0B1wHqAfkB4gHnAeYBtgGrAaABZQFxAWYBIgE2ARIB0wDjALQAgACJAFoALgAuAAAA1//J/6f/hP9z/1X/JP8W//L+yP7H/pn+gP5w/jX+IP74/bz9r/2P/Xf9gf1q/Vn9WP08/Sj9KP0l/R79Lv00/Sv9SP1L/UX9bP1n/W/9lf2V/bX92P3f/fj9EP4e/iv+Rv5Q/lX+dP5o/mf+fP5l/nL+hf54/oj+i/5//or+jv6N/p/+tv7G/ur+/P77/in/Nf9G/47/k/+w/wAA+P8JAEoAMwA8AHkAgQCNANoA9wDfAEEBSQEeAXwBcAGAAdgB5AH2ASMCRAJFAo0CxALnAlADigPAAxwEUQRyBM0E/wQ3BaEFywURBlgGlAbIBg4HZgefBxUIVwisCAUJNgmxCdAJHwqFCp8KBQtWC4kLxgsODCYMOwyODJwMnQzZDMsMpAzIDHgMIwwRDIYLIAu9Ch8KlQnxCDoIZQedBroFtQTWA8oCvgHIAK7/pf6j/Yv8fPty+nT5hPia97726/UV9Vn0tfP/8njy+/Fs8R3xw/Bq8DLw/O/P77nvyu/F7+DvGPAv8H3w0fAU8X/x6fFI8sPyQPO080j01fRq9QX2mPY19833bvj9+I75F/qc+jj7uPs9/L78I/2T/fX9Qv6g/u/+Kv98/7X/2f8KABYAFwAqACwAHgAtADkALAA3AC0ABAD8/+r/r/+h/4X/Tv9Y/zX/Gf8b/+b+0f6p/n3+bP5J/kT+P/5K/mT+aP6K/pf+p/7h/uL+Fv9s/3z/3v8XACcAmwC/AAEBegGqARoCigLeAmMD1gNABKAEGQWbBe8FoQYUB14HIghZCMQIgAnCCWcKAQthCwIMjQwLDawNPw7DDmQP/Q+aEDsR4xFlEuYSdhOsEx8UcBR/FN4U6BTsFAUV0hSQFE0UxxMsE6MSyxEJESYQBA/yDZYMMAuqCRAIawa1BBkDUwGq//D9DPxJ+oL4wPY19brzQ/IH8azvc+5i7TDsSetc6o3pA+mC6Bzox+eU51HnPedb52vn0edN6MXoe+k86vrq3uvO7Kvtru6477vw5fEM8x70NPVA9jj3QPg9+R36/frH+4n8UP0L/rL+Sf/C/x0AcwC0APYAMAFWAXgBewF3AWsBTgErAQcB2AClAJEAcwBPADwACwDN/6X/cv84/yL/AP/e/s3+qP56/kz+Iv7r/dH9uf2d/az9o/2t/cD9wP3N/db97/0M/kT+i/7L/hf/X/+J/7X/9v8kAHYAzgAfAYEB3gE/AooC6AItA2kDvQP8A1QEoATtBCIFWQWKBaEF6gUGBkIGewaRBt0G/AY2B3EHpgf3B0YItAgjCZwJGAqYChILmgssDLEMVA3pDZEOMQ/WD4EQ+RCXERQShRIZE4ET4hM4FHIUkRSgFJAUVRQAFIkTBhNqEroR7BDyD9cOjQ0jDJkKCAl1B8oFJQRsApsAzP7i/O76//gN9zL1a/O18RXwcO7d7F3r7umq6ILni+a45Q7lmuQv5ADk+OP+40PknOQZ5cDlguZq51nobOmV6sDrDe1l7rzvJfGR8vbzZ/XQ9jf4mfnu+kL8d/2e/rX/rwCaAXACNgPkA3gE9ARTBZwF3wUPBiwGRgZIBjkGIwYEBt4FtAWLBVUFFQXXBJcETwQTBNIDegMyA90ChAJDAvcBswFsARoBzgB9AC4A7f+t/2j/Kv/o/qb+df5T/iz+CP72/dD9wf3N/dD98P0Z/jn+Zf6h/tz+G/9m/6H/6f80AIIA5AA/AZcB4QEgAkwCewKyAtgCGANXA4QDswPVA+QD8gMVBCoERwR7BJQEsQTYBOUE/wQhBTgFagWhBe4FVQa3BjkHowcLCH0I3AhrCfsJogpeC/4LsQxCDcUNSw60DjMPrA8gEK4QGxFxEb4RvRGrEZERPxH7EK4QLxCdD+UO7Q3IDIYLEQqDCPgGXgWwAwgCOwBO/mv8WPpb+ID2mvT78mDx1+9/7hjt1+uu6qbp2Ogy6Mnngudd51/ncOel5/XnZOj46J/pcepZ60vsZO1y7oPvo/Cz8c/y/PM39W32pPfM+NL54vrU+7z8p/10/kr/DgDBAG8BAAKBAu4CTAObA+cDMwRyBLYE8wQVBTYFQgU1BS8FFwUBBfQE1wS0BHoELQTTA3MDCwOYAjQCvwFNAekAcQACAJr/LP/H/oD+Pf4E/uf9uv2b/Y79ef15/Yf9kf2p/cD91v35/Rv+RP5i/oj+qv7I/g3/NP95/8X/5v8tAE8AdgCxANQAEAFDAXcBqAHNAe8BBAIbAisCOgJQAmICdQKRAqUCrwK9ArcCtgLCAsUC0QLjAuYC8wIHAxMDOgNgA5ED1gMaBHsE3gRRBc0FQQbHBkkH2weKCEMJDgrfCp4LUwwGDaUNTw7+DqgPWBD1EHgR3BEeEjgSKxL8Ea0RRRHEECEQUw9eDi0N1QtrCuIIZgfgBUwEygIuAZD/7/09/KX6GPml91r2JPUN9AXzCfIS8SrwWu+d7hPuse1x7WHtXe1m7Xntlu3D7Q3ueu737p7vSfD38LnxZfIX87/zVfTy9I31L/bP9nD3BviF+Ar5evnw+XL65/pn+9v7T/y//Cb9k/3r/Uf+nP7p/kf/n//7/1YAqAD1ADcBdAG4AQACTAKVAtICBAMlAzwDSANFAzsDKQMVA/sC3AKtAnECKwLRAX0BHwHJAHoAIADU/3L/E/+y/kb+7f2U/Un9D/3q/NX8zfzL/Mb8zPzR/Ov8Dv06/Xn9r/3z/Sz+Wv6E/pT+qf6w/rP+wf7H/tT+3f7b/tr+2v7d/vD+Dv84/3P/s//5/00AnwDyAEYBlQHqAUICowIDA2UDyQMeBH4E2gQ0BZwF+gVgBtIGSAfGB08IyghDCbsJGgqKCu8KUwvICyoMlQzzDE4NqA30DUMOgA69DvMOGA9CD18Pbg9tD0oPEA/FDmEO8w13DeUMRAyJC7YK2wnvCP0HBgf/BfoE9APoAuUB3gDa/9r+3v3p/Pv7IvtT+pH51/gT+F73s/YX9pr1L/XS9ID0KPTJ82/zFPO68mryG/LS8ZjxY/E58Rjx8vDO8Krwl/Ce8MTwCfFb8bvxHfKE8vbybvP284z0NvXr9aj2avch+Nr4h/kx+t/6lftV/Bv94/2Z/kL/2/9kAOsAaQHeAVMCvQIYA2cDmQO3A8ADtAOfA34DYgM+AxkD9AK/AooCSAIGAsoBjwFfASoB9gC6AHMAKwDc/4n/O//t/qL+Wf4H/rj9av0e/dj8lvxd/C/8Dvz5++r74fvZ+8/7yvvJ+9P76/sL/Dv8bfyl/N/8Gf1h/aj9+v1S/q7+GP+E//r/cQDwAHAB7AFxAu4CdAP5A3wEAgWABfgFZAbJBiMHdwfEBwgIRQh4CK4I4QgXCUgJbwmOCZoJpQmrCbUJyAnXCesJ+QkECgsKCAoECvwJ8wnqCeEJ3AnaCdsJ1gnKCbgJoQmRCYYJiAmSCZ8JrwmuCaAJhQlZCSYJ5QigCFgIDAi7B1cH4gZbBsoFMgWbBAsEfwP1AmQCzQEpAYAA1f8m/4D+2f05/Zv8/ftc+7P6BvpO+Zn46PdC9632IPad9Rn1lfQX9J/zN/Pc8ozySfIK8tTxp/GD8WrxVfFJ8UbxUPFu8ZjxzvEH8kPyiPLX8jjzrfMu9Lr0T/Xo9Yj2KffM93L4GfnE+XH6IvvX+4j8Of3d/Xb+Bv+L/wwAhwD6AGMBvQEJAkUCcwKWAq8CwQLLAsoCygLJAscCwQKwApYCdgJSAikC+gHFAYYBQgH1AKUAVQABAK//YP8X/9f+ov59/mL+Tv48/i3+JP4m/jP+Sf5j/n7+mv62/s/+5P75/gz/H/83/1n/iv/J/wsAUQCaAOcAPQGbAQICbwLhAk8DuQMcBHkEzwQbBVwFkwXEBfAFFgY0BkwGXwZpBmwGbQZtBm8GbgZkBlIGOwYhBgMG4AW8BZQFZgU0BQMF2AS1BJUEdgRbBEMELQQYBAkEAgQEBA0EHAQ1BFoEhQSwBN0EDQVDBYAFxQURBmAGqwbvBisHYAeNB7UH3Af9BxkILQg5CDwIMwgbCPMHwAeGB0kHCAfDBncGHga0BT0FvAQ2BK0DIAONAvUBUwGoAPf/Ov94/rP98Pw0/H37zfok+oH54PhD+Kz3Hvee9iv2wPVe9f70ofRJ9Pbzp/Nc8xfz2PKg8m7yQvIm8hvyIfIz8lXyivLT8i/zmvMQ9I70EvWa9SX2tfZF99H3X/jz+JH5Nvre+of7L/zU/HP9Dv6j/jL/uv87ALcAKwGZAf8BXAKvAvcCMgNiA4cDowO3A8MDxQO5A6EDgANcAzoDGgP5AtoCuQKUAmkCNwIBAsMBfgE7AfwAwwCLAFMAGQDe/6L/av88/xj/+v7g/sv+tP6Z/n7+Zv5Q/jf+Hv4J/vf96v3e/dP9yf3G/c393f34/Rr+Qf5m/ob+pv7I/un+A/8c/zr/Xf9+/6H/yf/w/wkAGgAsAEEAVwBvAIoAnwCrALsA1ADwAA0BNQFnAZQBvwHvASMCWAKSAtYCGANYA5wD7ANDBJ4EAwVuBdoFRga0BicHlwf9B2IIzAg4CZ8JDQqHCvQKUQupCwYMXQypDPYMRg2HDbIN0Q3cDdYNyw23DYsNTA0IDboMYwwFDJ0LKguvCi0KrgkgCY4IAQhkB8EGGQZcBZUE0gMaA0sCbAGiANP/+/4K/jj9c/yB+5/60vkI+Tn4dffH9in2gvXn9Gj05PNc8/zyq/I98vrxz/GY8XLxVvFc8VLxXfGG8cnxFfJF8qvy+vJb87jzIfSq9B71svU/9uD2dvcT+Lj4Zvkd+rr6Qvva+4H8+vxg/cz9PP6J/tD+Jf93/7v//v8/AHMArgD0ABwBRQGCAZsBqQHCAQ8CEgL5AQoCGAL5AcEBrgF/AUkBFQH8AK4AgwBSAAYAqf+E/6r/Mv/K/uj+Sv/J/in+ev6M/gf+aP2k/Yz9ePz8+7n7IftV+sP5M/l/+Cf4/fer94v3uvfg9+b3u/fg+AD5RPiU+Ob4Svm5+PT4RvlH+WH5fvkp+ij6svoS+1T7xvt8/D/9OP0T/uv+z/99AEIBlwJZAzUEIQVlBhsH5AeaCCsJIAq8CrALKgw8DSkO2w7bD8oQBhK5EjQUQRViFq4XkhiwGSgaNxv1G5kc2xzfHEQdsBxWHKwb2hqsGToYNBd+FfYTDRIgEBcO9gsKCqwH6gXrAxsCPQAD//b9WfyS+4b6GvpP+d34tvgk+MD3//YG9zv2pPXm9Az0bvNh8uPx5PBt8NTvme8679juN+9p79Xvx++18CPxkPFH8nLyKPNG89nzLPSG9DH1avXV9Ur2Cvdo97z3M/iv+O347/hZ+XX5c/ko+f34DfkI+VL5K/kv+aP5FPo/+nX6Gfto+2z7U/ss+xD71/pI+sn5cfk9+aH4cfiw+MX4DvnP+Eb5RflG+Y/5i/mC+b/4sfgv+IH38PZp9rH1zvRv9Dr0d/NE8l3yK/IJ8qXxtvKp8wnzQfSl9Bn2jvbe9lP48/i2+hf7+fvs/DD9pP3l/Xn+z/8XAGMALAFFAUMDkgSYBjcI0QosDhkPjxBxEYcTLRNFEacPfg01C9sGlAROAsUAx//2ABkG0AsOFEsd2ycOMVg6UkZdUQ1Y0FkaWXtVck4sRM84uysGHsEOVwAZ9ubtd+d04Nfcf9so28jcJd8G4a7fiN6s3Vnc/NoY2qnaPNzh30nk5+pq9Lj+1QhfEjQfUypbMb022jlDOj02TjEcKngfrBP+B3H8U/CU5XLdnNW4z63MX8sQzenO8tH709/XuN0s4hTo9ezi8n/3hvtmAB0EPAjCCmMMiAxADAwM8QnoBsoCYP7B+hL4u/XP82vyg/Gh8HPwQvH38hj04fOg87bybvL670jt3ult597lDuRz5Wblt+eX6Yns5+/F83X5a/tY/iIAlQE7AhECZAKBAPH9Tf3k/UL8/PrY+8376fpF+2j8bPs/+y77wvhB92n2D/d39abySPOZ88zzRvU/9sL4ivnj/RsA6f9LBm8FKwfGB+kJ3Qt0CFENbgv+Cb4Jhgp5DrkMHhCWEhYSaBTlE3ET/hG6EEwMgQKx/gv6RvMi74HuVe/B7Gvz3QClDwkgbzGERZFUZmc0dYV7/38ke0FvLFs+TIY6LSEiCPjv0txKy23B2b0+utu6079MxVjNONgK4XDiuuSD6nTrpOzN7tHx8PLZ9HX9ugbxEe0csybeLoI1zTxOPq86bTRMLJYh3BNHA2/05uXT1iDLYsPZwRPA9sBbxHTK2dK02fDimuta8v/45P+ZBTcJ0wqTDEsNlg3hDSENyQxsCjMHFQMs/Q36uvYI81zvouyT7CnrEOzK7ZfxZPZk+IP60/0cAPL++/sn+ZH0Ze5J647ocuYV5Mzjyuas6Y/v6/aT/uMEnAmIDr0SRBTLEjEPSQwFCBcCiv4Q+QD0Ve/z7A7uE+6h8FT04Phf+0P8zAFdBJIDkQP1Am8EEwJNAGj9NPq++7D6cftw+R370f19/R8A4P/tAicHVAfEAnAA9AdDBh79fPuf/vz/ffo+/OH9Nv1a/5z9T/6N/5wH5gtGCWEO4g7tDDcJUwcGBVr9TgDT+3D2A/Yu9+n57/jUAWkIkRT8JxE580U0UI5fEWl6aqhrMGtVYTJQETvyJUsSCv9O6DPR0MRHvIS2TbfhvLzCLse/0OTb2ObT8Cz5dP8vA0UHfwqaDfcPVhBWEBIVWBrIG1kcKByrGucWbhPKDUAFofu87zbkNNtD1QTPO8oxyWbLC9DL123h+ek986z8MwYwC/AP5RIsE5sRLQ2QClkFagEN+2L2fvRj8hfx/+197V/sUe207Unuve9y8UD09vR3+AP7fv0F/8gALQEw/xMA5f1D+zn24PJD8EDsueqI6fXsM+9u8Q71iPlj/i4BcgW1B3cI9QYzA2b/mvmO9bLw2+yC6xDqxulU6jjtAu+D8+r55v9xA58F4QiXCrQKZgrMC10LNAt7CFEHjAb7BfEEk/6X/Nz7o/xr+mP3FPg59QD1sPLS8kL10/QM99TzBfhQ/IL9yP9E/5YEugP0CPYMwwzPD1sQvRNkEDsRTxBWCtkFogFH/5n43/Xt9LXwe+5G8J/yC/VN+Ej7UP6VBD4LUQ0AE+sfES3ENnpCl1PBYflof2y0bclqTF1TSuc2PSM2Davya9qRxlm3o6wnqf2sqLWywffOVN9h8QUBnAtUFSIdZx9yHt4bHxhtEFUJwwQyADn+df3G/cv9Tf6c/zj9nfqc9n/y7e6A6ivnyuL44SvixOKt5hvrcPFR9yf9kgEjBCUHtQbkA1AAbfzt93LzE/Ff7o7sFu+e8T/z+/Xv+90ArgGWBMUFTQUvA0QCEQAY/ML64/db9f7yj/OW8sfxE/Og8pry6/Ms9gb2u/UH93v2HfV19k35bfrd+af8qP2m/Qj+of17/bz7PPyv+Sf3X/XP8mnwGe2s7W/urvDB8k70ffhU/JH/IQCMARoDrgIkA5UCCwEu/v/8fv3z/fz+NP9wAKwBugN3BDoFowbKBRQC8P51/1b9VPrG+EL5Tvex+CD97P2E/fD/dQcKCnYMDA7PEOsPBg3IDBsJoAgiB2oG6QJ+AjADpv4Q/NT65vp2+Yn6i/z4/TkBCgWLBccFYAiwC24PLBDFFIgW9xY+HCYrdDxgPkw+zzvmOsM25TCDMSoseiA4DUwApPpQ89Pp1twN2bjb6t0D4wjpSO5c7R3v3Pe6ASYJogsnDrIPtw/fD08RPhA+DA8J4AqbDCMJLwO2+YDxhOoX6MnmTORO4gLePdxn3XrhceWb6tHwV/b1+4ICCAcTCMIH4gY6B9MFwgSoASL+3/qL9+f1rfWI9973XvgQ+SH5XvhD+IH3ofVE9dr1pfUO9aP0avNM8b7wa/LF9JT3sPkm/Zf+gf/p/yoA0gBm/2P+BP23/EX7OPiZ9YfzgfID8zrz0vO88ubx7vEX8ZzwJ/AB87fzjvRg93f7kf5X/8wBVQN+BDEFmAYqBvsDCwLcADoBbf8C/o/96v4QAMT/VwF6A2UFxAOHAtYDhAS8BAADoQAI/7L8B/oY+Dr4G/i491b6mfs3/bwAoQXYCr8NsBJ+Fu4YgxpRGbYXFBQlE5oPfAppCNEEx/5m9czxh+9T67nqjexK7orsEO8A9UT46PvJ/egDGwlHDI8OHhDcE3kQUw8WEJwXsR9XJhUysj0pSBxKCUvhR/pA+jWfKFgbHQrx9pfjhdZWzG7GR8Ziy1DU5N4v7eb6EwgMEroX6BzHH7kfTRtfFc0NWASv/Un4r/U39Xb1P/bf9vv31veY9nP1a/SR8yDzg/KU8s/x2/IM9WH3TvzjAKMFqgclCYUIQgQ/AOT63vV/70nqSOed5I/jA+N65qrr1fBI92v+iAUUCa4KBQoOCW4HkwOx/9j8Mft1+B/3efdh+Ff4PPmE+2D9fv7l/i3+2/ou+C31e/KZ70/u1+1+7IXtyO938sbzA/fH+u38c/73/v79X/uO+E31VPI573ftwOy67KruEvOP+Az94QLKCcoO1hGzEuARGA+TCmQGVAGm/aj6xPd59nr2p/im+Rn7L/+5AnoFUwZEB+MGNAOtAQcAcP8X/4MAnATMBmsKFA7fERwU7hNAFEESpg6ECrcFSwJM/gf6UPcF9xv5a/oh/XoB8gLtA1EEhQZqBmQCov+R/OD7dfm1+Av6n/t+/OH7mf9GBGUGqwXBBq8HNgbLBOQDdwMMAvcFpA7pGzksljlARj9NalHcUEtNV0gMOsIpaxUhAg3wnN421L7Lj8uWzxvYruRB7wz8cwU+DnoUlReFGRcVmA6BBpv+jfek8GXtPOyc7cfwy/NZ+B/77Px9/qf/mf9W/VD7rfcC8xvvx+367uHxU/X7+NL8G//D/vz8Gvyx+aD1b/Gn7VDpTuQp4SXgD+K05gHu9PaX/8kHhA32ENAR1g8YDLwHCwQM/gX4DfPj7nnriOkX6/Xt//GC9UD5xfxr/14A/v9p/379H/tl+Lv2mvQT8yPzavMd9Vj3FfsD//UBogTbBBAGAAYXBBwBX/1a+2/3zPW99BT0yvTw9S75QPwtAIQCJwMwA84BFADs/SH7AfhH9NvxHPKd9DP3KvtfAtIIdQ2PEREWKBfHFh8WbBM6D+QJMQZWAYb9EPuW+Zr5aPqV/d0ABgRQB7EIEQibB4cG9QWnA3YBd/74+zn8gfmr+fX6Q/1F/u79af+K/uP+3v4c/bz9T/09/A36AvrC/WD+MgNaB/AJiArqC7wPmg0CDNMJ3wZnBMMDYgNlAawC9wcCEAkgsDbBSJBSCFXhUY9Huzo4LnMdvAql+Fzp+NyP0/nPddGA2EnlpfQ/BhkUeRwaILkgwSCiHBwYhxGnCTUCPPyJ+LL1DfbL+FX9QgKuBVcFtgLr/ET2Y/Fc7uDrDehw5mvkjOQJ6DvuEfbB/Y8FEwpHDOILWQipA1L/jfvK97T02vIV8HTube558Z720/uWARwFrgc5BcIAOfs49f7viuoW6ZjnC+dt52Lq2+++9Kb7awJACG4MaA6SDusLJwi6A07/Ifxc9/7xne2G6tLodemI7ZnxqPUs+vr99v/vAAsBHADj/r39wfzJ+i35ZPcD9xz3AvhH+sD8yv5R/04AgP9l/mz9Kv5i/sL+3gC6ARkD7gOeBpwIsQoiDa0Nig7FDCwJSwa+Ajn/tvpu+Nz01+8Y7xrskur46kbuovCv8tv40frE/JP/SwJnBP4FkwcqBqwEcgOBANf+//61/iz//f8XAj4DFQSnBeIFdwekB1oH6QbHBaAEQgJJAQIBhv+2/6wA0gHXAoIDyARBAwoF6AZeBtEFRAZOB4kFvQbbCN0IPAnpC98New6YD7kStBMgFSQa8x/aJQspgSw8LK8pECfjI44f/hhREt8KsAKC/N73NvPC8JnwCvMw9PL3Afzn/TAA5ALTBggIYwr1CqUJDgkECQ0JdggqCaYIEwfaBZ4D4P9//Az5ffXa8X3vxex06mPpmueB56boDOvc7O/vZ/ME9eX21Piz+lL8J/9cAXoBQADO/qn87/oN+nT5hvgS9832w/Vd9JXywfFR8bbwKvFk8YTxAvHN8HXxKPPW9Fb1DvYe97z3UPfX9of20vXN9Z/1BPbR9Q72FPdX+AX7EP2i/xEB3wJqBEkEFgS+AgsBjf6U/Lj6rvf+9HbyMvBq74vvifB78ffyfvRO9Uv3N/mS+gL7JPvZ+9L7VPzl/Bz9Dv5k/zMBYQGsAa0BxQDR/3v+9vwv+4z6UfmQ+NX4wflB+sT7Hf4k/9AACgKeAt8BmgFkARMAJQDK/1MA0gCeAbMCxgMvBsEHPAp4C38Mjw3RDksPRQ9oEJoQoBDSD34PEQ4bDV0MXAsOCyALNgwFDHEL1grbCgsLqArmCVkIFwcdBuYErAIvAYsA2QAzAv8D7gUtB/EJvAvPDKENOw8fECgPnw6PDcIM0QuBDLIM9g08EDQT6BXKF2QZhxgVGRcZYBjZFecSdxBVDbcLVQlgBjgEyQIOA4YDSwSwA20B2gCX/x//Mv1B+9z54vj++S76iPtx/OT9oP9nAbgCkALqASsAff33+ir5JvbJ8n7vvuxB6szpu+oE6+Dr6Oz27fTuT/Bs8BDw5/Dj8VvyN/O281Lz9POI9Xv24/YM+An4TPd/9jP1B/N/8OXuGu1m7PDrruv665rshu6z8FPzy/U6+Lv6D/xG/br9SP1g/Pz6Lfo2+Xv4RfdO9lf2qvbL9zj5r/px++z7X/xt/Nr7jPpv+WT49vZq9XD03fMD8w7z2/MU9bT2n/iF+ij7svuo+337yfqv+TX5Fflv+uP72/2+/9ABSQRdBloIEQkrCYsI1gcQBx8G0wSfA2kD2gPXBK0FDgddCJUKZwxGDXMNpQyFCxIKbAnoB/UGugboBqoGYQfJCHcJnAphCz8MHQxxDNULywosCpcJJgmXCFAI7wccCFQIvwhdCGwI9gd4Bw4HvgYnB84GXweoBywI9gjXCdMKpwvMDPIMvwz1DEEMFgqnCJQH1QUCBM4CvgGpAFwBCQIUA6gECQY9B4IIPAqQCvUKJwvoCmAK6AkHCacHlAalBVEFIgUvBQIFrQW3BX8FhAUYBnQG9wXwBeQFTgYhBlQGXAZ7BnoGPwfmB7gHZgemBkQGQgUMBf4DmAImAa3/p/47/fj7vPrQ+ff4wvek9qT1C/QN8yDyu/Gk8eLxLfK08QTy7PFt8cnwgfAs8FPvlu6h7aDsw+tx63nrI+ws7XTu8O8Y8RfyrvIm81DzEfN68mbxtfDP787uZe7x7g3wKfEP87r0PvZ294z4WPmP+eD5hflL+aj4JPgF+E74RPli+g78uv2m//gA2AFUApYCEQIBARoA1v7B/Xf8mvsE+xP7g/sT/AH9K/5A/1UAcQF/ArgDTAQNBZ8FgwYpB5cHIAgjCHQIdAhLCMAH9QYOBuwEkgMQAgcBfgDV/w7/yP72/nn/bgCyAfoCZgTDBQkH8QeaCOUI2Qj3CBoJYAkXCYgI9AdCB1UGpgW4BQIGSQZFBk8GIgYkBhIGxAWaBaEFWAYPB70HKghaCIsIvwgCCe4IfQizB2wGJgWhBIIENASyA5gD1ANTBAcF2QWsBlAH9QdhCLMIbwjaB0MHmQYvBsUFvgWzBY0F1QUjBo0GrwblBksHGgewBuAF+QS5AwUCcwAg/yL+V/3A/IL8O/wO/HL86fym/Yf+if9YAK0A8wDXALoAkAAjAKX/+/6B/hj+of1C/Qr9MP04/Uz9XP0g/b38Lvye+7v67/k4+ZT4V/hT+G34m/gg+Q/6Kfth/I79bf5E/4z/pf8b/wX+Af31+0L7BfoQ+X74S/hp+K34dPlA+rf6y/q5+pr6VPqy+Sv5gPgo+E/4tfhQ+eD57foK/ED9cf5f/ysAfAB3ABAAqf8w/5j+G/6t/Z/9zP0y/nT+gv6h/uv+Q/85/83+UP7S/Ub97vyp/Kj8wPwE/Wj95P2n/vv+Wf+S/4D/bv9R/1n/Mv8x/23/s/8gAIAAHwEUAs4CdwM/BAoFKwWzBEsEcAM3Ag8BIAA8/zz+gv0H/cr8wfzS/B/9nv1z/mr/WABEARsC8wKlA2QEDQWkBTMGiwbIBvIGBAebBrMFdQQXA7cBZQD5/p79oPzy+5X7avu2+zb8Af3+/fX+OQDCAT0DQwTvBHMF7QVGBmUGEAaDBfgEbATgA0gDvwIjAp4BUwH8ALoArwCiAHcAIQAgAB4A/P/Z/6n/wf/v/zIATwBrAKcAmwBfABUA4v+t/z3/1P5w/jX+Cv7V/d39F/7A/pP/hQCXAYkCXgPUAxEEGQTiA3cDxQIiAjEBHQBa/9L+YP73/Rj+j/7p/iP/Vv90/0P/6P6h/lb+AP6G/QH9h/ww/Cz8Y/zT/Gv9JP7p/sH/igAcAVgBUAFOATMB5wCDADsA9/+N/1T/cf/G/w4ARQCKALMAzwDOAK8AZwD4/6n/kv/C/97/u//B/+D/AAAYAEMAdABdACoAsP8g/3b+ov31/F38J/wV/Db8nvwW/b39df5n/3AAYAE2AqICzgLEAo0CPAK0AUgBogDN/+L+7f0+/bn8jvyv/CX9qf38/U7+jP6q/tf+Iv9z/6f/2P8CACMATQBjAK4AFwGeASgClQIVA2gDXwPsAmgC+AFqAcoAMQCl/w7/pf6M/qv+7P5S//j/ogARAUsBZwFVATkBIgELAdUAmgBxAEoAOgAzAFgAuAAkAZUB+AH/Aa0BMAGwACMAff+q/uP9c/1E/Sn9Av0J/Vz9RP43/7b/4v9BAPoAVAFOAUIBwwF2Aq0CWQLdAdgBFgJPAjwCIQJWAnYCRQKeAdQAJgCw/3L/Bf96/uf9xP0m/mP+f/7J/nD/JwCWAPgANwE/AUgBggGsAUsBogBaAIoAhAAAAIT/Xv9m/3r/bP80/97+n/6b/p3+g/41/gP+E/4+/l7+af6u/jz/xv8kAH4A2wAtAT8BIQH5AJkAOQD1/6b/SP/t/rv+0P4B/yr/av/J/0gArADwABgBQAGaAcwB3QHWAdEBqwFTAfIAwgDKAKoAigCHAHgAKwC9/27/Xv8e/87+kP5Q/i/+zf12/Tf9Lf1Z/ZL93f0J/jf+a/64/g//Of9o/6f/3v/l/7r/uv/m/xwAAADw/yAAXwB9AB0A4/+U/1D/BP+p/mL+vf1a/Q390/xU/BH8jfwy/bv95f2L/mn/KwC5ADYBCALTAn0DjQMwA/AC3wL+AsoCEwJYAb8AZgDY//j+Hv5z/TP9+PyQ/C38Nfxu/LP89Px2/Xb+UP/j/24AEQGxASQCQgJNAi4CHwIqAjECPAINAuMB3AEUAj0CXwJGAiwCQQI9AloCAAJlAcMARgDx/1//uv5M/lH+ff6c/qn+9f5u/+H/JQBkAL8A4wAaATkBUAFLAQABFQFbAaEB5wEpAooC0AL4As4CfwI3AsoBYwHDAP3/O/+f/kz+Mv4c/i7+uf5s/wAAGQAYAEkAlwDTAKAAZQBAAEoATAABALz/q//+/4AAFAFvAbABGgKDAvwCFgPFAk0C1gF+ARQBcwCt/x7/vv6S/oP+UP4q/jn+g/7a/t7+z/7j/t7+1f6+/u7+Of9U/0j/cf/n/ykAbgCvAEMBrgFxASEBDAEsAdoANQCy/3f/ff9R/8r+VP46/qb+Kf8n//3+Dv98/9z/rf8j/9b+v/60/nr+D/4b/lT+lP7d/sj+vP71/lf/+/9TAEcAEgARAGAAbwBAAAAACAA6AEgA1f/B/9H/y/8lAPn/IwDI/yn//f1U/Aj8Z/wD/rj+Bf46/Xj8xPwx/Vb9Of3X/UX/rQC0AasBhwG9ASgCTAL/AcYBaQFRARQBkgD//yn/0P61/pT+Q/4P/g3+0f19/Sz9aP0r/h7/5f9kAMkAYgEwAuICQQOFAxkEtATzBHgEygMxA98CkgLDARUBgwAuAOT/c//c/oH+uP4k/6r/3P8cAGcAxwAjAQwB+QACAW4B3AHeAbgBnAF+ATIBxgBoAIsA8AD7AI8AOwBCAGgAqQDdABsBbgHaATECdwJsAgYC7AHqAe8BtgFAAb4AHQB4/+n+Xf7s/bn9PP0b/cv8zvyn/RL+XP4x/tT+3v8AAUMBPgBeAdUBogKQA+IBxQFoAR0B/gGNAVsBQgHEAGsAEwCL//7+R/53/VL9w/04/lr+mv4W/4//cv/b/vf9Yv2l/fX9TP4y/jj+ov48/5r/j//V/9b/JwBkAL0AXgGJAeIB6wEhAiMCrQEPAfv/a//8/nb+E/6E/Tz9L/0q/Q39x/ye/KP87vx7/SX+4v5Z/6f/4/8BAHsAngBnAE8AQgB3AEgA2v+B/zr/LP8Y/wH/B/8b/xv/NP9Q/4n/y//t/+L/jP9P/0b/Yf8p/8b+qP7Z/lL/kP+K/4D/kf+l/8z/3f+6/8H/7f8cABgA//8TAHAA0AAfAVsBUgF3AaMBxgHAAUoB6gCkAIMASQC5/0P/+v78/kv/rP8AAEcAvQBvARwCiAJxAiIC+AHyAR8CIQLtAawBXAFVAXsBXgECAawAlgDBANgA3gDoANsAzwDJAPgAQwFJAUUBbQF9AXYBYgEnASYBCwG5AI0ABwCb/3r/cf+N/4D/sP/o/0cAdAAHAC8ALwBhAAcBzADJAKkAZACtAH4AEQDP/5v/jf+h/3X/V/9Y/xT///7H/o3+f/6K/t3+7f7i/uP+9/4x/1T/iP/I/+H/3v/d/9H/wv+J/yb/9f7H/qf+mP5p/o3+yP72/k7/Xv9y/4P/hP+p/4f/Wf8K/8b+rf53/nP+bf5e/kH+Nv5+/vn+Wv9k/3T/cf8+/yD/Gf8Q/xL/D/8a/1r/Zv99/7L/0f8EADcAZQB4AHUANADY/2//If8a/wL/0f5f/i7+a/7g/m3/i/+z//f/QgB2AFcAPAA6AIcAwQCYAE8AFgD+/8f/gf9R/1T/ff96/2T/ef/M/z4AdABYAEAAWACEAMkA0wB7AGgArQAbAXIBVgEXAQwBKAEuARoBygBiACcA6//g/8D/lP+z//H/OAA+AGEA1ABFAXMBeAGfAbwBywGrAcwBFgIGAgQC6QGxAYgBcQFtAVABIwHZALAAgwA1ADEAPABQAF4AWwCLAPgAUAFaAW4BUgEoARwB4QC4AIcASAAlAPv/2v/S/+L/FgBoAKsAyAD0ACoBQQEaAdAAiABXAC4Az/96/0H/Qv9+/4b/dP98/5f/5/8XAOr/2P/y/yEANgDl/4z/c/9j/0b/Df/T/t/+GP9V/3H/dv94/5X/yf/Q/8D/zP/x/woA9v+7/53/lP+I/2j/Iv/f/sb+v/6g/lP+B/4I/lD+lP6S/nz+nP7h/iX/Uv+M/+//VQCQAJgAdQBRACcA5/+O/yf/4/7S/tn+wv6C/lL+Uf5l/oj+mf6q/tH++/4v/0n/Tf9j/4b/mP+T/2//W/9v/4n/sP/X//j/FAAaABEAGAAeAB8ABQDH/4f/Yv9o/4D/if9t/1n/dv/C/wwALwBCAFwAfQCgAKIAbwAuABIANQBHAA8AwP+g/8D/8P8XADEASQBoAI0AuADLAMgAxgCnAHkATAAzADsASABqAJYAwgDrABEBSwF5AZ0BvQHAAbwBsAGaAW0BEQGqAFoAIgD6/+v/AgAxAHoAqgDRAB0BdgHUAekBwwG7Ab4BwAGnAXYBVAEnAfMAyQClAIYAaABSAEgAVwB5AKcAyQC3AKUAswDUAPoA8wDpAPYA9QD7APQA5QDaAMIAugCuAI0AYAAyACQAFwAAAO7/6P/x/+r/4//Z/8z/uv+u/8r/4v/q//T/+v/3/9v/wf/E/9D/zP+y/7D/yP/h//j/AADu/9P/vP+f/33/Mv/f/rX+ov6g/pT+gv6Y/tL+Hf9k/7f/FQBlAJkAsACyAJMATADU/0X/wv5a/g7+tf1P/fj8z/zk/Bn9av3H/Tv+uv4K/zf/Yv+e/9z/EwAkAB0AHQAKAPL/xf+H/1z/Nf8O//H+4f7J/q7+gv5J/kb+cf6x/rr+qv7T/v7+Jv8o/y//af+V/7P/sv+g/47/e/+L/6r/4P8GAEEAmwC9AMsA0wD6ABgB7gC6AIIAQADr/6f/hP9r/2T/XP+K/9r/OAB5AHIAmwDXACEBVgExAR0B+ADAAIwAMAD6/+f/6P/h//X/TwCvABwBTwE4ASgBSgGlAfEB9AHGAckB1wGyAbcBqAGiAZMBGgHHAIgAnwDsANkAxwCeAJcAnwCnAA0BdQHyAQwC9QEeAioClAIhA1AD8gIiApoBMAH/AMoAVQAYAHb/2v7i/v3+Ev9T/3L/h/8EAFIAiwDeALsA6wBjAWwBiQEhAYYAHwD6/4MAnABsAN7/iv9t//z+Uv9+/8X/GQAMABIAAAAIAPP/JgAUAAAA//8R/9H+w/7z/ob/Tf9O/+z+X/7U/kn/9v+oAE4AdgBPADAAcAAWABEAlf+n/xr/E/7F/SP9B/43/r39qv20/Mr93/6D/30AAgDy/2P/d/6cAAsFpga6A03+fvrZ+27/WgGvAMr92fs8/Hf8U/w4/Hv8hf6OAP7/Jf6k/Jv8sv5dAPsAbABz/rb9mv1X/n7+UP7r/sH+7//4/5j/8f8TAKAAwgEIAi4CBgI+AdYBywAqAI7/Hv/t/rj+6P2R/Vj+Sv1P/sf+hv6W/zYA/wDGATkBBwHdAF0BEQKZAQcB0P9D/7H/g/+f/t7+2/wG/xz/rwDtADP+WACP/uYJGgnCAwsD//tLBPoFVQX+BiMCHQRaBHAAzf/w/OYC+QQFA8QBuPne/GT+OwBYAqz/Z/8+/TD+Jv5e/4D/oP/CALr9d/4Y/Lz8tP5J/ib/Nf0p/fb8Gf+X/88AEwJoAKUB/wA+AdEDJgNsA+8EPwLzAUcBMgC/A6kCPAJ1AmD/VgA3ATwAMQLzApoA3gEZALX/pgKIAfEBRwEYAAwATgGoAJoBbAFu/5YBJf///ff+0P48AUsBd/7d/g//Gv8mAXQAdQAmAaP/sf5N/nL9hv6m/x//wf4W/ar8sf6w/g3/IP6L/k0Adf8T/0T+C/+B/0//4/5P/az8uvwP/fn+mP4D/qz8zvwY/rX9agF1AdsDyAI0AP8BEgNtCIsJpggWBNb/2f83AtkF7wS/BFgCdADi/wX9yf1j/mIBRgMrAF3+EPrK+mz8rv2GAc/+k/8O/VD5/fp2+1X/VAAIAKT+y/yQ/V39bP4w/4L/X//S/4cAtv7m/br9Pv82AUwBAwKS/1j+tv4b/xkAqgCaAU8AXAAmALYAsQCNACcCAwHeAdwBpQFXAkIBbQHCACwB3wGhACkALv7x/Wz/m/+L/6r9ZP9EAGcAtQDl/hj/Ev9TAu0BPAE7Ag8BhQLmACgAz/81/6EAzAAgAJ//UwBW/3n/FgEiAf4BiQGzAIEAAgAfA/8BTAAEAbv/xAUgBH8ASv7u+Jf/xASqBmQG5//g/Bn/dgABASQBOAAgAnEDMADo/Fj6ffqC/wICAwNiAAf7E/n6+e/83v45AFb/lv1l/Ib7Qvxq/RsAgQBv/53+MP5S//T+Of+T/q79tf/cAPL/kf7h/Tv/AgGbAbYB0gCDANsB+AJWA0oCvAAOATcBmAHAAKz///9p/0X/sf6G/sP9oP0i/TP+kgAmAGsAfv9a/+v+cf7E/1YA3P/X/7D/4/79/Tv9iP5u/k3/TADl/zX/Zv71/tz/6gDSAK8AdAC4AMAAiQBn/0H/KwHkABUCKQGO/xcA/P4VAH8AAwBeAc0BzgC4AAoAAgG5AeEAmAGXAC4CwAIsAt0B6gDWAe4B3wLDApIBwQAMAeUBawF1AHoA/gAVAQgBVACl/4f/fgArAUAB7wAMADb/uP45/rT+vf+Q/xIAA//U/YL+lv5g/zUAdQB9AFQAj/8c/73/AwC7AOQA9v+Z/xwAywBHAAAA9v/yABACBgFZAbgAz/9fAPIAOwGXAFoBzQAJARYBAADCAAcAsQB8ARIB8ADs/xr/s/5z/ykAQwCcANn/FP+Q/9b/+P8Y/wv/yf+u/4T/Hf6i/pr+jv5e//P+UACEAPP/kP+9/tD+0v9OAMsAof+W/qn+/f1F/wb/1f7z/hb/h/8G//L+Yv5f/xUAfAA0APz+3f6i/hb/h/8NAOb/Rv9O/47+Ff+H/y7/2P/8/1QA3wAvABb/of4k/3kAngDp/2T/NP70/Tr/6f9MAHgAZP95/5z/Ev+L//X++v7N/+7+MP+D/oz9Bf9b/zL/cv9aAIgAhv///lv/EAF1Ah0CiQDm/kv/HwAsADUAQQBaAKcAsQFpAJD/OgCPAYoCCAIQAlMBfQEmAl8CSQFfALkAugA5AdgA2P+S/mz+O//s/i7/M/8E/+P+RP+VAIkACQDC/1AAgwFwAfQAJgEnATIBzwDwADUB6QD4AGEAOgCG/0kA2QDWALkBNQCBAJoA6P8AARoBlAE+Ai0BhwBNAN//AAFlAUoBGgHH/+/+Df/o/+r/u//y/1UA7gBaACQAigC1APkAHQEdARYBbgFyARYBZgAUAEEAOgCZACsA8f/2ALkAAwB5/67/9ADpAMMAfQDh/xX/uv6P/0EAyADY/7b+8fyd+6P8AP8HAQwBeAEk/y/8EPz5/SkB5QExAQ7/M/79/jMAMADq/Uz+R//P/6X+Yvxi/QMAhgKcAZH+2fzJ/HL+4P6o/k/+u/03/av89vxk/cX+TP82/mn9g/3g/lX/Vv5I/cD93v4r//3/Xv+C/lP+0/0H/jX9G/1O/jf/g/8k/4j8P/qr+0L+0QBXAVwATv9G/5b/eP87/9L/3QGVAsABL//2/R//6gALAqIBigEhAWcAhwB6AOcAiQPtBCUEOwIxAA8ALQFtApAD+wOBA80CpgG/AS0CWwIYAzIEuwQEBJUD1wLrAoIDNgQvBdcEnQT7BAEGQgZaBAADqAPGBcQHjwh0B/MF5gQBBFYEagQNBUMGbQdgB+AExQLPAhEEBgVOBfoEZASHA3UCDwH8AKQBQgJ2AvQAEf9n/WX9pP1A/e/8YPzn+3H7p/r1+bX56fkZ+q75hfm6+DX4Ivha+JH4Mvhp+Ab4nPdq9xz3HPdO9+r3Xfjd9133dff099r4UfmR+e/5KPoQ+/r74vsL/Av8E/20/sD+gv5b/pb+Of+A/1v/iv8cAAkB5AEyAeP/0v/G/1sAugA2AMwAFQAM/+P9b/1J/7sAdwFKAF3+yv3z/Wj+V/7O/sn/W/8X/l78BftQ+9v80P05/d77LfsB+8D6Pvs0+yH8Uf1g/UX9dfyC/Lz8+vxD/jT/MgChAAkAGADh/ykA5gAdAlUD+wP5BGEG4wfqCA0K9AldCrQL5Q3VEEkT/xPyEiAS+BHTE0AV4xaoGDUYURf3FsIX+hhgGMkWKxYmFeUUwhVYFZQT6xCHDtINjwx/CuAIzgaFBcMDfAFf/6r8MPru9+L2H/bx9G7zMfE374XteexH7Mzrseph6Z7osOgG6YDpnOln6Q3p4OgI6unqq+sq7S7uC/C78ur0Dfak9bv0cPWE97r7uAANA5gD4QGtAKoBIAQ7B6UJ+Qs0DawNRA31C+wKBAupDF8PKBFxEXYPgQwTCi4IYwgeCcIJqghLBjYEbAJBAdH/Lf7V/Ov7ePsU+9D57ve09cP0GfT+8+Dz/vKH8mbx5PDG8DLxf/GF8ZHxh/Ga8dvxgfLZ8nXzjfST9er1+fW59Qn2R/fL+G76tPsR/NP7j/ux+7P8Ff7V/1UBNAImApABrwBvAIwBlwIoBLkEFARgA1gC/AHxAa8BTQGHAckB2wFyAaQAOwCv/57/9v+wANYAaQAhAD0A7ABuAZcCBQSvBJIEgAQyBdsFxwb4B+gJhwxhDQoOWg7WDVoOWA9DEo8VUBdLGGwY7hdqF7AX9xjhGmQb8xr2GjUa5Rh2F68VnBSDEwcSMhGfD2AN2wpsCKsGhwRQAl0AZv5V/OX5hPf69ILygfDx7hLuyOzp6hbp1ucD577m3eaq5rbmiuYp5nzmK+cw6I7pu+oV7Cnt5e0Y733wOvJC9AT24fez+fD6kvyd/n8AUQK0A8oEwQXcBlAI4gl8C3oMDg1oDYQNkw2HDfUNUQ47DpQNTQxRC40K8wlcCZMIiwfxBWQErAL1AMT/FP9j/ir9kPub+Uz4V/fA9kf2MvUt9GnzEfPH8ofyY/Ia8t/x0vE78mnyZ/LW8i7zHvTs9N31M/es9xH4RPgO+Vf6rvst/T/+z/75/uv+Nv8wADMBGwKbAtYCWAJDAp0CAAOPAycDTgMOA58ChgLxAS0C9gGmAf4BlAHmARICDgL8Ac4AcQBw/27/wADlAv4E1QQcBG8CzQHRAq0F/Al4DDYMogqHCeQJ5wvwDj4SXxPeEkwSJROVFA4VYxWZFcUWcRf+F8gYUBdMFNURoBHWEooSeBBkDXAKNwiiBj0GjQQlAXT9YfvQ+oX5YfeB9LvxHe/B7ZXtN+2t6wnpDuet5sLmwOZW57Hm5OWZ5fHljue16OfpbuuC7B3t5e1n7+Lxh/QG90j5bfpf+8z83v5bATID/ATbBn0I5QnsCiEMKQ0bDuYOMxB6ERUSORKmEbURcxEQERoRvxCkD7AO/g0BDekL3gmDCEkH4AWRBAYDrQGO/1f9X/vJ+Xr4nvey9j71TfQ78wXy/fAL8JTvX++S76DvDe937ibutu5A76zv9O9J8P/wkPEq8430F/WW9S327fYb+Iv5xfq/+/376vwr/jH/9f8wAJAAIAECAsUCwwPjA6wD2wMWBNcErwRyBJYE4AT0BNIEEQXiBI0ERATpBF8FVgTDAwcFMAc3CEIIjgfEBekEogYFC0EP7w53DIAKzQk3DKAPJhNXFI8RChCCEdgThhUIFaYTZBOrE7YUgxboFWMSZw+kDhIQpxCGDtILlAgKBkYFMQX8AzcAzftO+fz4Xvid9j30QvG37oHtRu2o7LDqOOgR5xnnb+dY57bmoeXE5DvlweZY6NHoK+lF6hTsye3m7j3w+/AE8oL0jfdw+if8rvzS/XL/KwGrAwMGAAg+CS8K0QsMDTMNQg3hDU0PKRHEEcgRSxEeEE8Pfg+KECUQ3w6nDZQM+AvQCrAJUgg1BlkEnQOOA5kCUgAm/mT86vpW+vT5NPmF95v1Z/TQ87bzcvMv81nyKvFc8AvwovAV8TXxXfE38SXxFfG/8f/yv/N+9BX19fWi9v/28ffN+IP5C/r++g78zPwr/Zf9iP7b/ir/OwBSAfoBRAJSAgIDRwOxAgcDrwP8A7UEeQURBVIE7AKxAksFLghxCjAKwgfTBW4FLQhbDmwSKxEADi8L9wuiD6ATDhfUFvsTVRI3FGAXShiuF20W9hUGF0wYJRnBF6oTqxAvER0TixOpEBEMGQn9Bu4FQgaPBFEA3fuQ+af5Mfm/9mPz2e/e7C3sqezx63/pteWX4/zj4OTx5MbjQeL/4HbhV+M15QXmWuWE5YTmOejE6rjsRe5C79zwS/OY9af3W/lw+yn+jgG6A08FqAbmB2gKhwxAD6kQyxDGEZMSohPXFEkVoxT0FLEUnhQQFQYUshL9D8AOyw4tDj8NMAsCCTcGMAQtA/YBgQBx/uX8Cvtv+UP4Fvao9FDzYvKK8h3yIPGy7zXuw+2g7g3vZu9K7zPuL+4K7zLwWvHK8Q7yyfIT80f0TvZk9zr4GfkG+iP7Sfzh/BL+/P59/48ATQHHAr4DDARjBHIEUgSDBD0GpQc2CBQIXAf3Bp0GGQfCB0YILAnSCtALGQuWCiAJawhjClMOuhE/EVwP7ww9DLIOVxKeFYEVexNBEg0TYhVYF0UXlhXNFOUUFxY3FyoWohPyEGsQZBFzEaMP7AuvCMsGhga7Bg4FZQEI/Tf6UfnY+GP34/S58UPvK+6I7Vfs9emA5xfmQuaO5m7mKeU547fi5+Ii5DrlO+Uj5T/lnOa+6HTqm+sA7KrsEe4E8Ovyg/V39yD5Gfox+/L8uv4oAQYESAYeCOAIaAmzCgoMRw3LDvkPnxD6EKURdxIyEoIRlRBNEGkQjxD8EFAQzg6iDNYKzQknCbMInwcgBl8EsgI0Acn/of4n/Z/7ZPpj+ff43/eE9pT1ffTB80HzyPKW8lLyB/Jc8o/yY/Ks8fnwcPEl8vnyB/SW9G/0F/Qg9DH1RfYD91D4Svm5+Sv6t/o6+2j8Xv05/r3/dwBMAXYCVgMXBA4EJAR4Bo8JfgudDOcLIwqhCfYLfBF8FSwV5xKZEJAQYhMyGJ4bQhtnGIsWVBixGnccMRw4GlUZLhkrGvoapRlTFpwTZxNGFJsTfRAADUUKhQgjCHIHnQTq/9X7d/qo+h36hvef8/Hv6O2I7bLtGO2S6tbnlea45vvmqOaR5fvklOVu5o/nuudT5yDniuhO6wHupO85723vKPB68Y70QPdD+Rv7L/wh/fH9hf6y/9wBhASDBzcJigi5B0QHCQgbCnEMwg2qDcsMNgyVDFgMHQyTC8kKigqhCtcK/wlGCEcGoQSTAyQDCQNhAg8Bc/8N/oH8O/uD+kz5zfgy+FT3Mvev9pP24/Uq9Yv04fMv9Lz0A/Yy9q31M/VZ9Hz0c/Vw9vb2uPeT92X3V/jl+Kr5t/nm+bz62vrg++b8gP2H/df97/5g/yMALgBuAJgB2AMLBuQGJQfaBYwFIQe4CkgOug4jDgYNig1tEMwTQxZnFagTTBOYFZcZEhx0G3cYrxZuFt8YaRv3GusYuRXLFGcVFhWlE2cQMA2FC8cL7QsQChIGhQEV/wP+dv1S/CH6avf29MXzo/Lg8F/umexr7NbsvOyH68jpZuhX6P/oCOqb6uPpk+l36gbsP+0a7sruZO+a8DPyHfRs9U72zfd0+Sn7svzI/Tr+Kf/2AMIC2AQHBnYGpgbQBrQHwgjqCc4KbQt2C0YLIwvKCpMKbQo2CgoK1QkjCdoHaQYXBR8EvwMoAzECfgCG/iL9c/wy/G/7+vkJ+Jj25fXO9Q72pPWM9B3zGPIX8mry5/LD8nfym/JX8o7y5fIg81TzlvOa9LT1IfZR9t72S/cl+FH5I/oq+wn8Tv2T/sD/yQCYAPgAyALdBZcIwgk8CmYJwQgMC3oPTBNsFDUTHRJKEjYU9ReRGs8atBlYGDIZDRv/G+wb3RqBGswarRo/GqQY4BUKFOYTexRWE8MPxQvPCIsHSwe0BlAEBgAJ/On5Lvk4+EX2m/Mt8WbvVu6P7cLrs+kz6Ajo6Ojs6PPnOeb75DPlheac6AXqIuqX6fzpeetW7Vvv2/CT8u/zY/Vb9+X4Tfrp+xP+UQCVAhcE5QTUBdQGzggZC4QMYw1PDQsNmQ2UDnQPzA9GDz0O5w27Db8NMA26C1sKEQlbCNwH+AZVBQgDAgGw/8n+TP5G/af74/kn+Eb32vYm9iH18fON8tzx6PFm8nryj/GV8MHv5O+78PHxIvOg8uXxHfJu8vrzP/XA9Zb2jPbr9mr4d/lt+oP73/sF/bf98P3P//8BDQRjBdAF1QXoBTgHeApODv0PVg+gDvAOmhAzE6YV5xZoFp4VgxaeGIwZ2hjIF8UXpBigGfoZXxiXFQoTrxJfFLwUehLPDkkLYglVCWwJjAiLBSQBc/7P/W/9fPxU+jb3+PSd8zHzVfO18QjvgO3E7O/sGe1n7MnryOro6aXqz+vs69brq+tL7ELtOO6W73nwB/F48WXyEfSv9f72wfhG+pb7rfxO/cb+jwAeAmIE9QVsBt0GEQf2B2sJkQpjC/QL5wvDC8QLiwt6C2YLIQv1Cq0KhwlHCDcH+AVdBdwE2gO1AvsAV/82/un85fsg+/750Pib9032HPXs82TzXvML84Py4PFV8eXwk/Dq8FjxX/HO8XPyCvOP887zYvRA9Sb2jvdf+Xr7XP2f/pb/cgB3AWIDxga/CoQNMw4FDhgOYw99Ek8WWhlMGooZFRkbGvcbUR3mHdwdjx2IHZsdrB1rHOMZBhhUFxkXOxZIFEwRQg6/CwMKowhBBhcDAwCw/QL8N/rY99z0BfLj777uEe6q7O3qTeku6KLnVefv5jTm1eXA5WfmT+eN59fnU+hP6Z/qnuua7KPt0u6X8NrylvR89R32EPfz+Cn7KP2W/ob/eACMAQcDVQT3BDcF+wWfB94IfwmRCfsIogjJCLoJWwrBCe0IVAjwB8AHTQctBvAE2AMtAxMDWALkAEb/xf0o/ZT8q/uC+hn51vc69zP3pvaq9YD01PPK88nzr/NA87zyYfKq8qLzJfRw9Hj0wvSl9Vr2Xfe9+Jr6avwY/in/Wf+J/3oAcgOXB6UKzAujCzMLsgs2DuIR/RSRFocWqBYtFwsYNxn/GX4aChvaGyIc5hvXGkcZYRhHGGMY0hdYFiYU6BFqED8PBg4wDLQJnAePBewDqgLwANb+wPy7+tX4Jfd39f7z0vLf8afwI++O7UDsjutk63nrg+vQ6hrqHeoz6t/qkesQ7JPs9ezO7QzvNvB+8f3yVvRP9WX2pff3+I36Rvwp/mv/9f96AI4BsgL7Az8F6gWnBt4GBgeXB9AHsAdwB4EHsAeDB9gGBwZ0BXUE5QOqA+sCDQLNANj/Jv9r/nX9Z/y8+xn7iPr2+Rz5+vfu9nP22vb59ln2HfZ49ej0OfVX9Z/1WPU69a/2SPir+Uj6zfkh+VH5Vfvz/nICHQQBBEkDQgOSBEAHlwpIDbMONg+2D5EQLxHVEf8SgxQaFkoX2xeCFzQW9RTHFGIV7xWbFXIUxRLxEKgPoQ5sDbsLVwlpBywG4QSmA9ABe/8z/TX7YvrS+XX4zfYR9YvzlfJC8iTyjvFr8FTv8+7/7mnv+u9P8LPwwPDR8HbxIPLy8vjzMPXW9vH3pfii+Uf6/fox/JP9Vv++AJ8BVgJmAloCqQKKA+EE7AVwBkQGrwUmBQEFeQXYBd0FagWjBP0DPQPAAlICWwGFAPD/TP/v/hL+6fxB/Bf7Q/oY+ob5FflH+Hr3Dvdx9gn2rfXG9cn1jPXN9Zb1F/W89Gb0b/VJ92z4W/lg+Vr47PfS+KD7QP/MAacCCgKAAb4B/gOeB20KbwwRDTsNNQ4mD+0P0hC7EfcSoRTtFTMWWRWYE3QSvhK2EzcUlRPsEQoQqg6YDY0MzgqYCJ4GcwXjBKIDpgEs/8b8XPuN+rj5dvjE9kj1pvST9B30F/Nz8TPwI/Dy8N/xLfLJ8SrxQvHh8YzyF/N08yr0a/XP9gH4tfjf+Dr5bfoq/Oj9Jv/4/5sAVgFPAjID/wNbBPUEHwYjB+0HEAjaB8kH3QczCHYIbAgcCN8HtgdVB8UGAQYNBUwE1gN2AyYDPQLgAMX/sv7o/XX9qvzY+yb7ZfoW+uf5EvlG+Ib3NffZ91T4nvgR+N/2WvYK91L5UvuQ+7r6Dfn/+Fv7bf6AASUCwgA1ANgAPgNnBucHMwjXB0QIUwpnDCUNKQwBCxMLuQwUD8oPgg5VDMAKYguwDOcMjws2CYsHZQcGCMEH3wXLAj8AoP/+/8j/Zf7W+9X5UPkQ+Zn4Hvfe9MnzOfRW9dj1+fRM8y/ykPJf87b0e/UP9Xf12/Un9ur20PYD93b4y/ll+0v8xPu9+1b8sf2a/8wARQFLAd0BoQJIAxIEGARvBBYFcAXyBcoFBgXVBO0EFgVuBQsFbwQCBK8DowNyA+wCQgLtAaUBYQHFAKT/VP9U/3f/a/8p/h/9hPyZ/Iv9Hf7u/ST9oPzk/Iz9Lf44/pL+yP9uALkBewJcAXABAQLRA94GPgcGB8IGJQa4B5kJqwoKC1wKXQp5C7AMPQ2LDNYLoQspDDoNFA0tDKEKTQm3CUQKywkwCPgFowRRBE8E1ANIAg0Adv4A/vX9XP18+3P5SfjG97b3T/fF9R/0/vLa8przXfNZ8kPxj/AY8VnyL/MA80by+PF28p3z1PTA9Tb2g/ZJ92n4TPnr+Y36WPuA/MP9Cf+z/+f/RADnAPgB9wKbA74DxgMABEYEiARFBMUDggNfA2oDagPbAtwBEwFrADYANAB9/5n+8/1H/cj8kPzM+x37r/oN+gb6n/no+LP4ovgE+Yr5ivkt+f74Mvn4+VP7If2Q/hT/Sf8l/37/1wDgAokFbAdZCKAIuAhJCSoKtwtoDQEPwxDOEdkRlhG8EI4QuhGtEsET5RPBEtkRzhDhD/wOyw3bDEkM1QvDCgcJ4gbZBG4DjAKEAfv/Mf6L/If7oPpt+Zb3xPVj9HLzXfPr8lPy0fHH8FPwJ/DV7+PvNPDQ8KHxLPKB8v/yWPPR83b0b/Xg9mX4s/mH+hb7Vvvr+zX9+f6YAIkBcAIyA8sDXATUBIAFEwbPBnMHxAfDBysHxwa8BrUGmwZCBq4FPwWkBPwDWgNCAmIBcgC//4X/5/48/j399fsk+1r6n/lm+QT5h/ig+F/48/eD94H2bvaq92v5/fqI+6363vlL+gz82f4HAcsB9QGkAgUEtgX8BlgH/Qe4CfULIQ4BDxAODA2UDTgPXhFbEn4RZhCZD9YPaBDxD3EOqwymC34LWQtqCl4I1gX1A8wCPQJeAa7/9P1S/CL78/mR+Db3RPU99MfzUvNP82HyN/GH8AjwBPBv8Jrwj/DX8EPxHPJP85Hze/MJ9G70AfY4+DT5YPqm+oz6qvt2/MP9G//4/1gBaAL6AjADGgM9AwwEQwVUBusGwQY5BuEF4wXzBfQF2QW5BbIFXQWpBAIERQOjAqwCUQLEAT8BEgDa/9T/Uf8S//n9K/3F/Gz8ufxi/Pz7g/vx+kL7Hvvy+hT7APsK/P38lf0I/m39Pv2f/ez+pQC4AfECXQPBA38ElAQiBbcFhAY7CIsJRgo0CnQJTQnFCcEKogvTC6ALCwvdCrIK9QkUCeoHYQclB/4GdAbgBIoDDgIyAe8A+P8M/939wvxg/ML7Bfv7+ZT4s/dH90f3U/fL9j32jPUO9Uv1SfWX9bT1jvXb9Sf2k/by9mT3tfcS+K34MfnS+V76yfqR+zn8wPxd/dD9Uf4O/6r/KgClANoAQQHYAWsCsQLwAhADWwPSA+oDKAQbBPwDWQRtBGcEIwRKAxoDAAMYA3YDBQODAtoB/gDPAKUAdAChAIMAVgAgALv/Wf8z/xD/N/+0/ywArQD/AOQAfwBCAGEAKwFNAkIDvAMWBBYE5QNLBFcEmgRqBecFCwe7B2EHEQc0BsgFEwaJBiIHNAejBq4FygQWBHoDFAO8AisCtwE1AZkAzf9n/hL9Avx5+4L7TPvT+sL5jvgJ+Lj3o/dC96f2W/Z89gj3Nff99kb2pvUW9vn25feW+Gr4Xvjf+GX5Xvr2+uT6MfuO+0P8LP2b/SL+fP4F/6f/AQBgAGYAmAAWAZEBOwKqArwClgJAAicCbAIbA9ADFAT9A3wD7ALuAvoCKgN6A14DhgOJAzID4QJHAsMBoAHfASgCJALTARMBfAAqAAkARwB0AE0AHgD5/+P/MQBqAFkAOwDr/wIArwCNATQCQAIoAjQC1gLLA1MEmQSPBLYEmwV/BtwGxAY2BhoG1gaRBwgI0wcMB6QGjQaVBm8GuAXKBCEE5gOzA0gDYQI2AUoAof81/+r+b/7F/Rb9L/xh+6z66fmf+XH5S/k/+d/4lfgp+MX3wffs92j4uvje+MD4dPh9+MT4Tvnu+Vf6nfrD+r/6qfqy+un6ifte/Nj89fy//Hz8sPxF/cv9Ov5V/kr+kf7A/s/+yf7J/hv/y/9jAGAAXgAgAC0AEAFaAbIB1QFwAQ4CdgKFAscCbQKYAlkD1AM3BBUEgwNkA7ADJwR9BGUEHwT3Aw8EIwQtBEsEawS/BBgF+QSFBBMEyQMUBLME3wT7BLwEVwRxBEQETQReBEwEoQSyBKkEQwR/AwwDvALbAgYD4QKRAvUBYwHNAFgA5P9g/wr/lP4z/rv9/Pxq/NT7Q/vz+qn6i/pu+iD6t/kk+af4ZPhs+KD4uPjQ+Nv49vgs+UD5Vvle+aD5Jfq8+lb7fPtw+3r7w/tm/P/8Zf2D/Zz92P0x/pv+mf58/mH+W/7B/gr/Uf9j/y//PP8j/zf/YP8f/yn/I/8y/7H/tv+R/2H/E/9O//b/dACeAM8AsADrALEBgQGBAWQBMwEAA2EEIwWDBfYDiANUBHwFdAe0Bw8H4wbsBvQHlAggCGwHHwcYCI0JRQp+CdEHuQa3BskHgwgUCAIHwAVrBW8FGwVmBBoDbgI0AhoC4gG8AKH/uv4k/vz9c/3l/Fr83ft3+/X6g/oO+vT55Pmr+YP5Ifko+Yv5tfni+cr5tfkd+pH6C/to+337wPtK/O/8gv3B/dv9Gf6g/kH/x/8iADsAbgC7AAgBaQGOAaEB0AHnARkCRwI6AjICEgLmAfMB8QHNAYMBCwG7AKQAsACDAAsAiP8E/wn/Qv8o/+X+Ov6y/bz93v3i/Zz9Cv2c/MX8IP1Y/W39DP3C/AL9Ov1l/aH9bv2H/TL+R/6s/ur+gf4r/4T/5f/YAMgAGwFVATcBmwGvARECaAKkAtICqgLnAvECLQNzA08DVwMgAzgDUwM+AxQDgwJyAloCTgJbAscBZwEcAQ0BSAEyAdQAPgDs/77/4P8HAM//wf9o/0X/Xf8i/xT/0P6w/uT+/v4c/+7+mf5z/p7+A/9n/4X/Wf80/zn/lP/e//v/2/+M/7z/6/9HAIkALQARANr/BAB1AIAAlABUAGYAgwCLAMsAiQCjAL4AzAAXAeIAsQBzAHcAXwBDAG4A+v86ADAAxf8aAG//Yv/U/5P/+//H/y7/FP/i/uf+KP8h/9T+0v6F/lH+iv5d/pP+tf6O/q7+dP5x/pz+tP7p/uL+6f70/gL/E/8Q/w7/Af8m/z//W/9k/xv/F/8s/1n/r/+1/7X/p/+A/4P/f/9p/1//Xf9P/zX/8P6c/o/+mv7F/ub+vf6q/o3+jv7S/uL+6v7t/u3+JP9L/1j/Vv9d/4H/4P9ZAHcAgwBwAHIA8QBFAasB5gHJAQQCOwKaAvUCAwMgAx0DRANwA4cDkgNdA1IDRQNMA0oDBgPhAq0CqgKsApACcgIHAtgBtgGZAZgBSwEuAfEAogByABsA7P+2/57/h/9I/wT/k/5l/lT+V/54/lj+Pf4N/vH95/3H/cD9ov3D/er99/0K/tD9yf3t/TD+ov7h/g//Bv8C/x3/M/9+/67/3f8jAFAAewCKAHsAbwCeANcAEwE6AewAqABuAEEAWgBBAB0A7/+w/4n/Xv8//+7+pv5z/i3+DP7A/W/9NP3t/Nr8xPyV/Fb8IvwY/Br8Nfw1/CP8K/wp/D/8VPxm/JD80Pwr/XX9rP3R/Qb+b/7i/mr/2v8kAG0ArAAEAVQBlQHfASgChgLRAvsCDQMCAx4DZQPBAwoEGgQNBOoD3wPzA/kD8QO+A3wDQQMMA+MCrwJxAiQC6QG7AYEBUQEAAbMAfgA/ABQA2v+D/y3/4/66/qL+mv59/lH+If7s/er98v0I/i7+Mf45/jT+Pf5o/pD+3/4q/3P/yv8CAEgAfQCmAO8AQAGbAd8BBAIUAioCYgKdAukCEwMRAxsDFwMmA0IDRANOA1ADNwMUA90CjAI4AgQC5gHQAa0BTAHUAFsA8v/T/7v/i/9e/wP/q/51/jf+DP7b/ab9kf2F/YH9fv1m/Uj9Of1G/W79k/2s/bX9u/3Y/fn9Gv44/j/+Zv6k/tz+If9B/1n/hv+o/9b/8f/r//b/CAAfAEQAPAAYAAMA5f/w/xAAEwAbAAcA6f/m/8j/pP+R/27/Y/9s/1P/O/8e//L+9P70/t/+0P6k/pH+lf6O/pT+jf5+/nX+fv6Q/pT+of6g/qf+yv7l/g//L/84/07/Xf+B/7f/4f8EABsAMABIAGIAiACnAMYA7wAWAUoBcwGNAaoBvwHgAQ0CLwI+AjkCMgItAioCIgIJAugByAG+AcEBuwGjAX4BUwElAQYB5wC8AJYAbQBJACYA9//C/4v/WP85/yj/G/8Z/xL/Bv/w/sL+nP6E/oT+oP6t/rT+p/6Q/p3+sf7O/vf+F/9D/3b/mf+4/87/z//n/wUAIQBJAEoAUgBiAGUAjQCoAL8A2QDlAA0BKAE9AUMBLwElARUBFgEbAR0BKAEmAS8BMQEsAS8BIQEeARABAQH6ANMAsQCFAFsAWABTAF4AUwA3AC0AIgAzADsANAAiAAIA8//g/9D/wP+p/57/lf+T/5L/i/+J/47/pP+//9z/5//f/9f/y//c/+z/9v/1/+H/3P/W/93/6f/s/wAAGQApAD8APAAsACUAHQAvAEIASQBFACIABgD5/wIAIwAsACQAAQDg/93/4f/0//b/4f/L/7//t/+5/7v/qP+0/7H/x//d/8r/1f/D/8//7f/9/wUA9//a/77/sf+x/7f/sP+k/4P/cf9p/3P/e/91/2P/Tv9F/0H/Qf8U//v+xv6x/rz+n/6c/mz+T/5W/ln+ef51/mL+Tv5I/kr+TP5W/j7+WP5l/nr+nf6W/rT+0f4G/zf/Zv9z/4H/pv/A//r/JwBPAFsAggCTAKIA3gDiAPgAHgEuAVMBigGZAa8BwwHXAfUB/wEfAgcCFwIWAg8CIALwAQYC2wHdAeYBwwHFAaEBnAF3AWUBPQEPAe4A2ACyALYAawB4AFYAQQBAAPH/QgA6/4gAVf94/5QAGP6WANr+Gv8wADz+VgCj/n3/y/+X/r0A+f4WAFMA2/7MAGD/DQBQAF7/VABH/xYA5f9d/2kAW//4/0kAhP9eALz//P8uAM3/RADA/w8AyP/s/+b/v/89ANf/PgD//+7/AgDW/yQA3v/q/8X/nv/K/77/+P/e/9X/+v/g/ysAMAA8ADwAMABjAD8AgQBIAEgAVAAtAJcAbwCoAKsAgQCnAI0AwgCyALwAwQCWAMsAuQC6AMQApAC4ALsAywDAAKgAlABNAFEAFQAAAPv/tP/A/37/eP+G/3P/kv+P/4f/jf+X/6H/jv+m/4r/dP+B/0b/PP8T/x7/J/8j/0j/Jv8g/0j/Wf+A/6r/pv+v/67/1//n//r/HAADABAADAAZACkAFQAiABQABAAUAB4ACgAEAAAA5//1/wwAKwAGAAgA7f/C/+n/2v/i/67/jf90/0j/Uf8x/w7/7P7j/uj+1P7q/uP+1f7s/uz+Ef8R/xj/KP8I/yL/Tf9R/3L/ef9n/2n/ff+X/6D/uv+1/87/1v/u/w4AEQBAAFgAcwB3AIgAhwCJALEAvADYAPAA9wAKARIBGwEiASUBKgEsAScBGgEkARUBFgEeAQwBIQEcARUBGwECAfYA9ADtAOMA2AC2AKkArgCVAJUAgQBbAFkATAA2ADQAFQAIAAYAAwAKAPb/7f/V/8v/wP+x/6L/h/93/2D/Q/8z/xH/Bf/0/s/+z/6u/r3+wf7J/tv+3P4D/w//Lv82/yz/PP8+/0f/T/80/zz/OP9I/1r/af+D/4T/tf/Q//3/JgBGAGUAdACHAIEAfwCTAJ0AqADAALcAwQDFAMwA1gDDAK4AqgCeAJkAnwCEAH4AiQCPAI4AmACIAIIAgQB6AHUATABCADEAFAASAAQA7P/m/+j/4//x//7/AAAUABsAKwAyACUANAAzAC4AJwAbAPn/1v/o/9v/7f8BAO//9f/f/+n/6f/y//z/4P/c/7v/vv+0/6j/x/+2/8r/1//N/9//v//N/87/x//c/87/1f/I/9//4v/z/xIAAgAUAAwACAAJAPb/8//r/9j/1//S/9P/y//b/+v/9/8NAB8AJQAgACoADwAMAAAA6//W/8D/u/+o/6L/mP+Y/5X/nf+0/7X/pv+g/5P/l/+r/7v/wv+y/7L/mv+R/5j/kv+Q/5D/mP+Z/6H/vf/O/97/8v/y/wAADAAoAEMAXgBtAHkAkQCOAJ8AlQCGAJkAngCtAMQAwAC4AMsA0ADlAPIA4ADjAN0A1gDaANgA2QDfANkA3ADYAL8AtAClAI4AfgBcADgAIwAPAAUABAAAAPP/4f/J/8r/vv+w/6v/lP+J/2v/c/9e/1H/Vv8u/z3/OP88/zv/L/8v/xj/IP8U/wz/A//o/uz+3f7c/uL+5/4B/w3/LP8x/0T/Uv9c/3D/c/98/3H/fP90/3L/e/99/5//tv/h//z/EgA4AEsAbwCEAIgAkQCFAH4AaQBtAHcAegCSAIoAlgCmAKYAvgDQANYA6ADmAOMA5wDNAMsAvgC6ALAAlwCUAHkAdgByAGsAcQBTADsAGgABAPH/yv+4/5H/f/9w/1X/Xf9D/0//Tf9B/03/Mv8t/yf/G/8n/yn/Nf8//zf/Rf9H/1D/VP9Y/2b/Z/+Q/5z/wv/x/wgAPgBPAG0AegB2AIUAawB3AHYAgACXAJIAtgC4ANYA5gDsAAkBAgEmASsBJwEiAfsA4gDOAMEAsgC1AKcAogCfAJgAqQCnAKwAmQB1AEcACADS/6D/f/9Y/0v/Pv85/1D/Vv9t/33/i/+Y/5f/jf90/2D/RP87/yb/HP8g/yL/Q/9T/3z/kf+p/8n/0v/y/+j/7//e/8r/3f/X//f/DAAaADMAQABaAG4AiQCeALQAtgC3AMAAsQCxAJkAigCMAI0AkgCIAIUAhwCdALkAxQDIALUAnQCPAHYAXQBJADcANQAqAB8ADgD9//v/7//u/+P/2P/O/7H/rP+T/4H/dv9U/1b/Q/81/y//E/8T/wH/+f76/u7+Av/+/gP/D/8I/x//I/8l/yX/G/8i/yD/MP88/0v/av+E/7H/1P/2/xAAHAAuAC8ANgA4ADEALwAnACoANgBIAGQAdgCHAJYAnACsAKsAowCiAJMAjwCDAHMAXQBAADQAJAAuADcAPABMAFAAWgBfAF8AUwBAACkACQD0/9L/t/+n/5r/qf+0/7j/wP+w/6T/oP+I/4v/gv91/4H/fP+T/6z/xv/s//7/GQApAD0AUQBYAGsAeQCMAJcAmwCcAJgAoACmAKwAtACxALEAsgCzALcAtACwAKcAmgCRAIgAhACAAH0AfACBAJIAmACbAJMAfQBuAF0ASwBBAC4AFgAQAAcACgAOAPv/8P/V/8P/tv+d/47/bP9U/0j/Qf9L/0j/RP9A/zr/R/9S/1//bP9s/3f/hf+U/6T/q/+z/7//2f/q//n/BQD5//r/6v/b/9n/yP/K/8X/z//g/+n/9//5/wQAFQAoADIAMgArACMAKwAxAEUASgBKAEoAQQBQAFIAWQBdAE8ASQA/ADYALwAkABsAGAAeACgALwAzAC4AIQAaAAsA/v/p/8f/rP+V/5b/nP+t/7//z//u/wQAJgAzAD4AQQA1ADIAEwD6/9//xv+4/6T/oP+Z/6H/qf+t/7n/v//M/8//1//V/9D/0P/I/9D/2f/g//L/AAASAB8AHQAcAA4ABgAFAPn/+//x/+r/9f/4/wsADwASABEABQAIAPz/9P/p/9P/x/+4/67/pP+b/5r/nf+q/7j/wv/R/+D/7/8IABgAJwAtACgAKAAiACIAIQAYABYACwAEAAcAAwACAAAA9P/y/+3/6//s/+z/8//1//7/BQALABUAFwAeACAAJgAsACsANgBCAFcAdwCSAKgAtgCzAKwAogCTAIgAeQBwAGIAVwBNAD4AOgAvACQAFQD//+//3P/W/9L/1f/h/+v/9//9//r/9P/y//r/CAAXACUALwA4AEMARABBADgALAAkACEAHQAWABEABAD+//j/8f/s/9//0P++/7L/rv+x/7//0P/p/wIAIAA5AEYATwBLAEkARAA5ACoAGQAJAP//+f/5//n//v8BAPr/9//s/97/3P/N/8H/sP+Z/4r/dv9t/2T/Y/9w/4H/nf+7/9X/6//4//z//P/0/+3/5v/f/+D/3v/i/+r/6f/s/+n/2//N/7n/oP+P/4H/eP91/3T/fP+H/5v/rf+6/8X/xv/N/9H/2v/m//P/BwAcADIARABNAFIAVABTAE4ASAA+ADMALQAkABIAAwDu/9n/yf+z/6X/nf+i/7P/y//o////EQAeACoAMgA3ADwAQABNAF0AcACCAIkAhwB5AGYATAA0ACMAFQAMAAkABgAKABcAIAAtADAAKQAfABAAAQDy/+f/4//m//L/AQARAB0AKAAyAD8ASQBPAFQAVABVAFAASAA8ACQADQDv/8z/t/+o/6r/uf/M/+j///8MABIACQD8/+r/3P/X/9b/3//q//j/DAAjADwATgBUAFAARwA9ADcAMwAyADQAOABBAEcARgBDAD0ANQA1ADUANAA1ADEALgAtACkAJgAjACIAHwAgABwAHAAfACEAJQAdABIAAgDt/9j/v/+n/5P/hv9+/3v/fv+I/53/uv/S/+D/5//k/97/2f/O/8f/xP/G/8n/zf/P/8z/zP/J/8r/zv/e//D/AAARABsAKQAzADkANgAoABYA/P/j/9D/vv+0/6z/q/+3/87/6P8AABMAHQAjACMAIgAbABQABQD4/+//4//e/9f/yv++/7r/wP/M/9f/4f/n/+b/5//j/9v/2v/X/97/9f8MACwASABXAF8AYgBdAE8ANwAUAPD/0f/A/7//yP/b//L/CwAqAD8ARgA9ACMABADp/9H/uv+o/5r/lP+Y/6X/t//L/97/6//5/wMAEAAfADEAQgBQAFsAWQBOADsAIgAGAO3/4f/m//f/EgAtAEoAXQBmAGAASgArAA4AAAD2//P/8P/v/+//8P/x/+3/6v/r//j/DAAjADoASwBZAGAAYgBfAFAAOwAeAAIA8P/o/+v/9f8BAAsAFgAXABMADQABAPP/2//G/7f/tv/A/9H/5////xUAJAAnAB4ADAD8/+v/2//P/8X/vv+5/73/yv/g//P/AAAJAAwADwALAAAA7f/Y/8b/uP+r/6H/nv+g/7H/0v/8/y8AXAB+AJQAnQCXAIQAZwA/ABoA+//l/+L/8P8NACgAQABNAFAATwBAACkADADs/9H/vf+y/63/sv/A/9D/5P/y//7/AwAHAA4AFAAXABkAFAANAAEA8//s/+H/2//V/9H/zv/J/8b/vf+y/6T/l/+K/4f/lP+q/8//8P8PACsAMQA0ACQADgD2/9T/v/+u/67/u//Q/+j///8SACIAMQA7AEsAWABfAGQAXgBXAEoAOQAmAAwA7//N/63/lP+O/5X/qf/F/9//BAAcADYARQBLAFQAUgBWAFMAUwBQAEgAPAAkAAoA5//C/6D/jf+P/57/vv/f/wYAJwA5AEQANAAdAPL/uv+N/2X/XP9d/23/hP+l/8//9/8eAEEAYAB2AIQAfgB4AGgAUwA+AB8ABwD0/+D/zv+1/6X/o/+p/7r/0//u/woALwA/AE4ATwBFAEUAMwAqABQABAD5/+z/7f/i/+f/5f/q//v/BwAiADoAUQBjAGwAcABnAFcANQASAPL/0v/G/7j/uf+//8//6f8AACAANQBMAFsAagB6AIYAjACNAIIAbgBfAEEALAAGANj/uf+U/5D/m/+u/9D/6v8GABsAKQApACAAFQD9//L/2//L/7j/nP+K/3D/a/9o/3v/lf+0/+f/CwA+AF0AcAB8AHAAXwA9ABMA5f+9/5v/hP93/27/ff+P/7T/3P/6/x8ANwBUAG0AggCMAIgAcgBHAB4A6P/I/6P/if+H/3z/nf+x/9T/+f8FACQAJwAzADoANgA7ADMAMQAuACkAHAAMAPP/1//J/7P/t/+9/87/8f8DACgAQgBQAFwATQBBADQAJwAhABEACAABAAEACwAPAB8AMABHAGgAeQCSAJcAkgCIAGcAUgAoAP//zv+P/2H/Of8m/yP/Kf89/2r/mf/T/w4ANQBqAIUAkACTAGYAOAD7/7f/i/9f/0j/Qv9K/1//jf+///b/MgBSAHgAhQCHAH4AWgAzAAYA5//K/7f/n/+X/5z/rf/U/+3/EwA1AFIAfwCOAJ8AlwBuAFIAEwDz/9H/qf+W/2j/Wv9U/2f/mP/V/x0AZQCaALcAvgChAIUAWwAoAAAAu/+E/1z/Lv83/zX/Sf93/5P/1P8CADoAcQCcALsAyADNALwApQB4ADQA8P+x/3z/bf9h/3L/l/+0/+b/CgAwAFcAbgB0AGcASQAjAPH/u/99/0//Nv8p/zj/RP9d/3f/nP+8//T/IABPAHwAewCKAG0AWgA6ABQAAADd/8r/nP+B/3L/dP+U/7b/4/8TAEoAdgCcALAAnQCRAFIAHAD3/7v/qf+C/4f/sP8hAIoA+QBQAUYBjwF0AY0BswFyAWIB6QBdAOb/XP/Z/m7+7v19/Wn9RP2L/fX9Qf7l/jr/v/9YANwAfwHDAdwBkwE+Ac4AcgAzAMb/dP/Y/mv+Kf4s/or+5f5E/33/qv/W/xkAWgCaAMcAtACsAIsAfwCUAHMAXgAeAO3/6//6/y4ASABfAD8AJwAJAAAAGAAIAOH/a//x/nP+Qf5D/mL+wv79/l7/x/8yAMoAUgG8AfwBJgItAkwCWgIjAuwBTQGmAB4AnP94/2b/SP8V//D+0/4n/6X/FQCaAJgAhQBKABcAIAAnABwAyf9u/wT/8P4H/zT/j//H/yQAcgDZAFcBvwEKAvMBvAFaARABwgBVAOL/Pv/I/mD+Qf5Z/pP+4v4R/2P/p/8xAKsABwFDAR4BAwGmAFsACQCz/2T/8v6f/lz+fv64/ib/f/+3/yAAQwCfAM4A0ADbAJoAWgAkABMAFwBbAHEAeACgAIQAsgDPAOIADQENAecApgBYAOf/sP9Q/+b+k/4Y/t79rv2w/df9Kv6X/gn/nv8eAMEAOAGRAaUBgAFMAdkAjAABAH3//P5X/vn9p/2n/eH9Pf6p/hn/jP8AAJYA9wBsAZsBkAGTASwB5wCKAPz/qv8//+v+6v75/jL/u/8lAKYASwG8AVACxALEApkCCgJJAZ4A5f9F/6b+Lf6w/V39Tv0r/Wn9nv3R/Uv+y/52/zgA3QA9Ab8B+wEWAloCEwL4AaUBJQHfAH8AfQB0AMIA8ABDAc4B6wFNAjQCDQLPAXgBJQHIAJIA8v+c/+3+ZP5D/u79+P3K/a39ef0y/Rj95/xL/aP9Gv64/vv+rP9uAFkBaAKeA6YEjwVtBrgGjgceCMIInwnKCQUK3glxCdUIEwgRB/EFtwQYA+8BtgCw/+X+wf3L/Lj7uvrz+Vf53fik+Hr4Pfg9+Er4p/hB+e75zfrR+838//0q/10AmwGuAqwDUgTKBNMEkwTeA/ICzAGUAEP/3P3K/Jv7Avty+iz6NfpV+pP6xfrZ+sf6//rr+kr7gPu6++37wvvL+5P7sfvF+/f7L/xp/Mz8KP2N/fX9jf4f/9X/oQB2AUsC7gKBA9QD1wPRA5IDlgOoA8oDIwTuA6QDIQOmAlcC/gHJAVsB4QBLAAUAHQClAHQBMwL9AikDewNXA60C5QE7AHj+jvyp+u/44Pe/9kT29/Yz+PL7xABRBs4MpRIxGNAdqCJFJ1krwSxvLGwpviNsHbgVbg0DBYH7P/K66eLhOdxo2AbWdNUp1mnY6dxw4vbo5O//9eT79QBMBQkJyAtGDZUNkgy1CtwI5wZdBewD1QJlAo8CmAMhBUkHsQn0C7MNvQ7qDgEONQwvCVIF/AD/++326/EB7XrpfueA5mnnP+nb6+zvyfN1+Af+1gKhB00L/QwiDgYOqwz1Cq4HyAPU/9X6Tva28vrv3u6X7hHvtfDF8mD1i/i4+/X+9gEbBE0FiwXTBF8DyQBV/br5APa88vbvDO4t7TPtG+6e7/vxyvRt+DL8j/+9AvUEuAaUB6UHOwdHBtAE1gKtAB7+Evz9+Vj4gvcp9/P37Phf+g/8Ff5RAGwCjAQ5BrwHjAjTCHUIEgh9B6MGvgUhBEMDJwKEAYkBgAEUAjoCawJkAqcCdwIQAh0BTP99/pv9gf43AKsCQwa6CZMO2BOjGqUhcig1Lh0yaTW9NtE3mjY5M5ct0yRQG00QrQUC+6rwpOYf3ZbVbs+jzHTLbsxYz+bSWthI3jnlZOyH8/H5Yv8FBBgH6wlKC8kLwwvRCvEJwAiBB4cGEgYHBrQGuweiCGwJxgm6CXIJ1wiYB9MF7wJX/4j7kfes8w/w2+wT6q/oDejq6BnrY+208An0j/fa+zYAZAQ9CNYKVwyDDR0NXwz8CjAImgUQApf+wfvJ+J/20PRg84PyXvKE8gTzvvM49C71yvU99qr2q/an9jf2lPXL9N7z8fID8oLxnfFr8urznfVz94v5//u+/pkBOwRsBhII1wg0CREJmwh+B7AFiAPEAGz+4vvR+VP43PY79qz1bvXf9Qv3v/ge+zT9Av/OANYBTQPrBJgGHwgACcIIBAjTBhIFawRcA/MCtgK0AVYBuQDlALcBtQKOA0MEyATWBBkFwwQ7BKYDhAJRAhgDlwShB84K5w4RFM0ZGSFlKH8vZzXtOds8Yj5+PkI88TcSMEkm/hoHD0UDI/dm667fNNVMzBPGVMKuwIjByMNYyK7OetaF31/oCvEz+ZoAVQf+DEwRCBQcFegUFRS0EtMQkw4VDMEJAQgAB6sGhgbtBSAF7QMRA5EC1wH1AKP+//tY+Uz3c/Z59S/1hPTl8+3zmvTM9mf5SvwJ/0UBVwNiBToHzgjQCe0JjgkCCIIFsgJw/6j8IvoJ+N320/Xm9E/0APTR81T0ivTy9D/1DfWj9YT1gfVa9dn0WvQ38/jxp/Cd7/ju6+6y7wTxzPLx9Hf3bfp//fUAzgMiBpYHYgguCQgJ+giUCIIHMAYxBOgBBADV/Tr81/pd+YP48Pco+K74yvnj+qH8A/40/8wAmAH9AtYDmQQ4BeYEsgS4A2cCFgGT/33+dP3z/KT8w/y2/Hr8cPws/GX9gP4xADMCvAPWBYYH6QjGCfYJ/Qi/B8wFyQPwAg0CJQLqAncEfgiEDhcW8B5nJ0cuHzSfOLw8PkGlQ+ZDJUDfN8MtGiINFtkJq/x77kfgbdINx5i/yro3uZy5w7vGwNDH+9Bn21Tl/u5c+KwAXQiBDswSJBVsFeQUsxMREvEPkA0ACwAJCgieB/oHPAgOCYcKPwzZDqUQrxFvEZsPPA3hCdEGWQPU/937x/fv9JDyCvLs8RPyWfJ68nXz5PTy9jL5o/tr/ZL+3/+gAI0BPQLoAX8BDQBe/tn8MvtM+h/6D/r7+fb5dvmy+fH59fnW+R75EPjb9pn1mvQ59JbzE/Mc8iHxsvDg8MHxcfJA8xX0y/R19ov4DPsB/qf/HAEOAnUCOgPLA8UDeQOnAkQBmQBw//P+Vv94/6MAvwG4AuwDygTzBcQGswdWCL8I3AjqBx8HUAW7AxACAwCd/a36xPeA9IDyb/Aj8HDwvvBV8njzVPai+ZP9tQGhBQYJTgsGDvUOnBCAEeEQcBAyDTIK1Qb3AvH/bf3T++36sfvX/EIB9AdzEPkb0CVTL7k2ejuPPwBCmENyQvw9jzXgKvEeQBK4Bij6je0W4WjVKszgxJrAhb54vnnA5cQ1zAXVI9/X6JrxR/lg/4UETAgVC8EMoA12DZsMDAvzCGkHNAY8BvAG2ge6CCIJJQoHDJQOYxFqE4EUBRR9EsgQzQ5PDJ4IIwSK/hj5I/RI8LXtqOvM6kjqP+r76gftlO9/8kD1gffN+YX7m/1DACYDwgWIB50HfgaJBHMCBAFj/+79O/yg+gf5WPeV9u31qvXB9E7zM/LU8Erwxu+679HviO9D7yjvA/Cw8X/0F/c/+XL6M/tE/Iv9Pf+8ADsCZQLZAb0AqP+A/yL/C//A/hP+S/1X/Rb+Mf9RARwDZwXiBmYH6gjiCTgLPwxODHQLgAntBkkEewKOAOj/ev4O/BL6Uffm9cr0UPRG9bX2IPgU+mr8nv74AW4EjwYiCG0IEQnmCfQJpwncCUwJdgrCCzYNAhACES8R4g8FDnUM1QykD8gTThlNHbkf6yDTIDEhyiOAJeUl6iRpH/kZPROAC/cFav8n+YXzaeyl5eDgYdw+2i/ZONik2UXbXd6M4lrnduyh8aL2i/ph/+YDTAiBCxsMxQs/CloILwdbB3oIwgnFCW0ISAcPBkIGgwelCMsJvQlKCcEIYwiFCP8IuwiOBmwDRP/2+u32CPPC7xnt5eq16SPq/eoD7ZfvlfG582z1gveW+rX94gC+A0UFzAV0Be0ExQS0BDcETAKi/2P8Q/kU9331wfR/9BL04PMb9Hr0mPV49tT2gPYb9ZrzHfJ68YfxF/Kk8vryJPN586n0Tvao+OH68/xM/r7/HwHsAmAFWwaeCDIJ/wgECf4GaQYjBcwDXwPhAmsCowIEAy4DkwSVBLEEeARgA7UDWwQkBUYF2gTrA2YDKwMMA34EvgXcBWkFYQSpA8gDSAMuAzQD9AGRAEP+qfta+cz3PfYq9b31mvZy+qv+RwPrCpcR+xg7IO0lBC1/M543OjqkOXA1AjANKHcflxghEBQIfP8D9YPsL+Ri3V/Z6NbZ1sPXFdkr287eaeMw6ajv//TN+Sr9wP+zAXQC7gKjAqcB2/+d/tH9Q/0c/eH7dvvK+tz6Fv3+/5gEsAnBDpET+Re7G/IfAyS8JrwoTigjJowh0RoRE+MKxQIb+nnxKeiN30vYmtIIz1fNK86r0LnUqtpS4kTrqfNI+9oCswlmEEUWmxraHCYcjBlGFXcQZAuSBsoBSPwg98fxee2V6U/nTeeB5xHpgukO6ujqCOux7OrutvFW9F/2jfeV+HL58flN+4P8pv0k/0UALAGKAhcDvwP8A/wCbAJWAXYAzf8V/4/+I/7F/WL9if1I/sD/VgFSApoCsQLmAnwDWgQMBTQFSwQSAoT/C/1S+5369PkG+sj5uPmt+sn7Hv7tAOoDJwfwCJcKTwzSDdQPYxA1ERYR/g/3DigMCgpwB1EFXAM+AREAe/+mALcAxwIMBW0I5w6wE2wbGiFzJfwpSCtSLrgvPzDGLggqLyOrGpoRBgcH/p30LO2r5n3fHtu81l3UAdTH1EbYB91f4nvoW+6n86D4i/wZ/xoBEAJDAr4CPgLqAeoAQP8m/pb9Of7P/3wCHgTQBWAH/giGDJgPmhMmF9gYcBnoFy0VpRH6DWEJhgQX/x/5RfQQ73nryuhg5ufkt+PA4wDl3ec46x3v+PLm9hH7Qv4yAe4DOAZXB2oHcgYDBYIDsAFQADP//f2I/CP6D/d79H7yPvED8UXx8vHT8grzo/Mm9Gn0EfUz9Zb1UvaH9xP5t/rO++38df6a/y0BZQKzAz8FlwUGBeEDCQKOAEf/jv6V/t79hPxf+m74Rvda97D4hvrF/FT+SP/s/3cANgH5AVsCrAJWAhEBHADO/hj+hP3l/E39CP2e/Y3+8v/zAcEDlwbrCIALVg1nD8MQVxAHDy4LvgeHAzwA2f3j+u34+/Uq89fxLfOM+C0CUw2XGhAnFjEsO5xC+EozUnlWx1fEUg5JSjvXKzIbZgvZ+znsm95f0HLFNr0AuPu32LnrvvrFhM5O2EjiBuwM9RT9YAKyBS4HVAcVBwQGLwQ5AoH/e/yI+qn5iPtl/6QDTggBDHsPOhMdFmYZohs+HMQakxaDEXMLpAWn/x/6dPSu7jjqQ+ao5Hnk+uXW6LDrIe8P81b3bPtJ/2QC5ASZBv8Glga6BW8ESAOYAXr//v1z/Mf7R/y2/cz/9ADdAAMARf5m/Ab71fn2+DP36vSQ8svvve1D7AHsqOxx7Uvui++V8dfzGPdJ+sH9EQHZAnkEbQXGBbUFzQT+AlUBP/80/Yn8xPua+537LPue+5D8E/2u/jsAWgEFA4YDXgTjBGUEywPCAiwBBv/c/Ib6Cfks+FL3XPeW9zf4y/ls++D9YAAbAncDeQTABcgG7AfOCOkJ6Ar+Ci4LXApQCbAH1wRaAj//z/xw+yP6XPqE+or71/3ZABsGFg2NFvwg5iu0NUE9/kIGReRFnkR9QR09MzVgKxwf5BF1BEr3Pusx4C7XKs+wyVHGRcV3x3TL9NEz2fjg8ejK7y72Dfte/owADgGcAHn/+/1D/Qv9jfwU/Cj8Dfwu/VD/egL7B6oMKBH8FC0XFxl6GdUYQBe7FP8P5QmOAzH8dfbB8BXsm+no5kLmIucj6X/sNPBh83j2sfkc/Eb/IAFXAi0D9QGXAKr+y/xr+4n6Jvru+YD5KPlv+cL53PpK/NX98/4S/+z+/P1U/Fb6rfft9ITya/A9737uPO6r7nnv2fDO8kv1Wvi/+8j+CAEmAtICdAJtAWkAzP6L/W37G/k+92/1cPQe9Hn0XvW992r6uv2TAQYFbwmtDDUPeBFTEpYSBRFJDvoK+AZiA2//Xfzc+YL3xfWk8wTzyfLO82H1hfd++2H+ZQI6BQsIkgtZDUcPHBA0EBEPpg2YCl4H1QN1/qH74PiL+Pj7pgCeCN8SRR0MKfgzljx2RUdL5E8RU3lSmk9dSHo9qi/AH9kOsv5p78fhbNZIzOHEQr83vbm+58Jjyo/STNtb49/pZ++g88H28/gM+uP5QvlP+Jv34fe6+Dj6a/xQ/9QCWwemDBESuRcdHF4fCSFNIJcefRtPF0oSVQyDBTL+4vZq8PPrdeky6XTq0ezz79HzL/g//AEAnAJzAxYDQwGd/i/8NfnO9q30ofKg8fLw1vC48ePz8PYD+9n+EQI/BXQH+QhiCTEIogXMAWj88vb+8U/tH+o+50rln+ST5GbmdunG7fDy8fd3/AEApgJvBI4FqQWTBHcChf/E+8H3p/P+7zbt1+rX6fHpO+vM7erw1fRp+fj9bQLGBnMKmw3fD9YQHhFjEIwObQxVCdgGGQWhA54CNgGAADn/xv4a/tD9wP66/g8AiQBkAeUCBwRsBUYGAAd1Bs4FiQMsAcr+K/xz+8z6WfwN/44DAQsDFSUjtTICQThNelTtVnpXK1R2UWpNCUXWO1ksJBr+B5T0HOUS2iXRjszTyZTH5MlHzPbQ1djN3lLlWeq77BfvLvBz8OfwgO8n7QTrJOnH6aLtI/Ra/AgFxQw+E50Zzx8tJiMs0i+JMI8tSyavHAUS/wXx+u3v1OXs3WDXJdQW1FTXdt1s5r3wcfu0BSEOKhUUGlQclxsrGHsRCQpmAtL6FvWX7z7rPuhB5rzm/On67kH2Iv43BYcLwg8FEkoSxxAzDTAITgGV+W/yUuvc5Tfi6N9R3+/fYeHO5M/pDPAf9wj9sAEXBcoGZAfOB5UHPQcwBs0DVwEu/hX7ivjM9tD1nPUS9l72C/eF93H4gPkv+qH6yvq0+hf6MfoQ+mH6EPyG/f7/3wKABfQI3goJDI0MoAsyCgsIfgXZAdH+o/ra9jz0tvFc8kvzhfXl+En8DACLA9cGlgknDSoP0xD8EesQuxALDxgOtg+AEtoYdx+MJtYs+DG6NkU6hj5BQHdBMD+7OacyuiffHNcPjwM0+NntL+Yp4CDdGtsv24XbhNwk3v/eD+Gl4kPl8eet6TrrYevc6r7pJel76S/rTO4h8lD3BP2YA9UKZhHZF+Qc9R+rIS0hJh9tG2sV3Q1hBcL8M/XZ7q7pROYX5Mjj7uVB6nDw+fcc/zEFMQoADfkOfg+hDj4NIAq2BgoDk/59+tb2PfQ485Tz6fS+9mL4FPoS/Ib9Xv9OAP3/Wf4v+y/4I/X68l7xffD074Xvn++T77HwNPLa8731I/ek+Pn5wPqV+5T8b/09/gD/pP8MAPj/gP8h/5P+3/2h/QL9lvzE/OP8Yv3K/Ij7g/n09uv0jvOd83L0zPZG+SL8/v86BMwI4wwdEF0SZhOcEnoRNQ8wDMoIpQSHAOr8W/mU9hL14vO/9OL1Z/h1+6j+ZwKNBdMIwwoLDd4Npw1ADGoJDgfYBW4GbQmFDz8XQyF1KgIzUDoAP8JB5EFZQKQ8vTfmMEYpzR+7FCEJIP338qXqJ+Zf5ObkxebW6ATrD+yG7LPr8unF5ynlbOIB4APej9yE2xTb99vw3XzhHefH7tv31wG0C6EUohvEH3shayCSHY0ZPRSQDuYHHwEi+431t/Eg78btbe568E70R/mD/jMDWQYbB7YFYgKC/cf4U/TT8DvuUOxt6yXrAOyz7bzw//Qw+h8AVAW3CUMMogwxCxYIuwNp/v34ivM/72vsPOsF7NLtSfDE8uX0oPZN+Hf5Bfri+Qf5vvek9e7y/+9M7S7rWurk6r7sWO908u31aPnN/Mv/OgK7AxgFWAXMBM8DKwK9AAT/1f3v/Gv8YPwX/Y7+PADWAm8FIghOCqgLQgw3CxEKWAisBksFQgOxAdn/nP7I/X39q/0u/kz/7f9rAZsCswOUBL8EnQTVA0oCNgD5/o39qP3d/mMBAgdkDqQYzCTsMNc8ikYtTRlRF1H+TWNHuj7uNPQpWR98FLYKpwEB+hr0TPAG77XvuPFu8yb1UvU59DTxsewh5zPg/dmi0wPP8MwizY/Q3NVj3NDjSuvk8lz6hAEoCNcNOBLFFEIWpxWvE7gQ+gzzCQwHlgX3BM0Fjwf+CLUKRQsoC4AJuwZFAyv/cfvs94z1mfOq8m7yjfJ686Tz3fPe8yD03vTX9df3p/lM+9z7afsl+tr3pfWl8x7ztPNk9b33U/pw/Y//cwFKAq4BDAAZ/Tv6cvdN9cLzePJ58Qrwb+7g7M7rgusw7APuqPDn83D3JPuZ/hAB4gHxAMX+2Ps0+Sf3dfaQ94/5pPye/8wBQAPFA/YDjwP2AvUBqQDZ//v+rP6O/jT+RP7N/a39sP3e/bz+if9wAR4DyQRlBa4EvAPBAXUA+/4+/oD9If0w/eX8wf3b/db+Xv9kAK4BQgKWA+MDpAXqBi0KuA58E/4aYyETKgkyBTnIPl1AsECHPL428S7cJc4dThUzDw8K9gaEBUkFUAaqB4YJ6gnmCSgIxgTo/yn58/Fa6WDh+9mp0+fPeM29zfjPEtRS2tDgM+jO7jj0iPj8+m78Nfy8+/36Xvqj+j37Yf1KAHoESQnXDccSlhaEGU0b0BsbGxAZjhZOE0QQPw2XCqEISAfaBgcGvAVmBZUEMAPKALf9bfkp9ezwSO2L6kno+eZA5tfmxOgl6/3tNvG285L1CPet9wP4FPgN+DT4NPg1+Dn4k/jQ+WD7TP0C/1sApQGIApEDlwOFAnQAhP0T++74rvev9hP2A/av9cH1t/XS9d71N/bW9if3WfcY91P3sPei+Kv5NPrr+j37Cfwk/fT+ngFRBBwHiglcC2MMfAwFDGYLWwodCSgH6QS3AnkAL/8J/mj9F/32/E79V/12/T39Fv0C/cr83Pzy/Ff9of3S/VX+//7Y/+8ATwKuA5gEJgW7BYsGkQjbC+oPlBQQGWgduiDVIrEjeyItIJ4ccRhhFGQQ0Q2HDJkM/g3TD8kRNROyEw0T4RB4DQQJyQPd/kL6O/Yl87Twoe9j763vg/AV8ZvxuvGG8fDwiO/A7WzrV+kU6LDnXujl6VLsDO8L8hP18vfs+rb9dwCtAoEEBAblBqMHHgi4CD8JvwmPCiQLowu/C5ELTQvYCnMK4AniCEkHRgWuAs//+Pwu+gD4EPaz9LrzvvIp8uDxbvKY8zL1BfdK+Cz5mfm0+dj5Fvpf+qn63vr++h77bfsw/Df9l/74/+oAZAHqAPH/xf5Y/fH7T/q7+Ff3BPYs9Zn0LvSk89byL/KV8WPxmvEs8lDzuPTQ9in53fvW/m4BLAQ/BvAHDQlqCdUJlQm+CQgKGAomCkMJYwhDB9sFwwSIA4oCfgE5ABT/8v1B/Y78kPv/+r362Pok+6L7dfw5/fn9d/7P/jL/1f/AALsBCANFBFwFEgakBi8HOgdbBxcHuQZrBuMFkgUhBfQEKwWXBTsG+QaMB/0HiggOCW4JWwkcCb8IRQjLBw4HZAbnBQoGzQZJCJkK6QwGD1gQCRERETwQDw+dDRkMZQplCBAG8wM4AtEA2v/6/mH+5f2p/ZX9e/2f/Xr9G/2O/Pf7Rvta+ob5yvh0+HT46PiX+WD6Bftd+637BfzZ/KL9Sv6c/h/+Pv0t/Ev7Xvpk+WP4N/eC9iH2C/YA9rL1mPWB9bX1EfZ49h33svdf+J/5Uvtz/Xv/tgApAqsCCwPjAxEFegedCI0JSAngB+4GwwQwA8YAs/1n+i72vfOP8vLyD/Sx9Pv09vPO8tjxofFA8vfyZfNo8+TzP/WT96P6yv0JAF8B1gHxASsCcgJCA/wDrAQcBS4FSgUVBQEFtQT5A6cCuQDh/kX9DvwK+1/6yfl4+XT5zPm8+oj7T/ya/Lr8A/1X/U/+tf86AZoChwMaBKAEMwUlBkQHFQiVCCoICwfPBcEEQATvAwIEJQTwA4EDFwM2A8kDhgT6BGIFAAYcB7sIpAq6DFsOZQ/zDyMQBRDDD38POA8BDxgPgw9AEGIR5RJ9FHcVmBWMFOYSxRBFDuELXglABwEFnwJuABz+EfwR+ib4tPY89fTznfIY8eXvlu657TftKO3Q7bju0u/v8FDyD/Qd9iX46fne+ur6ufpV+hj6LfqY+n77UPwR/cf9Uf5J/0oAQAE1AqECvQJFAuQB1QGpAc8BCAJrArAC8AILA+gC2gLuAnID4QOtBOsEgQSkAyYC7wBu/2D+Xv05/Ev7I/o/+a34Qvi697n2fPVH9PXyPvLh8dvxDfJ88sXzjPWk93P55foq/EH9OP48/1cAYAEIAiQC1wGOAaEBywEUAlcCjQJDAjgBJADu/sv9mfxY+7H6hPrl+k77kPvX+6n7B/ur+tX6Sfv7+6f8tv3L/iYABgKBAyMFCgYvBugFgwW5BScG5gbkB9sIlAmXCuMK7gogCrwIFgdKBZME7APhA7EDBAReAxIDygL1AmMEhQWpCOgKTQ4eERETIBVuFQQWfRVOFTIVrRRhFJITshIGEgUSmxJzExQU3hPREuoQ5Q7mDEELxgm4B0EFBQJ4/pv6Svdl9LDxPe/a7P7qLun75zbnf+Yz5v7l6OUz5gnnZeg16mTsku6N8GPyPfTV9WT3sfh3+Qn6bfp5+8/8q/5aAbwDMAZPCC0K2AvRDIANmQ1hDYUMPQvCCSQIxwaPBd4EiwQnBDUDCgKkABf/hP3r+536Svnd92v2+/S3827y7/CE7/7tiexI67Xq1uqI69XsAO5L74Tw/PGr85311vex+RP7LPzV/Z//xAHeA34FigaEBtMF3QT/A4kDWAMLAzcDvAK4AaUAnf/M/hj+F/4j/mv+q/4F/0T/vf/q/5r/ZP/O/sr+Ef76/VT+qv4TAHsBXQPuBJAGkAc2CLoIBQl5CVgJfQlcCZgJnAlgCd8IqweIBhIF+wNJA7oCUwLiAXsBbgG4AXAC/QJ2A5QD8AL7AecAZwBfAPoAxQGVAmcDqwO4A/wDtATsBUMHvggzCi0LJwwrDYMOLBBbEQoS6BEVEbYP7A2oDIcLpArcCf4IGQjWBmwFzgM+AqMANf/Q/VP87/qt+Yv4gve89ij2z/W69cr12PUD9hT2Hvb39ef1D/Zd9jD3CvjW+EH5WflL+Vf52vnP+h78af2A/jH/wf9FANoAOgE5AR8BuQAwALv/Gv+O/l/+Jv7r/ZD9Uv0A/XP8Ivz8+yX8QfxS/Az8nPsv+3f6u/nh+EX41ffI9xH4pfiR+VL6N/vU+zj8U/wT/AX8Bfxo/AX9tv1a/uD+M/9n//n/VgCFADIAg//u/mL+Lf7z/Rb+Sv5q/mL+9P2d/ST9ivz7+9r78/tT/M38Gv23/WL+FP+L/9b/FQAQADoA0gCqAXUCKgP0A6YEGQVRBVYFEwV/BLsDCAPFAsACyALFAugCQANhA0QDwQJDAssBcQF6AYQBggFjAQ8BjABXADMALAAYALH/Wv8L/zr/y//EAAsCLQPfA/MDtwNBA+ECwQI1A/MDsgRpBd8FPAZLBlMGhgbXBk0HbgckB7YGRgbFBT4F7QSkBBEE7QJbAZv/+P2//Pv7/PuL/HX9I/5O/kr+BP7D/Zn9qv3d/Rb+Zv7D/jz/rP/8/yYAcgDXAGoBCQKCAuUCEQNjA0QEZQWZBpUH3we3BwIH9QXhBN0D3wIBAocBOQH/AIMA5/9D/6/+FP53/e78/PvZ+qr55vie+JD4sfi3+FT4cfdn9m/11vTB9Fj1ava/9/L4wvlb+sj6C/sd+yv7NPtO+177wvuB/IP9wP7H/6gABQEbAfwA2wD2AC0BXwFVATUBzgBTAJD/wP4Q/mL97/yc/L78V/1H/kf/JADBABYBRwGKAQwCtgJvA9gDwgMqA1gChAHcAJsAvQD2AAIB7wC7AJ4AegBuAI0AswDAAHcACACR/y//uP4l/pf9Fv21/H78m/wX/d39gv4D/4H/4/81AF0AVgBcAGUAXABRAGYAsgD1ACIBVQGBAYEBXgFjAbkBbQJWA2IENwWUBWYFyAQJBD0DogJAAvYBfgHBAA4Ae/8S/8L+dP4E/mz95vyl/Lr8Av1l/bL90v3p/Qv+V/61/hn/bf+x/wgASgBzAJwABQG0AV8C2gJBA8MDSgTgBHUF9gUyBgsGugWLBb4FKAalBjEHuAcJCOkHXAefBu0FPQWjBBkEeAOYAmEBBgC//pP9gPyr+yj7z/qB+l36qPpT+xL8t/w//Zz9uP2g/YH9h/2O/V79Cf24/HD8Cfx7+/L6o/qi+ub6afsQ/K/8IP1S/U/9LP32/LL8f/x6/Jv8x/zo/Pv8Df0n/Vj9rP0d/q3+W/8PAKoAFwFTAW4BigGqAagBVAG1ABQAt/+n/9v/VQABAZwB1wGyAYsBnAG+Ac8B0gG5AVUBkQCm/+L+Uf7Q/Vn98/yi/HX8g/zV/Fv95/1R/p3+0/4D/0X/oP8TAKIAKQF+AaYBvQHHAa4BcwE/AR8B8AC0AJEAgQBmAEUANwA6ADQAJQAuAFkAhACOAGkACABu/73+KP7i/QD+aP7v/k//Qf+3/ur9Lf3D/L/8BP1i/ar9y/3t/TD+fv6s/qL+bf4n/uz94f0d/pv+TP8YANkAYAGtAd0BCQImAhgC1QGCAW8B4wHFAqcDKQQ4BPcDpQNvA10DbQOaA+UDPQR8BJcEpQSzBLMEowSIBEUEqgO9AsUBIAHoAAcBcQEcAusCsQNIBK0E+gQ2BU0FPAUZBfAEswRdBAcEvwNkA9cCDwIuAWEAsf8M/2j+xP0d/XX84/t8+zP75vp9+hH61PnZ+SX6s/pT+837Evwp/Cj8LvxP/ID8q/zB/N/8G/1U/XH9mf3//ZT+Iv+b/xIAbQCAAF8ATQBpAKUA+QBjAcwB8wHCAXEBIwHDAEoA0f9i//T+e/4Q/t/97f0i/nD+1v5Q/93/aADcAEsBxQE6ApYC1wL6AtsCWQKrASkB7QDgAPoASgHKASkCJgLjAZYBOwHAACkAkv8L/4b+C/7G/bb9sf27/fr9df71/kL/VP9G/yn/Dv8U/0L/ef+c/5f/cf89///+q/4//tP9j/17/Yj93P2d/o7/VADPABEBIwH0AHkA0/8g/2v+2v2N/Wz9U/04/RH92vya/FL8GfwW/F/85fxs/cr9Kf61/k//zv8ZACUA8P+Y/3H/sP87AOcAogFrAiQDrgMJBD8EWgRtBHkEgwSWBLYE8ARGBacFHwaoBjIHugcmCGAIaghHCPYHWAdTBhQF2QPOAgwCjAE6AeUAWgCo/+/+RP7W/bz9+v2H/iL/nf/t/xQAMQA9ABAApP8H/1L+qv04/RD9I/1g/c79fP5Z/ygAvAAZAV0BrgEkAp4C2wKnAvMB0QBr/yD+R/3r/Oz8Dv0q/Tb9I/0Z/VH9vv0//qf+xf7J/uP+MP+//zIASQAhAMP/Xv8x/yn/af8OAPgAEwIZA64D1wOxA1QD8QKKAiUCxwFNAZQAoP+R/o79rfwb/BD8fPwR/ZH96/0Z/hb+7v2w/Wv9LP0M/SX9UP1I/Qf9rvxk/Fn8jvzz/G396v1+/hH/h//6/28AxgDYAHAAo/+r/rr9Gv3r/An9WP25/fD9y/1F/Y384vt3+1v7X/tN+w/7tvqG+qH67fpa+8v7K/x5/J78ofy2/Ab9rf2J/lr/7/8tADUAOwA8ACAA6f+u/6f/8P9zABQBuwFzAkYDFwTNBF4FxwUCBvgFtQVcBfUEkARbBFQEPgTVAwsDFwI7AaUAcQCtADoB1QFcAscCEQNGA24DkQOtA5kDQgPJAlcC/gGwAV4BGQHtAOIABQFGAY4B5AFjAgMDkAPTA9oD1wPbA98D2QOzA1QDvgIbApgBRgEeARUBFgEFAeQA1ADjAA4BTwGUAcUBxgGPAUEB9wDIAMkA2QDCAHsANgA2AIwAFgGrAS4CgAKmAssC+wItA1MDYgNjA1MDFgOdAuEB/QA1AKn/QP/d/nz+J/7j/af9ev1h/VX9W/10/Yr9hf1n/VD9UP1R/Tn9Bv3M/Kj8u/wG/VT9Z/0j/Z38EPy0+6n78/tv/PH8Y/3D/RP+Zf6z/vT+G/8X/+T+gv71/VH9sPwp/M77ivs2+7f6B/pJ+cP4p/j++Kv5hPpZ+/z7WPx4/Ib8pfzY/BD9LP0N/cP8dvxY/JP8Fv2S/b39p/24/Sr+3P6Y/0cA5gBrAeQBeAIlA6wD5gPGA0oDeQJ9AasAOwAxAHQAvwDOAKUAhgCqAPkAOQFjAYsBsAHJAd8BAQInAjsCNwIIApIB2wAcAKz/t/8rAOIAsgFyAgkDaAOTA60DzwMFBD4ETgQPBIgD9gKeAowClAKGAk0CAQLOAc8B8wEiAl4CzgKEA1YE/wRQBUUF7ARiBMgDNgPDAoQCdwKCAokCggJrAksCMAIsAjwCTwJlApkC9QJUA44DpQOsA6QDeQMaA4UCygEPAYEAKwD+/+X/5P/7/wcA2f9r//D+r/7T/kz/2f8sACQA2/+G/1L/Sv9T/zz/8v6X/lX+Jf7y/dD94v0c/ln+kP7T/h7/Sv9H/x7/3v6h/oz+qf7R/t3+0v68/o/+S/4L/t/9vv2p/aX9mf1m/TL9Q/2l/R7+c/6J/kj+vv0u/dj8yfzo/Cv9gf2z/Y/9H/2e/FH8ZPzJ/Db9bP13/Zj9+f2W/lD/8f88ACAAzP+C/1r/Sf81/wD/ov43/uv9yv3N/er9B/76/cH9lv29/Ub+Ff/7/7cAEwEIAbcAOwCd/+b+M/6j/Uz9Of1G/U79Zv3P/Zj+gf8+ALYA8gAVAVEBygFgAswC8gLaAngCwgHiACYAu/+Y/6f/1P8MAF8A7gCxAVgCoAKZAokCnQLUAgoDHAP7ArYCZAIVAtUBvwHlAScCQgL+AWsB2QCmAPsAsgF1Av0CLwMKA5YC6QE2AbQAcwBZAEMAGQDi/7z/1P8sAIwAsgCUAGYAWwB7AMAAJAGeAQsCOgIVAqoBEgFsANH/UP/v/rr+wP77/kz/mf/U//T/8v/V/7b/q//G/xkArABTAb0BqgEnAXgA3f97/1D/O/8N/7/+jf68/ln/JgDOABwBJQEwAWYBoAGcAUoB2wCKAHcAlwC4AKgAYQAKALr/W//i/nv+av64/if/bf90/1X/Ov9F/23/if+F/4D/lP+r/53/cf9O/0r/UP9D/xH/uv5X/gn+3/3P/df9DP59/gz/dv+U/3j/Wf9i/4n/mP9Y/9H+Tv4S/h3+Pv5X/nb+vv40/6j/4P/Z/8P/xv/g//r/AADq/9H/0f/t//7/5P+i/0z/8P6m/o/+vv4j/5T/5P/9//f/BQBSANMATgGQAZEBbAFVAWcBkgGdAWcBEwHOAJwAYgArACQAYgDIABoBLQENAfkAIQFpAYgBTQG9AAYAcP8//3T/0P8MABIA9f/D/3n/Gv+3/nv+gf7B/hL/UP9z/5H/wf8RAIYABwFeAWIBJAHfALcAnQB0AC4A2f+N/13/Rv9F/1//iP+c/4z/df98/6z/+P9GAHIAWwAEAKP/dP+G/7b/2P/V/7j/jP9Y/zD/P/+m/0IAvADNAIgARABEAIUA6ABBAWEBJAGjABoArv9Z/xr/Cf8k/zv/Iv/r/tj+Ff+K//v/VACzAC8BqgHkAb8BXwH7AJsAHQB5/9r+g/6U/gr/q/8dACYA2f+E/2f/f/+n/9P/FABwALcAuwCBAEQAKAAiAA0Axv9X//v++P5U/8v/GwAvAB4ADAASAD0AiADoAE0BpAHVAcQBewEgAdYAlwBQAP7/r/9s/zz/If8U/xT/L/91/9v/PgCPAM8A+AD/ANcAgwAfAOH/9f9kAA4BrAHxAbkBKwGOABMA0P/Q/wsAYgC0AP8AUwGxAfsBEgLgAWMBsQD7/23/HP8D/yL/b/+4/7z/av/u/o3+g/7h/nz/DABrAKkA5gArAWsBiwF5ATEBxwBSAOv/rf+p/9b/EAA3ACsA6P+I/z3/Lf9d/7D///8wAE8AgwDkAFkBngF4AekAJQBw/wD/7P4N/yH/EP/7/gf/Lv9j/6v/CABlAKEArwCLAEgADAD7/wYA+P+p/y//wP59/mb+a/6M/sj+EP9F/0r/J/8P/zr/sP81AHsAVADf/3f/eP/Z/zoATwAcANL/hf8g/7D+aP5t/rn+Gf9e/4P/oP/Y/zQAogD6ABIB4ACCACAA1P+Q/1H/Kv8k/x//Bf/3/if/j//l//v/5f/S/+j/LQCNAOcAHgE5AVMBagFeASgB6wDXAPkAIAEBAYwA8P94/0j/OP8n/yX/PP9Z/2f/cP+x/z4A5gBrAZQBQwGeAP3/p/+p/7v/ov9t/0P/SP+E/8n/9/8UADMAYgB+AGgAUwBpAKAA2ADkAMQAkwBfAE0AZABnADgA8v+5/6j/q/+1/+b/LABqAJgAogCTAIUAiAC9ACIBgAGqAXUB3QA0AL7/nP/B/+z/9//f/7b/v/8WAIMAzwDWALYAugDaAO8A1wBtANz/d/9J/1X/gv+i/9b/DgAYAAoA4v+h/5L/s//h/xEACQDv/xMAPQA5AA0Aqv9J/wL/mf5D/hn+8P0D/k7+jv7T/gP/H/9f/4j/iP+j/8n/9f9DAHwAlACaAHEAHwCy/xv/wf75/nT/8/9EAEUAJgAAANz/6P/9//r/+v/u/9b/uv+m/8b/FQBvAJwAfAA8AOb/jv9o/0//U/94/3n/d/+F/4T/oP+8/83/JACsAEkB6AEnAugBZwGuAN7/Lf+2/pX+uP7M/tT+BP8s/z//Qf8m/w3/K/9v//r/qgALASEB+QCcAHIAeABgAGUAXQA1ABUArf8//zf/VP+u/xsAOgBLACYA8v8gAFoAigC1ALEAlQAyAKL/RP8I/xb/Zv+j/9T///87AGcAbACVAOwANQFrAUMBBAHNAHIAKgDk/77/xP+w/8D/HABSAH8APQCh/zf/Dv8P/3j/FQCvAAsBtwBNABsALABMAG0AIwAfAAAAkP9M/+b+Ef+O/7H/gf+f/wgA6QBqAXoBMgETAeQApwCGAPP/tv9a/1j/Zv/F//L/BgALAIj/X/8p/9/+7f4u/5z/ZQBTADMAFwCj/5f/3P/L/8P/+/+8AY8EtgMGAbX+oP7aAM4Avf4N/Yn95P6H/3D/w/5W/5wAKgGPACn/G/+p/7j/Rf/M/scAjgJ/ATj/nv4AAG0A9/8K/yP/jQBNAVUA3P+/AOEAMQEfAT4Amv/k/3oAUQDGAMIAFwCfAA4A8P52/ln+W/9DAE0AYf6v/hIChwOUAigA8//jAcQC5wHp/6r/eAD0/8H+XP3A/Lz9GP97/2z/eP8c/xT/av/T/8UAFgGlAAwAof+S/xn/jf4//vb9vP3I/VL+2P4y/z7/9f7q/5QAKQAVAOf/1gCrAWcBewDU/5gAvgAqALn/KAAiAU4BOAFfAA8AKQCp/9v/Sf9LANoCQQNGAfX/zABJAHEAsgCO/y0AeAAuAIL/9P3n/gn/h/6k/o39Uf72/Uv95f6NBPEIHAX1ADUBQQTuAwD+7/p9/jYBq/9D/nz8xPv0/oYAuf4d/df9ef+T/i/+IgDVAVICnwGS/9n/TQCx/mD/1/4p/u7/OAFwAUUAK/5+/VMA3gIjAWn/iv+mALoCswKjAKz/4wENBO4Bm/7N/icAiwBTALD+oP6gAMoAHv8b/wEA/QDiAiMDpAHeADIBwAHeAYv/CP1z/dr92P06/hn+Kv13/Sv+BP8Q/77+HwC8AKsChgFx/24AGwXTBj4Acfyx/FABWQHO+5H6uvypAEIArfw+/Un/o/7Y/SICLAQX/27/pAQJCb0GmAGSBKAHgADc94T59P5m/N71Z/d//DUAkgDa/sP9Df8nAKUArQH3/rn7vfs1BL8HWQn+B3cB0gKsBSIE2fpf+Er+9f4U/W4ENAmvBYsDDwHEAQ4CRv7P/G78c/tPAacEYwD4+4n+XwKf/EL4aPrt+Wz2T/hU/VP/D/+tAs8GlwOOAvIFmQe/Aov6SP05BZIDfv2B/OUB4wVPAe7+6wFIAvv+vftn/QQB4v41+vP9PARSBFoApPyi/nkCcP15+Bb8CQD5/wT7tfvkAFoCvgHZ/+QAcQEyAEEA/wAdAaP/vADyA08FKQWfAtIAdwG/AdD//P1t/g3/VgAlANr/GgD4AFIDHgPqAAn/H//3/1YA6P7z/KT/GgLBAET/1////3D80/su/Y39I/8U/0MAzP8z/h8BYQSZBO8AE/5n/rz/bQDt/nv8Bf0KAr8DoQBA/xkApQGGAPD9Qf6d/rv+nv/CANIBVAJ2AiYC/gIeAvz+DfyP+3n+/v9x/73+Wv/g/13/sf7y/in/Fv6X/d7+FQKtAQABVgJOA+wDnQGJ/4X/iAHMAG39A/9PAy4FhQPwAGAAHgEmAvEB4/6L/Av+YQDPAFH+7f7qAVcBYgBUAHwCnAKU/qT7/Pty/aP+/v1r+ov7bgBSA7YDegFOARUCPQBU/5f+Sv2G/e38L/55AfgBfAG6AGkAwwCn/1f+5gDeAksBowGwAqAD2wEC/3T/pwBVABn/iv9E/5z+c/7i/n//CP+p/sb9KP7N/tD/yv9Y/d79+v9MAQ0CiwEtAFb/kgCXAgcCUP+C/9T/cf59/8gAaQBa/zj/4gAnAuEB+gGAAVoALwBWAeMChQJfAcgATwDy/gv+1v39+zP7BfxU/okBFADZ/HT8/v6xATUB4f/o/wkAUv9j/zr/+v2X/In95/8VAdgBvwGvANH//AFuAz4CuQKwApMBzQB5AXEBmf/u/h3/aADGAPkAngDO/qT9/Pwj/Yn93f1h/Bn8Jf/sAhcE1wHWAKYBywE4ANr+pv6D/r79Ff4GAawB3f8V/3v/5gCMAjMDQwL5AZoBy/9X/of+pv+BAFMBOwFqAY8BwQDi/6z+xf/JAeQAZv/3/q7/ngDlACQBIABD/1z+A/55/tL9vf1O/v8A8AKMAWT/3P2C/QD9Y/3Y/fL9Af/r/lL+Rv9LAS8CMwN/BEIDUQElAWUCxQFqACYA0/9aAE0B7wBgAD8B0QGHAQIBRwAz/wv+9f2f/qL+B/+q/uD9UP66/o3/9QDaAdwAhQCjAUkBrf+4/hL/yv8SAf8BFgEkATwCfwI2ArsBnQFxAYAAm//K/lL+AwAMAeT/xP8bAekAT/9n/W/8gf2z/jb+Mf2U/hIAUgCr//j+3f5V/hv+//4AAFX+5fz//AX+bADiAQYDBgOIAvMB0QByAD//3v52//3/zwAxAYUBkwBe/2z/lv+n/6r/rf9W/yb/EABzAZ8C6AFbACEAuwDcAEIArv/d/hr/1/9SAAP/xP2m/i//mwCwAc8B4/8C/uH+OgAfAOf+0P9vAJAAhgD2/3f/Of8fAMn+3f51AKoAXQD0/gX/Pf83AIAAagDiALcAcwIHA8UCrAFgALn/UP72/TT+2/41/xH/nv+//xr/gf4R/sD9b/7E/3gAhAC8/8T+Jf7s/j//Wf+0ALYBawIzAW7/bf5D/sT/HABhAOoA3QBsATwBHwL0AS4BBgKLAu0CtAEKAI3+OP4o/97/QgBTAHYAGwDx/wgAKwAqACUAbQA9AJcA2QBUAB0AQAAZAVEBoACM/3b+YP7F/qX/PgCf/4D/PwDIAckC6gGLABgAqwBmAFwA8P/t/yH/Kv7n/s7+RP84/rz9hf2Z/sIA0ADIAJn/of90/zwANgHiAP8A3ADHAVMBmwEmAVwA0f/u/tT/Pv9y/8f+8v6y/x4AvgBx/xr/wP7G/wkASwAGAN7+0v5V/24BqQGAAYcB+QFHAv8AGACR/sv9wP4CAH0BLALWATwBJwC+/6b/eP/f/5j/1P+H/wL/2P9AAC0Akv9q/9v/tP8+/3r+bf3m/X/+Tf+G/2b/OACY/6T/r/93/17/eP+2AG4BkQHYAQYBsf8E/1D++f0J/hH/lv/U/5//C/+B/7j/LgBXAJYAqgDYAEUAHf/5/mT+8/7z/1MB+gF5AWUAR/8V/5z+6f5G/2gA8QCyAQAC6gEmAv//mP8s/0j/NgCOAAABUADRAMsA5ABQAbwAbgCOAMD/zP6t/bv83f1p/gwAvQBTAd4B8QBCAbb/AP/l/hT/Y/8Q/6j/WQCQADAAPwAVAHoAx/+H/z//Of++/4/+FP9+/3kAuAB8ALcAswC9AK//k/5q/VP+Cf9UADgB+wBzAfMBqANcAzMCoQBP/8r/WQChAL8ASQA6AIgABgAuAL//8/+6/1H/kP+q/l//CP+J/gP/Z//xAEwB0QDIAOUA6QDkAOoAhgBR///+mv6R/sL/KQCyAPf/ff+6/7P/gQCKAeUBngCL/xP/of6B/mn/bwBLAfQB/ABj/8X9aP0G/vb+x/+OAC4BbQDA/07/Bv/O/nr/eAAOAYABmQAGAGT/g/8WAD4A5gDmAJ8Af/9z/5L/E/9K/x4AQwEoAUAB6ADzADEA2P7M/u3+cwDrAN4ALgD//sn++f6FAK8AwQAQAWcADQBy/yX/7/6u/+YAcAEjAdsAqgC5/0r/kP6Z/lD+qP4o/53+Tf/F/vf/OQDbAGMBTABTAbQADQETAAIABAE3AcwBRAGaAZoAhv8J/4T/rf9MAGUAwf9Z/1X+Hv+z/mz/r//3/+0AcgDXANH/Qf/6/jD/NAAHAOr/OQB6ACUAnP/I/30A1wBiAcwB9AB5AIEA8gBsAXgB6gF0AakBPwHs/xX/Nf53/rv+K//V/7H/y/7m/qT+xP4y/4z/7//4/l3/gP5y/r7++P57AH8AywBQAOz/b/+3/ov+qv56/q/+h/8YAMYA7P/W/3r/rv+pAH4A4QADAMH/z/7W/Rz+1/1V/mL+hf5w/rL+YP6l/fv8ofz3/WX+k//F/5EArwCa/yYAWv8eAK7/OQArAX0AewDQ/zsAWAADAa0BZQJAAnMBRADK/28AmgAYAoEBcAEIAQkBygGuAI0BswEoAogC3QIhAzoBpgBaAQQC9QK3AwYEPAODAbMAKQCwAGABUgHdAaABigGtAEb/7f7m/qf/6wC9Aa4B7ABkAIT/6f6n/9L/2wBqAT0BEAHD/1z/cv90AG4AaACfANf/OAAfADYACQBaACgBiwGgAbsAawBr/9z+Sf+P/+r/LgBhAL7/pv/X/8z/z//N/xkAZgCuAHwAhADv/x7/gP4o/iv+4/1V/mT+O/9I//D+wf69/Xv9wvwF/dr8Jf1i/ST93P3t/c/+Kv+g/mn9bvzz+8L7JPzB/Dr9Bv3A/Gr8iPxF/KT82Pwp/Oj7q/v7+wr8sfvs+6L8Wf1S/VP9n/1N/ZD9Mf61/pP+cv4u/5X/ov7a/VP+AP/q/8j/VgCk/17/2P/g/8QAXf+P/2H/DACzAJ4A2QGJATcCUALzApYDDwTMBPAFzAb/BjEHcgb3Bb0ENgZ+B0IIRgi+ByoJEQhOCJkIrgllCqUJEgs4Cw4MvAyWDt0QFRG3EWsRbhHQEBYRsRKDE6ATQxMVE2gRyA/zDf8MTQzJC8QLYAqVCPoEjANMAs0Aof+9/eb9tPwc/M367Plk+Yv41Ply+Rz5wvi6+f/6Jfut+tH5H/qe+XX5zPiX+Ab4IfhE+LL29fWY9Mf19/VN9RX0nfLC8tDx8vKS8r7yHfMZ853zofIx8mHxRPK18pDz5PR79Qr2wPUP9VX0RvXB9nH47fhm+Ab4xfiJ+Xf6Svsh+wz86fsd+5P4Ifac9MD07vbI9zf5rfk4+dP4bfc09qD1H/ZP+PT5jfsj++n6cvvm+Ur7Ivuv/H/9J/3S/WX8Yf7W/vcBTAOGArgDIAPWAzYDSQOXA64EBwYDB0cH6gY6BSQF5gUtBUkHMQZTB1YGmwZJC+8RFh0xItMmEyQCIJwekxyPHcwaiBqGG5kgdCWQJlkk8xwNFisRVQ6tCs4GhwFs/1n/ggCJAtEC7wHZ/Vj78Pbj83DxFe/o7/HwsfRF+JX8S/3u+1n6+Pfm+OH5M/zU/Tv/GgDmAEUCrwBd/0T9oPto+7X66Plk+NX2UfVs9eD2gPcW+PP3qvb39VX0LPNQ8yTzovNW9O71d/bN9if3avZX97b3a/nf+1/8TfzA+zD8hPzM/Yz/PACzADb/of12/Dv6yviI+Mn4y/ia+AX4TvZv9FvyFPKp8/n0x/Y++FX4tPaZ9ef09PRz9YH1//Zs93v3T/c++Jf4p/j8+tf8Gf9k/13//f6g/bj8Av7XAPwBzQLFA/MEWgReBJADsANUA1MD3gWGBeQG0grQFnMk9i61M5kvgCnsIo0iBCReI00g6B+9JJIrLzAfLoIl+RjkD28KLwh/Arr7T/j/+Cv+BQIKBG0AmvlK8vXsq+pj6Fbnk+gA7HPwIfXh+Ov6dPnX9of1ifYP+VH7o/6GALgBBwPYBOsGjAYdBUwDMQGs/tj7I/oy+VP5o/sD/kn/Cv5Y+574m/SE8Wrv0++g8cbzZPbb9mP2QPWb9Zz2h/YR9qT1ovZg+Jb6s/zT/UH+D/9BAPcAUf/O/GD6Qvnk+Qz7Uf2G/RL9Kfsw+dX25/N98zDzifTV9Ef1HvVZ8xvyC/H88AXwDe8473Xvau+/72bvT/Ag8InxEvT79V74dPde+Iv3E/nu+r77Uv7Y/ikBsQHLAhwD5gFnAW8BAgLDASwCAgpNGN0oyjYTO783nSwkJbUjlCWlJlQkoSY3K5wy4zc1NSsqxRlSDpMJWQaDAYf6qfdM+Tv/nwYtB/AAZvU27OXmhuN04nviLObR63TzsvpA/T77b/bY8uTySPYZ/NkBHQaPCJMJRgufDJQNhQx7CdkGTwWABUQFIQS6Ab//uP/gAC0COAFl/of6c/dI9f/z2PPz81D1S/Y99zf3HfaU9BHzuvPZ9Mv2qfi3+kf90P6a/0v/Yf6O/dv8WPwc+7f5WvqW+6v9K/3H+kD42vVL9pL1S/XS8pvw0++A74TxLvFQ8Jnucu65783vs+617MrqAete7DjvWvDL7iXvW+/O8nTzU/Sa9D70jPZw97D6/Pru+yr9F/6d/3b/7f6e/Zn7f/tD/VcEFRNVJZI3cT6DPH8yZSj8JIclGyoyKk0raS/vNl8+MT1xMzohEw+tBLMALAAI/Sr5Eflp+48BPgPY/TzxkuLK267Zkt1n4QLmWuwa8W33Vvni91zzHu+08GT1vf35BEEJAgwQDIsNUw6qDjwPMQ36C1oK3Ak1CQMHpAZlBlgI1whuCKQGcQEo/fn3f/a69bH1Ofid+cb7jfpm+KD1R/I28YvxovPx9V725fan+J/6q/3x/dX9MPws+sf5SPlD+Sn44fgz+vn7V/xp+3j4M/Xz8hTzb/TI827zq/F78aTwofBp8NHuge3T7G3uzu/n8C7xpfCr77jvBu+Z72Tv7vCK84X1V/ju+ID6SfpC+377Kvt4+9/6LPwY/fH9ef6Z/K/63PmI/m8L5BsvLnM2gTZAML4n2ya1JvEpSSlxJ3osyTQnQJ1BvjfJJRYSMAi3BLcEcQH5+g75efyqBCkI8gG58wnjdtv42/LgfOTL5OrnuuyS9FX54PZR8NnoIOkz7/j4owFKBZMHewgNDFMPhw//DJIHTAREBGQGfwldCekGEAXoBE0HpAgDCJYEYf96/Ij84/0pAIEAzP8W/+D8oPsf+L/0TvNU9KL3C/us/Gb7cPqD+Zf6H/ok+Qz4wPeH+p/8SQCdAM7+9vyQ+lD5APeG9Bzz4fIE9U/4evkT+OPzF/F37uTs8euC6tzroeyC7yzyZPMj8/zv/+3X7Pbszew+7HLsku2Z8AP0I/al9kz2pfYj+Xn6DPvY+kX6HvoE+9f78/rm+iD7qwTLEnYj9jC5MSgv6CaTI2skIyWyKF0nCyxgNO88BkPNO+0tQRyzDzsNBw76DYgJ0QQJBFQHFAlzBKb4ROhw3Zfc5uE96BPq0+k263PufvLT8ZHrH+Mt4BjmYPFq/UMDkQQqBfEGEwoEDCUJbAPcAMcCyAjuDfQOvwyLCkoKzwzxDncM5ge2Avb/iQGSBOMGswcgBxsHhgf2BWsBgPv59pj0oPVO+L/6oPzY/Kv8kPuV+Tz35vQC9JL0nPbH+D362Po3+zH8Dfxq+n/2zvIu8XnxXvTB9ib47fY29LXxEe9K7iTtqexL7eLtFvD28ZTysvGi8Jjvvu777vjtNO1J7EXsRu2o7tnw6vL/9fv30/kA+4n5uvcw9rv19Pc1+Y76Ff3iAYgLehZQI7wnDSYOI14dIR8yIPMjmShFKuIw3TbgPbw81zIfJQYWUQ8IDf4O6Q8aDQ0LNQtODB4I9P8n8yXmM+C13z7lEerL6pbrB+zt7gfwqe0O6Vbk++Se6cLxrPdh+kD8hv6bAh8FoAbgBOcCkANTBggLjwysC6UJpwk2DM4OrQ8CDsUKtAjrCdMKSwyIC0YK/wn8CPUI1Aa8A1MAKv/j/xMBbQGC/xr9e/pA+dT3VPce9qn1fvew+ML6FfuQ+uT5evk/+hr6F/ls9nL0BPR09UH4APry+kD5WPbE83bxDvAX7/3uP/Db8V7zv/St9B3zOfHr7/LuY++97+fvp/D/777vIPDS8A3yTvTm9hT47vg++CX3GfdR9+/46vkh+vP7SAGMCEoRChpIHKEcqRqqGIUbohzGH1ci8CSGKmsv8DNnMSsqgCCzFy8UZRK5EgsSXRCDD9QPhw4TCUcBMvZy7r/rEOzQ72nwq+/B7lftv+wk6tTm5+Mh5GPnpezh8bTzX/SF9C72bvjq+QH7XftA/h4CXQaPCMgGhQTYAjsEyQfmCmoMzAwGDUsOwA+zD6kOOAxKC2kLCgzhC04JoQYPBJwDcwSnBJgDIQG9/gH9EPt2+T342fY19xv4s/mA+kT5mvj398H3pPeA90L3KPcw+Lr5kPsY/MT74/pj+Uv4bPfh9vH2zfeh+U/7d/vq+u/4BPdV9TLzX/LJ8WDyCfQD9mT3Wvfj9bzzsvIw8nXzr/QO9jn4Zvk2/Cf9LP1t/QL7CfpK+Rf6pv6yA2kKDBGqFDAWDhZ6FVoVghVEFxsarx2YIoAmHSk/KKEjkB8FGwEY0RacFA8ToxH7EHgRfBDsDJ8HmAGj/Ez6c/mR+Mr2wPT88rfx2u9g7LDoteXi5GbmHule683rh+vn67zts+8j8ZXyH/Ru9u745/rV+wv8PP3b/+ACVAUxBvcFJgZtB0MKYAybDO0L9Qs9DcYNGA5KDBQJAgeLBTgGhwU+A3UBwf8XAGcA3v+//V/6wfjd+Lz6wPu5+gn5I/eC9nz2+/XB9HvzAfRc9nj5d/tQ+8z5xvcH90T3Ofd593X3a/iJ+qv7uvsQ+pj37fUo9Vj1pfXl9UP2OPfT+KH5dfly+Hb3Hvh4+Vn6kPoo+sH5kfqY/NH9Wv6h/Sf86ft9+6n72vsI/LX9zQDbBbYJvwwzDiYOExDbEIESjBSdFagYmBvhHssgkSCuHksbmxkzGMQX7Rf8FtAWcxbFFboUMhJLDm8KGAceBJ4C+ADq/iD9N/r+9mrzd+9p7FfqrOn96VzqI+pE6a/ok+hG6WnqbOu87Pftbu9r8XrzivWY94b5hPuz/Yf/XQEXAxgF2AcWCuoL7AwvDTcNeg0hDisOaw65DbcMRAysCpYJqAd2BWIE5wKVAvwBFQExAFL+Tv3T+2X6Ivkc95L2RfYe9m32y/VS9aH0GfRL9Br0Q/SZ9D31u/bF94X4svjx9133zPao9tX2v/YV9+D3Kvk5+qn6i/p1+Yv4P/id+Ln5mvpj+yL8hPyq/Hf88/tB+6X6ivrK+gP7Z/sE/J78Dv1F/YD9qv3j/dD+TQBNAmgEaAamCC0K2AuxDdsOyRAuEqYTiBUdFmMXhBh7GcMa0Rp7GjIZDRiyF2oXzBeIF8gWwRUuFLgSsBC7DYgKdgerBK8C3wC4/hv86Phf9mn0lvLL8M/uOO0e7IXrP+vD6tXpgOlE6qXrBe7U77bwPfFK8bfyk/RE9lj4OPoF/cv/dQKUBN4EtwTlAz4EvQXIBoAIIglWCWQJtwhHCLwGRwVsBDsElAQJBEYDYgFP/779GvzK+zz7Q/qJ+VP4dvea9n/1xvST9MT0MfXF9ff1CfYl9vH1CfaC9uX2oPd/+Bb51vls+rL6Bvs7+zL7+Prg+gX7wfv8/PD9w/7p/o/+Zf7r/Xr91Pwz/Oj7uftE/JT8svzB/Er8O/wZ/PP7Hvyl/NX9Iv/IAAwC7wISBNMEIwafB88IdArOCyoN2A5MEIERgxKqE98UDRb+Fm4X8RdyGJkYlRj/FxMXpBZXFi4W0BVMFFISGRDADfsLVgqtCA4HZAXQAwMCbP/2+4/4yPUT9Evzb/KR8Zvwru857wXvh+6k7TntR+1v7ljwnvEK8y70kvXc98z5T/vv+wb8QPw7/ZL+Pf9cAC4BOgISBPsElQXfBCUDGgJ6AY0BsQH5ATACKwIDAtYAPv/8/K76oPkk+fz43fhj+HX3tfYq9sb1rfUL9RL1m/XF9Wj2qfb29sj3lviY+UH6gvqr+un6OvuT+0L8Df3t/Rf/VwAuARQB8f+M/ov9y/y1/Aj9MP07/fz8ofz6++X63Pke+dP4JvnS+Yv6X/vn+4/8ff0g/v7+v/9MANkAWgFOAnoD3ATyBTQHuwjXCZwL3wySDUcOQg70DvwPKxGVEnMTGBQxFKAU/hS1FCsU5xJIEh4S8xEVEmoRPRDvDtsN9QzOCyQKvweyBdQDZgJRAW//6P1h/N/6H/qy+NH2xPTA8uPx6fEo8lXyhvKu8gDz2PN49Mr0DPUy9Qz2jfeg+JX5gPrd+vP7bP0k/g//bf9b//f/CgD8/zsAJQB8AEcB1QH+AZwBYgDa/tb97Pxk/GT8J/w6/Ib8DPw5+y36vfj399X36ffc+Mz5ZvpS+437RvsS+5j6rfpp+yT8E/0S/tT+g/8mAI8AzwDYAHQAIwAMALb/W//m/kH+9/2w/S39lPy/+wv7yPrA+uD6IPs3+yD7FPsS+y37YPus+1T8SP15/rv/nwAtAU8BNAFxAcwBfAKrA7oE4QX3BrYHdgjXCNkI4wgfCbEJ1ApxDMsN0g5KDxUPDw8MD/YOJg9ND7QPoRB0EbcRcBFbEMIObQ06DGELzwqcCXcIqQeQBoAF+gPYAdD/2f1g/D/70vkS+EH2BfVk9Gv0rvRt9Bj0bPOy8mryE/IV8n/yQ/O09Iv2SPiJ+Tr6WPp3+q363Ppw+wX80/zO/Xf+Cv8s//n+kP72/az9mf2z/cT9t/2i/Tf9p/wZ/JL7Fftc+p/5VvmD+SP6G/vU+0v8nfyx/AP9X/2L/dT9IP69/s7/4QCzARkCIgIMAg4CBgK0AR8BQQBl//f+rv5d/vf9aP0i/SH9Cv2r/O37BPs++uX51fkX+rX6Zftg/Gf9Yv5i/+X/HgBHALUAbQEKAsICewNWBCMFdgWNBUUF5gSXBFYEZgSTBP8EpgV8BmMH5AcgCFEIoggxCQYKKQteDGsNMg7kDoUP2w/uD/wPOBCQEOYQBBHYEIQQ9g9ED1YOBg2CC9wJOQigBgwFRANRAYb/z/1h/Cz78/mu+D/34fWP9FXzPfKM8avxJ/Ly8sXzAvQD9Onzy/MF9F/0vvR79Y/2zfcM+an5f/kL+XT4Kfh2+Av5qvk7+qT6x/rh+qv6Hfrj+cz5EvrM+i/7dvu9+9X7K/yY/Nj8O/2x/Sn+9P7x/84AqgFcArcCCwM7AzoDNAP3AqwCnQKdAn8CewJYAt0BEwG9/zb+4/zN+1z7gfu3+9n7wftG+5b65fmD+aP5Jfr1+vX78fy7/UH+nv7p/jj/rP8iALIAZQEQAqUC+wInAx0D6gK2AoACawJXAlsClALcAh8DQANLA1cDlgPxAzAEhATEBAsFxAXEBiIInwnOCvMLxQw1DZUNxA3lDSIOqQ51DzUQmRB6EAkQXQ+FDqANmwyJC6wKBwqRCREJKAjHBg0FJAM+AY7/If4e/YD8CPyj+/f61vl4+DT3ZvYV9gP2F/Zg9sT2P/eN93/3Hvdq9q71FPXF9L702fQl9YL12/UQ9gz2CvYX9kX2r/Yg96f3J/iU+CP5pPk1+uT6n/uF/GL9M/4L/97/ugCPATICrgIWA28DuAPxAx4EJAQfBPkDuANVA5kCzQHkAN7/9f4y/q79Zf1O/Sb9qPzL+7v6CvoL+pj6lfuI/CL9jf2s/Zv9iP1r/XH9zf17/lb/PgDhADUBXQFPARwB1ABZANr/r//I/yUAlQDGALoAdgArAP3/+f/Y/4r/YP9i/8j/rADIAfkCBASXBM0EvgSQBL8EeAWNBu0HWQlSCuMKLAtGC2kLWAsrCzMLhAsUDNIMkQ0HDjsODQ5nDXMMPAvxCeAIJgjaB+kH6geiBwoHJQblBHQD9QGEAGH/c/7W/ZT9eP1e/fb8GfzX+mT58/e49uD1Z/Ut9ST1O/U89fv0YfSQ88jyQvIm8nzyHfPN85X0UfXY9S/2U/Zw9rP2KffW98/46/kX+z38Mf39/Zn+FP9//9T/BQALAAUABAARACYAOQA6ACEA5v+g/3H/Rv/3/nr+6/1w/T79bf38/bn+R/9x/yj/pP43/hP+M/6L/jX/IAAXAcgBJgI2AgACzQG6Ab0BrAGEAYYBtgHlAekBjwHXAO3/Gv+6/rj+7P4g/zv/Tv9Q/1L/T/9Z/3L/k/+5/7b/oP+f/9X/WAABAbIBVAKwAsMCrwKBAlgCRgJSAoYC8QKTA2UETAUUBrYGHgdSB1gHSwdjB8oHsAjrCUgLewwbDRwNqAwWDLkLowu4C94LDgw5DD4MEgyQC68KdAneBzQGiQT0AqwBtgAJAGn/rf6w/V785fpq+ST4Ivc29mD1t/RC9DH0d/Tg9Dv1RfXy9HT0G/QX9IH0PvUX9gv38vek+CH5XPll+Wn5bvmM+c75K/qo+iv7tfsl/FP8N/zi+6j7l/un+9r7FfxS/Jn88fxU/a395f32/fT9Cv5V/ur+rf+LAIABQwKeAncCAgKRAUsBTwGWARMClAL4AkoDiQOcA2ED2AIXAlEBpwAhAMX/h/9m/2P/XP88//r+hP7u/Un9sfw7/PH77vsw/K78PP2v/eT9vf1H/ar8M/wS/Er81/yP/Uj+1f4c/y3/H/8L/xX/Sv+j/wsAeAD2AIYBJAK/AkIDkgOpA7UD7QN1BD0FLQYtBz4IXwlvCkcL2AtADJwM+gxfDcwNNg6SDvYObA/ND88PUg9kDjIN6wu9CsAJ3Aj9BykHdwbXBR8FQgRCAycCAQHs/wX/Uf69/T79xvxF/Lj7JfuS+v/5f/ko+fz44Pi0+HD4Hfi/90r3tvYJ9mP17/S59KX0j/Ri9Bn00fO18+XzSPSY9MX09vRS9dj1b/Yc9/j3FPlj+sb7CP3v/YD+B//B/68AsAGrApcDdARGBQ0GqgbqBskGdQYtBh8GPwZmBnYGbgZVBh0GrAXuBOgDuQKKAY0A4v+A/0D/Bf/K/oX+Ff5l/YD8i/uy+h764vnl+Qj6QfqP+uv6O/tk+1z7O/si+yX7QPth+3f7jfvN+0b8z/wv/Uv9Kf3g/JD8Uvw4/E78ofw3/f/9x/5a/6P/u//W/xAAbwDjAGQBAALXAukD/ATMBT0GYgZeBmEGnwY3ByUIQQlcClsLMwzSDCkNQA04DToNZg3NDWcOFQ/AD0sQkBB4EA0QYg+JDqYN5gxgDPELUwtYChEJvAeJBnMFRwTbAjoBlf8M/pz8Ofvn+bH4pvfc9lr29vVu9aT0uvPm8kjy3PGJ8VLxYPHQ8XzyEfNe83PzivPP81P0CfXT9Y32LvfZ97v4zvnd+rH7Q/y//F39Nf4x/yQA+QCrATACegKNAoQChgKiAtkCIwNxA7UD4QPzA+cDuwNmA+UCTALBAW8BXgFrAW4BXwFOATQB9wCaAEYADwDj/5n/I/+Z/if++P0Y/mX+lf5r/tz9Df04/Ib7A/ur+n/6ifrB+gj7L/sm+/T6rfpb+g762vnc+Tv6AvsK/Ab9sf36/fP9yf2z/c/9GP56/v3+rf92AC4BsgH/ASACLwJJAoAC1wJQA/UDwwSbBVQG1QYbBzAHQAd6B/QHlAgxCbgJMgqzCkELyQswDG8MmgzIDAUNVQ2nDeEN8Q3nDeIN7A3oDaQNCw06DG0LvgoYClsJgQihB9sGPAaxBQUFCAS0AjwB5f/Q/vL9KP1X/I/78vqN+jL6pvnZ+O73HPeM9j72DfbY9Z/1evVv9XL1cvVY9Rv10fSn9Kj0qfR89CX0y/OY85nzxfMI9FH0k/TI9Pz0SfXC9WX2Iffq9734kvlq+lT7Wfxu/XT+VP8HAJQADwGJAQgChgICA3IDugPDA5kDZQNOA1wDfAOKA20DIAOtAhgCbQG+ABQAdv/u/of+NP7c/Wz94vw//I/76fpr+iz6OPqL+vv6RvtF+xn7Afsk+4T7Efy0/FT93v1R/rn+Jf+b/wwAbQC/ABgBiwEcAsUCcAP2AzsEQAQnBBwEMQRNBFEEOgQzBFsEoATOBMQEhQQtBN8DrAONA3UDdgO3A0UE+gSTBeMF8QX1BTMGsgY0B30HkQeyByEI4Qi3CVMKnwrFCvIKKQtHCz4LGwsHCy8LnAsUDEcMHAy4C1IL9wqKCuoJEAkaCDYHdAa3BdwE2wPNAsIBwAC7/6/+o/2b/Jb7hvpm+UP4Pfdu9tr1bPX89HL01PM/88fybPIl8u7xx/G58bzxuvGt8a/x5vFc8unyZ/PG8xn0ffT09Gj1wfUE9kb2ofYu9/r38vjp+cL6hPs1/Mj8Lv1v/a39CP6L/h//ov8KAGoAygAaAU4BbwGGAZMBlQGUAZcBogG7AeUBEwI2AkoCSAIqAgAC5QHWAbsBjAFeAT0BGwHoAK0AeABYAEoAPAAgAPj/1/++/5j/VP/7/qj+bv5c/m3+iv6b/pz+pP7P/hX/T/9a/z//MP9V/6f/AgBOAI4A1QA0AaQBBgJEAmQChwK+AgADNQNOA08DWQOMA+0DWgSuBN8EBAU9BYgFyAXgBeAF8wUuBoUG3wYuB2kHmAfIB/wHIAgoCCQIKwhHCHgItQjlCPcI8gj3CBYJOQlJCT8JJgkNCfUI0AiSCDwIzQdIB7cGNwbcBZIFKgWBBJcDigKGAaUA7f9H/6v+FP57/d78PvyX+8/63/nj+Ab4U/e59iv2pfUm9aP0BvRD83HywvFb8TjxPPFQ8WrxgPGT8bXx5PER8jjyc/Ll8pLzYPQo9d71ifY89/n3tvhu+Sr6+fre+878rv1x/ib/6f/IALEBhQIuA6UD8AMcBDgETwRpBJQE3QQ8BZAFtgWqBYEFUwUYBbUELgSyA4EDrAMQBGUEbgQcBJUDAwNzAtwBRQHPAJ8AwwAWAUkBGgGJAN7/Vf/7/rH+Zv4s/iT+X/64/vH+5v6x/of+gv6h/sT+zP68/rj+5/49/4v/tv/V/wQATACPAKYAhABGAB8ALgBsALwADQFjAcIBIAJhAmsCPAL4Ac8B3AEcAnACuQL0AiQDPQMpA+QClwJvAoMCxQIaA20DsQPhAwEEDQQCBOUD1gP8A2EE8QSNBSUGrwYYB08HSwcTB74GdwZwBrMGFAdcB3YHfQd8B1wHBQd3BssFGwWKBCsE8QO8A3QDHwPBAk4CqgHIALz/pv6s/eP8SfzL+1n79Pqg+k363Pk++YD4v/cT94r2Kvb29ev1/PUW9ib2Hvb49b/1j/WD9az1BvaL9jD34/eK+BP5gvnu+W76C/u7+3P8Of0f/ij/LgACAZUB/QFaAsMCRQPaA3EEBAWhBU8G8AZNB0kHAAetBoMGiAadBqIGlAaLBpwGrQaSBiwGgwXBBAoEaAPJAhkCZQHPAGUACwCZ//L+Gv45/Xv88fuB+xP7q/pj+kn6SfpC+h364vmu+aH5u/ne+e757/n0+QT6F/on+jL6RPpu+r76L/un+wz8X/yw/Av9a/2//fn9Hv40/kH+Vv6A/r7+Bf9T/6n/9f8aABQA/f/p/97/4P8DAFQAwgAlAWQBgAGAAWYBQQEmARYBDAERATsBkQH+AWYCtwLzAigDZQOnA+IDDwQ/BIgE6ARKBZwF4QUlBnMG0AYwB38HrQfEB9gH+QcvCHAIpgjFCM8IwQh+CPsHXAfNBlkG9QWeBVYFHwXyBMEEbgTcAxMDOAJ2AeQAhwBMABwA7f+y/17/0v4H/hn9O/yR+yj7+vrm+tH6v/rA+sT6p/pl+ir6E/oS+g/6APry+fL5Ffpk+s76Mvt3+6r73/si/Gf8nvzR/Bn9lf1S/i7/8P98AOcAPgF5AZMBngGzAdgBEgJjAsQCHgNbA3gDcgNJAwoDxgKLAl8CQgI0AiwCFwLgAYMB+AA7AGj/rf4w/un9s/1l/fT8evwM/J/7HfuP+hL6ufmJ+Xf5efl3+WP5Svk8+Tz5M/kL+c34mPiQ+Mj4Mfm0+Tz6xvpO+7n77vvz++r79fsp/Jb8Pv0N/uL+nv8wAJYA0QDhANEAwQDcACwBnwEaApECBANpA6sDyAPJA7sDngN7A20DhAO7A/4DRQSNBMoE8AT3BNsEqgR5BFMENgQdBBEEGwQ3BFIEXgRaBE0ENAQGBMwDmANyA1QDPQM4A08DfAOrA9AD8QMUBDEEPARCBFMEbQSEBI8ElgSvBOcEMAVtBYwFmgWoBbQFsAWaBXUFTAUvBTAFTAVrBXAFSgX8BJQEHgSYA/wCWALMAWgBBAFmAID/gP6e/fX8gPwv/Of7kfsx+8z6WfrP+Tj5p/gx+Of32Pfw9wD49Pfh99330/ev94H3cvea9+z3WPjT+FH50flT+sP6CPsj+zn7X/uZ+/f7g/wi/af9Cf5j/r/+B/88/3j/z/88AK4ACQFBAWEBfQGfAbcBtAGfAYIBWQEcAdoArQCZAJIAkgCSAIEAVgAPALb/W/8W/+v+yP6r/p3+mf6D/kf+7/2f/XP9aP1m/WX9c/2g/dr9CP4j/jL+PP5F/lv+h/7A/u7+B/8j/1n/ov/q/y0AfwDxAIkBMwLJAjIDegO6A/4DMgREBEQESQRmBJIEvwTnBAUFDwUDBe0E2AS4BIkEYQRjBI4EuAS0BHoELgTtA6kDRQPAAjMCvAFoATAB/AC4AHEARQA7AEMASwBJAC0A+v/N/7//wP+j/2b/Rf9p/8D/FQBQAH4ApwDCAMkAywDaAPMACwEkAVMBnQHeAfcB8AHhAcQBhAEnAc0AkgB7AIQAqQDhACUBcAG0AdoB5AHqAf0BDQIEAuoBywGmAW0BKAHsALsAhAA9APH/rf98/1H/Hf/k/rL+hv5Q/g3+1f29/cP92/33/Qb+9v3D/X39Mv3v/L38ovyZ/JP8kvyg/LT8tPyX/G38S/w3/Cv8KPwv/EX8Z/yO/K/8zvz2/B/9P/1i/aH9+v1M/oL+qv7U/vv+F/8v/1z/o//8/1YAoADOANwAyQCYAFkALwAxAFUAiADKABcBVwFxAWIBOQH/ALkAcgA1AAwA//8RADkAWwBrAGYASgAQAMH/ev9Z/1j/Wv9T/0z/V/9x/4v/nv+x/8L/yv/J/8X/yP/M/8j/xv/b/wsASgCDAKcAuAC9AMMAwwCtAIQAUQAgAPL/yv++/87/5f/x//v/CwAYAAoA6P/L/8b/0f/h/wUAPgB+AKUApgCSAHQAUAAZAND/h/9I/x3/Bv/6/v3+B/8G//v++P4F/xv/Nf9f/6//HACAALIAtwCcAHMAXwB5AMAAEAFNAXYBnAG+Ab4BmgFmAT4BNwFYAY0BuwHjAecB5gH0AfMB6AHGAa0BrwHVAR8CXwKYAq8CugLUAtcCyAKzAp4CiwKAAoICgQJ8AmkCQQIbAvoB3wHTAc0BzwHdAfoBAQLxAfMB7QH4AQoCBAL2AcMBgwEkAdAAgQAeAM//WP/j/pD+Uf4o/h7+Of5N/mn+fP52/nL+Yf5Y/lv+Y/5e/kr+QP4k/gX+/f0A/v/9C/4J/u790P2r/X/9af11/YL9rv3b/e39E/44/kT+Xf5a/kH+Mv4v/m/+x/4U/4H/y/8TAGcAhwCjAKEAiAB4AGcAPQALAOL/pP99/4D/gP9+/3b/Uv9b/2n/fP+4/9T/+P8dAEQAdQCDAJAAdABMAD4AOgBBABwA/f+5/33/Zv83/y//Pv8l/yL/Sf9L/0r/Jf+w/jP+8f3Q/bj9q/2x/cL9zv0p/i/+GP5p/q39mf3K/Z/9Gv9R/+n/kgCQ/28Aiv+Z/h7/dv3I/cP94PyW/Sv9sv0G/kH+PP/Z/qP/nP/j/oz/3v7t/hj/lv7z/oL+tf7E/l3+DP/N/vX+hf9i/woAbQDAADYBKwGbAcEB3gF2ApcC3gJPA3MDiwO3A8ADZwNjA3UDXQPfAy4E/APdA40DCwPCApgCAwJnAfwAcgBJAHQAcwBhADwA5f+S/8X/AAAbAHEAaACOANgAzADXAG8A+f/q/7j/IQC8AOkAQQE9AQ8BMAElAQgB9ACgAG0AkgDhABMBKAEqARgBigEDAkYCygLDAl8CMgL9ARUCLQJLAh8CxAHUAUoBDAEoAdMA9ADaAL8A1QClAI4AIgBPAI8AWQDBAKgAoQDJACYBvgEmAl0DmAJQAWEBfP8m/6n/ZP4i/zT/cv6Z/j/+CP5g/Uz9IP3F/NL9sv22/Vr+dP1z/WH9+fwq/dD83fwk/ZH9MP5N/kv+DP6x/Zn9pf0U/sT9L/09/RT9/vwn/fP88Pw8/W39tf0C/hH+n/1T/Rb9p/yc/N/8Wvww/Bn8vftZ/Fb8KvyB/Kj8Ff3C/Xf+P/9i/4z/ef+O/04AXQBbAFsAMQCcADsBuAHcAToBFwG6AI4AoQB4AQwEzQX3BbkGGAnQCV8HogJR/qr86vx2/NP7gvua+qf6nfx+/6MA4v/Q/Yj7CPp7+dH6gf11/7kAGwFaAhUEKwSMA98B6f89/tD9iP/mAoUF7gaLB5MH0Ac6CIIICgcTBfICzAICBtAIlQn+BzcF/wJAA2YEEQRRAsf/mf6P/yQBPQH1/xP+Gvxx+nT5fvk2+iL7JPza/JT9Lv7q/qj/cf9k/tj8n/y2/rMC8gREBW8E6wJeA7IEjQVZBHwCgQE5AlcEXgW4BFoDQwL+ARwCGAHs/67+RP5O/xcAkABmAP7/nf8p/1n/Hv+y/tn+tP98ANb/8v7x/QP+6P78/kH+bv0Y/Ub9Ov5a/5z/vP6l/hv/qv8c/zj9L/wV/An9yP3j/d39Iv2S/Eb8+vs/+x/6fPmn+Q763fnE+dD5oPqJ++D7dvvl+v36ivs4/J38e/wA/HL8mv2u/hH/0/6o/lj/CAC1AKYAdgAeAK//9v8AACsA1//V/7X/y/+T/zD/of4W/pf9qvxF/Av8gvyZ/K785fx9/V/+Sf8VAAUAXv+W/o3+CP/E/yoAoADrABABbgE8AnUDsANbA8kCkQJGAsUBXAFBAY8B3gFhArUCJwNNA1IDFwPhAmYCUQK0Av8CDQNIA3sEsAVHBlAG6QaEB0gIEwlRCicLxgv6DMUPrhPtFtsYMhmaGboZPBubHJAcfhonF/YTBRHdDsYM8Qq8BzMEjAHM/yj+rPut+IP1gfKS8DDwQPC575/uPe4w7xzx6vJN9DP1yvVY9mz3P/nl+jH8Mv18/sn/UQH/AmIEIAUBBdQELQRpBGYEAgTjApIA3f4g/QT9qPxc+yz5wPYI9UnzEvOf8vTyIvP68lb0r/UR93H34PeK+En5avou+zH83fyb/fv9uv42///+M//J/kn+OP01/CX7QPp3+fr4oPjE97D3AfeM9iD2mfW09fH1DvaG9ar01PPf8+DzOfTU9DP1r/Xg9db2ffcP+Gb4rPiV+QX64/rf+3v9aP4q/18A0ACvAVsCvgKMAqwBRAGeAYUCTgMnA98DFARABIoE+wXQBq4FngbzBb4GYwZwBkUGFAXjBP8C8QQTBK0EqAVLBNMEVwTvBZAI4glsChoORxTjHJApgDq7R8pLjUgtQkk7pjH+KuEiYhqFES8IqAlfDmYPEg1KB6QAI/ru8nfsPObh21PUc9Tx2ezhp+hd7e/wWPSa9x3+eAM+BW4EdwJUAxoEwQSABgIIyAg9ChkOEBQEFvkR4wluAIX4+/BW6yrn9uPn4fThZOar63Dw5POL9fv2XPbn9aj1//Xw9g74C/wuAVIHvAzoEAsTnRLTEVIQvw77C0cIvQTAAcX/yP8AAVUB8gBRAI7/Af4X+0n5uPlb98n0IvN789/0KvOB8vLzAvWA9Rb2YfYV9/j0NPNN87XyePFp8UvyTPOC9Af1MvhJ+S75nvrN+7/7j/px+QL6y/o8+X35jPqf+2z8//zD/WL9Ffxl+0f8JPwo+7T6/vpM+8v6Zfvf/PT9hP2n/Bj9/PzI/Kr7HPuE+zj7+Puq/Hz97v2T/Tn+mv4F/4z/Hf/a/ij9fPt5+3b7y/ye/XX+iwCyAYcDbwQXBfMEUgRYBDgFfQdjCAwJfQjLB0sHPQd5B8UH4AXJA1QDBQSdBboENgQcA3UDpwVJDM0VtB8QKR4yZjyZQstFZUNyPbUycyW/G5wUXA9uBzUAePtX+RD6yfrr+qb3S/JB737uC+457CvpkufS5zDqj+/v9Zf6Xf1FAHgEbwmWC3cKRQcIAv78SPlq99f3Gfjs98f4VPqs/G/9W/xX+Zb0RO946lXolucX6BbqC+6d88T59v9eBdMI9wh2CMcIjwkhClwJIAgIBmoDhgG+AZACoQK+Am4CWAMPAxwCkgDG/aX7A/lD+Ar4f/gw+vP6PPxn/ZL+SAA7AFH/4/2n+6P58/d29y/3Lvc+9sn1b/bS9hj4kfjv+D36kfuK/PD8PPww/Of8Ef3V/Hz8e/zE/RD//v4Z/5/+dv5H/oT9rvwZ/F/61/hq+AD49fgG+af5pvoJ+yj7B/yt/BH92PyY+038ePyR/Xr+lf4R/wD/pf9YADUA0f/h/rL9qfwh++f6rPo9+1v7YPuB+7/6evrG+ED4WfdL96P3Gvgm+vz7DP6m/uL/GQEZA7UDcAQHBlMHwgkECgQMCQ1NDVsMywnDB4EEGAIDADAAKwA3AA4Atf8iAB4AHQQrCpETuR3PKaw3/EB/Ry1GWEKlOTMsyyA6FX0M5AI9+2P3evdl+CH5lfqo+VD53feo9/f2K/QX8UfvJO8S72Tws/Fp9eP5wf+KB8YNWRJxE9ARKw72CNcCuv3z+fD2zfSq85D0XfYP+Pn49vq8/Lz8ivs4+eP35PXE85HyHPM99QT4yfxoAg8IkwyJENcTJxVeE3EPcwpWBGX+r/lY9zX2MPZM9yT66v1IAekEsgcxClYLogoECcsFOAKE/sT7Cvoq+Zn5L/v5/aj/+wAvAawAMP/D+xv5xvW48jLw2u5E8GTzIPf7+l7/gwKMBcoGhgZpBfgBdv4M+sn1PvI98M3vF/Cg8c3zp/Zp+Lr4UfhQ9w/2nPT88vnx5vFm8mjzHfWr98n6wv3H/9ABIwPVAwMEbQMqAun/W/3j+nD5ofeE9sT11vWJ9h72KfYC9TT0GPOT8kzzpvMC9fr1afeV+PP5Evxf/qD/LgC9AJkAuwBpAH0A8QApArAC+QTIBugHDwnsB1oIMAcwByMGVgV4BL8AuP9p/XH97f6l/mMAcwEUApEDgQMUBggLUhHtGvElSTRdQOVIWEyvSs5F/zoHMOMiKBUfCP36x/Lk7VzrhetV7YfvxvIM97P7MAD+AID/C/6G+yL5/PZm9g730vgQ/RcDvQpjEEUTKxSkEtoPJQyBBw4C1Pst9fjvje167Ufvt/J99lr6dP26/9UBKwKFACj9Sfle9sn0ofSr9Uj4xPvG//4DTge5CQ8KdwgEBmsCbv4M+oX16PFF77XuM/DE8y35n/72A1cIrgukDZcOvQ5nDScKdwVeAX798fnl9hX2jfYA94X3p/dB+Nj3qfZk9Qr1N/Rr8z/zl/Na9rj44/te/x8C6ARSBhgHcwYWBU8C0v4A+/H2lPTo8YPwR/AK8RnzL/Wq91D5sfr/+jz7h/tA+1r74fqS+oD6jPqu+jT7svvw+2j7jPqV+Vz4wPfI9iL2FfUx9L3zqPPb8x301fT39I316PUH91/4afk9+n36+PqH+yv8av3s/oT/bABbAAYB5wAbAN7/8/61/+//RQFfA1UFXAf2COAJtApECycKPgrQCakJ8Ah/B1oGjwR7AzAB7f/+/gX+w/46/53/jAAZARgDlAdaDVwWqiC+LVE67EOVSoBKoUfLPlszdSfjGVwN+wAD+Ezyb/An8HfxGfSY9oX6gf5MA3kGPgfrBS0Dx/8w/NL5MviQ+C76+v1tA5UI9Ay9Dj4OEQxFCXwFKgGS/M/3LfS08Anv8u4e8LHySvUp+L36Af0v/qT+v/0l/Cr6dfd99aXzTPP68871Evi1+iD+9gC4AxIFfwVdBJcCUQDU/eD7WvmJ+HT4GvrK/eABjwa7CXsLiwuNChsJEwZyAgz+Gvp/9gHzB/Fo8D3xofKg9PL2Ovk6+8L8Zv1Y/ZP8HPxU/ML7tPsy+3b7F/ws/J78O/zO+1j6Dfls9yj1ufPi8fbwWfAt8F7xvvKI9JH2t/jt+pn8u/3f/ej8qfuh+ar3Hfax9EH0OfTg9EX28Pdo+Wf6efqR+XT4Cffb9Q71YvRz9CH1EfaD93r40vlt+4L8//2E/jr/kP/l/nj+bP2v/eb+of8jANz/6P/CAGYB+gF7Aq4CPQLQAYQBNQFdAhsChAHRAeQAdgKEAy4E7gW8BacFIwX/A/8BMgAa/cz6zvlc+B36/fqS/S4A7gFfBMcFQwh9CqAQBBcBHycmeisjMzQ3uzs6PCE58zJNKQogixbBD1sIxAI9/RD5Evjd94D6R/z9/ZH+jv+dAHcBNQLfALz/WP3//I/9SP+KAYwDYgagB6YJeAoKC0wKvAePBLsAUv33+Xf45/ZU9p31E/Xe9Xr22Pec+GT5APm2+Dj4v/dt+Cb4YPnp+jf9lQBEA1QGUgiRCf4J8AmZCWkICAfQBLMCvQDZ/pT9jPwU/F78FP0w/kf/5v8HAA8AGgD9/5f/kP7X/WX9fv2H/YX9YP3j/Pj8OfzH+8D6uPl/+cH4sfhf+Ir4hfgV+FL34fUb9ZTz8vEn8Hfu1O0x7Sftku2l7vXvWvGY8hXzkfPJ8y70d/Sm9Ez03PPC8+rzGPUV9oX3Yvi/+PD4+vg6+bP4gfg9+Mv4F/qU+0P9eP6//2AA9QCKAf4BUQKuAXgAFf+p/ff7efq1+D/3k/ZJ9kX3evjT+fL6z/uH/Or8sf2Z/vH/YAE2AsUCBwMUAzMEHQV+BocHRwdWBz8GIwZpBXYEuQOoAhUDHQP2AyEEsQQIBRAFawUGBQEG6gWaBn4HTgj3CZkKfQpwCZcIJwfjB7MJtw0nFsgf3StfNns9q0C7P6Y6QzNMK6sgNBeKDUkFtACd/fP8Nv5r/xUBGQQSBjAJ8wqLCv8IyQQEAMr6MPfJ9Ev0HPW592f8lQCrBOcGPgirB4wF0wKf/5P8yviH9XHyCfEL8GfwNPLp8+n2efiN+hH8rfza/H/7Cfqt92X2l/WA9g75hPtg//ECCwa5CKwJgQncCJcGvgOWALD8//ik9QPzXPIh9N72Q/vN/6MD5QaGCBEJRAh5BkkDGgDy/LH5t/de9oT2ZPdp+IL5lfqr++/72vue+nT41PVB8x/xWO+I7t7tge4e8AfyBPUz97j40/mG+Sf5Yvje9n/1sfNc8nrxFfED8o/zxvUS+OH5fvvl/PL9kP6a/sb9nvxQ+/f5iPl/+dX5xvrh+2n97v4zAKwAawCR/2b+hP12/F/7EPrn+E74O/gI+WD6sfs0/b/9x/0D/jn9QP3+/IH8g/yW+0P7WvtW/Jj9Dv9mAFABkAIVA9YDrAP7AkQCmAHaASEC1gKVA70ExAV4B70ImwmYCtEJCAopCSsITAftBK8DdgJBAicD2gPvBDgGmgZ2B+YHqAdhCK0IDgvnD+gXLyI3Lec2qDv1Pa06BjUjL90l6R2jFWkN5ggMBt4E9AV9BVUEFgRnA6AEHwYlBqgENAEo/BL3T/Nf8LzvYvBH8vz1Nvqt/sMCWAXdBWcEFQHg/Y36q/d59VfzY/J48fHxd/Mj9QH3yveE+Cv5xPme+uj6PPrv+Ej3VvZ49oX3Qvl6+zX+mQA6Aw8FCgZNBrcEYQJ0/xX88viM9qH0KfSt9Dz2jPnr/O4AngNzBW0GbgVuBAoCgf8D/Y/5I/fh9ZP17/bE+Or6Sv3s/jIAKwDX//T9VPtJ+Rv2s/SK8+jyhPPU82/0CvWu9T71RfU89UL1zfV/9Uj1/vTa9F70W/Qt9BP09vTC9br36PkQ/Kr9OP7p/fv8/PvU+pP6bfr9+qf7X/sU+1b6yfna+ef5BPra+mr7Svxf/aT9I/6z/fL8UPzg+/P7Mvzx/Bb9cf2l/Xb9nf0N/aj8nvzK/Er99v00/zMAEwGaAdcBmQIEA7cDaAR2BJYE/gOjA30DCwPmAv0BQwH2AP4AEwJcAwEFSgZFB1EIhQjiCOIIoQjuCKEIRwg+CMYHuweLCAkJJAo1Cz8LpAv9CucJ4whNB7AG6wYkCLQKoA58E4cY5RzjH/0gDCByHlIcQxp3GDsWShSTEgIR8Q8yDzkO0Q3gDfsNgg4MDrMMhwpJBwQEaAGz/6z+Rv75/cD9jf0j/Rb9K/07/RH9qfwR/EP70foq+kj5CPhs9nD1CfVS9e71mPYo95/3GvhO+Pz4Ovkx+VT5Ivlu+Rz5O/gu98D17/S19PT0xPXf9gT4P/mN+un71vxs/Qj+TP5d/tT9+PxS/OL7h/sm+/v60/pK+zv86vyp/T/+ev6y/oL+HP6m/X386von+b/3wvZP9qf2e/fC+Kf5FfqA+RD4XfaY9LnzGvPx8mXzL/TR9LL0YPQy9Hj0/vSK9bD1FPb29R31v/SK89vyBvOJ8yT15/b4+LL6zPsk/Ir76foy+rj5u/nm+WD62PqT+qr5sfgg+Er4PPmg+mz8af6x/0wAMwDv/9j/jf9s/3z/7P+LADgB0gE3As8CDQMRAz4DTwNLA7ECdgFnALX/XP81/zP/gP/X/7gA8QHfAsoDhgQbBaEFSAYHB8oHIAgmCMIIbAlSCsMK0gqeC+0LHwwZDKQLFwtjCugJCgmpCEEICAioCF4IVAjGCJcJuQv8Du4SexaBGRwbJRvRGr8ZLRgYF00WDhbJFg4XGReaF24XKxcsF+IWeBaHFekTDhLCDw0NDgrVBgwExQHG/17+bv2Q/Cv8mvtY+hL5PPee9af0sPM986/yDfKR8cbwE/Cp71rvRe/d7y/xUPO99Xz3cvid+A74NvcD9m70YvPf8qHyv/LU8hbziPMh9DP1sfZ/+J761vzM/g4AXAAjAHD/e/6//Wv9P/0O/Sn9H/1L/VP9Zv0f/l3+1f6S/n/9nvy4+gX5effP9eX0/fMa89XyYvMh9Aj1GPYd9yz4X/je91n3w/ZW9jT2l/Zc9+n3Pfjk9/n2B/bk9DL0z/OF87PzXvQq9SL1X/Qc8xny4/FT8rvzffVV98b4Mfnx+Gv4EvhD+FH56frJ/IP+tf9+AJUAFQB7/3z/NwBVAXcC1gJAAvcAgv9a/tr9L/5C/9YAcAJpA0kDggJUAQIAQ/9l/zsAaQHRAp0DWgODAjIB8v9L/2L/WgC3AcgCPAP+AlkCbQHFABABWgKCBJAGZwgBCuAKOAvVCroKRQvSC4wMuQx4DFkMIwz4C5MLDAvpCr8KPgqdCeoIhgj7CEkKzAw/EDIT7RXrF1MY2RjIGI0YoBmAGnIbfRuWGW0XWhXDEykTVxM+FEoVsBXcFLISvQ+JDNUJ+AduBmcFTgRHAr3/0fyh+rD5ffma+k78gf24/Wj8IPqv94j1KfTn85j03/U29+D3iPdq9pf1h/X+9RT3XviQ+SH6c/n491X2DPVh9KL0zfVy9wP5TfpK+/D7nfz5/Pz8Vf0N/qv+wv4q/hb9S/y9+2X7v/uU/Kv9Qv5L/gT+9PzF+8X6vfku+VD5k/mP+Wn50/jh9/D2BPa59Qv2qfah9/33hPeh9mP1GfTx8p/ykvMh9Wb2Bfc299z2zPUo9Jbyx/Gw8Q/yuvKZ81H0qvQZ9bL1JvZt9o32zfYL9x/3i/cX+JX45vgl+Yn5b/k7+Uv5vPmk+pb74PxW/kv/Zf+//sb9Bf3K/PH8qf2p/o3/AQD6/7b/Rf8I//L+dv+AAG4BcQICA9ICLAJ0AXwBJgLGArED2gRpBTwFmgTxA5IDegPAA3EEfgVGBlQGJwadBeQEhQQiBKQETwYVCLwJtwr1Cp8KqAmSCM0HjAelBwMIggjFCJQIzwewBg4G8gVRBhcI0ApjDq8S0xXlF2UZPRkeGHoX0BZ4FpwWvRZhFzAXMxakFegUgxTyFBQWsxfiGNMYbhfeFPoQcQyzCAYGWQSuA1MDUQP/AmUB1v/v/lH+J/4h/hb+n/3n+y/5RPal883x7PAI8e/xDfPi8xf05fOz84zzbfM/8yfzgfPM85PzF/N78nzy7/J781X0IPUU9uT2zvdT+f/6LvyU/LL8UPwi+z35ufd19wH4PfmH+nf7vftK+8b6qvrt+mv7XPwm/Sv9V/yx+tj4lPfo9hL3IPhN+Yj69/pp+sv5Cvm++N34Pvkk+lj6nvl4+M72VPXR9AL1+PWa9//4xfk6+Qb4e/cI9532W/Zj9h73gPfR9k32sfZ891/4IPm7+Vb6TPqe+XH5/fnU+iP7B/tN+5H7ovt9+7371/wT/iv/5v9AAG8AOgC7/4n/CADSAGABoAFwATMBpQDO/93/OwDoACYCiQIQAikB3v94/1UA9gFmBDcGpgZBBvEESQMfApYB8wFEA0IEeQT3A6ICUQFmAJcAKAIMBK0F4QZPB7sGWAUyBG0ElAXYBuwHdgiDCH4HoAXPBGcF8wY9CTYLmAw2DTEMwwoPCn8KMQ3MEGEUwhdRGRcZsRfoFa0UYBQmFYEWmBevF8MWHRVEEw4SphHsEd4SFBTpFJMUkhJPD+kLNAksB7QFrATSA34CogDk/jT9zfvY+o36f/qz+Yv4EvcR9czywfA370ruVe7P7lHv7e+u8JPxTPL98vnzU/Wc9oP3uvdk90f30vYm9jb2q/YH91r36fcv+aT6o/uu/GP96v2Z/qb+KP5t/ZL86fuS+8L7YfzI/A39ff2t/Zj9b/3R/Pz7h/uQ+0n80/wE/R79zPxJ/GH7jfo1+l76y/o2+7L7n/ts+pX4t/b29Af0kfOj86P0wPXB9pz28fQ98yDyg/Ed8nbzvPTw9Tr27fV29bT0cvTB9Hb1xvYn+CT5Yfna+EX4PPgw+XD69PsL/tD/zwDQAC8AzP/j/xsAhQD+ABcB1AAeAGr/df/y/1UA5gC5AbACGAPMAo0CSgLoAYwBigGOATgBnADB/33/EgDvAJ4B2QGnAXgBTwGuACYAOQDJAM0BSAIQApMBwQAqAAcA2gBVAr8DOAViBskGEwZKBfoEKAXKBWoGxwfqCJoJTgorCm4KSgtXCwILOQoxCYwJ5AkbCrQLRw35D7sTVRbEGOkZBBmLGLEXXBbuFeoUsxRWFaIUJRQpFGgUIRXBFXIW5xaFFkcVQhO9EEEO+wuVCcYGUwSSAi4BVwCq/xT/7f6a/of90/tr+TT3avW98yPzwfLx8T3xuvCJ8G7wj/Cj8arzBvYU+N/4gfis9wH2J/Si83z0pPXZ9Vv1PPX09HP0wPSD9lH5I/wn/vT+bf54/O35j/c09kP2//aX9+/3efjC+Of4L/kE+q37UP2z/kP/0v6U/aX7bPqr+p/7MfwH/PL74/so+yr6cfkd+XH5uvrF+zf7j/nn95X2W/Uo9WT2K/e09ir2dvU69CXzkPIV82L0jfVd9nv26PWb9KDyu/Ed80v1JPe1+B76K/vQ+2j86fx9/YT+zv9OALj/5P7X/cj8Wf1T/1kAfQDLAM4AKAB8/3L/oP/t/2IApwCwAMgAxwAAADr/Wf/Q/73/Pf8S//X+5v6A/yEAOQBQAKUAgQGrAoYDRASmBBsFlQXeBE4D7AFfAWoBCAKpA2QFNgbsBRMFKgSMA9ADQgTJBO8FqQatBkoGdAXABL8EugU+B0IItQiRCLgH+QY/BuYFIwdJCVUMTxBkE44VZxcrGCYYhxg5GS0Z4xgWGcoY3xeoFl0ViRToEw8UMxUPFkcW+xVwFR0VVhR7ElkQMA48C5UHCwSKAQIAhf52/Sb9xfzb+1j6/PhO+Pf3x/ev95n3Zva78xrx7O567SLtxO3976zyWPQ+9Qj1GPR28wvzrPID8xH0OvQL8xXyxvEw8e/w5PGC87D1M/jP+Yj6Pfuz+677p/vW++X72vs5/Pz8/Pxt/Ir8zfwo/Q3+eP8MAYwCLAQgBasEtQOrAhYBvv+1/qL9GP02/ZL9cP1q/T7+s/4v/gL+Mf5F/af74Pnp93b2bPWI9G/zZvIF8qfxnvGn8s/z4vOX8w/0f/Rc9D/0GfSF9Pf1Ove+9+H3Jvj690r3wPc8+Z76yvv4/OH9+v2b/Sf9jfwY/dT+pf/A/9v/Pf/y/dD8wfzP/cX+jf/MAD4BogCi/zz+jf0T/mf/RwEoA34EugQcBJ4D/QJoAtcCSQTvBREHsgdmBx4GsAQSBPMD8gOQBOYEbAS6A2cDvwNgBBkFDAa1BsYGQQZnBc4EawRdBKIEKQVmBYsFbQb5BnMH/giHCyUOSxBrEjwUahUbFpsWLhcnGE8ZTRogG9sb/xtcG3caXxm4GJ0YLxn1GfIZwhnWGH8WphO5EPMNfgtwCcgH0QViA+gA2/3M+vn4Z/jO+BT6EPw//XX8Qvqd9xT1GfP78dnxePKK8iDx0O6G7RzuYO9K8Tv0//Yb+Lb3kfYa9cfzMfMP9Er1t/X09GPzSPLp8SjyP/SV+LT8vv7P/kb+8vz9+kD6Pvug/SgAnAE9AbH/Ev44/cL9wv/tAuAFqQfDBwgG/gLh/wf+vf3S/h8AhwAdAOL+o/y1+qf6yPwx/3cANAEUAMH8uvjN9Xj01/Nb9O71WfdW93b1T/PO8qrzxvQb9lj4QfoF+iX42/XZ8zPyD/KI80z13PaC9xX3kvYS9z34Kfoi/d7/FwG1ALP/7v2m+7H6yPtn/aD+hf+7/zv/VP7C/eD9Pv+aAYID8QONA4QCowDq/u39Kv6V/ln/gQAEAVABTQGQAR8C7QKwA/YDUwSlBMAEkgSjBFYEYgMDA6QDNQXaBRkG+wXvBK8E7wTABmEIPQmzCbYJtAqpC2QMkgyxDl8T/Rn0IMMm1ivnLTMtzSlMJV8hzx2qGx0a2ReWFN0Q7A0bDPUKTAtkDB0NXwyjCXkGAQNc/7/7NPnw97r23/TD8kfx1/DL8sz2IfvZ/Uj+Ff1G+9j5j/jz9tv1tPYh+HT4qfeS9gf2kfYU+Wf88f62AN0BZwHP/jr74/ds9d/zTPM289PzWPUJ97n48vrD/bT/SwAsAK///f4Y/sL8v/oZ+aP4jvia+MP5VPwT//sB+gTEBlsGkAQRA00BKv/h/Jb6dfjX9tz1uPWg9nT4f/qF+/j7L/uZ+Tb4Xfey9ob1tPRd9AX0U/N28/r0tPfK+tD83v3k/RL9f/vm+On2CPYn9u/23PYV9nz0pfNe9CT2vvgS+5z8Z/wf+3z5ZPeB9R704fOn9Oj1a/fO91z3S/fh9z75C/sz/fL+2P6Z/ZH8y/tF++H6Wvu//Kv9/P26/Uf9b/1I/tf/gAHMAmsDdAOMAooB+QDpAO4BaQJSAzgEawSZA9YBLwGUARIDcAVECP0JQQvrC4wMEw7QEacZpiM3LpY2QTvKO9Q4/DLEK0wkyBxRFV4ODQlzBCYAtvyC+2v8iP9dAywGfAbwA3IAp/yM+XT3d/Zi9lX2GPai9lH4evut/1EElQiLCr8JZgY3Aqf9l/kY98728ff2+Fn6QPtc+7j6Bvts/Jr9h/7Y/kH+UvxY+rr5kfpM/Ij+4wCCA7MFWQfOCMQJMAp3CRQI3wUfA30AUv6Y/Jv79vvL/J39Tv5E/9UAgwJoBKQFZAVmBCgCs/8X/TP7gPrs+cD5Qfl++In2wPSI9FT2bPgW+eD4u/dE9kX0y/Gw79buke/R8bjzKPWF9f/1g/ev+Hr5v/lJ+iL6i/l/+D334fUI9kb4nfpp/Hj9Nf4m/gr9Mful+YD4R/j198f3oveA9rb1NPZQ+GH6B/yk/Q3/yf4T/UP6N/di9YL03vR39Wv2Xfd+9wb3r/bG9jT4yvrq/RIA7f+n/lX8XPog+Tv52fmy+mb8x/3u/cD8kPwB/XP9df7Z/wABFQFhAEQAdgFFBlAOjRelIZkquTEmNQc2wDWHMzovyScGHsYT6wpyBEQAiP7D/r3/7wDaAUIClQGdAPz/af8f/yz+L/2d+8v5tvhn+D/6Af7+AqwHmAowDHAM7wp+CFsFpgGR/cb5a/cY9if2bPfx+Jn6dfzY/U7+bP7L/ln+XvxZ+uf4Yvhg+OD4E/rR/E8BlQWjCA0KgQpFCUQHDQbmBJkD6wEKAP39ePtw+qD7Tv6GAmoGtAlrC3sMgQ3FDLEKwQdQBTcC2f3U+QP3ufU69Qj1e/VT9kf3EPdC9fPyIfEG8aPxzfJn85fzQvQe9Nb0jvbo+DX7Ifyd/Lb7UPlT9+H15fQk9PHzpvRX9Sz2JveR+AX6F/sX/MT8if1U/Qv8Nvo/+PP2f/YN92D44fnm+kX7kvtp/Dr97f3k/d79f/78/h3/wv1G/LH74PqG+rX6dPv0/Nf9jf4i/hL9AP1N/eH9uf2L/Vj9/PwO/cL8x/ye/IL88/xM/gkDjgoDFIkdZyUPK4sslSunKKAjgh3RFu8RBA3DB2UEWwKlAdgAfAAzATMCagMtAw8BBP59+/75a/kL+m36nPqH+wT9zv7UABMEhAcFCcYIVgdiBNv/IPut98L1bvV59ir4Uvln+ZL5cfrV+zj+GwBOANH+I/wt+t742fh3+lH8R/6mANQCfAQNBhwIFworCyMLMgp4CF4GDwXsA74DsQSxBqwJrwyPDi8OpAzUCjcJNAfWBGUC7f+z/ZX8bPy0/Nz8f/w4/I37qfrl+f/5O/pj+hr6tPnm+bH5VPlc+dn62/ws/oD+fv53/UL7/fiT9jn0gPLE8Yrwke+d7xvx7PIM9P/1WPi3+jj9If/h/1v/Hf0H+9T5JvlB+VX6N/zO/cT+GP/v/+b/0P9rAGcATwD9/pf9J/0r/a78FPw5/Af9if0h/X/9Wv5f/iv+H/8/AAQBhADr/x3/5vyB/IMAAgiREMEZQyKnKV4tFy6JLUoqaCXUHTIUugrIAtL8ffkM+GL3g/dP+CL6a/u7+5b8aP19/C37rflx+M32i/QR9Df1H/hn+9D+UAEnArUBlgCz/0L+ffxS+m/33vMv8TvvjO5c7zbxS/Si9gn4H/gC98v15fR59PH04fWr9gj3ZfcK+e37gv9CAzYIsQxKDzwPHA6iDlEPDxChDg8MqAkOBzsFoQPmApgC9QG8AWkBVwDh////cgCuAFEBQQIoAqIAbf7f/PP7xPxT/gMAAgEpAGX+ZPx3+p74cvcz94D32vYV9qX1bPVi9nv4rvsq/n3/vP+1/iv9pfta+8j7HPt5+W33rvXK9PTz+fM89cD3NfvM/ev+0f7v/Rb9i/1w/oT/CQHVAn0EqAQEBFcDHANFAyUDIQJVABv+H/yy+uz5bvq4+wb9yv3U/ocCUglqEY4aiiMZK/4vpzGuMTYu9CauHUQT/QnEAT77xfdj9iz2OPYY90X55PvC/T//rgAuAG7+rvz1+rr5Wfhw+LH6Qv2nAIAEPwjKCtIK+gnzCNAGDQMC/qD4dfMb75/sl+zZ7hbxQvMM9o/31/c790X3+vdn9wT26/NR8hLyB/KW8vX0ovkx/xoE7Ae7CpsM/wyrDM4KKQeKA/7+hvr79oP02/OO81H0wvZ6+i3/SQS4CFAL2AvJClIJ1wcLBjYDyP/c/RL+mP5p/pH9ivw3+xj5d/eL9pH1j/SX88jyQPKd8mj0Afcs+jn9gv8NAfAAcP+g/Ar6R/hM9qL1jfVc9ZH16/WK9nL3s/jp+pP9vP4R/yj/rv6Q/h7+zv1h/Uf8a/x6/Ej8jfyC/c3/awF/AlEDeAR7B4kMYBMvGx0k2yvMMKUzwDTANNUxXCuZIlYZmxB0CCICd/1e+pD4HPeb9lr3Q/ni+2D9wvwb/Cv8vfuj+g35X/mq+sj7+v4lA/0HZgwKD4QQKxAtDqEKAQYyARH92/l897H2k/ba9U/0/fLN8ubzAvZ1+FT60fps+237i/qu+oT7Uf2H/k//iAG5A+cFNAgTCm4LoAvsCegGswNP/2770fim9rf1xvQL9az2mfjK+lz8wP06/lf96fvn+d73VvbA9ErzZ/IZ8hbyD/Jr8hnzsvMT9B30zfPy8rLxf/AB8FXwrPDV8OHwY/HE8rT0+Pa8+PP5Xvv5/JL9k/x8+6r77fvc+vb5EPp5+/n8Df6g/3QAygHnAiUDBQMFAuMBkgG6AcABUwE8A0oGlQu5EfgXuR/uJSYq6StLLPsqayY1IXAbUhXyDo8ICwRhAen+hPzb+4P89P1m/kr+6v5V/v38Vvuf+uf6EfvS+/T8Vv4k/+3/PgDH/yUANgHYAggDjAHX/yz+Ef37+3z7M/xC/lwA0gGqAj8CKAIVAvcBDQHE/n39Zv3H/lAAwwHTA6wF9QYJBlMEPgJBAKX/hf6d/XL8sPp6+Q74ovap9lj5lPwh/g7+Q/0b/AL67/cx9wP4i/nk+l772vqv+mn79/tK+y360fmg+dP4Nvch9U/zKPLA8crxVPLV87z1q/YA98n3pfgJ+kT7wfut+yP67fh8+Cr4Fvko+8v9dP+i/50A+AEHAmgBaQDu/4H+lfwN/LL65/jY9yz7mwKHCgcUzB2oJtgr3S1CLjQrOia6H2YZWhN7DWMJmwWrATL+6ftr+pj5oPlk+i/77/rf+cL3SPVq84Ty0/JX9BD3jPr5/pQEwgk2DLMMvAytC0oJGAayAn7/FPzu+LT2lvRd80D1ePmB/fsA+gONBh0HHgWBA3ICMwJAAbP+qPwK++D6z/rg+Vv5AvoY/IH9/f1V/hn+ufyl+nT4JfaF86fxmPJ19Y74EPtd/Yr/rgB/AFT/G/7x/Pb75Ppw+c33IvZR9J/yQPFS8NHwWvJI9N319fcP+6r9Uf/t/xAAnf/C/vr8tvuM+2f72fz3/Yz+LP+K/yYA0gDtAYoC8wL0Ap8CswF4AMcAbgPGCP4ONBYaHicl8CnaKz8rEycvIQobARXoDrAI/gOgANr97/vY+yP9e/5IAA8DhQSOA60Buv9l/mr8v/os+8X8SP9xAUwDZAVTBmsGbgbeBqQHIQduBp0FOQP2/7z9kv4O/+T96P0fAPIDaAXqBfUGUgZEBW4DEwGS/tf7h/qs+YD45/fs+Nb6hft4+2X7vftO/H786/um+W328/Kj8BXwYPCk8f3zevfz+ZX6SfrF+QH6yvkG+WX4a/fZ9dTzw/E58ATwb/Eq8wH1bfdp+QH7E/va+Yv4IPce96r3fPh7+S36o/vj/O39If/v/yAA/f+B/3D+kv3X/M/7b/sw/SYBWAY3DFwTbhuQIewkvyZuJ7olryDmGXESIQs+Bf8AAv4p/Dz8Lf6c/x3/+v20/QT+Cf3s+jT58fdX9+L2GveH+IT64fzX/uIAtQJcBEwFkwQ6AzABiwB4AJX/F/+f/r7/3wFQBEsGEweDB6cGOwTW/zr6OfUL8j/xE/Kx88j18/dW+vj8S/+VArsFYgd6B+sF7wMHAbj9cvpZ+J/32vac9tj2mfeV+IH5gvn++Mf4a/gB+Cv3Yfbh9UP2jvdx+Rb8hP5V/+L+KP7o/Oj7+frG+uD65vrF+7/85/0Y/n3/BQLIA7AEigMBA9kCygIaA0ECJwFYAKwBuQU2C78RBBlmIBAmASlVKiIqfydxIhccPRZHEesMMwlABpcDMAHK/1H/xv5G/tT+Kf9E/nX8b/rN96705/IK81L0SfXR9tT4pvoo/ZcBYQc8C98MHwx3CloIIQUNAiH+1Ppr+GP2qvSq8pXxovC/7h7teu0f70Lw8fDl8QfzCfVM97b44fnk+qz8k/5IACsBXQA8/9P9hfxW+0z6j/mB+Kr2kvQG84ry2/It8xX0lfQb9Zf1dvbZ+Jj62vvN+8n6UfnF92/3Zvcb+eD6XfsT+yb6CPoo+o/6s/ol+8z8Kf5s/uX+YgBVAe0BngOfBzUNThJZF5YcyCB8IzklQiWUIzohAh85HQwaehUNET4NKAnWBIYCegFTABr/3/2H/eX90P5SACIBegBY/6z/cwHZAnYDnQOBBNcFZwZOBwcJyArpCnAJMgZ6AJ36Fvax8mzwZ+8x733v4+7H7ULuEPBO8hTzA/PB8jHyOvKs8gXzbPL98uz0/PZU+GP44fi8+T36u/m7+CP42/dX9w33n/fM+D/6wfo/+9v7KP0M/3r/t/7d/br+bAAIAaj/b/3L+x77C/vh+iH8Z/1r/rH/+wBoAqoDBgbpB+UIAAl7CGgI4gj9ClMNRw+AEfETsRY5Gbwa0BtsHCcbVRioFI0Rfg48C18JBAj9BucGrQfwB9AGLAVtA9IB1v8t/bz6wfkP+279pP8JAQ0C0QOpBYwHTQlQC3YNng0TDDkJjwSx/s754PZX9dj0RvTv8xH0JvTP8z7zLPMi80DywfAe8B3xePKS8knyHfP19C33MvnJ+hb8fPyC+x766ffv9Cvy0+/S7djsQu5U8Zj0RPep+Wb7CvwL/Ob7afz//Jv9sv0f/Sf8Gvt2+3X9IgC5AosF4wZmBqEE9QEaAMb+tv6j/u79qf0r/kcALgM+B/sLqRCYFOoWaBi+GQ4bIRuNGQQXEBT2EJgOFg0QDGML+QkBCEUGRAVMBOcCwwHdAPr/Xf8S/yP+h/0H/mv/KgLaBCwG1gX8BGgE2gKTALT9cvqw91b1RvSU9FH1GfYb9v70rvN584n0C/UH8+7vr+6H7xbxMvI789r0cvbl9xT5i/mv+UH6Qvph+Kr1vfNs8yD10/eO+TD6avrC+i77Xvu0+7L8Ov7g/pT+YP4z/xYASgAFAfoB4gMCBkAHOgfRBfcEjgNwAjECiwHJAbQC9ATaBqUHWAmjC/sOpxEoE/UUXBZIF1cXgxYDFWYTxBLxETcQCw7uC8IKSgrbCgsMQgwACzcJtgewBUUDMQLgAhIE+gVQCE4K3ArwCYsIfgasBEwCTwCj/nj7cvgq9sr0SvM58sXyOvS99RH2xvWG9br0+PJR8UvwZvCh8a/yD/Nu8qfxKPGA8cPx1/DN7+jube5U7v3ubO9A723vce+H78fwtPNq9+b6nvxi/FD7jPpm+sf6S/zy/e//2gF0AhYCigHUAL7/0v43/xkBjAIgA5YCzQHyAAUA6/8YAOoBDgU0CVINhRBdE+4UVRXOFKwU8xRQFVoV4RRXFFYS5A8nDs8MDAvjCCcH0gXSBLEDNgMsA10CFgC3/dj8Q/02/1kBBQMZA5MBRgBU/53+8P3E/UX97vsb+uL44fiV+Jj4C/kw+RT5+fh0+a75D/kH+Af38vWF9L/zTPSy9Xr35Pin+Ar3ffXI9CT1w/Wm9gD4DPnW+bX6BPur+hv6Wfmn+Jb4Rfr6/Hf/rgAkAXYBXQEvArcDEAaBB44HlgbAAyQBjv9tAAkCNgNhBaEGgAeXCFQKtgw4DjoP5g9WEHoQwxBrEjsUExUtFUkUSRJ1DzwNygsYC5ELiQx7DegMXgs6CakGfQQSAr4AQAAwAGEAJQDq/8b/cv8L/kT8V/uH+038Uv12/TL8Yfq/+CD40Pd19yr3dvfR94/3t/ZW9d/z1vH978bu9+6D8MTx4/Ha8H7v/+2F7Grryuvo7ZTwjfJw8xj0afU793f4gvlp+i36j/hb9//3fPk++7H8sP0L/hf+Qf4k/2UBrAOPBLcD2gI0Ar8BkAG0AfkDiAacB9sHLAiXCMkICAkpCnsLlgtDCwUKXwkVCYgI/gfoBp4HXgkrC5cL7gpzCiEJoAdxBkMG7QUcBh0HHQgtCVgJSAp4C9YLMAvDCTUIsQWAA+sCcwOLAvgAaAAx/2r9z/tL/Gf9pf26/f38QfxU+0z7Gfzb/Jf9Rf0l/IT6lvkD+rL6dPqx+er4Mfj593r3p/a/9f/1pPYE9mz1MPWI9ZL1YPad+Mz5fPlE+MD3z/dT+Er5ePlw+Sn6gPs7/DH9Yv9pAZgBmwDu/5n/gv9N/2L/AAAKAd0BswKMBEIGHgchCNkIuwdRBncGKAgICoUKjwoKCqIJVQuWDR4PHhBSEO4OoAtPCOYGWgcRCMwI3AlrCvYJawj4BrIFqATRA6ACiwJNAnMCwwO7A3oDJgKh/5r9X/uc+mf7ivxf/Wf9Yf3l/Er75Pll+n370/tW/Or8Ivxq+r/5s/jx9RP0N/Q/9bT1Bfb29sb2UPX88xDzk/LJ8nz08fa1+Fv67Pvd/M38V/yo/Ev9zv3I/Wr90vy5/LL96f7g/0kADwEoAVMAjv+Z/6kAhQBbAEAABQBRAZwCrgPEBLQERQOfASsBIQIEA94DbwU5Bk4GhQbMBrgGggZXBtUFCgbhBskG7gUTBmcG2AWgBKsDcwQuBcMFjQYXB8YHCQfxBBMCav/Y/YX9If5e/mL/fgGQA0cEHwPpAK39W/sX+6b7B/wZ/Ur/9/+o/r78pfuB+6j7F/xO+3/6Gfvv+mD5ovfJ9m33hfg7+Sb6bPvz/K/9H/3b+3X6NfpE+1v9qv9WAXkC9gJqAtIAC//V/Tv+5v5r/zwAl//3/wcCtwOLBB4ETgNUAl0C3AOWBRkGYAVrBDUC7P/e/8wCfAY9COMIqQh2B60FVwScAxADMQSHBbAEQgOZA3kE6gMYA4MCCQG2/77/2f9i/x3/Z/+M/xP/Ov5y/Tz+CACkALH/av7R/Xv9dP3e/Vv+0P7B/6wAzADBANv/If/n/pL9S/wv+6r6aPuw/DP+cf6u/Fz6kPjx9rL2qPjk+lL8Bv1O/cf8Svzo/Iz95/3a/Vr+W/8e/yP+fvxl+kv5gPmy+m38OP54APoChwNPAT3+Lvyw+/L8MP+RAbsDCQU7BVgEXwMXAmAB6gLxA4MCfQC7AHECyQMhBIwC9QCbALsB3wIVBMEGHQj1B3gGFgRdAvQBqgMoBisIxAhHCZEJIAePA2IBYwAM/yb/3gBQAboA5f9o/ub7avp0+zL82vvG/Ob9Wv7s/jf+bfyj+h36XPtJ/bv/LgKxAy8DagF3/3795fsT+8f7lf3b/6MAUv86/cT6Uvl2+Y77YP4hAAMBEwE+AOv91Psf/P/96/9GAUQCBwLJAMP/Kv8A/xT/nv+oAHMBlAFcARwBbABp/2//wwDHAX8BJgHGAb4CYwMRAz0CEwIuAlUCXwLiAYUB1QA2APMAdQECAd8AtAGBAqUCZgOlAy0CkgD6/2L/SP5G/hn/g//PAG0DTAR4A7sD0QPnASz/Hv45/mr9y/zr/Wn/Lv84/r79Cf33+8H7Hfy/+x/7ffpW+ln7Zv3U/tj+7P59/kn9jvwC/dv96v12/dH8qvsU+of5ofrm/Pz+yf84/zP+Rf7r/aD8WfwW/j8AwwEBA6cC3gFsAaMBFwLjAW8CDAPjAyUE0APrAzUEUAVtBbMEcwTKBA0FYgSEAhIAnv8vADoBAAOCBMsF6AWpBN0CUwKHAjACfAJ4A7UDcwNFBLkEJgTCAwME/AMHA7QCPwIMAR0A4f/x/2X/t/6H/gj/Zv/+/l7+av7q/of+z/yI+yD8Dv35/Tj+6/wn+xv6hvpd+6X8Vv26/D78tPvu+/r82P0//t79wfyx+3/7Cvzt/H/9hv1C/Qb9ufw+/eD+S/9U/s39Df6V/Rn86/pv+x39Xv10/ZX+0v+qAKMAfgCy/4/+qP5r/wAAawDeAOEA4f8i/5T/xwBtA/gFTgbhBJQCmABX/3P/CAELAxYDZwFQAXwB5QCmAEwBNQJBAnECqQIlA6QDWwSTBe4EBQONAQIB8QBUAY4CSgNyA9kCQAEF/7z9wP4BAH0B+gK8Av8BMQFCAHz/3f6k/kL+Ev6O/k8AigPbBOQCpAC1/2f/j/+1AEoB3AApASwBgQDn/wr/Y/4h/pv+KP99/h39+/vV+1/8VP2D/nr/UgA+AGL/Rv5h/RL+Av+9/tP+9P6O/Tn8V/w9/Lj75fxM/v/9Wf7z/vz+bP/V/r7+0f/UALUCqwI3AJ/+3f2X/db93v6EAIEBygH5AUUBN/9F/mH/7f+g/3QAAQEmANz/Bf+L/Zv92v4YARoD3AN4BGIEMwLK/7X/WQCTAKUBgwKeAtMDCQVPBE0Cyf8k/hf+ff8rAa4BSwGN/2r9hPwy/eD+4v7Z/jgCQAVQBZsEegI9/nr6iPp2/toCFgaJBosD2f9X/bP8gP2Y/n7/VgBIAToBUf+y/Db7Yfol+bX5Af1zANACUgMLAsIArf9v/n/9dP4lADsAewBvARwCGQHU/o3+Kf6h/K39KACwAYQC5wFEAPH+rP33/dz/2v+k/tT+RP/O/0EBDQGf/xQAUwGGAgkDjAHj/mr9+P6VAEIBEgI/AWsA4//C/oj+Rv/RAAgCcAKMAcz/vP8gAML/TgCDAUgBhgBsACsAKgHJAZoAOADW/yYAnAIOA38AHP+2/kX+Yf95AIkA/ACpAjsDLgEPARsCCgEZADD/hf0G/Uf/HwFsAE4AMwCV/8j/DAA/AIgAfAFoAVj/1/5j/+r9fPxd/D/7sPvW/2cCpwEyAfQALf5s+4n9TwEpAd3/CwKJAi4A1ADa/4X7E/m2+50C9gQJAj//Fv35+yT7+PuW/tABAQQsAiwBUQJ6AIX9fPul+GL5gAEBCJYHeQUqAxoAdP1J++j7SgF2BYQEyAEqAD0BXQKeAmsCdP9x/sL/7QBKAtz/iv58/7f8JfpT/d0DhAUkA3ACBgHH/kr+mv/aAtAC6v3p/b0DQwQBAOz/sv9L+w38ngJOBLABl/6e/Ez8WvzO/2wBC//v/d7/uASwBaMBIP3x+pf88P1bALsD2QPUAZz+HP6X/Qr83P4RAJj9hv6PApcDxQHz/u/7r/vp/rAC2AGF/5P/Tv5u/Yv+zP7r/uQA5gEmABUBTwIJ/wX+l/+1/x3+Ff8NBCgFyQHo/fz87v6gAAIA0f0Y/6UChgNOAqsBggDl//j/4f3M/RsB3wHgAlQEgwHC/WH85v6oALD/5P9gAdMBbAG4A6sEsABK/bT9Tv/Z/8cBRwM9AKr86Pvt/6IFrwUZAZr95v2j/kb/jP7S/B8AigKIAIgAkgQVBH3/mgAs/4T78vtX/pL/rvsE/UoEUQX8AT7/mf4j/1n9nP2UAL4A6P2B+8H8nf8CBDsE7Pyn+P394QW4Ba0Bgv78+t/6AABTA+gAxP5O/Wn73fswBOsJ2P/6+UT+kPuc+YEC8gbNAOD+AgNcAZL+OgK3AUX9wv/CAoL/Sv+uAuYDBQJu/AH7g/8qBR4GQAN5AmD/evzd+1D9Xv9jAWIEtgJrAs0EcAE2/T/8iPvi+rT7aQWeDq8H6f2b+zv9wv1t/hP/qPog+9QDHwc9Atj+Fvwn+HH7awFfAy8GXARa/Gn8AwFFATn/Cfzy/Cz/hgBDAmQBFP/I+K7zsfmeAZgCHQHbAmUFKwG6/LD9PwBtALD9cPzb/n8BOwK2AH771fmM/9sGHAXiAXQEIQDI/Pn+Wv5d/lL+0fyN/QgA0gUQBxYAXP1HAKsBh//nAE4DtAH2AiYFyQCW+lH+OQb4BOX/jALJBkQDj/7t/TH9mPtS/+wCUwVtCSYHdABJ+2z7pP3b/UoAZAZNCCcCWv7M/TX6PPqW/Q0APgIvA/UBrv3j/zME1v+V+CT7OgNQATP9QP+r/2H9C/2Q9nv3MQMTBfP/ZQFlCQsB/PS7+P7+/wOuAdT4TfeN/aMDkwHW/mgCyP9J9z73EQLpBt0EdAGj+nv2bPi6ANoHJgu/A8D5OP2hAMwD/AbKArr8A/h++goB8AkaDnIBbfY59pL6TgDkCOkPhwfO+Kv2/fw+AfEH/whPAen9VwECA1kEzwZdAzj9k/dq/DAGHQrXCAoBfPeG9rEC7AaI/xn9hgE1AwL9SP3gBfoGV/6U+f/7rv3/ANYFEwNN/QoAyAFS/Br7r/98ALD8Lf5kAPX+pf/AAh//5vZY/MIE4QFw/V37o/vZ/UoDEgUd+2X4t/tu+iL/cAZfBO78xfnU+J7+BAYj/7f06vx5Bk4BQf+BA1gFpf7A+Ib57PwXAxwCfPwEAOoF0gRR/zX+5wPuAjL+uADpBkkEmvuU/ocC0vvU+XIARQJq/+AAuQHOAAsEMQWoA4EAafvN+vH9HQWDCikEHfw3/rEEEQPi+4L9nwStAb36LgCPCR0I0wDm+uH2rPgvAP8Byf+wAjYBHfv4+/MDpwbbAab/fv62+fv3dgHfBhUAbvxrAakCQ/zW/Dj/dP2bACoFRQVYAc3+7vnE8gP5LwNyAvL+DwIlB0ECfPyj/jX8rPdc/PkCpgHB/Kb/3wTYA8/+YgDoBbr8t/Ih+n0JSQw+BbD+O/aB9Ez+swk6BlD8H/qOAHoKkwogARn2OPXZ/Cn+vv5oBFwI9QZ5/7/7TP7H/J762v4/BCcCzwA1B0gET/hj+qMH/QWW92v4LAPMCPcLCwpd/zXzwfP/+sEBMghlBkb+2Pqx/wQEQAOxAKD7Qvis+f0AQArNB13/jP0I/tz22PdrA18Dif85AXkBQgD7BVgGw/6D+4X43vb6/QwJXwiIBEn/UfX69UP+fAU3BYoA6//L/SH71v0iBAIIKgLs993zi/iUA80KOAd9/7v8yf7LAZECcP80/a/7qP/jA7UD1ARAAUX+a/ev9kYD0wukBDj29Pt3B2AGeQErAdH94fc5/cQGewl6BV8CGv1597r4AwHDBUYB5wA7AL79iAAnCIwJOf6n9sr1rfwOBOIHRAv3BoP8ofRl/JUFkAWy/ir6B/5B/xX/8QMJCDP9FPKN9bMAogUBA6IBCAB2/+P9Sf0xAEL/T/on+wkCqwpQC44BJPyR+Mj5tfwB/goE5QKG/xD8rQCUBbQAw/6I+4T7gPyXARACb/9T/qz4NP2ABYUJUADv9wL+6wSdCUsJtwTN+bPx3fppCIUJ/wAl+/r7+v0hAWsFpwTl//f9R/95+3f85gUGBAH/mwDtA8kAHfvX/aL/RAENAvYC0ADY+BX9Mwg8BZb2xPT8/H//ogVyCxYEK/zk+br4+fw7BlQL7gDA/O8Ax/v2+58D8Adl/4H3pfxVAS4AFwAwAlMAif+H/un/AQWv/wb30fZA/2AGkQYyBwAEVPnW8F75Gwp0DPcENv52/AD8gf3CAl8BUP+f/NT7jwNKDNoJ6fg589v5nv2P/8IFwAgR/qz7ZwHx/9kBvwOQ+x33vP/6BNUFrgocAPPvPfbABkQJNQHe/gj/P/z7/vUHNAhHAGv5OPYC98n9MQpdDLMCYgATASj4V/fdAcECSf6g/y8Drv8f/bMGHgbI+xv2C/d2/5MFRQrmBe79wP3u+078Vf7sACIDsgAe/c/9uQZyCLkA4voJ97/0GvzPDeUPJf8t+SQDmwRD/I/74f7H9zX2lQV5DHUGbgIrAYX6K/ks/xD9ZP5dA1X/tfubAC4IEgfAASL+VvWY+gsNXwak9nr+LwqGAqj6CgE2/yP2efyPChcHPfspANYH1P5B9gj62/2L//8BowTwBnYEH/8b+vb59AF9ACf+jQUYA737xvt6AFUCLQG//zP/bfyM/4YFAgKVAnUA+/gg92L7hgFsAvoCMwaaBhX+MPkRAKoBbP7//LH6MP3YBM4JgQXM/qT9J/uA9az70QWzAPb/YQFVATQDCwGaAzD9SvPT+eAIowmdACsADAMB/qb6lAC2AMUAGgIQ/lL9VwO4BWP/Pvjc+yT+BfsRBeEK3AKL/bMBDQI++0750v02/8z7E/+CCEsKUQEV/0793fhq+tEDsAnl/9b9jgLwA7kBtvss+gr7rv2YA/sDif8HAxcG0f+0+679tP1I/Ib7KAS6Bx7/jgEPA5v9NfzTAN0AOvvP+0ABnwSeBJEFYAQi+4L1Avzm/uMBTQSLAlr+dfyPBeQEkPpj+5MBdP0y+08EAggV/bb4UQAOAOX95AXqCKL9Tv0NAIv50vk4A6kKmAKO+qb8S/0LAXEIIwirAd/6MfPO9ZYEjQeyBM8Ffv6k9a77dQ1tDCf+IveP8dH2RgYZEM0JKPvx90j9Pv1IAfMGkgAB/NT+PAGf/IYA7wnT/x73nP59BCcBbwGQAGn7ggM6B4D+bPij+uf/vvvd/IkGsggLA1MA0f6F+en76wAC/7v8oAKkAin+1wYIBAv2RPmVBS0Ex/2wAJkASQBm/eH+OwesAb38Mv4zAU7/Av58APn+CAW2A3n5R/m3+8b5egIRCg4Ejvzf+fYCZgak/9L69Pp8AEr/UAGOBh8C3P9Y/pb7kPrQBQAMwP3C9aL77QaAA+39uAKkBHEAiPvsAKoByP6b+yn9iwSqAQcAuAJVAsD8gf0NBI8AsfiY/VgG+QDh/K3/IgFgAtkEWwNY+Wz5lv9L/24HVggXAXn8QPpe/Yb/nv76/sgHLwKg+hcAuAQmBE/9Rvw09wr4tQENCh8JfPoZ+sYE/AJk/RX9kvvF+w4AIQVFBysG3P+F++7/kP3k9Z8AUQnd/lz1mfp3Da0LYP00+sv7Uvq1/j8KIAFV+PD98/8n/lMCtQWB/5z8cgGIA/b4vfq9DAMJ9PeS91T+qP63AcsGNAOl/MX9IghrCtP/fPut+tT5PfudAK0DYgQJB0gA6vtZ/uAD4wXY+5v2Vvr0/CMD8QcuA4QAYP9p/br7EwEUBSD++ADEAXv8KAHVAR4AdP/9AKwChvv7/moGlwbP/dzwVvj7AZoASQUMBQ39Ev0BAuwEgf8S94j04PwIBYEDXAkdCFT7IP4kA2v9+PiN+db74v2xBroJHAZtA3b5uvkRASoBRgUlAUz0//rSB4IFNv9gA5ADQfc6+fYECAmoBSL7lvio/BL78wMyCaT85/kb/kkBfgfvA9L/HQI4+wL3ePyxA+MJhgfQ/Cb4gwGHAtz6WQHfBlYBWvtR9zgD7gxS/uv0+vpdAZcDcQHLALsHOwdA+Un3hwLRA/7/dv2u+dD/KQkBBnMCCQP5+o/1mPw4A2MCsQAoA8n/u/6gB1YHSfyJ8mf4cgWSALT9FAPD/3YDOgR8/SP6EPo/AUP+xvv5CFkIz//DAP38Pvcp+QsBwgHAAmsHKv+9+7UB8P0o/oYDrP3n+sf/ngDN/34B6v++/Sr9wgExB/oAjf07/X/6kP/0BVsGCgID+9n6T/sw/28JYwN2/VoFAQGW+J79lQHk/3gDoAZi/Ir7nwYdAbD3kf5mBngAnPy2AP0DuAJnACMBlP39/NcFYwbp9ufv+/6dCe0GnAfXBlH/G/5U/hT2Cvo+Aqf+jQP7BCcAeARmAy/94/sZ/N376P4WBTUBf/t5AJgBKwUJB0b9avck96392wOcAev/1AEhAPj3ivz6BnYBnPto+mP+xwlNCM79evhY9cD4SAJSChkLywBM+379VPyF/qYDkgS//Z37cAFGBbAG/ACV+Dz23/zsB+4J9gBO/Iz/vv7FACEFXv9nBnUKt/dZ8zb6gALjCZ0EXQPPAMT45v0xA4ECBADfANwC4//DBB8BCfq7/8701PF7CWgMSAZcBbz7lvZ2+IcB5Qbz/vn5lfve+Xn8DQffBsQAcAFe/s/42fgb/6z/M/31A6oGtQOHA3wCxvfs8sn9BwMUAsL/jgKmCAgEK/+6+4X3R//SBzcDGv+O/ev5qf3/BZMFS/+l/gz8FfzbBRkHqQOlARL97vrH+2wCTAaQ/k/5Y/75A1cIzQfn/mD1ifPp/T0HrAh2A1f/lv/rAcQHuP+a+3b/1fvk/7T/igElBXcAov/Y/FoAHATXAVABt/01/oP9Pfmq/A0DKgRmA/D+dPw8AtMErALV/BT9YP3j9//6hP7sAvMDvf+7AB/++P1DACj9x/ua/rgEzQdiBsYE1gG8+vb0wfqsA2IAVgBvB0wDAP/L/eT78fjU9rD/tgTnAyMDn/4TADMDngHr+4v2V/1tAy7/ewIACDAF3QOX/q75J/8rAccAYQMv/wL+jAN4AND/vQKs/3wBsQSWA3MBAABL/cr9bwNw/Q/45f63AbcD0gMF/8D+cP7/+6L80vs7+r/8MQAOAtMEEAjwBNv/hvzG9iz7gAL5AT8JiQdM+yz7FPwl/3kD8QM6Atz80f7wAIIDdAXuAf8B//qZ+OD87P2YAoX/xvk3+k4EURAAC1v+yPb88kr0PPxRAzsGxQHb+9H/iwOPBbwD7QBn/LP1FP9IBnEG+gUx/T77eP5YAosHmgKh/H4B0gLmAAICg//w/t/9ffzgAGgC6AH6BZoCqPpi/e/6LfZv+6r9jf1QAuYI/gOM/eP+e/8PASr79Pfc+w8ASwlMDSQKaAGs+vL67Pvj/nUBtf8K/VoAOAR/BJAEvQLb/fP6qP0V/14CIAX2/sv38vhqAYsEEwUVAyYALAAL+fb64/3s+en+B//V/acBAQPdAgYF6wWH/2v6g/qq/aD+fgFZBkkDjwLLA8wB7wBj/rr67/og/Sz/6ALfAnMCcgAQ+aL4iPvr/5wIMQmZAjv/jAAS/yf7F/5h/8v7dPslATEH6wOVA5sHYgMhAcQBgfwu+br9fQCC/W4A1AVcBRsDnwNtAFH5tv3GAtsB3QGZAMX/Hvwc/GEBAwJ4An0Cdv+G/K754vgW+C36mf+JAq4GdwhdBIAAhv2C+1f7LPzu/H38Qf3XAc0HbQfGA3ECmP4a/Pv7APsH/BL/ZgJHA8oCfwOkAL/5evhn+5P+iwPBB3IJpQSQ/wz9r/kQ+lL74frN+yEDxAk7CQYGIwHO/Q/8ZPze/WT+/PzO/dMDFAYQBFMBpv9T/r78xv5nAkgEIgJXAEgApv3X/MT9vP48/xkAPgRnBQUCSgDf/pn6r/k3/E/92//4BFEH1wUVBisEGQAE/dX5b/n3+8z+pQL9BhwI5wVXAdD+bvsx96j4Bv2vAPECvAPmAQQAav+A/SP8Pv2H/ggB6wPyA8wCtwBz/vX8NPxz/Ef8Wv0bAD4CEQPSAucAX/30+7n9OQC3AUIDFgQUBJcDIwJAAQH/c/xS+2f80v8fAmcCdQAt/mz9L/23/UP/wAB0ABYAvwBGALT9d/xX/98A8gFiBRkGdgMGAm0BOP+V/kIAZAHmAJ8A1ACrAI3/Av97AJAA9wA8AkQC//8c/z0AU/9B/+/+H/04+zn8jP6i/y4CHQSEAxkBZf4h/Db6Vvr++/H9awBoAiYECgVGBIsBe//n/kj9jPxP/lYBlgGHAQMDhQINAVT/i/+y/3r+Lf58/Z/+gQBj/4j9/f1v/tH9Gv+hAFUB3QBDAOQBpwFDANv/pP+G/zMAngG2AFoArwDo//T/hAEmBDkF6QUCBQIBG/4W/Yf8TfuO+7j92v+cAUUDWwSZAuf+PfwE/Hf7b/ys/60AVAESApICowLD//z72fhl+sP+CAE+BMgDuAAB//r+VgBXAAoBYAGx/5z+N/9B/+D/qQEJA74CQAH0/6j+aP1O/MX91P80AYQBUf/w/NL7/vww/xMCjwPJApYCqgIpA2kB+P5j/Qz8zfz8/Q8BxwOnBWgHdwVZAs7/sP1a+4P7Ff5P/3ICGAb6BbADUwHA/dX7CP21/Z7+SgBRAbL/7P0w/tv9tfwU/bX/+gByAZoDIQRsAmUAD/+W/uX98v6dAFQAzf/X/+4A1QAAAZAAefzq+wX+VAAHAjMD/AT/AukA4ABUASsCVAKgAsIAz/z/+vP5GPut/Vf/bACA/1r/af4b/U/95vy0+577/v5BAjwE1ARRA5ACXAKmA4IDyQE3AO79Cf3R+zP9m/5V/p3/iv9Y/2IASwIPAjQAmf99/9b///+2/8L9C/wY/Z7/FQLTAjACNgFeAGgA7ABeAP7/Jf+v/PH7of1FAfsDoAT0BC8F7AMhAaoAbwCq/nj96f1n/+H/t//T/+3/D/8D/m/+YAAAAx4ErAOgAyECOv8o/gn/wP6R/Z/8vfvd/eMA+wKAA0sBdf9k/Xf7RfwG/10AgP/5/0sAoP9TAFoBDwF1ANIBRQPiBI4F1AI2/rz7PP5P/7D+v/6A/Ov6s/wTAD8DBAU5A6j+Jvvi+cv6lf4HAqQCfQI1AmoCCwNMAtEA7v5j/Jf67PvD/k8AkgLsA0QDnANBBCYDsADV/ZX9ZgCNA14FDgSXAMX8Vvud+wP8VP3n/uQAqwHsAFkA8P99/Zz6u/qT/NwApQVKCAkJYQbvAm0AQP5F/Af7/PoK/M/9qf7UAFgDnwMdAgYAYf52/Ur/LgCh/wwBZQLpAgACxQAqAO/+Tv6d/q7/DgCgADsC3QCc/bT6t/nc+nH8p/5KAD0CYAS1BCgExwLHAEn/av57/ub/DQElATwB4f9c/nj+Zf/M/x0AjwHSAYwBLQFGAGj/qP7C/cX8cf1f/sL/+wD6/6H+0P0G/iX+gf5w/8b+/v6MALkAXQD7AH4BZwFQALv/OQG3AcsB2QIUBOgCWwCu/z7+RP0b/iUAhgEYAUEBOAEiAvkC3QE3AboA4/8P/pj8XfwH/P/85P3o/Yv+mv6l/uH/JQGBATAB7gCGAIj/mv3t/O/9vv6sAGEDSgbIBlUENQK3ANX/tP3r+xj8yfxy/XX+x/9D/+T+u/65/vD/gQGeAqgBaAGKAIf+t/1C/bX9Cv0P/cH/wAIpBNQExgVwA7r/Vf2f+zH8OP7g/0IB9AFqAq8C/wHZAFP/cf+n/9T+hP8h/9v9iP1F/7YCpAM1A+kCfwHl/nj8Xv3F/k7+L/+zAHcCEANmAjEBY/74/AP8Wv0IANQAUAK1AsACjwGmAPAAZf+C/r/+5v9fAFYBxQEQAa4Aif54/af8gf2c/38BtQOGA/IDUALD/zf+Vfy4/C/9nv4yAHYBKAKFAf8BWgDA/Zj8OPzZ/Nn8N/5QARIDbgLgADAA5P0Q+xD8c/5U/wQAIQENAWgAFwAh/+b+qf/AALsBGALiAYMBqwBF/xr/uP8sAPYA6QIZBKQEJAWSA+4ABv2A+oH6xvvh/d3/AwPxA+ECRAHZ/xz/2v2g//MBvwLzAfgAzwD5/pH9Mf3G/rUAJgLzA6sEPQReAZb+DPxU+n76Y/s1/rf/Vv/h/nz/gQD5/8T/3/+U/6n/b//2/kX+o/zE+1X9df+JAOoBUQNwAtoAhAA1/+H8Qfza/BL9ff37/lABlwJ8AskAHf/j/sr+4//MAFcBAQLhAe4AK/+U/gD+gfy1++b7F/2+/hsAywDHAVYC4AJQBMoEIwO7ABMB0AA3/zX/7/5J/0z/MgAuARwA5/+a/m/+df7Z/gwBrQB4Ae0B8QBN/xX+qP6y/SH+Pf9/ALQB2AFcAdP/cv4Y/Bn8n/xc/tQBdwSMB5YIGAxxDqQQbRM5E98TpREdEfsPhA2zCksFDwKu/S/79Pi897f4nvnW/HD/YALJAscCoAG0/lb9O/zk/cL+xv8dABIA7QDT/zYArP9G/5/+qPwC/Ef8vf2U/In6avnC93v1i/R79lz4Dfme+ln9TP31+476LPnV9kz0AvSB9L33o/ml+lz8YP3a/e38R/7f/q7++v6J/qz+ov2p/B78gvu1+4f8c/6d/0sA6wH8AVwBggGFAeQA7wBrAkcDlANyBD8EugKcATMAmf4a/S/8J/yL/F798/3S/m7/Kv8m/7z+wP1K/qP/IAEKAsoBKAHI/+r+lf2Q/D/8GPyN/df+i//I/57/S/6G/G770fof/O7+zwFjAy8F8QUXBd4E3gKDAKn/1gCTAv4CfQSTBB4EPgPHASQCtACTAPkASgKWBC4GYAjvBkAGUwRsApIBUwAlAYEAVgLcAkYDJgN2AaEC+wNcC6IVrSB6Kucw4zUgNckzUDBrKVghlxYyC63/W/jL8x/xMPHd8Wz0rfeL+9r+4AAvAEH+lf3b/IL9E/9iAZUCYgOwBK0FaQflBxwHAgW8An0AXP5p/BL5k/RM8EDtoOs77VLwp/Pl9uf55vta/Jb7BPmH9iH0B/MB9AH4m/ycAHADgAOxAkcA9P0M+5D59PgN+ND34vao93L4F/ja9wX6Wv1B/xwBcgKZAikCvwAT/wX+XP2o/D/8KfxQ+w/6iPdj9TD0tvMV9Fv1VvZZ9Xj00vKj8SXyQvQp9pL3Vvms+Zb5ifly+Pn1S/Ty8+j04vYr+kv9Uv8eAC//Kv7C+wv6A/nn+A37xv0fAP4AdwGRAID+Qf0z/P77nv2E/w4C9ANOBDIDMgFDAPT+Yf/uACED7QUQB+wHKQcRBb0CiQB5/oH7w/qH+5j7o/z4/BL9B/3I/S7/GgAKAkoCCwO0AwwEUgX9BaoGTwb1BXYFNgWUBV8FdAR6A20CqQL2AbkBKAPUA7oEFwRDBZYEwAP6A1EGZQ54GDQm7TAdObY8XTy5OSYzsitKIJIUBQg1/mn3xPLy7wftzOx87XbwaPSE+Qf9rf4aADEAyf+Y/i/+mvwd+3T6u/t6/xoEhgjqCdEJmgfgA43/F/uQ95P0dPMQ8xD0nvXf9YL1NfVC9hP4vvqR/VL/0v/s/6IAcAFOAvcC5QIDAkABrQBnAA0A/f5X/Rb7LPnB90H3UPe699X3/feP+Vj7mPyP/bz+7f6p/vT+9f41/uH9Hv6R/WT9cv2Y/Nz69/m7+Fn2w/TP85/zN/Oq89v0sfUA97z45Ppw+677Avw2+zD7QPsT+w36Hfka+E72Nfak9rn3T/kM+4b87f2MAGEBDAF4ADX/jP3l+1P78frw+i/78fta/Fb7efvw/Cv9wvy//b3+tP5G/pX+sf/LAIUCqwM3BEoDmgKhApkBPgKOAk8CvQBp/53/of4r/mT9F/01/Er7pvsy/Lv87/xH/QT+7f5z//IAxQBMAMH/Ov+t/+r/nQErAqgCcQHi/mP90Ps2+4T8pv46ARsEnQZOCKMJrxFVHVcqADWQPJ9CfUKlQNk5qjBGJAMVxgX79kLuq+gg5qHlG+g/7EDxr/Yx+939ZP5F//X/JgKtAugCEQJxAM7/YP9WASUDBga5B5IJWAtiCqMHTAOs/nL4+vOd8UzxGvKi80v2BfkJ/SMAVwOeBKAEhQPCAdYBawEuAu8BcgGlAN0AtQNNBY4GkgZ3BpUFggNYAsgA3/4e/O74rvbD9Qf2pPXX9OX01fUT+HD6WPyQ/nYAYwESAo8BeP8H/CH4svSD8gHzn/N09Ev0+/Ij8oLxK/KF8l3zE/Tq9Az2n/bM9sz18fT/857zS/Ns80b0FPUi9ur2r/g++hT7aPsp+037ZPtf/Bf+5f77/rn+pf7c/ZT8Xfwz/ED8JfzD/F/+9f9KAU8BzQB6/4b+Z/7P/iD/X/94AHgAuQD1AM0AOQBY/83+gP2t/UP9KPxL+6v5xPjO+AT6lfoO/LT9qf4iAKcBTALbAaAB1f/2/mb+of6i/6oAwAGYAUgCeAH0AU4CSwE9/9H9nf2Y/bP/tgB+AtQDPgp0FlQmczXBP59Ir0olSnxF3j3sMrIjkhNpApD2bO6X6pno+Odg6hPv+POI90D7YPtB+a/3oflR+9v7efwK/Cf8HvzP/sECDwfeCtsOaBKWE8cT3RHUDCkFUf7T91PzLfHZ8ETyyPSK+Lf7jv/JAZQC0AFCAOD+iv0u/eL8YP0K/Wv9pP5tAC4CWwPyA7YDuwR7BqsHOwcwBn4DLgA+/VT7u/oF+9n7Uvs1/PT9t/9pACv/yv3Q/Hr73/ii9nD1M/RR83LzT/Ts9nv4d/j496H2c/Rs8U/wmPAs8uXzo/QS9fL09vTE9IX0Z/RN9G707PQD9lL3YPhw+Rr6VPrU+h/8v/wo/M/7EvzP/MT9E/90/3X+l/y/+iX5RviE+BX6Z/xr/vcAngJsA4ED7QPCBHkFggbMBvkGsQY/BSIDGQHu/kv8Z/nZ9+P2n/bw9jv2TPaj9s72Ofe798L3vPYo9kP2FPfu+SD8FP4VAJAA3AFTApgD/wM9BGIF1wTrBWEFtAWFBawEFQROArgBXP+M/hr9Evx4+0n8Pv5uAu8OOh82MNk71UU/TONOs023Rp4+2DBBId8QVgM1+M7uxegz5Fjli+n77tzzf/c0+Nn2WfY39234yfe89x74ufk7+3T+ZAN4B08LHw6bEQ0TIRIEDwoLcwdhA9j/ifzD+b32WfQd8xT09PXY91f5tvlw+eL3Mvd/9uv14/Wq9qn4k/p8/Fr+RgGOBE0H+grXDokQnhCaD0MNTQkgBKr+OvrO9yv2T/W+9Zj2HPc0+KL5s/up/cj+xv7J/Rf9TPts+R/3JvWq9D318PY6+M34//dQ9k309vEd8GfvUe/Z74nx3/N/9lD49vmk+w39T/7C/kj/Tf/9/l/+Mv3x+xD6t/df9bXzM/N788rz6PRI9gP4Fvkz+W75+fjB+Sb7ff1qAKICHgTMAwUEnASTBHcEJASaA0UCWgGqAP3+Rf2C+/z58vho+Jv4Yvl7+Xb5pfnY+LH3lPbK9ij2y/UX9qX2xvgE+pr7Zvzl/RH//v4xAJgASQFsAYgBpAHDABIAA/9J/8f/DQHDAjUD6AIXAvEBXQBMAE0ANAD0AJYFyBCLHvgtkzhJQYhGZUloSblDZjt5Lx4kchd7DaAEI/w69czvC+8a8U715fdC+VX4A/bI85zx6u+J7b/s7u3K8XP2Gfox/fn/MQSMCB4Meg2TDRwObA4sD2kOXAx9CEkE9QAh/pz8lvuK+1z7Yfvv+tn5c/et82XwoO6A7nfvuPFK8/P0xPZv+WX8Xv4FAZkEfglHDbEPhhDjD6AOlQyFCsoH6AQwAsb/Qv6W/dn86/s++w37CvxN/bD9DP0A/PT6XPlr+Bj31fXW9FzzcvKQ8bbxVfEg8fPw4fDO8aXy4fMl9cr2o/iF+jr7n/sZ/Ij8sPzp/Hz96v3e/p3/FQCJ/0n+nvwA+0T5gvjC+Iv5I/o2+qH6Yvrt+kH7+PsF/Vz+af+s/wIAov8G//b9wfzY+gH6E/rQ+tH6XPq4+r/6A/t2+qn6Zfrg+VL5pfhi+Cb4e/j69+D2x/Ue9pj2Jfd792D32/cj+E75gvqF/DH+Cv+NAP0AWgFqAQECtgJnAtYCDAPVA5oE8gTCBD4EhARmBCQEbAR8BUwGTwepCD0MDhIyGIoeeiMGKOYqqiypLO4q5ShgJLYf/hrsFtQT9hBFDxIO6w1/DWsM0go4CJ4F+AIHAM/8hPlV9qnzY/Gh7wnuAO3U7Wfv3/EO9CT23vfY+AX7lfzP/ff9Df5T/+MATQPtBPAFOAbMBRQFsAN1Al4BPgCe/4r/r/84/3n9nPsY+q35lvoM/Gn+3wCzAw8GYwc/B8EFigQMAwcCBwGo/1b+Q/2R/Oz7W/sF+xX7m/sb/ez+eQAPATUB7AAyAJT/Bf4Z/Bz6/fc59gz1evQe9KzzSPPQ8tbyCvMZ82Tzz/Ph9KT1Uvb+9l/3CPhp+S/7ffwr/sf/WwBMAKX/Sf6b/Mb6UvlT+Or3yPdm91f3bvcZ+OL4tvmi+gv7YvvN+zL8OvzS+y37fvoO+l/64/qN+6X8s/2s/pH/CADT/1H/zv40/nv91vz3+yn7sPrI+sf6Mvqi+Rb51fjO+Bz52/g0+Nb3Afhf+Ub7nf33/ykClgRZBjUHoweDB/MGpAYsB+wHaAhICEYHggbxBRMFvAS/BJsE9QRZBXEFeQUmBVkEXgNLAkABxQBnAI4AIQGUAW0CoQNJBIQEZQXKBUgGcgdjCM0JfQvIDPINHw9uD80PjhAuEVoSrBPPFNkVvhaLFmkWtRZAFkIWKxatFYsVbRUSFd0UxxRRFPQTJRNoEYsPPA0ACsQGEwSjAen/ov43/QP8e/qT+BT3dfW2893ylPJG8k/yy/Lr8r/yCPMN8xjzJvOA8ojxT/A579vuEu+P7/jv+e9P8Fnx5fLY9Cj3yvkf/Ff+MgBXARwCOAIzAkACCAI4AmsC2QH+ADQATv+k/rP9MPwV+3P6uPnz+LP4bfhP+I74sfgv+cT54Plb+hz7ivs5/If8l/wk/Ez7uvox+rb5A/nZ+Lz4V/gr+Bv46ffA92f3+vbv9sD2ifYg9lP1QPRv8+/yzfJ+8xP1Cvf2+OP6gvyp/U3+of5r/jP+Tv7m/qj/XAAsAcQBmgLiArIC+gHfAOb/9v53/hP+L/6h/vT+gP9TAFgBpwKtA04E1QRMBWsFsQTlA7gCigElAcwAmgCLAPEAVgFoAakBtgHHAcwB5AEbAhcC/wGaARUB4QDMAKUAkgCKAKAAuwAMAXABtQEPAjgCwAJqA/gDfgS1BBcFdwXkBYwGKAe1BxkIyQiXCUkKMwuHC6kLiAvLCkUK8QncCcwJFQqJCrgKyQqwCtsK+ArnCkoL+wtWDNEMwA1TDoEOzQ7cDqQOog6eDvcOpA8WEB0QvA+CD7gONw2mCykKEwnaB8AGkAVmA/4AdP6Z+7v4b/bj9LfzS/MN86XycfIe8nbx2PCH8FLwUfDq8DbypPPP9LH1lvYt92v3z/fP99T3JPh2+LH4sPic+BX4d/cj9wf3GPcP90T3uPcu+Nn4qPlY+gb76vu//KP9t/6h/woAHQAxAMn/H/99/sz9Of2e/H38uvzE/Lb8pPxl/ML76/pa+s75B/l9+P/3u/ec95H3Avim+LH5sPpE+5r7S/uO+uD5UPne+MT46vgF+UD5uvkq+pT65vox+3j7lfvJ+wn8Lvwy/JL8DP1f/e39cP7v/pn/gwCMAY8CQwOBA14D0QJCAtYBiwFUAToBBAG4AIkAewDXAHkBcgKYA7EEawWsBeEFtwUjBW8ExgNAA84CjAJyAoQClwJTAuMBUgHBAFAA5/+p/5r/zf8nAIoAzADxAFoB8gGxAswDFwUhBi0HOAinCFAIpwf/BjEGgAUxBXgFLgY7B4MIdwkICkYKigqhCmgKdArCCioLWQs/C00LcQt+C8cLfAxTDRAOgQ5/DjsO+Q2RDfkMawzbC1IL4gptCu0JTwlaCCYH7AWlBKYD8wI4ApEBGwG5ABUAOP95/vj9jv0h/Z381/sa+3n6zPn9+Dn4rvds91v3K/fm9qn2cfb29Un1YvRv89TyVvIM8tzx3PH+8Uny1vJ581T0NfUD9tH2yPeo+Cf5ZvlV+RD55/gE+Vf56Pl++hD7k/vr+zP8X/yW/Mn8Iv21/TH+lv6L/vz9af3u/Gr80ft0+4P77Puu/F/92f0y/mH+NP6D/Z38rvvO+iD6wvnH+Uf6Mvsr/Mv88vzq/Mz8i/wn/O/70fvE+zr89fyp/Vj+L//d/zMAmAD3ADwBZgGnAS8CvQIcAyYDzgIfAj4BZwDG/2f/cf/E/xYAWABsACUApP8r/7L+kP4H/7H/WQAIAZQBxAGxAU8BtwBxAIYAugBBARcCAgPNAzgETgQcBOwD+QNUBPMEugWzBnQHxgfBB0sHXAZ7BRsF1wSWBJ0EyASyBGEEGwQJBA4EHARWBKQEGAWRBfoFQAZVBooG4QZrBwcInghQCRAKpgrECngKHwrkCaUJbAl6CaUJogmACUkJ0AgnCH8H2AYeBnkF0ATjA/8CWALnAbkB5AFhAtQCJgNeAz8DswK0AX4AWv+C/iX+AP7s/fr9E/7o/Wn94/w7/DP7OvqW+QT5aPjM9+T2svXr9If0YPTn9A32P/c/+DH5oflg+fP4cvjI9zX3/Pbz9tn2yfbv9u/21fYK94z3JPjd+O351/qb+4b8VP3b/Uv+u/7P/rP+gP5N/mf+yf5B/6L/HQCkAOUA0gCKAAgAZP/e/o3+M/6r/WT9NP2r/A/8wvvG+937J/ym/Bf9c/2n/aT9fP1o/Y39tv3K/dH97/0l/m3+4P5a/8L/zP99/zT/+/6R/gb+vv2l/af97/2D/u/+LP98/6j/pf+a/77/7/8PADYAUQB0AKwA8gAwAU0BZQGPAYoBaAF7Aa8BtwHSAQoCBQIAAmICBQNbA4oD4ANNBOEEggUMBmUGmAalBocGRgYGBscFhAVCBdoEUwTHA2wDJAPZAt4CFQMxAyYD/AK+Ap0CgwJVAnAC8QKXA0QEEwW+BfkFFwY7BjsGFwbsBeIF+gUHBgcG7gWVBQsFhQQiBNUDvgPeA/UDCwQsBBwE5APGA6gDcANFAxYDxwJpAuQBPAGoAFcAQQBFAEkAMwD+/6P/Iv9y/tP9T/3Y/H78P/w8/Hr81/wd/Uj9Zf11/YD9hP18/Wz9S/3+/Hz81/tN+8T6JfqG+QH5uPiH+Gn4Uvgy+AT4q/c299b2nva89lf3I/gZ+UX6cftl/Of8E/0l/Sf9DP0T/W39B/6T/tf+A//S/mT+4f1D/cj8hPy2/Cn9qP3//ST+PP4x/kH+d/6q/vv+ev8BAE0AcwCaAKYAZAC8/+L+JP6x/Y39sP2+/a79nP1j/RD9pfxU/CL8M/xo/K78J/2H/Yz9S/1B/TX9IP1W/an92/0U/nj+vv7i/vL+wv57/or+1f43/6H/GQCLAJcAVgDr/5j/gf+3/1QABwGgAToCEwP7A7gEdgUUBqsGQQfhB2YIYwj5BzsHhAbZBTwF0gReBP4DmgM7A+UCeALxAYMBVwFwAfMBjQINA3AD7QN7BMUE8wQOBRgFFAX8BNYEfATvA48DYgMyA9oCbwIaAuoB8QELAiACEAL/ARYCRAKCAqQC0AILAzMDewPDA8kDyQO5A2wDDwO2AnYCTwL2AXEBAgHBAJwAUQAAAH3/yv47/tj9uv0C/sr+wv+LABQBfQHOAbkBNgGgAB0Ao/83/9H+UP66/Wn9Fv2Z/Ev8IPzV+577pvud+037y/qA+lb6VPp0+sT6Z/sY/AD96v2S/gz/Uf+W/6X/dv87//f+FP9G/2X/zv/z/2//3/4j/h79cvwF/NT7v/s6/O/8R/3A/db9nP2L/bP9LP6o/vX+gv9RAPIAGAEVAfkAeAARAOj/uf9n/zH/OP9e/0v/v/4j/pr9+fyR/Kz8B/2Z/VX+9f5H/2H/TP88/wv/lv45/jH+Tv5Y/qb+4f7d/r7+mf56/hX+tf2p/b/97P0h/mn+xv4I/0b/Nv8I//b+8v4L/wb/F/93/z4AzQCmAGoAWgArAMz/dP9R/2D/xv9YAMAA2ACuAGEADQAHAAAANwDMAG0B5AELAi0C/QHwAR8CBgLrATgC8AK3AygEOgQhBPEDuQNDA4UCzwHBAUYCwgIrA5cDwgPYAw8E3APIA9wDxgMkBKEEDAUOBcwE3wQtBBgE2wPGAuwCmQJTAgkCWwPnBH4DeQEz/yT/WQBVAJT+DPyk+6z8h/0J/X375PvF/m0AIQB4/yAASgFKAWsAov79/goBqQGxAO/+BP9KABQBGADX/dD9K/9eAMAAKgDU/+z/7f/f/83+BP6q/iH/BQDbAHEDwQS6AhoAlf0z/jsANwHQ/679ev2i/kT/zP3t+0j8jP46/xn/tP5h/oz/+v/A/h/9Lf2w/fz9B//B/v79Lf7v/s7+pv55/uH94f6t/zAAaQCXABcAgP/1/6//xv9sAG8BwwGXAdwAAgB3/4b+of6R/nX+of7m/hD/U/5k/gz+pv1i/tz+IP/0/xoD7QVxBVcC2f+F/4//Qf9l/uH91v2Z/3MA1v0+/Dj92v2+/Fn7Ifof+oX8bP5U/cX8pv4D/7f9Ff2l/Cn9Wf4l/6L+Qf7K/Z/7P/wF/rP9O/0i/v3+lv7v/7oAn/6W/qkAPgFqAbsBDAH+/yAAHAFFAbQAiQAwAVIC5AHNAJUA6ACQAeMBwwGYAOsAvwK9A2AD4wJQA4kC3QH3ASoBWgD4AGMCLQNAA8gChQHHAMkB5wIAA+oC7wIEAygDhgITAdb/dv/j/50ARgBJ/8/+9f8QARYAWf+b/rH+PgDEADj/9v0L/w0AEQDc/03/dP/R/5//Y//x/qX+RP9pAA8Axf56/uD+M/6C/pb/6v/hALQBgwKNAlkDJwRaBHkEywR6BcIFhAeKCC8IfQd6CHYJXwlcCUgIPgevBt8GuwUQBb0EOwTrA3MDfgP7AtMCcQLcAusCRgJvAcYAjQAIAFwALABDALcAkwB+AOkASgGSAL//Ov8R/5f+B/5K/mb+pP4//lj9lvzN+/H7Ofym/NX8Fv1d/RL90fwL/PL7Xvu7+pH6xPoE+/L5pvlu+Zb5UPkS+Tr4/vbw9oH2GPcC9+r2PfaK9VP1TvS486XylPK78v/y5/Kx8rfyDfL68RLy5/Jm887zPPSd9Kn1V/YL9zn34vc4+WX6pfsX/BD9Bf47/kH+av5l/hP+B/81/wz/Nv+t/w8AZQC3ASoCXgLxAmMCjwE+AWoBMwIYASUB/QHZAFwAFgQqDuEZaCplOrdAQUKdQ61GMUa4RfVA2DXEKlAfyRZ0DwULBAYKBJYGywfgBk4Bbvnl8LjqX+bR4dPa9dGTy2TK380p1M7cz+Mn6zb0VPvg/6oB/QL4A1MH7QtjDoUPgQ76DgESohcoHG8fZyCgHXcZaxX2EIEJiQKM/Gj5OfWG8Hjroefi5YflU+jJ6d7quelz6aDpFuuk7CLuGvA78tz1mPk+/gUBiQQkB9wL1Q+aEG8OqAplCOQEAQTVAQ7/RPtH+H72ePSb8+Lw7O927ybvIe0W6o/mdeI/4NveJ+CY4fnhYOHn4uzlnegj7DTu6u/08ZD18vhA/BP/RQFBBfgIGgsZDOgLLQqjCKMHvQbGBaECTv3LAKYNohpsKK06qUo+UepWjFvBXCNZWk9IQMkwYCK/EHsCX/mh8iDux+9T85r0evPc77/rh+fZ4njcKNaDztnHwcQaxjvMX9al4fLtU/wNCFEPkRXZGmccMR6gITYj9iAUHVQZRhcGF6QX7hihGrcZbBUrDsAF0vzf8Dvm7eGe4+TfW9vk2zPg9eNd6ZTy9Pga/o/+kP9u/1MAUf+j/3IBvQB9AekBJgSBAtEDiwZXDNYOMgylCOEEfgJQ/Qn8E/pC+XL2sPR783Txxu+N7Z/vu+9p75vtsu2o62/nQubh56/rTuzP7XjuVO9H8BbyfPXH98X6ovsX/Ar78PkT+un6svx6/ngAoQC5/4z+ifx4+4r81vs6+3f6dvmu96D+Cgz4F74nODrpSgJRt1bnWeda91abTBFAfzGOI7MRUQbc/dL4cfY1+Dj6J/io9XTvJOqp4oLbFtXTz9rJc8LGv97B+MhO03vfPu4q/aAJexNxHBsjqiSkJZ8mgyVmIToc4xe+FAsTjxNkFQAX4hU3EHAJNQOxAPf5avDv54Xi8t172PrXadgG3D7fMuWX633yLPhD/Z4CBgSxBsAI5AsKCB8E8QD8ADwDNQPLBNwDeQZ0Bj4HegXPAiAAdvuV96TxRu2a59Xkg+F/4KDhieSJ5+XnTemJ6ebsQO6k7zbwSu/u7ansT+7m7RnuLPB29NT4efx/AD8EIQcgCTgKtwlgBx4F2wFY/Cb2LfM982ny2fJD9+4FsxRuIngwtEFDUMlUmFmVWJtW2Ey5QYk0MCXiGOEJFALs+if5A/gD+Wb6Kffi9EXwEuzc4/Pct9fW07fR1NBL05PXkd/Y54Dydf4cChgTuxl7IGcjXCUFJZgkRyEmHJQZmBdWF98T3xPxE/8SnxBiDCkJygE1/B/z4+p/44/e79sb2M/Y99oE4v/nOO8O+FgBBAl4DOgOOw6GDHAIoATlAFr/af6K/iwAGgJCBYIHkwt8DI4MMgrjBg8CYvqA9C3tXeg248fgwt5N3T/ekN2G3hTg+eOa5UHmGecI52fnBOgm6iPtHvGg9Cr4IPx1AIoERAh7CZcJXwvvC8gIjQO5///71/bX8SjvOvQ3/9oJlBWqJZw5m0XTTK1RvVPeT7FEfjmNKTIa1Qjo+xLysuvY6+fs6u/g7jrwfPBA8BftOOdm4ifdT9jF0VPPj9A/1bvbVOa888QAXwuzE9UbKyFEJHQkvCMIH/MWWQ+QCdIEgACJ/10BlAMkBw4L4w1eDgkMbQgWAff6WPNs7Cvm3eFl4S/hwOdV7hX3u/1XBbELigzGDc4K5gdnAIP7I/Yp8WnvOO9/8uL1n/1cA4MIvAq4C/IJOAZEAvL84/c/8Z/uRew2627p+eqG7RjuGu8p753wKO8Q7q7s3Oyf7PLqKeuz7ZjxLfVp+jUBKgg1DAEPQxDmEuYR4w6yCuEFBwKz+yv5hPhgArkN1xmEKMc4kUeYTdNU9VVRVLpLzEBsMpMg0g/4/u/zPepU55vnnutL7a3twe5m8I3y0O+I7M7njOTQ3KzVKdRk12vcm+Fq7Y/6QQaiDuQVRRxOHggfXh0yGVcSNAq1BEP/+/3c/t8CjgdECVkL8wvODWoJtQNM/RD3nfBQ6bPlsOKl4/vkLeop8C/4xgCsCJIN9w0FDk4LkweS/hT3b/Bt7VPrs+qy7Q/wo/Q39w78ff04/gn9OfnV84vs9edm4+rhlOA14cjjr+gW7Vvv2/Ho9Bj4w/gK+cX38PWH8r/vSO5J7sDxXPWf+SL9xQLGCJYMFxCHEWETShA+DGwH4AH4/eD+DQrZFC0iRDGCQkFNCFPaWExZmlQcSes83SpKGAUGF/eo6+Hl5+Xp5a3ot+pe7dnsGe8x8ADuoOot57Xjn9zX2Qza5NwY4fvpMPZvAEAKPxOHG5sgjCISIsAe9xhzEEQIwQOTAacAHf/f/3UBXQJGArwBJAGh/Tn6JfY08prsDug+5Xfk7+U46YDvTPYb/kADpAhmDb8RthI3EfwOcgmVBPD/Cv7E+jj5TvlC+Un5M/ko/Lb8dPwp+7T5X/Yx8S7swuU54avdeNx43Kvdmt+14WnlNulr7mrye/Yr+tj8MP5W/gAALgDJAOX/sQHWBBcHVQk5C7sOkA0MDjQNMwylCcAKMBFMFgogRyyROx5D/UkaT6ZQkU7NR7Y++C9FI2wTKgVY+ODwweut5pPkHuS05nzmnOfB5m7lXeSw5IXj7t2O2SrXkdgI227h2us09/YAzggYEQMXnRuWHvgeZBwAGa0WIRHoCIoB5v6Q/ef7dvtU+4r5H/VZ8fjtyutG6XHmbeK33gTdJ9694pTpr/Jp+/YDYAq4DgEQBRBbDmAK/QVcAq7/RPtG+Ov23PcM+Tb8KgDxAFD/Dv2z+wb4ePUN9O/xf+0S6bzmwuQm437hPOK14yzlgOYW6EnqUu3O8Azz8vVD+tD8Cv3l/foAOgQDB8YKQw5xEJ8PhQ8RD68N0wvRDVIUmBlrIQ8tUDxWRa5LM1LpVvtWmlG/Sio+ODC3H8URBQXr+p/yUeuI6MbmcOgK6rzu4u/67ZXsK+wd6irjQN7i2dHXEtbp2I3gLer/88D8FwjnEZUZyx5UIpciAyAHHtcZrxLLCz8HBAOW/lL9Xv2w/KH5+fVQ8lTu8epd5lviwt1n3DLcJt48493p1vF/+UQDGgqeD/4S6xS2EycQZg3UCX0G4gAA/Mf2bvNN8ovyN/T+9Xr4g/hl9331MvSQ8VLuLuyv6rDpb+cN5gjknuIZ4u/jFOc66Kzph+v67F7tOvAR9Sz5E/xI/tAASQMFBsoHXApzDOsMxwshCa4FkgJpBKgJ4hIeIGEwlD3eRjlPclRCV6dW7lOpSoQ9ES6eHY0OqwGc+HvwVur85TvlheUn57vpDOyK7Y/tfu2o6qPm2uA8233XDNaf2JHdy+Sy7Cr2OQHXDGIYcyHrJwMrIyu5J5MiEB3KFf0NGgeGAiz+cPrw99709/CZ7C3pQuZn41Dgr91n3Kvc0N7p4n/pe/CD99r9TwNBCHQLpA3cDO4LkAtQCr4HAQTXAQP/Ovx6+g/7N/xX/LP8UvzN+1j73/vs+vX47fbL8xPwYexj6tzo4Ofb5+DoVOpY6yjsOuxL7MTsPO5K8E/zEPeQ+Sf8qf7AAWsEqQa2CYoK/An/B3wGgwRdA8sG3Aw3FS4g/S5tPO9GDVA6WDFd1F2bW5VU9Ek7O44rXhzHDq0B6vTp6ujihd0c22zd3OD84wvncOoF7KXpcOWt36bZZdSo0cbSL9dG3YvkD+zx9IL+oQhSEpQbEiVcKtMs9C0mLkYqqCOlHGcUUgr0/2X4evHA64DmROMG4ADejdym2QfYJtjg2b7abd9r5tbsvfCL9Kn40fpC/rkB8AQiBg0IYgksCPUFyAMdAikAvP4D/pb+bP7Y/bf8efx5/OD7Kfw+/IT8+Put++z6Gvns9srzje/Y6jnnqeRR42fjreXY6Ifr2+0C8FfxK/Ec8mX12fng/XoCMgcPCfIHbAbcBV8EYgOqA+8FSwsVE0wd6Si/NJo+nEZwTRBSrVS4VSNU3E9NSM89MzKeJVUXMQei+afvc+cW4h/hi+Ll4l7jYOWR5+DojOo765jp0ubZ467gbN3G2wTcbNz83dni9Ol38YD5jAIPClgPthQjGice5yC0IgMj7R+DG2UWkQ8oCEj/YPf88NrtpOwg6zfq2ulc6efn1+fc6DXq6eve7hDxGPO79d32PPZ79Izz1PGW8ZLz+fUC+Jv66v7FARgDXwSYBgQIZgkyC28LuwvhCwoLDgkaB4gFfQNiAUQA5/4y/PT4EvYL9BjydPEj8ZTxqPM/9aL1EvX49e/2NvYz9mz3Z/l/+wr/GANgBZQGYAdeBxMFmANlA9QDKQWIBrMI2QlFC0sMiQx0DdYPMBNzFXAYzBqBG4EakBh7FUkRLQ8/DlcN8AuLC6kK5AjPBwsG6wTgA/MC5wFbAYwBQwFXAUgBvgDr/ij9Bvwn+t33N/b/9D/zbPFA73vsOur06sHs7e2G8Rz3wfoI+/r6bfvV+ZT3nvd/+Nr4P/oQ/N372/oj+2D7tfqy+gL8ivz3+9X8kv4U/9v+/v4w/xP/QP+WAEoCbQMQBMIEJQYaB3wH7AfhCBgJLQiDB44GEwVsAyICQgFYANoAtAHjAC4AUv9//Vn7VPrP+Ob1OfSV843ydfC276Hv0O6G7l7v/vBD85D2wfmm/AD/ogFJA3sDBQQfBVwGygaZCLMKvQqFCmUKvAgPBpUFeQasBagEbwSSBH4DoAE7AaQA9P7B/cz+WP/V/hP/RQBAAjICBgK/A5gGSAn4CnANmRDiEs8TeBMBEscPTQ4hDv8MPgyNDfoNjwz4CqsJ4we+BiYHZwcKB+EGyQYiBeABL//t/Hr6ePq6/Pn9xf+aAt0D3AIEAjsBQf5C+7v5Evl598/23feX9+P2E/cP91T1f/SJ9kX4Zfgo+bT6I/v4+fL4Vfhn96j3kPjc+Fj4kfeP9tr03fLl8JPwnPHA8qX0qfdI+pT7ofwT/bn76/gZ93r2Bvaf9bn1UvZk9i72XPXQ9PP08PXv94D66f1JAQUEwwURBy0H6ga7BwcJ8AmICgUMmQxiC0kJbQcXBT0CxQCUAO8AYgFdAqwCXAL5AWIA6v2q+xT7L/vI+qH6m/vv/E398fx4/LH8efzw/G/+JQDGAd0CaARUBbUF3wXUBpwIzgnuCr8Mkw3WDNALJgoeCLcGPgbdBQ4GzAa1BtkFkQUNBf4DcwQwBxIKhwsUDswQkBAgDhQMfQqBCH0H/QdTCUALlQ1iD64Pnw9EDx4N3QpDCSoILwebBhYGXwTgAVT+rPrx99L1yvPq8rny2vFQ8NHuxeyM6d3nQuhS6Xfq0Oxm79jvTO6X7GnrMOqQ6THq8Otu7oDxhPMd9MP0i/XE9a72aPmj/D3/+wG9BFYFTARLA2kCTgE0AcoCFQXoB0cKPAt3CusHnATSAWMAQgBlASIEBwdmCHAIHQc1BEQByP/A/wIBZwOhBqUIVghSBgcDb/91/Ej7S/tJ/Hz+JgBRAHL/oP7V/Zv8rPsJ/AH9Of3B/OH7Efp+9wr1Z/OO8r3ylfQk94n5pvsu/Wf9M/zU+k364Prp/G8A9wRdCecLcwwjDFkL3AkiCf4KSg4kEVIUrhcZGbIY8xdnFg4UXhOPFLMVERclGc8Z5hfuFAUSiw5VC+AJ5AhbB60GcgZ1BFsBqv4L/Af5uPaC9ZL09fPs81TzpfFY8IXvN+547bXutfB18nv0CPbO9Q70hfLV8bTxqPIl9Qf46/ng+rD6Q/mv97/2afbr9kP4V/qE/Bn+cP5k/T/88vpN+XX4WvmF+1H+8wDMAqMDiwO2Ag8B2v/j/8cA0AFmA4QFxAbxBvIGrAb5BbYF4gXFBZUFHwbSBQoE1QFJ/zf8O/pi+tr6UPt9/Gv92fyJ+xD6FvhJ9vz16fYP+Cz5+vke+lr50Pd/9iX2t/Yl+Hj6x/1pADYCtgOMBEgEZAPyAyUFqgVMBucHDAnJCIUIvQhdCGEHhgcVCEIIfAncC0kNPA0+DcQMeQsyCyMMcgyZDDMO5A7yDMoKNQkmB4AFTAVoBTQF8AVeBkEFYwSfBAcFJwXqBXwGzQULBeYEJwQNA/QC3gIsAsUBGgJzAfX/8f5Z/TH7evl1+ND3Bfgk+Sr5RPgO+CP3MPTp8KDv8+5Y7nLvy/Fl8yv0OfVO9c706fRt9UT1APYL+AD5Vvlm+pr7Avvb+nv86f2a/kP/s/+L/oH8t/qO+MT2vvaU9wL5bPse/uL/YgAHACb/pP5G/0QAAQFuAlwE2ATyArUAGP9V/X/8rf1WALUDlwdDCmwKhwkWCHQFrAKtAcQBvAExA18FsgUOBS0EZwE0/er63vpU+x/9FwCnAYABrACp/s77X/q2+9X9OgC1AxEGjwU4A9AAHf4b/Ez83/3q/2gCRwQyBCwDLwIqAaYAKQLmBOwHqAuxDxsS5hGPEAsOmQrbByEHQwiTCl8OIBLzEjIRIQ6fCZAFBAS7BLUGIwqUDRkObQwCCoYGVgNCAtUC7wNUBdgGxgbSBAMCq/7x+8f6kPrX+rf8S/89AJX/BP7E+mz2JvM08ZTvVO/78MLxbPDz7c/q8OY05JDj8+O35cXpNO6B8HPx1/F98QfwS+9o8GLyGfXj9wf66vpT+2T7IPt5+2P90ABuBN0HNAoVCzkKMAi4BXUDFwOEBKwGpAhuCjwLjgobCa0HXwa0BakGqAfnB7oHAgdOBVID1AEiAKr+4f07/dH8dP3B/tv/1wAXATgAx/6j/Zf82/uc/DL+kP9mAGsBkgGjAF8AKAERAgAD/QRKBsQFeQQ0A3sBHwCbAMwB5wLDA/0DBgPBAcIAU/8v/kr+Ev/l/5YBjQNPBHQE8QTOBBMEbgSwBekG9wjtC/wNAw+/D2IPSw2xCywLsgrNCkYM0Q2yDToNYgyIClEIwgb6BWsFqgVSBhMGyQRqA1oBE//2/dX90P0R/mr/qf9Y/u78cftf+fv23fUY9oj2w/bx9vr25vZ89rz1SvWx9dr23PfA+JT5hPk8+LX2SvUi8z7xcfEr8xL1C/ch+br6nPuG+zn6G/n0+FH5+/nt+vr7LvzA+1j7NPrJ+Nv4K/o0+9L7fPy5/KH8M/3L/Wj+awAeA64E+AQgBcEEugOfA1MEmwTYBNMFUwbbBRcFAwTmAvEBSQHRAI8A5gCZAQEC/AFXASIAoP4M/dv78fp8+0H9jf7f/m/+yv1s/K76PfqO+8z9cAB+Al8D0AINATn/rf3d/LP89P3Q/+cAhQHSATYBi/9b/tP93P3Z/j0BfgOyBM8FcwbkBboE2gRiBVwGzAjuCwoOIw6jDTsMBgrLCHcJHQv/DPUO+A9/DwsOVwxhCu8JJwt6DKUNrQ5HD1gO5AzKCyIKYQiJByAHcgZpBgQH4gYKBvcE8QL0/9f93/xw/Mn8av3q/MX6oPfI8+jvQe1w7PrsHe7U7pHufe0A7Lzq8ukA6jTrveyB7Zrtge0U7ffsJO4s8Dry3/ME9br1+vVv9lH3YPjr+BD5Pfmh+E/4d/mn+8P94//fAY0CBQIwARgB4gE/A2AEhQWZBsgGSwbhBSsGrQY+B7gHCgiWB1oGiAUZBa0EHAS5AxcDtQHn/1n+9f37/cb9B/4s/8n/Mf8X/5X/V/+N/pL+y/4u/mr9xPxT/Kv8b/0O/jP/eACfAP3/K/+v/QH84/vs/OL9A/+MAFwBPwFEAdAA4//H/68AiwHdAm4FUgfdB5cIFQlZCL4H2AjjCsEMaw/yEeMSWRO0E28T/hJIE3wTIROUEvQQdg63DD0MKQxfDCIN/w04DpwNowx4CyQKzwisB4kGpQUWBbMEagS3A70COgE6/xr9tvqK+GH3vPaA9a70qfQw9ArzofKv8szxF/Eu8UbxxvAz8PnvT++g7qDuoO6f7hrvau8w79nu2O4d7wfw9fFi9MD2N/hY+I33h/aN9f/0pfUv93v4fvl0+hH7Wfsj/I/9yP7t/2YAIQDl/xQATAFDAwEFpQWSBfUEkwM9Au4BsALyAzoFogXDBI0DrwL3AfEBRQPYBC8FjwTuAvH/m/1E/eD9Nv9iAR0DTgOqAsEBIwDA/h/+wv2D/aL9O/4G/8QA8gLQAxMDpwFP/wD8nvrm+8b9JgDNAloDewH5/oP82vqf+wP+4P+iAd8CWAJxAcwBYQObBHAF8wYSCB8IUgjICSYLiAvxC7ELZgqwCYAKBQweDn0QShHyD1gODQ2qC/ULew4qEXESUxNaE10REw+pDfIMcQy7DK8NtQ3wDEcMKQsdCcYGQARGAfH+K/7B/Zb9m/1//B/6SvdY9CzxBO/T7qTvf/Bh8SPy6PG48BXwBPAv8HjxYPOJ9Fj0pvNf8uzvK+5S7j3vD/C38Qr0OPWM9eL1mvXY9LH04vRJ9cv2J/lD+6f8Zv0E/dn77fqe+hr7H/2dAJQDIQUsBf4DOQLeAK8AlAH/A5wG8gcYCEEHIgXNAqwBNAEcAY4BIwLmASEB8f9T/jb9hfzw+9P7nvyp/bf+xv9ZACMAIf/q/c78LvxZ/DT9ff7Y/yYAwv7h/LT7xfod+kf7fv3E/if/9f4T/sv8yftT+5/77vxr/gwASgLtAzkEFQQRBJUD+AKBA8gEVAb7B3EJvgo9C38LFAzqDA0ObA/aEDQRLBFQEXEQqA84EOcQxRCPEKcQMhAaECERgBHPEZ4SqhJdESkQXBALEJoPog+sDmoM7glZCKQGTAVYBfwEVgMIAUT+3Prh9/H2oPYH9uj1GPU480bxQvCf7zXv5O/d77zuq+3T7ErsZuzN7TjvC/CO8EPwJvBM8HbwE/Gb8bPxVfEj8TjxqvEx83v0FfWg9VX1dvQT9ND0Ivbd90X6O/x5/Wb+4v7M/sr+e//O/2z/h/9GABUB9gFPAywEqgNfAqIAZv9V/xgAGQHDAQYCDwEg/8v9h/38/az+Rv9h/5f+g/2m/B78g/zY/Uf/9f8VAPP/Yv8M/xT/0f56/pT+n/6g/lj/OwDJAGMBqwHrAND/mP/u/0cA5wCpAVQCpQLqAosDSgQ9BeEFsQVoBZcFPQYnB4kIGAr3CmcLHwsLClkJ1wjlBzgHuQfFCLoJZwtkDboOUA8JDxIOAw2ODPQMGQ5jDyQQnxClEEMQLxBxEBoRVxLHExYUFhMOEsgQaw+KDt4Nmg18DdwMKAscCaAHhgXXAp4A2f5R/ez7Dvsf+mH4UfYS9OLxFPD97r7u8u5P71Pv3O4R7sHsG+sX6l7qFeuk61bs9Oz47Izstewm7V/tTO5q73PvyO6g7uLuDO/v71DxYfJ085D0rPXO9sL3YfjP+D/5pfm5+sv8+P6wALMB3QEKAb3/Kv///6IB/gIeBO4EewQpAzsCQAKaAukCOgPMAsoBywA6AEgAMgAsAFAA9/9j/zv/xP9qAOYAFgFkAKj/bv+a//4A/gKqA9YCogGo/x/9T/yc/Uj/igCTAfgBTQFoABEANQDHALABigLNAsICBgN4AygEIwW9BdwFFgYgBuUFPgYCBx4HxQZhBmwFhwTMBM4FzAbRB2cIBwhyB0oHwwcOCZMKGQxvDdENdA0WDfEMpgyKDMUMmgyeDHANZQ4XD54Pcg8TDlcM+QrsCd8J+gr8C04MKAz7CpwIkAaCBaAEtgP6AuMBGADh/dX7ffqd+dr4v/dp9kT1ufPN8Xrw6e9H72fu1+0z7ZrszOwi7TftOe1T7WvtlO1K7kzvnfDa8WrypPKc8oDysPIi87nzPPTl9Hj1pPVG9oj36vhb+q77SfwZ/Lj7k/s2/H39pP6r/5wA7QCwANgA2wHeAoMD2AOYAy0DywIKA3kEDgbpBjIH7AbsBcoEmwQbBXcFngUkBfYDvwK/AUABqgHYAecAsv9Q/rL89Pvn/J3+wP/6/37/h/5n/af83vyy/TT+Vv5F/tv9xf24/gcAGgG2Ab8BXAEfAesBTwOmBI8FkQWbBE0DuwL8AskDnQTKBIwElwNeAh0C3wI8BPAE6gS5BBAEdwOKA8YEJAbABi4H7gZOBpQGwQddCTILAw3UDXINmgyuC1YLRQthC+ALRQyUDL4MxQyqDDYMZAtNCt4JcAoNC+QLAQ0kDboLfgk1B+AEaAN8A00EEAVHBXYEHAKI/vD6Hfgb9r/0FfTA857ypfBr7j/sVOoh6Tbp/ekW66rsW+5W767v/e+I76nugO6i7oTvsPFI9Ff2h/fC93X22vR29OT0I/Z9+CH7m/yZ/Mf7tfq3+WP5Uvo2/JH+zAAJAjcCfgFlAGn/Pv7Y/a3+AQC/AYQDWgQkBH8DgAKCAZYBFAP9BMIGKgh1CHEHnwXDA3gCiQE1AagB+gFPAqcCRQJYAT8Aof6A/A/72fp2+/X8Lv+wAGMAcf69+335r/iv+Vf8zv/3AVgB0P4M/L75pfjL+dv8HAAIApkCXwJBAff/0/+tAKwBgwKPA14E9AQABoUGJwZCBQ8E9QI+Av0C0QR1BoMHHAdIBSEDlgEZAe0BMASuBo4ImQmqCREJVgiJCH8JhwoBDNINQQ/SD/IPlA8XDn4Mfgs7Cx8MwA3iD78R/xFxEC0OLQxyCpoJdwppDMgNkw0sDG8JaQXWAdn/G/8f/8X/HACk/rz7p/hI9fTxAPCa79XvWPAZ8RTxZfDD79buCu467lPvp/BR8ir0TfWp9TL1SvRW84by3PLx81T1QffX+Hv5Qfni+EX4PvcB9/D3Wfnd+qj8ff5H/7L+5f1O/ZL8i/ww/lwANQIABM4ENgT3AokBHADX/z4BywJ1BEcGZgYCBT8DCAEF/yP+u/46AOQBSwPbAwgDrwD1/fn7dvrm+Tj7N/3j/uL/kP/h/TH7Z/iK9qz2ufi0+9f+AwEBAe/+Fvxg+bD3gvfl+In7Tv4GAHAA/f/u/pD95PxL/XT+awCmAmQEVQU/BRsEjAJQAbkAMQEaA3QFnQauBvoFKgRkAYb/RP+D/58AqgLTBBYGzAZoB+AGeQYsB9EHBgmYC3gOHBAaEVcSKRLiEJoPGA4uDQENnQ1YD5ER9hJ0EncQlA0mCpsHJwcYCeYLzA1KDtUM0AlABvQD1QMKBa8GcwegBhsElACY/fH7TPvx+lX6XPno90T2b/UQ9Vz0KfNL8TTvlu0x7XXuv/Ay84v0SPQz88zx2/Au8QDzg/XK9175lvnq+D/4nfdy9zj4JfnF+Zf61fsa/U3+ef8dACkAcf+5/iL/XQDLAS4DlwTVBGoDHQLSAdIB9gH1AjkEXQRcA+sBqQDY/4X/EgB1AYMClwJbAtYB3wDb/wD/V/6e/QT9t/zI/DP9Pv1f/Kz6Z/gw9sr06vRh9h/4sPmL+jb6xvj79iL2hfbd9/H5S/wF/jL+KP2++5P6IvoN+0r9aP/2AFkBOgDv/sP98fws/cn+5QCeAkEE9wSvBE4EJwMjAhECuQHvAV0D5wR4BbUFygUbBEMCwgEHArUDqAaqCbcLiAxxDMELvAuzDN4Nhg8AETASCBNNE4UT+hLfEY4QQA9rDoEO0A+9EMUQnxBzD1cN4AtpC5QLIgwODbENOA0RDF8KWwg0Bq8E+AMvA7ICnAKCAkgBNP8M/WT6kffs9JrzjfOB80bznPKs8UbwcO5Y7RztWu347fLu7/BP87T0JfUX9ar00vPJ84H1GPjg+qr85vz9+xf6RfiC92f4CPrH+4/9HP6t/dX83vsX+0P7i/yn/a7+LgBUAc0BLQLjAdIAcv8z/sj9VP6j/xYBFwLgAUkAff4U/Xb8Qv3g/lsAxAAEAJP+rfzf+tv5IPrP+jz7WPsy+3n62viV91z3M/fZ9h33nvfA9+v3sPiM+UP6wfqf+oX6qfq++rr6Xvs9/IL86/xy/VX92fyh/D/8FPzb/AD+Mv++ALIB7wElAvMB7AGrAs8DwgTQBe4GcwfHByAIPghmCFUICwgPCGAI/AjPCUcLlAxfDXcOow/TEJMSHRV9F4EZ8BrRG34c9RxaHfwdch5IHccbpBrpGFYXLhYsFAMRUQ1ECXYFygIpAd7+Hfz++KP0ifB57crr2+ph6kDqUemj6HboqejY6YXrsuwz7aztT+7U7zbyCvWf90L5ifkl+Wz5QPrW+wH+eACYAbkB1AGxAaUC/AN+BYcGZAdxBwEGuAW0Ba8ERwQ1BBgDvwFHAHX+h/xH+7H54fe+91/3+vZs9wX4XviH+Lv4XPgf+Hj4vPiZ+f76uvvs+3z7CvuO+oz65fpj+4z8q/xN/Az87vsJ/I38Nf2q/Qb+8v0q/vb+4P/O/yz/lf1S+6X5hPjU+Dv6g/uN+3z62/jU9o/1Afa79/j58/uF/Sr+/v2f/ZL82vvE+zr82/yJ/l8A0ACgAKr/PP7s/D79m/6GAE4CPAOsAooB0gA5ADgBPQLEA/4DMwR6BMEDWQQVBIsEywMIA6YCQwLtAlsDYgRfBBQECAMSA9gDYQbMCWkNFRK5FEoY9RnyHHAg5SLFJl0pGyzyK7MrvSpLKDMmUCO3H3EbaxZcD2kJRgOa/VD45fNv71XpBeVk4JndFtzh28LcHd343U7eCuDm4rrmh+u18O/0RPgq+6D9DgAsAoYEIwasB5kI6wiaCUYJ3AffBYADrwGSALgAxwFDAiICLgAe/kH8P/tU/ED+MgHDAvoCYwI7AcgAtQB4AdYCVAOCAj8BGACt/hX94fzr/Iv8Hfzn+g36r/lX+UP5tPkf+jz5Bfhs98T2gPaY9oz3c/gK+Jn3//ZU9hf2a/YQ95f32fel9x/3N/ez9/z3OPjh9y737fVN9YT1HPYK97D3+vcZ92H2IfY49j/38Pis+ir8jP1//i7/tf+mAO0AmwHPAkYDgwRDBTkFSgTwAn8BAwDu/1YA/QCqAZIBHQGTALv/7v+xAE0BJQIuA0MEbASVBWwG2wZ8BwYHvwZkBhoG0QURBu0FTwWYBEQErQNbA+oEgAZaCW8MvBAGFTgZXx5+IswmsSkMLc0vpjHLMugyaDJqLwsriSXsH9kY2BE7C7AEsP2P9enusOda4Q/cLNgt1vDUu9Q61bDXhtr03bjiZ+ic7XfyA/jY/HIB1QXTCWwMHw7/Dh0OdgxgCoUIMAbtA7sB6v43/C35N/YT9Lny//FK8k/zv/SS9tH4cvta/pcB+gSFCC8LXA0zD48QRhF6EXgRcw8bDGoIjwTbANn9/Pun+kr48/SY8QPu1Osa627s2e7O8EjyZPJ98qry6/NX9gD5YftL/J78PfyV+5X7CfxT/ML7afqr+Bb3SPYj9lr2rfYf9o305/IH8gDyN/ML9dv2FPgT+G34z/jX+QD8MP5PAOEBKAPJA0sEVAVUBngGFwY6BUgEdgNpAjsCcgGtAIv+9PuJ+tf4IvmN+Sj7Dvzl+6T8E/w7/db+IQEnBCsGlgcpCIsIQwh7CF4JCAqACRQJ9ge0BU8E6gJZAtUAJgBU/0T+dv82APMCtAUbCSYMvg5JEw4X5xzoIoMo7iyzL+4wUDCXL7EtIixJKTQliR9CGRwSygkfAhf6FvMU7DfnM+NJ4Nrevtya20/a6NrQ3A3hYeea7bDzCviK+0/+9QCeA0sH7Aq2DFwNxwxqCyQJ/Qb7BHsDvAEn/879xfwH/AL7n/oH+2P6hPpz++j8DP57/2cBHwPxBH8GSgg8CcUJaglMCXcJbgnoCUMJmgcuBH4A2vwJ+ln4lvc/94z1svN/8envA+/I7zLxo/IS9F30QvVd9l34Pvod/ND9mv3Q/Pr7Zfso+8P6NvpU+Qj4jvaY9EXzoPIL8kjx9PBr8ebx1/LM81L12vag91D4a/m9+tf7bv17/1gBRQLFAhYDlAJTAbAA7QBkAQUCcwJwAmEBXP8A/fL73fuX+x/8A/3F/Gj7cfrH+Rz5SfiT+CP5AfnJ+XL6FvxM/T7+lP5e/rP+Uv4mANcBVAScBpIHiQhmB40G4gRvBGMEgQSEBiQHbgc8BqAEvQJfAcACXwViCgAQdhWvGdocOyBkI7wncSwjMRo0cDUvNIQxTy4tKQwkNx3kFdgMkwMl/Cz1s+/B6f3k2d942vrWqdUA12jZld014uLmWOuy73v0vvm6/vUCzwewC7wOThEbE0MTFBFfDg8LgQdVBVsExQM6ArP/yvxv+fb2sPUk9iP4iPnG+d75k/lX+WP5jvoX/XP+rv8hAOUAKwGIAQkEdQUgB9MGzgV6BLgBZgBMAH4BqwFzAF3+Dfv89kDzmvHK8kr0YfU89gr25vTz8tbyh/Tc9jr5O/tN/EH8ovvP+nz6XfqT+Sn4afdz9oj1C/Wj9Eb0Y/Nv8l7yePMN9er20Ph++hT7I/ua++/8e/6q/6YA1wBwAK7/4P/0AAwCTwLSAaoAhP4B/d/8Kf5y/+//+P/J/qn89/oE+6787/3d/nz/iP7r/DL7LfvV+3j8kv3Q/R7+Gf20/JL9xv5OAI4BIQMKBLQEMwXoBl0IbgkgCj8KXgrTCEkIRwcxBzsHLQZlBrkEYQTfA+IDtwaMCVUOSBJiFzwcLR9+I80mciskL64x7zNBM+4wyyuPJcge1RazDm4HLABR+K7wt+kW46Xcb9l916/Xrdmd3NLhIeYT6+jviPVB+1f/YwQuCTYNdw/SEL0RwA8hDDgIfARNAaH+RP0q/C76RPdo9D3yBfGk8abzqvYR+R76z/rO+/j8mv2e/qf/K/8B/j79yP2e/yEBuQLSAgkCnAAr/yIB/wNaCKILswwkDIwIcwW1AssBzwEeAXIApf12+VT1v/G477rt9+ye7aXtxO7m78Px1POH9Fv1CfYH97X3nPh8+iH78vrv+WL4lffF9cH0D/UZ9YH1G/Z/9xr5+flY+sv64PvK/Mb9bgBwAlYDPAPiAQkBcv/2/nL/DACCAGj/ZP5b/YL8avwk/TX+if5u/mb+Sf5j/nL+qf4N/3T+1v3n/Qb+X/5f/if+sf19/PL8H/4CAIoCFQQsBWQEBQSwA/0D7gXsBrcI9wgHCNoG/ASsBL4DbwNoA58CVwL9AI0ACAC0/vb9Zvyg/Bz9zP5VAnUFYwowDqoRChYjG7ggliaqLfAzyDhUOwE7azjAM9wrLSSlHG0UjwyUA2b7YPFf58ve2NeJ1ALTJ9Uh2bTdw+I/5+rsLPJL9/38JQIsB4kK8QxZDrUN9AvcCPoEGwEI/rP7J/qC+bL5Xvmh+Pb3uvcA+SX6/fxzAHADWgWxBJkDXgHZ/hX8PfpS+WT31vVw9K/z9vPW9HL2cviT+rP8P/92A5cIsw3EEVUTLRK2DsYKmgf4BVQFFAQmATf8J/bD8EDtsuyZ7tzwxfLi86b03PVc+AH8U/+FAe8BqQBm/9j+zf6k/sP9FPsu9qnxku4q7unvcvK79HX1evVf9WX3gvu1AEIFqAc2CMQGqQVBBbgG3wg3CcsHtgPS/sH60fhq+YL7nv3y/UH82fmd9/v2ZPjk+oj9af4r/m38DfoU+TX5d/rY+4T82vxs/AX8QPxt/WMAnwGwAhMD4wGAASsAHwHvATECCwKXAMb/if0P/VH9Gf5w/zMArQE/ArgCSQOnA+oDhwPPAvwCGAN6Ao8CxQHv/yv+m/wV/Zf+TAL6BnQLrRCFFJYZiR74I7wpAS52Mc0xBDFXLrEpFCTMHAgVEwwmAzn7N/Ru7uLpzeYT5UPkMeX65x7rge+s8yv3h/rq/BH/4wCwAUYB/v+y/U37M/kt+O735PdM+Db5efq9+87+UALGBQUJ9gpVDBoM2QoeCQIHbgS1AI78JfhN85XuPeuM6XXpXOp47K7vyfJf9on6yv9vBc8Kgg+XEr0TSBKGD5cM0wltB0gFNgNDALn8h/k092j25PZU+LT6X/xb/Sn+Mf4W/oL95vz1+9H6Zfnp9972+vR+8xDyPvFI8Rryu/S397z6Rf1q/1UBngL3A5UFwQYIBwsGkQQOA6kBggAm/yD+IvyP+Rn3sfXs9eH22/hj+lf7E/vV+er4wfgL+pD7Ef0B/qL9lfyb+5j7Q/w//oUA0gHsAvgCvwJvAg8C1QFHAUYAx/6E/Vr8wftu+jn5tfeS9Q309vL48031r/fK+PP4s/gL9473u/cu+rT8Qf5q/7L+zv5Y/SD+7v4RAOYBcQKfBGIFBAe+BwEJyAm0CM8IfAjoCREKwQqBC+QKZApHCSELsw1wEf0VCxtZIO8jPiiRK28uKS+gLQIrLCbnIOwaeBX1DmQHpv+l97XwB+vW6PfoVupz7N7ugfGM8yL2ifmB/dcA4wIKBGoESAOPAdz/C/5j/Kv6AvrV+SP6gfpJ+wD8H/wf/dz9Iv/K/6b/C/8J/bP6xffV9TD0ovJs8Vvwb/AU8ZnzCPc6+5P/dwJnBEIFPAagB1QJcgpoCrkIQgXkAFT8N/lg9wf3w/ed+L/5Hfv4/O3+nAEOBCUGpAfKB90HdwdyBnMEzQFA/i76dPZz8xbyIvHg8CDxTfGZ8RHysPO29eD3bfmI+lX7EfsE+/D65vpc+hn5/Pfk9vz1zfXD9g34L/kM+pv6V/tb/IX95f75/1gADgCN/wH/YP5B/hj+v/3a/OD75vr5+f/5m/ld+Xv4eveO9rb1b/V69G/0QfM58kbxmPBB8a/xEfMM82vzmvIP8qvyWPNJ9qz3lvmz+Wr5RflD+e/7G/5kAmoEYwZoB+wGGAgKCHsKagu0DIgMKQs1CpwH0AecBtwGSgYzBYkEjwLHAocClQRYBasFFwauBX8GigYfCXILWw4fEXIT6hbtGYceIiMOKIIrZS0/LnItHSy0KQknlCIhHHEUpQx1Bav/zfs6+cb3gPWn87PyafOu9e34Qf1FAOgBTwFBAFn/n/7h/vf+Of/v/U78Qftk+3b9dgBEBNsGHQjvB4EHHQfXBoMHfgfwBcgBcPzu9jjyVe/B7lfwY/Ir9Dv1gvYa+Eb6Tv2TAIADQwWRBZ8EXAP3AZUAYf/q/aD8nftj+wv8b/3t/0gCHgQWBYIFTwWNBF4DJwEL/5v8HPrs91D2UPV69AD0sfMv9Cz1JffP+Vr8jP6V/47/Gf+j/gf+9/3o/fj8bPti+af3yPaJ9i33WPiy+EH4Z/cI9tT0JPT68wH0TfOm8bDvKO5E7YHtse6t8HLy6PKH8vfx4PEA8hfzy/QA9jH2hfV69GnzLvNx81r1nveB+f76APxA/VX9lv2g/XT9z/vV+Sf4xvXW9K7z5PMV9Br0O/RW9ET18fVU+LP6Cv63AKYCyARwBTUGTwarB3gJEAvqDP4OKBECEp0SjRJfEkoS9xEgEmQStRFjEEoObgt+CAAG3ARUBEwEFAQrBJUEhQTQBbsHaArSDH8O5Q/eEDMTbBVTGfYcTCAlIxgkyyVyJiIoJCk1KeAmjyL2HagX0hJNDj0LVwjfBLEBof6J/DX7JvtH+5P7/fqW+vP5afmA+R75ifiw9l71C/Q/9Ov1dvg6/A7/WQLiBJgGQwi0Cc8KTwquCI8GrgMzALb87fnK97f1QPRR85vy2fG78c/y6/M49fv2ZPg7+Yf5NvlY+cX5vfo2/Gb9tv5C/wwAwwDWAZMD/wPIA/IBtP+8/Vn7zfpx+lT7A/zV+7P89Pxb/pn+Vf+y/+T+Fv58/PD7+fmg9+30nvGf7nXsCOzx7FLuru++8Jnxt/EZ8pDzF/Xu9W/1JfUg8y7xffDB8G3x1fGL8lvy2fIv83j0a/ZA+Iv5y/nm+Gz3HPes96P5y/t0/rz/2P9M/9r9G/7j/qIAEALhAvACRAHf/0r+aP2e/bX9xv3U/XH+Cv/L/1UBPAIdAm4Bef/L/Q39IP37/Vv+LP+A/qj9Rv0E/WD+Xv8LAdQC0wMRBIUE6QSrA2IC+AFpAawBjgNiBesHlwgBCEwHEAZeBuoGBAr/C0cMnQxGC68KVAkCCnoLRwzBDBEMPgxWDFQNzQ7RD2YP4A0MDBYLJwz3D5QVEBs4IMoitCOGIywj3CNEJVwmzSWGIxsfqRkHFI8PkQzZCiUK5QljCUcINge5BeoD+QAD/mb7X/gF9rj0YfTW8xrzx/GV8F3vYO4d7xrxCPRu9u74Z/o8+jD5zffT9m/1I/Xu9SX3o/jr+f366frT+er4Kfjy91D4gfnZ+p36O/nR9rjzHvHT79jwlvOn9r/58Pu0/L37n/oB+nD5nfme+dj5uPnz+Jv4Lfjj97P3qfd6+Nr41Pql/SQAjwI8AgcBY/3c+VP3APaR92b4Hvpj+u/4Rfd/9Vv1xvWF9mb3E/eO9nz1WPSj9Bz0YvM68mvx9vBF8fPzRfdL+qn75Poq+UD3oPWW9jv5cfzu/tj/av97/TL8EvwF/vUAqgPWBfIGXgZrBKoCZQFJAIP/bP9U/mP9I/03/S/+Tf/1/0v/HP6l/GT7Hvw4/p0AoQLsAnsB+P4R/RT9K/+nAqUFVAdKB4YFPQMGArYBUQLUApsCBgOPA5MEJQYjCD8J9gcKB0MG3AbiCZ8MahBIEYgPxwwNCX8IyAhNCw8OHQ8LD8wMxgvaCqAKdwt/C7oL1Qp5CqoLsQxrDoYOTg0HC0gIjQdTCIMLXQ8SEgATYhJrETkR8hLXFdQZ0B1cH3cebhz0GOsUTBE4Dv0L/wmxCMoHkAe9BxoHagZjBDAB0/1L+8D5nvjL+Ln4effT9Bfysu+O7ofvHfLB9QD4cvhv98/1rfOa8lnz1PQh9v/2j/e89x/4N/jt+Gf5L/lb+ET4Rfkf+gf8Vv35/Gv7ePmJ9xr3Hvid+Z/7efwM/DH6dPhU9zf2xfW99Vj20fYP9773hPiM+Kf32fac9lr3Rvnx+0P+sv88/0791/um+pb6pPsK/Yj9Jv21/Ob7V/u8+sr5Q/iT9qL0dfPy82j1Qvct+Lj3EfYH9JXyrfJv9ML2Nvja+AX48PUz9FfzI/Sp9e/38/kf+5L7Nvsr+8f6UfoN+o/6YPsK/Lr9rf+HAagCAgOoAvQAD/+b/Yn9Mf60/q7/IQBD/239RPwm/Ab9Af+EAe0D2ARVBD0DRQKvAXwBVAJXAwkEjATPBIkFWwUnBHUCgwAc/w/+L/+LAX0DtARLBMgCaADo/tv+bgBmA8sFrQfoCFQJzQhZCGkIQgi/CFAJbArWC+8Mtw1dDS8MFwrLB0EGEwY4B2MJewucDDIMEArvBwsGWgUYBhcIjQqbCyoMwQuzCn0JiAhwCe8KJw0XEJ0SIhWGFsQWcRYNFS8ToxFSEcARXRIuEzYT6REJD9sLhwmJCI0JjAtTDY4NOAt5BiABzvwB+iz5Xfl4+fL4/Peb9nn1IfWo9L/z9vEM74HsPuzK7ULwBPOY9PPzofFx7zbvPfIT9+L7Of+v//r8qfhU9dbzWvWT+Mn7fP5q/0X/gP6I/a38wPv/+k364Plr+sD7Dv27/Rj9bvt6+cv32fZR9yb5ovpG++H6efk59zz0sfLg8lH00Pb1+VX9+f5e/x3/Rf7o/Bb7NfpY+ib77fsb/VX+hP3t+h34sfU89Jr02/af+dn6IPqx99H0F/L57y3w/PFK9GL26ffj+NL48PeP9lz1pvRJ9Bv1aPdf+rv8VP6y/qr9X/xp+/n7Df7pAGoDvASyBP0C+wBy/8L+4P6l//AAYALzAxUFdAWBBBACnP5u+wD62vq2/U8BZgRjBdID6gAM/pX8BP0b/+MB3QMtBB4DWQGY/0n+Vv4bAPIB2QPABRcHrQdNBxIHeQalBdQEigT+BTIIowoBDaEOLA6XC08IpAX+BLMG7gk/DZQPKw9FDKMIvQUEBW4Gjwl5DCQOAQ6qCwgJ4gaxBfcFCwdtCKQJ1QrLCy8MhAwPDO0K+wnaCScLzQ1GEecT1BSGE6wQBQ53DIAMAA6KEKkSqBOlE+0S5RFhEL0OOQ1oDDYMPQygDJIMZgttCBgEBwBA/Rr8kfw5/on/EP9Z/Fv4/fM08DTuWu5f8JzyWfQX9Tv0G/Kw7yTuf+3s7YLv3vG484H0avTA88HyjvFd8VryOvRm9qf4Uvpd+uL4H/Zg83Lx7vA58u70zvdW+X35d/i99uL09fOx9H/2pfhx+vL7v/xc/Jf79Pq8+rH6Bvtd/CP+9/9iAeYB/QBq/kT7pPh/90H4mfpF/Xz+o/0C+w/4Ifa19Qn3/fia+hj7bPqE+bL4Hfim9wb3Y/Y09qP2C/jT+Rb7cvtS+lr4gvbU9ZL2kvgi++r8m/3y/Iv7U/rY+Wz65vsH/vf/7QAfATcBYAGCAdYBhAJDA3MDOQONA2MELQWiBcgFOgX8A1MDuAMEBacGJAivCAUIxQZzBcQEuQQwBYEFlgVGBdkE5wQxBbwFlAWfBAkDYAGGAMUATAJOBDkG1gYBBmgE5QLxAo4ETQevCUUK6whLBtoDhQIgAy8FAQe3BzcHRQb7Bc0GYQg/ClQLpgqqCOYGtQbqB+4J+gveDMYLNQnSBoIFnQXzBr0IGgruCZYIRQeWBgkHHAg6CT4K1gocC7ML2Qw7DhgP3Q7bDUgMzAsmDS8PhxEjEzgTpxEcDzENywxRDbgNCQ76Dc8MygrMCAMHUQWVA9cBKQBe/ur8gfvf+UP43/XJ8qrvyuzX6lPq6eq46yDscuuO6RTnZOWe5UbnzOka7ILtru267EnsAO1m7sXv6fC48f/xPPIr88X0BfYv9l71RfR286XzKPWd9wH67Ppn+ir5wvcv98z3GPnV+hD8OPzL+wb7H/o/+fv4dPkv+iD7W/yQ/ZP+8/55/oj9Yfwp/OD8oP5oAXQDHQTkAnQARP4V/aH9eP9+AYMC2AEDABD+n/wH/EL8DP19/XH9vP0F/oT+3v5i/lz9H/xh+0j7jPxS/xkCzAOwA/UBuf/g/SP9d/6FAWME2AV8BXQD6QDO/ur98P4PAd0CrANzA6kClQHZAP4AQQFvAZYBbwGVAZgC+AMNBXkFfASTAqgAMv9j/zsBjAMZBQwFKQMgAJD9ovxg/V//lwG+ArQClgELADf/Zv88AD0BKgJwAlICdQKyAi0DsQPNA3cDrQJaAuECowO8BPYFHQeSB1YHaQdTB+0G/Ab2BwgJmwkeChgKEQl8B/QFEwVWBSAG6AZbBwgH3AVpBKEDcwMfBGMFkwYfB9MGdAYRBjUGUAcmCQULPgywDIMMZQynDNYNyA95EQoSLBHBD2oO6A3YDkYQCBFzECMO9ApeCDQHVwf0B/MHGga7AsH+Ifs4+eP4U/k3+bL3MvW98a3uDe1p7Abt6O3x7Unt/Ot26qLpBuoO6zXs1Oxd7HLruuq76t/r/O0o8AHxhvCv7+fuXu+l8Wn0o/a090T3OfYK9hH3J/ny++X9Ef5b/cb8e/wK/e/+xgCEAZIBDAF3AEgAvQAsAnEDsQNTA7UCsAHMAAcB0gGQAjkDRANkAoABNQFmAbQBsQFRAW4ASv88/mb+sf+DAMoATQDE/vX8CPwD/KH87P3D/oT+o/1i/Cj7xPo4+xH8svyh/DP8mfvy+q36RPvG+5r7gvtf+3P7C/xc/VD/fwBRAF//lf57/iX/GAFxA3wEPQQlAxgCFAL8AmEEhAV1BTAE3AJ4AgcDIQQ0BWoFdAS1AiQB9ADqAQ4DAgRLBHgD+wHEAGIAvQDUATIDrwOFAwcDFQKmAfwBoQKUA1MELQSCA/ACoQIZAzUEGgVpBRAFagTcA58D3wNhBMAEvASzBH0ExANrA3sDUgNnA+YDcQT2BOoEJARMA7wCswI8A28ExQXYBd0E7wMsAwYD0wPxBLsFuQUiBSsEkAPFA0MEfQWaBt0GsAblBX0F3QWhBuMHJwmRCcgIIwg6CG4IvwmNC0UM/guHCvcIaQi6COsJ/wrtCoUJcgemBagE2gR4BSQFfwMhAdz+Hf1L/BP8cvsQ+uH3aPVM8+nxjvGe8SzxIPAE7/ztEO327JPtMu7F7gHvtu507rruau9U8LfxA/Nn80DzLfO68/L0gfZv+Az6aPra+XT5zPnV+qT81P5WAPsAMAEbAbUAkgBBASoCywJZAyMEzATNBKMEmAR5BFQEMwRXBLEE7AToBM0EzARGBEUDgQL1AbsB8QGzAl4DFgMwAn0Ahf5o/Ur9Rv4y/6D/AgBD/8/9ovyr+3n7yvta/DD9l/2N/Tr9efxl+7P61fpX+/z7pfwl/Sn9mvwu/A78APwm/J/8kP2e/m7/VgDlAM4AYwCG/wr/b/8iAGMB+ALaA5kDfwIaAdj/ff/DAAgD8gSzBWcFVQSfAm8BpQG4AtMDegSCBMMD+QKUAhQCzgFqAXUA1v/z/7gA4wHcAusCpAG8/yz+0f3C/k8ACwL8Ak8CVQBh/mT9Jf0N/qn/qwBKAVEBpQAuABMAEQAlAEQATgCcAFcBJgJcA4UEWwRXA0wCLQHcACUCOAQRBtQGGwaQBMICSAFDAeYCtgSMBZ8F4gS/A8YCIgKHAnkDGgRjBJgECwV4BQwG2wYFB14GwAWwBUsGqAd1CRELgwuACmIJrwg6CAoJ2wpdDAYNQwzSCqoJ7AjBCK4IkwhPCGkHggY9BhMGOQVzA0wBRf+P/cb8Df2k/Xb9+Ps0+Vf1//HW8JDx0/Ku85nzMvIQ8NbtOewn7IHtce8G8cPxqPEj8ffwlPHb8vDzn/SJ9Vz26vbW92X5KvtI/JX8j/w6/Cf8jf0xAL4CaQTeBCEE1ALOAZcBfAJCBNkFjQZWBoYFxgQxBKsDXgM+AzsDRAN7A7kDeQOyAmABqP+K/pv+U/9LAN4AQwDa/gD9dvtP+1r8vf15/kf+Qv21+8P6ovpk+5389vyw/Ov7t/r8+U76evtv/Pn80/wE/Jv7hvvT++H8Cf6C/jv+fv2c/Eb8Hf2h/h4A7ABIAD3/kf7o/ej9Kv/mAMgBjwG2AN//aP+U/1AA5QArAR4BXwHYAdkBNAKvAiEC8gA7AEwAYQHnAqMDcgOXAuoA5/4D/oP+4f9CAfcBBQITAZT/kv6h/lf/XwDYAdgCvAIAAkABfgA0AM4AegHMAekBzwHTATQCzgJxA3EDqwLyAdoBagKVAz8Ffwa7BgAGlwRGA8sCTQM7BDcFAgZqBkUGcwUdBH4CNwEVAVECKgTCBS4GCwX7AosAhP4//sf/uAGOA2AEtwOMAj0BSAAXAOwAsQLLBGwGGgc0B7EGsgUYBaIFAAdDCB4JbwlDCWwJDwpvCp4KawqcCY4IBwjhCIcKEAx+DGgLPQk9Bs0DJAPxAzsF7gV+BZwDawDM/OT5hfiB+Ff5Zfq8+oT5kPZG8xbxjfB18fbyXfT69Gn0MfNi8kbyw/LK89D0YPVm9ZT1g/bC9774Lfn1+In4jvhK+Zj6+vtx/bb+SP8v/4v+5P2m/S3+Mv8+AF8BTQJ2Aq8BpADX/1f/J/+V/2QAzwDwANsAiwDk/+v++/1X/Vz94v2Q/vr+qf6o/WP8x/sH/JP8K/1Q/eL8TvwB/Fr8/Pxg/VH91vzV+5r6MPrD+qv7LPzP+8r6w/k++VP5Cfq0+nb6G/pd+ln6Tvrk+tn72fxL/S39zvyO/ML8iP2i/nP/4v8UACwALABgALwAHgG6AUECRwLrAQYCnQJ6Ay0E2APAAqABNgGMAXoCWQOZA4gD+gIyApUBiAEnAswC3gJqAvUB1wFDArwC2AJwAowBtgB1AOgAyAGkAgED8wJYAoQBDwFCAWoCvAN/BHEEBQSFA/ECCgPOA8gEUgUrBbYENgTnAykEKwX1BbwFEwWQBDgEfQSDBXcGjgZ/Bd0DlgJZAvoCYATuBSMGxwSLAo4AhP/A/zkB9wIoBBsE0QIeAbj/Hf/V/60BewNTBCMEhwPmAqQCBgMCBBsFdwVcBWwFsQU8BjsHTQh1CMkHFQfSBioHCAgnCREKdAo+CsoJPQljCF4HpgZVBkwGxAY3B+4GlAXmAtP/xP1C/bX9c/7//l7+IPwW+VT24fQI9b71UvaT9iT25fQz8+nxd/HX8Wvyx/JV88/zwvOJ89DzefQD9UX1MvVI9dn1lvaE96b4YPlK+an4HPj792z4efmg+pj7Ivwj/AH88fvw++n7+vth/DL95/1M/sL+zf4F/iP9/vxr/Qv+0/5T/zb/1/6f/oH+hP6h/s/+7P7X/gD/df/7/0kAQwAHAJX/F//M/iH/AgCIADgAy/+f/y//df7a/df9Lf54/q3+rP6o/mf+4P00/Zn8dfyb/Av9y/17/rP+iP5M/gX+3/0W/n7+Gv8DAKMAOAEyAvoCOAMWA8wCBQJyARICfAM2BZgGDQdZBpkElgJ4AdQBAgNqBPcF+QaLBkwFDgS9AqkBUQHvAf4C9AOXBNQEkwR9Ay4CagErARMBYgGEAvgDTQXjBYIFegS7AsIA6P8rAbADMAbtB98H0gXeAm0AbP9SAMYCWwWOBisGyATZAlsBHAHgAaQCEwNoAycDvgKeAoECZAI2AqoBWwA9/y3/9f9lAakCFANgAr0A3f4+/bT8ov1l/zkBjQKoAkgBS/+V/XH8GPwS/TP/PwFpArQC3wEPAI3+Jv7P/mAApgKnBKMFMQYiBnMFvgROBL4EEQbUBzMJ8gmXCuEKRQrFCMcHyAeYB4cHNQjLCMwIuQhvCDIHFwXBApEAeP/n/7UAVwHDARYBpf5g+2X4A/Y/9Tb21/c1+W/5ePiV9hb0svFg8JnwMvIx9HT17PW39Q71HvRU8xPzsPKc8rjzivVs9z35kPp4+vj40/ZX9cL1Cfgy+xf+2f8QANH+yPxc+yb75Puf/cv/cwFJAr4CkQJqAfj/sf43/uv+xwAZA7AEQgVqBH0CZgDF/j/+Df/7AOYC/ANPBLADGAL6/zL+SP1l/Xz+QQAJAuYCjwIJAZ7+bPw7++X6Gfym/oYAWQFNAQgA+P1B/IP7T/vp+0n9lv7l/zYByAEmAbr/7/0M/AT7y/so/j8BOASkBW8EfgFl/vP7cfu7/WwBrwSnBtQGEgUuArf/0v5X/6wAkwJhBEEFWgUQBQgEqAKRAX8A8/+PANwBIAOWBMcF9QSCAkEA3v6F/nX/UwE+A1wERARVA8cBNABa//j+Ov9aAPkBMwPUA/8DIANdAX7/Uf4M/gL/9QCIAn0DegMUAgMAQ/4u/Sb9xv7iAFkCDQOyAkYBdf/t/RP9sf0u/38AlAFGAlUCdAFyAH3/O/5o/az9Iv/dAE8CIQPdAl8BOf/l/aP9Xf7//+UBUQOdA/0C3QHqAHAAWQCGAEQB+wJ7BFsFEgYYBu4EvwOWA3YD4gOVBYYH9AiGCTAJ1ActBlQFUAXDBcoGHAhWCJAHmgYVBSoDNgJSAgsCqQHlAfIBNAErAED/AP58/AX77/mf+SD6Cvtx+2j76vo0+Qz3z/WH9d71SfeI+Q37PvuR+j75g/dA9mv2MvjJ+g/9WP5N/i39xft/+uD5pfpD/L79M/8yAO3/FP9D/jH9XfyE/A/9bf1p/tP/iQCgAFkAZf+8/ZX8h/wh/cT+MQEQA3QDpwL4ALL+ZP0O/tr//gFgBJcFawRkAuEAs/9H/1MApAH3ATMCrgIvAhQB0QBoACn/Pf6O/fL8If12/sf/yf8W/8P9aftY+Rb5G/qr+979ff9J/7/92fvu+cH4WPlQ+4r9hv/pAJkAsf7q/Ob7UvuD+wn9+v4xAN4AFgFbAO3+1f3V/Ob7Lfxl/d/+swAgAtEB8v+1/b37p/p6+zL+/QCNAs4CtAGB/2f9vvxp/db+zgA4AlMCKwIsArsBUQE4AdoAIADZ/2kAaQH9ApAEzgSzA/UB8f89/iz+3P/7AcADrAQrBDoCuv/r/XP9NP7f/5ABkQK3AtcBWQDH/tf9rf3z/RL/nwCZAasBUAGeAEv/P/7f/Sf+bP8yAeYCtAMUA7MBCQCN/lb+if9EAQwDmwTLBFYD5gHEAOT/MQBdAaACiwNHBKkENwS+A4cDWwNlA9kD6gQ2BgEI7wmCCiAKogm7CMcHlgdjCMwJbQvsDL4Ngw38C78JpQfXBe4EEQWjBUgGggbnBSIEtgGB/4X9RPwT/EX8Lfy3+0z7o/rZ+Zj5VPmj+O73kveQ9/H3Rvnu+pX7g/v9+qn5cvjD+GX6R/xE/sn/ZP+J/bn7gfp4+hb8If4E/9/+Nv7k/JH7W/sX/Mj8Mf0l/SD8rvoR+qP6uPvm/Lr9WP04/Hz7HvtJ+5D8Gf63/qb+Vv7d/cT9aP5l/ysAfACEAJEAkwBoAF8AeQBIACoAWACjAIQBogLIAvQB4ACC/xL+Nv7X/z0BWQIAA00CrQAh/zr+JP7u/gAATgD//33/wf4a/gj+kv6p/hP+sv0d/T/8MPwO/fP9mP7h/v79W/xf+yf7hfvJ/GH+JP8L/23+/Py6++X7dPy9/Fr9/P0N/uH92f2p/XX9Zv35/JD8tvw7/fT9w/55/1H/Ov6w/f39ZP46/30AGQGcAAEAtP+j/2YAhwEkAmUCaQLoAT8BVwHZAQUCPAKsArUCSQJLAvICSwPsAm8CDgJ6ARkBhQFUAgkDsgONA4QCtwHqALj/RP8rAEUB8AGzAtMCaQFS/7r9Af1k/QL/QgHlAjADMQILAAz+mf2J/jkANQLYAwgE9gIgAroBwwGcAqgD6QN+AxsDwAKsAnUDmAQuBf4EBgSYAtEBQgJ9A0AF0wYbB/0FdgSBA5QDDAWNBzQKFQwlDLkK3QhQB+gGEAhQCogMsw06DZ0LvgmyBxcGnAWvBYoFKQWPBIcDNAKxACP/yP2k/HX7XvrO+av5iPkw+dX4IPjF9r/1gvUF9jD3bfgk+RL5r/gf+G73X/de+Bv6yvsn/ef9mP3P/Av8TPvr+oX7ffwT/fv93v6g/nT9Ivy6+lP5QfmG+uf7Fv2J/W78Y/rx+H74+PjY+nr9Af///l/+Qf0s/F/89/3g/1MBdALXApUCjALRAg8D5QKJAjYCuwGiAW4CQwMuA7cC4gEeAMD+y/41/2D/yf+P/7f9GvwV/Lb8kf32/iIArP+A/rj9qPxm/Ab+6v+FANMANwFYAHn/3/8sAPX/BAADABz/bv4W/zcA9AA2AZkAyP6P/DH7EPv++z7+vwCOAbwAAP+H/CX6rvlP+0n9Gv+pABUBFwDK/ub9Jv3X/E/9Dv6a/nf/ZwDDAO4A0QASAOv+W/6t/jv/UgD4ARoDGwOsAiICIAFWAHAACQEWArED1QRaBa0FCQWHA1QC6wExAmkDMQVPBqgGXwYtBd0DHwPNAvoCfQPcA6oDbwPiAzsE+QMmA/cBYAC9/n3+hf85ATQDHgTnAiMAgP2x+4f7ov28AAcD0wMpAwEBj/6P/V3+0/9ZAQYD3AOAA/YC3wKDAtgBcAGvANr/HQCsAS4DPgT4BN0DJgHK/sj9rv3l/tIBKgTMBGYEBAPmAKn/swDAAsAE8waHCLMIHwjGB1EHwQZPB3YIEwm2CaQK3AoUCjoJ3weUBYgDCAL0AKEAYAFJAvIBVwDE/dL6HviB9mX2pfYC93f3Z/ei9sv1KfVP9P7zc/Ti9C/11PXN9rn3j/jz+Mb4TPhF+C/5qPo1/ID9Vv47/lD9Yfzt+yf89fwX/if/1//7/5n/yv7H/Q/9rPyO/M78cP1G/gX/tf+m/0j+ofzZ++37sfyV/uEA6gG7ASUB0P8u/qn9Xv6O/9oAMwLiAvQC3gIaAq8AWf+P/in+YP69/3kBXAJcAm0BPf+6/Gv7nftv/Kn9Vf+DAIcAf/9C/nD9Av1J/fL9f/5U/3YARQGHAYQBnAC7/nj9Mf1I/Xr+7gDlAicDGgI8AOL9Lvz5+x/9HP8pAXECYgJSASAAUP/p/uj+Mf9y/7n/ZQBsAScCQALrAeQAP/8X/kP+Zf/bAIECfQPNAgQBev/q/l7/vABgAi0D/QJdAqEBQQHNAc0CKwPvArYCXgLzAV4CngNRBPYDPwOIAr0BrAHIArsDvwNKA3UCXQEiAVECsgOFBJYESgMgAbr/3P/iAGQCAQRsBBcDFAGw/wX/If9bAIYBTgFgANH/d/9b/z4ARQEAAQIAAv/5/XH9Zv4lAOcABgHpAPf/vv5t/un+QP+3/x4Ah//u/lb/AABSALcASgEwAZgAlQBTAWcCeANjBKsEMQQnBFEFLAciCboKZAvYCrIJ4wjSCLAJDQsODBUMPAvjCV8IRwfaBmoGOgWQA5MBUv9S/TH88Pvj+6379/qB+Vf36/Tp8rLxyvFm83P1pPaZ9nf1ufOD8sHyLfRh9s/4WPqO+h/6h/nx+BD5RPrq+5P9Zf+9AOcAAQCr/kj9UPyT/OX9yv+HATsCsAFCAJf+R/3o/GL98/2N/kr/tf/m/wQADADX/2D/7P6d/sr+gv+4AEwCagOFA7gCNwHt/6z/RABJAaAC1gPUA+cCxQFIAOP+Vf5Z/oX+UP+hAFQB3gDD/xn+Afxe+hn6+vpx/ID+aAAEATwAwf62/N76afo++xz9+P/bAlgENgT3AtgAz/7q/Qr+EP+/ALQCaQQqBeQEmQOgAXD/9v0V/lL/FgHXAn0DpwL0ACj/uP08/Qn+KP82AEEBogH/AMn/nv5b/Vj8VPxZ/Rn/IgHFAjgDGQL4/5T9lvvy+hf8e/4BAUcDmgQOBDECAgAc/v/8cf0u/zQBGgOfBDoFpAQfAzsBwf9O/0AASQKWBC0GUAbOBEwCBADm/lX/HAGMA4EFHgYzBSADiQA+/i79gv2s/lEANQKHA3MDGgIXALz9vfvu+nj74/yo/kcA8ACEAGf/8/20/Bv8PfzD/Ij9W/7f/ir/gv+z/4r/M//d/mD+7f1M/mD/ZQAtAawBewG7ACUADQCKAK4BGAMGBD8EBgSxA2wDawMVBPsErwWxBsEH+AfiBzUI4gfFBk0GagZgBs0GqAf3B8IHQwdGBgoFEQQPA9YB3gAyAL3/i//I/9r/C//b/d384Puw+tj5eflW+Yz57/k7+nP6ivoe+oL5Xvmm+Sz6AfsB/H38hPyz/BX9Yf2s/Uf+1/4q/1j/cP+C/8H/MAB1ALQAAgEJAY0A7P8v/2v+cf6R/xQBIAJ8AsMBGgBu/lj9N/0v/t7/WwFCAqICYAKDAYEAvf9E/x//iP+BAHwBPALWAt8C+AHZAO3/1f4n/p7+if8gALwA5QCw/xL+LP2t/Hv8MP1x/vv+uv5J/oX9l/xQ/MD8I/2D/TT+uf7T/hH/bf9r/4n/+P/5/zr/dv5G/qH+qv9hAfMCkAMWA20BKf+T/Uz94/3z/noAnAG/AVgBmQCD/3H+8v3M/Z/90P2K/if/hv/q/9//OP+Y/mL+Gv4J/qv+YP+4/8f/y/+Q/y3//v4g/4P/BwCuAAcBxgAkAI3/Vv+o/z8A6wCvASUC2QEGAV0A+/9CAGYBoAI+A0oDqgIkAZf/K/8AAI8BhAPRBJMEJQMuASz/vP3q/Yj/WAGvAksDtAIfAY7/hf7r/dP9PP6T/gT/t/8VABkA1f/l/lf9I/z8+3X8Zv3P/uL//v/6/sL9wfz++zP8Kf1f/mr/JgBEALX/Vf8E/5P+qP5t/3UAbQGGAp0DGAQTBAIEuAMtA98CRgNGBIsFDQdeCEMJqgltCeUIQAiGB54GAQZEBjcHYAhMCZsJ9ghzB3UFgQP3ASMB7AAAAfQAewDt/yL/D/70/O/7//pM+ij6/fmW+XX5Y/nh+Fr4bviw+PT42Pkr+9r7zPux+1z77/oK+9v7Df0z/nP/PwBVADIAUACTAMwAdQH/AasB2wBDALv/iv8XAAIBIQIIA2IDxAJhAZj/6P3q/KL8Xf3i/poAJQIJA2sCdwAv/kv8VPv0+y7+yQC8AiwDIQLr/279Dfwu/KP9vf/wAfwCUwKsAHL+L/z1+pP7Lf3s/osATwF2AIn+Gv16/F/8xPxS/XL98PwE/fz98f7a/4sAUgD1/pb99PzA/EP9bv58/w0AJAAAAND/qP+0/5X/Av9g/ib+Vf6e/mT/egAIAc8AAQAe/17+8f1//tX/7gBVATUBagDz/hf+SP7d/tr/OgE0AjMCugEDAbv/iP5V/qH+A/8TAJIBOwL7AawB7ACo/9H+vv70/mz/KQCQAK0A2wD9AMoAnQClAIAAZABoAEcAMQDBAIUB1QFQAiUDcwMZA9ECPAI4AfcAxQGvAokDvQQrBfEDKwLQAMz/rf83AUYDNQQDBCcDVQEb/8/9xf1g/m//AwEWAt4BxQCT/27+c/13/XX+mP9xADIBZwGgAPL/+//+/6H/u/9DAKQAbgHVAtsDsAPmAs0BNQAx/9X/iwEiA48EuAVJBWIDtwGpAB8AtgBdAucD0wSxBekFCAXoAzID/QI+Ax4EGgWQBbEFoAU8BdUEvgTfBPkE2wRYBDMD7QHkADEAOwDqAJABRAEXAGL+GPz7+Tz58/kW+yz8xfzO+1z5D/fe9cH1JPcD+sT8uP0e/dL7/fmU+Pz4CvtS/VX/+ABlAZsAp/80/0T/6f81AZACCQOOAvwBhgGyAP//JwB8AGwAigDBAEwAYf+x/tb9h/yx+8z7dvxZ/XP+MP/L/o/9A/zL+n36SfvK/Cz+If9r/zH/4P6H/mX+v/5H/3D/ev/s/zQAHAA5ADsAw/9C/zj/O/9V//v/fgBcAOH/gP/7/nT+av6L/oz+1/6y/1YAlgDEAGUALf/q/Sj9jvyX/Nf9dP93APkAMwGTAEX/Q/7D/Xf9Yf39/c3+Rv/h/8cAUQEAAXwA5f+e/jT96vyA/Rn+Jf/NAKQBGQGQACAAAP/j/eD9Rf5U/h7/vACYAWIBHQGPAB//xf3d/d/+XACJAlkEUQRwAlEAjv5v/f79UgACA8oEpgVvBdIDqgFhACsAnACjARgDCwQuBFkEswSMBOUDRANOAv4ALwBJANwAyAEIA6wDKwMCAp8AEf/l/dz9i/4m/+L/nACOAMz/G/9q/mz9DP2l/XD+Zv/bANABagFbAFH/G/5//ZL+fgAaAoUDqQQ/BIoCGgFjAPb/hABFApgDDARIBGAEeQNaAhAC+gH8Aa4C5QM4BMgDkgMxAzMCtgFuAlIDCQQBBX8FWwSjAtABhAF2AWYCBwS4BDYEmgPtAvMBmwE6Ao4C9AFNAa4AZv9c/sP+lf+g/2b/Ef+s/db7VvvC+xL8n/xA/Yv8s/pc+dT4xvjb+RL8xf1U/vz91/wg+wb6O/oF+1/8Lf6T/+P/rP9i/8/+cP6S/s3+Dv+t/xYA5P+j/5H/Zf9t//H/RAAoAOL/Nv8O/jT9Gf2M/VL+Ef8t/4X+l/2v/Cr8Z/w0/fn9Zv5h/tj9If3R/Af9nf1Y/uT+LP9H/zj/GP9M/6v/uf+D/zv/0v6v/oL/3AASAhQDdANwAoIA6P7v/ZL9a/5UAAICtQKFAokB3P9t/vb9H/6R/k3/HgByAFMAQwA8APn/lP9O/yL/9/4M/5D/OgCyAOcA5QBsAIL/yv6S/pH+1/61/7YAOgFtAXwBzwBb/wD+SP0m/eT9v//mAW8DAAQyA+UAJ/5x/EP8fP3c/6kCygRnBWcEbQJvABb/rP5d/+MAggLJA5sEmASpA4QCkQGyAFoAJwFwAl4DHgSYBBUE5QIAAlcB2AAmAf8BbQKuAkADfgMhA8cCSgJCAVkACAD4/1EAXwFSAnYCIAJmARcA2v5q/oH+wP5F/67/Z//z/gH/L/8y/2n/iv/v/iD+2v3Z/S3+av/kAH0BdgEzAVoAYf9R/+f/bgA3AUkCzAKnAoYCSwKbAQIB8QD5APgAaAE3AsYC8AK8AtgBZAAh/3r+W/7l/jgAzwG+AoQCUgGW/7H9Tvw+/Hj9K//GAOABxAF0AAL/Av5b/WD9Of4b/5H/CgBuADQAxv+3/4H/tv70/Zb9bP3P/RD/ZgAKASsBuABA/2X9ZPx0/Gv9eP/VAfwCqwJ3AVn/8vwS/D39M/86ARMDqANsAlkAdP4p/RT9W/4MAD8BwQGPAZoAUP93/k3+ZP6I/gn/v/8VACIARAAhAH7/zf4q/mv9Nv0m/qL/4ACqAYwBFQDq/Tf8lftJ/In+ewFyA6kDaALm/9L8/fpk+yz9l/9rAk4E8gMvAiwA5P0Y/DL8qf0w/xkBTQMBBNUCPQGL/4r9kvxw/ez+WgAcAk4DxAJQASAA5/66/a39pf6M/2kAjgErAuUBhAEDAc3/l/5Q/of+/P48AMEBWQIjArMBswAy/zz+Jf5h/vj+OACGAQkC4AF5AZwATv94/n/+1/59/8kA2gHGAVkBKgF4AGn/LP+O/5X/rv9xADABgwH3AWMC/wH1AAsAZ/8U/6r/OgG9AmYDUQONAgsBiv/5/l//QQBTARkC+gEXASYAoP+R//L/sgBdATUBLwAn/6b+k/4u/4cAlAGSAe8A0f8j/hH9g/2P/nz/mABIAbAAsP8u/6r+OP62/qH/7v8IAFYAQgD9/1MAxwBuAMj/ff83/w7/r//GAHoBzAHGAdsAY/+H/o3+Iv9sAAQCqgIUAvwAp/9n/jX+Q/+rANYBbQLYATMAlf63/ar9hP4OAHgBCwKTAUQAs/6c/Xj9Rf6W/80AeAFWAWgATv/L/t3+If+h/yQACwB8/y//MP9h/x8AIwFrAdMA8v/j/u/99f0D/0UAcwFlAloCNQHe/8P+4f3c/Qr/fwB7AR0COwJ6AVoAhP/r/qD+BP/F/2sAIAHFAbwBJwGQAL//pf4Y/kn+nf4+/3AAWAFpASgBgwAi/+v9t/3//ZH+8v97ARQC+QF5ARgASP5x/cz9rP4FAJ8BZwL0AfAAx/+s/k/+Ev9BAAgBTAEfAYkA+P/v/1wA2gAoAQsBYgCN/x7/QP/R/6sAfAHJAXgBxgDl/xD/sP7t/oj/RgD9AFoBPgH6AKcABABN//n+5v7t/m3/RQDSACgBgwE8ASoARP/G/jv+Mv5E/5gAcAERAjACJQGX/5b+G/4R/gH/pQDBAdwBVwE6ALf+y/0O/gD/LwBaAbABxQCO/+D+o/75/ioAeQHyAaEBywCV/5X+Zf77/h0AXgHvAYoBrACd/57+a/4z/zAA3AAqAekALQCN/2D/mv8xANQA7wBvALP//f6m/hT/FQDzAFIBFwEgAML+wv2d/Ur+lf//AMQBjwGqAG//SP7n/YP+e/9JAOQAAwFYAH//Of9T/3X/3P9aADsAp/9e/1T/W//2/wwBjQEnAW4Aiv+c/mP+Hf8pACMB3gHRAd0Asv/P/k7+ff6D/8UAfQF1AdEAyv/h/qn+M/8ZAOoAQwHbANr/5v6L/vD+8v8IAWsB0gCx/5H+6/1C/pf/HgH/AfQBGwHH/5H+KP6//t7/5QB2AV4BnQCb/+z+xf4L/53/QQCeAHsA+/95/0T/Vv+P/+D/LgBOADwAGwANAB4ANgBBAEUANwD5/7X/tf/q/z4AxAAoAfcAXgC//yr/3P5J/1cAegFGAmEClQEnAMH+Af4//m//EAFPAmwCZgHo/2X+Mf0d/YH+WgCeATAC8gGzACn/Tv5E/tH+4v/6AGkBJwGiABQAnv95/6r/6//9/9T/hf9R/4X/EACeAB8BiQFfAWMAK/9h/kP+9v5QAJUBOgI2AlsBt/8w/oz9rf1p/rn/+QB0AUcBzgALAD7/3/7b/uz+Q//w/3YArwDlAPwAlQDi/0D/rP5N/pb+bv9GAOoASQERAVAAif8O/+f+N//s/4MAsQCiAH8ASAAiACEAGADz/8v/kf83/wD/Jv9///L/jADzAMEANQCy/y7/wv7o/qj/eAANAWcBVgHAAPj/XP/3/r/+1f4+/8L/GgBLAHcAhQBHANn/eP8y//n+8P5L//b/zACYAd4BbgGdAKb/n/4P/nD+XP9PAD0BwgFjAX0Aqf8E/7T+//6t/0sAzAAhARUB3wCpAEEA3f/U/8z/b/9Q/7//JwBaALAA7wB+AKT/G//r/uv+cf95AFQBswG2ATcBKAAp/8z+5P5L/xEA5wBRATkBtwDW//b+qv7t/mD/7f+NANcAjwAoAAIA+P/w/zUAmgCIABoAz/+T/y//N//g/2IAkwDBAIMAj/+s/mX+YP7A/vH/KQGuAcwBkgGgAFj/v/7E/u7+h/95APoA1QCXAEsA2/+k/6f/c/8s/0P/e/+i/ygADwGzAeEBmwGbADP/Q/4p/qf+qP8CAecB1wEtAToADv8R/r39Bv7A/tn/7QBzAVAB0QALADv/v/6p/gT/sf9oALMAmQB6ABIAdf8d/w7/A/8b/5n/IgAuAAAAAgDm/9D/JwCgAKQAbgBpACkArf+t/ykAYABoAIgAYQDG/2H/ef9v/1j/of8WAC8ALABFABIAuf+3/wcAPABwAJ8AfgBIAD8AEgC//77/5//M/4z/mP+v/6n/5/9DAF8AOQAQAPP/vP+K/6b/+P98AAABAwHCAF8Axv81/yn/rf8NACkASgBOAAIAmf9k/2f/kv/Z/yEAVwByAFMA8v+d/4L/nf/n/zMAWgBJABMA1f+P/2X/c/+M/57/xf/q/w8AWACZAJMAPgDU/3L/Tv+j/y8AsQACASAB1QA2AIL/xf5x/q7+cv9tABkBTQEbAYwAtv/j/qX+Cv+q/zgAfQC+APEAxgBwAC4A6f9L/8v+6v5Z/8b/XAACARABrgBZANr/FP/A/jT/6/+gAFQBnwFEAXwAl//1/tD+If+W/x4AiwCHADYA8f/X/83/wP/C/+b/3P+6/9n/IgBrAJkAnwBzAAcAlP9P/0//X/94/8D/IgB3AH4AOADC/0j//P4T/5n/XwDVAJUAQAAmAOD/qP/g/zIALwAJAAoA1/+H/5X/1/80AGwAaABtADIAyf9x/0n/gf/8/3UA9QAbAZAA5f+m/8z/3f/o/yMAMADj/6T/z/8YAEQAcwBjAB8A9/+z/3H/h/+E/5f/MACfAOkA9wBxALr/If/5/k//3v89AFkAcQCAAFcACAC6/5D/ef9u/4r/vP8wAN0APwE4AeEAGwA+/77+pf4X/73/VgANAb8BtAGkAGr/Gv5x/U3+xP8LAcwBvQHXANv/V/8K/xf/bf/A/yAAjADnAPkAdgDV/6D/X/9i/8D/3P/j//r/EwA4AEoAQgAqAM3/QP/w/i3/5//fALoBaQFtAKv/rv6C/iT/9//iABQB3QCwAC0AS/+v/pL+1/58/4UArAHvATcBTQCF//D+tP4C/2//4f+FANEA/wAyAaAAvP8b/7b+xv4B/4n/XAAFAXEBmQHlAKX/1f5w/rD+UP8oAP8AEgHJAHkA8v9C/6L+nf57/1cAsgDRAGIAjv8r/2n/4f8hABUAAgD3/wcAHwAAAAoA9f/6/x4A9/+n/zj/n/9eAMEA0wBKAIH/Ff8f/2v/wv8lAHwAuQD0ANAAHgBS/+3++/4l/5L/eQDbAKkAjQCpAGcAqv+r/w4Ayv9V/1H/lP/R//D/fAA0AUQBzQArAK7/G/+T/tH+jP9AANMAJAEWAakASwDL/yb/E/9W/6b/IABYADcAEgDr//D/FABRAFAA5/+m/2T/Sf9Z/6L/fQAAAZoAHAA5ACMApP/2/1cA3f95/5P/NgCtAGsAFAC//3j/y/+vANUACABF/+D+3f5y/60AfgFFAaIAJACn/0n/LP9Q/8v/+/8PABkASwARAR4BZAC8/zT/Of9+/+D/VwD3/y//sv8JAXgBSQHQALb/cv4S/tz+/v+8AMgApABgACMAdQCAAAkAzv9x/2L/u//j/xsAKgAPAI8AOwElAY4Aef+K/lf+A/8fAAQBgAEdAa4ATQBY/+b+LP9Y/7f/IgAvAF4A6QD2AGYA2/+h/17/If+Z/zkALgDe/x8AigCVAIcAigAJALP+/f31/oAAbAGhASEBw/+U/u3+7/8ZAPj/4/8FAPAAJwFZAKb/8f6//jf/yP+vADgBngCy/yv/N/+u/zsAwABxADr/jf4P/woA4ACdAQ4Bv/+s/5j/S//h/xIAt/8VAEAAlABXAfMAZgCp/4X+0P7M/3UAwACJABcAtv/q/2AAfAASAJ//Vf/L/qL+qf+WAO8AdQEAAcH/+v70/iD/OP9l/37/BwDEAFoBWAGeANv/J/+r/pv+cv+9AAMBegA8AA8Asv/P/yoAbgADANr+9f7U/ywAjADYAMYAYQB//8r+Av+K/x4ACQCm/87/BgB5ADUBVQEZAKL+H/6e/qr/lgAeAdsATwDp/4//3P+fANsAIwA3/8L+8/7K/70AWwEbATYAi/8u/0r/2P8cALv/9f/xAPoAUgD7/8//Yv/8/pv/nQDvACsBMQEyANf+sP5H/5//lQA1AVcAkP8EAJ0AcQD9/+D/u/84/1P/FwCaAKIAywC8AP7/5P9dAOj/7/6S/vP+4/8hAR4CqQEHADL/df+b/4T/AwC8AHgA+P9RAJ0ACgCR/zwAkgA4AE8AQwC1/wf/AP90/+D/zABwAecAeABtAA4Atf9//zn/1/7v/hUAIwEbAfwANAHoABUALf9S/hH+j/5e/0wANAHTAcsBVAFmAFz/vf4+/mP+Vf+FABoBwQBYADIA7/+P/9b/RADU/1j/fv+x/4n/f//U/1wALwGfAUwBwwCb/x/+4v3R/vX/zQD6AN8AogAuAMj/Uv/e/tT+U/+y/xcADAFRAbEALgC8/4v/y//u/7n/kP+h/6L/3/+hABsBowDK/1//BP+P/gX/VgDoAKQAIABc/zT/mv/8/04ARwDG/1//q/9eAPwAzgAaAJv/+/7A/mj/KgB2AIwAYgC7/5b/MAB2ACQArf9P/zH/p/9mAB0BTgGpAPz/R/+Z/tT+s/+oACsBwQAcAL7/6P9QAFAABwCA/yz/Uf/A/0oAiwCLAH4AZAATAKT/g/+o/4X/Vf+V/9X/PQAsAVcBVQCL/xr///6S/ygAfwDCAOAAvwBBAO7/IQBYAOb/H/8A/zP/yv8FAagBIAEVAEn/8f40//b/dQCDAIMAagBTAE0ASAB7AFIAlf8E/yP/6v+hAOIA1AAfAG//fP+6/+D/JgCdAGYA2f/O/7L/i/8HAAUBTwGDAPP/4f+k/3H/lf/F/4v/j/8lAHoAvwAWAb8A9P9w/2D/xP8kAF8AfAAiALf/vf8HAE8AiwCPAIQAkgBHAHr/t/50/u7+9v+fAOQAKwHhAB4A1f/0/8z/Sv8o/4H/1P85AMIADwGYAPP/tP9x/z7/Nv9B/zf/bP8nAJYAfAByAGcALgDV/5D/Z/81/z7/qP8yAK4ADQHeAE8AAADa/5H/Q/9d/8n/EQAuAHsAnwANAFz/Nv+E//P/MgAvACcAKAAJAMb/q/+q/4j/Xf9l//j/ywDtAG4AAgB2/+T+3/6H/3oA9gDIAGkAMQDs/57/lv+s/7z/3v/K/8P/SgCdADMA1P/v/z0AaQBbACoAr/8p/+7+PP/7/4wABgE2AdMAKABu//v+Ff+r/z4AdQCCAFYA7v+y/7H/2v8eAEEAJAAPACgAWgB+ADAAnP9l/7n/IwBlAGgACQCg/6H/NADqABoBsAAXAI//Of83/6T/SACFACgAwP/E/yYAowDTAJAA//9g/wf/Lv+R/+r/YgDBAMQAjAA/AOr/rf+V/4r/nP/Q/0oAzADAACoAm/9g/0n/bf8BAIUAqwBtANr/af+E/zIAsgDFAKEA7//4/qv+Uf8rAHAAZACQAL8AxAC8AHwAzf8S/6r+hv7v/gkA+wAiAfgA4ACXAO3/bP9k/0v/Hf89/5T/4/8fAFkApQDOAJcAJQC2/5//2f/M/1f/L/9z/5//DQATAc0BfwGHALn/av9D/xf/JP9g/3f/p/8rAMgAQwFFAaQA0P9R/yX/Ev8i/33/7f8EAAcATwCgAMoArwBRAN3/Yv8A/+P+O//e/1UAggCUAI4AIwCN/2D/jP+m/9f/ZADZALEANwCz/y//H/+Z/xcAcQCcAE0Awv+E/5n/0/8eAFoAeQBeAPz/v//F/8P/1P///w8AKABYAFMALwAkABEAAQAgACgA3f9t/xb/+f48/9n/owBkAbUBPwE9AFj/3P7L/if/sf8HABEACgA0AH4AqAC1ALwAmABLAP//qf9k/2z/bf85/3X/RADjABgBVAFuAekAGQCa/1T/AP/O/uj+Nf+v/1QA9QBWAXYBPwFvAFX/uP66/uv+Sv/R/w4ACgAUAC8AewAKAVMB7QA+AKf/EP+i/uL+uf9VAG0AiQDYAOsAnQBAAPH/f/8C/93+KP+l/xAAOwBPAJcAzQCJAB0A3f+F/wv/yv4C/5n/QADaAGABeAHnABQAaf/o/rr+DP+Q//X/PQB4AKgAywC7AG4ACQCc/yj/2v7g/iv/hf/Q/zMAzQBAATYB3QBdAKb/3v5a/lb+6v7j/9kAiwHUAZoB9gAzAJD/H//Y/r/+3v4n/5H/IQDJAGcBxgGkAQoBNwBV/47+O/5x/uH+XP/+/7wAPwFrAW8BQQGgALX/4/5K/vT9CP6S/nv/pQC+AVcCRwKvAbIAg/+W/k3+jP7//o3/NgDPABUBDgECAf0AtgAkAJ3/Qv/6/ub+R//3/4EAtQC3AK8AmQB2AFUAMwD8/6z/V/83/2X/p//V/yMAiACuAJMAawAgAKT/PP8Y/zP/kf8lAK0A6QDaAJAA//9a/xH/N/94/7r/EQBeAHMAagBsAHQAXgADAG//7v68/tT+Qf8VAAEBdAFHAcUAIgB0//r++v5b/9D/IgA/ACQA7/+//6v/yP8pALQAEwEBAX0Auf/r/mP+cf4d/xMA2gA6AUoBCwGBAPT/rf+c/4b/Yf9W/3n/s////3AA/ABkAXIBKwGvAAUANf+M/mj+vf5S/xQA6QB/AZABJQGVACEAyP9+/zj/7f60/sT+NP/2/+IAnQHFAVQBiwCm/93+g/7A/lL/2f86AIgAqwCHAE0AJgACAN//0//h//f//v/q/+T/CgA4AFAAbgCXAJwAaQAnAP3/3f++/7j/0f/x/wUACgAEAAoAIgAzADAAGwDu/6n/dP97/8D/HQBxAJ0AlwBuAC0A4v+p/47/ef9n/3//y/8lAG8ArQDYAMAAXQDm/4L/K//y/hX/l/8vAK8ADwEwAeoAXwDS/1n/+/7k/iH/if8CAIMA4wD1AMQAagDx/33/Qf9N/5b/DwCAAJ4AYwAAAJL/Ov8z/37/5v9IAKAAygChADMAqP8m/9z+8f5X/+b/egDhAOoAqABKAPH/tf+v/8T/wP+m/5X/l/+3/wEAZQC8APAA5gCNABIArv9h/y7/Sf+z/xMAPgBbAHQAVwASAPH//v/3/6z/Sv8g/0H/f//L/0MAxgDuAKYAUAAeAOH/lv+I/8D/7f/Y/7T/wv/0/x4AQQBwAJEAaQD6/4j/O/8M/wT/Rv/R/2sA1ADqALkAZAACAKj/e/+L/67/v//P//r/IwA0AEUAagCAAFsADADH/5b/eP+I/+f/ZQCsAK4AlwBuABMApv90/47/uP/a/w4ATwBuAF0ATwBeAF0AIADA/3v/av99/6//BgB2AM8A4gCtAFMA7v+E/z//WP/D/ywAYQB2AH4AWgD7/5L/Y/92/6f/3v8iAGAAYgAfANz/yf/F/7H/sf/g/w4AGAAZAC0AMgALAN7/0v/a/8v/q/+j/8L/7f8YAE4AgQCOAGwAOAAFAM3/jv9s/4P/vv/8/z0AiQDAAL0AigBGAPf/pP9u/2L/ef+1/xcAgADRAPwA7ACNAAAAgf8y/xz/Tv+5/ykAdwCWAIMASgACAMP/lv+O/6r/x//M/8//4P/w/wAAHABBAFkAWgBDABYA3v+n/3//eP+k//L/OQBqAJMAqwCYAFwAFwDT/4T/QP88/4j/8v9KAIwAtQCnAFAA2/+E/13/X/+P/+7/SgBuAFQAJwAAAND/mf+C/6H/1f/3/w8ANABRAEgAKgAQAPH/uf+I/4z/wP8AAEAAgwC4AL8AkgBEAO7/m/9V/y//Qv+M//L/XgDLACEBNgH4AHkA2f80/7T+ff6p/jf///+9AEkBiwFdAbEAy/8L/5b+cP6y/lr/GQCjAO8AEQH+ALEARgDe/4b/Qv8a/yn/gP/+/2QAnQCpAHgADgCm/2//ZP9p/4n/yv8TAEwAbwB7AHMAXgA4AAMA0P+p/4r/ev+R/8//DwA7AGAAgQCDAFgAGwDs/8T/nP+N/7r/DwBaAIYAogCjAGgAAQCs/4X/eP98/6b/9P87AFwAaAB4AHgAUAAXAPX/7P/m/+L/7v//////8v/w/wAAEgATAPz/0/+j/3f/Yv+B/9v/SgClANQAzwCOAB8AuP+G/4//w/8PAF8AkACJAE4A+/+u/3P/SP86/1X/i//J/x8AiADVAOMAvwB5AAYAdP8C/9z+Af9k//3/pgAkAUwBGAGhAAkAbP/k/pv+sv4W/5//NwDKAC4BPwEEAZEA8v9H/8L+j/67/jz/4f9zANkABAHhAHgAAwCn/2D/NP87/3j/x/8WAGsAvwDvANsAiwAdAK//Tf8K/xP/bf/z/3UA1wD6AMgAVADX/3//W/9p/6P/9/9KAIkArQC0AKMAegA5AOz/qf+D/3r/jf/C/xIAYgCQAJcAgQBLAPn/qv+D/4X/mP+5//H/MABUAFUARgAzABYA8P/L/7L/qf+v/8X/7P8VAC4AMQAwACcAEQD6/+z/6P/j/+X/6//2/xYASABmAFoANwAJAMf/gv9s/4v/w/8DAEoAhQCOAFkAAACk/13/N/9G/57/IwCTAM4A2AC1AF0A6P+K/1z/Wv+A/8n/IgBsAJEAkAB1AE4AIADt/8P/sf+w/7P/xf/3/z4AewCYAJsAgwBEAOT/jf9q/3j/nv/U/xoAWABjAD4AFwADAPH/3v/i//n////y//D/DQA1AFUAbQBzAFEABgC1/3//cv+E/6z/2v/4//z/7v/b/87/zv/Z/+j/8//z/+j/0//A/8D/2P/7/xYAKAA5AEMANAANAOf/yP+v/6f/wP/y/ygAWwCAAIkAbAA6AAYA3f/I/9T//P8nADgAKQAMAOr/wv+p/7b/3/8IACsAPAAqAPX/uv+W/4z/nv/Q/w0AOwBPAFUAVABEACQA/f/U/6f/f/90/4v/s//o/zMAgQCpAKIAhABaAA8AsP9t/2L/fP+k/+X/QgCSAKIAeAAxANr/bv8R//P+F/9k/8j/NACTAMEAqgBcAPn/qv+D/4b/rf/y/zoAZgByAHIAZAAvAN7/lf9s/1T/U/+K//3/dwDGAOMA3QCoADYArf9T/z//Vv+T//f/YwCpALgAnABVAPL/k/9S/zP/OP9e/5v/6v9EAJcAzgDiAMwAhQAbAK3/VP8h/x3/Sv+f/w4AfADAAMwAqABiAAMApv9q/1r/cf+s/wAAVwCVALEAsQCLAEIA7f+p/4L/fv+o//b/QgB2AJAAjgBnACMA5f+//7L/wf/x/zQAbQCIAIcAbAA5APX/sP91/0j/MP9C/5D/CwCKAOgAEAHyAIcA5P9A/9b+wP4H/6P/aAAbAYQBiAEuAZUA6P9C/8j+m/7A/ib/vv9sAAQBXgFnASQBoQD7/1b/2f6p/tP+Pv/O/2oA7QAmAQoBsQA2AKv/Mf/l/s7+7v5G/8r/VwDMAAwBBAG0ADcAt/9Z/zP/TP+g/xAAdACxALoAhwApAMT/cf8//zn/X/+h//D/RACRALsAuQCIACsAtP9I/wr/Ef9b/83/QwCfAMkArQBTAOD/dP8n/wn/H/9f/7n/HgB7AL4A4ADXAJ8ARwDm/4//Uf8//2H/rf8OAGsAqwDBAKUAVwDr/3z/Jf/y/u/+K/+Z/xwAmQD2AB8BBgGwADMAtf9X/yj/Mv92/93/OwBzAIAAagA4APn/w/+n/6f/uv/Z/wEALQBMAFAAPAAhAAQA5v/X/+j/AgAQABwAMgBDADcAFQDv/8b/of+L/5X/wf8AAD8AdwCjAK8AiQA6AOH/kf9a/1L/gP/P/xsAUABlAFoANQACAM3/pf+S/5T/q//Y/xQATABsAHgAfQB1AE4AFgDn/8X/qv+i/7j/4P8FACUAPwBLAEgAOQAmABMAAADx/+z/+f8TACsAOAA6ADIAHgD9/9f/wf/B/8v/2f/1/xIAGQAIAPb/6//g/9//9v8YADIAQwBSAFMAQQAkAAkA8f/U/7r/q/+q/7X/zP/r/wsAJwA0ADAAHgAAAOP/0f/S/9//8v8JACMAPABRAGIAagBiAEMAEgDZ/6n/lP+b/7f/5f8bAEkAXwBbAEQAJAD//97/zv/R/9f/2v/k//v/DwAVABMACQDv/8T/ov+Z/67/0v/7/yEAOAA2ACIAEgASABYAEgALAAYA/v/x/+f/5v/w////BwAJAAQA+P/f/8L/sf+z/8b/4/8FAB4AIQAQAAAA/v8GABAAEAACAOz/1f/B/7r/x//g//H/9////wAA9P/s//X/AwAHAAMA/P/u/93/2v/r/wcAJwA3ADAAEgDn/7r/nf+k/8r//v8rAEkATAA1ABMA+P/s/+v/7f/0////BwAKAA0AFgAcABUABADt/83/qf+O/43/rP/d/xEAPQBVAEoAIwD6/9//0P/M/9f/6f/7/woAGAAnADQANwAoAAsA7f/Q/7b/qv+z/87/8/8dAEsAcgB/AGsARAAbAPf/2P/J/8v/3f/2/xYAOwBWAF8AVwBEACkADQD0/9v/x/+6/7L/sP/B/+j/FgA+AFUAXgBTADQADwD1/+v/8P/5/wQAFQAqADcANAAnABYACAAEAAsAFQAcAB0AHQAZAA4A+v/f/8v/xP/G/9T/9/8jAEcAVwBUADoACwDU/6P/iv+L/6D/wP/q/xQAOQBSAF0AUAAmAO7/uP+N/3n/hP+t/+3/NABsAIcAhwBvAD8AAADI/6f/mf+e/7z/7P8ZADgARQBFADkAIAD//+D/x/+2/7H/xP/m/wYAJQBAAFIAUgBAACMACAD5//P/8//7/wcADgALAAEA+v/1//b/+/8BAAkACwABAO//4//c/9n/1//b/+L/5//p/+z/8//6//7/BAARAB8AIQASAAAA8P/k/9r/2//r/wEAGAAvAEQATgBGADEAFADw/8//vf/E/+D/BQAsAE4AXgBQACoA9//G/57/h/+E/5X/tv/k/xUAQQBdAGMATwAnAPj/yv+q/6L/uf/k/xYASABtAHYAXwAzAAAA1/+6/67/uv/b/wAAGgAoACwAIgACANv/vv+y/7f/zP/y/x0APwBJAEAAKwALAOT/xf+6/8H/2v8AADAAWABnAFkANQAGANn/uf+y/8P/3v/9/yAAQABNAEcANgAgAAAA3v/F/8H/yv/X/+j///8WACkAMgA1AC8AGgD//+n/4v/m/+7/9v/9/wEAAwADAAMAAwD///X/7f/m/+L/4P/d/+H/7P/9/w8AHwApACcAGAADAPL/6P/l/+v/+/8LABEACwACAP7/+P/t/+b/6v/w//D/6f/i/9//3v/f/+r//v8PABoAHwAeABUABQD4//H/7//t/+//9f/6//v//P8FABUAIgAkABoABgDp/8P/o/+W/6T/yP/5/y0AWgBxAGwAUAArAAQA3f+6/6T/pf+5/9b/9/8YADIAOgAuABYA+v/g/8z/wP/C/9X/9P8UACwANgAzACUAEgAAAO//5f/j/+r/9v8EAA4AEAANAAkABwAMABYAHgAkACQAIgAeABYABQDt/9P/wf++/8z/6P8HACIAMwA2ACoAFAD7/+H/yv+5/7P/u//M/+L//P8bADgARgBAACoACQDi/8D/sv/A/+P/CgAwAE4AXgBdAFEAPwAoAA0A9P/f/9D/zP/Y//P/EgAqADgAPQA8ADYAKAATAPz/6P/e/93/4v/o//D//v8OAB4AKgA0ADgALQAVAP3/7v/p/+r/8f///w4AFwAZABgAGgAcABsAGQATAAoAAAD5//n//v8EAAwAEgAVABUADwAGAAAAAQAGAAYAAgD8//b/7P/f/9v/5v/4/wcAFAAcABgABQDr/9P/wf+z/67/t//O/+v/CQAjADQANAAmAA4A9f/e/8r/wv/F/9X/7f8LACsAPgA+AC4AGAAAAOr/1P/J/87/3v/4/xIAJAAmABgABwD7//f/+f/7//v/+v/7//7//f/z/+T/2P/V/9j/3//n//D/+P/+//z/8f/g/9H/zP/Q/9n/5P/x/wMAFQAfACAAGQAPAAcAAQD//wAAAgACAAAA//////r/8//y//j///8CAAYACQAFAP3/9f/3//z///8DAAwAGAAcABsAGAATAA0ACQAIAAkACAAKAAsACgAGAAQAAQD///v/+/8BAAgACwAKAAcABQAAAPv/9f/x//L/9f/8/wUAEAAXABgAFQARAA0ACQAEAP7/9v/y//r/CAAaACsANgA3ACwAHQAPAAQA+f/w//D/+/8NAB8ALQAwACUAEAD5/+f/3v/d/+T/8/8JAB8AJwAfAAwA+v/t/+X/4//m/+r/7P/w//b//v8CAAQABgAHAAcABAADAAMABgAKAA0ADwARABEACgAAAPX/7v/n/97/3P/k//L/+v/8//z/+P/y//H/9v/7//v//P/+/wMABgADAP//+P/w/+7/8//+/wQABgADAP3/9f/t/+f/4f/d/9v/3//g/+H/5f/r//P/+f/8/wAAAAD9//P/5//d/9z/5v/2/wYAGAAhACAAEwACAPX/7//v//H/+f8KAB4ALgA1ADcANQAuACcAIAAcABgAFwAaAB8AJAAkACIAGgAKAPj/5v/a/8//yP/N/9j/3v/k/+////8QABcAFwAOAP//8P/p/+//+v8HABIAHQAgABsADQD7/+v/4v/h/+r/+f8IABUAGAAQAAQA/P/4//b/+f/+/wAACAAVACQALQAtACkAHwASAAoACwATABsAHgAiACYAKAAlABsAEQAIAAQAAAD/////+v/1//j//v///wAA///9//j/8P/p/+f/7v/8/wgAEAAUABIACgD9/+//6f/q//P/AAANABYAGQAYABIADQAHAP7/9P/y//L/8v/3/wIADQAMAAkABgADAPf/5P/S/8n/y//X/+n/+f////j/7P/g/9z/3v/k//D//P8DAAUACAALAA4AFwAgACYALAAzADYALQAfABAADQAOAA0ABgD8//P/7v/u//D/9v/6//z/9v/o/93/1P/W/9//6f/0//r/9//s/97/1v/W/9r/4P/o//X/AgAHAAcAAAD8/wAAAwAFAP7/8v/r/+r/7//5/wQACwALAAUAAQD/////AAADAAIAAgAFAAIAAQACAAYADQAXACIAKQAuACkAGQAHAP3/9f/v/+z/9P8AAAcADQARABQADwAGAAIA///+/wAA///+/wAAAQD9//T/8v/t/+n/7P/t/+v/5f/e/9n/0v/V/+H/7f/7/wIAAQD6//D/6v/m/+X/6v/x//P/9P/7/wYADAAPABAADQAJAAUA/v/0/+7/7P/x//r/BwATABUAFwAVAA4AAQD3//H/8f/4/wUAEwAcACEAJAAoACcAJgAkACIAJQArADAANgA6ADsANgArABsABwD0/+n/6f/u//b//f///wMACQAQAA8ABwD///b/7v/o/+f/6f/t/+//8v/z//b/+P/2//j/+f/+/wIABgADAAAA+//2//P/9v8EABUAJAAoACcAHwAQAAAA6//c/9X/1//e/+n/9P/7//7///////7//P/6//T/7P/t//X/+v8AAAoAGgApAC4ALAAjABgACgD8/+//6P/p//D//P8OAB8AJgApAB8AEwAAAO3/5P/c/+D/7v/+/wkAFwAkACcAIAAVAA8ACAAFAAAA/f/3//H/8P/y/wAACwARAAwAAADy/+P/1v/P/9T/2//m//D/+f/6//f/8P/m/+T/6P/w//b//v8BAP//+P/0//j/+P/0/+//6P/n/+f/6P/w//z/BwATAB4AKgAsACUAGAALAAAA+P/5//n///8HABEAFQARAAwAAQD6//H/7v/u/+//+f8CAA0AFQAXABIADwALAAYABAAEAAIA//8BAAQAAgD8//b/8v/x//f//v8HAAsACAAAAPj/9f/u/+b/4f/i/+r/8P8AAA0AEgAYABQADAADAAAAAAAAAAMABQANABYAHgAlACMAHAARAAMA8v/g/9X/0f/U/9z/6//5/wIABgAEAP3/9//4//j//P8BAAsACwAGAAEAAAABAAAABQAJAAwADwAUABgAHwAoACoALAAvADIAMwAuACoAJAAbABIABgD2/+L/1P/R/9X/4f/s//H/8f/q/9//0v/K/83/2P/m//T//v////z//P8BAAQAAAAAAPv/9v/z//X/+/8CAAsAEAASABIADwAMAAgAAwD7//P/9f///wwAGwAoADAAMgAuACEADQD6/+n/4//k/+j/9P8AAAsAGAAkACwALAAnABsAEAANABEAGQAeAB4AFwAKAPj/6f/g/9z/3//h/+P/5f/o/+v/7f/1//j/+f/2//D/6//m/+f/6//0//z/AAADAP7/8f/j/9r/2P/h/+v/9P/9/wQADQATABYAFAANAP//7//o/+j/7v/1//j/+f/6//7///////z/+f/5//f/+//8//7/AAADAAYACAALAAsACAAAAPX/8P/q/+X/6P/u//T/+//9//7///8AAAMACQARABcAHgAhACAAHwAVAA0ABQAAAAAAAwALAA0ADgANAAgAAgD8//b/8f/r/+j/6//0//3/AgAHAAYABAABAPr/8v/u//H/8//0//n//v8CAAkAEgAaABwAIAAkACQAIgAcABQADgAPABIAFQAYABgAFwAQAAYA/f/y/+//8v/1//f/+/8BAAgAFAAfACYALAApACUAHQATAAsABQAAAPj/9P/v/+r/6//u//P/+P/4//T/6//f/9P/zP/N/9j/6P/3/wAAAgD///j/+P/9/wcADwAPAA8ADgALAAoACgAJAAsAEAAVABYAFAANAAEA+P/z//T/9P/2//f/8//z//X/8//w/+3/8f/2//3/AgABAPn/8P/u/+j/5f/o//D/+f8DABMAHQAdABgADQD6/+b/2//V/9r/5v/w//n//f/+//3//P/+/wMACQAJAAYAAAD//wAABwAQABgAHQAeABgACQD9//X/8P/y//z/CQAOABIAEQAIAP7/9//s/97/2f/a/+X/8v/+/wgAEgAdABwAEAD//+n/1//N/9L/2//n//L/8f/t/+n/4//i/+X/6v/v//j/BwATAB8AJQAiABwAFQATABIAFwAgACMAIgAaABIACgADAAYACgASABcAFwASAA4AEgAZACQALwA0ADIAKwAjABoADgACAPv/+v/3//b/8P/l/93/1f/S/9b/3P/k/+X/4//e/9j/2f/f/+v/+P8AAAYABQADAAAA//8BAAgAGAApADUAOgAzACcAGgAPAAgACAARAB8ALwA6AD0ANAAlABQACAADAAYACgAPABAADAAFAAAAAwAIAA0ADgAKAAIA+f/z//H/+P8AAAQABQAAAPf/6//f/97/5//y//3/BwAQABcAFwAOAAEA9v/y//P//P8EAAoABwABAP7//f/7//n/8v/p/9//1f/Q/8v/zf/S/9n/6f/3//v/+f/0/+7/5//h/9z/1//a/93/5//0////BAD+//b/8v/u/+7/8v/9/wkAFQAcABoAFQAMAAQAAQAGABAAGAAbABkAEAAEAPv/9P/y//L/9f/6/wEABQAEAP//9P/t/+T/3P/X/9P/0P/P/9D/1P/b/+L/5//y//r/AQAFAAAA+v/z/+//8//7/wgAFgAiACgAKAAnAB8AGAASAA4ADAAFAPz/9v/z//r/AwAMABIAEQANAAcAAAD8//X/7f/p/+3/9f8BABAAFwAWAA4A///w/+f/5v/t//b//f8CAAcADAASABgAGwAZABEAAgDz/+b/2//b/+j/9/8DAAsADQAIAP7/9v/0//P/9f/4//3/BAAOABkAIwArAC4AKQAfABcAEgAQABIAGAAcAB0AHQAXABIAEAARABIAEQAPAAwABwADAAQACQATABwAIgAfABYABQD0/+r/4f/k/+///f8MABUAGAAWABIACgADAP7/9f/q/+H/2//c/+P/7v/9/wwAHAAkAB4ADADx/9P/wf/A/83/5f8CABoAKAAsACkAIwAbABQADQAIAAYABAD+//j/+P/5/wEACQALAAoAAQD1/+f/2v/W/9f/3P/h/+b/7P/v//X//v8HABEAEwAWABgAGAAYABYAEgANAAUA/v/8//7/AQAJAA0ACwADAPn/8//w//T/+f/7//7/AAAFAAoAEQARAA4ACQACAPv/9P/s/+X/3//e/+D/5//y////CgARABIADgAHAAIA///7//z///8AAAUADAAQABMADwAIAAEA+f/0//P/9f/4//3/AAACAAQAAwABAPv/8P/p/+j/7P/x//H/8P/u/+3/7P/q/+r/5//k/+H/4P/j/+n/9v8BAAoAEQAUAA8ACQACAPn/8f/t/+//+P8DABEAGQAaABoAGAAVABEADwASABMAFwAZABgAEgAMAAAA+f/2//X/9v/2//f/9f/2//3/BgARABwAJAAkAB4AEwAIAAAABAAOABgAGwAYABMADgAMAAkABQD9//j/8f/q/+z/7v/y//n/BgASABoAGQARAAUA+v/z//D/8//1//X/9P/2//r//P/7//j/9f/0//X/8//1//X/9v/5//T/7//s/+7/9P/8/wIABwAHAAUABgAHAAcABgADAAUADAAVAB0AIAAiACAAGwAaABwAIAAeABcACgD8/+//6P/o/+z/9f/7/wEABQADAP//9//u/+j/6//3/wYAEgAVAA8AAgD1/+7/8f/3//j/9v/0/+7/7v/w//b//P/+/wEABQAJAA0ADgANAAgABAACAAMABgAIAAcAAwD7//P/7v/u//H/9P/9/wYADgAUABcAFAAPAAsABwAEAAMAAwAAAPv/8v/m/9v/1P/S/9P/1f/U/9P/1P/Z/+D/6//2/wAABwAKAAkABQD///b/8//y//T/+f/9/wAA/v/8//v/+v/8//7//v///wAAAAADAAgACwAKAAcABwAHAAgACQAGAAAA+P/t/+X/4f/j/+r/9f/+/wIABwAMABAAEwAWABgAGQAdACEAIwAhABkACgD5/+r/3v/U/87/yf/G/8j/0P/f/+7//f8GAAwADwALAAYAAQD//wIADgAgADQAQABDADwAKgAVAAIA8//q/+f/5v/n/+f/5//u//T/+/8BAAIAAQD7/+3/4v/c/9//6//7/wwAGAAaABgAFQARAAwACAADAP7///8DAAgADwAUABUAEgAMAAMA/v/5//b/+P/7////AAD9//X/7P/o/+f/6f/x//r/AAADAAYADAASABYAGAAWABUAEgAPAAsABwAJAA4AFgAfACIAHgAWAA0ABAAAAP3/+v/6////AgABAP7/+f/2//f//f8BAAIA/v/0/+v/5//o/+7/9//+/wUADgATABEAEAAUABkAHQAeABcACgAAAPz//v8CAAUABAAAAPz/9//1//X/8//w//P/+P8AAAwAFwAgACcAKQAhABIAAQDz/+7/8f/6/wIACgAPAA8ACgAFAAAA+//2//X/+P/7//7//v/8//n/+P/4//b/8v/w/+z/6f/s//P//f8HABQAIAAkACMAHAATAAwACwAQABcAGwAXAAwA/P/t/+L/2P/U/9P/1//e/+T/6P/o/+v/8f/3/wAACAANABAAFAAcACUALQAwAC4AJgAZAA0AAQD5//T/8f/v/+v/7P/t/+v/6f/n/+n/7P/u//H/9P/6/wAABQAMAA0ADAAKAAQA/v/2//L/7f/p/+f/6v/x//r/BAALAA0AEQAUABIACwAAAPP/6P/m/+//+v8CAAMA///5//P/8f/u/+b/3f/Y/9j/3v/p//X///8EAAkACQAIAAkABAAAAP7//v/9//v//v8AAAUACAAJAAkACAAMABEAEgAPAAkABgAEAAUAAgD6/+7/4//d/9r/3P/k/+3/9//+/wIACAAOABMAEwARAA4ADgAQABAACgAEAAAAAQABAAMABQADAAAA//8BAAYACQAIAAQAAAD8//n/+f/7/wIACQANAA4ACwAGAAIAAAD9//7/AAAGAAwAEAASABMAFwAgACkALgAvACoAHgATAAwACAAIAAgABwAHAAYACQAPABMAEQANAAkABQAFAAgADAAOAA4ACwAGAAMAAQACAAEAAQD///v/9//z/+//7//v/+3/7f/t/+3/6//r//H/+P///wMACwANAAwACwAJAAUA/v/2/+//6f/l/+n/8////wcADQASABQAEgAKAAAA8P/i/9b/z//P/9T/2v/f/+j/8v/8/wUADwAXABwAHAAXAAwA///z/+7/7//z//f/+P/3/+//5P/b/9n/3P/g/+P/5P/n/+T/3//b/9n/3f/n//f/BQAQABUAFgAVABMAEQAOAAwACwAOABUAGgAdAB0AGAASAA8ADQAHAP7/9//w/+z/7P/v//L/8f/x//D/8f/z//P/8//y/+7/7P/s/+3/7//x//f//P8AAAMABQAFAAUABgAIAAsADQAMAAkABQABAP///v///wEACQARABgAHwAkACcAKgAsACwAKwAnACAAHAAaABsAFwAUABIAEgAXAB0AIgAhABoADwAFAAAA/v/+/wAABwAMABIAFAATABAADAAHAAQAAAD8//n/+/8AAAQADAAWAB4AJAAkACAAGwAXABMADgAIAAEA/f/9//z/+v/2//P/7v/q/+3/8P/0//X/8//x//D/8P/t/+v/6f/k/9//3v/j/+v/8v/4//j/9P/v/+3/8f/2//v/AAAHAAgABAAEAAkAEgAcACQAJgAhABUABgD6//H/6v/i/9z/1//Z/93/5f/q/+3/7v/s/+v/6//p/+X/4P/c/9n/2v/g/+v/+P8AAAEA/v/1/+f/2//Z/93/5f/q/+z/6v/m/+L/3f/g/+v/+P8EAA8AEwAQAAsABgACAAEAAgABAAAA/v///wEABQAKAA0ADgAOABAAFAAXABYAEwANAAUAAAABAAYACgAOAA8ADQAJAAIA+//z//H/9P/8/wIACAAOABIAEwAUABgAHQAgACQAJgAhABgADwALAAkADwAYABsAGwAUAAwABQAEAAkAEQAcACUAKgAtACsAIgARAAIA+P/w/+r/5P/e/9//5v/1/wMADAAPABEAFAATABIAEwAUABkAIgAnACQAGgANAAUAAgAHAAsADQAJAAQABAAJABMAHAAqADIANQAxAB8ACAD1/+v/6P/p/+3/8f/0//z/BAANABEADgAHAAAAAAAGAAoADQAQABEAEwATABEACQAAAPn/8//y//H/8//2//X/9f/w/+j/5P/n//T///8IAAoAAwD3/+n/3//Z/9r/4f/r//j/AwAIAAgABAAAAPj/8f/x//P/8f/o/97/1f/X/+T/8f8AAAcACQAHAAMAAQD8//j/9v/3//z////+//b/5v/V/8b/w//F/8b/xf/C/73/uP+7/8X/0f/c/+P/5v/k/+P/5v/t//f/AAADAP3/7v/f/9L/y//M/9D/0v/T/97/6//2/wEABwAIAAEA+v/2//H/8v/y//L/8f/y//T/8//z//T/9f/4////BQAIAAwADgASABgAIgAuADMAMwAqABYABQD+//v/9v/1//P/8f/t/+z/8P/6/wsAHgA0AEIASABGADwALQAdABAACAAAAPr/+v/9/wEABgAGAAgADQARABYAGgAbABwAHAAcABwAHgAgACQAKAAsACwALAAtACoAJQAhAB8AIAAlACwALgArACUAHAAWABcAHQAdABUADAALABEAFwAdAB0AGgAaAB0AIQAfABsAGQAaAB0AIAAfABkAEQANAAwACQAGAAUABQAKAA8AFAAaABsAHAAcAB0AHwAZABQAEAAKAAUA/P/u/9n/yv/K/9H/4P/x//7/AwD///r/9f/0//j/AAALAA0AAwDy/+L/0P/E/8D/wf/I/9L/2v/i/+f/7v/6/wcAGAAhACAAHQAUAAgA+v/n/9f/y//L/9L/1v/W/83/zf/T/9//7//5//3//P/6//r/+f/1/+v/6P/r//D/8//u/+X/2//W/9b/1v/V/9X/2v/r////DAAQAAwACQAGAAIA+//w/+r/6f/s//L/9f/z//D/7P/s/+z/6//r/+z/6//t/+3/7f/w//L/+f/9/////f/6//v/+f/+/wAAAwALABYAHgAgACAAHAAcABsAGgAVAAcA+//2//v/BgASABYAEgAJAAIAAAD+//z/9P/v//H/+f8AAAUACQAOABMAFgAZABcAEAADAPr/9f/u/+7/8P/3/wQADwAXAB0AHwAjACgALgAtACQAFwAJAAAA/f/9/wAAAAAAAAMACQATACEAKQArACgAIQAdABsAGAAQAAYA/P/1//T/9//0/+z/4v/c/97/5v/x//n//v8AAAMACgAMAAwADgATABkAHQAcABEA/v/i/8b/uf+4/8P/0//d/9//2P/R/9D/2f/p//r/BwANAAwABgACAP///v/9//r/+P/0/+//5//l/+f/8v///wcADAAHAP3/8P/t//X/BAAUABoAFgAGAPP/4v/Y/9P/0f/T/9X/3P/n//f/AwALAA4AEQAWABoAIAAhAB8AGAASAAsABgAEAP7/9v/u/+3/9P/6///////7//r//P8CAAkACgAHAAAA//8EAAkACwAHAAEA/P/8/wEABgAEAAEA//8AAAYADAAUABgAGAAcACEAKwAvAC8AKwAnACUAHwAaABYAFgAaAB8AIgAfABUABwD+//b/8//z//L/7//q/+X/3//d/9z/4P/r//r/CgAVAB0AHgAbABcAEgAPAA4ACwAGAAUABwAOABIAEQAMAAIA+//0//b//f8FABEAHAAjACIAGwAPAAQA///6//b/7v/g/9b/2v/n//v/CwATABgAGwAeACMAJQAgABcADwAMAAoABQD3/+L/1v/V/+D/7P/x/+v/4v/c/+D/7f/8/wYACQAJAAUAAgAAAPz/9P/n/97/2f/Y/9n/2//i/+b/7P/x//n/AAADAAUACgAQABMADwABAO//4f/c/+H/6P/t/+b/4P/i/+7/AwAWACMAIwAfABsAGAAXABUAEAAHAP7/8f/j/9f/0P/U/9n/4f/n//L//v8GAA4AEgAaAB4AHAAVAAQA7f/d/93/6v/6/wQAAQD2/+//8/8AABAAGwAdABoAFAALAAcACAARABgAGQAPAPv/4v/O/8X/x//U/+P/7v/0//n/+v/+/wYAFQAnAC8AJQALAPD/3P/a/+P/6P/o/+D/2P/f//L/CwAdACcAKwAvADoAQwBGAD4AMAAfAA4A/P/r/+D/2v/a/97/6f/3/wEACAALAAsACAALABAAEQAJAPr/5v/X/9j/5f/w//D/6f/i/+b/9P8CAAsACQADAAoAGwAsADQAMAAkABYADAAFAP//+v/4//7/CAAOAA0ACgAKABQAKABAAE4ATQA9ACIABQDw/+b/6//5////+P/j/8//x//Q/+f/AQAaACYAKQAkACAAIgAhAB0AFgAMAPz/5//R/7//tv+2/8D/z//e/+v/9f///wwAGAAeAB0AFQAJAAAAAAAEAAoAEgAXABMABwD3/+P/1P/L/9D/3f/t//7/EQAlADIAOAAxACIADAD8//D/6f/n/+f/7f/3/wAABgAJAAcAAgD///v//v8CAAcACwAPAA0A///l/83/xf/L/93/8P/5//r/9//2//v/BgAWACIAKAAiABQABQD2//D/9f/6//n/8//q/+P/5f/w/wMAFgAeABwAFAAMAAEA+//+/wUACQAHAAEA8//k/93/3v/j/+z/9f/7////AQAAAP//AAAHAA4AEAALAAUAAQAGABAAGAAYAAoA+v/t/+j/8P/+/w4AFgAZABsAHQAfAB0AGgAPAAIA+//4//v//f/3/+z/5f/j/+X/6v/x//T/9//5//7/AQAAAP///P///wUADgARAAwACwALABEAFAAUAAwA+//n/9T/zf/X/+//CwAhACYAHAANAAEA/f/+/wAA/f/1/+r/3f/R/8X/v//H/93/+/8JAAcAAAD2//X/AAAPABwAJAAlACEAGgAPAAEA+v/2//L/8//1//j/AAAQACIALQAsACIAEgAHAAMA/P/0//H/7//t/+//7P/j/+b/9/8KABQADAAAAPf/+v8KABMAFAATABQAGwAfAB4AEgD+/+7/5P/i/+b/6v/v//n/BgATAB4AKAAtADIANAApABgAEAAKAAIA/P/y/+z/7//6/wEAAQD7//n/BAAhADsAPwAvABQABAACAAgABwDx/9P/uP+q/7X/yv/g//j/AgAKABIAFwAlADQAPwBKAEkARAA4ACQADwD4/+X/3P/i//L/+v/3/+3/6P/z/wYAHAAlACAAHQAcACcANwA4ACcABADf/8X/vv/M/+T//f8JAAQA/v/9/wQAEwAiACYAIQAeABsAEwABAOb/yf+1/7T/vP/E/8b/xf/S//D/EAAnADIALwAoACAAIQAjABcAAADd/7r/nv+V/5v/qf/A/9T/4v/t//z/EgAtADUANgA0AC4AKAAdAAoA8f/j/+D/5//r/+L/zv+5/7z/2v8AABsALQAtACwANAA7ADkAJgALAOv/0P+//7T/sv+6/8T/zf/U/9r/6f/6/w8AIQAxAD0AOwAwABsAAQDf/8H/tP+7/83/1//Q/8b/z//t/xUAPQBfAG0AbQBpAGAAWQBFACUAAwDi/8v/v/+1/7D/uv/M/+T/9/8JABgAIAAoAC4ANAA6ADkAMAAbAPn/2v/E/73/xf/P/9P/0P/W/+f///8eAEMAZAB0AHoAeABnAEQAIgAHAPb/7f/o/+L/1//Q/9H/4f/8/x4AOABBAEQARABFAEcATABOAEEAJwAJAPb/7v/q/+r/6v/r//L/9f/4/wUAHAA3AEsATQA6ABYA9f/T/63/kv+I/4T/h/+b/6r/uf/O/+P/9v8GABIAFwAaABoAHAAbABUA/v/a/73/sP+3/8L/0//e/9z/1f/W/+L/9P8NACYANAA2AC4AFQDm/7//wv+3/4//pf/b//L/6f/o/w8AMgBFAGAAaABcAFIAPQAuADAARgBDAAwA2v+4/63/sf/K/+7/6//Y/97//v8nAEwAawB4AGgAWwBGADIALwAfAAwA8f/a/9H/wf+7/73/v//K/97/9P8DAAUABADw/9j/2P/l/+v/3f/Q/8T/sP+k/63/vP/C/8L/vf+5/8H/y//A/6z/ov+j/6b/pf+g/5T/jf+E/33/iv+Y/6L/of+f/53/lv+W/5v/mP+Q/47/k/+k/77/2P/q/wAAEgAWAB4AOABbAG8AfQCOAJoAoACfAJAAdwBrAHcAhQCHAIoAhAB4AIAAngC7ANIA8gAJAQ8BEgEcASkBKQEXAQcBCAETARgBGAEfASgBLgE3AUYBUwFhAXABdQF3AX8BfAFdAS0B+QDKAKcAnQClAK0AqgCdAJAAjACXAKEAnACKAG0ASQAlAAMA5v/M/7P/l/92/1r/P/8y/0D/Xf9m/1z/Uf86/xT/+f7u/t7+x/6x/pD+Xf4v/hb+B/4D/gf+Cf4G/gb+EP4k/kT+Zf5v/l3+P/4j/gH+0v2o/ZT9jf2B/W/9aP1z/ZH9uv3r/SP+U/5s/mv+bf6A/pD+oP68/tr+5P7Z/tH+2/75/jT/bv+Q/6n/zP/5/x4AUACQAL0A0wDuABIBJwErATcBSwFXAWIBawF1AZABvgH0ASICUgJ4An8CdQJuAm8CdQJ8AoICeAJcAjsCGAIHAg8CGgIfAh4CJAIwAjcCRgJdAmICTAIqAgQC1gGjAXsBZgFbAUcBHgHuANEA0ADXAN0A7QAEAQsB+gDiAMgAowB3AFAAKgDy/6f/ZP80/xH/8f7V/r3+m/5p/i3+CP4E/g7+D/7//eH9sf10/Tz9Hv0b/SD9EP3k/LT8lPyA/HP8efyU/Kn8r/y//Nn84vzi/O78+/z3/Or83fzS/M781fzP/L/8v/zM/Mr8y/zz/Db9cf2m/eb9Gv4r/if+Mf5P/nH+kf64/uD+8P7r/vH+Gf9d/6//AwBRAJYA1AACASUBUgGAAYsBeQFuAXQBhAGnAd8BDgIiAiYCNQJmArwCHQNsA6cDyQPHA7IDrQPGA+0DEQQjBCMEGwQOBP4DBwQzBGgEhwSSBJkElgSOBIgEgwR0BEwEBgSyA2gDLQP8At4C1QLHApwCZAI+AjUCPAJLAlMCTgI0AvgBpQFaAS0BDwHtAMUAlgBaABUA3f+//7X/sP+l/4z/X/8l//L+0P64/p7+bf4e/sX9cv0l/ez82Pzh/OH8z/y8/K78pvyp/LD8rvyd/IH8Wvw1/CD8Evz/++774/vO+6v7m/uz++j7Jvxj/JL8ovyd/Jj8qvzP/Ov85Py3/ID8UPwr/BT8Gfw7/GT8hPyi/M38/vwt/WT9pP3P/dP9vf2k/Y79fP1y/XD9eP2I/Y39hv2W/dn9P/6p/gf/Uv97/4b/k/+2/+b/BwANAPz/2/+v/4X/c/+J/8P/CQBIAHcAnQDFAPIAKgFtAaMBtAGjAYgBagFHASgBHgEiASMBHgEYASEBRgGIAdYBGwJKAmQCdQKHAp0CrQKwAqgCmQKEAmECNQIUAg8CHwI9AmsCngLFAuMCCAMvA1EDbQN3A2kDUQM5AxwD+wLfAskCpwJ6AlUCSgJeAo0CxwL7Ah4DLwMzAzADKAMSA+cCrgJ6AksCFwLbAaoBlgGcAa8ByAHrAQ4CJwI3AkYCVAJYAkoCLAIMAu0BzQGwAZ0BlAGGAWwBVAFVAXEBogHgASECVgJyAnICYQJEAhoC5gG5AZgBfAFZATEBGQEgAUABZwGKAaoBxwHgAe0B8gHrAdsBxgGoAX4BSAEVAfEA3QDTAMwAxgDEAMwA4QD6ABABIAEwAT4BPQEiAegAlQA5AOf/pP9t/z7/G/8I/wb/Fv8w/0j/XP9w/4H/f/9r/07/Kf/9/sf+if5A/vf9vP2T/Xr9cP10/YL9kP2Y/Z/9rf3E/d/98/30/dn9qP1u/S/99PzC/Jz8ffxv/Hv8kvyv/M/88fwL/R79NP1K/Vr9XP1Q/Tr9Hv3//N/8wvys/J/8n/yu/MT81vzd/OP89vwa/UL9Yf10/YH9hP17/Wr9V/0//SP9Ev0Q/Rr9Kv1B/WT9l/3M/fb9GP43/lD+XP5j/mv+bP5l/lr+Uf5L/k3+Wv52/p7+yv7q/vz+Ff88/2v/l/+5/8v/yP+1/6D/lP+M/4L/eP9z/3f/hP+f/8H/4f/9/xQAKwBFAFwAaABiAE4AOgAmABEA///y/+b/4P/n//v/EQAiACgAJgAoADQATABjAG4AaABYAEYAMwAdAAMA6P/S/8v/0P/Y/97/6//8/wsAGwArADcAQABGAEIAMwAfAAwA+f/g/8X/rv+n/7n/3v8BABYAGgAZACEANwBOAFQARwAzACkALQA3ADoAMQAmACkAPABVAGgAeQCQALYA5wARASkBMQEzATgBPAE3AS4BIwEXARABDwEXASkBRgFrAY8BrwHQAfABFgJDAmkCewJ9AnoCeAJ5AnwCgQKFAosCjwKUAqECtgLOAugCCAMvA1EDaQNzA2kDTwM1AycDKQMxAy8DIQMSAw4DFAMZAx4DKAM6A1QDcQOJA5MDigN1A1wDSAM3AygDGwMSAwoD+gLiAswCuwK3ArwCwAK9ArICowKUAoUCagJCAhgC+AHmAdYBuQGOAWYBSwE+ATsBPAE3AS0BKAEqASkBFwH2AMkAmgB0AFcAPgAlAA4A9f/T/63/j/99/3v/hP+N/4f/dv9g/0f/Kv8J/+P+vv6i/pT+i/59/mr+V/5C/jD+I/4e/h/+H/4d/hv+HP4X/gb+7f3Y/c39xf27/a79n/2N/Xn9aP1e/Vn9V/1Y/Vv9YP1m/Wz9bv1n/Vj9RP01/S79J/0e/Rb9Dv0F/fj87fzq/O38+fwJ/Rj9J/01/UH9S/1R/U39Qv06/Tr9PP03/TL9L/0v/TL9N/07/UD9S/1d/W39c/1u/WX9Zf1w/X/9if2L/Y79lv2i/a/9wP3Q/d797f38/Qr+GP4l/jD+N/5C/lT+bv6K/pz+nv6Z/pv+p/68/tH+4f7r/u/+8v71/vX+8/7y/vj+C/8p/0b/Vv9c/2P/bP94/4X/lv+p/77/1v/o/+7/6P/b/8//yv/N/9D/1v/k//3/FwAjABwADAABAAcAHgA/AGQAiAClALUAuACzAKMAkwCTAKgAyADjAPMA+QD4APYA+QAIASYBTAFoAW4BZAFTAUUBQwFMAVYBWgFdAWkBfAGPAZYBkAGDAXwBhQGcAbYByQHOAcsBxwHJAckBxAG8AbIBrgGyAcMB1gHiAeUB4wHiAekB+QEMAhoCHwIaAg8CBgL/AfIB3QHHAb8BxgHaAewB8AHjAdIBywHTAeYB+wEGAgQC+wHsAdMBsgGVAYUBgwGIAYsBigGHAYYBhQGBAX0BfgGEAY8BmgGaAYkBbwFWAUEBLwEdAQ0BAQH+AAMBCwENAQwBCQEIAQ0BGQEqAT4BTwFUAUYBKAEGAeoA1QDCAKwAlQCHAIgAjgCMAHkAYQBSAFQAXwBjAFcAQQArABgACAD9//P/5//e/97/5v/z//z//f/3/+//6f/l/+f/8P/3/+//1/+3/6D/k/+M/4L/bv9W/0b/Rv9U/2L/ZP9Y/1D/Uv9b/17/U/88/yH/Dv8F///+8/7l/t/+5/7z/vn+9P7q/uf+7P7z/vn++/75/vX+7f7c/sf+vP7A/sn+zP7F/rf+qf6g/qL+sP7G/tn+4v7l/uT+4f7X/sv+x/7K/tD+1P7W/tP+yf69/rn+vv7H/s/+0v7P/sj+xf7E/sT+vP6q/pn+lP6f/qz+s/6x/qj+n/6W/pL+lv6k/r/+3/75/gj/C/8L/wn/A//4/u3+7P73/gr/G/8k/yb/Jv8n/y//O/9F/0v/Sv9D/zX/I/8T/wj/C/8e/zz/Xf93/4T/gv93/2v/Zv9u/4L/mv+u/7b/sP+i/5P/h/+C/4P/jv+f/7L/v//D/8D/vf+7/73/xf/P/93/7v/7////8//f/9T/3////yUAPwBHAEIAQABHAE4ASwA9ADMAPABTAGgAawBZAEIALwAsADYASwBfAGkAbgB1AIgAogC9ANIA2ADOALwArwCqAKcAmAB9AGIAVgBjAIQAqwDIANcA4QDxAAkBHgEnASEBFQEMAQoBCgEDAfQA4gDTAMoAwACyAKMAnQCkALUA0QDuAAcBGAEgAR8BFwENAQMB+wDvANsAwgCvAKwAvQDYAPIACAEbAS4BQwFXAVsBUQE/ATEBLAEoARoBAwHsANsA0ADEALgAsgC5AMwA4gD1AAcBGAElASgBHwEKAfQA4QDQAL0AoQCCAGkAXwBiAG0AeAB+AIIAhQCJAIsAkACTAJQAkwCSAI0AgABrAFEAOgAoABcACgAAAP//BQATACEALQA6AEQASwBOAFAAUABMAEEAKQAJAOP/vf+i/5H/if+F/33/dP9r/2b/Zf9r/3r/j/+r/8X/0//Q/8H/q/+T/37/Zf9M/zr/Nv86/z7/PP8z/zD/Nv9F/1r/a/9x/2j/Wf9L/0D/Nf8m/xf/DP8J/wn/Df8P/wv/Bv8C/wT/EP8n/0b/Yf9s/2P/Uv9D/zf/Lf8b/wX/8/7s/u/+9/76/vf+9f4C/yP/S/9s/33/gP97/3f/eP97/3j/av9Y/0f/O/84/z7/Qv9B/zz/Of9B/1j/c/+L/5f/lP+N/43/lv+b/5r/mv+c/57/mf+L/3j/cv+A/5z/u//N/9L/1P/b/+b/7P/x//n/CQAXABQAAADf/8P/t/+7/8b/yv/K/87/4/8DACUAOQA6ADcANgA/AEsAVwBcAFAAOwAeAP//5f/e/+7/CQAlADQANgA1AD0ATQBgAHAAfACKAJsApwCmAJIAdQBcAFYAYgBsAGkAWwBMAEwAXQByAIYAkgCaAKcAvgDaAOkA4QDHAKkAkgCEAHsAdAB1AHkAfQCCAIsAmQClALYAzQDmAPoAAQH6AOEAxACxAKoApgCcAI8AggCBAIUAjACOAIoAjgCdALIAwwDMAM8AzgDMAMEArQCWAH8AbgBjAF8AVgBIAD8AQwBQAFgAWwBYAFcAXwBqAHYAewB3AG8AYgBTADwAJAAQAAcABgAFAAAA9//v/+7/9f8AAAwAGAAiACkAKQAgAA8A/f/w/+//+P8FAAoABgD8//b/+P/9/////v8AAAIABQAJAAEA7f/X/8n/wv/B/8P/wP+1/6r/p/+r/7H/tv++/87/5f/7/wUA+f/Z/7j/o/+e/6X/rv+w/6b/mv+N/4j/jP+a/7H/y//l//b/+f/q/9X/x//H/9T/3//h/9f/xP+r/47/dv9g/1f/Wv9o/4D/mf+y/73/u/+t/5v/jv+J/43/kv+T/4b/cf9b/07/Tv9a/3D/h/+f/7T/vv+//7b/o/+Z/6D/sP+9/7z/r/+c/47/iv+R/5z/rP/C/9n/7//7//z/9v/r/9//1v/S/9T/1v/N/7r/ov+N/4H/fv+E/5P/pv+3/8X/yf/I/83/2//s//f//P/4/+r/1P+5/6L/kv+P/5P/nf+k/6j/s//C/9H/3P/p//X//f8AAPv/7//c/83/yf/R/+D/6//0//f/+v8BAAsAEwAYAB0AIwAmACsAKwAhAAwA7v/P/7b/rf+t/7b/wf/O/97/7P8CABsAMQBCAE8AXABjAGEAUQA0ABMA+f/r/+T/5P/c/87/wP+5/8H/1//1/w8ALQBJAF8AaABgAEoALQASAAAA/P/+//3/8//l/9r/2P/l//7/GgA2AE8AYQBxAHYAagBSADUAHgAOAAMA+v/t/97/1f/U/9n/5/8AACMARwBmAH8AjACHAHMAXQBGAC4AGQAIAP3/7//e/9L/zf/R/+T/AAAfADoASQBSAFIATgBIAEIAQAA+ADwAMwAnABcABwD9//n//f8JACIAQwBiAHQAdwB1AHMAdwB8AHoAbABPAC0ADwD5/+3/8P///xMAIwAsAC4ALgAxAD0AUgBjAGkAZABbAE8AQwA3ACoAHwAVAA8ACQAFAAUACgAXACYANwBFAE8AVgBYAFIAQwAuABEA8//U/77/s/+1/8b/3//7/w0AGwAlADIARQBeAHEAcABcADgAEADs/9T/yP/C/8H/vf+4/7L/sf+3/8v/6v8MACwAOAA0ACMAEAABAPv//P/6/+7/2//H/7P/pf+g/6f/uv/P/+H/7f/x/+3/7P/u//H/8v/s/+P/1f/G/7b/qf+l/6v/s/+z/7L/tP/D/9z/9v8JABUAGwAcABgADgACAPf/6v/b/83/w/+4/6r/nP+a/6P/s//K/+D/8f/9/woAGwAnACIADgD0/9z/0v/N/8v/xv/D/8b/yv/P/9X/4f/y/wgAHQAmACEADQDz/9b/xf/C/83/3v/q/+z/4f/X/9T/2//q//3/EQAhACgAJwAiABUAAQDv/+P/4//o/+z/5//Z/8P/tv+0/8D/2v/4/xMAIQAhABkAEgAMAAgABQAEAAQAAAD5/+//6P/q//b/CAAbACwAMgAwACYAGwAVABkAIwAoACcAIQAYAAgA+P/y//H/+f8AAA0AIgA4AEkATgBDAC8AIAAWABMADQABAPH/4f/X/9T/2P/e/+z/AAAaADQASwBcAGAAXABQAEgAQwA+ADEAHQAHAO//2f/H/8H/x//X/+v/AAAZACoANwA9AEAAQgBBAD8ANAAhAAsA+f/q/+D/4f/r//v/CQAXACUALgAyADcAPwBEAEAAMwAgAA4A///4//z/AwAJAA0AEgAWABUAEgAVACEANQBKAFgAXQBVAEEAKwAYAAgA+v/v/+b/2P/K/8P/zP/d//b/EgAsAD8ARQBFAEYAQQA7ADgANAAqABgA///j/8v/uv+4/8T/0//f/+3/+v8FAA4AGAAlADIANAAsAB0AAwDi/77/pf+d/6T/tv/T//T/DQAbACAAJAAqADUAPgBAADkAJwATAPn/1f+y/5z/mf+h/63/uv/A/8b/zf/c//b/FgA0AEkATQA/ACkADAD1/+P/1f/L/8T/v/+//8L/w//H/83/2//v/wMAFwAkACkAJAAXAAgA+v/w//L/+f8BAP7/7//Z/8H/s/+z/8j/5/8HAB4AJgAfAAwAAgACAAkADgAKAP//5f/F/6v/pP+0/9L/8v8NAB8AIwAdABEACAAFAAcAEAAVABAAAADu/93/0P/M/87/3f/1/xAAKAAxAC4AHwASAAgAAwAGAAsAEQANAAAA6P/R/8L/w//W//X/EgAlAC0ALAAqACcAJQAnAC8APQBJAEoAPAAlAAkA8f/m/+n/9f8AAAMAAAD5//H/6//w//7/CAARABQAFwAYABUAEAARABcAGgAZABMACQAAAP7/BQASABsAGwAXABMAFAAXABsAGAAQAAYA/v/5/+//4//a/9X/0//V/93/6P/0/wIAEgAcABoADgABAPv//f8CAA0AEwAQAAAA5//R/8j/0v/p/woAKQA7ADsAMQAjABoAHwArADsASABNAEcAMgASAO//0v/E/8X/0f/g/+7/+/8BAAMAAwACAAMADAAXACMALwAsABsAAADs/+H/4//x/wEAEgAWABEABgD+//r/+v8CABIAJgAxAC0AIQARAAMA9//q/+D/2//e/+j/9f8CAAwAEgAUABAACQAAAPn/+P/6//r/+v/z/+r/5P/g/+P/7//7/wEABAAGAA4AGQAlACsALAAnAB8AHAAVABIADAAGAPr/6//f/9j/3f/j/+7/+f8CAAgACgAJAAcABAACAAIAAgAEAAUAAgD+//T/6v/g/9f/zf/K/9L/3f/q//D/8f/w/+v/5v/o//L//v8HAAkABQD9//D/5v/l//P/BwAcACwALgAkABQACQAHABAAFwARAAcA+P/w/+7/6v/o/+T/4P/X/9b/3P/n//L/9//6/wEACgAMABIAGwAmACoAIQANAPL/2f/I/8n/2P/v/wUAGwAtADIAMAApACcAMAA9AEsAUgBQAEIALgAYAAQA7//Z/8v/xv/L/9f/4P/m/+j/6v/r/+v/7v/z/wAAEgAeACAAEgD9/+r/4f/j/+3/9f/7//7/AQAFAAcABgAHAA8AHQAsADcAOgA4ADIAKQAXAAAA5v/R/8f/y//d//X/CgAUABMABwD9//T/8//8/woAHgAoACUAFAD9/+L/yv+5/7b/wf/Y//P/CwAeACQAJAAgAB8AJAAtADwASgBOAEAAIwD8/9P/tv+t/7r/1P/y/wcADAAAAOv/1//T/+D/9/8PABwAGgAMAPX/2//I/73/uv/A/87/4P/w//3//v/5//X/8f/w/+//8//9/woAGQAgABsACwD3/+v/8/8LACgAPABCADkAKAAWAAsACwAPABUAGwAdABgADQD8/+j/2P/P/9D/3f/z/woAHAAgABkACwD+//X/9v8AAA8AHwAnACYAGQAHAPP/6P/w/wEAGQArAC0AHwAJAPr/7//v//n/BgAVABsAGgASAAkA/P/s/+L/4//x/wgAIQAvAC0AHQAEAPD/5P/c/93/6f///xIAIQAiABcABQDz/+//+f8MAB4AKQAqACIAFQAHAP//+f/6/wcAHQAwADcAMwAjAAwA7v/X/83/0//j//T/AQAGAAEA9f/k/9H/xv/N/+L/AAAZACgAKAAVAPv/4f/Q/9D/3v/5/xQAKAArABwAAQDp/93/3P/t/wUAHQAmACUAFwD8/+b/1f/S/93/9P8NAB4AIwAYAAMA8P/l/+z/AAAbAC4ALgAhAAkA7P/Z/9j/5P/0/wgAIAAnACEADgD2/+X/3v/h/+z/9/8AAAQACAAOAA8ACwAJAAwAEwAeAB8AGAAIAPj/7v/s//T/AAAIAAoACQADAPv/8f/n/+H/4v/w/wAADQAVABQADgAGAAUACgALAAsABwABAPv/9P/w//T/+v8AAAAAAAD+//j/9//9/wAA+v/5//r//P///wAA+//x/+z/8P/4//3/+v/t/+D/3f/j/+z/+P8BAAcACwAPABIAFAAQAAgAAAD6//P/8//7/wIABQABAAAA/P/5//v///8IABMAHwAmACMAGgALAAMAAAABAAUABQAAAPb/8P/x//T/9f/0//H/7//v/+7/6v/k/97/4v/p//b/AgAOABUAFAAWABYAFwATABEAEAAOAA0ACwAPABIAGQAeACAAHgAVAAcA+P/r/+H/4P/p//X//v8FAAsADwAMAAEA+f/x/+7/8v/x/+//5//g/+P/7P///xIAIQArAC0ALAAiABkAFAASABUAGwAjACAAFQAFAPr/8v/t//D/+f8HABcAIgAkABwACgD8//j/AAAQACEALgArABcA+v/Y/8D/vf/L/+L/AQAXAB0AEwACAPH/4v/c/+T/9/8OACMAKgAlABEA8f/R/7z/uf/I/+L//f8QABwAGQANAAQAAgALABkAKAA0ADMALAAaAAQA8//m/+P/6P/0////BgAKAAoABAAAAAAAAgAKABcAKQA8AEYAPwApAAYA3v+7/6j/q/+8/9X/8v8HABMAFgAOAAMA+//+/woAIAAzADcAKwAMAOf/w/+0/77/3f8DACYAOAAzACAABgD0/+r/7P/4/wcAFAASAAYA8//g/9f/2P/k//T/BwAXABwAIAAdABcAEAAIAAQABgANAA8AEQAIAPX/2v++/7H/sP/C/93//f8WAB8AGAAEAPL/6f/w/wQAGwAoACYAEADw/83/tf+v/73/2v/5/xIAIgAlACAAFQAQABMAEwAUABoAHwAkAB4ADgD0/9T/wv++/8v/5v8FACAALQArAB4ADAD///3/CQAiADgAQQAyAA8A5f+8/6X/pP+7/+T/EAA3AE8AWABNADcAHwAMAAsAGAApADQALAAXAPr/3f/H/7j/vv/M/+f/BwAhAC8AKAAXAAAA6//h/+n//P8SACcALwAqABYA+P/W/7r/r/+6/9X/9f8SACIAIQARAPn/4f/R/8//2v/w/wwAIgApAB4AAgDl/9D/z//k/wgAMgBRAFcAQwAaAPD/0v/L/97//P8VACIAHAAKAPP/4v/b/97/7/8HACEAKwAkAA8A9v/h/9L/zv/V/+H/8P8EABgAHgAZAAsA/v/6/wIAFQAlAC4AKgAeAAoA9//r/+f/7//8/wgACQABAPL/4v/Z/9z/7P8AABYAJwAqABoAAwDq/9X/0P/c//H/AgAOAA4ACgD+//T/8f/3/wUAFgApADcAOQAvAB4ACgDx/9v/1P/b/+7/AgAUAB4AGAAIAPT/4v/b/+j/BQAnAEMAUQBNADoAGwD7/+T/2v/g//D/AgAQAA8AAQDq/9H/wf/E/9z/AAAtAFIAZQBgAEMAHwD9/+T/2P/V/9v/4v/p/+T/1//J/73/vP/L/+n/CgAmADUANgApABcABwD8//j/+P///wQACgAJAAMAAAD9/wAAAgAGAAUABAAGAA0AFQATAAsA+v/o/9v/2f/e/+b/8P/3//7/AgAKABIAGQAfACEAIQAeAB0AGgAXABMACQD+//H/6v/p/+f/5//t//f/AAAIABAAFQAYABcAFQAPAAUA///8//7/AgADAAUABQAEAAMABAACAPz/+v/5//X/8v/x//P/9//x/+P/0P/B/8H/1P/y/wsAHAAiAB4AGAATABQAGQAdAB4AGAAPAAMA9//t/+3/8//3//f/8//z//b/AgATACYAMQAuACAACADy/+H/4f/s//v/AwAAAO7/0//E/8T/2f/5/xsANAA7ADEAHQAOAAMA//8AAAMA///x/+L/0v/I/8P/zP/Y/+X/8v/+/wkAEAATABAACAD+//j/+P/8/wgAEgATAAsA+v/i/9H/yf/P/9//8P/+/wQABAADAAYADwAaACIAJQAkACAAGgASAAYA/f/2//H/7//w//b/+v8AAAUAEQAkADMANwArAA8A9f/k/+T/8v8FABoAIQAdAA4A/f/u/+v/9v8HAB4ALgAxACsAIwAYABIAFgAcACIAJQAkABgABgD0/+X/3P/c/+r//P8OABcAGQAYABEADAAIAAMAAAABAAIA///9//r/9v/2//z/AAD///z/9//1//z/CQATABgAFQANAAAA8f/r/+f/7P/3/wMAEgAfACsALgAoABoACAD8//v/AgAHAAgABQD9//T/6v/m/+n/6//x//T/8v/w//L/9v/7/wAAAQD//wEABAAHAAgABgADAAAAAAD//wEACAAMAAsABAD8//T/7v/o/+H/3//a/9D/yv/H/8z/3P/w/wQAFgAjACIAEwD9/+b/2v/Z/9//5v/p/+3/7f/o/+L/2P/S/9T/3f/u/wIAGAAqADMAMQAoABoABQD2//D/8////wMA///0/+b/4P/e/+T/8v8CABMAHAAhAB0AFQAOAAMA+//z/+3/7P/w//3/BAACAP3/8f/n/9//3//k/+7/AAALABgAHgAUAAoAAwAFAAwAFQAfACYAKgApACUAIQAbABcAGQAfACYALAAvAC4AKgAqACUAIQAWAAIA8v/n/+X/6P/v/+7/5//e/9j/1P/R/9X/4P/x/wAAEgAgACoALAAlABsAEgANAAYAAAD6//f/9v/6/wMADgAVABgAGwAcAB4AIwAlACUAIQAdABYADgAGAP3/9f/r/+T/2//Y/9//6//7/wQABgAAAPf/8f/x//P//P8CAAAA+P/p/9v/z//N/9b/5P/6/w0AGwAeABkAEAAHAAUACAAPABYAHAAiACEAHAAVAAgA+v/v/+f/6P/u//n/BQAMABEADAAEAPj/7//z/wIAEwAgACEAGAALAAAA9v/y//L/8//w/+r/4v/Y/87/yv/J/8v/1v/m//P/AAAJABAAFQAUABAACgAFAP//9v/v/+n/5//m/+r/8//6//7/AAAAAP//AgAPACMANwBKAFMATwA9ACUADQD2/+f/3//c/97/2f/U/87/0P/b/+r//P8LABgAIAAkACUAJQAnACUAFwACAO7/4f/g/+f/7v/v/+7/6//m/+j/6f/u//j/AgANABIAEgAOAAkABAAAAAAAAAAAAAEA///9/wAABgAOABQAFwAVAAsA/v/v/+z/8f/7/wYACwAJAAQA/v/5//n//v///////P/1/+3/5f/g/9//4//x/wIADwAXABcAEAAHAAAA/P///wgAEgAZABcADQAHAAAAAQAGAAIA/f/z/+r/5//u//z/BgAMAAwADAAMABEAGgAlAC0ANAA2AC0AHwAPAAQA/P/2/+//6P/q//D/+v8CAAkADgAPABEAEQATABQAFwAWABMADgACAPP/6//t//X/AAAGAAQA/f/z/+z/7f/3/wUAFwAjACoAKQAiABgACgD7//H/8v/4////BgAJAAUA///5//X/7P/n/+j/7f/1//3/AwADAAAAAAD9//n/+f/4//b/9//6//r/+/8AAP//+v/1/+//6P/e/93/3f/e/+T/6f/t//H/9P/y/+3/6v/r/+//9f8AAAsAEgAUABMADQAIAAcACQASAB4AKgAxADAAIAAMAPv/7v/s//P//v8JAAoABAD8//L/6f/k/+P/4P/d/+D/6f/1/wAACgANAAkAAAD8//z/AAABAAIABAAHAAcAAQD7/+7/4v/k/+7//P8IABQAGgAYABQADgAMAAoACgALAAsADgAOAAgA/f/u/+P/2//Y/9r/3//k/+r/8v8AAA0AGgAcABQADAAHAAgADAARABEACgD9/+j/1P/H/8L/xf/R/+f/+v8HAAsACgALAA4AEgAbAB8AIAAfABoAFwAUABoAKQA0ADMAJwASAPf/4v/b/+f/AAAWACIAIgAcABQACQAAAPz//f8AAAAA/P/z/+v/5v/k/+T/6v/2/wIADAAQABUAGAAdACEAIAAYAAsAAAD3//j//P8GAA0ADwALAAIA///8////BQANABgAHAAdABkAEAAHAAAA+v/1//T/8P/p/+X/5P/m/+n/6f/q/+v/8f///wsAFgAZABQACwACAP7/+P/y//H/9f/+/wcADgANAAYAAwABAP//+v/1/+//7//3/wAAAwACAAAA//8AAAcAEAAVABUAEQALAAUA/f/y/+v/6v/v//T/9f/z/+//5f/c/9b/1v/g//H/BAAVABwAGwATAAYA/P/8/wAABwALAAoABAD+//z/AAAFAAkADAALAAcABAAAAPr/8//s/+b/4v/e/9v/1v/U/9L/1f/c/+f/+P8HABcAIQAkACIAGgARAAgABAAFAAsAEQAUABQADwAGAAIAAgADAAIAAAD+//z//v8AAAAA///7//P/7//t/+7/7v/u//H/8//4//j/8P/p/+j/9v8KACAAMAA3ADYALAAiABcAEQANAAwADgANAA0ACgADAPj/8P/y//3/DQAaACEAIQAbABIADgAOAA8ADgAHAP7/9v/1//b/8//x//P//P8FAA4AEwATABIACwD//+z/2P/L/8j/0v/j//X/AQACAAEA/////wEABgAMABMAHQAkACQAHAAPAP//9P/x//T/+P/+/wQACAAPABUAGgAaABUAEwARABAACwAIAAoADgASAA8ACgAAAPn/+P/5//z//f/8//r/+f/8////AQD///f/8v/u/+v/6v/t//L/+v8CAAYABwADAAAA+//3//X/9/8AAAcACgAIAAcABQAIAAwADAAIAP//9P/n/+L/4v/i/+X/7P/4/wAAAwD+/+//4f/a/93/5v/x//v/AAAFAAwAFAAaABgAEgAIAP7/9P/u/+//8P/0//r//f/7//r/+v/5//r//P/8//v//P/7//n/9P/z//b/+v/+//z///8EAA4AFwAaABoAFQAUABEADQAGAPz/9//7/wQADAAQAAwAAQD6//n///8IABMAHQAiACIAHwAVAAcA/P/4//v/AgAJAA8AFAAUAA4AAgD9//r/+v/2/+//7f/u//P/9//8//7//v8AAAQACwAQABMADgAFAP3/9//0//D/7//u//H/9//8//7/AAACAAEAAQABAAUABwAFAP3/9P/z//j///8GAA4AEgATAAsAAAD3//H/8//4////AgACAAAA+//5/wAACQAPABMAEwAQAAkAAgD3//D/8P/y//f//P//////AgADAAMAAgAAAP//+v/5//3/BgAOABAAEgARAA4ABAD2/+X/3P/g/+3//P8GAAoABAD8//X/8v/z//T/9v/2//n//f/6//b/8//x//D/7f/p/+j/6v/z//7/AwAHAAwAEQAWABoAGwAUAAUA+f/w/+3/8v/3//r/9//5/wAAAwAHAAUA///7//j/+f/6//7/AQD///T/6v/p/+//9v///wMABAAJAA0ADwASABgAHAAbACAAJAAnACQAHAATAA0ADwAWACAAJAAiABYABwD///3/AAAAAAMABAAEAAQABQAAAPv/+v/6//7//f/3/+z/4f/d/9v/4v/q//H/9v/5//3/AwAFAAAA+v/0//T//f8KABIAFAAOAAMAAAAFABAAFgAXABEADQARABQAGAAVAA0AAgD9////AgAHAAoABgAEAAUAAAD8//j/8f/r/+f/7P/z//v/AAD+/////////wIAAgAAAPz/+P/4//7/BQAKAAgAAwD5//D/6v/p/+n/6f/r/+v/7f/v/+7/7f/u//T/+/8AAAEAAgACAAIABQAIAAsACwAIAAAA+v/7/wAABgAKAAoACAAGAAEA+//x/+f/5f/l/+f/7f/w//D/8P/3/wAACAAOABIAFAAZAB4AIQAfABsAFwAWABcAFQASAAsACAAHAAoAEgAWABUADgAEAP///P/6//f/9P/w/+v/6//t/+//9P/2//v///////7//P/9//7/AQAJABIAGwAbABcADwADAPn/8f/w//b//v////7/9v/w/+//9P8AAAkADgAIAAAA+v/7/wAACAALAAcAAAD5//b/+P/6//z/+//9/wAA/f/5//H/6P/k/+T/6//2/wEACAAQABsAIAAiABwADwAFAAcADgAVABgAFAAIAP7/+P/4////CQASABkAHAAXAAoA/f/w/+r/7f/2//7/AAD6//L/7//u/+z/7P/s/+j/6f/v//f///8EAAcACQAJAAUAAwAHAAoADwAbACYAMQA3ADUAMQAqACYAIAAYAAgA9//o/9//4//v//f/9v/t/+P/3f/f/+P/5v/q//D/9v/6//3//f/3//H/8v/1//n/+//+//3//P///wcAEgAXABgAEwAMAAYABQAGAAsACQABAPf/7v/t//P/AAAMABgAHAAWABAADAAMABAAFgAeACQAJgAhABYACgD9//b/9P/v/+v/5v/n/+3/9/////7/9v/r/+b/5f/p/+//8v/z/+//5//h/+L/6//1//n//f8AAAAAAAACAAUACQALAAwACgAEAP7/9//2//b/+P///wIAAgD5/+3/5f/i/+b/8P/+/w0AFwAiACYAIwAiAB0AGQASAA0ACgALAA8AEQASAA0ABAD3/+j/4P/g/+f/8v///wkADwAPAAYA+//v/+//9f/+/wcACwAOAAsACAAHAAYAAwD8//j/+P/9/wQACQAQABQAEwARAA8ADQAGAAEA/f/6//v//P/4//H/7P/p/+///f8GAAsADgANAA4ADAAHAAQAAwACAAQACQAIAAEA+v/y//L/+P8AAAAAAAD+//n/9P/y//P/9P/0//H/7v/q/+T/3f/Z/9r/4v/t//b/+f/8/wAABgALABIAGAAdAB0AFAAGAP3/9v/z//P/8v/4/wAABwALAAMA9f/m/+T/6v/5/w0AGQAiACMAHAARAAIA9//t/+f/5//s//L/7//p/9//1//W/9n/3v/j/+j/6v/t//D/9v/8/wAACgAVACIAKwAtACUAFQAJAAUACAAPABUAGQAXABIADQALAAwAEgAXABkAGAAPAAEA+P/y//L/+P8EABIAGwAdABYABgD2/+v/6//z//z/AwADAPj/7f/m/+P/5f/x//7/CAAOABEAFQAWABYAEQARABQAGwAnADEAPABAAD0ANwAwACcAHgAXABUAEAAEAPf/6P/d/9X/1P/b/+T/6//q/9//0v/H/8f/0v/j//L//f8AAAAA/v/5//f//f8GABAAFQATAA8ADQALAAsADwASABgAIwAwADcANAApABgACQADAAcACgALAAsACgAKAAsADgAQABQAEgALAAMA9v/s/+f/7v/7/wsAGAAZABYADAD+//D/4f/Y/9f/3v/o//H/8P/u/+z/5f/j/+T/5v/i/9//3//g/+D/3v/e/+L/7v/7/wcACwAIAAQA/v/7/wAACAARABgAGgATAAYA/v/7//r/AAAEAAAA9v/s/+z/8f/4//7//v/6//T/7//v/+z/6v/o/+b/6P/s/+//6//m/+D/3P/j/+7/+f8AAAUADAAUAB8AJgAqACQAGgATAA0ADwAbACYAKAAqACQAGAARAAsABwAGAAgAAwD/////+//5//j/9P/t/+X/2//S/9L/2v/j/+j/6P/k/+b/8P/7/wAAAAD6//X/8v/v/+//9f8AAA4AHQAkACUAIAAWAAwACgALAA4AFgAYABgAFQAMAAYABAAAAPr/8f/n/+P/7P/5/wAA/v/1/+3/7f/4/wUAFAAeACEAHwAaABEABQD///7/BgAUABwAHAAUAAcA///+//3///8GAAsADgAVAB4AJQAtADEALwAtACkAIAAZABgAGQAaABwAFwAMAAQABAAIAAoADAAGAP3/+f/7/wAAAwAGAAEA+//2//n//f///wQABQABAPv/8v/r/+v/9P/+/wYACwAKAAUA+//y/+z/6f/m/+j/7f/t//L/9f/3//T/7//r/+j/5//o/+j/5//q/+//9P/5//v/+v/2/+7/5//f/9z/3//m/+v/7f/u/+z/6f/n/+T/5f/s//f/AAAGAAkABwAHAAUABAABAP///f/7/wEADQAWABkAFwANAAIA//////7//P////7/+f/w/+j/5P/l/+3/9v/+/wYACwAIAAAA8//j/9f/0//Z/+f/+f8GAAsACAABAPv/+P/6//r///8EAAoAFAAhACsAKgAgAA8A/v/z/+7/7P/t/+3/7P/p/93/0v/N/8z/z//X/9//5v/v//n/AAAAAP3/+f/7/wAACgAWACIAKwAuAC4ALAArAC0ANQBAAEYAQgAyACIAFQALAAcAAgD9//r/8v/p/+T/4v/n/+//9v/9/wYADgAXACYAMgA4ADwAOQAzADEAMAAtACsAKQAfABMACAD8//b/9v/8/wIABQADAPz/8v/q/+X/5v/q//L/+v/5//T/8P/u/+7/9f/6//v//v8BAAUACwASABEADQAIAAMAAwAGAAwAEAAQAAsABgAAAPv/+//6//v//P/9//j/9v/6//n/+v/3/+//6f/q/+z/7v/x//L/7v/m/+D/3v/l//H//v8MABcAGgAaABYAEQANAAkABgACAAUABwALAAoAAgD9//P/7P/m/+X/5//t//b/+P/6//z//P/8//7/+v/3//n/+////wQABwALABAAEwASAA4ACAD9//b/7//t/+v/6//t//H/+P/7/wQACwARABkAGQATAAwADgASABkAJQAkACAAHAAVABIAEQARAA4ABAD4/+v/4v/h/+n/9v8AAAQABAD///n//P/9/wEACgAQAA8ACQAEAPz/9P/v/+z/7P/t/+n/4//i/+L/4//p/+3/8f/t/+H/2P/W/93/6P/2////AQAEAAMAAwAIAA4AFgAcABgADgABAPj/9v/8/wUADQAQAA4ACgAMABAAEgAVABMADQABAPf/6v/g/+H/6v/6/wMAAwD4/+j/4P/g/+n/+f8MABsAIQAiACAAFgALAAMA/f/6//v//v/9//v/9v/u/+z/9P/7//7/AAD///z//P///wAA/P/z/+v/4v/g/+b/6P/r/+3/8f/y//T/+v/+/wMADwAXABsAJAAoACkAJgAeABcAEAAOAA0ABgD+//L/7v/0//7/CgALAAcABQAIABEAHQAnACgAIgAYAAwAAAD2/+7/5f/j/+H/4v/j/+L/5f/n/+f/5//k/+D/4//s//f/AAAJABAADAAHAAAA9f/t/+f/5//p/+3/8//1//n/AQAKABEAGAAbABgAFAAPAAcA/f/v/+T/1//R/9X/4P/v/wEAEAARAAwAAwD8//3/BgAUABsAGAAOAAIA/P/+/wYADAAQAA8ABgD///3/+v/6////AgACAAAA/////wMADQATABUAFwAYABoAHwAjACQAIAAZABEADAALAA8AEQAUABQAFgAYABYAEgAKAAQABAAJAA8AFQAWABMACAD9//n/+/8BAAcACwAHAPv/7//k/93/4f/o/+//+P8CAAwAEAAVABMADQAJAAcABgADAAUAAgABAAAA+//0/+r/5P/c/9n/2//i/+z/8//6//3//f/9/wEABAADAAMAAAD//wAAAQACAAAA///+/wAABgANABIAFQAZABQADAAGAAEA/f/1/+//6v/q//L/+/8DAAQAAgAEAAUACgAMAAgABAD9//v//f8DAAcACQAEAPv/8f/n/+P/4v/l/+r/6//v//T/+f/9//z/9v/1//j///8HAA8ADwALAAwADwAYACEAJAAhABQACAAAAPr/8//w/+3/5v/i/9z/2f/Y/9z/4f/k/+v/8v/7/wAABAAHAAwAEwAYABsAGwAYABMADQAIAAQA/v/3//L/8f/w//L/8//w//D/8f/0//n/AAAKABcAIQAlACMAHQAZABUADgAIAP//9f/p/+D/3f/a/93/5P/t//P/+P/9//7//v////7//v8DAAYACQANAA4ADAAIAAkACAAHAAgACQAIAAkABwAIAAoADAAQAAsABQACAPz/9v/0//L/7//u//L/9v/+/wMABwAIAAUAAAD+//v/9//0//D/6//p/+v/7v/u/+v/5//k/+T/6f/w//r/AAAGAAcABgAEAAYADgARABEADwAMAA4ADAAKAAQA+v/t/+j/5//k/+L/2//W/9P/1f/c/+X/7//2//r/AAANABkAIQAmACUAIgAiACAAIgAjAB0AFgANAAcAAQD7//X/+f8BAAkAEgAVABEACQAEAAIABAAKAA4AEwAaAB8AIQAaABQAEgAWAB0AJAAnACcAIgAbABMABwD///P/7v/r/+z/7f/q/+j/4f/c/9j/1//c/93/3v/g/+f/8f/9/wUADQAUABMAEgAQAAwACQADAAIAAgABAP///P/9//7/AAD+//j/9P/1//r/AAAIAAsACgAEAAUADAAVAB0AHQAaABYAFAAWABgAGwAXABAACQACAAAA/v8AAP7/+v/6//z/AAAAAAEA/v8AAAQABQAHAAcABwAHAAkACgANABEAFAAVABEAEAANAAsACgAGAAAA/P/5//b/+f/+/wEAAgD///v/9v/3//X/9P/6//v//v/+//z//P/7//7/AAABAAAA/v/6//f/8//s/+X/3//b/9f/1P/S/9L/2P/g/+n/9P8AAAgADgAQABIAEQANAAsABQD+//v/+P/4//X/7f/k/97/4//o/+3/8v/z//b/+v8AAAgACAABAPv/9f/5/wEACQAMAAkABwAEAAgADQASABIADwANAAkACwAPABAAEwARABAADQAGAAMA/v/6//v//P/9//z//P/6//r///8BAAQACQALAAoACAAGAAcACQAHAAUAAgAAAAMADAATABoAHAAYABAACgAGAAAAAAD+//r/+f/7/////v/9//v/9v/0//P/9P/3//r/AQAMABcAIgAlAB4AFQAKAAEA+//5//T/7v/s/+r/6//w//f//v8BAAMAAwAFAAgACwAKAAcABAD+//n/8v/s/+z/7f/0//3/AgADAAIAAQACAAYACwAKAAcAAwAAAP3/+v/2//L/7f/w//P/+f8BAAgADQAPABMAEAALAAcAAgD+//3///8BAAQABgADAAAAAAAEAAcABwAHAAYABQAIAAwADAALAAcAAAD8//v//P/7//n/9v/0//L/8//y/+//8P/y//T/+P/9/wEABAAEAAQAAgABAAAA/v/8//b/9v/1//f/+P/4//T/7v/r/+v/7//3////AAD+//v/9//8/wIACAALAAoACAAHAAsAEQAXABcAFQASAA8ACwAJAAgAAQD8//X/7f/s/+z/6v/p/+n/6//t/+7/6//p/+z/8v/4////AgAAAP//+v/4//v//P/6//f/8P/p/+n/7v/y//X/+////wIACAANABIAFwAbABoAFgAQAAYA/P/z/+7/6v/o/+j/6P/p/+//9v/8//r/9//z/+//8v/5/wAACQALAAoABgACAAQABgANABMAFwAfACEAHwAaABUAEwAWABsAHgAcABMABQD4//L/7f/r/+7/8P/x//P/9f/3//z/AgAGAAsADwATABQAEwASABEAEQARABAADgAJAAUAAgABAAUACAAOABYAHAAhACMAJQAkACIAGAAKAP3/7//n/+P/5f/o/+3/8P/0//X/+f8AAAUACgAKAAoABAD///v/+/8CAAkAEQAYABkAFQAKAAAA/v/7//v//P/3//L/7//v/+7/6//p/+X/5P/j/+T/6v/s/+7/8P/1/wEADAAVABwAIAAdABgAEgAOAA8AFAAYABcAFAARAAoABQACAP//+//6//r/+///////+v/2//L/7f/t/+7/6//p/+f/4//h/9z/1v/T/9T/1//g//L/AQAQABsAHQAaABMABwAAAAAABAANABUAHwApAC8ALAAhABMAAgDw/9//1P/N/8n/yP/H/8b/xP/B/8P/x//P/9v/6P/y//r/AQALABcAIwAsADUAPAA5ADYANAAuACsAJAAfABYADAAJAAoADgARABMACgABAPb/6//g/93/3f/X/9X/0P/R/9X/2v/e/+D/3//e/+T/6//2/wMAEwAjACoAMAAzAC4ALgAqACUAIQAcABkAFwAZABgAFwAVABAABQD+//j/9P/z//D/8P/u//L/9//8/wAABgAMAA4ADwALAA0ADgAPABYAGwAdACAAHQAXABQADAAEAPr/7//h/9f/1v/V/9n/3v/i/+j/7f/z//X/+P/7//7//f/7//v//v8HABEAHAAkACYAIwAiACEAJQAqACYAIwAZAA8AEAARABQADgACAPX/5f/f/9z/2v/Z/9b/1//c/+L/7//5//z//P/3//P/8v/4/wEADAAVABwAIAAhACEAGAASAA8ACgAGAAIAAAAAAAMABwAKAAgAAAD6//L/7v/u//X/+P/7//z/9//1/+//6f/m/+T/5//v//T/8f/w/+//7//x//T/9//4//3/AwAMABcAJAAwADoAPgA3ADAAKQAgABcADgAJAAIAAAAAAP7//f/5//j/9//1//b/+f8AAAYACQAKAAsACAACAPr/8//t/+b/5v/l/+b/5//j/9z/1f/U/9j/4//w//v/AQAEAAoAFAAbACEAHQASAAUA/f/6//r/AwANABgAIwArADEANAA3ADUAMQAoAB8AGAAPAAsACwAKAAsABwD+//D/3//Q/8P/vf+//8D/w//E/8j/zf/U/+P/8f/5////AAAAAPz/+P/7////AAADAAYADQARABcAGAAWABgAFgAWABQAEwASAAwACAABAPr/9P/x//D/8P/z//X/8//y/+//6P/i/+X/7f/1/wEAEAAdACcAJQAhABkAEgAPAAkACgALAAsABwABAP//9//z//H/7f/u//D/9P/1//L/7v/r/+v/6//r/+v/7f/y//f/9//2//X/9v/5//v/AAADAAYABQACAP3/9//y//T/+/8AAAIA///2/+z/6v/r/+3/8f/x//H/8//5//z//f///wAAAQADAAsAFgAdACYALAAtACsAJAAeABgAFgAWABQAFgAQAAcA/f/z/+z/5f/l/+X/5//m/+X/4v/g/97/3P/e/9//5v/t//X//v8EAA4AGQAlADEAOgA9AD0AOAAvACYAGwASAAoABQABAPz/+f/6//v//v8AAAMABQAFAAoAEAAWABsAHAAeABsAEwALAAMA//8AAAEAAQAAAAAA/v/6//j/9f/3//v///////z/+f/y/+7/6f/m/+P/3P/a/9r/3v/q//n/CAATABsAHgAdAB4AHgAhACIAIgAiAB4AGgATAA0ACgAMAA0ADAAJAAMA///5//b/8f/o/93/0f/N/8v/0f/Y/9z/3f/b/+P/6f/v//L/8f/3//z/BAALAA8AFAAWABoAIwAvADgAPQA+ADwAOgA1AC4AJAAUAAgA///4/+//5//d/9P/y//H/8b/xv/I/8n/0P/T/9j/3v/h/+P/4f/j/+X/5v/o/+j/6v/u//L/+f/9//3//f8AAAUADQAPAAwABgAAAP//AwALABQAGwAiACUAKAAtAC8ALwAtACwAKgAoACIAHAAXABEADAAMABIAFQAVAA8ACAACAPr/8v/r/9//1//V/9r/4v/o/+3/7f/w//P/+f8BAAoAEwAZAB8AJQAoACsALQAzADsAQgBKAE8ATwBIAD8ANAAqAB8AEQADAPn/8P/q/+T/3//Z/9f/1//V/9T/0v/U/9b/2//l/+z/8v/1//T/8P/s/+n/6v/q/+j/5v/l/+b/6f/y//7/AwAHAAcABwAHAAUABQAEAAQABAAHAAkADQAQABIAEwARABAAEQASABEADgAKAAcABwAKAAsACwAHAAQABwAMABQAGgAaABMACAD+//j/8//u/+v/6P/m/+L/3f/Y/9H/zP/M/9T/4f/v//n/AQAHAAwAFAAdACIAIwAkACIAIAAhACAAGwATAAoAAAD3/+7/6f/m/+X/5f/m/+X/4v/g/93/3f/j/+z/8f/z//H/7v/s/+n/5v/k/+f/6P/r/+//8v/y//L/8v/1//z/BQAMABIAGAAcAB8AGgAVAA4AAQD1/+z/6f/k/+H/3//g/+T/7P/0//r/AAACAAYADAAPAA4ACwACAPf/7P/m/+f/7//7/wkAFwAgACQAJAAeABQACwAFAAEABAAIAAkACAAGAAAA/f/6//f/+f/+/wIABgAJAAkACAAGAAQACAAJAAYABQAFAAMAAwAGAAgACgAQABQAFAASAAkAAAD6//f/9f/3//j/9v/x/+3/6//r/+v/6//s/+3/8v/4//7/AQAIAA4AEQAWABoAHAAYABUAEgAPAA4ADgAPAA8AEAARABMAFgAbABsAFwAUABEADgALAAoACgAIAAUAAAD9//z//v8BAAoAFAAZABoAHAAcABkAFAANAAIA+f/y/+7/7v/0//v/AAAAAPz/9v/v/+b/2//T/8//0v/b/+f/9P8CAA0AFwAgACgAMQAxACwAIQARAAQA+//x/+r/5P/f/93/3v/g/+H/5P/m/+n/7P/u//D/8f/z//b/+P/9/wIABQAEAAIA/f/1/+//6v/o/+j/6//v//L/8//0//b/9v/2//L/7f/m/+j/7v/4/wAABAAGAAcACAAFAAQAAwABAAAAAAD9//z//f/9/wAAAgACAAMABAAJABAAEwATABQAFwAWABQADwAIAAIA/v/9//3/AAAAAAMACAAOABQAFgAWABQAFgAYABkAGAAXABMADQAKAAwADQARABUAFAAOAAYA/f/1//H/6v/m/+b/5//o/+v/7v/z//z/AAABAAAA+f/0//H/8P/y//n/AAAHABAAGAAdACAAIgAhAB8AHAAZABMADAAJAAkADwAVABkAFwASAAoABQADAAEAAAD7//P/7f/s//L/+/8CAAoADwATABIADgALAAMA/v/6//j/+//8/wAAAgAEAAYACQAOABMAFgAZABgAFAAMAAIA/P/0/+v/5f/l/+f/6//u//P/9//6//v/+//7//n/9v/v/+X/2//T/8//zf/S/9j/3P/h/+T/6f/u//T//f8DAAcABwAJAAYA///4//D/7f/r/+n/5//k/+H/4f/k/+n/7f/x//b/+f/9/wIACQASABwAIwAnACcAIgAcABEABwD8//H/5f/b/9n/2f/c/93/4//p/+7/9f/9/wQACwAQAA4ADAAKAAcABgAHAAYAAgABAAEAAQAEAAYADQAZACAAIwAlACIAGwAXABEACQAAAPf/7v/q/+v/7f/w//D/8v/z//T/9//8/wIABwAMABAAEAAOAAcAAwAAAPr/+f/6//r/+f/6//3/AAADAAIABAADAAIAAAD9//3///8DAAsAGAAiACkALgAvACsAJQAlACEAHwAWAA0ACAADAAEAAAABAAMABQALAAwACAACAPn/8P/o/+T/4f/d/9//4f/m/+7/+P8BAAoAEQATABcAFgAPAAoABwAEAAYADQAUABoAIAAlACkALQAuAC4AKwAkAB8AFgAKAP7/9f/v/+z/6P/n/+T/3v/c/9z/5P/r//f/AQAGAA0ACwAHAAAA+P/x/+z/7P/t//D/9v/5//z/AAAAAAMABgAEAAIAAgAHAAkACgAEAPv/8f/r/+7/9f///wgADwASAA8ADQAJAAcABQACAP7/9//x/+r/5f/i/+D/3//e/9//3P/W/9D/zP/I/8P/wv/D/8X/yP/N/9P/2//l/+7/9/8EABEAHAAnACoAJwAcAA8AAgD8//v//P8AAAUABwAEAAMABAAHAAsAEQAZACAAJAAoACsAKgAnACUAJAAdABYADgADAPT/6P/i/9//5f/v//P/9f/2//f/+f/8////AQADAAMAAAD/////BAAOABcAIgArADIAMwAxACoAIgAYAA0ABAD+//z/+P/1//P/8P/r/+r/7v/w//H/8v/1//n//f8CAAoADwARABQAEgAOAAoABQAAAP//+//8/wMADgAdACoAMgAzAC8AJgAcABIABwD///j/7//r/+f/4v/c/9j/2f/d/+X/8v///wMABgAIAAkACAAHAAUAAQD/////AQAFAAkADAAOAA8ADQAPAA8ADAADAPr/9P/w//D/8//1//P/8v/v/+3/7f/q/+n/5//p/+3/7//x//P/9f/2//r//f8AAAAA/v/5//T/7v/p/+f/5P/i/+D/4v/o/+//8P/s/+j/4f/f/9//4//q/+3/8v/3//v///8FAA0AEwAVABEACgABAPr/9v/1//P/8f/z//f/+f/7//z/+//2//X/+P/9/wEABQAEAAUACAANABIAEwARAAkA/f/v/+b/4P/c/+H/6//2/wAACwAVABsAIAAiACQAJQAnACoAKAAnACYAIgAfACEAIAAcABsAHAAbABoAGQAXAA8ABQD///T/6//j/9v/1P/P/9T/3//p//L//P8EAAoAEQAWABcAFgASAA4ACwANAA0ADgASABUAGgAbAB0AHgAcABgADAAAAPb/6//h/9n/1f/U/9f/4v/t//j///8FAA8AGQAjACwAMwA1ADIAKQAgABkAEQAMAAoACgAMAAwADAALAAYA/f/z/+n/3P/T/8//zP/M/87/0P/Q/9X/3P/j/+r/9/8EAA4AFgAeACUALwA5AD8APgA1ACkAHgARAAYAAwD///j/8f/q/+T/3//e/+P/5v/t//T/9//3//b/9f/v/+//8f/w/+//7f/v/+//8v/3//z/AQAGAAsADQAJAAIA+v/w/+z/6f/n/+X/5P/i/9//4P/i/+n/7P/w//f/+v8AAAIABQAHAAkADQAOABAADgAOAAsACAAIAAcAAADz/+X/2f/Q/8z/0P/T/9r/4v/t//v/BAAOABMAFwAcAB8AHQAYABgAGQAYABQADQAFAP3/+f/5//j/+f/9////AwALABAAEQAMAAIA9f/p/+L/4f/j/+H/5f/r//H/+v8AAAcACwAOABMAFQAWABMACQD+//H/5//i/9//3v/e/+L/6f/w//r/AAAGABAAHAAlACkAKwAkAB0AFAARABQAFAAXABgAGAAZABsAGwAYABQADQAHAAIA///4//D/5v/e/9v/3P/i/+j/7f/t//L/+f/+/wUADQAXABwAJAArACsALgAoAB8AGAAQAA0ABwD///H/6v/n/+b/6v/s/+r/5f/j/9//3f/g/+r/9/8EABEAEwAUABUAGAAgACUAKAAqACUAKAAsACoAJgAfABgADwABAPj/8//w//H/8//x//D/8P/x//T/8P/u/+r/6f/w//j//v8EABQAIQAtAC8AKQAnACQAIgAgAB0AFwANAAMA+f/w/+z/5v/i/9//3//e/93/4//r//H/+f8AAAUACAALAA8AEgAVABoAHQAcABoAGAAUABMAEQANAAwADgAOAAkA/v/y/+v/4P/X/9P/1f/g/+n/7f/q/+j/6P/p/+//+P8CAA4AGAAcABwAFQARAA4ADQATABYAEAAHAP3/7//o/+T/5//s/+v/6f/o/+v/7P/u/+7/8//7/wEAAgAAAAAABQAMABEAFAATAA8ACwAGAP//9//y//H/8//v/+r/4v/f/+D/3//b/9n/3f/j/+f/5f/o/+v/7v/6/wUAEwAcACIAJgAqACcAHwAXAA8ACgADAPr/7f/f/9D/xf/F/8v/1f/d/+L/6P/x//v/BwAWACUAMgA8AD0AMwAsACYAJQAiABcADQAIAAIA/P/y/+T/3v/e/97/3P/Z/9j/1v/Z/+D/5v/r/+z/7P/x//b/+v/+/wEACAAQABkAIwAsADAALAAiABoAFQAUABMADwAJAAYAAwABAAAA+f/0//f/+//7//f/7//r/+r/6//w//T/+v8AAAkADwARABIAFQAaABoAFgAWABwAIQAhAB4AHQAdABkAEAADAPf/6v/l/+f/5v/j/+X/6v/w//X/+P/7//z//v8AAAcAEgAXABYAFQAaAB8AHgAYABUAEwATABIAEgASABAADgAOAA8ADAADAPX/5f/a/9H/x//A/73/wv/Q/9z/4//o//T/BgAcACcAKgAqAC0AMwAxAC0AKAApACoAJQAbAAwA///3//D/5//h/93/2//f/+P/5P/i/+f/9f8AAAMAAwABAAQACAAKAAsADwARABMADwAHAAAA/P/6//j/8//s/+j/5v/m/+T/3f/Y/9f/3//q//f/AAAIABMAGgAXABMAGQAlACsAIwAZABgAGgAYABQADwANAAoABwAEAPz/7//f/9b/2f/d/97/4f/r//X/+v/5/wAACgAMAAYAAgAFAA0AEwAQAA0ACgALAA0ACwADAPX/5//h/+D/3v/a/9f/3f/m/+z/8f/9/wwAGAAYABMACwAHAA4AFwAfACgALgAuACkAIwAYAAcA9v/s/+f/4v/Y/9L/1v/e/97/3P/i//P/AQAAAPv/AgASABwAGAAXACQAMAAzADMALAAdAAoA/////wAA9f/i/9//8f8AAPX/3//W/9//5//h/9n/4P/v//3/BwAQABYAGAAdACoANQA2ADEAMAA3ADoAMwAmACEAIAAWAAgA/v/7//T/6v/f/9n/1v/M/8P/xv/U/+T/7//6/wkAGAAgACYALgA0ADMAKgAkACQAIQAaABIACwAEAAAA/v/5//L/5//f/+D/6P/p/9//1//V/9r/2v/W/9r/5f/v//n/BwAcACkAJwAkACQAJQAbAAkAAAAEAAsABgD7//b/9v/u/+D/2P/d/+L/4f/a/9X/1//X/9r/5v/x//T/8v/t/+r/6f/r//H/+P8BAAUABwAKAAwADQAHAAAAAAADAAYABAD2/+n/5v/p/+z/5v/Z/9X/3v/u//f/9//6/wAADQASAA0ACQAKAA4ADwAPAA4ADwAQAA8ACwAIAAUABgAHAAIA+v/q/9//3//g/+L/5//6/xAAGwAeABwAIQAjABcACQADAAgACwAFAPb/5v/i/+X/6f/v//D/8P/0//7/BAD8//X/+v8NACMAKwAqACkALgA3ADsANgAwAC8AMwA3ADUALQAjAB0AHgAhACIAIAAaABEABQD8//P/6P/j/+H/4f/g/+D/5//v//X/9v/5//7////5//D/6f/u//r/AgAAAPv/BAAQABIADgAOABkAIQAbAAsABAAGAAgACAANABMAFAARAA8AFgAXAAwAAAD6/wAABQD+//H/6//r/+T/2//c/+P/4//d/9v/5f/u//D/8P/z//3/AQACAAAAAAD///3//P/5//3/AgAFAAcADgATABAACgD///P/5v/c/9P/x/++/8D/yv/N/8//2//t//r/+f/4/wAACAAIAAUACQAUABoAEgAHAAUADAAMAAAA8v/l/9//2//a/9z/3f/d/93/6f/1/+//4P/d//H/CgARAAwAEQAmADUAKQAaABkAIgAiABAACQAQABMADAARACgAKQATAPv/9v8EAP//6v/h//P/CQAPAAsAAgAEAAUABAD///r//P/+/wAA//8DAAoADwAWAB4AIQAiAB0AHAAZAA0AAAD6//3/9//q/+T/8f8DAAgACwAUACEAKQAtAC8ALAApACEAIAAdABMABgABAA0AEgAPAAsADAAPAAsABgACAP7//v8BAAgADgAKAAUABgAOABQAEQANAAkADAAMAAQA/P/6//7/+v/w/+X/5//q/+n/6f/t//n/+v/v/+f/7P/4/wAABQAHAA8AGAAdACAAIAAYABEACwAFAAEA///2/+//7f/p/+f/5P/g/9z/0//G/8D/yP/T/9n/2f/a/+X/8v/4//f//f8EAAwADwAJAAUAAAD+//n/9v/1//T/8v/r/+n/6f/o/+X/5//x//v/+//2//X/9//+//3//f8DAA0AEwALAAQAAAAAAP3/+P/3//D/5//f/+T/7//1//T/8f/2//b/8P/q/+r/8P/3//v//f8GABMAGAAUABAAEwAaACAAGQATABcAIgAnACUAKAAwADEAJAAXABIADwAHAP3/9//8/wAA/P/7/wAABgAIAAMABAAGAAMA/v/6//v/AAAEAAMAAAD//////f/9//7/AwAKAAsACQAGAAgADAATABYAFgAWABEAEQATABoAIwAnACwAMQAzAC8ALgA5AEMAPwAxACwAMgAyACAABQDz//D/8f/v/+z/7P/u/+r/5f/e/9b/0f/R/9f/2f/Y/9r/4P/o//L//f8IABgAJAAoACQAHgAcAB0AGwAQAAMA9P/l/9r/0//N/8L/uP+3/8H/yv/N/9L/3P/n/+v/7f/w//b/+v/7//v/+v/6////BgAMAA0ADAAPAA4ACgABAPz/+//4/+//4//e/9//4P/d/9b/2P/i//D/9//2//T/8f/s/+j/5//t//b/AAANABwAKQAvADUAOgA3ACwAIAAZABEAAADy/+n/6P/o/+j/7P/x//f//P/+/wAABAAHAAkACwAOABQAGAAZABUAFAAVABUAFgAXABkAFgANAAUABAAFAAAA+P/v/+z/6v/j/9r/0//R/9T/2f/g/+f/7v/1/wAADQAYABwAGgAZABgAFgAaACQALwAuAB0ADwAPABsAIgAfABYAEgASAA8ACAD8//L/7P/n/97/1P/R/9L/1P/U/9r/6//7/wAAAwANABoAHwAcABcAFAALAP3/7//p/+f/5//s//f/BgAQABEAEAAQABMAFgAUABAADQAMAAsACgALAA8AFAAVAA0ABgAGAAoADgAPAA8AEgATABMADwADAPf/6//l/+T/5P/l/+T/5f/j/+L/4//k/+r/7//2//7/AgAGAAQAAAD3//X/9v/0/+7/5//k/+P/4P/a/9j/3//n/+3/9P8AAAoADQAGAAAAAgAKAA8ACgACAP//AgAIAA4ADgAMABAAFwAZABgAGAAYABcAFgAVABoAGwAXABAACQAFAAgACwAKAA0AFAAdACQAJgAmACUAJQAnACcAIwAgAB4AHwAfABoADgACAPv/8P/p/+T/3//Z/8v/vP+0/7j/wf/I/83/0v/Z/9//6//5/wAAAAADAAgADwATABQAEQAQABEAEwAYABQABwD6//b/+f/6//f/8v/s/+j/5P/g/+D/4v/m/+f/6//z//f/+v/9/wAABQAKAA0ADAAIAAUAAwAGAAYAAAD4//D/7f/o/+P/5P/k/+b/5//l/+L/5P/k/+D/3//i/+v/9/8AAAkAEwAdACQALgA7AEIARgBCAD4APgA8ADkANAAyADEALwAlABoAEwALAAEA9//w/+7/7//v//L/9f/2//X/9v/4//v//v///wQACwARABAAEQAYAB4AGgAHAPL/5//n/+3/7P/m/+j/6P/r/+v/6f/n/+b/5//i/+X/8//6//v/8f/q/+3/8f/1//T/7P/p//H/+v/4//T/9P/2//z/AQAFABAAGAAbAB0AGgAXAB4AIQAdABkAGwAoADAALgAnACUAKgAuACUAFgAPAAsABwABAAAAAwAAAPr/8//2//7/AQD7/+7/5v/n/+f/5f/j/+T/7//4//j/8f/q/+b/3v/Y/9z/5v/r/+n/3v/f/+T/6v/u/+v/6f/l/+j/7f/y//b/+v8BAAoAEwAVABMAEgAXABkAGgAfACUAJQAkACkAMwBCAEcAQAAzACwAMQA1AC4AGwANAAIA/v/2/+v/4f/Y/9z/3f/a/9r/2//a/9b/0v/X/+D/7P/1//H/9v/6//7/AQD///3/8f/l/9z/1v/X/9v/3v/f/97/3v/d/9n/2f/b/+b/9P/9/wMACwASAB4AKwAwADAALAAkABkAEAASABYAFAASABAADgANAAcA+//u/+3/8//5//7/AgAHAAsACgAFAAYACAANABEADgAQABAAEwASAA0ABgABAAIAAwADAP//+//1/+7/5//k/+f/8f/9/wIABAADAAAA+v/y/+z/6f/o/+f/4//g/+P/6//w//P/+f8BAA4AFAAOAAYA/f/5//r/+//9//n/9f/0/+//6//p/+7/7v/s/+3/8P/7/wYACwAFAAUACAAUACAAJAApACkAJgAgABUADgAPAA8AFAAaACAAIwAcABYADgAOAA8AFAAgACgAKgAmACIAJQAoACUAHwAcABwAHgAYABEACwADAP3/9//4////AQD+//j/8v/3/wEACgAOABEAEQAMAAcA/v/3/+7/4P/X/9X/2v/e/+H/4P/m/+//9f/3//j/AAAGAAcAAAABAAcADAALAAAA/v/6//T/7P/m/+T/4v/g/97/5f/r//H/8//3////AQACAAAABAANABUAFQAPAAcABQAHAAQABQAIAA8ADgAPABIADgAJAAcACwAWACEAJQAoACsAKgAjABkAFQATABAABgD///v/9f/u/+L/3P/Z/9z/4P/k/+b/4v/m/+X/4v/g/97/3v/Y/9j/3f/h/+H/3f/Y/9b/2f/c/+L/5//n/+T/5P/q//T/AAAJABEAGgAjACMAIAAeABwAHAAZABoAGgAVAA4ABwADAAAA/f/6//j/+v/6//b/8v/2/wAACgARABQAGAAYABAAAwD3//D/6//u//T/+/8BAAUAAgD7//L/6f/r//D/9////wIABwAKAA0AEQAPAA8AEQAYAB4AIgAjAB0AFwARABEAFAAYABoAFgATAA8ADwAUABUAFwASAAwABQACAAIA/f/2/+//7v/w/+7/6f/l/9z/1f/X/9//6f/x//P/8f/0//z/AwAEAAEA/v/7//z//P/6//n/+v/6//7/AAAHABEAFQASAAYABQAKABEAEwASABMAEQATABYAFgASAAsAAwD6//r//f8CAAQAAgD7//X/9//3//P/6//p/+///P8HAA4AEwARAA4ABgABAP7//v8AAP3/+//7//3/+f/1/+3/5//m/+X/7P/y//L/7//t//P/+v8BAAUAAgAAAAAA//8CAAgADgAQABAAEwAXABoAGgAbABwAHAAaABoAHAAaABkAEgAKAAcACQAJAAcABQABAAAA+v/0//D/8//0//H/8v/0//b/+//9//j/9f/0//L/8f/y//P/9v/4//n/+f/6//j/9v/1//H/9P/6//3/AQAFAAwAFwAlADMANAAuACgAJgArADAALgAlABoADQAEAAMACAALAAsACgAGAAYABAD///j/8f/t/+3/9P/5//n/7//j/9f/z//O/8//0v/T/9b/2P/c/+T/6f/p/+T/5//q/+z/7v/0//j//P8FAAsAEgAWABcAFgAUABYAGAAZABEABgD9//n/+//9/wUACgALAA4ADAAOABEAFQASAA0ADwAOAA4ADQAFAP3/9f/v/+v/6//r/+b/4f/b/9n/4P/p/+7/6v/n/+X/5f/r//L/+f8AAAYAEQAcACYAKgAnACAAGwAXABgAGAARAAkA///3//T/9f/0/+//6f/k/+X/5//q/+z/8f/x//T/9//8/wUABgAAAP3/+//7//z///8BAAIAAAD2//D/7//u/+3/5//j/+H/3//d/9j/1v/Y/+H/7//7/wUADAATABgAGwAfACEAIAAgACIAJQAoAC0AMwA0AC8AKwArACcAIwAXAAsABAD8//P/6//k/+L/5v/q//X/AQALAAkAAAD+//z//f/////////9//z/+P/2//f/8v/y//H/6//l/+L/3v/Z/9v/4v/s//X//P8BAAcACAAJAAwADwAQABQAGgAfACQAJAAgABoAFAAMAAYABgAIAAwADQALAAcAAQD5//f/+P/7//3/AAADAAEAAAD8//j/9//4//j/9//7//z/+//5//r//f8BAAEA///9//n/9f/s/+j/4//0/wIAAAACAAAAAgAAAP//AAAAAAAAAAAAAAAA//8AAAEAAAAAAAEAAAAAAP////////7///8AAP//AAABAAAAAAAAAP///////wAAAQAAAP//AAAAAP//AAAAAAAAAAD//wAAAAAAAP//AAAAAAAAAAAAAAAAAQAAAP//AAABAAEAAAAAAAAA//8AAAAA//8AAAAAAAAAAAEAAAD//////v8AAAAA//////7/AAAAAAAAAAD///////8AAAAAAAAAAAEAAAD//wAAAAAAAP//AAAAAAAAAQABAAEAAAAAAAAAAAAAAP//AAAAAAAAAQAAAAAAAAAAAP////8AAAAAAAAAAP//AAAAAAAAAAAAAAAAAQABAAAAAAAAAAAAAQAAAAAAAQABAAAAAAAAAAAAAQAAAAAAAAAAAAAAAAAAAAAAAQAAAP///////wAAAAAAAP//AAAAAAAAAAAAAAAAAAAAAAAAAAAAAAAAAAA=\" type=\"audio/wav\" />\n",
              "                    Your browser does not support the audio element.\n",
              "                </audio>\n",
              "              "
            ],
            "text/plain": [
              "<IPython.lib.display.Audio object>"
            ]
          },
          "metadata": {},
          "output_type": "display_data"
        },
        {
          "name": "stdout",
          "output_type": "stream",
          "text": [
            "Audio Label : 195102    বাকি অর্ধেক ডানা সাদা বর্ণের।\n",
            "Name: sentence, dtype: object\n"
          ]
        }
      ],
      "source": [
        "# librosa.load() takes the path and returns a numpy array and the sample rate of the audio.\n",
        "# extract_path = '../data/dlsprint'\n",
        "# data/dlsprint.zip\n",
        "AUDIO_PATH= os.path.join(extract_path,'train_files','common_voice_bn_30614352.mp3')\n",
        "print(AUDIO_PATH)\n",
        "# AUDIO_PATH = 'data/dlsprint/train_files/common_voice_bn_30614352.mp3'\n",
        "audio, sr = librosa.load(AUDIO_PATH)\n",
        "\n",
        "print('Shape of the audio: ', audio.shape)\n",
        "print('Sample rate of the audio: ', sr)\n",
        "ipd.display(ipd.Audio(data=audio, rate=sr))\n",
        "print('Audio Label :',train_df[train_df['path'] == os.path.split(AUDIO_PATH)[1]].sentence)"
      ]
    },
    {
      "cell_type": "markdown",
      "metadata": {
        "id": "G6B_8_ijlvpz"
      },
      "source": [
        "## All the audio files are in .mp3 format we need to convert them into .wav format for faster processing."
      ]
    },
    {
      "cell_type": "code",
      "execution_count": 121,
      "metadata": {
        "colab": {
          "base_uri": "https://localhost:8080/"
        },
        "id": "baU4wlNzmjFj",
        "outputId": "4bc21812-d032-4a34-f9b8-b6de193259ad"
      },
      "outputs": [],
      "source": [
        "# !pip install pydub"
      ]
    },
    {
      "cell_type": "code",
      "execution_count": 122,
      "metadata": {
        "id": "v8ht0Ukalxik"
      },
      "outputs": [],
      "source": [
        "import os\n",
        "import skimage.io\n",
        "\n",
        "import time\n",
        "\n",
        "from tqdm.notebook import tqdm\n",
        "tqdm.pandas()\n",
        "\n",
        "import shutil\n",
        "\n",
        "from pydub import AudioSegment\n",
        "\n",
        "from joblib import Parallel, delayed\n",
        "\n",
        "import librosa\n",
        "\n",
        "import io\n",
        "import soundfile as sf"
      ]
    },
    {
      "cell_type": "code",
      "execution_count": 123,
      "metadata": {
        "id": "siWJkBB9mulc"
      },
      "outputs": [],
      "source": [
        "# extract_path = '/content/input/dlsprint'\n",
        "TRAIN_PATH = os.path.join(extract_path,'train_files') \n",
        "TEST_PATH = os.path.join(extract_path,'test_files')\n",
        "VALIDATION_PATH = os.path.join(extract_path,'validation_files')\n"
      ]
    },
    {
      "cell_type": "code",
      "execution_count": 124,
      "metadata": {
        "id": "EFtWQuVlpj0R"
      },
      "outputs": [],
      "source": [
        "errors=[\"common_voice_bn_31727562\",\n",
        "        'common_voice_bn_30998934',\n",
        "        'common_voice_bn_31595526',\n",
        "        'common_voice_bn_31534853',\n",
        "        'common_voice_bn_31518061',\n",
        "        'common_voice_bn_31518373',\n",
        "        'common_voice_bn_31613621',\n",
        "        'common_voice_bn_31555333',\n",
        "        'common_voice_bn_31772113',\n",
        "        'common_voice_bn_31605391',\n",
        "        'common_voice_bn_31631175',\n",
        "        'common_voice_bn_31563901',\n",
        "        'common_voice_bn_31691690',\n",
        "        'common_voice_bn_31692010',\n",
        "        'common_voice_bn_31683653',\n",
        "        'common_voice_bn_31692182',\n",
        "        'common_voice_bn_31519976',\n",
        "        'common_voice_bn_31675793',\n",
        "        'common_voice_bn_31019914',\n",
        "        'common_voice_bn_31660287',\n",
        "        'common_voice_bn_31660384',\n",
        "        'common_voice_bn_31557261',\n",
        "        'common_voice_bn_31633101',\n",
        "        'common_voice_bn_31599243',\n",
        "        'common_voice_bn_31521515',\n",
        "        'common_voice_bn_31777802',\n",
        "        'common_voice_bn_31777848',\n",
        "        'common_voice_bn_31669646',\n",
        "        'common_voice_bn_31566083',\n",
        "        'common_voice_bn_31530331',\n",
        "        'common_voice_bn_31727697',\n",
        "        'common_voice_bn_31513270',\n",
        "        'common_voice_bn_31686295',\n",
        "        'common_voice_bn_31753693',\n",
        "        'common_voice_bn_31686334',\n",
        "        'common_voice_bn_31765546',\n",
        "        'common_voice_bn_31765548',\n",
        "        'common_voice_bn_31662742',\n",
        "        'common_voice_bn_31704856',\n",
        "        'common_voice_bn_31635344',\n",
        "        'common_voice_bn_31618327',\n",
        "        'common_voice_bn_31743074',\n",
        "        'common_voice_bn_31678862',\n",
        "        'common_voice_bn_31626674',\n",
        "        'common_voice_bn_31626677',\n",
        "        'common_voice_bn_31523889',\n",
        "        'common_voice_bn_31610804',\n",
        "        'common_voice_bn_31769538',\n",
        "        'common_voice_bn_31533273',\n",
        "        'common_voice_bn_31445621',\n",
        "        'common_voice_bn_31620650']\n",
        "#---------------\n",
        "# data filtering\n",
        "#---------------\n",
        "# def filter_votes(x):\n",
        "#     p=x[\"path\"]\n",
        "#     # avoid error data\n",
        "#     for pe in errors:\n",
        "#         if pe in p:\n",
        "#             return None\n",
        "#     up=x[\"up_votes\"]\n",
        "#     down=x[\"down_votes\"]\n",
        "#     # if up-down<=0:\n",
        "#     if up<down:\n",
        "#         return None\n",
        "#     # elif up==0:\n",
        "#     #     return None\n",
        "#     else:\n",
        "#         return up\n",
        "\n",
        "def filter_votes(x):\n",
        "    p=x[\"path\"]\n",
        "    # avoid error data\n",
        "    for pe in errors:\n",
        "        if pe in p:\n",
        "            return None\n",
        "    # now process votes\n",
        "    up=x[\"up_votes\"]\n",
        "    down=x[\"down_votes\"]\n",
        "    if up-down<=0:\n",
        "        return \"unv\"\n",
        "    elif up==0:\n",
        "        return \"unv\"\n",
        "    else:\n",
        "        return up"
      ]
    },
    {
      "cell_type": "code",
      "execution_count": 125,
      "metadata": {
        "colab": {
          "base_uri": "https://localhost:8080/",
          "height": 84,
          "referenced_widgets": [
            "8e543921912f4a999518aa63f79c7c9c",
            "f263ce8de0d141869804ed836f869b4a",
            "8382767c4e624d4c805ef643d13d253a",
            "9efbd91e8f534e7b99a0638d45f19551",
            "5046699736ca4289a053ca6774ba82ca",
            "b07793c6a34e42f78510a50101ccf86d",
            "a9dfe7303e754cf5b580108bd12ce3e0",
            "69efcd58d59d4c6aa5d86747a676afd7",
            "740643ce65cd47c9987d3aec3fad84b5",
            "7ec7d7e858b84ef9888c19ae0b97e458",
            "de142fd8c4ba4b9b922257d043c0c457"
          ]
        },
        "id": "WtSKaKj9rwek",
        "outputId": "ae01d8e7-d56c-49fd-e8ba-066f2efbc3a0"
      },
      "outputs": [
        {
          "name": "stdout",
          "output_type": "stream",
          "text": [
            "Total Data before filtering: 206950\n"
          ]
        },
        {
          "data": {
            "application/vnd.jupyter.widget-view+json": {
              "model_id": "4753b8d252f4486e979d4f2e91a92e09",
              "version_major": 2,
              "version_minor": 0
            },
            "text/plain": [
              "  0%|          | 0/206950 [00:00<?, ?it/s]"
            ]
          },
          "metadata": {},
          "output_type": "display_data"
        },
        {
          "name": "stdout",
          "output_type": "stream",
          "text": [
            "Total Data after filtering: 37403\n"
          ]
        }
      ],
      "source": [
        "print(\"Total Data before filtering:\",len(train_df))\n",
        "train_df[\"up_votes\"]=train_df.progress_apply(lambda x:filter_votes(x),axis=1)\n",
        "train_df.dropna(subset = ['up_votes'],inplace=True)\n",
        "train_df=train_df.loc[train_df.up_votes!=\"unv\"]\n",
        "train_df.reset_index(drop=True,inplace=True)\n",
        "print(\"Total Data after filtering:\",len(train_df))\n",
        "train_audio_files=train_df[\"path\"].tolist()\n",
        "train_df.to_csv('new_train.csv')"
      ]
    },
    {
      "cell_type": "markdown",
      "metadata": {},
      "source": []
    },
    {
      "cell_type": "markdown",
      "metadata": {
        "id": "rimnSQ5CsP_u"
      },
      "source": [
        "## Creating a list of test files"
      ]
    },
    {
      "cell_type": "code",
      "execution_count": 126,
      "metadata": {
        "colab": {
          "base_uri": "https://localhost:8080/"
        },
        "id": "Wuneu3sCsTxB",
        "outputId": "6fba47b2-f295-4334-dfea-95c9e2f43906"
      },
      "outputs": [
        {
          "data": {
            "text/plain": [
              "7747"
            ]
          },
          "execution_count": 126,
          "metadata": {},
          "output_type": "execute_result"
        }
      ],
      "source": [
        "# list to store files\n",
        "test_audio_files = []\n",
        "\n",
        "# Iterate directory\n",
        "for path in os.listdir(TEST_PATH):\n",
        "    # check if current path is a file\n",
        "    if os.path.isfile(os.path.join(TEST_PATH, path)):\n",
        "        test_audio_files.append(path)\n",
        "len(test_audio_files)"
      ]
    },
    {
      "cell_type": "markdown",
      "metadata": {},
      "source": [
        "## Creating a list of validation files"
      ]
    },
    {
      "cell_type": "code",
      "execution_count": 127,
      "metadata": {},
      "outputs": [
        {
          "data": {
            "text/plain": [
              "7747"
            ]
          },
          "execution_count": 127,
          "metadata": {},
          "output_type": "execute_result"
        }
      ],
      "source": [
        "# list to store files\n",
        "val_audio_files = []\n",
        "\n",
        "# Iterate directory\n",
        "for path in os.listdir(VALIDATION_PATH):\n",
        "    # check if current path is a file\n",
        "    if os.path.isfile(os.path.join(VALIDATION_PATH, path)):\n",
        "        val_audio_files .append(path)\n",
        "len(val_audio_files)"
      ]
    },
    {
      "cell_type": "markdown",
      "metadata": {},
      "source": [
        "## Declearing the folder path for converted files\n"
      ]
    },
    {
      "cell_type": "code",
      "execution_count": 128,
      "metadata": {
        "colab": {
          "base_uri": "https://localhost:8080/"
        },
        "id": "uMcKn92Zs-NP",
        "outputId": "a313310c-bc9c-4376-e0aa-16e596e6bdc5"
      },
      "outputs": [
        {
          "name": "stdout",
          "output_type": "stream",
          "text": [
            "../data/dlsprint/test_files_wav\n"
          ]
        }
      ],
      "source": [
        "# extract_path = '../data/dlsprint'\n",
        "# drive_path = '/content/gdrive/MyDrive/kaggleProject/dlsprint'\n",
        "new_dir = ['train_wavs','validation_files_wav','test_files_wav']\n",
        "for folder in new_dir:\n",
        "    newFolder = os.path.join(extract_path,folder)\n",
        "    # newFolder = os.path.join(drive_path,folder) \n",
        "    if not os.path.exists(newFolder):\n",
        "        print(newFolder)\n",
        "        os.makedirs(newFolder)"
      ]
    },
    {
      "cell_type": "code",
      "execution_count": 129,
      "metadata": {
        "id": "_4W5CniBvfuv"
      },
      "outputs": [],
      "source": [
        "# extract_path = '/content/input/dlsprint'\n",
        "# drive_path = '/content/gdrive/MyDrive/kaggleProject/dlsprint'\n",
        "New_Train_Dir = os.path.join(extract_path, new_dir[0]) # './new_train' \n",
        "NEW_Validation_Dir = os.path.join(extract_path, new_dir[1]) # './new_validation'\n",
        "New_Test_Dir = os.path.join(extract_path, new_dir[2]) # './new_test'\n",
        "\n",
        "# # For save to drive \n",
        "# New_Train_Dir = os.path.join(drive_path,'new_train') # './new_train' \n",
        "# NEW_Validation_Dir = os.path.join(drive_path,'new_validation') # './new_validation'\n",
        "# New_Test_Dir = os.path.join(drive_path,'new_test') # './new_test'"
      ]
    },
    {
      "cell_type": "code",
      "execution_count": 130,
      "metadata": {
        "colab": {
          "base_uri": "https://localhost:8080/"
        },
        "id": "4qxJbPlKwGM1",
        "outputId": "87b4caf5-0cf4-4f18-a988-980e9d9b6995"
      },
      "outputs": [
        {
          "name": "stdout",
          "output_type": "stream",
          "text": [
            "../data/dlsprint/train_wavs\n"
          ]
        }
      ],
      "source": [
        "print(New_Train_Dir)"
      ]
    },
    {
      "cell_type": "markdown",
      "metadata": {
        "id": "5zTxdhpDwUcA"
      },
      "source": [
        "## Converting the train .mp3 files into .wav and saving it inside a new directory"
      ]
    },
    {
      "cell_type": "code",
      "execution_count": 131,
      "metadata": {
        "id": "lGJ6og87wT4W"
      },
      "outputs": [],
      "source": [
        "def save_fn(filename):\n",
        "    \n",
        "    \n",
        "    path = f\"{TRAIN_PATH}/{filename}\"\n",
        "    save_path = f\"{New_Train_Dir}\"\n",
        "    if not os.path.exists(save_path):\n",
        "        os.makedirs(save_path, exist_ok=True)\n",
        "    \n",
        "    if os.path.exists(path):\n",
        "        try:\n",
        "            sound = AudioSegment.from_mp3(path)\n",
        "            sound = sound.set_frame_rate(16000)\n",
        "            sound.export(f\"{save_path}/{filename[:-4]}.wav\", format=\"wav\")\n",
        "        except:\n",
        "            print(path)"
      ]
    },
    {
      "cell_type": "code",
      "execution_count": 132,
      "metadata": {
        "colab": {
          "base_uri": "https://localhost:8080/",
          "height": 35
        },
        "id": "6SyzsBdqxkLK",
        "outputId": "e91e897a-c6bf-44e7-97f1-f03004eed126"
      },
      "outputs": [
        {
          "data": {
            "text/plain": [
              "' 11th Gen Intel(R) Core(TM) i7-11700 @ 2.50GHz'"
            ]
          },
          "execution_count": 132,
          "metadata": {},
          "output_type": "execute_result"
        }
      ],
      "source": [
        "import os, platform, subprocess, re\n",
        "\n",
        "def get_processor_name():\n",
        "    if platform.system() == \"Windows\":\n",
        "        return platform.processor()\n",
        "    elif platform.system() == \"Darwin\":\n",
        "        os.environ['PATH'] = os.environ['PATH'] + os.pathsep + '/usr/sbin'\n",
        "        command =\"sysctl -n machdep.cpu.brand_string\"\n",
        "        return subprocess.check_output(command).strip()\n",
        "    elif platform.system() == \"Linux\":\n",
        "        command = \"cat /proc/cpuinfo\"\n",
        "        all_info = subprocess.check_output(command, shell=True).decode().strip()\n",
        "        for line in all_info.split(\"\\n\"):\n",
        "            if \"model name\" in line:\n",
        "                return re.sub( \".*model name.*:\", \"\", line,1)\n",
        "    return \"\"\n",
        "\n",
        "get_processor_name()"
      ]
    },
    {
      "cell_type": "code",
      "execution_count": 133,
      "metadata": {
        "colab": {
          "base_uri": "https://localhost:8080/",
          "height": 49,
          "referenced_widgets": [
            "169d1a296d17409e8e4dab1c98404cb4",
            "7eb7a69dd8ad46a4ab729a821e802c24",
            "fab539c0e4644341b4ea170620fb98d9",
            "44ed9806041344b6ba7a270dd0e4b132",
            "48e6779632144167981c19cdd7b739e1",
            "14a5d2087f9348b3a4f9faa5f62c97bf",
            "e67552f75b354f11b2beb0a4542ed5bc",
            "e7652605d4fb4bd39e27138460d46cb4",
            "eb8826494d2d4439ab08f0986ad5094d",
            "cce5951fa7954dc09add701d50842780",
            "9248f92538cd43ee94a773dcef5d0b42"
          ]
        },
        "id": "kZOxmAy4wr_S",
        "outputId": "f25a5fcf-de70-4fe3-909a-9ab41ad26285"
      },
      "outputs": [
        {
          "data": {
            "application/vnd.jupyter.widget-view+json": {
              "model_id": "12eaae018a1e4aa8bb61a9ddea3dc37f",
              "version_major": 2,
              "version_minor": 0
            },
            "text/plain": [
              "  0%|          | 0/37403 [00:00<?, ?it/s]"
            ]
          },
          "metadata": {},
          "output_type": "display_data"
        },
        {
          "ename": "KeyboardInterrupt",
          "evalue": "",
          "output_type": "error",
          "traceback": [
            "\u001b[0;31m---------------------------------------------------------------------------\u001b[0m",
            "\u001b[0;31mKeyboardInterrupt\u001b[0m                         Traceback (most recent call last)",
            "\u001b[1;32m/mnt/c/Users/tonmo/Desktop/DLSprint_challenge/scripst/dlsprint.ipynb Cell 49\u001b[0m in \u001b[0;36m<cell line: 4>\u001b[0;34m()\u001b[0m\n\u001b[1;32m      <a href='vscode-notebook-cell://wsl%2Bubuntu/mnt/c/Users/tonmo/Desktop/DLSprint_challenge/scripst/dlsprint.ipynb#ch0000048vscode-remote?line=0'>1</a>\u001b[0m \u001b[39mimport\u001b[39;00m \u001b[39mtime\u001b[39;00m\n\u001b[1;32m      <a href='vscode-notebook-cell://wsl%2Bubuntu/mnt/c/Users/tonmo/Desktop/DLSprint_challenge/scripst/dlsprint.ipynb#ch0000048vscode-remote?line=1'>2</a>\u001b[0m start \u001b[39m=\u001b[39m time\u001b[39m.\u001b[39mtime()\n\u001b[0;32m----> <a href='vscode-notebook-cell://wsl%2Bubuntu/mnt/c/Users/tonmo/Desktop/DLSprint_challenge/scripst/dlsprint.ipynb#ch0000048vscode-remote?line=3'>4</a>\u001b[0m Parallel(n_jobs\u001b[39m=\u001b[39;49m\u001b[39m-\u001b[39;49m\u001b[39m1\u001b[39;49m, backend\u001b[39m=\u001b[39;49m\u001b[39m\"\u001b[39;49m\u001b[39mmultiprocessing\u001b[39;49m\u001b[39m\"\u001b[39;49m)(\n\u001b[1;32m      <a href='vscode-notebook-cell://wsl%2Bubuntu/mnt/c/Users/tonmo/Desktop/DLSprint_challenge/scripst/dlsprint.ipynb#ch0000048vscode-remote?line=4'>5</a>\u001b[0m     delayed(save_fn)(filename) \u001b[39mfor\u001b[39;49;00m filename \u001b[39min\u001b[39;49;00m tqdm(train_audio_files)\n\u001b[1;32m      <a href='vscode-notebook-cell://wsl%2Bubuntu/mnt/c/Users/tonmo/Desktop/DLSprint_challenge/scripst/dlsprint.ipynb#ch0000048vscode-remote?line=5'>6</a>\u001b[0m )\n\u001b[1;32m      <a href='vscode-notebook-cell://wsl%2Bubuntu/mnt/c/Users/tonmo/Desktop/DLSprint_challenge/scripst/dlsprint.ipynb#ch0000048vscode-remote?line=7'>8</a>\u001b[0m end \u001b[39m=\u001b[39m time\u001b[39m.\u001b[39mtime()\n\u001b[1;32m      <a href='vscode-notebook-cell://wsl%2Bubuntu/mnt/c/Users/tonmo/Desktop/DLSprint_challenge/scripst/dlsprint.ipynb#ch0000048vscode-remote?line=8'>9</a>\u001b[0m \u001b[39mprint\u001b[39m(\u001b[39m\"\u001b[39m\u001b[39mtotal time to process: \u001b[39m\u001b[39m{x}\u001b[39;00m\u001b[39m seconds\u001b[39m\u001b[39m\"\u001b[39m\u001b[39m.\u001b[39mformat(x\u001b[39m=\u001b[39mend\u001b[39m-\u001b[39mstart))\n",
            "File \u001b[0;32m~/anaconda3/envs/mmtest/lib/python3.9/site-packages/joblib/parallel.py:1056\u001b[0m, in \u001b[0;36mParallel.__call__\u001b[0;34m(self, iterable)\u001b[0m\n\u001b[1;32m   1053\u001b[0m     \u001b[39mself\u001b[39m\u001b[39m.\u001b[39m_iterating \u001b[39m=\u001b[39m \u001b[39mFalse\u001b[39;00m\n\u001b[1;32m   1055\u001b[0m \u001b[39mwith\u001b[39;00m \u001b[39mself\u001b[39m\u001b[39m.\u001b[39m_backend\u001b[39m.\u001b[39mretrieval_context():\n\u001b[0;32m-> 1056\u001b[0m     \u001b[39mself\u001b[39;49m\u001b[39m.\u001b[39;49mretrieve()\n\u001b[1;32m   1057\u001b[0m \u001b[39m# Make sure that we get a last message telling us we are done\u001b[39;00m\n\u001b[1;32m   1058\u001b[0m elapsed_time \u001b[39m=\u001b[39m time\u001b[39m.\u001b[39mtime() \u001b[39m-\u001b[39m \u001b[39mself\u001b[39m\u001b[39m.\u001b[39m_start_time\n",
            "File \u001b[0;32m~/anaconda3/envs/mmtest/lib/python3.9/site-packages/joblib/parallel.py:935\u001b[0m, in \u001b[0;36mParallel.retrieve\u001b[0;34m(self)\u001b[0m\n\u001b[1;32m    933\u001b[0m \u001b[39mtry\u001b[39;00m:\n\u001b[1;32m    934\u001b[0m     \u001b[39mif\u001b[39;00m \u001b[39mgetattr\u001b[39m(\u001b[39mself\u001b[39m\u001b[39m.\u001b[39m_backend, \u001b[39m'\u001b[39m\u001b[39msupports_timeout\u001b[39m\u001b[39m'\u001b[39m, \u001b[39mFalse\u001b[39;00m):\n\u001b[0;32m--> 935\u001b[0m         \u001b[39mself\u001b[39m\u001b[39m.\u001b[39m_output\u001b[39m.\u001b[39mextend(job\u001b[39m.\u001b[39;49mget(timeout\u001b[39m=\u001b[39;49m\u001b[39mself\u001b[39;49m\u001b[39m.\u001b[39;49mtimeout))\n\u001b[1;32m    936\u001b[0m     \u001b[39melse\u001b[39;00m:\n\u001b[1;32m    937\u001b[0m         \u001b[39mself\u001b[39m\u001b[39m.\u001b[39m_output\u001b[39m.\u001b[39mextend(job\u001b[39m.\u001b[39mget())\n",
            "File \u001b[0;32m~/anaconda3/envs/mmtest/lib/python3.9/multiprocessing/pool.py:765\u001b[0m, in \u001b[0;36mApplyResult.get\u001b[0;34m(self, timeout)\u001b[0m\n\u001b[1;32m    764\u001b[0m \u001b[39mdef\u001b[39;00m \u001b[39mget\u001b[39m(\u001b[39mself\u001b[39m, timeout\u001b[39m=\u001b[39m\u001b[39mNone\u001b[39;00m):\n\u001b[0;32m--> 765\u001b[0m     \u001b[39mself\u001b[39;49m\u001b[39m.\u001b[39;49mwait(timeout)\n\u001b[1;32m    766\u001b[0m     \u001b[39mif\u001b[39;00m \u001b[39mnot\u001b[39;00m \u001b[39mself\u001b[39m\u001b[39m.\u001b[39mready():\n\u001b[1;32m    767\u001b[0m         \u001b[39mraise\u001b[39;00m \u001b[39mTimeoutError\u001b[39;00m\n",
            "File \u001b[0;32m~/anaconda3/envs/mmtest/lib/python3.9/multiprocessing/pool.py:762\u001b[0m, in \u001b[0;36mApplyResult.wait\u001b[0;34m(self, timeout)\u001b[0m\n\u001b[1;32m    761\u001b[0m \u001b[39mdef\u001b[39;00m \u001b[39mwait\u001b[39m(\u001b[39mself\u001b[39m, timeout\u001b[39m=\u001b[39m\u001b[39mNone\u001b[39;00m):\n\u001b[0;32m--> 762\u001b[0m     \u001b[39mself\u001b[39;49m\u001b[39m.\u001b[39;49m_event\u001b[39m.\u001b[39;49mwait(timeout)\n",
            "File \u001b[0;32m~/anaconda3/envs/mmtest/lib/python3.9/threading.py:574\u001b[0m, in \u001b[0;36mEvent.wait\u001b[0;34m(self, timeout)\u001b[0m\n\u001b[1;32m    572\u001b[0m signaled \u001b[39m=\u001b[39m \u001b[39mself\u001b[39m\u001b[39m.\u001b[39m_flag\n\u001b[1;32m    573\u001b[0m \u001b[39mif\u001b[39;00m \u001b[39mnot\u001b[39;00m signaled:\n\u001b[0;32m--> 574\u001b[0m     signaled \u001b[39m=\u001b[39m \u001b[39mself\u001b[39;49m\u001b[39m.\u001b[39;49m_cond\u001b[39m.\u001b[39;49mwait(timeout)\n\u001b[1;32m    575\u001b[0m \u001b[39mreturn\u001b[39;00m signaled\n",
            "File \u001b[0;32m~/anaconda3/envs/mmtest/lib/python3.9/threading.py:312\u001b[0m, in \u001b[0;36mCondition.wait\u001b[0;34m(self, timeout)\u001b[0m\n\u001b[1;32m    310\u001b[0m \u001b[39mtry\u001b[39;00m:    \u001b[39m# restore state no matter what (e.g., KeyboardInterrupt)\u001b[39;00m\n\u001b[1;32m    311\u001b[0m     \u001b[39mif\u001b[39;00m timeout \u001b[39mis\u001b[39;00m \u001b[39mNone\u001b[39;00m:\n\u001b[0;32m--> 312\u001b[0m         waiter\u001b[39m.\u001b[39;49macquire()\n\u001b[1;32m    313\u001b[0m         gotit \u001b[39m=\u001b[39m \u001b[39mTrue\u001b[39;00m\n\u001b[1;32m    314\u001b[0m     \u001b[39melse\u001b[39;00m:\n",
            "\u001b[0;31mKeyboardInterrupt\u001b[0m: "
          ]
        }
      ],
      "source": [
        "import time\n",
        "start = time.time()\n",
        "\n",
        "Parallel(n_jobs=-1, backend=\"multiprocessing\")(\n",
        "    delayed(save_fn)(filename) for filename in tqdm(train_audio_files)\n",
        ")\n",
        "\n",
        "end = time.time()\n",
        "print(\"total time to process: {x} seconds\".format(x=end-start))"
      ]
    },
    {
      "cell_type": "markdown",
      "metadata": {},
      "source": [
        "## Converting the validation .mp3 files into .wav and saving it inside a new directory"
      ]
    },
    {
      "cell_type": "code",
      "execution_count": null,
      "metadata": {},
      "outputs": [],
      "source": [
        "def val_save_fn(filename):\n",
        "    \n",
        "    \n",
        "    path = f\"{VALIDATION_PATH}/{filename}\"\n",
        "    save_path = f\"{NEW_Validation_Dir}\"\n",
        "    if not os.path.exists(save_path):\n",
        "        os.makedirs(save_path, exist_ok=True)\n",
        "    \n",
        "    if os.path.exists(path):\n",
        "        try:\n",
        "            sound = AudioSegment.from_mp3(path)\n",
        "            sound = sound.set_frame_rate(16000)\n",
        "            sound.export(f\"{save_path}/{filename[:-4]}.wav\", format=\"wav\")\n",
        "        except:\n",
        "            print(path)"
      ]
    },
    {
      "cell_type": "code",
      "execution_count": null,
      "metadata": {},
      "outputs": [],
      "source": [
        "start = time.time()\n",
        "\n",
        "Parallel(n_jobs=-1, backend=\"multiprocessing\")(\n",
        "    delayed(val_save_fn)(filename) for filename in tqdm(val_audio_files)\n",
        ")\n",
        "\n",
        "end = time.time()\n",
        "print(\"total time to process: {x} seconds\".format(x=end-start))"
      ]
    },
    {
      "cell_type": "markdown",
      "metadata": {},
      "source": [
        "## Converting the test .mp3 files into .wav and saving it inside a new directory"
      ]
    },
    {
      "cell_type": "code",
      "execution_count": null,
      "metadata": {},
      "outputs": [],
      "source": [
        "def test_save_fn(filename):\n",
        "    \n",
        "    \n",
        "    path = f\"{TEST_PATH}/{filename}\"\n",
        "    save_path = f\"{New_Test_Dir}\"\n",
        "    if not os.path.exists(save_path):\n",
        "        os.makedirs(save_path, exist_ok=True)\n",
        "    \n",
        "    if os.path.exists(path):\n",
        "        try:\n",
        "            sound = AudioSegment.from_mp3(path)\n",
        "            sound = sound.set_frame_rate(16000)\n",
        "            sound.export(f\"{save_path}/{filename[:-4]}.wav\", format=\"wav\")\n",
        "        except:\n",
        "            print(path)"
      ]
    },
    {
      "cell_type": "code",
      "execution_count": null,
      "metadata": {},
      "outputs": [],
      "source": [
        "start = time.time()\n",
        "\n",
        "Parallel(n_jobs=-1, backend=\"multiprocessing\")(\n",
        "    delayed(test_save_fn)(filename) for filename in tqdm(test_audio_files)\n",
        ")\n",
        "\n",
        "end = time.time()\n",
        "print(\"total time to process: {x} seconds\".format(x=end-start))"
      ]
    }
  ],
  "metadata": {
    "colab": {
      "collapsed_sections": [],
      "name": "dlsprint.ipynb",
      "provenance": []
    },
    "kernelspec": {
      "display_name": "Python 3.9.7 ('mmtest')",
      "language": "python",
      "name": "python3"
    },
    "language_info": {
      "codemirror_mode": {
        "name": "ipython",
        "version": 3
      },
      "file_extension": ".py",
      "mimetype": "text/x-python",
      "name": "python",
      "nbconvert_exporter": "python",
      "pygments_lexer": "ipython3",
      "version": "3.9.7"
    },
    "vscode": {
      "interpreter": {
        "hash": "a5f9235561fecee141cbd94aa48310d7ec576068bf7db8b30d41da95d7dc070f"
      }
    },
    "widgets": {
      "application/vnd.jupyter.widget-state+json": {
        "14a5d2087f9348b3a4f9faa5f62c97bf": {
          "model_module": "@jupyter-widgets/base",
          "model_module_version": "1.2.0",
          "model_name": "LayoutModel",
          "state": {
            "_model_module": "@jupyter-widgets/base",
            "_model_module_version": "1.2.0",
            "_model_name": "LayoutModel",
            "_view_count": null,
            "_view_module": "@jupyter-widgets/base",
            "_view_module_version": "1.2.0",
            "_view_name": "LayoutView",
            "align_content": null,
            "align_items": null,
            "align_self": null,
            "border": null,
            "bottom": null,
            "display": null,
            "flex": null,
            "flex_flow": null,
            "grid_area": null,
            "grid_auto_columns": null,
            "grid_auto_flow": null,
            "grid_auto_rows": null,
            "grid_column": null,
            "grid_gap": null,
            "grid_row": null,
            "grid_template_areas": null,
            "grid_template_columns": null,
            "grid_template_rows": null,
            "height": null,
            "justify_content": null,
            "justify_items": null,
            "left": null,
            "margin": null,
            "max_height": null,
            "max_width": null,
            "min_height": null,
            "min_width": null,
            "object_fit": null,
            "object_position": null,
            "order": null,
            "overflow": null,
            "overflow_x": null,
            "overflow_y": null,
            "padding": null,
            "right": null,
            "top": null,
            "visibility": null,
            "width": null
          }
        },
        "169d1a296d17409e8e4dab1c98404cb4": {
          "model_module": "@jupyter-widgets/controls",
          "model_module_version": "1.5.0",
          "model_name": "HBoxModel",
          "state": {
            "_dom_classes": [],
            "_model_module": "@jupyter-widgets/controls",
            "_model_module_version": "1.5.0",
            "_model_name": "HBoxModel",
            "_view_count": null,
            "_view_module": "@jupyter-widgets/controls",
            "_view_module_version": "1.5.0",
            "_view_name": "HBoxView",
            "box_style": "",
            "children": [
              "IPY_MODEL_7eb7a69dd8ad46a4ab729a821e802c24",
              "IPY_MODEL_fab539c0e4644341b4ea170620fb98d9",
              "IPY_MODEL_44ed9806041344b6ba7a270dd0e4b132"
            ],
            "layout": "IPY_MODEL_48e6779632144167981c19cdd7b739e1"
          }
        },
        "44ed9806041344b6ba7a270dd0e4b132": {
          "model_module": "@jupyter-widgets/controls",
          "model_module_version": "1.5.0",
          "model_name": "HTMLModel",
          "state": {
            "_dom_classes": [],
            "_model_module": "@jupyter-widgets/controls",
            "_model_module_version": "1.5.0",
            "_model_name": "HTMLModel",
            "_view_count": null,
            "_view_module": "@jupyter-widgets/controls",
            "_view_module_version": "1.5.0",
            "_view_name": "HTMLView",
            "description": "",
            "description_tooltip": null,
            "layout": "IPY_MODEL_cce5951fa7954dc09add701d50842780",
            "placeholder": "​",
            "style": "IPY_MODEL_9248f92538cd43ee94a773dcef5d0b42",
            "value": " 104/201414 [00:15&lt;8:24:27,  6.65it/s]"
          }
        },
        "48e6779632144167981c19cdd7b739e1": {
          "model_module": "@jupyter-widgets/base",
          "model_module_version": "1.2.0",
          "model_name": "LayoutModel",
          "state": {
            "_model_module": "@jupyter-widgets/base",
            "_model_module_version": "1.2.0",
            "_model_name": "LayoutModel",
            "_view_count": null,
            "_view_module": "@jupyter-widgets/base",
            "_view_module_version": "1.2.0",
            "_view_name": "LayoutView",
            "align_content": null,
            "align_items": null,
            "align_self": null,
            "border": null,
            "bottom": null,
            "display": null,
            "flex": null,
            "flex_flow": null,
            "grid_area": null,
            "grid_auto_columns": null,
            "grid_auto_flow": null,
            "grid_auto_rows": null,
            "grid_column": null,
            "grid_gap": null,
            "grid_row": null,
            "grid_template_areas": null,
            "grid_template_columns": null,
            "grid_template_rows": null,
            "height": null,
            "justify_content": null,
            "justify_items": null,
            "left": null,
            "margin": null,
            "max_height": null,
            "max_width": null,
            "min_height": null,
            "min_width": null,
            "object_fit": null,
            "object_position": null,
            "order": null,
            "overflow": null,
            "overflow_x": null,
            "overflow_y": null,
            "padding": null,
            "right": null,
            "top": null,
            "visibility": null,
            "width": null
          }
        },
        "5046699736ca4289a053ca6774ba82ca": {
          "model_module": "@jupyter-widgets/base",
          "model_module_version": "1.2.0",
          "model_name": "LayoutModel",
          "state": {
            "_model_module": "@jupyter-widgets/base",
            "_model_module_version": "1.2.0",
            "_model_name": "LayoutModel",
            "_view_count": null,
            "_view_module": "@jupyter-widgets/base",
            "_view_module_version": "1.2.0",
            "_view_name": "LayoutView",
            "align_content": null,
            "align_items": null,
            "align_self": null,
            "border": null,
            "bottom": null,
            "display": null,
            "flex": null,
            "flex_flow": null,
            "grid_area": null,
            "grid_auto_columns": null,
            "grid_auto_flow": null,
            "grid_auto_rows": null,
            "grid_column": null,
            "grid_gap": null,
            "grid_row": null,
            "grid_template_areas": null,
            "grid_template_columns": null,
            "grid_template_rows": null,
            "height": null,
            "justify_content": null,
            "justify_items": null,
            "left": null,
            "margin": null,
            "max_height": null,
            "max_width": null,
            "min_height": null,
            "min_width": null,
            "object_fit": null,
            "object_position": null,
            "order": null,
            "overflow": null,
            "overflow_x": null,
            "overflow_y": null,
            "padding": null,
            "right": null,
            "top": null,
            "visibility": null,
            "width": null
          }
        },
        "69efcd58d59d4c6aa5d86747a676afd7": {
          "model_module": "@jupyter-widgets/base",
          "model_module_version": "1.2.0",
          "model_name": "LayoutModel",
          "state": {
            "_model_module": "@jupyter-widgets/base",
            "_model_module_version": "1.2.0",
            "_model_name": "LayoutModel",
            "_view_count": null,
            "_view_module": "@jupyter-widgets/base",
            "_view_module_version": "1.2.0",
            "_view_name": "LayoutView",
            "align_content": null,
            "align_items": null,
            "align_self": null,
            "border": null,
            "bottom": null,
            "display": null,
            "flex": null,
            "flex_flow": null,
            "grid_area": null,
            "grid_auto_columns": null,
            "grid_auto_flow": null,
            "grid_auto_rows": null,
            "grid_column": null,
            "grid_gap": null,
            "grid_row": null,
            "grid_template_areas": null,
            "grid_template_columns": null,
            "grid_template_rows": null,
            "height": null,
            "justify_content": null,
            "justify_items": null,
            "left": null,
            "margin": null,
            "max_height": null,
            "max_width": null,
            "min_height": null,
            "min_width": null,
            "object_fit": null,
            "object_position": null,
            "order": null,
            "overflow": null,
            "overflow_x": null,
            "overflow_y": null,
            "padding": null,
            "right": null,
            "top": null,
            "visibility": null,
            "width": null
          }
        },
        "740643ce65cd47c9987d3aec3fad84b5": {
          "model_module": "@jupyter-widgets/controls",
          "model_module_version": "1.5.0",
          "model_name": "ProgressStyleModel",
          "state": {
            "_model_module": "@jupyter-widgets/controls",
            "_model_module_version": "1.5.0",
            "_model_name": "ProgressStyleModel",
            "_view_count": null,
            "_view_module": "@jupyter-widgets/base",
            "_view_module_version": "1.2.0",
            "_view_name": "StyleView",
            "bar_color": null,
            "description_width": ""
          }
        },
        "7eb7a69dd8ad46a4ab729a821e802c24": {
          "model_module": "@jupyter-widgets/controls",
          "model_module_version": "1.5.0",
          "model_name": "HTMLModel",
          "state": {
            "_dom_classes": [],
            "_model_module": "@jupyter-widgets/controls",
            "_model_module_version": "1.5.0",
            "_model_name": "HTMLModel",
            "_view_count": null,
            "_view_module": "@jupyter-widgets/controls",
            "_view_module_version": "1.5.0",
            "_view_name": "HTMLView",
            "description": "",
            "description_tooltip": null,
            "layout": "IPY_MODEL_14a5d2087f9348b3a4f9faa5f62c97bf",
            "placeholder": "​",
            "style": "IPY_MODEL_e67552f75b354f11b2beb0a4542ed5bc",
            "value": "  0%"
          }
        },
        "7ec7d7e858b84ef9888c19ae0b97e458": {
          "model_module": "@jupyter-widgets/base",
          "model_module_version": "1.2.0",
          "model_name": "LayoutModel",
          "state": {
            "_model_module": "@jupyter-widgets/base",
            "_model_module_version": "1.2.0",
            "_model_name": "LayoutModel",
            "_view_count": null,
            "_view_module": "@jupyter-widgets/base",
            "_view_module_version": "1.2.0",
            "_view_name": "LayoutView",
            "align_content": null,
            "align_items": null,
            "align_self": null,
            "border": null,
            "bottom": null,
            "display": null,
            "flex": null,
            "flex_flow": null,
            "grid_area": null,
            "grid_auto_columns": null,
            "grid_auto_flow": null,
            "grid_auto_rows": null,
            "grid_column": null,
            "grid_gap": null,
            "grid_row": null,
            "grid_template_areas": null,
            "grid_template_columns": null,
            "grid_template_rows": null,
            "height": null,
            "justify_content": null,
            "justify_items": null,
            "left": null,
            "margin": null,
            "max_height": null,
            "max_width": null,
            "min_height": null,
            "min_width": null,
            "object_fit": null,
            "object_position": null,
            "order": null,
            "overflow": null,
            "overflow_x": null,
            "overflow_y": null,
            "padding": null,
            "right": null,
            "top": null,
            "visibility": null,
            "width": null
          }
        },
        "8382767c4e624d4c805ef643d13d253a": {
          "model_module": "@jupyter-widgets/controls",
          "model_module_version": "1.5.0",
          "model_name": "FloatProgressModel",
          "state": {
            "_dom_classes": [],
            "_model_module": "@jupyter-widgets/controls",
            "_model_module_version": "1.5.0",
            "_model_name": "FloatProgressModel",
            "_view_count": null,
            "_view_module": "@jupyter-widgets/controls",
            "_view_module_version": "1.5.0",
            "_view_name": "ProgressView",
            "bar_style": "success",
            "description": "",
            "description_tooltip": null,
            "layout": "IPY_MODEL_69efcd58d59d4c6aa5d86747a676afd7",
            "max": 206950,
            "min": 0,
            "orientation": "horizontal",
            "style": "IPY_MODEL_740643ce65cd47c9987d3aec3fad84b5",
            "value": 206950
          }
        },
        "8e543921912f4a999518aa63f79c7c9c": {
          "model_module": "@jupyter-widgets/controls",
          "model_module_version": "1.5.0",
          "model_name": "HBoxModel",
          "state": {
            "_dom_classes": [],
            "_model_module": "@jupyter-widgets/controls",
            "_model_module_version": "1.5.0",
            "_model_name": "HBoxModel",
            "_view_count": null,
            "_view_module": "@jupyter-widgets/controls",
            "_view_module_version": "1.5.0",
            "_view_name": "HBoxView",
            "box_style": "",
            "children": [
              "IPY_MODEL_f263ce8de0d141869804ed836f869b4a",
              "IPY_MODEL_8382767c4e624d4c805ef643d13d253a",
              "IPY_MODEL_9efbd91e8f534e7b99a0638d45f19551"
            ],
            "layout": "IPY_MODEL_5046699736ca4289a053ca6774ba82ca"
          }
        },
        "9248f92538cd43ee94a773dcef5d0b42": {
          "model_module": "@jupyter-widgets/controls",
          "model_module_version": "1.5.0",
          "model_name": "DescriptionStyleModel",
          "state": {
            "_model_module": "@jupyter-widgets/controls",
            "_model_module_version": "1.5.0",
            "_model_name": "DescriptionStyleModel",
            "_view_count": null,
            "_view_module": "@jupyter-widgets/base",
            "_view_module_version": "1.2.0",
            "_view_name": "StyleView",
            "description_width": ""
          }
        },
        "9efbd91e8f534e7b99a0638d45f19551": {
          "model_module": "@jupyter-widgets/controls",
          "model_module_version": "1.5.0",
          "model_name": "HTMLModel",
          "state": {
            "_dom_classes": [],
            "_model_module": "@jupyter-widgets/controls",
            "_model_module_version": "1.5.0",
            "_model_name": "HTMLModel",
            "_view_count": null,
            "_view_module": "@jupyter-widgets/controls",
            "_view_module_version": "1.5.0",
            "_view_name": "HTMLView",
            "description": "",
            "description_tooltip": null,
            "layout": "IPY_MODEL_7ec7d7e858b84ef9888c19ae0b97e458",
            "placeholder": "​",
            "style": "IPY_MODEL_de142fd8c4ba4b9b922257d043c0c457",
            "value": " 206950/206950 [00:04&lt;00:00, 49675.80it/s]"
          }
        },
        "a9dfe7303e754cf5b580108bd12ce3e0": {
          "model_module": "@jupyter-widgets/controls",
          "model_module_version": "1.5.0",
          "model_name": "DescriptionStyleModel",
          "state": {
            "_model_module": "@jupyter-widgets/controls",
            "_model_module_version": "1.5.0",
            "_model_name": "DescriptionStyleModel",
            "_view_count": null,
            "_view_module": "@jupyter-widgets/base",
            "_view_module_version": "1.2.0",
            "_view_name": "StyleView",
            "description_width": ""
          }
        },
        "b07793c6a34e42f78510a50101ccf86d": {
          "model_module": "@jupyter-widgets/base",
          "model_module_version": "1.2.0",
          "model_name": "LayoutModel",
          "state": {
            "_model_module": "@jupyter-widgets/base",
            "_model_module_version": "1.2.0",
            "_model_name": "LayoutModel",
            "_view_count": null,
            "_view_module": "@jupyter-widgets/base",
            "_view_module_version": "1.2.0",
            "_view_name": "LayoutView",
            "align_content": null,
            "align_items": null,
            "align_self": null,
            "border": null,
            "bottom": null,
            "display": null,
            "flex": null,
            "flex_flow": null,
            "grid_area": null,
            "grid_auto_columns": null,
            "grid_auto_flow": null,
            "grid_auto_rows": null,
            "grid_column": null,
            "grid_gap": null,
            "grid_row": null,
            "grid_template_areas": null,
            "grid_template_columns": null,
            "grid_template_rows": null,
            "height": null,
            "justify_content": null,
            "justify_items": null,
            "left": null,
            "margin": null,
            "max_height": null,
            "max_width": null,
            "min_height": null,
            "min_width": null,
            "object_fit": null,
            "object_position": null,
            "order": null,
            "overflow": null,
            "overflow_x": null,
            "overflow_y": null,
            "padding": null,
            "right": null,
            "top": null,
            "visibility": null,
            "width": null
          }
        },
        "cce5951fa7954dc09add701d50842780": {
          "model_module": "@jupyter-widgets/base",
          "model_module_version": "1.2.0",
          "model_name": "LayoutModel",
          "state": {
            "_model_module": "@jupyter-widgets/base",
            "_model_module_version": "1.2.0",
            "_model_name": "LayoutModel",
            "_view_count": null,
            "_view_module": "@jupyter-widgets/base",
            "_view_module_version": "1.2.0",
            "_view_name": "LayoutView",
            "align_content": null,
            "align_items": null,
            "align_self": null,
            "border": null,
            "bottom": null,
            "display": null,
            "flex": null,
            "flex_flow": null,
            "grid_area": null,
            "grid_auto_columns": null,
            "grid_auto_flow": null,
            "grid_auto_rows": null,
            "grid_column": null,
            "grid_gap": null,
            "grid_row": null,
            "grid_template_areas": null,
            "grid_template_columns": null,
            "grid_template_rows": null,
            "height": null,
            "justify_content": null,
            "justify_items": null,
            "left": null,
            "margin": null,
            "max_height": null,
            "max_width": null,
            "min_height": null,
            "min_width": null,
            "object_fit": null,
            "object_position": null,
            "order": null,
            "overflow": null,
            "overflow_x": null,
            "overflow_y": null,
            "padding": null,
            "right": null,
            "top": null,
            "visibility": null,
            "width": null
          }
        },
        "de142fd8c4ba4b9b922257d043c0c457": {
          "model_module": "@jupyter-widgets/controls",
          "model_module_version": "1.5.0",
          "model_name": "DescriptionStyleModel",
          "state": {
            "_model_module": "@jupyter-widgets/controls",
            "_model_module_version": "1.5.0",
            "_model_name": "DescriptionStyleModel",
            "_view_count": null,
            "_view_module": "@jupyter-widgets/base",
            "_view_module_version": "1.2.0",
            "_view_name": "StyleView",
            "description_width": ""
          }
        },
        "e67552f75b354f11b2beb0a4542ed5bc": {
          "model_module": "@jupyter-widgets/controls",
          "model_module_version": "1.5.0",
          "model_name": "DescriptionStyleModel",
          "state": {
            "_model_module": "@jupyter-widgets/controls",
            "_model_module_version": "1.5.0",
            "_model_name": "DescriptionStyleModel",
            "_view_count": null,
            "_view_module": "@jupyter-widgets/base",
            "_view_module_version": "1.2.0",
            "_view_name": "StyleView",
            "description_width": ""
          }
        },
        "e7652605d4fb4bd39e27138460d46cb4": {
          "model_module": "@jupyter-widgets/base",
          "model_module_version": "1.2.0",
          "model_name": "LayoutModel",
          "state": {
            "_model_module": "@jupyter-widgets/base",
            "_model_module_version": "1.2.0",
            "_model_name": "LayoutModel",
            "_view_count": null,
            "_view_module": "@jupyter-widgets/base",
            "_view_module_version": "1.2.0",
            "_view_name": "LayoutView",
            "align_content": null,
            "align_items": null,
            "align_self": null,
            "border": null,
            "bottom": null,
            "display": null,
            "flex": null,
            "flex_flow": null,
            "grid_area": null,
            "grid_auto_columns": null,
            "grid_auto_flow": null,
            "grid_auto_rows": null,
            "grid_column": null,
            "grid_gap": null,
            "grid_row": null,
            "grid_template_areas": null,
            "grid_template_columns": null,
            "grid_template_rows": null,
            "height": null,
            "justify_content": null,
            "justify_items": null,
            "left": null,
            "margin": null,
            "max_height": null,
            "max_width": null,
            "min_height": null,
            "min_width": null,
            "object_fit": null,
            "object_position": null,
            "order": null,
            "overflow": null,
            "overflow_x": null,
            "overflow_y": null,
            "padding": null,
            "right": null,
            "top": null,
            "visibility": null,
            "width": null
          }
        },
        "eb8826494d2d4439ab08f0986ad5094d": {
          "model_module": "@jupyter-widgets/controls",
          "model_module_version": "1.5.0",
          "model_name": "ProgressStyleModel",
          "state": {
            "_model_module": "@jupyter-widgets/controls",
            "_model_module_version": "1.5.0",
            "_model_name": "ProgressStyleModel",
            "_view_count": null,
            "_view_module": "@jupyter-widgets/base",
            "_view_module_version": "1.2.0",
            "_view_name": "StyleView",
            "bar_color": null,
            "description_width": ""
          }
        },
        "f263ce8de0d141869804ed836f869b4a": {
          "model_module": "@jupyter-widgets/controls",
          "model_module_version": "1.5.0",
          "model_name": "HTMLModel",
          "state": {
            "_dom_classes": [],
            "_model_module": "@jupyter-widgets/controls",
            "_model_module_version": "1.5.0",
            "_model_name": "HTMLModel",
            "_view_count": null,
            "_view_module": "@jupyter-widgets/controls",
            "_view_module_version": "1.5.0",
            "_view_name": "HTMLView",
            "description": "",
            "description_tooltip": null,
            "layout": "IPY_MODEL_b07793c6a34e42f78510a50101ccf86d",
            "placeholder": "​",
            "style": "IPY_MODEL_a9dfe7303e754cf5b580108bd12ce3e0",
            "value": "100%"
          }
        },
        "fab539c0e4644341b4ea170620fb98d9": {
          "model_module": "@jupyter-widgets/controls",
          "model_module_version": "1.5.0",
          "model_name": "FloatProgressModel",
          "state": {
            "_dom_classes": [],
            "_model_module": "@jupyter-widgets/controls",
            "_model_module_version": "1.5.0",
            "_model_name": "FloatProgressModel",
            "_view_count": null,
            "_view_module": "@jupyter-widgets/controls",
            "_view_module_version": "1.5.0",
            "_view_name": "ProgressView",
            "bar_style": "",
            "description": "",
            "description_tooltip": null,
            "layout": "IPY_MODEL_e7652605d4fb4bd39e27138460d46cb4",
            "max": 201414,
            "min": 0,
            "orientation": "horizontal",
            "style": "IPY_MODEL_eb8826494d2d4439ab08f0986ad5094d",
            "value": 104
          }
        }
      }
    }
  },
  "nbformat": 4,
  "nbformat_minor": 0
}

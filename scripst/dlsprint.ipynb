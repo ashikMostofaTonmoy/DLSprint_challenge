{
  "nbformat": 4,
  "nbformat_minor": 0,
  "metadata": {
    "colab": {
      "name": "dlsprint.ipynb",
      "provenance": [],
      "collapsed_sections": []
    },
    "kernelspec": {
      "name": "python3",
      "display_name": "Python 3"
    },
    "language_info": {
      "name": "python"
    },
    "widgets": {
      "application/vnd.jupyter.widget-state+json": {
        "8e543921912f4a999518aa63f79c7c9c": {
          "model_module": "@jupyter-widgets/controls",
          "model_name": "HBoxModel",
          "model_module_version": "1.5.0",
          "state": {
            "_dom_classes": [],
            "_model_module": "@jupyter-widgets/controls",
            "_model_module_version": "1.5.0",
            "_model_name": "HBoxModel",
            "_view_count": null,
            "_view_module": "@jupyter-widgets/controls",
            "_view_module_version": "1.5.0",
            "_view_name": "HBoxView",
            "box_style": "",
            "children": [
              "IPY_MODEL_f263ce8de0d141869804ed836f869b4a",
              "IPY_MODEL_8382767c4e624d4c805ef643d13d253a",
              "IPY_MODEL_9efbd91e8f534e7b99a0638d45f19551"
            ],
            "layout": "IPY_MODEL_5046699736ca4289a053ca6774ba82ca"
          }
        },
        "f263ce8de0d141869804ed836f869b4a": {
          "model_module": "@jupyter-widgets/controls",
          "model_name": "HTMLModel",
          "model_module_version": "1.5.0",
          "state": {
            "_dom_classes": [],
            "_model_module": "@jupyter-widgets/controls",
            "_model_module_version": "1.5.0",
            "_model_name": "HTMLModel",
            "_view_count": null,
            "_view_module": "@jupyter-widgets/controls",
            "_view_module_version": "1.5.0",
            "_view_name": "HTMLView",
            "description": "",
            "description_tooltip": null,
            "layout": "IPY_MODEL_b07793c6a34e42f78510a50101ccf86d",
            "placeholder": "​",
            "style": "IPY_MODEL_a9dfe7303e754cf5b580108bd12ce3e0",
            "value": "100%"
          }
        },
        "8382767c4e624d4c805ef643d13d253a": {
          "model_module": "@jupyter-widgets/controls",
          "model_name": "FloatProgressModel",
          "model_module_version": "1.5.0",
          "state": {
            "_dom_classes": [],
            "_model_module": "@jupyter-widgets/controls",
            "_model_module_version": "1.5.0",
            "_model_name": "FloatProgressModel",
            "_view_count": null,
            "_view_module": "@jupyter-widgets/controls",
            "_view_module_version": "1.5.0",
            "_view_name": "ProgressView",
            "bar_style": "success",
            "description": "",
            "description_tooltip": null,
            "layout": "IPY_MODEL_69efcd58d59d4c6aa5d86747a676afd7",
            "max": 206950,
            "min": 0,
            "orientation": "horizontal",
            "style": "IPY_MODEL_740643ce65cd47c9987d3aec3fad84b5",
            "value": 206950
          }
        },
        "9efbd91e8f534e7b99a0638d45f19551": {
          "model_module": "@jupyter-widgets/controls",
          "model_name": "HTMLModel",
          "model_module_version": "1.5.0",
          "state": {
            "_dom_classes": [],
            "_model_module": "@jupyter-widgets/controls",
            "_model_module_version": "1.5.0",
            "_model_name": "HTMLModel",
            "_view_count": null,
            "_view_module": "@jupyter-widgets/controls",
            "_view_module_version": "1.5.0",
            "_view_name": "HTMLView",
            "description": "",
            "description_tooltip": null,
            "layout": "IPY_MODEL_7ec7d7e858b84ef9888c19ae0b97e458",
            "placeholder": "​",
            "style": "IPY_MODEL_de142fd8c4ba4b9b922257d043c0c457",
            "value": " 206950/206950 [00:04&lt;00:00, 49675.80it/s]"
          }
        },
        "5046699736ca4289a053ca6774ba82ca": {
          "model_module": "@jupyter-widgets/base",
          "model_name": "LayoutModel",
          "model_module_version": "1.2.0",
          "state": {
            "_model_module": "@jupyter-widgets/base",
            "_model_module_version": "1.2.0",
            "_model_name": "LayoutModel",
            "_view_count": null,
            "_view_module": "@jupyter-widgets/base",
            "_view_module_version": "1.2.0",
            "_view_name": "LayoutView",
            "align_content": null,
            "align_items": null,
            "align_self": null,
            "border": null,
            "bottom": null,
            "display": null,
            "flex": null,
            "flex_flow": null,
            "grid_area": null,
            "grid_auto_columns": null,
            "grid_auto_flow": null,
            "grid_auto_rows": null,
            "grid_column": null,
            "grid_gap": null,
            "grid_row": null,
            "grid_template_areas": null,
            "grid_template_columns": null,
            "grid_template_rows": null,
            "height": null,
            "justify_content": null,
            "justify_items": null,
            "left": null,
            "margin": null,
            "max_height": null,
            "max_width": null,
            "min_height": null,
            "min_width": null,
            "object_fit": null,
            "object_position": null,
            "order": null,
            "overflow": null,
            "overflow_x": null,
            "overflow_y": null,
            "padding": null,
            "right": null,
            "top": null,
            "visibility": null,
            "width": null
          }
        },
        "b07793c6a34e42f78510a50101ccf86d": {
          "model_module": "@jupyter-widgets/base",
          "model_name": "LayoutModel",
          "model_module_version": "1.2.0",
          "state": {
            "_model_module": "@jupyter-widgets/base",
            "_model_module_version": "1.2.0",
            "_model_name": "LayoutModel",
            "_view_count": null,
            "_view_module": "@jupyter-widgets/base",
            "_view_module_version": "1.2.0",
            "_view_name": "LayoutView",
            "align_content": null,
            "align_items": null,
            "align_self": null,
            "border": null,
            "bottom": null,
            "display": null,
            "flex": null,
            "flex_flow": null,
            "grid_area": null,
            "grid_auto_columns": null,
            "grid_auto_flow": null,
            "grid_auto_rows": null,
            "grid_column": null,
            "grid_gap": null,
            "grid_row": null,
            "grid_template_areas": null,
            "grid_template_columns": null,
            "grid_template_rows": null,
            "height": null,
            "justify_content": null,
            "justify_items": null,
            "left": null,
            "margin": null,
            "max_height": null,
            "max_width": null,
            "min_height": null,
            "min_width": null,
            "object_fit": null,
            "object_position": null,
            "order": null,
            "overflow": null,
            "overflow_x": null,
            "overflow_y": null,
            "padding": null,
            "right": null,
            "top": null,
            "visibility": null,
            "width": null
          }
        },
        "a9dfe7303e754cf5b580108bd12ce3e0": {
          "model_module": "@jupyter-widgets/controls",
          "model_name": "DescriptionStyleModel",
          "model_module_version": "1.5.0",
          "state": {
            "_model_module": "@jupyter-widgets/controls",
            "_model_module_version": "1.5.0",
            "_model_name": "DescriptionStyleModel",
            "_view_count": null,
            "_view_module": "@jupyter-widgets/base",
            "_view_module_version": "1.2.0",
            "_view_name": "StyleView",
            "description_width": ""
          }
        },
        "69efcd58d59d4c6aa5d86747a676afd7": {
          "model_module": "@jupyter-widgets/base",
          "model_name": "LayoutModel",
          "model_module_version": "1.2.0",
          "state": {
            "_model_module": "@jupyter-widgets/base",
            "_model_module_version": "1.2.0",
            "_model_name": "LayoutModel",
            "_view_count": null,
            "_view_module": "@jupyter-widgets/base",
            "_view_module_version": "1.2.0",
            "_view_name": "LayoutView",
            "align_content": null,
            "align_items": null,
            "align_self": null,
            "border": null,
            "bottom": null,
            "display": null,
            "flex": null,
            "flex_flow": null,
            "grid_area": null,
            "grid_auto_columns": null,
            "grid_auto_flow": null,
            "grid_auto_rows": null,
            "grid_column": null,
            "grid_gap": null,
            "grid_row": null,
            "grid_template_areas": null,
            "grid_template_columns": null,
            "grid_template_rows": null,
            "height": null,
            "justify_content": null,
            "justify_items": null,
            "left": null,
            "margin": null,
            "max_height": null,
            "max_width": null,
            "min_height": null,
            "min_width": null,
            "object_fit": null,
            "object_position": null,
            "order": null,
            "overflow": null,
            "overflow_x": null,
            "overflow_y": null,
            "padding": null,
            "right": null,
            "top": null,
            "visibility": null,
            "width": null
          }
        },
        "740643ce65cd47c9987d3aec3fad84b5": {
          "model_module": "@jupyter-widgets/controls",
          "model_name": "ProgressStyleModel",
          "model_module_version": "1.5.0",
          "state": {
            "_model_module": "@jupyter-widgets/controls",
            "_model_module_version": "1.5.0",
            "_model_name": "ProgressStyleModel",
            "_view_count": null,
            "_view_module": "@jupyter-widgets/base",
            "_view_module_version": "1.2.0",
            "_view_name": "StyleView",
            "bar_color": null,
            "description_width": ""
          }
        },
        "7ec7d7e858b84ef9888c19ae0b97e458": {
          "model_module": "@jupyter-widgets/base",
          "model_name": "LayoutModel",
          "model_module_version": "1.2.0",
          "state": {
            "_model_module": "@jupyter-widgets/base",
            "_model_module_version": "1.2.0",
            "_model_name": "LayoutModel",
            "_view_count": null,
            "_view_module": "@jupyter-widgets/base",
            "_view_module_version": "1.2.0",
            "_view_name": "LayoutView",
            "align_content": null,
            "align_items": null,
            "align_self": null,
            "border": null,
            "bottom": null,
            "display": null,
            "flex": null,
            "flex_flow": null,
            "grid_area": null,
            "grid_auto_columns": null,
            "grid_auto_flow": null,
            "grid_auto_rows": null,
            "grid_column": null,
            "grid_gap": null,
            "grid_row": null,
            "grid_template_areas": null,
            "grid_template_columns": null,
            "grid_template_rows": null,
            "height": null,
            "justify_content": null,
            "justify_items": null,
            "left": null,
            "margin": null,
            "max_height": null,
            "max_width": null,
            "min_height": null,
            "min_width": null,
            "object_fit": null,
            "object_position": null,
            "order": null,
            "overflow": null,
            "overflow_x": null,
            "overflow_y": null,
            "padding": null,
            "right": null,
            "top": null,
            "visibility": null,
            "width": null
          }
        },
        "de142fd8c4ba4b9b922257d043c0c457": {
          "model_module": "@jupyter-widgets/controls",
          "model_name": "DescriptionStyleModel",
          "model_module_version": "1.5.0",
          "state": {
            "_model_module": "@jupyter-widgets/controls",
            "_model_module_version": "1.5.0",
            "_model_name": "DescriptionStyleModel",
            "_view_count": null,
            "_view_module": "@jupyter-widgets/base",
            "_view_module_version": "1.2.0",
            "_view_name": "StyleView",
            "description_width": ""
          }
        },
        "169d1a296d17409e8e4dab1c98404cb4": {
          "model_module": "@jupyter-widgets/controls",
          "model_name": "HBoxModel",
          "model_module_version": "1.5.0",
          "state": {
            "_dom_classes": [],
            "_model_module": "@jupyter-widgets/controls",
            "_model_module_version": "1.5.0",
            "_model_name": "HBoxModel",
            "_view_count": null,
            "_view_module": "@jupyter-widgets/controls",
            "_view_module_version": "1.5.0",
            "_view_name": "HBoxView",
            "box_style": "",
            "children": [
              "IPY_MODEL_7eb7a69dd8ad46a4ab729a821e802c24",
              "IPY_MODEL_fab539c0e4644341b4ea170620fb98d9",
              "IPY_MODEL_44ed9806041344b6ba7a270dd0e4b132"
            ],
            "layout": "IPY_MODEL_48e6779632144167981c19cdd7b739e1"
          }
        },
        "7eb7a69dd8ad46a4ab729a821e802c24": {
          "model_module": "@jupyter-widgets/controls",
          "model_name": "HTMLModel",
          "model_module_version": "1.5.0",
          "state": {
            "_dom_classes": [],
            "_model_module": "@jupyter-widgets/controls",
            "_model_module_version": "1.5.0",
            "_model_name": "HTMLModel",
            "_view_count": null,
            "_view_module": "@jupyter-widgets/controls",
            "_view_module_version": "1.5.0",
            "_view_name": "HTMLView",
            "description": "",
            "description_tooltip": null,
            "layout": "IPY_MODEL_14a5d2087f9348b3a4f9faa5f62c97bf",
            "placeholder": "​",
            "style": "IPY_MODEL_e67552f75b354f11b2beb0a4542ed5bc",
            "value": "  0%"
          }
        },
        "fab539c0e4644341b4ea170620fb98d9": {
          "model_module": "@jupyter-widgets/controls",
          "model_name": "FloatProgressModel",
          "model_module_version": "1.5.0",
          "state": {
            "_dom_classes": [],
            "_model_module": "@jupyter-widgets/controls",
            "_model_module_version": "1.5.0",
            "_model_name": "FloatProgressModel",
            "_view_count": null,
            "_view_module": "@jupyter-widgets/controls",
            "_view_module_version": "1.5.0",
            "_view_name": "ProgressView",
            "bar_style": "",
            "description": "",
            "description_tooltip": null,
            "layout": "IPY_MODEL_e7652605d4fb4bd39e27138460d46cb4",
            "max": 201414,
            "min": 0,
            "orientation": "horizontal",
            "style": "IPY_MODEL_eb8826494d2d4439ab08f0986ad5094d",
            "value": 104
          }
        },
        "44ed9806041344b6ba7a270dd0e4b132": {
          "model_module": "@jupyter-widgets/controls",
          "model_name": "HTMLModel",
          "model_module_version": "1.5.0",
          "state": {
            "_dom_classes": [],
            "_model_module": "@jupyter-widgets/controls",
            "_model_module_version": "1.5.0",
            "_model_name": "HTMLModel",
            "_view_count": null,
            "_view_module": "@jupyter-widgets/controls",
            "_view_module_version": "1.5.0",
            "_view_name": "HTMLView",
            "description": "",
            "description_tooltip": null,
            "layout": "IPY_MODEL_cce5951fa7954dc09add701d50842780",
            "placeholder": "​",
            "style": "IPY_MODEL_9248f92538cd43ee94a773dcef5d0b42",
            "value": " 104/201414 [00:15&lt;8:24:27,  6.65it/s]"
          }
        },
        "48e6779632144167981c19cdd7b739e1": {
          "model_module": "@jupyter-widgets/base",
          "model_name": "LayoutModel",
          "model_module_version": "1.2.0",
          "state": {
            "_model_module": "@jupyter-widgets/base",
            "_model_module_version": "1.2.0",
            "_model_name": "LayoutModel",
            "_view_count": null,
            "_view_module": "@jupyter-widgets/base",
            "_view_module_version": "1.2.0",
            "_view_name": "LayoutView",
            "align_content": null,
            "align_items": null,
            "align_self": null,
            "border": null,
            "bottom": null,
            "display": null,
            "flex": null,
            "flex_flow": null,
            "grid_area": null,
            "grid_auto_columns": null,
            "grid_auto_flow": null,
            "grid_auto_rows": null,
            "grid_column": null,
            "grid_gap": null,
            "grid_row": null,
            "grid_template_areas": null,
            "grid_template_columns": null,
            "grid_template_rows": null,
            "height": null,
            "justify_content": null,
            "justify_items": null,
            "left": null,
            "margin": null,
            "max_height": null,
            "max_width": null,
            "min_height": null,
            "min_width": null,
            "object_fit": null,
            "object_position": null,
            "order": null,
            "overflow": null,
            "overflow_x": null,
            "overflow_y": null,
            "padding": null,
            "right": null,
            "top": null,
            "visibility": null,
            "width": null
          }
        },
        "14a5d2087f9348b3a4f9faa5f62c97bf": {
          "model_module": "@jupyter-widgets/base",
          "model_name": "LayoutModel",
          "model_module_version": "1.2.0",
          "state": {
            "_model_module": "@jupyter-widgets/base",
            "_model_module_version": "1.2.0",
            "_model_name": "LayoutModel",
            "_view_count": null,
            "_view_module": "@jupyter-widgets/base",
            "_view_module_version": "1.2.0",
            "_view_name": "LayoutView",
            "align_content": null,
            "align_items": null,
            "align_self": null,
            "border": null,
            "bottom": null,
            "display": null,
            "flex": null,
            "flex_flow": null,
            "grid_area": null,
            "grid_auto_columns": null,
            "grid_auto_flow": null,
            "grid_auto_rows": null,
            "grid_column": null,
            "grid_gap": null,
            "grid_row": null,
            "grid_template_areas": null,
            "grid_template_columns": null,
            "grid_template_rows": null,
            "height": null,
            "justify_content": null,
            "justify_items": null,
            "left": null,
            "margin": null,
            "max_height": null,
            "max_width": null,
            "min_height": null,
            "min_width": null,
            "object_fit": null,
            "object_position": null,
            "order": null,
            "overflow": null,
            "overflow_x": null,
            "overflow_y": null,
            "padding": null,
            "right": null,
            "top": null,
            "visibility": null,
            "width": null
          }
        },
        "e67552f75b354f11b2beb0a4542ed5bc": {
          "model_module": "@jupyter-widgets/controls",
          "model_name": "DescriptionStyleModel",
          "model_module_version": "1.5.0",
          "state": {
            "_model_module": "@jupyter-widgets/controls",
            "_model_module_version": "1.5.0",
            "_model_name": "DescriptionStyleModel",
            "_view_count": null,
            "_view_module": "@jupyter-widgets/base",
            "_view_module_version": "1.2.0",
            "_view_name": "StyleView",
            "description_width": ""
          }
        },
        "e7652605d4fb4bd39e27138460d46cb4": {
          "model_module": "@jupyter-widgets/base",
          "model_name": "LayoutModel",
          "model_module_version": "1.2.0",
          "state": {
            "_model_module": "@jupyter-widgets/base",
            "_model_module_version": "1.2.0",
            "_model_name": "LayoutModel",
            "_view_count": null,
            "_view_module": "@jupyter-widgets/base",
            "_view_module_version": "1.2.0",
            "_view_name": "LayoutView",
            "align_content": null,
            "align_items": null,
            "align_self": null,
            "border": null,
            "bottom": null,
            "display": null,
            "flex": null,
            "flex_flow": null,
            "grid_area": null,
            "grid_auto_columns": null,
            "grid_auto_flow": null,
            "grid_auto_rows": null,
            "grid_column": null,
            "grid_gap": null,
            "grid_row": null,
            "grid_template_areas": null,
            "grid_template_columns": null,
            "grid_template_rows": null,
            "height": null,
            "justify_content": null,
            "justify_items": null,
            "left": null,
            "margin": null,
            "max_height": null,
            "max_width": null,
            "min_height": null,
            "min_width": null,
            "object_fit": null,
            "object_position": null,
            "order": null,
            "overflow": null,
            "overflow_x": null,
            "overflow_y": null,
            "padding": null,
            "right": null,
            "top": null,
            "visibility": null,
            "width": null
          }
        },
        "eb8826494d2d4439ab08f0986ad5094d": {
          "model_module": "@jupyter-widgets/controls",
          "model_name": "ProgressStyleModel",
          "model_module_version": "1.5.0",
          "state": {
            "_model_module": "@jupyter-widgets/controls",
            "_model_module_version": "1.5.0",
            "_model_name": "ProgressStyleModel",
            "_view_count": null,
            "_view_module": "@jupyter-widgets/base",
            "_view_module_version": "1.2.0",
            "_view_name": "StyleView",
            "bar_color": null,
            "description_width": ""
          }
        },
        "cce5951fa7954dc09add701d50842780": {
          "model_module": "@jupyter-widgets/base",
          "model_name": "LayoutModel",
          "model_module_version": "1.2.0",
          "state": {
            "_model_module": "@jupyter-widgets/base",
            "_model_module_version": "1.2.0",
            "_model_name": "LayoutModel",
            "_view_count": null,
            "_view_module": "@jupyter-widgets/base",
            "_view_module_version": "1.2.0",
            "_view_name": "LayoutView",
            "align_content": null,
            "align_items": null,
            "align_self": null,
            "border": null,
            "bottom": null,
            "display": null,
            "flex": null,
            "flex_flow": null,
            "grid_area": null,
            "grid_auto_columns": null,
            "grid_auto_flow": null,
            "grid_auto_rows": null,
            "grid_column": null,
            "grid_gap": null,
            "grid_row": null,
            "grid_template_areas": null,
            "grid_template_columns": null,
            "grid_template_rows": null,
            "height": null,
            "justify_content": null,
            "justify_items": null,
            "left": null,
            "margin": null,
            "max_height": null,
            "max_width": null,
            "min_height": null,
            "min_width": null,
            "object_fit": null,
            "object_position": null,
            "order": null,
            "overflow": null,
            "overflow_x": null,
            "overflow_y": null,
            "padding": null,
            "right": null,
            "top": null,
            "visibility": null,
            "width": null
          }
        },
        "9248f92538cd43ee94a773dcef5d0b42": {
          "model_module": "@jupyter-widgets/controls",
          "model_name": "DescriptionStyleModel",
          "model_module_version": "1.5.0",
          "state": {
            "_model_module": "@jupyter-widgets/controls",
            "_model_module_version": "1.5.0",
            "_model_name": "DescriptionStyleModel",
            "_view_count": null,
            "_view_module": "@jupyter-widgets/base",
            "_view_module_version": "1.2.0",
            "_view_name": "StyleView",
            "description_width": ""
          }
        }
      }
    }
  },
  "cells": [
    {
      "cell_type": "code",
      "source": [
        "from google.colab import drive\n",
        "drive.mount('/content/gdrive')\n",
        "# drive.mount(\"/content/gdrive\", force_remount=True)"
      ],
      "metadata": {
        "colab": {
          "base_uri": "https://localhost:8080/"
        },
        "id": "Ksa837N43D3S",
        "outputId": "826f5b77-0d60-4505-b534-1447447ced2e"
      },
      "execution_count": null,
      "outputs": [
        {
          "output_type": "stream",
          "name": "stdout",
          "text": [
            "Mounted at /content/gdrive\n"
          ]
        }
      ]
    },
    {
      "cell_type": "code",
      "source": [
        "# !pip install kaggle"
      ],
      "metadata": {
        "id": "QwSY0Gn_3dNz"
      },
      "execution_count": null,
      "outputs": []
    },
    {
      "cell_type": "code",
      "source": [
        "# root_path = '/content/gdrive/MyDrive/kaggleProject'  #change dir to your project folder"
      ],
      "metadata": {
        "id": "PW5gM1iQ4CFB"
      },
      "execution_count": null,
      "outputs": []
    },
    {
      "cell_type": "code",
      "source": [
        "# from google.colab import files\n",
        "# files.upload()"
      ],
      "metadata": {
        "id": "eMzSBTI-4i_8"
      },
      "execution_count": null,
      "outputs": []
    },
    {
      "cell_type": "code",
      "source": [
        "!pwd"
      ],
      "metadata": {
        "colab": {
          "base_uri": "https://localhost:8080/"
        },
        "id": "dcrW1m2p6ozB",
        "outputId": "6fb34986-b27a-4628-fe0f-ca65a8647031"
      },
      "execution_count": null,
      "outputs": [
        {
          "output_type": "stream",
          "name": "stdout",
          "text": [
            "/content\n"
          ]
        }
      ]
    },
    {
      "cell_type": "code",
      "source": [
        "!mkdir -p ~/.kaggle\n",
        "# !cp kaggle.json ~/.kaggle/\n",
        "!cp /content/gdrive/MyDrive/kaggleProject/kaggle.json ~/.kaggle/ # for use on tonmoy's gdrive\n",
        "!ls ~/.kaggle\n",
        "!chmod 600 /root/.kaggle/kaggle.json "
      ],
      "metadata": {
        "colab": {
          "base_uri": "https://localhost:8080/"
        },
        "id": "8p0nk0cX6rr6",
        "outputId": "8b30b14b-8e0f-49ed-e72f-4710632c845f"
      },
      "execution_count": null,
      "outputs": [
        {
          "output_type": "stream",
          "name": "stdout",
          "text": [
            "kaggle.json\n"
          ]
        }
      ]
    },
    {
      "cell_type": "code",
      "source": [
        "# !cp kaggle-tonmoy.json /content/gdrive/MyDrive/kaggleProject"
      ],
      "metadata": {
        "id": "hLPcyD9Q5SE6"
      },
      "execution_count": null,
      "outputs": []
    },
    {
      "cell_type": "code",
      "execution_count": null,
      "metadata": {
        "colab": {
          "base_uri": "https://localhost:8080/"
        },
        "id": "ZEr-C08411uN",
        "outputId": "c71ffdf9-1776-4b25-c037-f6689d89691d"
      },
      "outputs": [
        {
          "output_type": "stream",
          "name": "stdout",
          "text": [
            "Downloading dlsprint.zip to /content\n",
            "100% 7.42G/7.43G [00:55<00:00, 199MB/s]\n",
            "100% 7.43G/7.43G [00:55<00:00, 143MB/s]\n"
          ]
        }
      ],
      "source": [
        "!kaggle competitions download -c dlsprint\n",
        "# !kaggle competitions download -c dlsprint -p /content/gdrive/MyDrive/kaggleProject/dlsprint"
      ]
    },
    {
      "cell_type": "code",
      "source": [
        "# import os\n",
        "# os.chdir('gdrive/My Drive/kaggle/dlsprint')  #change dir\n",
        "# !mkdir train  #create a directory named train/\n",
        "# !mkdir test  #create a directory named test/\n",
        "# !unzip -q train.zip -d train/  #unzip data in train/\n",
        "# !unzip -q test.zip -d test/  #unzip data in test/\n",
        "# !unzip sample_submission.csv.zip\n",
        "# !unzip train_labels.csv.zip"
      ],
      "metadata": {
        "id": "nrVGUBRC9yTH"
      },
      "execution_count": null,
      "outputs": []
    },
    {
      "cell_type": "code",
      "source": [
        "import zipfile\n",
        "extract_path = '/content/input/dlsprint'\n",
        "with zipfile.ZipFile('/content/dlsprint.zip', 'r') as zip_ref:\n",
        "    zip_ref.extractall(extract_path)"
      ],
      "metadata": {
        "id": "TLBMXdJR8NZB"
      },
      "execution_count": null,
      "outputs": []
    },
    {
      "cell_type": "code",
      "source": [
        "import unicodedata\n",
        "text=\"বায়ান্ন\"\n",
        "new_text = unicodedata.normalize(\"NFKC\", text)\n",
        "print(\"text:\",text)\n",
        "print(\"new text:\",new_text)\n",
        "print(\"are they same?:\",text==new_text)"
      ],
      "metadata": {
        "id": "vq-fblSLGMSc"
      },
      "execution_count": null,
      "outputs": []
    },
    {
      "cell_type": "code",
      "source": [
        "print(\"first one:\",[f for f in 'কেন্দ্রীয়'])\n",
        "print(\"second one:\",[f for f in 'কেন্দ্রীয়'])"
      ],
      "metadata": {
        "id": "e9q1vBBKGOf1"
      },
      "execution_count": null,
      "outputs": []
    },
    {
      "cell_type": "code",
      "source": [
        "print(\"first one:\",[f for f in text])\n",
        "print(\"second one:\",[f for f in new_text])"
      ],
      "metadata": {
        "id": "zq856OM6GZIl"
      },
      "execution_count": null,
      "outputs": []
    },
    {
      "cell_type": "markdown",
      "source": [
        "## Importhing Necessary Libraries for EDA"
      ],
      "metadata": {
        "id": "CzQz9TI9eYhG"
      }
    },
    {
      "cell_type": "code",
      "source": [
        "import os\n",
        "\n",
        "import numpy as np\n",
        "import pandas as pd\n",
        "\n",
        "import librosa\n",
        "import librosa.display\n",
        "\n",
        "import IPython.display as ipd # for displaying the play audio buttom\n",
        "\n",
        "import warnings\n",
        "warnings.filterwarnings('ignore')"
      ],
      "metadata": {
        "id": "MvzH6HpheXH-",
        "colab": {
          "base_uri": "https://localhost:8080/"
        },
        "outputId": "904022ce-b716-45dc-8356-7454040e485b"
      },
      "execution_count": null,
      "outputs": [
        {
          "output_type": "stream",
          "name": "stderr",
          "text": [
            "/usr/local/lib/python3.7/dist-packages/resampy/interpn.py:114: NumbaWarning: The TBB threading layer requires TBB version 2019.5 or later i.e., TBB_INTERFACE_VERSION >= 11005. Found TBB_INTERFACE_VERSION = 9107. The TBB threading layer is disabled.\n",
            "  _resample_loop_p(x, t_out, interp_win, interp_delta, num_table, scale, y)\n"
          ]
        }
      ]
    },
    {
      "cell_type": "markdown",
      "source": [
        "## Reading the .csv files"
      ],
      "metadata": {
        "id": "PUjcoWGlegkA"
      }
    },
    {
      "cell_type": "code",
      "source": [
        "extract_path = '/content/input/dlsprint'\n",
        "os.path.join(extract_path,)\n",
        "train_df = pd.read_csv(os.path.join(extract_path,'train.csv'))\n",
        "val_df = pd.read_csv(os.path.join(extract_path,'validation.csv'))\n",
        "sample_submissin_df = pd.read_csv(os.path.join(extract_path,'sample_submission.csv'))"
      ],
      "metadata": {
        "id": "ryKJit0Qej3N"
      },
      "execution_count": null,
      "outputs": []
    },
    {
      "cell_type": "markdown",
      "source": [
        "## Take a look at the .csv files"
      ],
      "metadata": {
        "id": "1Sl6tX_Ef7I1"
      }
    },
    {
      "cell_type": "code",
      "source": [
        "train_df.head(n = 3)"
      ],
      "metadata": {
        "id": "0INF36i5f5vt",
        "colab": {
          "base_uri": "https://localhost:8080/",
          "height": 450
        },
        "outputId": "940a699f-ac71-45d4-c404-a3515b72d07e"
      },
      "execution_count": null,
      "outputs": [
        {
          "output_type": "execute_result",
          "data": {
            "text/plain": [
              "                                           client_id  \\\n",
              "0  6c274d3678353b62f5d3465c771e4a8c5cd917186a5323...   \n",
              "1  3991c2cfe1be64e77f2f6bdaeaae601219af906c1295cd...   \n",
              "2  3991c2cfe1be64e77f2f6bdaeaae601219af906c1295cd...   \n",
              "\n",
              "                           path  \\\n",
              "0  common_voice_bn_30991326.mp3   \n",
              "1  common_voice_bn_30991371.mp3   \n",
              "2  common_voice_bn_30991410.mp3   \n",
              "\n",
              "                                            sentence  up_votes  down_votes  \\\n",
              "0                                   বাবা সত্যেন ঘোষ।       1.0         1.0   \n",
              "1  দেওয়ান ফরিদ গাজী বাংলাদেশ আওয়ামী লীগের উপদেষ...       1.0         0.0   \n",
              "2  এর মাধ্যমে কারও গান গাওয়া দক্ষতা বা নিজস্ব ধর...       0.0         0.0   \n",
              "\n",
              "   age gender accents locale  \n",
              "0  NaN    NaN     NaN     bn  \n",
              "1  NaN    NaN     NaN     bn  \n",
              "2  NaN    NaN     NaN     bn  "
            ],
            "text/html": [
              "\n",
              "  <div id=\"df-45e933ad-500d-4d83-b037-1329d97fd1d3\">\n",
              "    <div class=\"colab-df-container\">\n",
              "      <div>\n",
              "<style scoped>\n",
              "    .dataframe tbody tr th:only-of-type {\n",
              "        vertical-align: middle;\n",
              "    }\n",
              "\n",
              "    .dataframe tbody tr th {\n",
              "        vertical-align: top;\n",
              "    }\n",
              "\n",
              "    .dataframe thead th {\n",
              "        text-align: right;\n",
              "    }\n",
              "</style>\n",
              "<table border=\"1\" class=\"dataframe\">\n",
              "  <thead>\n",
              "    <tr style=\"text-align: right;\">\n",
              "      <th></th>\n",
              "      <th>client_id</th>\n",
              "      <th>path</th>\n",
              "      <th>sentence</th>\n",
              "      <th>up_votes</th>\n",
              "      <th>down_votes</th>\n",
              "      <th>age</th>\n",
              "      <th>gender</th>\n",
              "      <th>accents</th>\n",
              "      <th>locale</th>\n",
              "    </tr>\n",
              "  </thead>\n",
              "  <tbody>\n",
              "    <tr>\n",
              "      <th>0</th>\n",
              "      <td>6c274d3678353b62f5d3465c771e4a8c5cd917186a5323...</td>\n",
              "      <td>common_voice_bn_30991326.mp3</td>\n",
              "      <td>বাবা সত্যেন ঘোষ।</td>\n",
              "      <td>1.0</td>\n",
              "      <td>1.0</td>\n",
              "      <td>NaN</td>\n",
              "      <td>NaN</td>\n",
              "      <td>NaN</td>\n",
              "      <td>bn</td>\n",
              "    </tr>\n",
              "    <tr>\n",
              "      <th>1</th>\n",
              "      <td>3991c2cfe1be64e77f2f6bdaeaae601219af906c1295cd...</td>\n",
              "      <td>common_voice_bn_30991371.mp3</td>\n",
              "      <td>দেওয়ান ফরিদ গাজী বাংলাদেশ আওয়ামী লীগের উপদেষ...</td>\n",
              "      <td>1.0</td>\n",
              "      <td>0.0</td>\n",
              "      <td>NaN</td>\n",
              "      <td>NaN</td>\n",
              "      <td>NaN</td>\n",
              "      <td>bn</td>\n",
              "    </tr>\n",
              "    <tr>\n",
              "      <th>2</th>\n",
              "      <td>3991c2cfe1be64e77f2f6bdaeaae601219af906c1295cd...</td>\n",
              "      <td>common_voice_bn_30991410.mp3</td>\n",
              "      <td>এর মাধ্যমে কারও গান গাওয়া দক্ষতা বা নিজস্ব ধর...</td>\n",
              "      <td>0.0</td>\n",
              "      <td>0.0</td>\n",
              "      <td>NaN</td>\n",
              "      <td>NaN</td>\n",
              "      <td>NaN</td>\n",
              "      <td>bn</td>\n",
              "    </tr>\n",
              "  </tbody>\n",
              "</table>\n",
              "</div>\n",
              "      <button class=\"colab-df-convert\" onclick=\"convertToInteractive('df-45e933ad-500d-4d83-b037-1329d97fd1d3')\"\n",
              "              title=\"Convert this dataframe to an interactive table.\"\n",
              "              style=\"display:none;\">\n",
              "        \n",
              "  <svg xmlns=\"http://www.w3.org/2000/svg\" height=\"24px\"viewBox=\"0 0 24 24\"\n",
              "       width=\"24px\">\n",
              "    <path d=\"M0 0h24v24H0V0z\" fill=\"none\"/>\n",
              "    <path d=\"M18.56 5.44l.94 2.06.94-2.06 2.06-.94-2.06-.94-.94-2.06-.94 2.06-2.06.94zm-11 1L8.5 8.5l.94-2.06 2.06-.94-2.06-.94L8.5 2.5l-.94 2.06-2.06.94zm10 10l.94 2.06.94-2.06 2.06-.94-2.06-.94-.94-2.06-.94 2.06-2.06.94z\"/><path d=\"M17.41 7.96l-1.37-1.37c-.4-.4-.92-.59-1.43-.59-.52 0-1.04.2-1.43.59L10.3 9.45l-7.72 7.72c-.78.78-.78 2.05 0 2.83L4 21.41c.39.39.9.59 1.41.59.51 0 1.02-.2 1.41-.59l7.78-7.78 2.81-2.81c.8-.78.8-2.07 0-2.86zM5.41 20L4 18.59l7.72-7.72 1.47 1.35L5.41 20z\"/>\n",
              "  </svg>\n",
              "      </button>\n",
              "      \n",
              "  <style>\n",
              "    .colab-df-container {\n",
              "      display:flex;\n",
              "      flex-wrap:wrap;\n",
              "      gap: 12px;\n",
              "    }\n",
              "\n",
              "    .colab-df-convert {\n",
              "      background-color: #E8F0FE;\n",
              "      border: none;\n",
              "      border-radius: 50%;\n",
              "      cursor: pointer;\n",
              "      display: none;\n",
              "      fill: #1967D2;\n",
              "      height: 32px;\n",
              "      padding: 0 0 0 0;\n",
              "      width: 32px;\n",
              "    }\n",
              "\n",
              "    .colab-df-convert:hover {\n",
              "      background-color: #E2EBFA;\n",
              "      box-shadow: 0px 1px 2px rgba(60, 64, 67, 0.3), 0px 1px 3px 1px rgba(60, 64, 67, 0.15);\n",
              "      fill: #174EA6;\n",
              "    }\n",
              "\n",
              "    [theme=dark] .colab-df-convert {\n",
              "      background-color: #3B4455;\n",
              "      fill: #D2E3FC;\n",
              "    }\n",
              "\n",
              "    [theme=dark] .colab-df-convert:hover {\n",
              "      background-color: #434B5C;\n",
              "      box-shadow: 0px 1px 3px 1px rgba(0, 0, 0, 0.15);\n",
              "      filter: drop-shadow(0px 1px 2px rgba(0, 0, 0, 0.3));\n",
              "      fill: #FFFFFF;\n",
              "    }\n",
              "  </style>\n",
              "\n",
              "      <script>\n",
              "        const buttonEl =\n",
              "          document.querySelector('#df-45e933ad-500d-4d83-b037-1329d97fd1d3 button.colab-df-convert');\n",
              "        buttonEl.style.display =\n",
              "          google.colab.kernel.accessAllowed ? 'block' : 'none';\n",
              "\n",
              "        async function convertToInteractive(key) {\n",
              "          const element = document.querySelector('#df-45e933ad-500d-4d83-b037-1329d97fd1d3');\n",
              "          const dataTable =\n",
              "            await google.colab.kernel.invokeFunction('convertToInteractive',\n",
              "                                                     [key], {});\n",
              "          if (!dataTable) return;\n",
              "\n",
              "          const docLinkHtml = 'Like what you see? Visit the ' +\n",
              "            '<a target=\"_blank\" href=https://colab.research.google.com/notebooks/data_table.ipynb>data table notebook</a>'\n",
              "            + ' to learn more about interactive tables.';\n",
              "          element.innerHTML = '';\n",
              "          dataTable['output_type'] = 'display_data';\n",
              "          await google.colab.output.renderOutput(dataTable, element);\n",
              "          const docLink = document.createElement('div');\n",
              "          docLink.innerHTML = docLinkHtml;\n",
              "          element.appendChild(docLink);\n",
              "        }\n",
              "      </script>\n",
              "    </div>\n",
              "  </div>\n",
              "  "
            ]
          },
          "metadata": {},
          "execution_count": 8
        }
      ]
    },
    {
      "cell_type": "code",
      "source": [
        "train_df.info()"
      ],
      "metadata": {
        "id": "BdULt1ZhgJru",
        "colab": {
          "base_uri": "https://localhost:8080/"
        },
        "outputId": "31aeba5b-d11c-4d3f-8f8a-2b22a1752d6a"
      },
      "execution_count": null,
      "outputs": [
        {
          "output_type": "stream",
          "name": "stdout",
          "text": [
            "<class 'pandas.core.frame.DataFrame'>\n",
            "RangeIndex: 206950 entries, 0 to 206949\n",
            "Data columns (total 9 columns):\n",
            " #   Column      Non-Null Count   Dtype  \n",
            "---  ------      --------------   -----  \n",
            " 0   client_id   206950 non-null  object \n",
            " 1   path        206950 non-null  object \n",
            " 2   sentence    206950 non-null  object \n",
            " 3   up_votes    206950 non-null  float64\n",
            " 4   down_votes  206950 non-null  float64\n",
            " 5   age         60309 non-null   object \n",
            " 6   gender      61196 non-null   object \n",
            " 7   accents     11088 non-null   object \n",
            " 8   locale      206950 non-null  object \n",
            "dtypes: float64(2), object(7)\n",
            "memory usage: 14.2+ MB\n"
          ]
        }
      ]
    },
    {
      "cell_type": "code",
      "source": [
        "train_df.isna().sum()"
      ],
      "metadata": {
        "id": "GPdWWzOKgKKg",
        "colab": {
          "base_uri": "https://localhost:8080/"
        },
        "outputId": "36988de7-7ac2-4f9a-8471-a28d614cbe40"
      },
      "execution_count": null,
      "outputs": [
        {
          "output_type": "execute_result",
          "data": {
            "text/plain": [
              "client_id          0\n",
              "path               0\n",
              "sentence           0\n",
              "up_votes           0\n",
              "down_votes         0\n",
              "age           146641\n",
              "gender        145754\n",
              "accents       195862\n",
              "locale             0\n",
              "dtype: int64"
            ]
          },
          "metadata": {},
          "execution_count": 10
        }
      ]
    },
    {
      "cell_type": "code",
      "source": [
        "train_df['down_votes'].unique()"
      ],
      "metadata": {
        "id": "DJtccubMghBT",
        "colab": {
          "base_uri": "https://localhost:8080/"
        },
        "outputId": "93853d78-e459-4828-c6f6-0f8747c0e883"
      },
      "execution_count": null,
      "outputs": [
        {
          "output_type": "execute_result",
          "data": {
            "text/plain": [
              "array([ 1.,  0.,  5.,  2.,  3.,  6.,  4.,  7., 14., 10.,  9., 13., 16.,\n",
              "        8., 21., 17., 12., 11., 22., 24., 30., 18., 48., 20.])"
            ]
          },
          "metadata": {},
          "execution_count": 11
        }
      ]
    },
    {
      "cell_type": "code",
      "source": [
        "train_df['up_votes'].unique()"
      ],
      "metadata": {
        "id": "zXbnHCcYgjA0",
        "colab": {
          "base_uri": "https://localhost:8080/"
        },
        "outputId": "d4657844-827f-4ac1-e0c8-a10498c280c0"
      },
      "execution_count": null,
      "outputs": [
        {
          "output_type": "execute_result",
          "data": {
            "text/plain": [
              "array([  1.,   0.,   6.,   2.,   4.,   3.,  16.,   7.,   8.,   5.,  14.,\n",
              "        11.,  15.,  10.,  12.,  13.,  17.,   9.,  18.,  20.,  30.,  26.,\n",
              "        24.,  22.,  32.,  28.,  29.,  21.,  53.,  34.,  23.,  38.,  35.,\n",
              "        19.,  36.,  27.,  40.,  25.,  37.,  31.,  45.,  39.,  50.,  33.,\n",
              "        47.,  42.,  46.,  66.,  59.,  78.,  56.,  44., 108.,  88.,  55.,\n",
              "        43.,  41.,  60.,  92., 124.,  51.,  54.,  52.,  48.,  68.,  62.,\n",
              "       106.,  58.,  80.,  74.,  70.,  84.,  94.])"
            ]
          },
          "metadata": {},
          "execution_count": 12
        }
      ]
    },
    {
      "cell_type": "markdown",
      "source": [
        "Higher the upvotes more accurate the text labels\n",
        "\n",
        "Samples with higher number of downvote than upper are considered as incorrect."
      ],
      "metadata": {
        "id": "sZAcmLTBgtMa"
      }
    },
    {
      "cell_type": "markdown",
      "source": [
        "## Let't check how label them"
      ],
      "metadata": {
        "id": "0P-gaGEVgzRe"
      }
    },
    {
      "cell_type": "code",
      "source": [
        "train_df['locale'].unique()"
      ],
      "metadata": {
        "id": "razoPw1LgvpN",
        "colab": {
          "base_uri": "https://localhost:8080/"
        },
        "outputId": "a8b43073-82dc-4a60-ff3e-6c3a73a22e76"
      },
      "execution_count": null,
      "outputs": [
        {
          "output_type": "execute_result",
          "data": {
            "text/plain": [
              "array(['bn'], dtype=object)"
            ]
          },
          "metadata": {},
          "execution_count": 13
        }
      ]
    },
    {
      "cell_type": "markdown",
      "source": [
        "So all the audio files are labled by native bengalies"
      ],
      "metadata": {
        "id": "zHzZTa3fhE5w"
      }
    },
    {
      "cell_type": "markdown",
      "source": [
        "*Columns named 'age', 'gender', 'accents', 'locale' would be removed as they didn't carry important information for the project.*"
      ],
      "metadata": {
        "id": "SQXPG4tuhH7Q"
      }
    },
    {
      "cell_type": "code",
      "source": [
        "train_df = train_df.drop(['age', 'gender', 'accents', 'locale'],axis = 1)\n",
        "val_df = val_df.drop(['age', 'gender', 'accents', 'locale'],axis = 1)"
      ],
      "metadata": {
        "id": "nuEICkAFhLHY"
      },
      "execution_count": null,
      "outputs": []
    },
    {
      "cell_type": "code",
      "source": [
        "# librosa.load() takes the path and returns a numpy array and the sample rate of the audio.\n",
        "# extract_path = '/content/input/dlsprint'\n",
        "AUDIO_PATH = extract_path+'/train_files/common_voice_bn_30614352.mp3'\n",
        "audio, sr = librosa.load(AUDIO_PATH)\n",
        "\n",
        "print('Shape of the audio: ', audio.shape)\n",
        "print('Sample rate of the audio: ', sr)\n",
        "ipd.display(ipd.Audio(data=audio, rate=sr))\n",
        "print('Audio Label :',train_df[train_df['path'] == os.path.split(AUDIO_PATH)[1]].sentence)"
      ],
      "metadata": {
        "id": "KVSw3Tqvj4ky",
        "colab": {
          "base_uri": "https://localhost:8080/",
          "height": 110
        },
        "outputId": "e62b7cce-ca5d-4328-f925-8db1b37a9ee0"
      },
      "execution_count": null,
      "outputs": [
        {
          "output_type": "stream",
          "name": "stdout",
          "text": [
            "Shape of the audio:  (107163,)\n",
            "Sample rate of the audio:  22050\n"
          ]
        },
        {
          "output_type": "display_data",
          "data": {
            "text/plain": [
              "<IPython.lib.display.Audio object>"
            ],
            "text/html": [
              "\n",
              "                <audio controls=\"controls\" >\n",
              "                    <source src=\"data:audio/wav;base64,UklGRlpFAwBXQVZFZm10IBAAAAABAAEAIlYAAESsAAACABAAZGF0YTZFAwAAAAAAAAAAAAAAAAAAAAAAAAAAAAAAAAAAAAAAAAAAAAAAAAAAAAAAAAAAAAAAAAAAAAAAAAAAAAAAAAAAAAAAAAAAAAAAAAAAAAAAAAAAAAAAAAAAAAAAAAAAAAAAAAAAAAAAAAAAAAAAAAAAAAAAAAAAAAAAAAAAAAAAAAAAAAAAAAAAAAAAAAAAAAAAAAAAAAAAAAAAAAAAAAAAAAAAAAAAAAAAAAAAAAAAAAAAAAAAAAAAAAAAAAAAAAAAAAAAAAAAAAAAAAAAAAAAAAAAAAAAAAAAAAAAAAAAAAAAAAAAAAAAAAAAAAAAAAAAAAAAAAAAAAAAAAAAAAAAAAAAAAAAAAAAAAAAAAAAAAAAAAAAAAAAAAAAAAAAAAAAAAAAAAAAAAAAAAAAAAAAAAAAAAAAAAAAAAAAAAAAAAAAAAAAAAAAAAAAAAAAAAAAAAAAAAAAAAAAAAAAAAAAAAAAAAAAAAAAAAAAAAAAAAAAAAAAAAAAAAAAAAAAAAAAAAAAAAAAAAAAAAAAAAAAAAAAAAAAAAAAAAAAAAAAAAAAAAAAAAAAAAAAAAAAAAAAAAAAAAAAAAAAAAAAAAAAAAAAAAAAAAAAAAAAAAAAAAAAAAAAAAAAAAAAAAAAAAAAAAAAAAAAAAAAAAAAAAAAAAAAAAAAAAAAAAAAAAAAAAAAAAAAAAAAAAAAAAAAAAAAAAAAAAAAAAAAAAAAAAAAAAAAAAAAAAAAAAAAAAAAAAAAAAAAAAAAAAAAAAAAAAAAAAAAAAAAAAAAAAAAAAAAAAAAAAAAAAAAAAAAAAAAAAAAAAAAAAAAAAAAAAAAAAAAAAAAAAAAAAAAAAAAAAAAAAAAAAAAAAAAAAAAAAAAAAAAAAAAAAAAAAAAAAAAAAAAAAAAAAAAAAAAAAAAAAAAAAAAAAAAAAAAAAAAAAAAAAAAAAAAAAAAAAAAAAAAAAAAAAAAAAAAAAAAAAAAAAAAAAAAAAAAAAAAAAAAAAAAAAAAAAAAAAAAAAAAAAAAAAAAAAAAAAAAAAAAAAAAAAAAAAAAAAAAAAAAAAAAAAAAAAAAAAAAAAAAAAAAAAAAAAAAAAAAAAAAAAAAAAAAAAAAAAAAAAAAAAAAAAAAAAAAAAAAAAAAAAAAAAAAAAAAAAAAAAAAAAAAAAAAAAAAAAAAAAAAAAAAAAAAAAAAAAAAAAAAAAAAAAAAAAAAAAAAAAAAAAAAAAAAAAAAAAAAAAAAAAAAAAAAAAAAAAAAAAAAAAAAAAAAAAAAAAAAAAAAAAAAAAAAAAAAAAAAAAAAAAAAAAAAAAAAAAAAAAAAAAAAAAAAAAAAAAAAAAAAAAAAAAAAAAAAAAAAAAAAAAAAAAAAAAAAAAAAAAAAAAAAAAAAAAAAAAAAAAAAAAAAAAAAAAAAAAAAAAAAAAAAAAAAAAAAAAAAAAAAAAAAAAAAAAAAAAAAAAAAAAAAAAAAAAAAAAAAAAAAAAAAAAAAAAAAAAAAAAAAAAAAAAAAAAAAAAAAAAAAAAAAAAAAAAAAAAAAAAAAAAAAAAAAAAAAAAAAAAAAAAAAAAAAAAAAAAAAAAAAAAAAAAAAAAAAAAAAAAAAAAAAAAAAAAAAAAAAAAAAAAAAAAAAAAAAAAAAAAAAAAAAAAAAAAAAAAAAAAAAAAAAAAAAAAAAAAAAAAAAAAAAAAAAAAAAAAAAAAAAAAAAAAAAAAAAAAAAAAAAAAAAAAAAAAAAAAAAAAAAAAAAAAAAAAAAAAAAAAAAAAAAAAAAAAAAAAAAAAAAAAAAAAAAAAAAAAAAAAAAAAAAAAAAAAAAAAAAAAAAAAAAAAAAAAAAAAAAAAAAAAAAAAAAAAAAAAAAAAAAAAAAAAAAAAAAAAAAAAAAAAAAAAAAAAAAAAAAAAAAAAAAAAAAAAAAAAAAAAAAAAAAAAAAAAAAAAAAAAAAAAAAAAAAAAAAAAAAAAAAAAAAAAAAAAAAAAAAAAAAAAAAAAAAAAAAAAAAAAAAAAAAAAAAAAAAAAAAAAAAAAAAAAAAAAAAAAAAAAAAAAAAAAAAAAAAAAAAAAAAAAAAAAAAAAAAAAAAAAAAAAAAAAAAAAAAAAAAAAAAAAAAAAAAAAAAAAAAAAAAAAAAAAAAAAAAAAAAAAAAAAAAAAAAAAAAAAAAAAAAAAAAAAAAAAAAAAAAAAAAAAAAAAAAAAAAAAAAAAAAAAAAAAAAAAAAAAAAAAAAAAAAAAAAAAAAAAAAAAAAAAAAAAAAAAAAAAAAAAAAAAAAAAAAAAAAAAAAAAAAAAAAAAAAAAAAAAAAAAAAAAAAAAAAAAAAAAAAAAAAAAAAAAAAAAAAAAAAAAAAAAAAAAAAAAAAAAAAAAAAAAAAAAAAAAAAAAAAAAAAAAAAAAAAAAAAAAAAAAAAAAAAAAAAAAAAAAAAAAAAAAAAAAAAAAAAAAAAAAAAAAAAAAAAAAAAAAAAAAAAAAAAAAAAAAAAAAAAAAAAAAAAAAAAAAAAAAAAAAAAAAAAAAAAAAAAAAAAAAAAAAAAAAAAAAAAAAAAAAAAAAAAAAAAAAAAAAAAAAAAAAAAAAAAAAAAAAAAAAAAAAAAAAAAAAAAAAAAAAAAAAAAAAAAAAAAAAAAAAAAAAAAAAAAAAAAAAAAAAAAAAAAAAAAAAAAAAAAAAAAAAAAAAAAAAAAAAAAAAAAAAAAAAAAAAAAAAAAAAAAAAAAAAAAAAAAAAAAAAAAAAAAAAAAAAAAAAAAAAAAAAAAAAAAAAAAAAAAAAAAAAAAAAAAAAAAAAAAAAAAAAAAAAAAAAAAAAAAAAAAAAAAAAAAAAAAAAAAAAAAAAAAAAAAAAAAAAAAAAAAAAAAAAAAAAAAAAAAAAAAAAAAAAAAAAAAAAAAAAAAAAAAAAAAAAAAAAAAAAAAAAAAAAAAAAAAAAAAAAAAAAAAAAAAAAAAAAAAAAAAAAAAAAAAAAAAAAAAAAAAAAAAAAAAAAAAAAAAAAAAAAAAAAAAAAAAAAAAAAAAAAAAAAAAAAAAAAAAAAAAAAAAAAAAAAAAAAAAAAAAAAAAAAAAAAAAAAAAAAAAAAAAAAAAAAAAAAAAAAAAAAAAAAAAAAAAAAAAAAAAAAAAAAAAAAAAAAAAAAAAAAAAAAAAAAAAAAAAAAAAAAAAAAAAAAAAAAAAAAAAAAAAAAAAAAAAAAAAAAAAAAAAAAAAAAAAAAAAAAAAAAAAAAAAAAAAAAAAAAAAAAAAAAAAAAAAAAAAAAAAAAAAAAAAAAAAAAAAAAAAAAAAAAAAAAAAAAAAAAAAAAAAAAAAAAAAAAAAAAAAAAAAAAAAAAAAAAAAAAAAAAAAAAAAAAAAAAAAAAAAAAAAAAAAAAAAAAAAAAAAAAAAAAAAAAAAAAAAAAAAAAAAAAAAAAAAAAAAAAAAAAAAAAAAAAAAAAAAAAAAAAAAAAAAAAAAAAAAAAAAAAAAAAAAAAAAAAAAAAAAAAAAAAAAAAAAAAAAAAAAAAAAAAAAAAAAAAAAAAAAAAAAAAAAAAAAAAAAAAAAAAAAAAAAAAAAAAAAAAAAAAAAAAAAAAAAAAAAAAAAAAAAAAAAAAAAAAAAAAAAAAAAAAAAAAAAAAAAAAAAAAAAAAAAAAAAAAAAAAAAAAAAAAAAAAAAAAAAAAAAAAAAAAAAAAAAAAAAAAAAAAAAAAAAAAAAAAAAAAAAAAAAAAAAAAAAAAAAAAAAAAAAAAAAAAAAAAAAAAAAAAAAAAAAAAAAAAAAAAAAAAAAAAAAAAAAAAAAAAAAAAAAAAAAAAAAAAAAAAAAAAAAAAAAAAAAAAAAAAAAAAAAAAAAAAAAAAAAAAAAAAAAAAAAAAAAAAAAAAAAAAAAAAAAAAAAAAAAAAAAAAAAAAAAAAAAAAAAAAAAAAAAAAAAAAAAAAAAAAAAAAAAAAAAAAAAAAAAAAAAAAAAAAAAAAAAAAAAAP//AAAAAAAAAAAAAAAAAAAAAAAAAAAAAAAAAAAAAAAAAAAAAAAAAAAAAAAAAAAAAAAAAAAAAAAAAAAAAAAAAAAAAAAAAAAAAAAAAAAAAAAAAAAAAAAAAAAAAAAAAAAAAAAAAAAAAAAAAAAAAAAAAAAAAAAAAAAAAAAAAAAAAAAAAAAAAAAAAAAAAAAAAAAAAAAAAAAAAAAAAAAAAAAAAAAAAAAAAAAAAAAAAAAAAAAAAAAAAAAAAAAAAAAAAAAAAAAAAAAAAAAAAAAAAAAAAAAAAAAAAAAAAAAAAAAAAAAAAAAAAAAAAAAAAAAAAAAAAAAAAAAAAAAAAAAAAAAAAAAAAAAAAAAAAAAAAAAAAAAAAAAAAAAAAAAAAAAAAAAAAAAAAAAAAAAAAAAAAAAAAAAAAAAAAAAAAAAAAAAAAAAAAAAAAAAAAAAAAAAAAAAAAAAAAAAAAAAAAAAAAAAAAAAAAAAAAAAAAAAAAAAAAAAAAAAAAAAAAAAAAAAAAAAAAAAAAAAAAAAAAAAAAAAAAAAAAAAAAAAAAAAAAAAAAAAAAAAAAAAAAAAAAAAAAAAAAAAAAAAAAAAAAAAAAAAAAAAAAAAAAAAAAAAAAAAAAAAAAAAAAAAAAAAAAAAAAAAAAAAAAAAAAAAAAAAAAAAAAAAAAAAAAAAAAAAAAAAAAAAAAAAAAAAAAAAAAAAAAAAAAAAAAAAAAAAAAAAAAAAAAAAAAAAAAAAAAAAAAAAAAAAAAAAAAAAAAAAAAAAAAAAAAAAAAAAAAAAAAAAAAAAAAAAAAAAAAAAAAAAAAAAAAAAAAAAAAAAAAAAAAAAAAAAAAAAAAAAAAAAAAAAAAAAAAAAAAAAAAAAAAAAAAAAAAAAAAAAAAAAAAAAAAAAAAAAAAAAAAAAAAAAAAAAAAAAAAAAAAAAAAAAAAAAAAAAAAAAAAAAAAAAAAAAAAAAAAAAAAAAAAAAAAAAAAAAAAAAAAAAAAP//AAAAAAAAAAAAAAAAAAABAAAAAAAAAAAAAAAAAAAAAAAAAAAAAAAAAAAAAAAAAAAAAAABAAAAAQAAAAAAAAAAAAAAAAAAAAAAAAAAAAAAAAAAAAAAAAAAAAAAAAAAAAAAAAAAAAAAAAAAAAAAAAD//wAAAAAAAAAA//8CAAEAAAAEAAUAAADt/+j/6v/r//T/+f8KABMAHQAeABsAHQAbACYAJgApACEAIgAYAAYAAQD1//b/9f8AAPv/+P8DAPn/AAAQAB0AKAApADEAOgA1ADoAPQAuACwAIQAOAAEA9//z/+z/7//7//7////8//D/5f/n//H/9v/8/wwACwAPAB0AFgAQAA0ACgADAAAA///3//b/9f/2//H/7v/q/+H/3v/Z/9P/zf/J/8T/wP++/8H/w//L/83/0P/d/+H/6v/m/+j/8P/x//X/9///////BQAJAA0AEwAQAA0ACAADAP3/8//r/+P/3v/j/+P/6P/v/+7/7v/0/wMABgAMABgAGgAhACEAHQAaABcAGwAXABcAGgAhACIAGgAYABIAEAAHAA0ADgAHAAsABgAJAAYABQABAP7/BQAFABQADwAVABoABwADAPv//v/3/wQACAD7/wIA////////AAAAAP//AAABAAAA//8BAAAAAAACAAMAAQAAAP//AAD//wAAAQAAAAAAAAAAAP//AAAAAAAAAAAAAAAAAAAAAAEAAAAAAAAAAAD///////8AAAAA///9//3//v///wAAAAAAAAAAAAAAAAEAAQABAAEAAAACAAIAAwACAAEABQACAAMAAgABAAIAAQAAAP//AAAAAAAAAAABAAAAAAD+/////f/+//7/CQAVAAwAFgAQABEAFwAYABwAGgAYABQAFQAPABMACwALAAkA9//7//T/7//z//L/8v/x//T/9P/z/+3/6//r/+v/6//2/wIABAAGAPz/+P/1//T/+v8DAAgABwAPAAsAAAD///n/9f/w//T/+f/s//H/6P/j/+j/5f/u/+7/8f/w//L/8v/r/+3/5P/p/+j/5f/p/9n/0//Q/9H/3v/m/+r/7P/3/wAABAASABUAGQAQAAEA/P/s/+j/3f/W/9H/yv/V/9n/2//d/+H/5f/r//L/+v8JABIAIAAkABoAFAAOAAcADQARAAQAAwD4//H//P8HAA4AFgAkACQAKAAoACIAHwAqACkALgAyACIAKgAnACEAHAAWABUAFAAVABgAHwAiACQAJAAoACcAHgAWAAYA/v/1//L/+v/6/wEABQACAAcACAAHAAYABwAKAA4AGwAgACcAJgAjACIAFgAJAPH/4//l/9z/3f/h/9b/2//Z/9b/3//l//D/9v/9/wEA//8EABAAHQAiACIAGwARABUACAD8//P/8P/w/+7/9v/0//n/AgAAAP3/+v/v/+7/9P/6//3/+/8DAAkACwANAA4ABgAMABEACwATABMADQARABUAEwAcAB4AIwAiAB0AGQAMAA0AAgAAAPf/5P/i/9f/1P/S/9v/4v/r//L/8//5//f/8//w/+v/5//o/+n/7P/z//7////+//7/+v/5//z/BwAGAAYABgAAAAEA/f8AAAAACAAXABkAHQAeABYACQD+//7/AgAGAA4ADAANAAoABgAPAAcADAANAAYACwAFAAIAAAD9//7///8FAAAA/v/6//D/6f/c/9P/yP/L/8z/xP/I/8P/xP/J/8n/z//Q/9v/3//d/+T/3v/b/97/6v/4//7/DAAFAAAAAwD+/wEAAgACAPv/9f/3//P/8//4//f/9f/z//f/+P/6/wIA//8EAAgABQAKAAQACAAMAA8ACgAOABgAFgAaABgAGQAgACsAKQAuADAAJgAqACQAJgApACkALAArACsAJgAiACEAGAAXABcAGwAhABgAIQAWABwAIQAVACUACAAGAAUA7v/8//H/8v/+//z/AAD+/wEABQAAAPz/9f/w/+n/5//p/+z/+f/4//7/BgAFAA4AEgAYACcALgA1ADkAMwAuACgAJQAmACEAHwAZABIADQACAAIAAAD7//7//f/+/wQAAAD//wMA9v/4//v/7//8////+/8GAAMAAQALAAsAEQAWAB0ALwAtADwAPwA1ACkAEwALAPr/9//z/+z/6P/i/+j/4f/m/+f/2v/Q/8f/v//C/8v/zP/N/8X/yf/a/93/6v/x/+n/7f/p/+T/3f/Z/9z/0P/j/+X/6P/5/+7/8v/n/+P/2v/W/9r/xP/I/87/wf/K/9D/zP/Y/93/5v/v//P/8//o/+T/4f/j//L//P8AAAMAAgAHAAcABwAKAAEAAwAHAAMACgAMAAkAEAAQABAAFAAVABwAIQAUABAAEgAIAAQA///9//7//v8DAAUAAwAAAAMAAAD9/wAA///9/wMADQASABsAHgAdAB0AIgAoACIAIAAXAAoACgALAAAAAAABAAIAEQAVABsAFwATAAUAAAD7/+7/8//r/+T/6P/p/+//9P/7//3/9f/3//P///8NABAAGQAVABgAGQAaABgADwAUABgAHwAiABwAGwAfAB8AJwAtADcAQQBBAEMAQgBGAEMAOAAtAB4ADwABAPn/8P/o/9n/1f/c/9//5//t//T/AAAGAA8AGAAZAB4AFwAQAA0ABgAGAAYAAwD9//j/8f/t/+r/6v/n/+n/9P/y/////v/9/wYAAAD//wAA+f/2//n/9//4//H/7P/s/+P/4//n/+7/9v/5//r/+//5//j//f/7//n/9P/n/+P/5P/j/+f/6//m/+//8f/p//L/7f/t//f/9P/4//j/9v/2//L/8//x//P/9//1//7//v/7//r/8//w/+n/6f/s//L/+f/6//b/8//v/+r/5v/k/+T/5v/o/+X/6f/l/+X/6P/i/9//2f/e/93/3f/e/9f/6P/u/+3/7//0//n/9f///wIAAgD7//j/7v/q//X/8f/2////AgADAA4ADwASABoAEwAjACcAKgA2ADoAPQA6ADsAOAA9AD4APgA8ADMAOAAsACcAIwAeACIAIgAkACMAIgAcABkAGgAYABgAIQAfACcAIwAoADYAIwAmACAAIAAnACgALwAnACQAHQAdAB0AIwAlACQAJgAcABgACQAIAAcABAABAP7/+v/v//L/7P/u/+3/7f/6/wIAFAAaAB0AIAAkACUAHwAdAB4AHwAjACUAHQAbABIADQAFAAEA/v/t/+n/5P/g/+D/2P/d/+X/4//u//T/9v8AAPv/7//y//D/6//r/+z/6//r//H/7v/v//f/9P/t/+j/5//e/9v/3f/c/+D/4//i/+f/5//f/+j/4//l/+r/5f/i/97/2v/b/9//0//R/8//0P/T/87/2P/i/+v/8/8AAAUABAALAAQABQD9//T/9f/q/+r/2//M/8f/wv/E/8D/wP/C/87/1P/i//X/9P8IAAoACwAKAP///f/q/+//7//v//f/+v8HAA0ADgAPAAsABwADAP///P/4//v/BwAaABYAGAAZABsAIwAbAB0AGgAVABAACQACAPb/+//1//z//v/6/wAA8v/3//P/6v/i/9X/0P/Q/9f/2f/e/+H/6f/y//X/9f/1//f/9P/5//j/CQAVAB0AKQAsADwAPgBLAEoASwBPAEgAUQBTAFkATQBLAE4APQAxAB4AEgASAAkA/v/w/+r/7v/s//L//v///wgADQAKAA0ADQAMAAoAEgASABAADQAIAAoABQAFAAMABQAEAAIACQAJAAEA+//6/wAA//8AAAYADAAXABoAGgAiACIAGwAWABEADAAIABQAEwAYABcAEgAUAAsADwALAA0ACAABAPj/8P/u/+T/4//j/+T/4//b/+D/3P/c/+L/z//O/9n/3v/u//P/9/8BAAIAEAAMAB0AJgAbAB4AFwAYAPz/AwABAPj/AgD5////9//8//3//f/3//f/9v/q//X/9v/y//P/6f/p/+P/2//e/9j/1P/b/+D/3//c/97/2v/V/9X/2//l/+b/9v/9/wAACgANABcAIwAsADIAMgAsAB8AFAAGAPP/7P/e/9b/3P/Y/97/3f/c/+H/3//p/+v/9/8AAP//CwAHAAQAAgDx/+v/8v/7/wIABgAGAAQAAgADAP3/9f/w/+3/7//u/+z/4v/i/+z/+/8CABEAHQAdAB4AEgASAAkADAANAAkAFwAPABMAFAASABMAEwAZABwAIwAeABwAFwAWAB8AGAAVABEAAQD9//z//P8AAAAA/v8FAAAA+f/s/+L/3f/Q/9T/1f/b/+H/7P/z/wAAFAAZAC4ANQA3AEEAQgA3AC4AKQAaACAAJQArAC4AIQAfAA8ADAAHAAYACAAAAAYAAwADAPr/+v/7/wAACgAIAAoA/f/1/+v/4P/d/+D/5v/k/+D/3v/f/+j/9f/8/wgAEAAXAB4AIgAnACYAJAAfABkAEgAWABEADgAXABEAEgAJAAAA+v/5//3/9P/z//L/7v/o/+D/2P/Z/9P/0v/R/8z/1f/V/+P/6f/k/+v/8P/5/////P8AAAQADQAaACQAJwAlAC0AKAApACsALQAsACMAJQAeAB8AFAAHAAwAAwD8//X/6v/r/+7/8//7//z/+v/0//L/7//p/+H/0f/D/7j/r/+t/7L/vv/E/8P/yv/U/93/5P/n/+z/6v/q//L/9P/3//b/+//9/wIABgAGABAAEwAXABkAHQAeACMAKwAuADcAQQBBAEMAQAA5ADMAKwAhABcAEgAFAP7/+//x//f///8BAAkACQAIAAYA+f/y/+n/5P/t/+z/8f/4//X/8v/t/+j/4//o/+j/9f/9/wEAEAAUABgAHAApADQAPABDAEkARwBHAEsARQBGAD4APwA6ADEAKQAgABcAAQD///3/+f/3/+3/5f/Z/87/xv/F/8L/xv/T/9X/2P/h/+T/5f/q/+v/6v/r/+n/6//z//X/+f/+/wIABgAAAP//CQAKAAoADAAKAAwAAgD8/wAAAwAHAAkADAALAAgAAQD7//T/6f/r/+v/4f/a/9b/2f/V/9D/0P/T/9b/1v/b/+f/8P/8/wMABgAHAAYAEgAQABAAEgAHAAYAAgD+//T/8P/2//D/8f/t/+z/9P/w/+7/8v/5/wEAAAAEAAYACwAAAO//8//h/9n/2//Z/+H/5//s/+//9P/1//v/+f/z//H/7//v/+7//v8BAAAA//8FAA0AEQAbABsAJQAnACUAJAAlACcAKQAxADcAOgA+AD8APQA6ADQAMAAtACkAJQAfABUADQAHAP3/8//w//D/6//t/+7/7f/n/97/2f/T/9n/4//q//H/+//8//7/AgD+//3/+//4//X/9f/2//j/+f/7/wEABQAIAAsADwAMABEAGQAaAB4AGwAfAB8ALQA5ADcAOgA1ADUAMQAtACwALgAqAB0AGAAPAAsAAwD2//X//f8CAP7/CAARAAkACQAAAPf/9P/x/+3/5f/k/+b/5//k/9v/1v/U/9P/2//g/+z/9//3//3/AgAAAP3//v8CAAMABgAQAAsABQAEAPj/9P/y/+7/7v/k/9//3v/a/9//4//n//b//v8EAA4ACwAMABAAEwAWABMAEgAXABIACwAXABgAFgAVAAoABQACAAQADgASABgAHAARABIAEQABAP//+f/v/+f/4//e/+D/6P/g/+r/7P/y//f/7f/p/+T/5v/f/+f/6P/h/+L/3//f/93/1f/M/9P/0//e/+f/5f/l/+T/9v/7/wQADgAQAAQACAAUAAAABwANABIAFwAWACAAIQAgAB0AIAAfABkAEQAPAA8ACQAEAAEAAAD5//P/6v/e/9f/1P/W/9r/3//h/9//4P/n/+3/8f/8////AAACAP7/AAD+//n/9v8AAAgACAANABAAEAARAA0ABwAIAAYAAgACAAcABwANABgAFwAbAB0AHwAeABoAHQAXAA8AEAAKAAQABwAHAAkACgAKAAoACQAMABEAFQATABQAFAAaACAAIQAmACMAHQAcACgALgAqADQAPAA+AEEARABGAEAAOwAvACoAKgAnACwALQAjABgADgD///L/5P/W/8//zf/U/9H/0P/U/9j/1v/Y/+D/3v/c/9j/2//W/9P/1v/b/9z/3v/o/+j/6f/p/+j/6P/n/+//+v8CAA0AFQAXABsAFQARABQAFAAYABoAGAASABUAEAAFAAMAAQD9//L/7P/k/+P/5f/g/+D/1f/Y/9//2v/m/+//7f/1//L/7//y/+v/8v/4//X/7v/n/+n/6v/r//X////8//3/AAD//////v/6//f/+v/4//f/8v/z//D/5P/m/9//2//j/+X/5P/o/+n/5v/h/+X/9P8AAAsAEAAVABAABQAJAAgA///4//H/5//d/+D/4v/c/9r/3P/g/+D/7v8DAAwAEQAeACwALwA5AEcARwA+AD8AOwAzADMANgA0AC8AMQA2ADYAMAA0ADMALAAqACgAKAAbABkAGgAQAAcAAwACAPT/7f/u/+7/7v/u/+3/6v/q/+v/7v/r//P/AgAEAAkAEQAYABIADwAXABoAIQAiACAAIQAnACYAKgAqACEAHgAUABIACgADAAIA+P/v/+j/6P/i/9r/1//U/9P/0//X/9f/0v/U/9b/z//U/9//3//a/9f/3f/Z/9T/1v/W/9X/1//m//D/9P/7//z/9//0//z/AQAAAP7/CAAQAA8AGQAhAB8AHAAdABsAEwAVABQADgAMAAgABwAJAAcABwAHAAgACgAIAAoADQAJAAUA//8AAAkACgAMABMAEQAKAAgACAAHAA0ADwAPAA4ACgAJAAsACQD///f/7//r/+j/5f/n/+L/5v/y//j/9P/5/wUABAADAAYACQAGAAMACQALAAYABwAKAAQAAQD///b/8//z//T/6v/i/+X/6P/o/+n/9v/4//X/AAAMAAgABAAKAA4ADwAPABAADQAMABQAGgAaAB0AKwAqABsAFAAYABIACwAQAAcA+P/w/+n/6f/t/+//9f/7//v/AwALABAAFwAUABMADwAKAAgABAABAAMABgAAAP7/AQACAP3/9v/2//T/7v/q//X/+P/u//P//v/+//7/CAAKAAMABwAMAAgABAAMAAoA/f/2//P/8P/v//D/9f/2//P/9v/8//v/+//+/wEABQANABEAEAARAAoA/v/3//P/8P/p/+b/5v/l/+X/7f/v/+b/6P/o/+r/7P/m/+j/6v/p//L/AAACAAcACgANABEAEwAbABYADwANAAwACwAFAAIAAQD///z///8AAAEAAgAAAAQABwAMABIAGQAqADMALwAsACcAIQAdABoAGgARAP3/8//p/9//5v/o/+n/7f/s//X//P/4/wQACwD+/wIACAAAAAAAAAD5//X/7//v/+//7v/y//X/+v/+//3/AAD8//f/8f/p/+3/9f/4//7/CgAWABsAGgAYABgAEQAQABAACwAHAP//+//6//n/+P/3//T/7v/l/+T/6//t//v/BQAEAAQABwAFAAIAAQD7//X/8f/5//j/7P/q/9//1P/T/9T/2v/j//D/8v/s/+v/9//6//f/BQAPABAAHAAoACYAIQAhACMAIgAfACIAIAAbAB0AIAAdABgAEwAKAAUAAAD8/wIA+//y//3//f/7/wIAAAD9//n/7//s/+7/8P/s//D/9P/5/wUACAAJAAsADwAXABgAHQAaABsAHwAfACcAJwAhABoAFAANAAYAAAD5//P/7//w/+n/5P/i/+D/2v/V/9P/yv/I/8//1P/R/9f/5P/j/9v/3//j/+D/6//5//7/AAARABsAGQAjACkAJAAdACAAHQAWABgAGAATABIAGAAeACAAIwAjAB8AGAAUABEADwAPAAsACQAIAAoAEwAOAAUAAAD3//P/8v/6/wUADwAWAB4AIAAaABcAFAAGAPb/9f/x/+v/8P/x/+n/4//s/+7/7f/1//7/AAD9/wAA///3//H/6//n/+n/6//n/97/3f/f/9b/2f/k/+j/7v/z//j/+f/4//f/7v/r/+v/7P/v//X/+//4//L/7f/r/+b/4//h/+H/5//t//b/BAAMAA4AFAAXABoAGQAXABQACwAJAAAA+f/7////AAAEABAAFgAYACEAJgAlACYAIQAVAAsAAwD//wAABwAOAA0ADgAUABUAEAAJAAUABAABAP3/+//6//v//v8FAAoAEgAZAB4AHQAbAB0AFwAVABAACwAIAAsAEgATABUAFQAVABAADwAMAAcABwABAAAABAABAP//AQAFAAQACgAWABAABgD///X/8P/t//H/8f/z//n/9f/y//T/9f/y//P/+P///wQABgD+//L/7//t/+b/5P/j/93/2P/Y/9j/2//k/+//+v8DAAgACgAKAAwACwASABsAIQAnACAAEgAAAPP/7f/q//D/9//9//3/AQAIAAkACQALAA0ADgANABEAFgAQAAsACAAFAAQABgANAAwADAAQAAoAAgAFAPz/7f/n/+P/5v/r//L/9v/4//7////7//X/9P/w/+v/5v/c/9P/0v/W/9f/1//W/9j/2f/f/+T/5P/q/+r/6f/p/+T/4v/k/+L/3//i/+X/6f/z//3/AAAHAAoABwAKAAcACAAOABAAEwAXABAACgAHAAEABAAIAA4AEgAPAAsADQAOAA0AFAAZABYAFAAXABIACgAKAAcA/f/6//z/BAANAA4AFAAaABoAHgAkACMAIgAlACEAHQAfABsAEgAUABMAEwAYABAADgARAAgABgALAAgABwAFAAMAAQADAAMA//////j/9v/4//H/9P////r//v8PABgAHAAeACMAIAAgAB4AGQAcABcADwATAA4AAgAAAPX/8P/z//L/9v/5//b/8f/u/+b/2v/V/9L/0P/a/97/2P/d/93/3v/h/+H/6//6//j/+v8EAAIABAAMAAsACQAHAAIABQAOABIAEwAXABQAEwAbABoAGQAeABYADgAMAAAA/P/5//f//f/7//n//v/9//j/+/8AAPz///8KAAUAAQAGAAEAAAAGAAQAAAD+//v///8AAPv/+f/0/+7/8P/z/+//8v/2//T//f8BAP//AQD6//H/8//y//H/+f/7//f//P8BAAIA///2//D/6//k/+f/7f/n/+3/8v/l/+X/6v/p/+r/5f/i/9//1v/S/9b/4v/s//X////3//b/+f/v//L/7//h/+f/5P/e/+3/8v/z//r/8//o/+v/9P/2/wAACwAHABQAGQATACYAIQAXACsAJAAiAC4AIgAiACMAFgAaAB4AFQAOAAwABAD8/wIA/v8AABQACwAMABQAAwAEAAIA9f/5/+//6v/1//D/8f/4//X/+P/+/wAAAQAJABUAHAAoACoAIQAdABcAFwAbABEADAAJAP3/AgAEAAEACwALAAkADgAHAAEA///6/wEABwAKAAsABgAHAAoADwAVABoAIwAgACEAJAAVAA8ABgD2//L/7P/q//j/AAALABgAEwAOAAcA///7//v/AAACAAUAAAD4//f/7f/n//D/8//7/wEA/P/z/+z/4P/U/83/0f/h//v/EQAjADQANgAvAC0AIgAbAB4AIwAkACAAHgAVAAsAAgD3//b/9v/4/wAA//8AAAgABQD///n/7//m/+v/9f/2//r/+//n/87/tv+p/7b/xf/R/+T/9f8AAA0AEQACAAEA/f/u//r//v/9/wcAAQD9/wAA8f/h/9z/1f/g//v/EQAbAB8ADwDz//D/6f/r/wIABgAVACQAEQAQAA4A+v/z/+v/5P/v//z/AQAEAAkAAAD2//L/5v/q//j/+/8NABEAAAD6//P/7v/0//n/AQALAA0ADQASABYAGgAkACkAJwAqACgAGwAVAA4ABgAGAAUAAgD///r/9v/y//T//P/+//7//v/9/wAA///4//b/6v/l/+7/9P/+/wUABgADAPz/9f/u//j/CwAYACQAJgAWAAgA9//g/93/3v/q/wMAEQAeACMAGwASAAYA+//y//b/AAAEAAYAAADy/+j/4//l//v/DwAQABIAFAADAPL/8f/x/wAAEgAVABkACwD4//L//P8OABwAJgAbAAwAAADg/9T/1//X/+r/+f8EABMADQADAP3/8P/x//3/DgAXAB0AJgAbABQAEQADAPj/8//z//b//f/1/+n/5P/Y/+b/AQARACAAGgADAPf/7//n/+L/4v/d/9P/0f/N/9D/1v/S/9X/3f/c//H/CgAQABgAEAD8//b/6v/Y/+D/+f8SADAAPAA3ACoADADx/+//AwAWADMAQAAtABwA/P/h/+P/4f/v/yAARgBWAFAAKgAAANb/uf+5/9P//P8ZADEAOQAhAAMA4f/L/8r/0f/p/w0AIgAgAA0A9//d/9T/3//r/xAAOwBAAEMAJADw/97/0//T/9r/4f/y/wAAGwAyAEUATwAnAPf/z/+6/9D/8P8PADgAQAA1ACQAAADj/9z/5/8AACAALwAUAP3/2//B/9H/3v/o/+//7//+/xcAKwAjAAEA0P+i/6b/wv/0/zQASABMADYABADt/9r/zf/W/+D/+f8PACEALQAoAD4AUABMAEYAGQDi/7//tv/f/wsAIQAuACIAAgDs//n/EgAdAC0AIAATABMA+v/n/9//2//q//f/CAAoAD0APQAxACEA9//M/8P/uP/I//z/KABAADMAEgD3/+n/8f/6/wkABgD6/wcACQAZACwAGQARAAIA3P/J/9D/4//6/xAAGAAVAAgA1/+y/7v/zP/7/ywAOgA0ABkAAgD3/9//1f/i/+f/6/8BAB8AMABFAFEAJgALAPH/wP+7/8D/6f85AHYAmwB2ABYAxP+d/6T/xP8EADUAQwBEAA4A0/+w/4j/kP+8/+z/KQBFADAABwDY/7X/yP8AAB0AKAAlABsAHgAPAAUABQD7//H/8v8FABUAMABGADIAHwABAOH/1//E/7r/2/8KADUARQAuAAQA0v+5/8b/5v/8//7/DwAPAAoAIgAhACMAKQAXAPT/0P/D/8D/3/8XAEQAWwA0AOz/ov9w/5r/+P9FAHwAewA+ANz/if9w/3r/tP/3/y0AXgBWADwAEADQ/7b/rP/C/+//DQAdABYAGAAPAAEABgANABkAEAASABsAAADn/8v/u//G/9D/7P/3//n/AQD5/wIADgARAPX/zf/Q/8T/2P8dAEIAUwBKADAAGgABAO//9f8MACYAMAAfAA4A/P/c/8r/9v80AEkAXgBYACkADQAAAPz/8v/a/8P/uv/E/+H/EQAwADMAIQAAAPP/6f/e/+T/8P/m/9L/3v/z/wAAAgD8/wMABwAAAAkAIgA2ADEAIQAZAAAA2v/G/+P/HQBOAIMAmwB2ACcAzv+m/7L/3P8PADIAOwAWAOX/1//o//3//f/t/+L/yf+m/6b/vv/c//v/FAAiABUA9//X/9L/3P/m//v/EgAsAC0AFQAGAAYAAQD+/y4AYABtAHoAYgA3AA4A6//x//P/4f/P/9L/9/8ZAD4AUgBOADAA3f+c/4P/cv+J/8L/BQAsADcAMQADAOf/1P/d/wIA///y/+D/1f/c/+n/FwA8AD8AIgAFAA4ADwARABwAHAAYAA4A/f/n/+r/6v/y/zUAZgBsAFIAFADh/7H/oP/T/xEALQAlABIA+//h/97/7P8GABkADwAWACYAFgDm/8v/xf/I//H/CwAdACQAEgAiADwATQBAAAQAsv9u/2v/jf/T/yQAOQAxAB8A9v/Q/8b/xP/G/+D/AAAYACcAEwDv/8z/u//I/9r/+v8qAFEATgAwAA4A5v/V/9X/+v8xAEoAWQA7ABQA7v/P/+3/AAAYADQAOABEACkACADm/7v/tf/B/+v/BgAFABIADQAIAAIA6//o/9//tP+j/7L/uP/R/+7///8iADAAMwAtAAEA4f/P/+H/HQBMAGMAWgBEAB0A+/8PABMACQABAN7/1f/V/9L/6f/5/wIABwD+/+7/3v/Y/+r/FQA5ADgAFwDf/5z/cv95/7b/AAA6AF4AYABeAD4AAQD0/9b/uf/X//r/IAAkABEAAwDi/+z/BAAcACwAEgAEAPz/BwAhABsAHgAUAN7/xf/d/+D/+f8ZABoAMAAMAOj/7P/H/8r/3v/x/xkAKAAwAD8AYABeADwAIgDv/9D/wv/W/xcAWgCJAHUAUAAHALH/jP98/77//v8oAFwARQAQAM7/n/+i/8D/6f8PADMAIgAHAPL/1P/F/7j/zv/j//z/GAAhADUAHAAHAA4ADwAoAC0AIwAUAPv/9v8UAEMARgAtABsA9P/T/9n/6f/y/wkAKgA/ADUAGQACANv/1v/+/xkALAASAOn/2P/J/9//9v//////9f/9/xAAKgAvABsA6v/N/9H/0P/v//j/AAAeADAAPQAuABYA2P+Z/5r/vv8AADAATQBDAA0A2f+x/6T/r//V/wkARwBWAEoAMADR/5j/bv93/8n/+f9OAI8AhQBWABcA3v+S/3L/f/+n//j/MgBeAH0AXQAeAOb/uP+p/7f/5v8XABoAEAADAOz/4P/d//3/GAANAP7/7/8GACgARwBUAB0A1f+V/3v/fv+y/wAAOgBiAFwASAAAAL7/n/93/4n/u//x/xQAMQA9ACEAIwAuAC8APQBYAEcAMQAqAAEA6P/C/7T/0P/x/yAARwBmADEA7f+3/3n/ev+Y/9L/8v8DABAA9f/m/+H//P8IAAEA+v/6/wMA8v/1/+n/4//j/8n/3f8AAC8AbgCaAJUAbwAwAPT/2P/U/wAAGwA5AE4AMwA5ACUAIgA3ADYAMgAOAAQA+P/q//P/7P/w//T/AAD6/+v/AQACAOz/7P/e/9H/6f/L/7z/5/8DADEARwBTAFQAKgANABIAGwAsAE8ATQBJAC4A7v/U/9P/2P/t/zcAVABPAGwARwAWAPf/2P/L/8z/3f/z/xwAIwAPAPv/0/+v/6f/yP/3/y0ATgBJADgADwDN/47/ev+C/6j/6v8XAC8AKAD4/8r/vP+j/5r/lv+J/5//rf/U/woANgBGABYA5v/J/93/BgAzAF8AWwAoAN3/wf+t/6v/1P/w/xcAKgAZAA4AAQDm/+n/7v/x//7/+P8QAAgAAQAaABUAGwAlACcAHQARAPr/5P/p/wkAHQAcAC0ACgD4//T/4f8NADAAPgA5ACIAAQDX/9f/3P/q/xkAQgBMAFgARAAHAOT/wv/K//j/KgBIADQAEADS/73/x//c/wwAJQApAAsA/P/2/9r/2P/y/wUAMwBjAGcAZwA8ABgA9//g//L/8f8SABMACQD9/9j/xP+8/9b/6f8VADkASgBLAEEAQAATAAQA+P/i/+D/8f8PAC4APgAhAAUA6f/h/+H/6v/q/+v//f/r//L/7f/q/8b/j/+C/2v/nv/k/yoAVwBPAC8A6f+u/4v/lf+s/+L/IABOAG0ATwArABcACAABACAAPAA3ACsACQDb/6f/r/+8/9v/IAA5AFwARgAQAPr/8//k/8b/1//Z/9//9v8AAAsAGQAeAPX/5//j/9r/4v/2////AAAWAP//CwAeABAAKgAsADYANwAXAPP/1f/F/8D/3P8RADEAUgBhADIALwA0ADIAPQAQAOv/vv+I/4n/wf/9/ykASAA7ABUA/P/R/8D/6f/7/xkAJgAWAP//0P/L/9T/+v8MAA0AKAAlAA0A7P/R/7P/pP+x/9r/6P8AAAoA7f8IAAAAFQAzACQAIgAMAA0ABwAYACEAFwAgABoACgALAAYA//8SABUAHAAdACYAFAABAAAA5f/i/8//7f/5//v/EwD8/w0AGAAbAD0APwAjAAkA0v+6/77/zP///x0ARQA2ABUAAgDU/9X/6//7/wQAGgAUAPv/5P+8/63/u//r/xIANwBaAFAAHwDh/6v/j/+V/5n/uv/p//D/BQAkABwAAADj/8//wv+7/9P/1//g/wEACQAdACEAGwAXABcAHQApAD4ARgBKACQAGQAgACcAOgBAAF0AZQBfAD4ADwDg/7//u//m/xsAIQArAAMA9//3/+b/9/8CAAgA6v/c/9r/3P/n/woAMAAxACgACADh/67/q//C/93/CQA5AEAALQAOAOj//P8DACIAUgBbAEMACwDu/9j/1v8HAEEAYgCMAGkANQAHALL/o/+S/6T/0//i//f/9f/8/wIA+P/5//T/yf+w/6D/p/+7/8X/7P/4/+n/1v/K/8L/2P/r//H/DQD9//j/3v+a/4v/hv+W/7j/3/8fACgAHQAvABwAIAAaABcANAAUAAgACAAGADIAVABtAHMAbQBVADIAGQAIABEAQQBoAFYAZwByAC8AGwAfAPb/5v/u/+j/2P/L/9r/yv/N/+D/wP/A/7D/m/+r/6r/w//i//X/BADw/+//7P/X/+v/7f/m/wEAFwAJAPj/4P/d//j/+P8QAEUANwAFAC0AUgDH/3X/AgAQALb/HQCPAD8Axf8DADEAy//i/z8ALwD8/wQAKAALAPj/JwAdAAUABwALACIAEgD8////AADA/5v/1v/2//f/KQBpAFcAOQA/ACkA9P/R/8H/2//i/9f/+P/v/+j/3P/h//j/AAAjABgADAAdAPP/vv/F/93/7f/n/wkAIAALAAoA6f/k/+n/2//M/83/0//L/+b//P8FABkALQAuADIALgAZAPv/6v/u/wcAKQAUAC4AOgAWAA8ADQAKAAsAIAAUAPz/CwAWAAkAKQAjAAsAFQD+/+r/1f/p//P/AwAxAEMATwA6ABcA9v/l/9//8/8MABoAIQAmACkAKgA8ADYANQAoACQADgDw/+b/0f/c/+v/8f/1/wQAGAAXAAYAGwAYAAkAEQD+////z//G/9v/y//b/wAAKwAyAD0APwAjAAAA8P/c/93/6v/t/w4AFwArAEcAUAA+ADIACgDd/+T/2v/c/+r//v8AAPL/7//g/9j/BgAaABIAHAD9//b/0P/G/9L/0f/q/+L/BgAVAPb/9P/9/9f/x//T/9j/5//o/wAA+//v/+D/0v+3/5//qP+y/73/wP/b/9X/zf/G/7H/sP+w/7r/3v/u/+n/7v/Y/+b/0P/H/9X/z//o//D/+//j/8j/uv+z/7H/xP/t/xUANwA/AG4AWQArAC8AIQD//xYANgAhAD0ASAA/AD0ASgBCACoAIQAOAAoAGAAeAB4AEQDt/xUAJAAWACEAHwAxACYAIwAPAN3/q/+p/5//mP/C/9///v8DAB8AJwAnACUAHQAXAPn/4//r/wAA8P8QAC8AQABNAEQAYABjAEwAUwBOACsAFQAGACUAIQAkAD0AOABPAEYANgAbABMAGQAlAC4ANwBPAFkAXgA/AEEANAAuAEUATgBUAFMATQBGADwAFAAQAAUAAAAXAB4AFgABAA8AFwD9//z/AAD8/x0AFQAHAP7/5//R/7j/0//I/7n/uP+t/5P/cP9e/2n/kf+d/8H/1P/O/7H/oP+m/5b/rv/P/8f/tP/A/8D/wv/O/8H/qP+x/8v/wP+z/7b/u//H/9T/2f/4/+z/3//t/+7//P/4/wYADgAVACYANAA3AC4AJQAOAAEA7f/t//D/BAAgACEANwBBAEUAVwBTAD0AJgAUAA8AAwATACsAMwBIAEsASQBTAE0AMgAaAPz/+v/z//L/BgAYAEEAOAAoACYAJgAoAC4ARQBEAC4AEgD9//H/CgAWABsALgASAAEAAADY/93/+P/r/+L/1P/C/6D/k/+U/43/p//F/9j/4f/U/73/w//A/+H/+f8HAC4AJgA5ADoAKAAvADIAOQBGAEsASABNAEAAIwAMAP///P8NABMADgAUABMA/P/w/+z/1//r/+3/4//q/97/0v/a/9//5P/5//n/8P/U/9//1v/I/9T/v/+9/6P/j/+U/6P/tv+4/8H/yf/J/9n/7v/v/+r/9P/7/+j/7f/1//b/AgAXADYARgBiAGwAZABLAC4AGwAGAPX//v8GAAkAPwBgAIUAlQCJAH0AWABAACcAJgAqADYASwBNAEwASAA/ACEA/P/i/9j/7P8EAAgAEAAIAPP/yP+6/9X/4/8YADMAJgAjAAcA7v/7////BAAQAAkAAADm//X//v/5//j/7/8KABIADQADAOz/1P/L/9H/3v/t/+3/6f/b/97/9v/l/87/x/+t/8X/5P/m//f/7f/r/+//7v/m/9v/2v/G/8L/7//3//v/FADw/+r/6//U/8f/vf/J/9D/6P8AAAsAJABDAEUARQBDACoAGAAFAO3/4v/j/+n/+v8CAA0ACgAMABgA/v/4/+n/1//e/93/5f///wYADQAZAB0AKQAlACkAFAAOABIA7//r/+z/4//c/8//wP+//7v/vv/K/8f/yP/O/9v/2f/d//P/BgAMABIADwACAAMABAAXABcAHQAoAB4AEwAFAPv/+v/4/+r/9f/y//H/8f/2/w8AGQApADIANQAvACYAHQAoADEAPABVAFQAXQBiAGMAUgA6AD0ANwAuADcALwAmACIABAAOAA4ACwAfACIAIQAbAA0A//8NABQAGAAaAA8AAwAJABMAAAANABQACgAUAAwA6v/s/9r/uP/L/7T/sf/H/87/5f/x//n//v/3/+L/uv+2/9H/z//1/wwAFAAsABUADAACAPT/8f/l/+L/7P/p/+X/2P+2/7n/uv/A/+D/8v/z/wIA+f/b/9T/1f/y//r/BQARAAIABwADAAgAEQANACgALQAfACAAAAD3//P/5f8KABQAHQAxAB0ADwASAAsACwAOAAAA8v/1/+3/4f/z/wYAGAApADQAMwAyADAAFgAWAAoA+f8AAP3/FAArADYAVgBMADoAOgAaABsAFwAaADYAKwApAB0AGwAPAPH//P8DAAYAGQAZAAoA+//Z/8n/zv/d/+P/6P/n/9b/3//l//T/9v/4//b/3//l/83/yP/Z/7v/r//C/8n/4v/2//v/BwANACkAEAAGAAEA5f/4//D/9f8AAAEAAwADAAgADAAEAPn/7f/Q/9D/1f/f/+T/7P/u/+n/5v/I/9//5P/l//f/BAAcABwAHQAFAPH/7//i/9X/9f/+/wgAHwAPABMAAgARABMADQAYABEALgBGAEIALwAqABEABQD+/+3/+v8JAAgACwAcAAMA9P/Y/7z/uf/D/97/4v8BAAEA9P/3/+X/5//8/woAFwAdABAAEwAFAAIA+v/x/wAA6f/Y/9X/1f/T/9j/0P/I/9n/1v/o//z/+P/1////AQD+//j/+P8LABsAIQAWACgALwAtAFMAWABhAE8AMwAwABoABwD5/+b/4f/z/wAAFAAcACIALAAmAB8AIQA3AEUAWQBUADkAHgD///z/9P8AABEAGAAVAP3/1v+6/7b/wP/d//P/FQASAA4AAADf//D/3//r/wgAEQAdACYAIAAUAA4A7P/e/9H/w/+4/7z/0f/d/+7/6//4/+z/6P/r/+//BwAOACMAHQAUAAIA6P/a/+X/AAAdADYAOwBMADQAPwA0ACQAKQAJABEACQANABoAHAAXABQACgD1//3/8f/v/+b/5v/y/wcAFAAIAA4A7P/X/8n/yv/N/83/3v/T/9//4v/j/+r/6//l//D/8f/7/wsACgAiAAkADwALAPf/BADo/+n/+P8DAAcADgAEAPP/+P/m/+b/9v8SABQAHwAYAAgAEAADABUAGAAnACcAJgApAA4ADQD2/+X/6P/p//n/AwACABgAIAAqAEAAMgA9AC4AJQAgAAUABgD9//7/+/8GAAQABQAHAP//DwAMAAsABwAHAP//BAAAAPH/8//i/+z/9f8EAPf/7P/7/+r/AQD4/93/4P/X/93/9P///wUABQDy/+j/1f/p//D//P8dAB4AGwAQAAQA4v/q/+f/5/8CAPb/BAASABsAFAAUABAAAQACAPf//P8AABAA+/8DAAEA5v/3/+H/6v/v//z/DwAIAPj/4P/e/9//5f/i//P/+v/3//7/+P/s/+r/+f/8/w4ADgAZAB8ADgAfABsAHgANAO//zf/C/8r/y//e/9//4f/p/wcAAwAFAPv/2P/z//D//f8UABkACAD2//P/5f/3/wIACgARABkADQD8//3/+/8AAPz/+//y/wIA/f/y/wUACAAdADMAQAA6AEAANwAqAC4ALgAvACwAMAAWACIAIgAaADUAOQBTAFoAYQBVADwAIQAAAPn/8f/9//3/BAAEAP7/8//n/+n/7v/9/+r/7//l/9f/7P/o//b/8v/d/9z/1//R/97/4v/r/+3/2//Z/9n/2f/E/9f/5f/d/wAACQAPABIACgD5/+3/6v/Y/9//6//n/+3/8v/q//b/+f/u//D/5v/s/+b/6v/6//L//v/w//D/DQAHABIAJAAgACQAMAA1AB0AIQArABkALQAvAB8AIQAmACgAKAAzAC4AHgAcACUAJAAaABQABwD9//T/+P/8////6v/N/8n/u//M/8//xP/W/77/sv+r/6X/vf+2/7f/y//V/9//8f/x/9j/0f/V/9n/5//1//r/CwASABEAJQAjABkAGgAXAAMACQAdAAsACQAKAPz//f8FAAQADAAOABIAFgAZADAAIwAuACsADwAOAO3/4P/d/+H/2P/k//3/5//z/+//5f/g/93/2P/R/+D/3v/0//j/AwAAAP7/BAD8/yUALQAzADUAIgANAO7/6//i//H/AQARACUALAAiABwADgD5/wgABQAZAC4APQBOAEgAVgBNAEgAMQA6AEcARwBeAE4APAApAC8AIgAfACoAIAAqABkAFgALAAgA9P/l//r/5f/3//n/9f/y/+P/7f/W/83/yv/L/9n/7//3//v/CADz/+v/4f/G/8H/yP/V/+j/9//3/+//2v/R/9P/2v/k/+r/9v/u/+j/8//+//T/+v/3/+P/9P/9/wwAEwAJAP3/8v/4/+X/4//l/+b/8//7/wcADQAgABsAHwAjAA4AFQALAAYAAwAHAA4A/P/7//b/7//p/+3/+v/+/wgAAQAKAAwA9v8AAAgA6v/W/wsAEQDg/wwASwA+ACcAQgAzAPT/8v8LAAcA+f8JAAQA7f/4/+r/5/8EAAgA/f/z/+//4//M/8r/y//Y/97/0P/m////+f/z/wAA+f/s//n/9v8EAAgA+P/0//b/8//u/wcAFQALAAAABQALAP//AgD6/woAEgD+//3/6f/h/9T/2//5/wIACAAAAOn/0P/K/8b/2v/6/wEADQAPABsAHgAdAB4ADgAFAAMAFgAYABsAIwACAPT/9//z//f/BwAeABEAEAAbAP3/9v/5//T///8LABwAGAAUAAcAAgADAAUADAD8//z/6v/b/9//5P/q/+H//f/9/wQAHgAMAAYA+//3/+j/4//1//T/BgACAPf/AQAEAP7/9v8HAAUABAAZACEAKgAmACsALAArADkALwA9AEQARQBOAEAARAAxADMANgAwAEoAPQBAAD8ANAA8ACoANQA2ACYAJgAbACEAFAAJAP//3//b/8//x//A/8X/1P/H/8//wf+z/7j/uv+6/7T/z//K/8v/6f/l//L/AAD5/+r/5//g/8//z//W/+P/9f8AAPz/7f/u/9z/xP/n//j/BwAmACMAGwAAAPr/7f/j//P/7f/3//P//P/+//T/9//m//P/+f/8/w4AEgAVAAoACQAIAAMADwAPAA8AGAAJAAcA///p/+7//P8NAAsAGQAbAPz/8//n/+v/5f/x/wcA+f8KAPn/6f/y/93/5v/i//L//v/0/wMA7f/l/97/z//g/+T/9f/7////DgD+/wUAIwAlAC8AMQAyAC4AHwAnABMAEwAaAB0AOwA/AFIARwA1ADMABQDz/+v/5f/0//z/DwAaABgAIwAXABwAIgAPAB8AGQAbACAABQAMAPn/+f8QAA4AHAATABEABgDz/wEA8v/n/+T/2P/g/+H/6v/w/+j/8v/7//n/AAD7//b/8f/u//b/7f/z//r/9f/6//r/CQAOAAQADAACAAIAGgAcACEAIAAVABQADQAVABkAHAAnABwAHwAaAAoABgDv/+D/7f/r/+//+//v//L/8f/q//H/+v8HAAAA7//4/+j/3P/h/9//6P/e/+f/8f/h/+P/1P/D/73/tv/A/8f/0P/d/9b/3//4//P/7P/u/87/tf+p/5D/lv+W/6j/zP/n//7/DAAWAAwACAADAAQADgARABcAIwAnADUAOQA3AEQAPwBDAEgAUwBTAEMAOQAiABgADgAZACwAQABNAFYATwAzACYADQD///L/5//k/+T/6v/j/+n/9v/w////BwD6//T/5f/o/+v/8v/5/+7/6//s/+T/z//T/9P/0//b/97/5v/o/+L/3P/P/8r/y//R/+v/4v/v//b/8P/8//T/CgASABAAFwAmADcAPgBJAEIASwBeAF8AcQBvAE0AOwAmABAA+P/q/+//5f/x/wQACAAJAA4A/v/1//b/2v/k/+b/6f/e/+D/5//R/93/0f/u//n///8UAAUABgD1//L/9f8GAAcADgArABUANAAFACYAHQAXADQACQBEAPz/OgC2/3AANQB8/74Asf8RAFUAqf8MAO7/1P8HAPf/AwDa/9H/FgC3/yIA/P8DADYA5v82APn/AAD7/+z/HQDU/wsAEQDv/yYA/P8EAA0A7//v/+L/4v/h/+v/8v/2/wgAFgAIABMABQDz//z/4//k//L/8v/z/wcACAAEAAMACwADAAYAFgD+/xwAFwABAAoA7v/s//j/AAAbACIAHgAgABQAFAANAPv/+f/q/9X/3v/e/+T/9f/5/wYADwANAAsAFAAdABoAJwAeAB0AGQDw/+7/2v/K/8X/wP/g/9z/7P8GAPX//P/0/+D/2f/d//j/9/8QABoACgAWAAUA+P/3//D/8v/m/+//FAAbACYAMQAXAB0ALwAbABsACQD7/9X/vP/X/8v/4/8GAA8A6P/K/7j/pP/N/9f/zv/B/7D/w//e//f/AgD9/+f/y//m//T/BQAnAA8ADgAdACMAKwAxACIAFgALAAAABwAsACcAOgBhACAACQDq/9H/1f/Y/9j/xv/p/+b/DQAgAPz/HQDt/9//+//z/xkAFwAWABEAAQAfAAIAEgA5ABgATQAZABcAQAANAE0AKwAcACAADgA0AC4AOwA9ADoALwAmADYAKQAXAAoA3f/Y/9D/1v/u/+X//f/z/+7/7//r//H/3P/n//z////w/9z//v9DAFUAGADp//b/HQBJACIA8//k/9z/BgALAAAA3P/P//T/AAANAAoAFAAaACMADwD4/+z/3v8EAP7/6f/u/+z/8v/9/+D/z//N/8//6P/k/wMACAAcAB0ADgAWAAcAJAAeAAoA/P/2//z////8/+v/zP/H/97/5v/+//b/2v/E/6r/n/+Y/57/qf+l/5n/mv+u/8j/2f/V/8H/vv/B/7T/rv+3/8f/y//a/+b/7v8GABQAKAAkABIABgD0/wkAIgAoACAA+//u//P/DAAoACIAEwAEABEAJgAwAC8AGAAfADUANAA8AC4AHQAoACAAMAAsABsADwANACkAJwAzADMAOgBQAFUAZQBoAFYAWgBkAGAAZABEADAAGQAVAB4AFQAaAA4AEgAZACgAKAAvADwAJQAMAPL/6P8AAB4AKwAvABAACAATAAoAAQDv/+P/z//m/wEAEwAKANr/xv/A/9r/5//k/9z/2//7/xMAEwALAO//+P8SAPz/6/+0/7L/1P/v/xAAyP+V/6n/0v8QAP3/uP+V/4r/xP/w/9X/uf+l/9H/AgAQAO3/sf+6/9T/6P/q/8v/vP/e/wAA/f/b/87/6v8FABAAAADc/8L/4/8QACMAGgAGAAAADwAtACMA/P/y/w0ALgA7ACkA8P/T//P/AAAAAOn/zP/X/9z//P8PAO3/5P/n/+//BQAZAC4AKwA0AEgANQAxABwADAAhAB0AHAABAPL/DQAaABoAFQACAAwAHgAtADEACADw/+X/5//u/+T/2f/i/wEAGgAlAAwA7//t/wAADAATAAAA6P8AAB4AOAA1AB0ABAACAAwAEQAXAAgACAAHAAQAAQD3/+P/2P/g/+P/3f/S/+T/+P8MABcAGgATAPr/7v/t//T/5f/Z/9z/5v/4/wEA9P/q//n/CwAvADAAKwAyADYAOQAjAAEA4v/o//v/FwAhAAYA+/8KACEAGgACAPH/+P8PADEALgAJAOj/5/8DAAUAAwD//w8ALABAADsAAQDV/8r/1f/g/8n/rP+5/+r/HAAqAAUAwv+e/7f/zP/b/8f/pf/E/+3/DQAeAAMA5f/O/9P/7//4/wkAHgAmACcAFAANAAoAGAAwACcAEQAHABgALQA6ADgAJgAXABkALAA8AEUALAAWABMACgAUAC0ANQBGAEgALQAyACIADwACAOb/6/8AABcAMAA5ACUAFAAVABEABQD+//f/+v8VACQAIQAQABAAEQAKAAEA7v/q/+f/BgAeABsAFQABAP7/+f/s/9j/vf+5/8//2v/n/+f/5v/u/+D/zP+y/67/vf/L/9H/yf/H/9L/5//n/9X/t/+t/7//y//M/8f/w//I/+P/7//q/+H/4v8EABsAJAAcAAQA9P/4/w8AFwATABUAEwAGAAkAAAD1//X/2P/W/+L/5/8BABQAEgAFAPb/6f/u//f/9P/v//T/AAAPAB8AHwASAA8AHgAsAC4ALAAwADcARQBKAEUAMwAfABoAGgAkADIAOgBHAEwAPwAqABEA/P/6//3/8f/v//f/+/8IAAAA6P/Y/8j/0//c/93/1//T/9v/4v/q/+L/3v/Z/9P/3P/n//X///8KAAkABQD///P/9v8GABEA+P/q//f///8UACgAIwATABMAJAA2ACwACwDf/8D/v//J/+L/7f/s//j//f////z/8v/x//f/+f/v/+D/3P/k/+3/5v/h/83/sP+1/7f/xf/i//D//f8LAB8AKwAoAB4AGwAJAP///P/+/wgAFAAyADgAMgAuABkAEgAEAPD/7P/u/wAAFgAeACYAIAAiACQAJAAqABMACgAIAAsAHQAVABQAEgATABwAJAArABoACAD//wMAFgAiACUAKgAeABEADgAFAAgAAgAOABQADAAQAAkAFAAZAAsA///2//r/AQAAAPn/8//w//b/AwAVABcAHAAdABMAEAATAA8AAQD3//v/AAAAAPn/5P/Y/8f/wv/P/9T/2P/R/9r/7v/4//L/6v/l/+H/5v/n/+j/5v/q//b//v8AAAIAAAAAAAIAAwAFAAAACAAMABcAIgAQAAAAAwAPAAwADAANAPv/9v/7/wcAHgAbAAUA+f/x//L//v///+z/2P/W/+7/BgAPAA0ACAADAPP/8f/v/+T/7P/j/93/5f/r/w0ALAAuACAADwADAPX/5f/o/+L/4P/t//X/DAAHAAgAFAATACgALQAuACwAHAAPAAYAAwADAAMA9v/p//T/DwAeAA8A8v/h/+T/9P8IAA0ABAD7//v////1/+f/5v/t//P/9P/p/+D/4f/y//v/7f/d/9v/7/8IAAwA/P/q/+r/9P/2/+z/3f/f/+z/+/////b/8P/8/xkAHgAYAA8ABwATACIAKwAeABcAKAA3ADoAKAAKAO//8f8IABMABQDp/+L//v8fACgADAD2//X/AwAZABQACwAGAAYAEAALAPj/6P/9/ycAQAA0ABsAGgA2AE8ASAAkAAMAEgBCAFcAPwASAP3/BwAbABYABADt/+j/9P/o/+L/3P/f//D/+f/4/+H/3f/0/wIA+v/k/9H/0//y/wsAAgDr/9f/0P/e/+//7//i/+b//f8SAB8AHwAcABkAFQALAAYADgAMAAIAAAAAAAAA9v/l/9//3//r//j/8v/p/+v/AAASAAMA6f/d/9//6//t/9T/vv/G/9j/5f/V/73/v//O/+n/9//n/93/5f/4////+v/v/9//3v/p/+v/7//5//3/BQAJAPb/4v/q//3/EgAfABkAGAAbACcANAA3ACUACgANACYARABOAD4ANAA3AEIARQA1AB8ADwAZACEACAAAAA0ADwAOAAkAAwD2//v/EAAQAAwAAADx////GAAUAP3/+/8FABIAFgAMAPH/4P/r//z/FQAkABUA/P/3/wcAEwAOAPL/5v/x/woAHAATAAUA9f8FABwAFAAIAPr/CAAoACcABwDq//H/BgAjACcAAwDw//b/FgAlAAAAyf+u/8v/7f/v/9n/wP/O//n/DQABAPH/7v/w//D/5f/L/7z/yf/d/+L/0f+9/8P/1v/o/+n/1//X/9f/5f8FABYAFQAAAO///v8YACUAJgAeAB4AKAAdABkAEgAHABAADAARABwADQAGAAAA+v/s/9j/3f/y/xAAFwD5/9T/0//4/woAAADc/9D/7f8KABwAGAAMAAEA//8DAAoABwACAA8AEwAKAPr/6//s/wMAEgD9/+f/6P8HAB0ACQDw/+T/6//l/87/uP+y/73/wP/J/9z/8f8AAAYACgDw/+r/CwAxAEEAIwAAAPj/HQBDADsAIgAgADoATgBcAFIARgBDADcAIwANAAoAFgArADAAHgAFAAoALAA0ABkAAwD9//H/7f/u/+f/0v/B/8n/1f/u//v//v/t/9z/7v/1//T/+v////n//v8OABgAHwAYAA0AGQAdAPz/5f/9/yAAKAAXAP7/9P8KAB8AGgAJAP//AQAaAC8AOQAhAAAADAAZABoACAD5/wkAKAAxAA4A9f/x/wMABQD1//T/9f8KACgAQQA/ABwABAABAAMA+v/q/8//vP+1/7j/x/+5/6T/pv/F//T/CgABAOT/1P/R/9H/xv+k/6T/vP/f//z/DQAUAA4AJAA7ADcAHQAeACoAHgAhABMABQAJABIAFAAOAA8ACwAAAPn/BAAOAAcA8//l/+n/8v/+/wAA///6//b/7v/6/xgAEAACAPP/7f8FABEAAwDo/9f/6v8IAAYA/P/+/wQAIgBHAFAAMQAMAAwAIQA3ACQA+v/x/wEAGAAhAA4A7v/g/+v/9f8CAAAA7//n/+n/+f8JAPn/5P/2/wwAFQAaAA0A4//U//j/BgDu/8j/uv/I/+L/9f/o/8b/tP/K/+P/6v/g/8n/xf/r/xoAHAAHAPr/AwAhADMAKAASABYAGAAGAAIACQD8/+j/7/8NACQAHQAXABQAGgAtAC8AHAD8//X/BwAgAC8AIwAJAP3/FgAjABoABADh/9b/7/8XAA8A7v/d/97/2//Y/+z/8f/s/+T/3v/p/xQAIQDt/77/tv/R/+r/AwAFAPj/AwAXACIAEgAJAAAAEwAyADMAHgD4/w4AMQAlAAYA/f8PABsAIwAZAA0A+f/z/w8AJAAvAB4ADQAaACYALAApACIAHQATABUAJAAgAPb/1P/M/9r/5P/b/9//5f/i/9P/v/+6/77/wf++/7j/t//C/83/1v/2/wkA5f/C/+P/EwASAPf/8P8DABIAEwAeAB4AGAAhACoAKQAgACoANgAzADQAMAAZAAoADwAkADcADwDe/9n/9/8PAAYA7v/L/8///P8WAAAAz/+//+X/DwAAAMz/ov/B/w4ANgACALb/xv8JACoAAgDS/8n/8P8eACIAEgDy//L/6//f/+7/AgAUABIAFwAKAAAA8//p/+z/6//p/97/7//t//f/EwAAAOj/3//q//7/BADu/9n/8f8WACQAIgAfABMAMQBVAFsAXABIAEYAUgA+ABwAGwBBAF8AWAAfAPD/BABCAFkAOgAGAOT//v8oADUACwDT/8D/2f/+//r/9P/q/9z/5v/s//L/+v8CAPz/8v/7/xQAKQAbAP3/5//v//n/+v/r//b/KQAsAAIA0f/Y/xAAOwAeAMf/uf/9/0EARAATAPL//v8pAEoAQwAGAMz/0/8ZADgAEgDa/7v/8/8qABwA6P/R//L/AADu/9b/x//a//X/7v/i/9z/4P8AABwAGADq/+L/GAA3ACAA3f/H//H/HAAXAN3/tf/H//b/AADd/8P/xP/L/9n/5//d/9X/1P/s/wAA9P/h/8f/1P8RADUAEQDT/8r/7/8YACIA6/+q/8//LQBlAD4A1/++//n/PwBiAD8A9f/V/xYAWgBSAB0A4v/i/zcAawA+AAAA6P8TAE0ANwDr/9P/9P8WADgAHwDX/73/4f8VABoA3v+S/6j/HABNAAUAoP+J/+T/MwAeAOz/3v8FADwASAAhAOf/4v8TADkAMAAEAOX/8v8mAEEAEwDQ/93/JAA8AAsA4P/3/xwADQD9/wUA/v/5/wIABgAAAPj/BQD//+H/3//q//X//f8FAAgA7f/k/+v/0v/J/93/9P8AAP7/AgAFABgAJQAIAOL/4P8QACoAFgD+//H/9/8QABMA7f/Q/+T/CAAAAN3/1f/4/xAAAgDo/8r/2P8HABUA+v/c/+T/BgA/AE8ACwDd//n/KQAxAAIA0//X/wIAIgAIANn/zf/m/wsACwD7//H/8P8SAC4AJgAAAOb///8iADUAJwD+//H/HABKAEsAHQD2/wMALgBPAEAAFwANAB4ARABbAEQACADg//r/PABGAA4A5//c/wUALwAXANz/sv/N////FAD9/8//zf/+/zIASwAyAP7/AAArAE8ANwD3/9z/8v8RAAQA5v/X/9H/4//5/wAA8f/Q/73/3v8TABwA8P/B/8n/7/8CAPn/1/+5/9b/EQAgAAgA5f/Y/+X/+/8FAO//1f/X//D/BAD//+f/2P/j//H/5f/L/8f/1f/X/9//7//b/7//xv/T/9j/3f/f/93/7f8TADAALQAaAAoAGQA4AD4ALQATABwANgA4ADEAKwApABUADgAmABsA/v8FABAA/v/x//X//f///wAA6v/Q/+b/+v/y/+7///8bABUA6P/b//j/DQAZAAYA2v/Q/wEAKQATAPf/5v/v/w8AJQAhAAgA9P8GAC0ANAAeAA4ACAAAAAcACwAAAAIA/P///wMA+/8EABUAEQAAAO//7P/6//v/9f/4/wAAAgD//wMA+f/t//X/FgA1ACIAAwAAABwANwAuABUAFAA4AEUAJwACAPH/9f8BAAkA+v/u//r/DAAPAAIA+v/0//f/BwAMAPL/7/8FAP7/9f/7/wcACgD8//r/AwAOABcAGAD+/+j/AQAaABIA/v/w//f/HAAtAAUA3//h/wAAEwAFAOT/1//8/xsAAADb/97/9v8YABgA7P/e/+H/7v8YABkA/v/y/+n/7P/3/wAA///w/+X/5v/8/xIAGAAMAPH/3v/3/xUAEwAAAPD/BwArADkAGQDr//v/IAAdAOH/uv/Q//P/BADz/8//y//+/xMA+//X/8v/6P/4//H/2//W//H/EgAVAP//6f/c//H/BgAHAAQAAwAJABEAHQAeAAgA/f8GAAgAAQD7/+//6/8DACgAHgABAAMABgAJABsAIQAlACYAGAAXAB0AMgA0AB4ADAACAAsAAQDx/93/y//I/97//v/3/9T/uf/O/+z/6v/G/6v/nf+a/8X/2f/i/+b/2P/U/9z/+f8QABcABgD7/woAKQBDAE4APAAgACkAQwBhAFIAKAAcABUAIwA0ADAAHgARABQAEQAJAAoAFAAWAAgA9P/5/xAAGwATAPb/3//b//v/CADu/8//vf/E/+7/KgAWANP/v//Y//b/DAAKAOf/1P/d/wQAHgARAPv/4f/u/w8AGAAPAAYABAAVADIALgARAAsAIgAuABkADAD+//b/+/8BAAgABgAMAAQAAAD0/9j/2//1/xgAIAASAPr/7P8DACoAMQAGAPP/EgAvACwAHgAIAPf/DQAdABgAEwD8/+j/4P8EABoACwAFAP7//f8AABgAFAAAAPf/6//n//7/HgDy/8z/3v/5/xYALwAWAMb/yP8TAD8AHQDr//D//v8KABQACwDp/9H/2v/o//n/5P/b/+//9/8BAPH/3//p/wYAGgAZAAYAAgAYABUAIgAJAOb/7//m/+D/7P/Z/9H/2v/F/9L/0v/X//L/0f/L/97/5P/w/+//+f/4/+b/8//w//7/EwAFABQAHQAVABcAGwAkABQABQD//+P/3P/u//X/6//g/+r/3P/I/+f/5v/O/+b//f/0/+X//v8LABEAKQA0ACMADQAyAD8AOQA4AA4A+f8HACEALwAmABEAFAAXAEEATQAMAA0ALgA0ACQAJAANAO//EQA3ADAAAADx/wAADAArADcAGgD3/+z/7f/3/wcACQDm/8n/4v/3/w4AJQAUAPD/6v8XACcAKQAVAOn/6f8RADcALAAOAP7/+v/3/xoAIgD2/+7/9//3/wIAJAAjAA0A+f/2/wYACAAUAAUA5v/j//b/EgAyAB4A5f/i//f/+P/v//v//v/v//H/4//l//T/8v8FABoAEAD5/+X/+v8oABkA9//r/9T/4P8KABUA8v/y/xAADwAhACYA/f/n//j/CwD5/9z/8//2/9v/8v8kAB0A6f/q/+7/5f/+//r/0f/M/8z/xf/T/+r/AQDz/+j/6//m//P/EgAPAOb/vv+n/77/+/8ZANb/rv/s/xkAGQD5/77/uv8LAEgANgALAB4AOQAxAEEAKgDy//n/IQAXAP//MwBXADAAJgAfABUAJwArABcA4//J//b/DQARACUA6f+v/8z/9f8CAPD/7v/o//v/JgA6ACcA/P/7/wsAHwAdACIADAD2/yIAFwAIAAwAAQD8/9z/zf/V/+7/DwATAOr/2//v/w4ALAAMAOD/qv/N//3/2//B/67/0P/V/9H/3//g/+3/+P/w/+D/DgAjAAcA///k/9H/BAAwAB0A/P/j//j/AAAHABQA4v/L/+v/AgD4//f/8P+1/7z/9f/5/+n/7//g/9b/9/8NAAwAEAA5ACUA5P/q/xoAQgBJAB8A3P/T//7/HAAOAPr/5v/A/9z/EAAcAAAAAQASAAcADgAaADUAWgBcABIA/v8/AGoAXAA+AB0A3//v/zkAZQA0AAoABgD//zAAPgAaAPD/9f/6/+f/4f/V//L/CAAcAPj/1f8LABwAEQAWAA4AAgAoAEEAMgAYAPX/BgAtAE4AIADT/9j/9/8nAC4A///J/7H/DgBVABAA4f8AACwARAAcANr/2P8YAGMAHgCu/5v/vf8qACIAzf+U/5D/9/8QAP3/1/+d/+H/QQBOAAYApv/J/xYAQwA0AKz/vf8gABcABgDZ/8v/9f8PAAwAw/+b/yYASQDl/7T/nf/Z/xgAGwCw/2X/mv/6/zMANQACAJP/sf8CAEsAKQDG/7b/kf/u/zIAEQD4/+n//P/7//v/2//X/xcAQwAIAMX/4v8kAEMAAQCh/2T/xP9NACMA0v+5/8r/AABFAFoA7v+y/wQALwAuABsADQD8/yEAWAAUAOL/EgBDABAA6//g/+b/FABNAFIA3P+5//D/LgBGAAcAsP+o/wYAKgAyABgAEgArAPH/6P8YACwAOQAjAO7/AwAJACoAfgBdABsA+/8SACMAMQAyAPn/r//J/0IAUwA+ACQA+//j/ycAagAtAAgACwANAAgASABMAOn/uf+Q/4r/m//u/+//hf+h//D/GQAFABAA9/+r/8r/2//V//z/MAAwACcADQDt/xoARgBwABgAp/+0/8D/IgB9AF4A0/+m//P/CwApABAAyf+K/8v/IwAaAC0ALQDo/7T/7f8GAAgAHQDu/5L/h/8tAIAAUQAkAMj/av+2/2oAfQAPAKf/lf/K/z0AiAA0ANf/wf/S/9j/GwAeAPD/BAD//w4AHwBfAHEAGgDb/73/xv///zUAKAAiACsAPgA0ACUAKwDc/8v/1v+l/73/+P8TAPT/+P8PAPH/EgA2AAAAu//A/wcALwAsACoA5f+6////KQAQAN7/x/++/+//OgA2ABUAFQAjAAgA3v/+/ycAEAABAOT/5P8aAEEAZAANAKT/pv/S/ycAEADT/6//n/8hAEUAHgASAOX/HQA2AB0ABACp/9L/SgA+AOT/xf8MADkAIwDo/4P/gf/l/xsACQDZ/+///P/7/0AANQD3/+T/5v++/7T/DAAVABQAFQAPAPr/1/89AF4AEQDl/6n/rf9FAL8AhADo/5v/1v84AF4AKgCx/2b/6P82ACgALQD3//H/7//v/9r/qP8HAEEA3v97/5//JAB2AF4Azf9q/7X/SwCLADcAwv+n/+z/TgB+ACIAw//F/9n/6P/m//r/GgApACcAKAAOAPX/GAAVANX/iv+U/+7/KQA/APr/rf/l/24AqwAxANP/y//V/yUAWgAzAO7/8v8tABgAEQA8AA0A3f/f/+H/s//z/3oAaAAvAPj/9//z/y0AhwD9/4z/vv/r//z/SgBVAOf/x//y/zUAHgDn/9f/ev+9/0kA4v+u/xwALQAQAPr/7P/d/7v/AgDb/13/uP8sABEA0P/I/5b/xf9fADYApP+C//j/LgASAEoAFQCe/+H/LAAMAPX/IAAPALP/CABZAB0AHgBUAEkA9/8JAC0A/v8GACAA9f+3//v/NwAeACoAFADb/9f/agCwAB0AsP++//j/EgAvACwA4v+P/53/1P8LAGgATgDF/0v/ev8zAJAAhwD0/0n/Uv/v/3MAQwDv/8j/kP+l/ykAbAAgAPf/BwDg/+7/eQCmAD4A3v/f/wQAJQBnABgAg/+U/+j/GgBAACAAnv+B/xMAeAAvAOf/6//g//P/RgBJAN3/0/8HAP//7f8AAC4AOwBIAPf/m//r/1gAaQAAANL/wv/F/1sAlQBAAMf/3f8ZAMv/vv/L/9f/+v/k/9v/+P8ZACYAAADm/+f/wf/F//v/8v+4/6P/6P9EAF0AJgDS/6n/yP83AIMASADX/63/5v8aADAAWAAaAKT/rP/j/xsAKwA2ACoA1P/7/0gAPQA4ADwAAAC///D/AgDi/zcAjAARALD/8/8eAAQA+/9IAAEAkf8VAFoAVABDANr/w/8BAE0AHwDI//X/KgAZACwAYwAxAPX/LwBDABcAFAAcADMADgD0//j/5/86AFoAFwDq/7b/tP8NAFUAHQC7/5H/wv8pAF8AXADc/37/2P/9/xQAMwDq/7X/0v8AAAMA/v8IAOL/yP8NAC4A0v+t/wgAAgDx/xQA6f/L/+j/LgDq/4T/1P8mACkAEgDg/5b/5f+AAEIA0v/C/+L/FQAjAD0A3P+G/xwAawARAOD/yP/R/yEAPgALALD/qP/7/ycAKgAFALL/lv/q/yAAAADW/8L/w//Q/9v/3v++/9X/KwAvAPb/wf8DAFQAQgAhANL/x/8KABsAGAAAAA8ARABSAEsA+P+m/8j/JAAWALD/cP+J/93/8v8CAOH/hv+F/8z/BAAIANv/m/+q/w8AJQD7/+T/FgBNAPn/CQAkAPb/ZgCfAGoAJgAFAFUAcwBjAEIA8f8fAJkAlQAhAPT/IwAsADEAPgD2/5L/xv8HAPL/3//h/wAAAAAoACUAzv/d/yAALgD+/8b/nf+I/xkAYgADAK//hf8MAGAATQAbALn/+v9HAFgAPADt/yEAVwBiADIA8P8jAEMAfgBDAMn/wP/L/zIAQQD//97/wf8gAFUAIADv/+f/PgBFABUA1/+w//P/BwBKAE4A5//a//7/UABzAA0Amv+t/xMALwAWAOP/3/8oACgALwD4/8b/IgAwABQA4P+N/9//hACYACgAwf/h/yYAMgA7AAgAsv/I/xIACQDi/6//gP+H/+X/DwDD/5b/x//S/5r/1P/t/7D/uf/n/8z/hP+4/w4ADQASAAAAxP/r/2EAawDt/8H/6v/s//b/EQD5/7z/2/8cAP//6/8NACUAKAD+/wYA9v/x/z0AHQDe/9f/+v/2/8H/1f/j/8n/8P8GANT/tv/f/w4A9v/4/wkA0P/b/yUALAACAOX//v8XACUARQAhAOf/CgBCAEIAIAAPAO3/9f9KAFMA9//D/wcAIAAJAP7/5P/Z//P/IwAFAN7///8GABQAWQAtALr/u/8SADsAGgD+/9//1f8aAEUAHQDy/wMAHQAeAEMADADY/xoAbwB1ACcAHQD9//L/RgBlACwA9P/r/wAAHAApAPf/tP/5/ywA9v/O/9D/2f/4/yoA+/+O/5H/7v8iADgADwCi/6v/OgBmABkA9//1/wcAKwAyAAEArv/c/yAA7v/j/+z/rv/C/yMAMAD3/7f/1/8IACMANADQ/6L/CABlADYA0f/t/ywAOQBSACsA0v/U/xwARAAzAOH/v//W/w0AOADo/7n/4f8tABwAx/+r/7z/+P8pACoA5v+o/8P/MgBFAPv/zv/C/8n/5f8AAOv/5f///wkA8////wsA9f8DADkALgDX/9v/JQA4ABUAAgD6/+L/AAApAAIA4//2//D/AQAbAP//2f+5/+D/9f/F/+j/DwD///j/EQAfAAkA5f+5/9P/8//+/+7/2/8DABkAEADw/wEAJgAuACkAEgANABAAOQBPAEIAGAD4/xIAGQA5AD8AGgAaACwANAAuABAA///8/wEAFQDa/7D/4f8wAEUADADW/9f/FQA3APD/l/+5/wgAFgDm/9n/3//n/xMADQDT/7D/1v/s//b/CwDd/73/8f8/AC4A6/8KADIAKgAtAC0AAgD//1IAaABHABkA/P/2/ycAdQA1AN7/5P8nAC4AEAAAAO7/8/8IAA0AwP/U//j/BQAiAAoADAD1/wUAIgACAOv/4//h/+3/AAAOAAkADwATABEAJAAWABEAEQACACkARQA/ACUA3v8MAE8AGAAMANz/uv8BABMA/P/P/7z/9P/u/9v/7f/G/7D/BgAwAOj/vv+5/+D/GAA7APD/gv+e/+H/IAABAMb/xv/S/y8APADg/8n/6f8eAEQADgC//7D/BQB3AEsA+/+//8T/SQBgACIA9P/5/1YAWwAXAAIA5v8TAGYARwDj/5z/u/8JADsAAQCb/5P/8f85AA0Ayv+0/8//DgAqAPv/xv/F/wwAOAAgAOX/yP8iAIYAVgDe/9D/AgBAAEgA9f+4/9//LQBJACgAyP+O/8v/EwApAOb/n//U/+7//f/v/8L/zv/f/8//lP+y/+X/9P8XADYAGAAEACEAKABXAB4A/v8XAP//ZABiACIAMQAyAFkANwAKAB0AOwBxAEIA9P8OAD4AZwBQAPr/9P8iAE8APADW/+v/NQA+ADcADQDY/6f/3/8OAKP/pf/T/73/2//U/+n/5//w/zkA//+6/93/EwAPACcASAAJAPT/HwBFABwA1//C/+D///8VACQAxv/a/1MAWgAiAPP/HQA2ADIANwD7/93/MABkABYAzf/r/yUAJwAAAOD/uv/g/0IAAACZ/7f/6P/c/67/uf/V/8n/2P/r/9H/yP8BAA4AzP/g/+j/qf/b/zsAJgDE/5P/1P83AEQALQDF/6D/PACXAHgA/v/B/wQAUwB+ACkAzP/s/ysAPwAuAN//xv80ACAA1P+z/4b/4v8QAPb/1f9K/1H/7v/w/87/sf9k/6L/DgBSADgAyf/q/ywANAAyACQAIAAVAEkATAABACQAbABiADYABwD3/yQAVABcAAAAt//h/yAAPAAVANT/nv/P/yIAJgACAMr/yf/0/wAA6P/K/9z/AQAAAOT/4f8FAD4ASgAFAP3/DwAYAFYAOADy//3/DgAnAB8A/f8pAEYAFwAAANz/3v9BADwA9//L/8b/BwAkACYA+P/A/6z/3P8rANb/c/+K/97/LQAhAML/kP/l/0MAWwD1/5P/3P85AIIAUQDn/7//AACNAF8A7/+z/+7/fwCDAEIAAwD0/0EAngA4AKz/x//3/zsAEQCh/4n/zf9gAFsAzP9s/6r/BgAmAPz/P/84/9T/TABSALH/mv/6/1AAbgDu/4n/0v9TAGgADACt/9H/fwDKAIAA8/+2/1AA3QCEAMn/Z/+h/1kAZADG/4H/jv8LAF4AEwCw/5f/9/9DABUAvP+p/9z/GQA/AOf/cf/M/2UAUQDl/5X/nP8LAGsANgCY/4P/JQCUAHEAFAABACIAcgC/AEYAy////2QAeAAWAMn/z/8ZADQAEACj/1b/+v80ANP/i/9d/6X//f8gAAwAqf+K/yQAWgAUAOD/of/k/ycAGwDP/3n/1v9GACMArf+l/wgANABEAAgAwP/h/zsAbgArAOX/CABJAE0AMgDc/6z/GgBoADoA1f+2/wIATwBTAAkAz//D//7/OwDw/63/0P/7/xsA7f+r/8r/5P81AGEAu/9u/9j/LQBFABcAlP+B/9n/PAA5AGz/bf8MABwAFQAAAMT/5P9TAHgAJgCy/wAAmwCPAE8AFgACAGwAwQB+AAAAz/8qAFgAPwAfAMz/3P8UAEUAHgCW/3v/vf8RAPX/l/9y/8D/GAAEANX/kf+p/wwANgAAALf/1f8PAFcAWwD1/9D/4v8uAHgALgDy/wsASgCvAIAA7P/k/xIATQBdAOL/p//f/x4ANwAEAML/x//v/ykAMAC2/5j/6/8yACMAwv+V/6j/BgAXAL//j//C/ysAJQAGAPL/u//p/0MAQAD3/6z/yP/7/xgASwAZAN7/HwCaAJAANwAaABsANAA5ABsAxv/K/ycASwAWAJ//sf/o/ygAdAAEAKr/7f9WAHwAMwDr/9z//f8oABUA4P+t/9X/CgD8/xwAzP+S//T/GADp/5D/mf/g//n/6v+8/5f/wv9CAFsAAADb/wcASwCJAJQAFADb/ygAbgB+ABMA6P8BAAoARgAXANj/6P8HABoA2//A/8X/4v8kAAwA0f+3/8v/EAAxAA4Axv+T/8z/HAAXAMj/ov/G//3/KAABAMX/uv/2/zcAIADq//H/JgBHAE8AHwAPADMAZgBwABYAAAArAEEAVAAhANX/yv/f/xAA+P+n/6z/rv/O////8/+t/6L/5P/p//b/x/+x/9//+/8eAOf/t//v/xwA/f/0//T/8v8SACMANQADAAIATgBnAFMAJwA1ADMAHAAMAP3/GgAdADYAHgDi/w8AFgD4//H/3v/U/8T/tv/G/7f/rf/t/+b/y//v//X/AwD7/+X/3v8EACEA+f/u//D/CwDp/+L/IgDc/7L/8/8GAPj/BgAkAAYADABSAEAA6//m/y8AKQD8/w4A/f/s/zcARQDJ/5X//f9KABwA9P/n/8P/CQBgAEYA8v/p/zEAEQDo//j/DQAzAFkAMADN/+//VQBkABIAxv/E/9v/BwAvAOP/bP+m/wUAIgAFAMb/s//Y/1AAUwDk/8L///9hADAA6//Z/7n/HAByAAkAov+9/y4AawA4APX/qP/f/3YAXQC6/27/5f88ACgABgCf/6b/MQBfAA4Al/+9/yUAKAAfANH/iv/2/2cASgDI/5X/9f9EAHAAKQCu/9v/ZwCmAD4A+P/1/w8AcABQAO//sP+8/yAAGwDX/9L/z//z/zIAAwDK//T/PAA6AP//3f/V/xMALQANAO7/wf8JAEcALgAeANf/zP8YAD0AFQCz/63//P8cAAAA0v/C/+D/EQAGAMD/sf/r/xUANgAcAMD/sf/W/xsAKQDX/8T/4v8LACMAJgAbAB0ANQApACwAKAAOABcALAAPANT/0f/2/xkACwDk/8j/rf/s/zgAGgDt/9f/8/89AEEAFwD3/+z/IQA0APj/6//9/xIAWABYAO//wP/8/0EAOwDl/6T/rv/f/yIACgCd/47/y//5/wIA2P+e/5P/6f8vAOn/i/+G/7T/5P/5/8z/kP+b/+X//v/Y/9r/9/8VAC4AGQDz/wAAUwBpAAoAw//y/0cAcgBrABcA2/8JAF8AcwAgAOn//f8UACUAIgACAPz/HgAUANn/yf/v/xIADgDp/9v/BAAZAB8ADADk/wEAAwD3/xMA2/+8//3/FgAJAPv/+f8XABYADwAlAAsACAAsABgAAAAOAB4AJQAwACYACgAAACQAUQBEABQA4f/Z/wkAPwA5AO7/yf/Q/9j/AAAIANT/u/+4/9T/AgAKAP7/0v+//+z/AgDq/9r/5//t/+3/5//X/87/3v8NAB0AAQABAAcAHgBNAC8ABAATADcAUAAcAP7/IwArADsAOgAQAOT/6v8/AE8AFADZ/6//5v8+AFIADgC9/83/EAAVAPb/3P/U/wEAFQDs/7f/3P9MAE0AAADA/83/LQB7AGAA4v+1/wgAYwBTAA8A7f/Y/xAAOQAYAPz/CwAzAAsA3//w/w0AIwAjAAQA0f/d/ycASAASAMX/pv/b/0MANgDV/47/of8hAFQADACX/3T/4/9VACkAjP9n/8P/SgBdAL7/dP+6/zQAZAD0/4L/nf8KAFMAAABi/2D/1v8tAP//fP9b/6P/DgAjAML/aP92/+T/GgDp/5r/jP/l/zoAPAD3/8n///9QAGAAIADM/8//NQCBAGoACADg/ykAagB/AEwA6P/J/w4AZgBwADAA2v/k/0EAggB0AAUAxv/6/zkARQAaAMH/tf8VAFUASADx/8v/AAAnAC4A/v++/9X/HAAwABMA5P/o/xEAMAA6AAYA1v/p/x8APQAhAPH/5/8eAGsAWQD4/9r/BABUAIUASwD9/+b/GABkAEoA/f/v/wMALQBBABAA6v/5/x8ARgApAOL/0P/k/yIANADm/6n/rf/1/0kAUQDu/6T/2f84AG4ALADQ/8n/9/8oABkA5P/a//z//f/m/+X//P8pACkA9//P//T/RABBAAAAvf/N/w8AJgANALf/n//S/wIAAADK/7//1f/v/93/rf+p/93/DwAEAMb/jv+y/w8ARQACAJj/iv/N/x0AEQDF/4v/pv/+/xIAz/+L/5r/2//9/93/pP+g//H/KAAIAMr/n//f/zYATAAGAKX/uf8jAIkAdwD2/6X/zP9DAIcANAC2/5P/4f9YAFkAAADB/9T/GQAlAAYA2//Y/xEAFwDt/9j/8P86AF0AJgDb/63/5/9LAF8AHAC8/6b/6/9NAF4A/P+x/8f/EABGACkA4v/J//L/LwAyAPr/6f8GACMAKwAWAAUAGAAvACwADwDr/+X///8cACMA/f/W/+r/KABeAGQAEQDD//L/RABwAEYA7//j/x8AYAB0AD8AAwAuADkAHQAWAAMANQBIACQA5v/A//3/QAAxANH/ov+m/+z/PAA7AAsAzP/d/xUALgAgAP//1v/R/wEADwAUAAkABAANAO//5v/+/xEAEgDr/67/tv/z/yQAFgDa/7//yP/0/xMADADo/83/2P/s/wUAIwAsAPn/xv/F/+r/HwAeAPX/vf+u/+r/JAAyAAoAv/+G/53/7f8kAAwAvf+Y/7T/+f83ADsAGQD0/9z/6P8cAFEAYQAjAMH/sP/p/zIAPgD1/6v/lf/B/xEAOwAiAPj/zv/O/xUAYwBzAC4A2f/Q/xcAXABfAA4Atv/I/w8APwA3AP3/5P/s/+X/8P/+/wQA9/+t/4L/sP8QAF4AQwDL/3b/pf8iAHkAVADf/4v/nv8AAFIAUAD//7L/nP/P/yMAQwAVAND/sv/H////GgAIAOf/zf/Y//n/HAA/AD0ABQDf/+X/GABJACkA+P/T/+D/GgA0ACkAAQDQ/8///f8kACwACQDg/9v/9/8tAE8AMwD5/9j/3P8JAEAARwAbAOL/1P/v/xIAMgA2AA4A5f/i/wAAOgBjAGEAJwDt//f/JQBVAFcAHwDa/9D/FQBSAEwADQDP/8T/7/8tAC8A8v/A/8b/AAA8AEEADADb/+b/EwAcAAUA7f/m//L/+P/0//H/AgAWAAAAz//G//P/KwBDABkA3//N//3/RABNACEA+f/y/wUAJgAxACEACQDw//f/AQAHAAwA6f/R/+D/5//f/9X/3v/5//j/2v/Q/93/AAAaAAAA1f/N/+3/HgAtAAQA0v++/9L/9//y/8n/qP+0//T/KgAcAOz/0//n/xcAKQAJAN//3f8AABsADwDw/+T/7//8/wAA3v/F/9j/7f/1/+3/2v/X/+f/BQAQAPD/2f/y/xsAKwASAPT/9f8VAC0AIgAIAP7/CwAgACsANQAxAB4AGgAjADQAOgAjAAwAAwAGAA0ACgAHAAUA///w/+n/9//6//D/6f/a/97/9v8PACEADgD+/woAJABIAFIAMgAIAPb/BgAiADMAIQD4/93/7v8bADQAJwAAAOL/8v8pAEoANwACAOD/6v8HABwACwDj/9r/6P/x/+b/1P/d/+n/4v/H/7D/wf/i//v/9//c/8r/2v8KACwAFwDZ/7//7P8xAEkAFgDg/+P/DwA3ACMA7v/W/+7/DQAQAPr/9P8LABkADQDt/+n/FgAyAB0A4P+7/93/HQBFACMA0/+u/9z/FwAgAPX/t/+n/8v/+f8EAOH/xP/L/+7/DwAOAPj/5v/v/wIAAQD3//3/BgACAP7/9P/t//f/AAD+//P/6f/u/wUAFAAMAAMA9P8JADAALgAgAAUA9P///w8AGgASAAAA/f8MAB0AHwAVAAgADgAcAB8AJAAqACUAHwAgACEAJQAfABoAKAAoAB4ACgD//w4AGAAAAOH/3P/k//T/9f/Y/87/0f/k/wEA+f/i/+D/6f8PACoAGQAVABkAGAAfABUAFwAoACUAGwAOAAUAFAAdAA4A/P/t//H/CwAXAAkA8v/q/wEAFAAYABUABwD//////P8EABAACwAHAAUABQAWABUAAgDz/+D/2f/j//P/BgAJAPT/5//y/wAACAADAPj/7P/p//L//v8NABEACAAAAPv/BAAUACgALwAfAA4ADwAmADUAJgAHAO//6//w/+//3v/R/9b/5P/2//7/9//7/wYADQARAAoAAgAPAB4AIgALAOb/5P/9/wwAAADi/9n/5//7//z/5v/U/9z/8v/8//v/9f/3/wEACAAIAAQAAgAHAAkAAgAIABYAGAAUAAoABAAIAAEAAQD7//H/AwARAAQA8f/s//3/EQAQAAAA+P/8/wwAEAD4/+T/6f8AAA4A///k/9z/+P8eACMABADy//3/DgAQAPL/3P/j//3/DwD9/+X/8f8WACoAHgAIAP//DwAsADQAKQAeABcAHQAhAA8A+v/o/+P/7f/v/+v/4P/d//P/CQAKAO7/1v/g//P/AADz/9X/yf/a//n/BgACAAEAAgD//wQABQADABMAGQAPAAAA+f8IABgAGQATAPr/4P/p//7/AgD7/+H/z//O/9X/6//s/9f/0//m/wMAEwAIAAAACgAWABkADwAJABYAIQAbAAQA+f8KACkAOQAmAAMA+v8PACgAHgD3/9v/4f/8/wcA+P/b/9T/7P8AAPv/5//f/+r/8//k/9n/6P/4/wAA9f/k/+v//P8AAPX/6v/z/wUACAD4/9//zv/X/+X/5f/k/+P/7P/2//X/8v/0//j/AAADAPn/7v/x/wYAIAAcAAQA8f/2/xAAHAAGAO3/7P/+/wMA9v/r//j/DAAZAA8A/v8IACQALwAaAPr/9P8FABEAEwAJAPv/AAASABwAJwApACMAJQAnAB0ACwABAA4AHwAiAB4AHAApADwANgAYAAIAAAALAAsA+f/r//D/9v/0/+z/4//m/+7/8v/3////BgANABIAEQAPABYAIAAiABQAAgACABEAIQAnACAAGQAiADYAOwAtABgAEQAdACYAIQAXABUAHAAWAA8AFgAfABcAAgD1//f/+P/v/+L/1f/V/+H/5f/Y/8r/0f/d/97/2f/S/9v/8f/4/+3/7f/9/woABQD7//z/AAD7//X/8v/y//X/9f/w/+7/8//0/+3/5//j/+P/7f/u/+L/3//m/+r/5f/e/9z/4//w//T/8//4//j/8//5/wIACAALAAwACwAHAAgABgADAAUAAAD1//f/BAAJAAUABgALAAkABgAIAAIA/f8AAAEAAwAPABYAEgANAAsADQATABkAGgASAA0AFgAbABgAEwAJAAIABAAHAAYA/f/w/+j/5f/l/+T/4P/h/+X/4P/V/9L/1//e/9r/0//W/93/5f/w//f/+//6//b/AgAgADIAKgAcAB8AKQAnABYAAAD6/wsAIAAkACAAJAAtACsAHQATABUAHAAdAA8AAAAHABwAHgAUAA0ACQAHAAoADwAKAP//9//2//7/CAALAAkADAAQABgAHwAgABcABAD9/wYAEQAYABkAEgANAA4AEgASAA0AAQD0/+n/4//j/+b/5v/e/9D/y//R/9v/4v/b/9P/3P/p//H/8f/m/+D/6f/y//X/9//9/wIAAgD//wAAAgAAAP7/+//8//r/9P/z//X/8//x//L/8f/4/////f/6/wAACwANAAMA+//7/wEACAAFAP3/AgARAA4AAAD9/wMABQD8/+//6v/x////AgD3//D/9f/+/wwAGAASAAYACwAYABwAFAAEAP7/CAARAAsABQAOABYACwD1/+L/5P/6/wcA+P/h/+L/+v8LAAIA8f/v//z/BQAGAPz/7//t//H/9v/5//f/7P/i/+n/7//x//X/9//z//L///8QABcAGwAiACkAKgAlABwAGAAVABEADwATABcAFgATABMAFQAYABgAFwASAAoAAAD8/wAAAgADAAYAAwAAAPz/8//n/+D/4//p/+7/8P/x//L/9v/6//r/+v/4//b/9f/y//L/+P/9////AwAKABIAGgAeAB4AGgASABMAHQAfABMACQAMABkAHAANAP7//f8GAAEA7v/l//H/BAAMAAMA9P/0/wUAFQAZABAACQAPABkAFgAMAAUAAQD8//j/9f/q/+L/5//t/+3/7v/z//v/AgADAAAABAAQABIABAD6//r/+//9////9v/k/93/7f///wMA9//s//X/CQAQAAAA8f/q/+T/5P/q/+j/3v/a/97/3P/V/9n/4//o/+f/5f/q//T/+v/5//f/9f/w/+//8f/1//j/+f///wQADAAUABwAJgAtACoAIQAcAB8AIwAfABMABgAAAAAA/v/5//P/9f/6//j/9f/0//f/AAANABAAAADu//D///8AAO//3P/Z/+r/AAAMAAoABgALABIAEAAAAPD/7v/5/wMABgADAAYAEAAbABoADwAKABEAGgAeABwAGgAcACEAHwARAAMA/v////z/8v/o/+b/8v8CAAsAAwD5//j/AQAMAA0ABQABAAsAGQAeABgAEQATABsAHAAXAA4ACQANABIAEAAEAPf/8f/w/+v/4//e/+H/4v/d/9j/0//S/9b/3//s//r/BQANAA8ADwAQAA8AEgAVABYAFgAUAA8ACwAMAA8ADwANAAoADAAUABsAGwAXABcAGAAUABAADwAQABcAFwAJAP7/+v///wAA+//z/+v/6//y//n/AAADAAEAAAAAAAIAAgABAP3/8//q/+f/6v/u/+v/4v/a/93/5v/r/+r/5f/i/+j/9v/6//D/5f/g/+P/6v/v/+7/7P/z//v///8AAAAABAASAB4AIAAbABkAHAAiACcAIwAbABsAHAAcAB4AIAAbABUAFwAYABcAEgALAAcACgAKAP7/7f/i/+P/6f/u//D/7f/q/+z/7//u/+z/6//0/////v/2//P/9v/8/wIABQAHABAAHAAlACsAKwAnACMAHwAVAAgAAQAAAP3/+//2//X/9//7//7///8AAPz/+P/2//T/7v/l/+H/5v/0//v/8//i/9z/4v/q/+//7f/r//L/AAAMAAoACAALABAAEQAIAP//+//+//3/9v/r/+f/6P/o/+j/5v/n/+z/8//7/wAABwAOABUAGQAZABYADgAGAAQACQALAAkACAAKABAAEwAQAAoABgABAPn/8f/t//D/8//2//b/+P/7//r/9v/w/+n/5f/q/+7/7v/w//j/AgAGAAcABAABAAEA///6//T/8v/0//v////+//z//f8DAAgADQALAAwAFgAfACMAJAAiABwAFwAQAAYA+//0//L/8P/1//n/+/8AAAEAAAD+//3////+//r/8v/q/+f/5v/p/+//7//q/+3/9v8AAAcADAALAAwAEwAWABkAGwAcABYAEAAPABEAFgAWABMADAANABIAGQAdABoAGAAZABYAEQALAAcAAwD+//j/9f/0//X/8P/o/+f/7v/3//7/AAD//wAACAARABUAEAAIAAEA/f/6//X/8P/u//P//v8FAAIAAQAHABIAGwAbABYAFAAXABgAFAALAAQABgAKAAkAAwD7//T/8//2//T/8//z//X/9//1//P/8f/t/+b/4f/d/93/3//g/+X/6//2/wAABwAJAAcABgAHAAwACwAFAAQABgAGAP7/9v/w/+//8v/z//T/9f/7/wAABwAOABQAFgAUABIADQALAAkABwACAPv/9v/1//n/+f/3//P/7//w//r/AwAGAAQAAAD+//7/+f/v/+r/6//s/+X/3P/a/+T/8f/4//f/+f8AAA0AFgAWABQAGAAlAC4ALgAmABsAEgAOABEAEAANAAgABgAJAAwAEAARAA4ACQAGAAcAAgD7/+z/3P/R/9P/3P/g/+L/4//n//T/BAAQABUAGQAeACUAKgApACIAGQAOAAYAAAD7//H/5v/k/+r/9P/7//r/+/8AAAUADAAPABEADQAHAAAA///+//z/9//u/+n/6f/u//D/8//3//v/AQAEAAQAAAD9//z/9f/q/97/2P/W/9n/3//m/+z/9P/+/wUADAATABoAIwArAC8ALgAqACMAGQAQAAkACgAKAAYAAAAAAAEAAwAGAAgADQARABMAEgARABEAEAAOAAcAAQD9//j/7v/j/9//3v/i/+b/6P/r/+//9P/4//7/AwAIAAgABAABAAEAAgAAAPr/8//y//X/9P/y//H/9f/7/wEACQAMAA0ADQALAA4AEwAaABoAEwAPAA8AEQAXABwAHQAbABoAGwAZABMABwD8//X/9f/4//b/7v/j/+D/5f/r/+3/6//m/+T/6P/z/wEADgAUABIADAAIAAcACwANAA4AEQASABEADgANAAkA///1/+v/5//o/+j/5v/i/+H/4v/g/9//3P/a/9r/2v/b/97/5v/r/+z/7//y//z/CQAUABYAFgAVABQAEQAKAAEA+v/2//f/+f/4//f/+f/9/wIACQAQABcAGwAfACEAIgAhACAAHgAcABkAEwAMAAgABgAHAAoACgAMABIAGAAbABsAGgAVAA4ABwADAAEAAQAAAPr/8v/p/+H/2v/Z/9//7P/7/wcADgAPAAkAAgD+//7/AQAAAPn/8//w//H/8//x//D/8f/z//X/9//9/wIAAgD+//j/9P/x/+7/6P/h/9//3//h/+X/6v/x//b/+f/+/wMABwAGAAQABgAJAAsACgAFAAMAAAD6//L/6//o/+j/6v/o/+f/7v/1//n/+/8AAAYACAAIAAgACwAPABQAFwAbACMAKgAuAC0AKwAsAC8ALgAlABcACgAFAAYABgADAP7/+v/5//b/8P/s/+3/9v8AAAsAFQAeACUAKQAnACQAJAAhABYABwD7/+//5f/g/9r/1v/W/9r/3//i/+P/4f/g/+H/4v/i/+L/3//c/9z/4v/o/+3/8//2//r//f/+////AAAFAAoADwAVABkAHQAeAB8AIwAlACgAJgAgABkAEgARAA8ADAAMAA0AEgAYABwAHQAfACAAHgAYAAwAAAD4//X/7v/l/+H/4v/m/+v/7v/t/+v/6v/p/+r/6v/n/+P/2//T/83/yf/K/9D/2P/h/+r/8P/1//z/BwASABsAIAAhACQAKQAsACkAJAAZAAwAAgD6//X/8f/u/+7/7f/v//T/+v/8//3///8BAAUACQAMAAkABAADAAcAEQAVABMAEgASABgAHwAmACoAKQAnACMAIgAiAB8AGQASAAoABgAEAAEA///8//f/8v/v/+r/5v/k/+P/5P/r//X//f8BAAAA/P/6//j/9P/z//X/+v///wQABQAGAA0AEgAVABQAFAAWABYAEwAMAAwAEAAQAA0AAwD8//f/9f/1//j//P/9//3/AAABAAMAAwADAAQABAABAPr/8//y//j/AAAFAAcABAAAAP3/+P/4//n/+f/3//P/8f/s/+r/6v/r//D/8//z/+//6v/o/+3/9v/6//r/+//6//j/+v8AAAQACAAHAAAA/f/4//D/6f/j/97/3P/e/9//4f/k/+T/5P/p//L//v8HAA4AEgAaACAAIAAdABMABwAAAPz//P/9/wAA///+/wAAAAD//wAAAAAAAAAA///7//f/9P/u/+//8f/z//b/+f8AAAgAEQAcACYAMAAyADIALQAmACIAHQAYABMADgAMAAsACgAHAAcABwAJAA8ADwANAAsACQAKAAkACgAIAAkACAADAAQABgAHAAQA/v/7//f/9v/w/+v/6//q/+n/5//h/9z/2v/c/9v/2v/a/9r/4v/u//n/AwANABQAFgAYABkAGwAeAB0AGgATAAsAAgD6//j/+f/9/wAAAAAAAAEAAQAAAAEAAwAGAAkACAAHAAkACwANAA8AEwAUABMADwAKAAUAAQABAAEA/f/2//D/7//0//n//P/+//z/+f/3//j/+P/7/wAABgAQABcAGQAVAAwAAQD3//H/7v/s/+j/5P/j/+H/5//r//L/+f/7//z/+f/1//X/+P/8/wEABQAKAA0ACwAHAAMAAwD///v/9//4//b/9//5//j/+P/1//L/8//y/+//7v/v//D/7f/t//D/9f/+/wUACwAOABEADwAQABYAGgAdAB0AGwAbABwAHQAdAB4AHAAZABEABAD7//b/9P/y/+3/7f/t/+r/6P/l/+f/7f/3//z//f8AAP3/+//8////BAALABAADwAMAAkAAwD7//D/4//Y/8//yv/H/83/1//e/+j/8P/4//7/AwAJABIAIgAsADIAMwAxADMAMQAvAC4AKwAnACAAGQAUAA4ACwAJAAYAAwD///z///8DAAEA///+/wAAAgAFAAgADAAUABwAJAApACwALgAvACkAHgAQAAEA+f/x/+n/3//W/87/yv/M/87/zv/R/9b/3f/k/+v/8v/7/wkAEwAcACMAKQAwADMANAAsACEAFQAGAPr/7f/k/9v/0P/I/7//u/++/8T/y//O/8//z//Q/9v/6f/2/wIACwAQABYAHAAgACgAKwArACcAJAAhABwAFQANAAUA///4//D/6//r//P/+v/7//n/9//4//n/+v/8/wAACAAPABMAFgAYABgAFQAPAAYA/f/2/+7/6P/k/+P/5//r//H/9f/3//L/6//j/9z/3f/i/+z/+/8IABAAFwAeACMAJwAuADMAMAArACYAIwAjACIAHAAZABkAEAAEAPn/8//w//D/8f/2//7/BAAOABsAKgA2AD4APQA8ADoANwA4ADUALwAqACUAGgAPAAUA/f/z/+j/3P/O/8b/vv+4/7P/sf+0/7n/xP/Q/93/6P/v//D/8v/y//X/9//4//r/+v/8//z///8AAAAA///5//L/6//n/+D/2//a/97/5v/x//v/AwALABIAFQAVABgAFwAVABQAEgAQAA8AFQAdACUAJwAjABoACgD9/+v/3//Z/9P/0P/N/8z/zv/S/9r/5P/y/wIADwAeACsANQA/AEUASQBHAD4ALwAfAA4A/f/w/+n/5f/g/9j/0//S/9b/3f/m/+7/8P/z//j/AQAMABYAHgAjACgAKQAnACYAIAAXAA4ACAAEAAMAAAD5//L/6//l/+X/5f/m/+f/6P/q/+r/7//3/wAACAAIAAoAEAAVABUAFwAYABUAEAAHAPz/9P/y/+z/5f/d/9b/0//W/9r/3P/d/97/4f/l/+//+v8EAAsADgASABMAFgAZABkAHgAjACQAIgAgABsAEQAIAAAA+v/1/+3/5P/c/9v/4f/n//D/9/8AAAUACAAIAAkADQAUABsAIAAoADIAOQA6ADkANgA1ADQALQAiABQACgABAPn/7f/i/9r/1P/T/9T/0v/S/9f/2v/h/+r/8//8/wcAFAAfAC0ANwA8ADsAOwA4ADEAKAAcAAwA/P/s/97/2f/X/9f/2P/b/97/4//q//P//f8DAAUABQAFAAgADAARABMAFgAZABgAFQALAAAA+//4//P/8P/t/+b/2//R/8v/yf/K/8r/y//S/9//6v/2/wIADQAYACEAKwAwADQANQAyAC8AKwAoACEAFwAHAPf/6f/h/9j/zv/F/77/uv+9/8j/0//f/+j/9P/+/wgAEwAaACQALQA0ADUANgA6ADgANgA0AC8AKgAoACYAIgAfABsAFQAPAAoABQAAAP///f/7//z/+//4//L/7P/l/93/2P/U/9H/zP/H/8j/zP/P/9L/0//Q/9D/0//W/9X/2f/d/9//4//k/+T/5f/m/+f/6P/t//b///8FAA4AFAAaACIAKgAvADEAMwAzADEALgArACgAJQAkACEAHwAfAB0AGgAZABsAGAAUABYAFQAVABcAFwAYABoAHQAcABwAHAAZABcAEAAIAAEA//8AAAAA/v/7//z//P/5//b/9P/7/wAAAgAAAPv/9f/t/+j/5v/j/+H/4v/i/+L/4v/h/+T/6f/t//P/9//1//H/7//v/+3/6v/p/+3/9f/+/wgAEgAbACEAIgAfABwAGwAYABcAFQARAA0ADAAIAP3/8P/h/9b/0f/P/8z/yv/M/8z/0P/W/9v/4f/o/+z/9P8AAAgACwALAAcABwANABQAGgAfAB8AGwAVAA8ACwAFAAEA+f/z//D/7f/p/+P/4v/n/+3/8v/1//n//f8AAAEAAQAAAP7/+v/6////BwAQABwAJQArADAANAA2ADQALgAiABMABQD8//b/9f/5//n/9//3//v//f8AAAEA///8//v/+v/7//3//P/+/wAAAQACAAEAAQD8//T/7f/o/+b/5//s//L/+/8CAAcADQASABUAGAAaAB4AIgAgABwAGgAVABAAEgATABYAGgAVABEADgAOAA0ACAAAAPX/7P/i/9z/2P/W/9b/0//Q/9D/0//X/9r/3P/f/+X/6//t//X//f8CAAUABAAGAAUAAgD+//v//f8AAAMABQAFAAEAAgAGAAkAEgAZABsAHAAbAB0AHgAgAB8AHQAdABkAFAALAAUAAQD9//3//v8AAP3/9//y/+z/6//t/+7/8P/z//n///////z/+P/3//f/+f/5//b/9v/6/wMACQAPABUAFAAUAA8ABgD9//D/5f/a/9P/0P/U/9z/4//u//H/8f/z//f/+//7//j/9f/1//n//v8BAAYADQAcACgALwAwAC4AKQAiAB4AFwAQAAgAAQAAAP//AAD///7/AAABAAMAAAD7//n/+P/4//r/+//4//b/9v/y/+7/5v/g/93/3f/c/9v/3f/h/+j/8v/5//7/AgADAAQAAgD+//r/9//0//L/8f/w//T/+/8DAA4AFgAbAB0AHgAdABYADwAJAAcACgAMABAAFQAgACwANgA8ADoANgAvACkAJAAfABgAFQAUABIAEgAUABcAGwAcABcAEwALAAQAAAD7//X/8f/z//T/+f///wIACQAQABoAHgAeAB0AGQAYABYAEgAJAP//+P/4////AAADAAQAAAD5//H/6//m/+D/2P/W/9f/3P/n/+//9P/6/wAABgANABEADgAIAAMA//8AAAAA+//0/+z/5//i/9//3f/d/9z/2P/U/9D/0P/S/9T/1P/V/9v/5P/r//P//P8CAAcADAAVAB0AIAAeACAAJQAoACoAKgAiABwAGgAWABEACwAGAAQAAgACAAQAAwD///r/9f/v/+3/7P/p/+X/4v/i/+L/4v/i/+T/4//j/+P/4//k/+D/3v/c/97/5f/t//X//v8DAAUAAwABAP///f8AAAMABgAHAAYACgAPABUAGQAbABsAGAAUAAwABQD9//X/8P/r/+b/4P/d/9z/4v/s//b/AAAFAAgACAAGAAcABgAHAAsADAANAA4AEwAaAB4AHwAcABcADAAAAPj/7//r/+n/7P/x//f/+v/+/wIAAAABAAEAAAABAAIABQAFAAYACAALAA8AEAAQABAADgALAAgABQAAAPn/9P/t/+v/7f/2//z///8GAAoADgANAA8AFAASAA0ABgAAAP3///8HAA0AEAAWAB8AJgAmACYAJwAmACQAIwAjAB0AFAAQAAwACQAGAAoADgATABsAIAAlACYAJwAnACUAIgAiACQAIgAfABUACwAAAPX/8P/p/+H/2v/W/9H/y//J/8f/xP/H/83/1v/a/9f/1f/S/9T/2f/h/+v/7//y//f//v8BAAEAAAD///3/9//0/+3/5P/g/+D/4v/g/97/3P/e/+D/4f/j/+X/6P/r//L/9f/0//X/+f/8//3//v/9//v/+P/3//b/9v/6//7/AwAIAAwADwATABcAGwAeAB8AIQAiACUAIgAeABoAFgAUABEAEQAPAA4ADgANAAsABwAIAAkACgAJAAYABQAHAAUA///6//b/9v/5//r/9f/y//T//f8HABEAGQAbAB4AHgAbABUADAAFAAIABAAGAAYABAABAAAA/f/7//r/9//0//L/8v/0//f/9f/0//f//f8CAAcACgAIAAgACwANAAwACQAFAAQABQAFAAUABAAJABEAGgAbABgAFQASABEADAAHAAIAAAAAAAMABQABAAAAAgAFAAcACgAHAAAA+v/4//f/9v/5//z/AwAHAAsADwASABYAGgAfAB8AHQAYABUAFQATABQAEwAVABkAHAAcABQADwALAA0AEAAOAAcA///4//H/6f/h/9z/3P/j/+j/7f/v/+v/5//j/+T/5P/m/+b/5v/k/+D/3P/Y/9j/2v/d/97/3f/b/9z/4P/i/+T/5P/l/+n/7v/z//T/8v/v/+v/5//l/+f/6v/r/+//8//y//T/+P/8/wAAAwAGAAcABgACAAEAAgAFAAcABQABAPv/9v/0//P/8f/w//X/+/8AAAYACwAMAAwADQAPABEAFAAXABUAEgAOAAoACAAHAAgACgANAA8AEAAPAA4ADAANAA4ADgAQABAADgAMAAoABgABAAAA/f/7//b/9f/4//3/AgAEAAMAAAACAAMAAAD4/+//5v/e/9r/2//e/+L/6v/z//z/AQAEAAMA/P/0/+3/7P/q/+n/6v/n/+T/5//y////CQASAB0AJgApACkAIwAcABkAGgAfACQAKgA0ADsAOwA3ADQAMAArACkAJgAjACAAHAAbABgAGAAZABsAHAAeACEAHAAYABUAFAAVABIAEQASABQAFQAWABYAFAAUABYAGgAaABkAFwATAAsAAQD6//X/9P/3//r//P/7//f/8//u/+r/6v/r/+n/4//Z/9P/0v/S/9T/1f/Y/9z/3f/d/9v/2//f/+b/7P/u/+//8P/w//H/8f/0//f/+P/5//j/9v/2//b/9f/0//H/7//v//D/8P/w//P/+v8BAAYABwAJAAoABwABAPz/+f/8/wAABQAJAAkABgABAP3/+f/5//v//f///wIABAAEAAMAAwAIAA4AEQAPAAsADAALAAgAAwAAAAUACgAJAAQA/P/2//X//P8AAAAAAQAGAA0AEAAQAA4ADAANAA8ADgAMAAoACwALAAQA/v/6//7/BAAHAAoABQD+//r/9P/w/+v/6f/o/+b/5//o/+T/2//V/9H/0P/P/83/zP/M/87/0//Z/+D/5//w//X/9//6//3/AAAAAAAAAwAIAAkACQANABIAFgAXABcAFgAVABcAGAAZABgAGgAZABYAEAAMAAwABwABAPv//P8CAAsADgAPABEAFgAbABwAHQAbABwAGQARAAsABwAJAA0AFAAcACEAJAAnACgAIwAeABoAGAAZABwAHgAaABYAFQAcACUAKgAuAC8ALQAmABwAEQAFAP7/+f/6////BQAIAAUA///3//T/8v/v/+3/6f/l/+T/6f/s/+//8//8/wQACwAKAAQA/v/1/+3/5//k/+v/8//6//7/AAABAAEAAQABAAUACgARABQAEAALAAcABwAJAAwAFQAjAC0AMwAzADAALAAiABcADwAJAAgABQABAAEABAAFAAUACAAMAAsACAAGAAIA+//w/+P/1//Q/9H/2P/g/+f/7P/w//D/7v/s/+j/4f/Z/9X/0//Q/9D/z//Q/9b/3P/i/+f/6v/p/+P/2f/P/8f/wv+7/7r/v//J/9P/3f/j/+b/5//o/+n/7f/v/+z/6f/m/+n/8v/+/wsAGgAlACkAJwAhABoAEwALAAUAAwAFAAcABgADAAEAAAD+//n/9f/x/+//6f/j/97/3P/c/+L/6v/x//j//v8CAAIAAQD///v/+f/3//P/7//x//b///8HAA8AFAAYABgAGQAZABgAGAAYABsAHgAmADQAQgBKAFAAUQBQAE0ARgBAADsANgAzADMAMwAzADMAMAAuACsAKAAkAB4AFgANAAMA+v/z//D/8P/z//f/+v/8////AQAEAAQAAQABAAIA///6//n//P8DAA0AFgAaABkAEwALAAYAAgD///v/9//z//H/8//3/wAABgAFAAIAAAD///3/+f/5//n/+P/3//T/8f/t/+7/9P/6//3/+//5//b/7//o/97/2P/a/+H/6v/y//r///8CAAYADAATABsAIgAmACYAIwAfAB4AHAAVABAADwAQABIAFQAXABgAFwASAA0ACAAGAAgADQAQABAAEAAOAAoABgACAAAA/P/6//L/5//f/9r/1f/Q/9P/2v/i/+T/4f/Z/9P/0f/R/9L/0f/Q/9D/0P/Q/9P/2v/e/97/3f/a/9b/1v/X/9v/2//d/+T/8P/9/wQACQALAAoACgAHAAIA/f/4//b/8v/y//f///8GAAsADgAOAA0ACQAEAPz/9P/y//L/9f/3//r///8CAAoAFAAdACMAJQAmACoALwAwADEAMwA2ADsAOwA1AC0AKAAkACAAIQAkACgAKAAhABMAAQD5//j/+//+/wAAAgABAP7/9v/w/+//8//2//f/9v/y//D/8f/y//L/9f/+/wYADgAPAA0AEQAZACEAHwAZABQAEAAOAAgABAAGAAwAFQAgACMAIQAdABcAEgAHAAEAAQAGAA4AEwAcACgANAA5ADgANgA1ADIALAAjABkAEwAMAAYAAgACAAQABAABAPj/8P/s/+r/6//o/+j/7f/y//X/+f8AAAgAFAAeACMAJQAiABcACAD8/+//4//e/9//4v/o/+z/7//z//f/9//4//z/+//0/+v/5v/n/+7/+f8GABIAGAAVAAwAAwD//wEAAgD8/+//4f/X/87/yP/C/7r/v//F/8v/zP/M/83/zf/V/9b/2f/h/+v/9f/7/wMABQAHAAcABgAEAAAA/v/y/+3/6P/l/+b/5f/r/+z/8f/v/+f/5//l/+n/6v/o/+P/3//f/+D/4//l/+z/9v8EABEAEwARAAsADAAOAA0ACQAFAAMAAAD+//b/6v/m/+X/5v/l/+X/5v/o/+//+P8EABIAGQAaABoAGgAXABQADwALAAgABAACAP7/+v/0//H/7v/p/+f/4f/Y/9T/0f/O/83/1f/h/+3/+P///wIABQALAA4AEAAVABoAIgAmACgAIgAdABsAFwAYABgAGgAeAB8AHwAbABgAEwATABgAHwAmACoALwA0ADYAOgA+AD8APwA8ADgAMwAsACQAIAAeABoAFgAQAA4ADgAPABAAEAAUABQAFAAUABYAGwAeAB8AFwAUABcAGgAdACAAIwAiACQAJAAiACIAJAAmACQAIwAjACUAKAArAC4ALwAzADEALAAmAB8AHAAbAB0AHQAaABgAFQAQAA0ADgAOAAwABwAAAPv/+f/6//z///8DAAMAAAD//wEABgAIAAQA+//0/+//4//W/8X/uf+x/7D/sf+s/6n/rP+y/7n/wP/D/8f/zf/P/9X/2//j/+j/7v/y//f//v/+/wAAAgABAP7/+v/4//T/7P/k/+D/4P/i/+X/4P/Z/9L/zf/Q/9b/3P/g/+f/7f/u//H/9/8AAAcACwALAAgACwAIAAAA+P/z//D/7v/o/+H/3f/b/9n/1P/P/8//0f/S/9H/zf/I/8r/0f/a/+X/7v/4/wEACAANAA0ADQAOAAwACQALAAwACgAFAP7/9P/w//T/+///////AQAEAAcABwAFAAkAEQAdACYALwA0ADcANwA3ADYANgA1ADEALQAmAB8AGQAaACAAKAAuACwAKQAjABsAEgAMAAgABAAGAAYABgAJAAsAEQAbACMAJwArACoAKgArACwAMQAyADUANwA2ADIALAAoACQAIQAaABMADAALAA0ADQAMAAsADAASABIACQAAAPj/9f/2//b/+f/9/wAABQAIAAoADwAQABIAEwATABQAFAAWABcAFgAVABcAGAAYABoAGgAYABoAGgARAAUA/P/4//r///////7/+//2//L/7//v/+3/5//j/+D/3v/a/9b/1P/W/9n/2//a/9j/1//U/9D/z//M/87/1P/W/9n/2v/a/9n/3v/k/+3/8P/z//n//v8EAAcABwAMABkAHwAhAB0AGgAaABcADwAEAPv/8f/s/+j/5v/l/+b/5//m/+b/4v/g/+D/5P/n/+j/5//j/+L/4//p/+7/7//u/+v/5v/g/9z/2P/V/9L/0v/V/9n/3P/d/9//3v/a/9r/3v/p//b//v8AAAQACQAQABAADQAKAAsADwARAAwAAgD9//f/9v/7/wEABAAEAAwAFAAYABoAGQAbACEAJwAnACgALQAyADYAMgAsACEAGQASAAwAAwD4/+7/6P/p/+j/5v/h/93/4P/m/+f/5f/i/+b/7v/z//T/9f/5//z/AwAKAA0AFAAbACAAIwAgABoAFwAaAB4AIQAiACQAJwAmACIAHgAYABAACQABAPz/9//v/+v/6f/o/+j/5f/g/9n/2f/b/9j/1//Z/+H/8f/9/wUADgAbACUALgAyADEALgArACoAKQAmABwAFwAXABUAEAALAAgACAALAAwACwALAA0AEgATAA8ACwALABIAGQAcABsAGAAeACUAIwAaAA4AAgD5//j/+f/8/wAA/v/9////AgADAAEA///9/wAA///7//v/AgALABQAGwAgACYALQAwAC0AKwAlABsADwACAPX/6f/d/9v/3//h/+H/2//Z/9v/4v/s//D/9P/0//n/AQAHAA0AEAAMAAUAAQD7//L/5//b/9T/0v/Q/83/yv/I/8j/zP/R/9X/1f/R/83/zv/Q/9D/1f/f//D/AAAKAA8AEwAXABoAGQAYABUAEAAHAP3/8//r/+f/6P/t//H/6//n/+b/7P/x//X/9f/8/woAEgAZABsAHQAaABYAEQAIAAMAAAD9//j/9P/v//D/9v/9/wcADQAQABEAEgARAA4ADQAJAAUAAwAAAPv/+v/6//z/AAAAAP7//P/5//f/+f/9/////P/9/wEABwAFAAAA/f/+/wUADAAQAA4ACgAJAAgADQARABYAHQAkAC4AMwA0AC8AKQAlACQAHQAZAB0AHgAgAB4AIQAnADAANwA1ADAAKwApACMAHAAVAAsABgAHAAoAAgD5//P/9P/7/wAAAwD8//f/+v/+//3/+f/5////CQARABQAEQAMAAYABAAAAPn/8v/v//H/9P/1//D/7P/r/+j/5f/g/+D/4//n/+n/7P/3/wUAEwAdACQAJwApACsALQAtACgAHAAQAAoABgAAAPD/4f/Z/9f/2f/U/8//yP/I/8b/w//J/9P/3f/n//X/AQAJAAsACQAIAAcACAAHAAEA+//3//P/6//l/+T/6f/q/+n/5//l/+L/4P/h/9//4f/n/+///P8KABUAGQAbAB8AIwAeABUACQD9//P/7P/i/9X/z//K/8X/xv/F/8P/wv/C/8P/x//M/9T/3v/p//T//v8JABAAGAAaABcAFQAUABMAEQALAAQAAAABAAIAAwAEAAIA///+/wQACgAOABEAEgAXAB8AJQAmACYAKQAuADAALgAoAB0AFwASAAwABwD///n/+f/9//7/+P/0//H/8f/1//b/9f/y/+z/6P/n/+r/7f/y//T/+P/+/wQACgAIAAcABwAHAAYAAAD/////AQAGAAkADAAQABMAEgARABAAEAAMAAQA+//v/+v/5//l/+f/6P/r/+//8P/s/+j/5f/o//D/9f/7//7/BQAMABYAHQAeACMAJwAtADAALQAmABYACQAEAAIABAAAAPz//f8AAAcABAAFAAwAFgAfACQAJAAjACoAMgAxACwAJAAdABkAGAAPAAIA+f/x/+3/6f/k/9//3f/d/9n/1f/W/+D/7P/4////AQAFABAAFQARAAsABAABAAMABQABAP7/+//6//v/+f/5//j/+P/3//T/8v/0//z/AAAFAA4AFAAXABcAEgAKAAgACAAJAAgABgAFAAAA///9//f/8//t/+n/4//c/9b/z//T/97/6//4/wEABgAIAAkADQAMAA0ADQALAA0ADwAPAAkAAQD4/+//6P/k/+D/2//f/+T/6P/r/+z/7//x//n/AAAGAA4AEAAPAA4ADAAKAAgABgABAP3/+//2//H/6//p/+z/8P/1//X/9//3//f/9//5//3///8AAAAAAAAAAAIABgAGAAgACAAJAA0ADQAQAAsABwABAP7/AAAAAAIAAAD6//n/+v/8//z/9f/u/+n/6//x//P/8v/w/+7/7P/r/+b/4P/a/9n/2v/a/97/3P/Z/9r/3v/m/+7/+v8EAAsAFAAWABoAIAAhABwAFgAUABcAHQAlACcAIQAcABcAEgAOAAoAAwABAAUACgALAAoACQAGAAkAEAAXABwAGwAYABMAEwAVABEACAABAPv/+f/7//z//f/9/wEACAAOABgAIAArADEAMgAwAC4AMAAuACoAJAAiABwAFgAPAAEA+f/2//L/7f/o/+b/5//t/+//7f/v//P/+P/6//n/+P/2//P/7//r/+z/7//t/+r/6v/u//X/+/8AAAYABwAHAAIAAQAAAP7/+//w/+z/7f/x//b/9v/3//f/+P/4//X/9//6//z/+v/0/+z/5//o/+f/5//n/+f/5//p/+z/7v/v/+r/5v/l/+b/6v/r/+j/5P/g/9//3f/d/+D/5P/n/+X/5v/k/+X/6v/n/+b/5f/i/+D/4f/l/+X/5v/r//D/9/8AAAUACAAKAA0AFAAcAB8AGgAUABIAFAASAA4ACwANABUAGwAfAB4AHwAdABoAGAATABQAGAAdACAAIgAnACYAHwAYABAACQAFAAIA/v/8////BAALABEAGQAaABsAIQAkACMAIgAfABsAHgAhAB8AGwAZABUAEgAMAAMA/P/2//L/8P/u/+//9f/6/wIABgAKAA8ACgAFAP3/+f/4//j/+f/8/wIACQARABYAFwATAAwABgACAP7/9//2//j///8EAAYACAAMAA0ADQAPAA8ADQAIAAQAAAD8//j/9P/0//T/+P/8////AQAAAP7/9//z/+v/6P/j/9z/2P/V/9v/5f/v//T/+v8BAAgAEAARABIAEQASAA8ADAAMAAkABgD///3//P/4//b/8v/v/+r/5//j/+H/3//h/+f/7//3//z//P/7/wAAAQAAAP///P/4//T/8v/v/+7/7P/u/+//9/8CAAoADgAJAAEA+f/0//H/8f/0//b/+f/+/wAAAQD///r/9P/v/+7/8f/x/+z/5//n/+v/7v/u/+3/8f/0//T/8//w/+//6f/l/+j/7f/2//z/AAADAAEAAgABAP7/9v/s/+T/4P/i/+X/5v/m/+n/7v/z//X/9f/1/+//6v/o/+f/6//x//f//v8HAA4AEwAYABoAGgAbABwAHAAZABUAFQAYABwAHgAcABgAEAALAA0ADwAQABMAFwAXABgAFgAVABoAIQAjAB4AGAAOAAUA/v/4//T/+P///wUADQANAA8ADQAKAAcAAAD9//b/8//5////AgAGAAkACwANAAoACAAHAAgACAALAA0ADQAPAA4ADAAKAAIA/P/2/+7/6f/n/+f/6//w//T/9v/2//P/7//w/+7/7f/y//n///8AAAIACQAQABUAGgAbABwAIAAjACQAIQAiACQAJgAnACIAGwAWABQAEQANAAwADAAOAA4AEQASABMAEQAOAAkAAAD7//X/8f/u/+3/7//s/+//9P/6////AgAFAAIAAAD7//f/9P/u/+3/7P/v//D/8f/z//b//f8AAAMABAAEAAIABgANABAADgAFAP7/9v/x/+z/5//l/+L/3f/Z/9T/0v/V/9j/3P/d/9v/0//M/8b/wf/D/8r/0P/Y/+H/7P/4/wUADgAQAA4ABgAAAPj/9P/0//L/9P/1//3/AQAEAAcABwAKAAkABQAAAAAAAwAKAA4ADwAPAA8AEAAOAA4ADwASABQAGAAZABYAEAANAA0ACQAGAAEAAAAAAAIABgAFAAUAAwACAAEAAwADAAEAAwAFAAgABQD///b/8//3//v//v8AAAIABgAIAAUAAQD9//7/AgAGAAYABQALABEAFgAXABQAEQAKAAYAAQD9//j/9P/z//b//P8CAAcACwAOAAwABQAAAP3/8//r/+f/5P/k/+j/8P/7/w0AGQAcABgAEAAGAPz/9//0//f/+v/+/wEABwAPAA4ADQAHAAMA/f/8////AAAGAAgACwALAAkAAwAAAAAA+//z/+7/7P/u//T/+P/4//j/+//9//3/+//4//T/8f/u/+j/6P/l/+X/6f/x////CAARABcAFwANAAIA+f/y//H/8v/2//v/AwALABAAFwAdAB0AGAARAAoACwASABoAIQAkAB4AEwAIAP///f/7//T/7P/p/+j/6P/u//X/9//4////AQAAAP7//P/4//j/9P/t/+j/5P/p/+7/9/8AAAYADgAUABgAHAAgACMAJQAoACgAJAAfABkAEQAMAAYA///2//L/9f/+/wQABgAFAAQAAwAAAPv/+P/1//H/8P/w//X/+//+/wMABQAEAAAA/f/6//T/9v/2//f/9P/u/+n/6f/x//b//P8AAAAA/f/5//r//P/8//v//P/+/wAABAAGAAIAAAD3/+3/6f/q/+//9P/+/wYAEAAXABMACwAGAAMA/f/5//L/5f/e/+D/5v/n/+j/5//l/+z/9P/6/wEACQAIAAIA///9//n/9//6//z//v8AAAEA/P/2//T/9f/1//v///8AAAIABAAFAAUAAwACAAUACQALABAAGQAhACYAJwAnACMAHgAWABAACgAEAP7/9//x//H/9//7/wAABQAHAAgACgAJAAQAAAD9//v/+//4//L/8f/1//f/9v/1//P/8//1//j/+v/7//z/+f/3//j/9//y/+z/6f/n/+n/7f/x//X//P8HABAAFwAcAB4AHAAXABYAEQANAAgAAAD+//v/AAABAAQABAACAAQABQAFAAAA/v/6//b/9P/0//X/9//4//v//v8BAAQABgAEAAAAAAAAAP7//v/+//7//v/9//v/9v/z/+7/6f/m/+L/4f/j/+r/8//8/wcADgAUABYAFgAUABEADwAHAAEA///8//3//P/8//3//f/8/wAABgALAA4ADwAMAAwACQADAP7/+P/0//L/9f/5//v/+v/6//3/AgAGAAkADAAPABAAEQATABEAEwAWABUAEAANAAcAAAD/////AAAJAA4ADwANAAcAAAD2/+//6//r/+r/7P/0//v/AwAIAAkACQAJAAoACQANABEAGAAeABoAEwAKAAIA/f/6//j/9v/x/+v/6//w//f/AAACAAQAAwAFAAgABQACAPz/9v/1//f//f8AAAQACQAPABIAEwATABAACAAAAPn/+P/7//3/AAAAAAQABwAOABMADgAKAAQAAAABAAIAAwD///n/9f/x//L/7P/l/97/2v/U/8//zP/H/8j/yf/O/9L/1//e/+f/7P/w//P/9P/1//H/8f/0/wAADAASABkAGgAcAB4AHwAcABgAFQAUABkAHQAdABwAGwAbABgAGgAcABYAEAAJAAIAAwAJAAwADwATABgAHQAiACMAIAAZABEACAD+//b/7v/r/+n/6f/u//T//P8AAP///////wAA/f/7//f/8f/w//D/8//x/+//7f/v//L/7//w//H/8v/1//j/+P/5//r/9//w/+n/3//a/9v/2v/Y/9r/3//j/+r/8f/2//j/+P/1//H/6//m/+L/3v/f/97/4f/m/+v/8f/2//z/AAAFAAsAEAAUABMAEAANAA4ADgAQABQAFAATAA8ACQADAAIAAQAHAAwAEQAXABwAHwAgACIAIQAgACAAHgAbABkAFwATABIADwAKAAYA///2//H/8P/w/+v/6v/n/+j/6v/u//L/+f8CAAoACgAEAAIABgAMABIAGAAcACEAIwAkACMAIQAeABoAFwAPAAQA///+//z//f8AAAcADgATABgAGAAZABYAFgAVABIADgAJAAMA+v/0/+v/5v/o/+z/7f/u//H/8f/x//H/8v/w//H/9f/4//r/AAAIAA4AFAAYAB0AIwAiAB4AGgAcACEAIgAfABoAEgALAAcA/v/y/+z/5v/m/+j/7f/x//H/+P8BAA0AGAAeAB8AIQAmACcAJQAjAB0AFAASABMAFAARAA0ABQD8//X/7f/l/9//2//d/+H/5//p/+3/9v/+/wEAAgABAP3/+f/2/+3/6P/m/+X/4f/e/97/3f/h/+H/2//R/83/zv/S/9v/4v/n/+z/8f/0//T/8v/x/+7/6//m/9//3v/e/+X/7v/z//D/7v/v/+z/6v/o/+j/6f/p/+v/8P/3/wMACwASABYAGQAXABMADwAHAAIA///+//j/9f/y//D/7//v//L/9P/6/wAABwAKAA0AEwAcACYALQAwAC0ALAAsAC0ALAAoACEAGQATAA4ADQATABsAIAAhACIAIQAaABMADQAGAAAAAQADAAIAAgAEAAcADAAQAA8ADAAMAAoAAgD8//v/+f/5//j/9v/x/+7/7f/o/+b/6P/s//L/+f/+//7/+v/x/+j/6P/r/+v/7f/v//X//P8EAAoADgAWAB8AIwAlACcAJgAmACYAKQApACYAIAAVABAAEAARAAwABQD+//X/7v/q/+n/5v/i/+H/4v/j/+P/4f/h/+P/5//q/+n/5v/p//L/+P/7//r/+P/3//v/+f/z//D/8P/t/+n/7P/r/+v/7v/w/+//8f/1//X/9//7//z/+f/3//X/8f/w//D/7v/s/+//8v/z//b/9//y/+7/8v/3//r/AQAJAAsADQAQABEAEwAXABoAGwAdABwAFgAPAAkABgADAAEAAQADAAMAAgAAAP///P/6//j/+P/6//z/+//6//z/AAABAAAAAAAAAP3//v8BAAcADAAPAA0ACgAHAAYABQADAAAA/f/4//b/9P/z//L/9P/6/wAACQARABMADwAPABMAGAAcAB0AIQAfAB0AGAAUABQAFAAVABAADQAJAAAA/P/4//z/AAAHABAAEQASAA0ACgAJAA0AEQAMAAsACgAFAAAAAAACAAMACAAKAA4ADgARABIAEwAXABcAFgASAAsACQALAAwACwAIAAUAAwAAAP//AAD+/////P/3//b//P8AAAAA///6//f/9v/3//b/+P/9//r/8//r/+f/5v/o/+7/9v/7//v/+f/5//v//v/7//f/9f/3//v/AAAGAAcACQANABEAEQAQABEADwALAAkACwAJAAYAAgD7//b/8v/z//H/7f/o/+j/6//s/+//7f/t/+//7//w/+3/7//z//X/9//7//z/+//8//n/9//3//X/9P/x/+//6//p/+3/8v/2//f//f8EAAgACAAFAAMAAgACAP3/+v/5//v/AwAGAA4AEwAVABIACwAFAPn/9P/1//f/9//2//b/8f/0//L/8f/v/+n/5v/j/+j/7//1//f/+P/7/wAABwALAAkACgAKAAwADAAOAA4ACgAGAAQACgAMAAwADAAOABAADAAMAAgAAgD6//P/7P/l/+b/5v/o/+b/5//s//L/+/8AAAYAEAAfAC8AOgA8ADcAMgAvACgAHQATAAsABwABAPz/9f/w/+3/7f/u//L/+v/+/wMAAAD+////AAAEAAcACgAKAAsADgAOAAYA/v/4//L/8v/0//j//f8FAA0AEQAWABcAFAAPABAAEQAMAAYAAwAAAAAAAAD///7//P/4//X/9v/5////AQAFAAwAEgAWABkAGwAZABcAEQAJAAEA9//v/+n/5//p/+n/7f/z//v/AwAKAA4AEAARABAADgALAAcAAwD8//P/8P/u/+z/7P/t/+//8P/3//3/AAACAAAAAAABAP////8FAAUABAAHAAcABwAEAAAA/f/9//z/+//8/wIACgARABgAEwAPAAkAAwD+//b/8v/o/+D/3f/c/97/3//l/+f/7P/u/+n/5v/l/+f/6//x//b/+P/6//j/+P/3//b/8//v/+v/7P/w//L/9v/7/wEABwALAA8AEQARABQAFgAaACAAJgAoACgAIwAcABMACgABAPv/+v/2//f/+f/8//7/AgAIAAkADQAKAAYAAgD+//3//f8AAAAAAAD8//b/9P/1//n/+v/3//T/8P/q/+j/5v/p/+r/7f/x//L/9P/0//f/9P/z//X/+P/8//v/AAAGAAsACwAKAAwADAALAAUAAAD9//v/+f/1//D/7//y//P/9P/x/+7/7P/q/+//9P/3//T/9v/3//b/9v/z//D/6v/n/+b/6f/w//b/+/8AAAAABQAMABAAGgAfACMAKAAtADAALQAuADUAOQA4ADMAKwAfABMACwAEAP3/+P/v/+b/5f/p/+z/8P/3/wAABwAQABkAGwAYABUAGAAYABUAFQAZABsAGQAUAA4ACgAFAAMAAAD8//b/8v/y//P/9v/5//r/9v/v/+j/4P/d/97/4//q//H/+/8EAA0AFAAVABUAEAANAAgAAwABAPv/9f/u/+r/6P/j/+H/4v/l/+j/5//s//X//P8AAAMAAQD+//z/+v/2//P/8f/x//b/+//9/wEABgALAA8AEgAVABYAGQAeAB8AJAAkACQAJgAlACIAGgAVAAoA/v/y/+n/4v/h/+f/6v/s//L/+P/3//j/9//0//D/7f/r/+r/6v/s/+7/9P/9/wAAAQAFAAsAEQATABUAFwAbACEAJAAmACQAIgAhABoAFgASAAsABQABAPz/+v/3//L/7P/l/+H/3v/e/93/3f/h/+L/5P/o/+//8v/z//P/9P/2//r/AQAHAAcABQAJAAoAEAATABUAGgAhACgALQA0ADMALgAoACAAFQAFAPn/8v/x//X/+//+/wAAAwAFAAYABgABAAAAAwAEAAcABwAIAAcABAABAPr/8v/q/+j/5//k/+f/5//o//H//P8EAAgADAAMAAwACQAJAAcAAQD+//7//P/5//7/AAAAAAAAAgAAAPz/9//0//P/8P/z/+v/6P/v//T/+v/5//3/+//0//T/8//z//P/7v/l/+b/6P/m/+T/5//t/+3/8f/3//3//v/9//z///8CAAIAAQD//wAAAwAFAAAA/v8AAAAABwAQABQADgAOABIAEgAQAAgABAABAP7/AgAIAAwADAALAAkACgAQAAoA///3//n/9//0//n//v//////BQAFAAEABgAGAAEAAAAAAP3//v8IABIAEwAcACMAJwAnACAAGgATABcAEwANABAADQANABEAFAARAAwABgADAAAA/f/+//j/9v/7//7//f/+//7/9f/1//v/8//u//P/+f/4//n/9//p/+b/6f/p/+f/5P/g/9v/2//d/9z/4P/o//P//P/6//L/6v/p/+3/6f/o/+b/4v/n//H/+P/6////BQAFAAcADgALABAAHQAbACIAIAAdAB8AEAAFAAAA+P/1/+//6f/z//v///8BAAIABwAIAAwACwADAAsABQD6//n/9f/y/+X/6P/z//L/9f/9//f/8f/z/+r/5f/j/93/1v/f/+n/6//1//r/AAAMABEADAAJAAkACQAIAAQA/f/7//z/AAD+//b/9v/3//v/+P/1//H/8f/7////BQASABwAIwAtACUAGAAZABIACgARABEACQASAA4AEAAMAAAAAgD6//z/AAABAP//AQAMAA4AEwAbABMADAATAA4ACwAHAAQACwAGAAQADAAJAA8AGgAVABsAIgAZAB8AGgAQABMAFgAeAB4AJAAWAAwAGgATAAwAAQD2//3/AAD6//z/9//v//n/+f/y/+z/6//t//f/CAADAAAA/P8AABAACgADAAQABQAKABEABwD5//b/8f/z//T/7P/d/9b/2f/Z/+D/1P/N/9j/0P/W/+D/4//5//7/AgAWABQADgAUAAsAAQAFAP7/9/8AAPv/6v/s/+P/3f/p/9//2v/n/+j/6v/2//7/+v8CAAQAAwAMAAgABAAHAAAA+v/9//X/8v/1//T/5//x//D/6f8DAAMACAAIAAYAGQAUABMAHwAZABcAIQAeAB0AGQAaAA8ACgAXAP7/7//p/+P/8f/u/+3/9P/z/wMADQAVAA8ABwAeAAwAIgAxAPn/HgAlAAsAOAAPAAsALQAWACYACQD7////9P8XAAYA+P/v/9f//P/x//n/AADb//z/7v/s/+3/2v/w/+H//f/+//b/EQD8/woA+P/s/wAA8v8TAP7/7P8HAPr/FwAIAAgACwDt/ygADAAGACUAAQAoACQAJAAoAAUAKQAhACAAJgAGACUAHQAoACUA7f8BAAEAFAAlAA0A9f/t/xMADwATAAUA4v/1//f/EgD3/+D/5v/Z/wIA5f/g/9P/wv/x/9L/4//a/87//P/r/wEA7f/z/wMA+P8YAPL/BQDu/+L/BQDY//3/6P/Y//7/7v8CAAcAAgD+//7/DwARABEABgDr/+n/BQDz/wcA+P/H//j/4P///wMA3P/0/9b/BQD2//z/DADV/wIA7/8HABUA8v/7//r/CQD//ycACQAHABsA4/8yABsA+v8rAPP/DAAfAAQAFgD7/wsACQAQACkA+v8YAAcA7v8eAPv//v8AANb/7//Y/97/7//g/+r/2P8DAAAA/v8IAOD/AQAUABcAEgAAAN//+f8KAA0AMQD6/+n/4v8HAB0AGQAVAOb/GAAFADAASQAPABcA+/8PAC0AJgAOAAYA2//+/w4A6P8JANn/4f/Y/+f/7P/J/wMAx//Y/wYAx//2/wwA0v8NAAEA3P8qAAoAMwAlAAAAMAAVAEEAKAAsAD4ACgAxADIACQA3ACYAGQA5AAcAJQAVACkAEQD+/yIAAQA+AAEAFQD///X/PgADADwAAwDS/xoAEgAgACAA4P/3/+r/DQAdAM3/6P+v//v/DADv//b/o//X/9z/AwD2/7z/yP/Q/wMAHgDZ/9z/8v/d/zYAAADs/9z/u//8/+L//f/W/8D/7f/h/wwAAADm/xEA2/8IAA8A1f8hAOb/DwAdAOj/JgDg////DgDI/wsA2f/e/wwA4P8JAOn/AQDy//f/MgDV/xoA///M/0MA9f8nACwA4P81AOr/FQAeAPv/HwDv/ykA+//7/y8A+/8pAP///f8HAOH/KwDh/wEA9P/L/zwA6/8FAAYAwf/z/+f/8v/7/+P/0f/Z//7/xP8JAAAA4v86APL/LAAcAP//JQAEACsABQAaACIAzf8xAAQABABJANn/JQACAPz/IAAPAAIA8P8QAOj/IwD8/+7/AADg////+P8ZANX////0/9j/SADe/xsA8P+8/wEA6f///7r/CQC7/9z/LQCr/zsA3P/w/zYA4f8uAOX/HAD6/w4APgDw/x4A/P8OADgAQgA0ACgAEQA1AF0ANQAkAAMA+f8sAD4AGwAHAOH/BQA7AEYASwDt/ywAOQAlAFwA0f/t/+X/6f8fAMf/xv/E/9n/MQAKAOv/6f/f/ycAJgAwALH/6v8KAOP/XwCR/8z/8f/V/1YA3P/N/8T/1v8bAPv/xP+1/7r/AwDl/8H/yf97/wEA6v/s/8j/o//8/+H/SADJ/7n/wf/X/0wA8f/u/7L/qv8kAC8ABgAYALj/GQBTABQAbgDp/xgAPQAZAGAAGAAYABwALwA0ACgAIgAPADcAOgAfAFEAEwAPAEcA2P9ZAPv/5/8xAKX/HwDk/wEAAACv/wMAxv8GAA0A3//4/6j/6v/b/7z/+f+m/wAA5v+f//r/4P8mABIABwDy/5P/LQATACMAGQCI/9P/xP8sAA4Az//c/6D/NwAQAP3/9/+W//H/6P8HAA8Avv8AAOX/FwAdAOT/HwAEACUA/v8dABoAKwBxAPj/SwAvADQAjgAwABkA3v8SACMAGgAfAJn/3v/x/wsAUQANABcAFwA5ADMARgAxAAYAQwAuAFUAHgD//18APwBxACEA8f8EAN7/dAAOAOr/wf95/xAA7P8dAPT/iv+p//v/MQArACEAuf/a/+3/OQA+ANn/wv9W/xIA0/+V/z8Abf/r/wAA1P9gANH/6/9BADMA5/8SAM3/1P9TALD/HQDT/4r/WgAYABkADgDc//7/LwABAOz/4/+t/yQAAwDO/8n/p/8NAE4AQwANAPb//v9hAI8AHQDd/5j/FAB1ACsAJgCx/5r/GwBmADEADADF/6z/NgD//yUADADS/9j/yP8sALz/JwAPAOP/LwC0/xoAVAA2AAkAIACv//D/MQDU/zQApP+j/+f/0/8CABUA4f/J//b/wf8vABIAzP/5/5r/0P/7/wgA4f/6/+7/5P9RAAoANQAMABgAIAAYADgAr//t/+D/+/8bANT/AAD1/+n/QwA5APz/HgDW/zkAHQDZ/z8A2P/v/wgA6//o/yoA5f/u/2AAmv///y8A9v9GAMj/vf/Y//r/BgDf/9L/x////0cAEwDM/xUAFACKAJsAFgARAOT/PwB7AEgA9f+6/wQAYwB6APr/lv+s/wcAPwDz/3b/Uf9+//r/PwC6/5P/pP9QAIsAZAA8AKL/QQAiADEAVwCD/9n/EACy/+//rv/T/04A9P/6/7b/9/9BAGkAOQB+/4//6P9XAEIAEgCo/9H/PQA0AGsA5//E/0YA9f/F/6f/Wf88AFAA3P/G/0X/0P+eANQATQCx/3f/HwDbAIkACACU/53/3/9+ABwAXP+s/5f/AQBSAKL//v8QAMD/WAD8/xMAZgBVAIYACQAeAGgAigC0ACAABgBRAC8AewATAIz/w//s/1oACgCP/2P/wf9eADYAAwCR/5z/MgCUADgAx/+t/6H/fwA6AOn/UACQ/ywAaQDS/2gA8//c/x0Ajf+S/9f/1v/5/6X/L/99/8r/cQCHABcAy/9x/xkAsQCMADUAiv9R/97/CQBkAEAAtf+V/4f/TwBBAGEAMQCM/6r/xf8tAAUAyP9s/+//v//2/2IA/P9uAAUApABgACMAYQC3/38A7v9x/yIAY/8BADsAt/9bAMb/ZQC4AB0AzP+6/0kARAAtAHL/PP9m/1wAqwDW/7n/Q/8fAJ8AZwBQAHj/f/+n/wwAFgCZ/77/av+6/wcA7f/gAN0AKQArAMH/GwDVAEYA+f8q/+/+AwAqACUAyP9O/9b/EAB7AIAAof/K/6X/FQBjAIn/qv+e/83/SABNAFEASQBZAJsAjgAcABEAOgA8APP/Tv+H/1T/tf9cAH3/7P/c/18A/AAgAC8Aq//7/2oA1f/d/zH/Z/9BAB4AqAD8/5//fACtAPwAWADC/7X/a//V/9H/8P4k/0j/pv8SALT/IwBUAM0AGAGyAHUAHACBAL4AEgDT/yr/QP9LABUAHQDC/3b/5P90AKIAMQDC/6H/4f/W/wsAo/+d/4v/1f+IACIAigB0ADsAlwCTAMsAiwCh/33/av/h//D/Jv8b/9f+1/+SAKcAugD8/9f/swAzAfYAbgA+/zn/of8NAH8ArP/+/kH/KwAcAaoAUgAIAFX/TgBoAF0A/P80/3//tf/1/+b/MgD+/wcATwBdAPr/NgBDAJ3/7f8o/2P/4v82/8b///+F/yQA+/9lAIMAJQDAAN3/5P+V/9H/fwCs/3j/kf9c////iAAfAFcAsf8yAK0ARwCEADIAMwDR/5H/AwD9/xoAhACl/4b/mP8HAOoAUwDb/3X/kf/Z/ywAIACR/yb/n//i/xMALwB4/1sABAAMAMoAFwDw/+//WACeAGwAq/9i/3H/PQC6AAUAZf8Q/2AA5wCdACsALf97/34AzACvAK//Ef+h//H/PAAPABEApP+U/+n/KQBZAAEA7v+B/8T/CQCrAKoAp//Z/87/JgDiAEwAtv9t/zkAQgFsAML/IP/Y/9sAWADT/7H+jP7S/5kA9f8G/5P+g/+wANYAbwDl/zkAWADpAMUA9/9DADAAPADd/zr/0v8ZAEsA7/9f//T/aQDaAIcAjv8u//3/pQBrAMj/6P7//qX/9P9iADkAd/+t/wwAEgErAVMAd/85/4wAxwCdAAL/RP52/wgA9ABBAMH+NP/Y/zwBGALj/2L/v/9uAFoBZQCl/0j/x//SANoA4v8z/13/mADzAIUA0f8K/5H/OQDLABQAIP/0/jj/hQDrACQA0/87/wEAjQFIAX8ARP8r/xQA+QBrAGn/AP/V/gkA+P8mADsAyP/X/2X/JQCJAE4AXwCH/1r/gP+c/8YAYgBw/x//6/7l/6sAKgBv/6/+jP4dABcBQAH1/6X+Yf+PAA4COQHQ/wX/2/6yAHwBiwAf/3b+Zf+yAOwAFQD1/hn/zf8rACQAov99/7X/qP/h/xsASf9PAJsAQQCzAB4AlACaAN4A7QBpAAMAsf87AGwA5v+n/4v/UP9/AJEAFwARAGn/CgDDABcAh/9d/1T/KgB4AJMA0/+h/y4AqgDPAYMAw//g/53/EgBTAO7/bP8y/9v+p//h/wUAtgBAAKH/r/9tAG0BAAFtALv/+v5oAJkAsgDL/0T+4f5g/7UAEAFVAED/vf4VACYB1QAVAPT+DP/3/+j/hwDj/4n/3v/Z/z0AeAAfARIBbgCX/2z/wP/JAKoAHwCE/2H+7P9UAKQAuACJ/1j/g//0/yAAOgCH/7T/5v+P/wwAUgAbACAAdgAAAG//5P9VAGgAuwBl/4T/6f/g/2oBrf9f/tv+9v9pAfUA//86/+T/OgEsAZIAvP8g/zMATADS/17//P6a/7n/DwDb/1wAKgCo/xYAt/9zAFQA3f91/yn/EQB6AO4ABQCT/gr/EwDzAPAAm/+8/gD/mgAyArMB8v+X/v3+bQDqAYMBm/8P/jb+GwD0AAIBKv/w/af+1P/TAScB5v/r/sH+4ABRAcIAUQAu/yr/mv/p/54AigB6AJj/9v5p/ycAJgF4AKP/rP7U/jsA6wChADr/Mv/6/tH/lwGzAJ3/D/+k/w4B4gCXAB0AEv+T/yoAiAACAHX/CQCD/xcAYgCVADkBZAAdALH/vP8wAH8A+f96/w7/m/5UALEAnwANAB//2v9EANIAhQADALv/uv8ZAEUAgQB0ANT/Zv+z/9T/nwAOAZQAvP/D/2UACgEbAW7//f7h/rf/tADR/0H/+f5M/1YAcQH4AP3/TP/M/xkBXAH1AKj/Cv8S/4EA5AAVAIz/7f4pAPwA4wDe/5X/z//v/wAAIf9N/0n/if/l/9//fv9d/+L/NQDyAGMA9f8dAHEAtwCeAK8Aqf9t/5r/OwB6AJ3/Y/+T/3kAkAB0AM7/Sf8GAGcAzgAWABT/r/5A/5kApQBBALL/o/8oAMAAOgG7AIj/x/5K/8v/KwAOABkAlv9j/2AAVAByAKz/rf8JAA8AnAC4/6n/sf92ACoBHQBT/zH/fv8eAHoAa/8h/wD/8v/PAGIATQBB/wwAJgB9AO4ASP/p/9r/EACVACYAkQDi/5T/8v8DAPP/1//L/6L/j//M/9H/5f8gAPj/+P/q/kr/hwBjAAoBl/98/pL/bgBwAbcAJ/+S/gz/GwAuAfAAuf8x/9r/CAG5AEEAjP/9/uj/yP/i//X+FP7B/4cAzAASAMT/LQB+ALYBOwFXAJD/6/83AYoAGwC6/1v/JQA+AOz/jP/n/uv/sQCJAA8ATP/0/2sAzACEALT/Lv8g/0YAfwBcADgA+f9/ACkATgDYAO7//v/h/yj/5v8KABoAQADB/08AeQCoAHAAwv/H/4L/HQBqANf/s/8f/1f/gACkAHUArv8W/9n/dwDkAIoAkf8UANb/QADsABwAnACR/2H/J/8R/5wAAABJAIv/gv+4AIUAugAxAMH/sv+MADkAqP94/yD/QABXAP//Tv9D/57/GwCCAOD/jP9w/43/EQC1ADAAIwAfAOv/MwAdAHsAcAD9//T/w/8HAHMAuwC9AIf/b/+7/1EAuwACAMX/Jv+c/14ATwAzANL/7v/n/+3/HQC//+z/Wf/T/3MANv/6/9T/AQAoAAL/e/8K/+f/ewAnALP/Fv/GABcBDQGXAE3/jf/N/zgAeQCF/5T/NwB0AFEA2P/i/6n/LgD+/83/9v+N/9n/IwB//6n/NwAHAFwA7/+t/+//fQBWAEIA1f9//9z/HACVAOP/RP///gkAigBDADoADgDm/xwAVgAwACcAzP/P/0L/Pv/D/24AnADw/2b/9v+PAIoAbgDb/xQAXQDiAD0AwP/Y/zgAHAHe/1//Uf+U/+wAvQAQAAr/MP+HAKcA+gAaAMv+QP90/ygApQCP/83/qf/x/9YAKQA0ANf/GgBJAPv/Wv9G/1QAWADIAA8Ae/9sAJ0AqwCnAAT/Zv9lACgAeQBp//T/TAA8ABsAF/96/9H/dABUAKb+7P4GAJEAOQHP/xn/Tv9DAD4BcgCB/1r/3wDjAGwAWwD0/w0BOwFBAPn/Ef/Y/6AAm/8u/0P+P//2ADsB8v8V/+n+sP8gAWYA6v/M/hv/VQBTACQAsv+5/8j/aQBoADYAcwAOAFAASgDW/3EAPAD3/63/3/8TALr/BQBC/9z/DACk/8IAWwBK/3T/1f9IADUAD/9U/rb+LQALAccA4v9z/z8AfgE7AdIAGQA1/7EAbAAgAML/Av/s/zUAVwAMAPf/8v8KABEAzf9L/3T/6v/3/1oAef95/7j/0v94AEkAGwCz/1UA5wD1AJwAp/+4/+7/JADK/0n/g//f/yIAAABG/8n/rQCAAEcAKv86/xkAcgAaAJX/mP/q/7AABwDF/x4AaAAnAaQAMf9Z/9j/bQAnAez/Mf9T/4kA2wA7APL/Sf8FADMA+v+PAM//Nf8lAKr/iv+t/4H/+P/6/+v/kf8LAIQAEAGiAOX/yv8VAKQAHAAsADP/WP8JAOX/VwCe/2b/4v8/AFAAlAAHALz/7v+W/xIACQDW/9H/1P/w/zgAxwApAeEAMgCX/9P/iQBKAEEAef/n/nn/FgAXAPH/1f9U/2kAOQAvAEoAR/8eAHYANgBe/zT/qv8TAHsAs/8u/4D/PwBjABUBVQCi/3kARwBxAK//TP+T/7v/t//I//X/uf+IAIEAngA6APb/NgCw//v/G/9g/8P/9/8lABv/7f9OAOUApQDP/7v/8P8kAaoAtP/V/kD/KABwACcA9v5R/9f/RABGAID/4v+pAHMAFgA5/2H/3QDdAE0ANP9F/1AAOQHYALv/dv9y//AAEwG7AIz/Df+B/6r/yADk//n/iP/G/+b/zf+xAOT/XwCx/wwAIwDv/1wA/v8YAOf+ef/u/8sA1QCb/9P/7/8lAasA0/9f/xn/SwB7AP//Ef/l/rT/nwDWAO//ZP99/14AbAC4/6X/QgBgAOr/QQCw/7//1ADDAGoAlv8v/8EARQFgAND/Nv+0/0gA6wBYAGz/Uf/e/uP/y//V/y4Aw//o/0n//P8kAJkAvQAN/0X/T/+OAAcBHgCz/y7/wgDDALwAEgAs/yIA+P+SABgArP/K/z0A2QBs/1D/wP9KANUAOgAH/8z+FwCkAHYBLQCw/gAAhwCWAfUAY/9r/1r/ggCiAD8A8f+F/xQApP+//6T/LwCsAEj/SP9H//b/yACv/wv/+/5r/74ADgE/AHz/m/+BAMoAAgEVAPX/JADz/8AA0/8vADoAMABhAAD/if+n/4MAWQA5/4f/If/i/zgASwDo/2b/0P/p/w4AzP96AFUAbQDIALX/PgB+AAUB1QB4/3j/Qv/k//H/HgAIAPH+mv9V//P/aQDT/+j/hP6A/qT/rAB0AaAAUv9v/08AVAEgAoIAPf8Z/+b/SwFIAZsAiv8JADsAVgAbAC3/EwAd/47/3v8i/2cAq/9OABYAhP8FAKz/tQD7/xUAvv/X/0sBFwDIAFUAAgAEAToAkACy/03/9P/f/x4Afv/w/mL/RwBGAOT/Vf+7/nT/2P82AC0AKP9N/zMAnQCyAL0A4//f/2MA+f+2AHQAaQCzAMj/LQCh/x8AqwAlACEA7P5i/5n/TwAmAPf+df/Y/rEA/AAkAIsAF/8oALwAcwCJAIP/2f/9/2QAYADK/14AMwBxAO7/Xf8hAAQAGgAs/4v+Hf91/1QAAQBm/zn/uv9xABwAJwDI/zsAggAwAOAAQABbAEsABABQAPb/wwBhAF4AEwB2/6MA2f8nAI3/xP7N/wr/YwBLAKL/Uf8//tb/4v/SAH4AOP9AALL/YQFJAdb/+P8c/6wA2AA7AFUA3f9ZAAwAIQARANT/rP96/3X/5v5//8T/BAABAEH/h//P/8sAbwDl/+L/Iv9TADkAYgDiALz/kgCIAJsAKQFMAFAAwP8YAHkApv84AMj/kv8FAI7/AAD3/6v/r/8y/1v/5P90AH0A2P9g/2D/LgD8APYA+P+r/+D/9f8NARcByABQAJX/JAAgAFYA5v9x/7b/xv7l/wAAk/98ABH/UP97/5z/9gC8/2r/O/9//8sANwBqAOX/ov+hAIcAGAGQAAgA8f+P/+AAhwDp/8P/6/4EAEIAYQBIAOT+ZP9v/8P/MAC+/+b/9P5u/yUATAAIARMA7P9c/0f/qQCIACwBfQDV/4wAjgB6AYkAAwAiAAz/zv93/5f/IgCJ/xIAL/9h/8D/bf90AJr/fv9E/1b/rAD0/3wA6f+N/8sAKQAuAVwA8/86Abv/LgDi/+f/+wDu/0EAI/8v/1IAe/89ABL/0v63/2f/CAE6ANX/8f/U/oQAOgAmAL8Afv9EAAYAcwBLAWoAGAFjAP3/JQD2/z8BNAAm/7z+ef4jAEEA5/+9/hb+6f87ALkAUgDn/hv/a/+mAKEAAAAAAGr/wgAEAbEAFwH5/2oAPwCz/0kAAABqAIb/F//P/5z/ywAVAAP/Vv/Z/j4AtwAYAK3/9v6AAAgB5QDHAEP//f+RAIUACgH7/zsA4QDSAPAArv+G/+X/8f+YAJ//GP8e/+H+6P8FAOj/k/8M/+n/PgDQAM4A2P/s/2T/t//WAMwAngC6/4T/DAA8AAMBhQCd/3D/Ov8uAGsA9//U/wL/X/8CADQA7P/z/lL/Yv/7//wADQD+/8z/+f9rAQgBbgCa/3L/zQDmAN8A4P8h/wwA4P+pAGgA9f6y/2j/nf8WAFz/tv9T/5L/6P+c/6EASAA9AJkAyv+LAM0AbQCTAK7/wP+WAL8AYgAz/xf/c/+7/88A7P8O/1P/Cv+tAPsAc/9A/7f+ev82AAIATACK/x0AkgBKAPIA8P9eABgB6v89AOj/3/9/AOj/KwC1/3//GQCw/xoAwP9B//L/pv/d/4L/xf7S//z//P8xAJb/FwCzADABTwHX/1H/w/99AGgBhgDR/8T/nP9VAMf/YP/2/3//0v/C/0r/5v8oAHkAjf/H/lz/aP+mAGgA+P6e/6n/3ADSAUoAAQDq/1EASQG9AB0Ag/+l/yAAFwB/AOL/Rf+Q/2n/AQBoAM3/m/9M/0D/6/9KAHkAGwCA/87/TADXAAsBfwAxAOf/KQC+AJoAfgAAAJD/uf/Z/yAA9//G/8P/vf8xABAA0//l/8n/NgAzAIz/if+c/7X/SQA9APH/LQAaAG8AyQBIAAQAzf/0/1YAdgCLAAkAHQAgAND/MgCv/53/8P+B/9j/sv+c/+j/ff/1/0QAMQAgAFH/iP8/AM8ASAErAGP/k//Z/9oAtgAiAOH/9/6i/3IAQgBdAHD/7P5z/+f/wgC3AKP/Cf9d/8//SwCcAMz/mP/z/ywA8ADfAH4AJAC6/+L//f9fAD8AKwBSALn/VAA9AHX/LwDC/0r/rv9A/6n/AgCI//f/+v+V//v/9/83AL4ATQDk/9T/SQB5AGgAmwDJ/6z/DQAWAI8Auf9Z/7z/cv/t/+P/pP/D/6D/yf+t/7X/lP92/9v/8//2/+n/HAApACsAnwCsAJ0AGgD3/2sAJABkADIAp//p/8T/FQBuAAgAqP8e/wj/0f9jAFYAMQBn/93+4P/MAOwANgB+/7j/GgCTAHgATwBBALD/9P8aACwAYQCL/3j/9v/n/ycAQQDC/6j/0v+V/xcAQQDZ/zYAtv+5/1UA9v9mAEgAkP8CAGQAuADDACoA8v8wAIgAlAA1AAUAPABAAAgAxv+c/7z/9f8MAHz/JP+s/x4ASADP/1D/bP+7/1QAXAD2/wMAfAC+AHkAcgAhADgApwDw/9b/6/8EAKEA7v+h/7D/Q//k/y0A0v99/x//iP8qAEkACgCN/z3/wv9eACkAEAAdAFcA7gDZAJgAdAAmAIMApAA0ACQA8P8oAHkA3/9x/zb/Zf/O/2f/Uv9J/0z/rv94/7T/r/+B/xcA/v81AKUAnwDUAEEA8/9iAKkAAwHSAFsA1/+f/+3/DQAZAKD/L/9W/33/7/8OAOz/BQCo/33/nv/Y/z0ALgD2/6T/j/8fAHYAggBPAPj/CgAoAIkAugBEAAgA2//m/xEAEAAxAMX/Uf9X/1z/yv/z/+n/2P9A/0v/4v+MABIBlADj/8H/FwDXACYByAAqALb/0P9PALkAQwBX//b+M//5/0kAyv9r/wv/FP+x//P/KgAxAMv/t/8GAH8A8gDJAEoAGgD//yYAjQCNAFoADADl/zUAMAATAPX/1P8AAKz/b/9z/4H/4/+Z/zr/Tv9y/xEAIADK/9L/vP/v/ykAJAB0AJEAPwBcAF0AQgB8ADgAEQAAAK//IQBZAPj/z/9z/5D/CAABANr/jv9s/9r/GAAgADoA4//H/w8AGABRADEA3v8xAEAAaACaAAQA/f9hAGkAeQA0ANH/MABDAOD/5f+a/5//1v9O/0H/lP/Z/xMAp/9C/4P/KgBwAFYALgDp/08AzADPALIAIgDn/1EAlwCpAFwA3f/q/1kALwDD/7X/b/95/47/UP+8/7v/bv++/4n/sP9BABgAOQBcADIAlwCuAGMAbABUAF0AhAB+AGAANAARAL3/1f8WAOP/9P9+//j+dP9w/4n/BACf/4n/uv+T/xwAYwA0AHoATQAUAGwAfQBuAIUAOwD3/w8ADQAgACUAwP+N/4//if/I/+D/nv94/3D/if/c/+7/0v+t/4X/x/8fAEkAVgBRAGUATAAZAF0AswDZALgARgAZAP//FgBuAEwA3f+I/3//sP+i/2//Z/9m/0j/cf+s/8b/CwAmAAcAyf/c/30A6wDLAHcATwAyAEkArwCEAOv/uP+t/9D/5v+1/8r/wf92/27/Nv8i/7n/HAAIAOn/5/8XAGAAWgBEAC4A/f/6/ywAUgA+AFkAfgBOABIA3v8BAHQAWgAAALD/SP+c/04AUgDD/yT/Lv/A/zIASQDn/7v/s//D/wkAAAA8AGoACwDq/xEAcQDOAK4ASQDt/xAAdQCPAHoAzf9O/53/vf/x//r/fv+A/4L/fv/4/wIAof+Q/5L/nv/q/y0AewCoAFoA/v9IAN8AIgENAUoAvP8iAHoAlABcALb/dP9+/4n/wP/S/5r/iP9+/2L/mf/4/zgAPQD3/8L/yP/9/2YAkAB+AFUAFgBGAHsAoADbAIQAMgAhAOD/6/8NAPT/4f+h/0f/ZP+M/33/g/+K/6//yP+f/4H/sP/T/+D/BgAfAGQAmgCAAGMAZwCxAMkAfAAtAPz/MgCCAFsA/P+q/4P/kP+L/3j/eP+D/5v/qv+Y/33/0f83AF4AfQA+ACQAXgCFAKgAgABZAGIAVAAzABAAIABgAHAAIgCw/2L/fv/G/7P/ZP8G//7+a/+U/4X/gP93/9L/QwBLACAA8f8GAFIAgQCTAHMAVwBlAHQAbgBlAI4ApQBbAOD/sv/z/xkA+f+N/xf/JP9z/7r/xf9d/07/0P8tAEUAIwAIACUASABoAGMAMwAmAFAAbwBTAEIASwA7ACUAAADf/9n/2v/O/5b/KP/6/i//eP/M/9P/pP+b/8D/OACSAIYAWABDAHEAqQDMANEAnABVAEQAVABjAHEAcABLAPX/s/+w/7D/iP9f/y7/7P4W/4P/xv+5/4v/of/U/1kA0QDAAI4AWwBJAFoAfQCPAGIAJAALABsAEgAdAFAAMwDy/8z/i/9z/6H/mf9q/zT/Lv9k/3//nv+y/8n//v8mAFUAcgCPAKgAhwB9AJUAhwB1AEAA9f/s//v/CQARAPn/0v/C/7D/p//C/6//e/9V/zj/V/+Q/8b/7f/n//b/MwBzALAA1wDLAJIAcwCbAI4ARAAiABoADwAEAO3/wP/A//7/KgD5/5j/c/9y/3f/eP95/4P/lv/J/9n/3/8oAGQAfwB9AGwAkACjAIMAYwAvAA4ALABKAD0AGQDz/+D/4P/d/83/k/9S/1L/gP+J/3z/k/+T/5z/zP/q//b/CAA4AGIAaABaAGAAagB7AKgAqgCMAHEAVAA9AC8AKAAAANH/p/+b/43/af90/4D/jP+e/4//i/+o/+j/JAAwAC4ARgB4AKgAvQDDALoAtwC4AIwAYwBEACkAHwDs/6j/cf9Z/1z/Tf9C/z//Qf9L/2b/jP+V/7H/9v8UAA0AAAD1/xQAZACiAJYAawBNAGYAkgCJAHYATwAdAAQA8P/a/9L/2f+0/4D/Y/9L/2T/i/+I/27/af96/6L/uP+t/8r/9/8nAGYAnwDMANkA4wDvAPUA9QDkALAAZwAyABMA/P/O/5X/dP94/5//vf+8/6b/mf+f/6f/xP/e/83/2v///wwAMABdAIYAlQB+AFsAPwBZAIIAdQAWAKX/lv/F/+T/5f+//5r/pf/F/+n/7P/W/8f/o/+G/43/u//k//L/8v/d/+3/JABkAH4AVAAzADUAUQBmAE0ADADe/+H/6v/g/7z/nv+R/5P/pf+j/6P/pf+x/8n/1f/w/xIAKAA1ADIASgCIALYAyQDCAJ8AfwB/AJIAnAB5ADEABwDq/87/vf+j/4r/Xv89/07/h/++/9f/6f/m/+D/8v8bADcANQA6AEQAVwBwAIQAiAB0AE4AMQAvAC4AMgAbAN7/lv9d/1f/dP9//1//UP+D/8r//f8SAAkA+P8HADQAUgA+ABoAHQAzAEYARQA1ACgAIAAgACgANQBGADgA+/+4/4L/c/+J/37/Sv8o/zT/ef/C/9r/4P/W/+D/JQBjAHgAagBkAHEAfACNAIsAhgCQAI8AewBLACcALgAsAO3/ov97/3H/jv+o/5j/dv90/5b/uf/M/9L/4f/3/wsAIAAcABIAIQA2ADsAJgARABYALwBNAFAANwAdAA0ABQD8//T/7//w/+P/uv+X/47/ov+7/73/sP+6/+j/IABPAFwAWwBpAH4AjwCUAI4AgwCGAIMAaQBJACkAFQAHAO7/0f+6/6P/mf+a/5j/lf+X/6X/tf/H/+j/CwAvAEUARABFAFoAewCNAH4AYwBRAFMAXQBZAEYAMAAkABUA/f/s/9v/xP+q/4z/dv9v/2//cv92/3L/cv+G/6n/1P/5/xgAQAB4AKAAqQCkAJoAkwCMAHoAUAAkAAAA4f/H/5r/bv9Z/0z/QP8z/yz/Lf8+/13/cv99/4b/qf/n/xoARQBuAJ0A0QD8AA8BBgH0AN4AwACRAF8AOQAWAPj/1f+x/5T/hf+D/3//d/9u/2v/cP9//4b/h/+b/7r/1v/u/wgAMQBeAIcAmwCYAJUAkwCNAHQAUAAwAAAAyv+i/4r/d/9n/2P/Xf9b/2T/cP90/4L/l/+r/8f/6v8XADUAQQBZAHQAiQCaAKQAmgCIAH4AbABPAC4AEgD5/9v/zP/P/9j/1//K/7X/nf+n/7n/uP+l/5b/pP+6/8T/xv/Z////LwBbAHcAhgCXALUAvQCmAIUAZgBQADoAHgACAN//vf+r/6L/nf+b/6T/rv+r/53/l/+i/7f/0//h/+b/+P8oAGYAmQCzALgAuwC5ALYAqQCPAHQAWQA7ABkABQAAAAAA+//p/9b/xv/G/9b/3f/P/7b/pv+u/7//0v/n/wgAPQBzAJkApACrALcAvACoAH4AUAAcAPz/4P/C/6v/mf+W/47/jP+X/63/y//V/9T/y//B/8n/2//n/+P/1//e//j/FAA4AFgAbQB1AHMAcgBuAGkAXgBNACYA9//W/8X/vP+r/5T/ff9u/2j/Yf9Y/1X/X/91/4z/lf+n/8n/8/8aADUAWAB9AKQAwADIAMEAqAB/AEsAEADc/7j/lf+A/3H/a/91/33/lv+r/7//0//d/+3/+f8EAAsACwAaACQAKgAuADQARwBLAEMALwAaABUACwD7/9n/vP+0/7H/rf+g/53/q/++/9D/0f/C/8D/x//V/93/3v/t//r/CwAVABoAKQA1ADgALQAdACMANgA+ADcAHgAOAAkACAAGAPn/8//s/+T/3f/R/8L/rP+c/57/pv+o/67/vf/W//L/DwAtAE4AcwCOAJ8AoACkAKYAmQCCAGoAWgBKAC4ACwDg/7j/nv+L/4f/gv9+/33/fP+Q/6v/1/8HADcAaQCPALAAyADYANkAxwCmAIYAbgBXADgADADm/8f/r/+Z/4T/eP97/4f/mf+u/8H/3P/z/wQAFAAiADcARQBTAF8AbAB9AIkAjwCFAG0AUwA9AC8AIgAOAPn/6//l/+v/7P/w//L/8P/y/+//7v/h/9L/vf+i/47/hf+X/7P/1//7/xgAOQBeAIQAnACmAK4ArQCdAIoAcQBdAD4AFgD2/83/sv+a/4f/gf93/3X/av9h/2v/gP+e/7b/0P/0/xUAMQBHAF4AfQCOAIsAcQBPAC8ADADo/7z/mf+E/33/gP+N/6j/yP/i//D/+f8JACEANABCADwANQAsACUAIAAVABIACgAEAAEAAgAFAAQA/v/v/+L/2f/S/8b/vv/D/9L/5f/1/wQAEwAcABoADAD5/+X/1v/B/6r/mf+e/6//w//X/+3/DQAyAFMAZwBtAGsAZQBXAD8AJAAKAPP/2P/A/7H/pv+a/4n/dv9o/1//Yf9q/3f/kv+u/9H/7f8MADEAVAB5AJYAsQC9AMEAtQCdAHgASAAWAOH/sv+Q/3n/aP9k/2j/e/+Q/6n/wv/T/+n/+/8PACMAOwBYAGsAfgCIAI8AkgCNAIMAcABfAFEAPgAkAAQA5v/N/77/s/+q/6j/sv/F/9b/3v/i/+r/+v8LAAwACAABAP//+P/j/9P/x//Q/97/7P8AABoAPwBXAFwAVgBRAFAASAA2ACIAEgAKAAUAAAD6//P/6//b/8f/uf+2/7z/xP/P/9j/4f/u//z/EAAlADoATABaAGkAcgBzAGkAWgBFACYAAQDg/8r/wP+6/7P/rv+u/7z/0//q//n/AgAJAA4AFwAfACQAIAAZABEADQAMABAAFwAaABUADAAGAAQABQD///j/8v/5/woAFQAXABEACQAAAPf/6f/b/8v/yP/M/8//0v/S/9L/0//Y/9//8f8KACYAOQBEAFEAYABrAGcAVQBAADEAJAARAPb/0v+y/5f/g/97/3v/g/+P/5z/r//K/+n/AAAPABcAHQApADUAPQA+ADsANgAzACoAGwAMAAIAAAADAAQAAgD6/+3/4P/T/8z/yv/Q/93/8v8IAB0ALQAzADAAIQASAAQAAAD9//n/9P/z//f//f8BAAIAAgACAAYACgALAAMA9f/l/9v/1f/R/9L/1//g/+r/9P8CABcAKgA2ADwAQwBNAFMAUwBKAD4AMQAkABQABgD9//f/+P/3//T/6v/e/9T/y//A/7T/rf+0/8H/zv/W/+H/8v8DAA8AEAAQABQAGgAXAA0AAQD6//T/7//p/+P/5v/t//r/BwATABoAHAAZABUAGAAgACwAOABDAEsAVwBfAF0AUwBFADkAMAAlABQAAADt/9//0//J/73/uf++/8v/3f/u//3/CAAOAAwACAABAAEAAwAGAAsADwAVABcAFwASAAoAAADy/+f/6P/w//X/8v/r/+f/5f/l/+b/6P/v//r/AQAGAAwAEwAUAAkA+v/v//L//P8CAAMABQAIAAwADAAJAAUAAwAEAAIAAQAAAP7/9v/o/9v/1//m//v/CgAOAA0ABwACAPj/5f/P/7z/sP+v/7r/yv/d/+f/5v/f/97/5v/3/woAGwArAD0AUgBjAGwAaABbAEsAPQAyACoAHwALAPX/2v+//6n/mP+O/5D/mv+s/73/z//f/+3//P8JABUAIwAzAD4ARgBJAEgAQQAtABQA/P/q/97/1v/S/9T/3P/n/+3/7f/s//D///8RACUANAA/AEYASwBOAE0ARQA4ACoAHgASAAIA7P/Q/7X/of+T/4z/kv+j/7v/0//m//b/BwAXACUALgA0ADsARABNAFMATQA8ACMABgDt/97/1f/Q/9D/0v/W/9f/1v/P/8r/zP/S/+D/8f8AAA4AFwAWAA0AAgD7//v/AAAGAAwAEQATAA8ABwAAAP3//v8HABsAOABZAHMAfgB1AF8ARQAuABwADwAHAAIAAAD8//T/5v/V/8T/uP+1/73/zv/e/+b/5f/e/9r/2//e/+L/5v/w/wAAEQAhACUAIAASAAIA/f8AAAwAFgAbABoAGQAbAB4AHAAVAA4ACwAOABcAIwApACUAFwAFAPj/8v/z//f//v8HABEAFQAPAAUA+v/t/+P/3//g/+f/7v/r/9//zP+7/7D/rP+v/7P/u//D/8z/2//q//b/+//5//3/CQAiAD8AWgBsAHgAewB3AG8AZwBeAFMARgA2ACcAGwALAPP/1f+4/6H/mf+b/6T/r/+2/7n/uP+0/7T/uv/J/+D//P8aADEAOgA4ACsAHQASAAoACQAKAAkABAD4/+r/3f/T/87/zv/V/+f/AgAdADIAPAA/ADwANgA0ADYAPwBIAEsARQA1AB8ABQDp/8z/uP+t/67/t/++/8T/wv+5/63/pf+i/6b/sf/A/9X/7/8GABUAEwAGAPr/9f/9/xEALQBKAGIAcABxAGkAYABWAE4ARAA4ADAALAAsACoAGQD8/9r/wv+5/73/y//b/+v/+P/8//r/8//p/9//2f/e//T/EwAzAEkAUQBLAD4AMwAvAC8ALwAtACsAKQAkABcA///k/87/yf/R/+L/9/8JABYAFQAJAPr/8P/o/+H/2//c/+n/+P8AAPn/5//V/8j/xf/N/9z/6f/w/+3/6P/o/+//9//6//j/9f/2//3/AQD///f/5v/Y/9P/3P/v////AwD+//r//f8JABoALQA8AEQASgBSAFoAWQBMADEADwD0/+P/2f/M/7v/qP+X/4z/h/+G/4n/j/+Y/6b/uf/S/+r/+f/9/wAACAAWACUALwA1ADkAOwA7ADYALgApACMAIQAfAB4AIQAmACsALAAoACEAGwATAA0ADAAOABIAEQAMAAMA+v/w/+n/6f/w//f/9//y/+3/7P/u//D/7f/j/9n/0f/O/87/0P/Q/8n/u/+z/7f/xf/Z/+n/9P/+/wkAGQAxAEsAYwBzAHoAggCLAJUAmACUAIUAbwBaAEgANwAlABEA+P/Z/7f/nf+M/4P/f/97/3r/ff+K/6D/uv/N/9f/2//h/+////8QAB4ALAA5AEAAQwA/ADkANAAyADMAOAA5ADkAMwApABkABgD4//D/8//6/wMADwAYABwAGwAWABMAGAAkADQAQABGAEIAOAAnABMABAD6//X/8//u/+T/1v/B/6v/mf+J/4H/gf+I/5L/n/+n/63/t//G/9v/7f8AABAAIQAyAEcAWwBsAHkAfgCAAH4AeABwAGkAYwBYAEQAJgAIAO7/1v+9/6j/mv+b/6b/tf/A/8T/w/++/7f/sv+1/8P/3P/2/w0AHgAjACEAHgAiACgAMAA2ADsAQAA+ADQAIQAJAO//2v/M/8j/zP/O/8v/v/+w/6P/nv+l/7f/zv/l//n/CQAaACwAPQBJAFAAUwBaAGMAagBsAGMAVAA+ACQACQDy/9z/xv+y/6H/l/+V/5f/m/+g/6L/pf+x/8b/3v/0/wMADwAeAC0AOwBCAEkATQBSAFwAYQBkAF4AVgBHADIAGQD9/+n/3P/Z/9f/1P/K/7v/sP+n/6P/pv+z/8n/3//v//z/BQARAB0AJAAmACkANABBAE8AUQBDACcACgDz/+D/1P/J/8f/xP+//7j/r/+t/6//tv/B/9H/5v8AABoAMAA8AEIARwBQAF0AbQCAAI4AlgCTAIgAcQBWADsAIQAKAPf/5v/X/83/wP+w/57/jv+H/4v/l/+o/7v/yP/T/9r/4//x/wMAGQAvAEIAUgBjAHEAfgB/AHYAZgBUAEcAPwA8ADAAHwAKAPj/6P/a/8r/u/+w/6X/o/+l/63/vP/Q/+P/8f/9/wkAHAA0AE4AYgBuAHUAegB7AHQAZQBOADQAGwAIAP7/8v/f/8X/pf+F/2r/X/9l/3L/gv+Q/5//rv/C/9f/6/8AABMAKwBHAGQAeAB8AHEAWgBCAC0AHQARAAYA+f/h/8T/pf+O/4P/f/+E/4b/if+R/53/rv++/9D/4P/y/wMAFgAqADkAQgBGAEYARgBJAE4ASwBBAC0AFwAEAPT/6f/e/9L/v/+p/5z/mP+e/6r/tf+9/8H/yP/W/+r/AAATACMAKgAtADEANQA6ADsANQAmABUABQD///z/9//x/+j/3v/W/9X/3P/e/9//3//e/97/3//j/+f/7f/x//f/AAALABgAHAAbABIACQAHAA4AHAAqADEALwApACIAGgANAAAA+v/3//P/7v/n/+P/4v/f/9r/1v/Y/+X/9/8DAAgABQADAAMACQAUACIAMwBAAEsATABKAEcARQBAADUAKgAfABsAGAATAAoA+P/l/9n/2v/i/+r/8v/3//v/AAAGABQAIwAzADgANgAxAC8AMgAxADEALQAqACQAGAANAAAA9P/k/9b/z//M/9T/4P/p/+//8//4/wAACwAdADIASQBVAFsAWQBZAFgAVQBRAEkARgBFAEIANwAlAA0A7v/P/7X/q/+r/6r/p/+i/5//oP+p/7n/z//n//7/EQAgAC0AOgBCAEUAQgA6ADAAKAAlABoAEAAAAO3/2v/G/7b/qP+g/5n/lv+W/5j/ov+w/8X/2P/k/+7/+P8DABEAHQAmACwALgAsACgAJQAiACIAHgAaABMACAD5/+H/xf+t/53/lP+X/57/p/+v/6//q/+o/6z/uf/O/+T/+P8IABEAFAAUABUAFgAbAB8AIwAhABkAEAAHAP7/9f/p/9n/yf+//7b/rv+l/5r/mP+h/63/u//K/93/8f8GABcAJAAyAEEAUQBZAGIAaABnAGAAVABFADQAIwAQAAAA7f/T/7z/p/+Y/5D/jf+Q/5H/kf+S/5j/o/+7/+H/BwAuAEkAWgBhAGUAawBvAHgAfgCHAJEAjQB/AGYASQAnAAUA7v/f/9n/0//G/7P/nf+M/4b/j/+h/7n/1f/v/wgAHgAyAEMAUQBgAHAAgwCTAKQArACpAJ8AigBvAFcARgA7ADIAIAAEAOr/z/+6/6z/pP+k/6n/tP+//8r/1v/o/wAAGQAzAEwAYQB2AIcAjgCTAJUAlACUAIsAdwBYADUAEQD2/+L/1f/I/7X/o/+R/4D/c/9r/2f/bv+B/5r/vf/f//j/CQAQABQAIQA4AFUAcgCHAIsAgABnAEsALwAYAAgAAAD0/+f/2f/G/7P/nf+I/3z/gP+O/6b/wv/V/+H/5//s//r/EwA3AFkAbwB2AG8AYwBVAEsAQQA2ACoAGQAHAPf/4P/J/7T/n/+P/4P/dv9s/2X/Zf9s/3v/lv+4/9j/8v8GABYAIAArADYARwBZAGMAaQBrAGYAWABFAC4AGAAIAP3/9P/m/9H/tv+X/37/cf9v/3v/kf+o/73/0v/l//z/FgAxAEwAZQB5AIYAkACUAI0AegBiAEcAMgAiABMAAwDv/9L/tP+e/5L/jP+I/4r/iv+N/5b/p/+//9f/8f8DABMAJgA5AE0AYABxAH0AfwB5AGwAXQBNADwAKQATAP7/6P/X/8n/uv+q/5v/kv+O/5H/nP+s/7//z//Z/+H/6v/0/wMAFwApADkASABOAFAATQBIAEEAOQA0ADAAJgAaAA4AAAD1/+r/3f/Q/8b/vP+2/7b/sf+u/7D/tf/B/8//3v/w/wIAFwAuAEEAUABeAGoAdAB/AIUAhAB2AFkAOwAjAA0A/P/r/9T/uP+g/4r/ef9y/3L/fP+L/5//u//T/+b/+/8MACAAOQBPAGoAgwCNAIkAegBiAE0AQgA6ADIAMAAqAB8AEgD8/+X/0P+//7j/t/+2/7L/q/+l/6n/tP/G/+D/+v8MABoAJAAqADUARQBaAGoAdAB4AHIAaABTADMAFwD7/+D/zv/C/7f/qP+b/5P/lv+n/8D/4/8FACMAPQBJAE8AUQBPAFIAVwBZAFkATwBAAC4AGAD9/+P/z/+9/6//p/+n/63/tf/B/9H/3v/o/+z/7v/3//7/AgAMABIAFAAUABIADwALAAcAAAABAAYADwAgACwAMQAuAB0ADQADAAAAAQAFAAMA/v/4//D/5f/c/9T/0P/Q/9D/0//a/+L/6v/r/+j/5v/q//n/DAAfAC0ALwAuACsAKAAoACcAKQApACcAHwAPAPz/5//X/8z/w//A/7r/s/+x/7P/u//H/9b/6/8CABsALQA8AEYASQBNAFAATgBNAEkAQwA5ACoAFgAAAO7/5v/m/+7/7//p/+H/2f/W/9z/6v/5/wcAEQAWABkAGAAYACAAKwA6AEsAUwBXAFUAVQBZAFcAUwBNAEcAOgAlABAA///s/9b/wv+z/63/sv+//8z/2v/f/+T/8v8BABsANgBFAE4AUwBSAE8ASwBEADsALwAUAPv/6v/a/9P/z//I/8j/xP/A/8X/z//d/+//AAARAB8AKgAsACsAIgAYABIACwAJAAsABwD///H/4P/W/83/zf/U/9v/5f/r/+//8f/x//H/9f/9/wAABAAJAAoADAANAAwADgAQABMAFgAUAA8ACwAGAP3/9v/y//D/8//z//T/8//s/+T/4//l/+j/5//l/+b/5f/i/9//3f/a/9T/0//Y/97/3v/Y/9D/y//T/+T/+f8KABIAGQAdAB0AIwAoAC8ANAA3ADoAOwA9ADQAJwAYAAEA9//z//T/+P/2//H/6//o/+n/6f/r//P/+f/5//X/7f/s//L//P8MAB8AKgAsADEAMAAxADAAJwAmACIAGQASAAoAAAD1/+j/3//h/+T/5//t//D/8P/x//T/+P8IABgAKAA3ADcAMgAtACMAGwAZABMAEgAMAAMA+f/m/9r/0P/U/+P/9P8JABcAJAAsADUAPwBEAEkASABFAD0ANAAhABAAAQDy//D/6//l/+P/2v/T/9P/0f/X/+b/8P8GAB4AKgAxAC8ALAAjACUAJQAmAC4AIgAbABMAAQD4/+z/4//o/+3/8f/z/+r/4P/X/9H/z//Y/+L/5P/o/93/0//M/8P/0P/i//X/AgAJAA8AEwAXABYAHAAkACsAMgA1AC8AJAAXAAkAAQD//wMABQALAAkA+v/u/9r/1v/W/9T/3v/a/9b/zv/B/7X/sf+x/7b/xv/T/+L/7P/1//j/AAAHAAoAJQAuADkAQwA3ADQALwAfABgAFQADAP3/7//W/83/t/+o/6L/nP+h/6n/uP+8/8T/w/+9/87/3P/q//3/AAD+/wIA+//4/wAAAAAGABAAEgASAA4A///2//D/5f/n/+P/3P/T/8P/tf+t/6//rv/C/9X/3f/z//P/6//w/+3/9v8NABsAJwA1ADUALwAqACEAFQAVABIADwAaABUAFAAQAAAAAAD9/wAACgASAB0AGgAbABMABQD8/+L/1P/S/8//1//c/+P/6v/0/wAABgAYACMAJwA3AD4AQABFAEAAPABEAD4AMwApAA4A+v/r/9j/1P/Y/9D/x//C/7X/rf+r/6f/qv+6/8b/zf/Z/9r/2P/Y/9P/2v/k//D//f8AAP//9f/g/9T/0//R/9H/zf/F/8H/t/+q/5T/fv9z/1//Y/9u/2//fv9+/4D/if+M/5P/nf+w/8T/0P/h/+b/6v/y/+T/6P/v/+j///////z/CAD6//P/7P/w/+//+/8PAAIACgAGAPf/AQAFAAwAGAAgACcANQA2ADkAOgA1AEoAVQBYAGwAcQBoAHsAggB1AJsAoQCgAMEAugC3AMcAzgDPAOcA9ADoAAIBBAH6ABoBDgEFASoBHQEuAWEBUwF1AZMBeQGVAacBowHFAd0B1wHpAfkB4gHnAeYBtQGrAaABZQFwAWUBIgE1ARIB0wDkALUAgQCJAFkALgAuAAAA1//L/6f/hP9z/1X/Jf8W//L+yP7H/pr+gP5w/jT+IP75/bv9rv2P/Xf9gf1q/Vn9V/07/Sf9KP0k/R79Lv00/Sr9SP1L/UX9bP1n/W/9lf2V/bX92P3f/fj9EP4e/iv+Rv5Q/lX+dP5o/mf+e/5m/nP+hv55/oj+i/5//or+jv6N/p/+tf7G/ur+/P78/ir/Nf9G/47/k/+v////+P8JAEoAMwA7AHkAgQCLANkA+ADfAEIBSQEeAX0BcAGAAdgB4wH2ASMCRAJFAowCxALnAlADigO/AxwEUQRyBM0E/wQ3BaEFywURBlcGkwbIBg4HZgefBxUIVwirCAYJNwmxCdAJHwqFCp8KBQtXC4kLxgsODCYMOwyNDJ0MnQzZDMsMpAzIDHcMIgwQDIULHwu9Ch8KlQnwCDoIZQedBroFtQTXA8sCvgHIAK7/pf6j/Yr8fftz+nT5hPiZ97326vUV9Vn0tfP/8njy+vFs8R3xwvBp8DPw++/P77rvy+/F7+HvGvAv8H3w0fAU8X/x6vFI8sPyP/O080r01fRq9QT2l/Y198z3bvj9+I35F/qc+jn7t/s8/L/8Iv2T/fX9Qv6h/u/+Kv98/7T/2f8JABUAFgAqACwAHwAuADkALQA3AC4ABAD7/+r/r/+i/4X/T/9Z/zX/Gf8a/+f+0f6p/nz+bP5J/kT+QP5K/mT+aP6K/pf+p/7g/uH+Fv9s/3z/3v8XACgAmwC/AAEBegGrARoCigLeAmMD1gNABKAEGQWcBe8FoQYUB10HIghZCMQIgAnCCWYKAAtiCwIMjQwLDa0NPw7DDmQP/Q+aEDsR4xFlEuYSdROrEx4UbxR/FN8U5xTrFAUV0hSQFEwUxxMtE6MSyxEJESYQBA/yDZcMMAuqCREIawa1BBoDUwGq//H9DPxK+oL4wPY19bnzRPIH8a3vc+5i7TDsSetd6o3pA+mC6B3ox+eV51HnPeda52vn0edM6MXoe+k86vrq3uvO7Kvtru6477zw5PEM8x/0NfVA9jj3QPg9+R36/PrH+4n8T/0K/rH+SP/C/x0AcgC0APYAMAFVAXcBfAF3AWwBTgErAQgB2ACkAJAAcwBPADwACwDN/6X/cv83/yL/AP/e/s7+qP56/kz+Iv7r/dD9uf2c/az9pP2s/cH9wf3N/db97/0M/kP+i/7L/hj/X/+J/7X/9v8kAHYAzwAfAYEB3gE/AooC6AItA2kDvQP9A1QEnwTtBCIFWQWKBaAF6gUGBkIGewaRBt0G/AY2B3EHpQf3B0YItAgiCZwJGAqXChILmwssDLEMVQ3pDZEOMg/WD4EQ+RCWERQShRIZE4ET4RM4FHIUkRSgFJAUVBQAFIkTBhNqEroR7BDyD9cOjA0jDJkKCAl1B8oFJQRsApsAy/7i/O76//gN9zP1bPO28RXwcO7d7F3r7ump6ILnjOa45Q7lm+Qw5ADk+OP+40TknOQZ5cDlguZq51robOmV6sHrDe1m7rzvJfGR8vfzZ/XQ9jf4mfnt+kH8eP2e/rX/rgCaAXECNgPjA3cE9ARTBZwF3QUPBi0GRgZIBjkGJAYEBt4FtAWLBVQFFQXXBJcEUAQSBNIDewMzA90ChAJDAvcBsgFsARsBzgB+AC4A7f+t/2n/Kv/o/qb+df5T/iz+CP72/dD9wf3N/dH98P0Y/jn+Zf6h/tv+G/9l/6H/6v80AIMA5ABAAZcB4AEgAkwCewKyAtgCGANXA4MDsgPVA+QD8gMVBCoERwR7BJQEsQTXBOUEAAUhBTgFagWgBe4FVAa2BjkHowcLCH0I3AhsCfsJogpdC/0LsgxCDcQNSw61DjMPrQ8gEK4QGxFwEb4RvRGrEZERPxH8EK0QLxCcD+UO7g3IDIYLEAqDCPgGXQWwAwkCPABO/mv8WPpb+ID2mfT78mHx1u9/7hnt1+uu6qXp2Ogz6Mrngudd51/ncOel5/XnY+j46KDpcepZ60zsZO1z7oPvpPCz8c7y/PM39W32pPfM+NL54vrU+738p/1z/kv/DQDAAG4BAAKBAu0CTAObA+cDMwRyBLUE8gQWBTYFQgU1BS8FFwUBBfUE1gS0BHoELQTTA3IDDAOYAjMCvgFNAegAcwACAJn/Lv/H/oD+Pf4E/uf9uv2b/Y79eP15/Yf9kf2q/b/91f35/Rv+Rf5i/of+qv7I/g3/NP95/8X/5v8sAE8AdgCxANQADwFDAXYBqQHNAe8BBQIbAisCOgJQAmICdQKRAqUCrwK9ArYCtQLCAsUC0QLjAuYC8wIHAxMDOgNgA5ED1gMaBHoE3gRQBcwFQQbHBkgH3AeLCEMJDQrfCp4LVAwGDaQNTg7+DqgPWBD0EHgR2xEeEjkSKhL9Ea0RRRHEECEQUw9dDi0N1gtrCuIIZgffBUwEygItAZD/7/09/KX6GPml91r2JPUN9AXzCfIS8SrwWu+d7hPuse1y7WHtXu1m7Xjtlu3C7Q3uee727p7vSfD38LnxZfIX87/zVfTy9I31MPbP9nD3BviF+Ar5evnv+XP65/pm+9z7T/y//Cb9k/3s/Uf+nf7p/kb/n//7/1YApwD1ADcBdAG4AQACSwKVAtICAwMmAzwDRwNFAzsDKgMWA/sC3AKtAnECKwLRAX0BHgHIAHkAIADU/3L/E/+z/kb+7f2T/Uj9EP3q/NX8zfzL/Mb8zPzR/Ov8Dv07/Xr9r/3z/Sz+Wv6E/pX+qf6w/rP+wP7H/tX+3v7b/tn+2v7d/vD+Dv83/3T/tP/5/00AngDzAEcBlAHqAUECogIDA2UDyQMeBH4E2gQ0BZsF+gVgBtIGSQfGB08IywhDCbsJGwqKCu4KUwvHCyoMlAz0DE8NqA30DUMOgA6+DvIOFw9CD18Pbg9tD0sPEA/GDmEO8g13DeUMRAyJC7YK2gnvCPwHBgcABvoE9QPnAuUB3gDa/9v+3v3p/Pv7IvtT+pH51/gS+F73s/YX9pv1L/XS9ID0J/TI82/zFPO78mryG/LT8ZfxY/E68Rnx8vDN8Knwl/Ce8MPwCvFb8bzxHvKE8vbybvP284z0N/Xq9aj2avch+Nn4h/ky+t/6lftW/Br94/2Z/kL/3P9jAOoAaAHdAVICvQIZA2YDmQO4A78DtAOgA34DYgM+AxkD9ALAAooCSAIGAskBjwFfASoB9gC6AHMAKgDb/4n/O//t/qL+Wf4H/rf9a/0e/dj8lvxd/C/8Dvz5++r74vvZ+877y/vJ+9P76/sL/Dv8bfyk/OD8Gf1h/aj9+f1R/q7+GP+E//v/cgDxAG8B7QFwAu4CcwP4A30EAgWABfgFZAbJBiMHdwfEBwgIRQh4CK4I4QgXCUgJbwmOCZsJpAmqCbUJyQnXCeoJ+QkDCgsKCAoDCvwJ8gnqCeEJ3AnaCdsJ1gnKCbcJoQmSCYcJhwmSCZ8JrwmuCaEJhQlYCScJ5AifCFgIDAi6B1YH4wZbBskFMgWbBAkEfwP1AmUCzgEoAYAA1P8m/4D+2f05/Zv8/ftd+7T6BfpO+Zn46PdC9672IPae9Rn1lfQX9J7zNvPb8ozySfIL8tTxp/GE8WrxVvFJ8UXxUPFu8ZjxzvEJ8kPyiPLX8jjzrvMu9Lr0T/Xo9Yj2KvfM93L4GfnE+XD6IvvW+4j8OP3c/Xf+B/+L/wsAhwD6AGMBvQEJAkUCcwKWAq8CwQLKAssCygLIAscCwgKvApUCdQJRAikC+gHEAYYBQgH2AKYAVAABALD/YP8X/9f+ov58/mL+Tv48/i3+JP4l/jT+Sf5i/n7+mv62/s/+5P76/gz/H/83/1n/iv/J/wsAUQCaAOcAPAGbAQICbwLgAk8DuAMcBHkEzgQbBVsFkwXEBe8FFQY0Bk0GXwZqBm0GbAZtBm8GbgZkBlIGPAYhBgMG4QW8BZQFZgU0BQMF2AS0BJQEdgRcBEQELQQYBAkEAgQFBA0EHAQ1BFoEhQSvBN0EDQVDBYAFxQUSBmAGqwbvBisHXweMB7UH2wf9BxgILgg5CDwIMwgaCPMHwAeHB0gHBwfEBncGHQa0BTwFuwQ3BK0DIAOOAvQBUgGoAPb/PP95/rP98fw0/H37zfok+oH54PhD+Kz3Hvee9iz2wfVd9f70ofRJ9PXzp/Nc8xfz2PKg8m3yQ/Im8hzyIfIz8lXyi/LT8i7zmvMQ9I70EvWZ9SX2tfZE99H3X/jz+JH5Nvre+of7L/zU/HT9Dv6j/jL/uv87ALcAKwGZAf4BXQKvAvYCMgNiA4gDowO4A8QDxAO5A6EDgANcAzsDGgP5AtkCuQKUAmgCNwIBAsMBfgE6Af0AxACLAFMAGQDe/6L/af88/xj/+v7h/sv+tP6Z/n7+Zv5Q/jf+Hv4J/vf96f3e/dL9yP3F/cz93v34/Rv+Qv5m/ob+pf7H/uj+A/8b/zr/Xf9//6L/yf/w/wkAGgAsAEEAVgBvAIsAnwCrALsA1ADwAA0BNQFnAZQBvwHvASMCWAKSAtYCGQNZA50D6wNDBJ4EAgVtBdoFRga0BiYHlgf8B2IIzAg4CZ8JDQqGCvMKUQupCwYMXQypDPYMRg2HDbIN0A3bDdYNzA23DYsNTA0HDbkMYwwFDJwLKguvCi0KrgkgCY4IAghkB8EGGQZcBZUE0gMZA0sCbQGiANT/+v4K/jj9c/yB+5/60/kH+Tn4dffI9in2g/Xo9Gj05fNc8/zyq/I98vjxz/GY8XLxV/Fc8VLxXfGH8cnxFfJH8qvy+fJc87nzIvSr9B71svU/9t/2dfcT+Ln4Zvkc+rv6Qfva+4H8+fxg/cv9Pf6K/tD+JP92/7r//v9AAHQArgD0ABwBRAGCAZsBqgHDAQ8CEgL6AQoCGAL6AcABrQF/AUoBFQH7AK8AggBSAAYAqP+F/6r/Mv/K/uj+Sv/I/ir+ev6M/gf+aP2k/Yv9ePz8+7n7IftV+sP5M/l/+Cb4/ver94v3uvfg9+b3uvff+AD5RPiU+Ob4Svm5+PT4RvlI+WL5fvkq+if6svoT+1T7xvt8/ED9N/0T/uz+0P9+AEIBlwJYAzQEIQVkBhsH4webCCwJIQq9CrALKQw7DSkO2w7bD8kQBRK5EjMUQRViFq4XkhiwGSkaNhv0G5kc2xzeHEMdrxxVHKsb2hqrGToYNRd9FfYTDxIgEBcO9gsJCqwH6gXqAxoCPgAD//b9WfyS+4b6G/pP+dz4tvgk+MD3APcG9zv2pPXm9Az0bvNh8uPx5PBt8NXvme8679juN+9p79bvyO+18CPxkPFH8nHyKfNH89nzLPSH9DH1afXV9Un2Cvdo97z3Mviv+O347/hZ+XX5c/ko+fz4DPkH+VL5LPkv+aP5FPo/+nb6GPto+2z7U/ss+xH71/pI+sn5cfk++aD4cfiw+MT4EPnP+EX5RPlG+Y/5i/mC+cD4sfgv+IL38fZq9rH1zvRv9Dr0d/NE8l3yKvIJ8qXxtvKp8wnzQPSl9Bn2j/be9lP48/i2+hj7+Pvs/DH9o/3l/Xn+zv8YAGQALQFEAUQDkQSXBjgI0QosDhkPjhBwEYcTLRNEEacPfg01C9sGkwROAsUAxv/2ABkG0AsOFEwd2icNMVc6UUZdUQ1Y0FkZWXpVck4rRM44uysFHsAOVwAY9uftd+d04Nfcf9so28jcJN8H4a7fid6s3Vnc/NoY2qnaPNzh30nk5+pr9Lj+1QheEjQfUipbMb022jlEOj02TjEbKncfqxP+B3L8U/CS5XHdnNW4z67MYMsQzerO8dH80+DXt90r4hTo9Ozi8n/3hvtnABwEPQjCCmMMiAw/DAwM8AnnBssCYP7B+hL4u/XP82zyhPGh8HPwQvH38hj04vOg87fybvL570jt3+lt597lD+R05Wblt+eX6Yns5u/E83T5avtZ/iMAlQE7AhECZAKBAPH9Tf3k/UL8/PrY+8v76PpF+2f8bPs/+y77wvhB92n2D/d49abySfOZ88zzR/VA9sP4ivnk/RoA6f9LBm8FKwfFB+kJ3Qt1CFENbQv/Cb0Jhgp5DrkMHhCWEhYSaBTlE3ET/RG6EEwMggKx/gr6RvMi74DuVe/C7Gvz3gCmDwggbjGERZFUZmczdYR7/38ie0BvLFs9TIY6LCEjCPnv0txKy27B2b0+utu6079NxVjNOdgK4XDiuuSC6nTrpezM7tDx8PLZ9HT9uwbxEewcsybeLoI1zTxOPq86bjRMLJYh3RNHA2/05uXT1h/LYcPawRPA98BdxHTK2dK02e/imuta8v745P+ZBTcJ0wqSDEwNlg3gDSANygxtCjMHFgMs/Qz6uvYJ81zvoeyT7CnrD+zK7ZjxZPZl+IT60/0cAPL++/sn+ZH0Zu5J647ocuYV5Mvjyuas6Y7v6vaT/uIEmwmIDrwSRBTKEjEPSQwFCBYCiv4Q+QD0Ve/z7A/uE+6g8FT04Phf+0L8zQFdBJIDkQP0Am4EEwJNAGj9Nfq++7D6cvtw+Rz70P19/R8A4P/tAicHVQfEAnAA9AdDBh39e/ug/vz/ffo//OH9Nv1a/539T/6M/5sH5gtFCWEO4w7uDDcJUgcHBVr9TgDT+3D2BPYu9+r57vjUAWkIkBT8JxA59EU0UI5fEWl5aqhrL2tUYTJQETvxJUoSCv9O6DPRz8RHvIS2TbfivL3CL8e/0OTb2ebU8Cz5c/8vA0UHfwqaDfgPVxBVEBEVWRrIG1kcKByrGucWbhPJDUAFofu+7zXkNNtD1QXPPMoxyWfLDdDL12zh+ek+86z8MwYwC/AP5hIsE5sRLQ2QClkFagEM+2H2fvRi8hfx/+197V/sUe207Uruve9x8UH09fR2+AT7fv0F/8gALAEw/xMA5P1D+zn24PJD8EHsuOqI6fXsM+9u8Q31iflj/i4BcQW2B3cI9QYzA2f/mvmO9bPw2+yC6xDqxulU6jntAu+D8+r55f9xA6AF4QiYCrUKZgrMC10LMwt7CFEHjAb7BfEEk/6X/Nz7o/xs+mP3Ffg69QD1sPLT8kH10vQM99TzBfhQ/IL9yP9D/5cEuwP1CPYMwwzPD1oQvRNlEDsRTxBWCtkFogFI/5n43/Xt9LTwe+5G8J/yC/VN+Ef7T/6WBD0LUQ0AE+ofEC3DNnlCllPBYflofmyzbchqS11SSuc2PSM2DazybNqRxlm3o6wnqf6sqbWywffOVN9h8QQBnAtUFSEdZx9yHt8bHxhtEFUJwwQyADn+dv3G/cr9Tf6b/zj9nvqb9n/y7e6A6ivnyeL54SvixOKt5hvrcPFR9yj9kgEjBCUHtgbkA1AAbfzr93PzE/Fg7o7sFu+e8T/z+/Xv+90ArgGWBMUFTQUwA0MCEAAY/ML65Pdb9f/yj/OV8sfxE/Og8pry6vMt9gf2u/UI93r2HfV19k35bfrc+af8qf2m/Qj+of18/bz7PPyv+Sf3XvXO8mnwGu2s7W/urvDB8k70fvhV/JH/HwCKARkDrQIkA5UCCwEu/v78f/30/f3+NP9vAKwBuQN4BDoFowbLBRUC8P51/1b9U/rG+EL5Tfex+CH97P2F/fH/dAcKCnYMDA7PEOsPBQ3HDBoJnwgiB2oG6QJ+AjADpv4Q/NT65vp1+Yn6jPz3/TkBCgWMBcgFXwivC20PKxDFFIgW9xY9HCYrdTxfPks+zjvnOsM24zCDMSoseiA3DU0ApfpR89Tp19wN2bnb690D4wjpSO5d7R3v3Pe7ASYJowsnDrEPtw/fD04RPhA+DA8J4AqaDCMJMAO2+YDxheoX6MnmTORN4gPePdxm3XvhceWc6tHwV/b1+4ICCAcSCMIH4QY5B9MFwQSoASL+4PqM9+f1rvWI9933XfgP+SL5X/hD+IH3ovVE9dr1pfUO9aP0avNM8b7wa/LE9JT3sPkm/Zf+gf/p/yoA0gBn/2P+BP24/EX7OPiZ9YjzgfID8zvz0vO88ubx7vEX8ZzwJ/AA87jzjvRg93f7kf5X/80BVQN+BDAFlgYqBvsDCwLdADoBbf8B/o796f4PAMX/VwF5A2MFxAOHAtUDhAS9BAADoQAJ/7L8B/oY+Dn4G/i491f6mfs3/bwAoAXYCr4NsRJ+Fu0YgxpRGbYXFBQlE5kPfApqCNEEx/5m9c3xh+9T67nqjexL7orsD+8A9UT45/vK/ecDGwlHDI8OHhDcE3gQVA8VEJwXsR9XJhYysj0oSBtKCUviR/pA+jWfKFgbHQry9pfjhtZXzG7GR8Ziy1HU5d4u7ef6EggMEroX6BzHH7kfTBteFc0NWASv/Uj4r/U29XX1QPbe9vv31veY9nH1bPSS8yDzg/KU8s7x3PIN9WH3TvzjAKMFqwclCYUIQQQ/AOT63vV/70nqSOed5I/jA+N65qrr1vBI92v+iAUUCa4KBQoNCW0HkwOx/9j8Mft1+CD3efdh+Ff4PPmE+2D9fv7m/i3+2/ou+C31e/KZ70/u1+1+7IXtyO948sbzA/fI+u38c/72/vz9YPuQ+E31VPI573ftv+y57KruEvOP+Az94QLKCckO1hGzEt8RGA+TCmQGUwGm/an6w/d49nn2pvin+Rr7L/+5AnoFUwZEB+QGNAOsAQgAcP8W/4QAnATMBmsKFQ7fERwU7RM/FEISpg6CCrcFSwJL/gj6T/cE9xv5a/oh/XoB8QLsA1EEhAZpBmQCov+Q/OD7dvm1+Av6n/t+/OH7mf9GBGYGqwXBBrAHNgbLBOQDdwMMAvgFpA7oGzkslDlARj5NaVHbUEtNV0gLOsIpaxUhAgzwm9421L7Lj8uWzxvYr+RB7wz8cwU/DnoUlReEGRYVmA6BBpv+jPek8GXtPeyd7cfwy/NZ+B777Px+/qf/mf9V/U/7rfcC8xzvyO357uHxUvX6+NH8Gv/D/vz8Gvyx+aD1bvGo7VDpTuQq4SbgEOK05gHu9PaX/8gHgw32EM8R1g8YDLwHCwQN/gX4DfPk7nnriOkY6/Xt//GC9UD5xfxr/14A/v9p/379H/tk+Lv2mfQT8yPza/Md9Vn3FvsC//UBoQTbBBAGAQYYBBsBX/1a+3D3zPW+9BT0yvTx9S/5QPwtAIMCKAMvA80BFADs/SH7AfhG9NvxHPKd9DP3K/tfAtIIdg2PEREWKBfHFh4WahM7D+MJMQZWAYf9EPuX+Zn5aPqV/dwABgRQB7IIEQibB4YG9QWnA3YBd/74+zj8gfms+fX6Q/1E/u39af+K/uP+3f4c/bz9T/09/Az6AvrB/V7+MwNaB+8JhwrqC70PmQ0CDNIJ3gZoBMMDYgNmAawC9wcCEAkgrzbASI9SB1XhUY9Hujo2LnMdvAql+Fzp+NyO0/rPddGA2EnlpPQ/BhgUeRwaILggwCChHBsYiBGnCTUCPPyJ+LL1DfbL+Fb9QgKuBVcFtALq/ET2Y/Fc7uHrDuhv5mzkjeQJ6DvuEvbC/Y4FEwpIDOILWAioA1L/jPvK97T02vIV8HTubu558Z721PuWARsFrgc4BcEAO/s49f7viuoW6ZjnC+ds52Hq2+++9KX7agJBCG4MZw6SDuoLKAi5A07/Ivxc9//xne2G6tPodemI7ZnxqPUs+vr99v/vAAsBGwDk/r79wPzK+i35ZfcD9x33A/hH+sD8yv5Q/04Agf9m/mz9Kf5j/sL+3QC6ARoD7gOfBp0IsQoiDawNig7FDC0JSwa9Ajn/tfpu+Nz01+8Y7xrsker46kfuovCv8tv40frE/JP/SwJmBP4FkwcqBqwEcAOBANf+//61/iz//f8XAj0DFQSnBeMFeAekB1kH6QbHBaAEQgJKAQIBhv+2/60A0gHXAoIDxwRAAwoF6AZeBtEFRAZPB4kFvQbbCN4IPAnoC98Neg6YD7gStBMgFSQa8x/aJQopgSw7LK4pDyfiI48f/hhREuAKsAKC/N73NvPC8JnwCvMx9PH3APzo/TAA5ALTBgcIZAr1CqUJDwkDCQ0JdggqCaYIEgfaBZ4D4P9//Av5fPXZ8X3vxex06mPpmueD56foC+vc7PDvZ/ME9eb20/iy+lL8J/9dAXoBQADN/qn87/oN+nX5h/gS9832w/Vd9JXywfFQ8bbwKvFk8YTxAvHN8HXxKPPX9Fb1D/Ye9733UffW9of20vXN9Z/1BfbR9Q/2E/dX+Ab7EP2i/w8B3wJpBEkEFgS9AgsBjf6U/Lf6rvf+9HbyM/Br74vvifB78ffyffRO9Uv3N/mR+gL7I/va+9L7VPzl/Bz9Dv5k/zMBYAGtAa4BxQDR/3v+9fww+4z6UvmP+NX4wflA+sT7Hf4k/9AACgKeAuABmwFkARMAJQDK/1IA0gCfAbQCxgMvBsIHOwp4C38Mjg3QDkoPRQ9nEJkQoBDTD30PEA4bDVwMWwsPCyALNQwFDHEL1grbCgsLqQrmCVkIFwcdBuYErAIvAYoA2QAzAv8D7gUtB/IJvQvPDKENOg8fECgPnw6ODcIM0QuCDLEM9A08EDQT5xXKF2QZhxgUGRcZXxjZFegSdhBVDbYLVQlgBjgEyQIOA4YDTASwA2wB2gCX/x//Mv1B+9z54vj++S76iftx/OT9n/9lAbkCkALpASsAff34+ir5JvbK8n/vvuxB6szpu+oE6+Hr6ez37fXuT/Bs8BDw5/Dj8VryN/O381Hz9POI9Xv24/YL+Aj4Tfd/9jP1B/N/8OXuG+1m7PDrr+v565vshu6z8FPzy/U6+Lv6D/xH/br9SP1g/P36Lvo2+Xz4RfdN9lf2qvbL9zf5r/px++z7X/xs/Nr7jPpv+WX49fZp9W703PMD8w7z2/MU9bT2oPiG+ij7svup+377yPqv+TX5Fflv+uT72/2//9EBSQRdBlsIEAkrCYoI1gcQBx8G0wSfA2kD2QPXBK0FDQddCJUKZgxGDXMNpQyFCxIKbAnoB/UGuQboBqoGYQfKCHYJnAphCz8MHQxxDNULywosCpYJJQmXCFAI7wccCFQIvghdCG0I9Qd4Bw0HvgYnB84GXwepBywI9QjWCdIKpwvMDPIMwAz1DEAMFgqnCJMH1QUCBM8CvwGpAF0BCQIUA6kECQY9B4IIPAqQCvUKJwvoCl8K6AkHCacHlAamBVIFIQUvBQEFrQW3BX8FgwUXBnQG9wXwBeQFTwYhBlQGXAZ7BnkGPwfnB7cHZQemBkQGQgUMBf4DmAImAa3/p/47/fj7u/rQ+fb4wvem9qP1C/QN8yDyu/Gj8eLxLfK08QPy7PFu8crwgfAs8FPvlu6i7Z/sw+tx63rrI+ws7XXu8O8X8RbyrvIm81DzEfN58mbxtvDO783uZe7w7g3wKfEO87r0PvZ294v4WPmP+d/5hPlL+aj4JfgF+E74Rvli+g38uv2n//gA2AFVApYCEQIBARoA1v7B/Xj8mvsE+xP7g/sT/AH9K/5A/1UAcQF/ArgDTAQNBaAFggYpB5cHIAgjCHQIdQhKCMAH9AYOBuwEkQMQAgcBfQDV/w//yP72/nn/bgCyAfoCZgTDBQgH8QeZCOUI2gj2CBkJYAkXCYgI9AdCB1UGpgW4BQIGSgZFBk4GIQYkBhIGxAWaBaEFVwYPB7wHKQhaCIwIvwgBCe8IfAizB2wGJgWhBIIENASyA5gD1ANTBAYF2AWsBk8H9QdhCLMIbwjaB0MHmQYvBsUFvQWzBY0F1AUjBowGrwblBksHGgeuBt8F+gS6AwQCcwAg/yL+V/3A/IL8OvwP/HL86fym/Yj+iv9XAK4A8gDYALkAjwAjAKb/+/6B/hj+of1B/Qn9MP05/Uz9XP0f/b38Lfyf+7z67/k5+ZT4WPhT+G34mvgh+Q36KPti/I39bP5E/4v/pP8b/wX+Av31+0L7BfoP+X/4TPhp+Kz4dPlA+rb6zPq5+pr6Vfqz+Sr5gPgo+E/4tPhQ+eH57foL/ED9cf5f/ysAfAB3ABAAqP8w/5j+Gv6u/Z/9zP0z/nP+g/6h/ur+Q/85/87+UP7S/Ub97vyp/Kj8v/wE/Wn94/2m/vz+Wf+S/4D/bv9S/1n/M/8x/2z/s/8fAIAAIAEUAs4CdwNABAkFKwWzBEsEcAM3Ag0BHwA9/zv+gf0H/cr8wfzR/B/9nv1z/mr/WABEARsC8wKlA2UEDQWkBTMGigbJBvQGAweaBrMFdQQXA7cBZQD4/p79oPzy+5X7avu2+zb8Av3+/fT+OADBAT0DRATvBHMF7QVGBmUGEQaDBfgEbATgA0gDvwIjAp4BUwH7ALoArgCiAHgAIQAgAB4A/P/Z/6n/wf/u/zIATgBsAKcAmwBfABUA4v+t/z7/1P5w/jX+Cv7V/d79GP6//pP/hQCYAYkCXgPUAxAEFwThA3cDxQIjAjEBHQBa/9L+Yf73/Rj+j/7p/iL/Vv90/0L/6f6i/lb+AP6F/QH9h/ww/Cz8Y/zT/Gr9Jf7q/sD/igAdAVkBUgFOATIB5wCDADsA9/+N/1T/cf/G/w0ARQCJALIAzwDPAK8AZwD5/6n/kv/D/97/u//A/9//AQAYAEMAdABdACoAsP8h/3b+ov31/F/8J/wV/Db8nfwX/b39df5n/3AAYAE1AqICzQLFAo4COwKzAUcBogDO/+L+7f0+/bn8jvyv/CX9qf38/U7+i/6q/tf+Iv9z/6f/2P8CACMATQBjAK4AFwGeAScClQIVA2cDXwPsAmgC+AFqAcsAMACl/w7/pf6M/qv+7P5S//j/ogASAUsBZwFVATkBIgELAdQAmQBxAEkAOgA0AFgAuAAlAZUB+AH+AawBMAGwACMAfP+q/uT9cv1E/Sn9Av0K/V39RP43/7b/4v9CAPoAVAFPAUEBwwF1Aq0CWgLdAdgBFwJOAjwCIQJXAnYCRQKdAdMAJwCw/3L/Bf96/uf9xP0m/mL+gP7J/nD/JgCWAPcANwE/AUgBgwGsAUsBogBbAIsAgwAAAIT/Xf9m/3n/a/80/93+n/6b/p3+g/40/gP+E/4+/l7+af6u/jz/xv8kAH0A2wAtAT8BIQH5AJkAOQD2/6X/SP/t/rv+0P4B/yr/av/J/0gArADwABgBQQGbAcsB3QHXAdABqwFTAfIAwgDKAKoAiQCHAHgAKwC9/23/Xf8f/87+kP5Q/i7+zf13/Tj9Lf1a/ZH93f0K/jf+a/65/g//Of9n/6j/3//l/7r/u//m/xsAAQDv/yAAXwB+AB4A4/+U/1D/Bf+o/mL+vf1Z/Qz90/xU/BH8jfwy/bv95f2L/mn/LAC4ADYBCALSAn0DjQMwA/AC3wL+AsoCEgJYAb4AZgDY//j+Hf5y/TP9+PyQ/C38Nvxv/LP89Px2/Xb+T//k/28AEAGwASQCQQJMAi4CHwIqAjECPAINAuMB3AEUAj0CXwJGAiwCQQI9AlkCAAJmAcMARgDy/1//uv5M/lL+fv6c/qn+9P5u/+H/JABkAL4A4wAaAToBUAFLAQEBFAFbAaIB5wEpAooC0AL4As4CfwI3AsoBYwHDAPz/PP+f/kv+Mv4c/i/+uv5s////GgAYAEkAmADUAKAAYwBBAEoATAACALv/q//9/4EAFAFvAbABGQKDAvsCFgPFAk0C1gF9ARQBcgCu/x//vf6S/oP+UP4q/jn+g/7a/t7+0P7l/t7+1f6+/u7+Of9U/0j/cP/n/ykAbgCuAEIBrgFxASIBCwErAdoANgCy/3f/ff9R/8r+VP46/qb+Kf8n//7+Dv98/9v/rf8k/9b+v/6z/nr+D/4a/lT+lP7d/sj+vP71/lf/+/9UAEcAEQARAGAAbwBAAAAACAA7AEgA1f/B/9L/zP8lAPn/IwDJ/yj//f1U/Aj8aPwE/rn+BP45/Xj8w/ww/VX9Of3X/UT/rQC1AasBiAG+ASgCTAL/AcUBaQFRARQBkgD+/yr/0f61/pP+Q/4P/g3+0f19/Sz9aP0q/h7/5v9kAMkAYgExAuACQQOFAxgEtAT0BHgEygMyA+ACkgLDARUBggAuAOT/c//c/oH+t/4k/6r/2/8cAGYAxwAjAQwB+AABAW4B3QHfAbkBnQF+ATIBxgBoAIoA7wD7AI8AOwBBAGgAqQDdABwBbgHbATECdwJtAgYC7QHrAe8BtgFAAb0AHQB4/+j+Xf7t/br9Pf0a/cr8zvyn/RL+XP4w/tT+3f8BAUMBPgBfAdUBowKQA+IBxQFpAR0B/gGMAVwBQgHEAGsAEgCM//7+R/52/VH9xP04/lv+mv4X/4//cv/c/vb9Y/2k/fX9Tf4y/jj+ov48/5r/kP/V/9X/KABjAL0AXQGIAeIB6wEhAiQCrQEPAfv/a//7/nX+Ev6E/T39L/0p/Q39x/ye/KP87vx7/ST+4/5Z/6b/4/8BAHsAngBnAE8AQwB3AEcA2f+A/zr/LP8Y/wH/B/8c/xr/NP9R/4n/zP/u/+P/jP9P/0b/Yf8p/8X+qf7a/lL/kP+K/4D/kf+l/8z/3f+7/8H/7f8cABgA//8TAHAA0AAfAVwBUQF3AaQBxgHAAUoB6gCkAIMASQC6/0T/+v78/kv/rP8AAEcAvgBwARsCiAJxAiIC+AHyAR8CIQLuAawBXAFUAXoBXgECAawAlgDBANgA3QDoANsAzwDJAPgAQwFJAUUBbQF9AXYBYgEnAScBCwG5AI0ABwCb/3n/cf+N/4D/sP/o/0cAdAAHAC8ALgBiAAYBzADJAKkAZQCtAH4AEQDQ/5r/jf+i/3X/Vv9X/xX//v7H/o3+fv6K/t3+7f7j/uP+9/4x/1T/iP/I/+L/3v/e/9L/wv+J/yb/9v7H/qf+mP5p/o3+x/73/k7/Xv9y/4P/hP+p/4f/Wf8J/8b+rf53/nL+bP5e/kH+Nf5+/vr+Wv9j/3X/cv8+/yD/Gf8Q/xL/D/8Y/1n/Zf98/7L/0f8EADcAZgB5AHQANADY/2//If8a/wL/0v5f/i/+bP7g/m3/i/+z//f/QgB1AFYAPAA5AIgAwQCXAFAAFQD+/8j/gP9Q/1P/fv96/2T/ef/L/z8AdQBZAEIAWACDAMkA0wB7AGcArQAdAXIBVgEWAQwBKAEtARsBygBjACgA6//g/8D/lP+z//H/OQA+AGEA0wBFAXQBeAGfAbwBywGrAcwBFgIGAgQC6QGxAYgBcgFsAU8BIwHZAK8AgwA2ADAAOwBQAF4AWgCKAPgAUAFaAW0BUwEoARsB4gC4AIcASAAlAPv/2v/S/+H/FgBoAKoAyAD0ACkBQQEaAdAAiABXAC0Az/96/0D/Qf9//4X/dP98/5f/5/8XAOv/2P/y/yIANQDk/4z/c/9j/0b/Df/U/uD+F/9V/3H/df93/5T/yv/Q/8D/zP/x/woA9v+8/5z/lP+I/2j/Iv/f/sX+v/6e/lL+B/4I/lD+lf6T/n3+nP7h/iT/Uv+O//D/VACQAJgAdABRACcA6P+O/yb/4/7S/tn+wv6C/lL+UP5l/oj+mf6q/tH++/4v/0r/TP9j/4b/mP+U/2//XP9v/4n/sP/X//j/FAAaABEAGAAeACAABADH/4f/Yf9o/4D/iP9s/1j/dv/B/wwALwBCAFsAfACgAKIAbwAuABIANQBIAA8AwP+g/8H/8P8XADIASQBoAIwAuQDLAMgAxQCoAHoASwAyADsASABqAJYAwgDrABABSgF5AZ0BvAHAAbwBsAGbAW0BEQGqAFkAIwD7/+v/AQAxAHoAqgDRAB0BdwHVAegBwwG7Ab4BwQGnAXYBVAEnAfMAyQClAIYAaABSAEgAVwB5AKcAyQC2AKUAswDUAPoA8wDpAPYA9AD7APQA5ADZAMIAugCtAI0AYAAyACQAFgAAAO7/6P/x/+r/4//Z/8v/uv+u/8n/4//r//X/+f/3/9r/wP/E/8//zP+z/7H/yP/i//j/AADt/9P/vP+g/33/Mf/f/rX+ov6g/pP+gf6Y/tH+Hf9k/7f/FABlAJkAsACyAJIATADU/0T/w/5a/g7+tv1P/fj8z/zk/Bn9af3H/Tv+uv4L/zf/Yv+f/9z/EwAjABwAHQAKAPL/xf+I/13/NP8O//H+4f7J/q7+g/5J/kb+cf6y/rr+qv7S/v7+J/8o/y//a/+W/7L/sf+f/47/fP+M/6n/3/8EAEEAmwC9AMsA0wD7ABkB7wC6AIIAPwDr/6f/hP9q/2X/Xf+K/9r/OAB5AHIAmwDWACABVgExAR0B+AC/AIwAMQD6/+f/6P/g//X/TwCvABsBTwE5ASgBSgGlAfAB9AHHAcoB1wGyAbcBqAGiAZMBGQHHAIgAoADsANgAxwCdAJcAnwCnAA0BdQHyAQsC9QEfAioClAIgA1AD8gIiApoBMAH/AMoAVAAYAHb/2v7i/v7+E/9T/3P/h/8EAFIAiwDfALsA7ABjAWwBiQEhAYUAHgD6/4MAnABsAN7/iv9t//v+Uf9+/8X/GQALABEAAAAJAPP/JgAVAAAA//8S/9H+w/7z/oX/Tf9O/+z+X/7U/kn/9v+pAE4AdgBPAC8AcQAVABEAlf+m/xr/E/7F/SP9CP44/r79qv20/Mr93/6E/30AAgDy/2L/d/6bAAoFpQa6A07+fvrZ+2//WgGuAMr92fs8/Hf8U/w4/Hv8hf6OAP7/Jv6k/Jv8sf5eAPsAbAB0/rb9m/1Y/n7+UP7r/sH+7//4/5j/8v8SAKAAwgEIAi8CBQI9AdUBygAqAI7/Hv/t/rj+5/2S/Vn+Sv1P/sb+hv6W/zcA/wDFATkBBwHdAF4BEAKZAQcBz/9E/7D/g/+g/t7+2/wF/xz/rwDtADP+VwCP/ucJGgnDAwsD//tMBPsFVQX+BiQCHQRYBHEAzP/w/OYC+QQEA8MBt/nd/GT+OgBZAqz/Zv8//S/+J/5e/3//of/BALr9eP4Y/Lv8s/5J/ib/Nf0o/fX8GP+X/88AEwJoAKUB/wA+AdEDJgNtA+8EPgLzAUcBMgC/A6gCPQJ2AmD/VwA3ATwAMQLyApoA3gEZALX/pgKIAfEBRwEYAAsATQGnAJkBbAFu/5YBJf///ff+0P47AUsBdv7d/hH/Gv8nAXMAdQAlAaP/sf5N/nL9hf6m/x//wf4W/ar8sf6w/g3/If6L/kwAdf8S/0X+C/+A/0//4/5P/az8u/wP/fn+mP4C/q38zvwZ/rb9aQF1AdwDxwIzAP8BEgNtCIsJpQgWBNb/2P83AtoF7wS+BFkCdADh/wX9yf1j/mIBRgMrAF3+EPrL+mz8rf2GAc/+k/8N/VD5/fp2+1X/VAAIAKT+y/yP/Vz9a/4x/4L/X//S/4cAtv7m/bv9Pv82AUwBAgKT/1f+tf4c/xkAqgCaAU8AWwAmALcAsACNACcCAwHdAdsBpQFXAkIBbgHCACsB4AGfACoAL/7w/W3/m/+M/6n9ZP9DAGgAtADl/hn/Ev9TAuwBOwE7Ag8BhQLnACkAz/82/6EAzAAgAJ//UwBV/3n/FQEiAf0BiAGzAIEAAgAfA/8BTAAEAbv/xQUhBH8ASv7t+Jf/xASqBmUG5//g/Bn/dgABASMBOAAgAnADLwDo/Ff6ffqC/wECAwNiAAf7E/n5+fD83v45AFb/lv1m/Ib7Qvxq/RsAggBv/53+L/5S//P+Of+T/q/9tf/bAPL/kv7i/Tv/AwGbAbYB0wCDANsB+AJVA0oCvQANATcBmQG/AK3///9p/0X/sf6G/sP9oP0j/TP+kgAlAGoAfv9Z/+v+cf7E/1UA3P/X/6//4v79/Tv9iP5u/k7/TADk/zX/Zv72/tz/6gDSAK4AdQC4AL8AiQBn/0L/LAHkABUCKgGO/xcA/v4WAH8AAwBdAcwBzwC4AAoAAgG4AeEAmQGYAC4CwAIsAt0B6wDWAe4B3wLCApMBwAALAeUBawF1AHoA/gAUAQgBUwCl/4f/fQArAUAB7wALADb/t/45/rX+vP+Q/xMABP/U/YH+lf5g/zUAdQB+AFUAj/8a/73/AwC6AOQA9v+Z/xsAygBHAAAA9v/zABACBgFZAbgAz/9fAPIAOgGXAFoBzAAJARgBAADBAAcAsAB8ARIB8QDs/xv/s/5y/ykAQgCcANr/FP+R/9b/+P8Y/wr/yf+u/4T/HP6i/pr+jv5e//P+UgCEAPT/kP+7/tD+0/9NAMsAof+V/qn+/P1F/wb/1f7z/hb/iP8G//P+Yf5e/xUAfAA0APz+3f6h/hb/h/8MAOb/Rf9O/47+Ff+I/y7/2f/8/1QA3wAvABf/of4l/3kAngDp/2T/NP7z/Tr/6P9MAHkAZf94/5v/Ev+L//X++f7N/+3+L/+D/oz9Bf9a/zH/c/9aAIgAhv///lv/EAF2AhwCiQDn/kr/IAAtADUAQQBaAKcAsAFoAI//OgCPAYwCCAIQAlMBfQEmAl4CSQFfALoAugA4AdgA2P+S/m3+O//s/i7/Mv8E/+P+Rf+VAIkACADB/1AAhAFxAfQAJQEmATIBzwDwADYB6gD5AGEAOQCF/0kA2QDWALkBNACAAJoA6P8AARkBkwE/Ai0BhwBNAN//AAFlAUoBGgHH/+7+Df/n/+r/u//z/1UA7wBaACUAigC1APoAHAEeARYBbQFxARUBZgATAEEAOgCZACoA8P/2ALkAAwB5/67/9ADpAMQAfgDh/xX/uv6Q/0AAyADZ/7X+8vyd+6P8AP8HAQ0BeAEk/y/8EPz5/SkB5QExAQ7/M/79/jQAMADq/Uz+R//Q/6X+Yvxi/QIAhgKcAZH+2PzJ/HP+4P6o/k/+u/04/av89vxk/cX+TP81/mn9g/3h/lb/Vv5I/cH93v4q//z/Xv+C/lP+0/0H/jX9G/1O/jf/g/8k/4f8QPqr+0L+0QBXAV0AT/9G/5b/eP87/9L/3gGUAr8BL//2/R//6gALAqEBigEhAWcAhwB6AOcAiQPuBCUEOwIwAA4ALQFuApED+wOBA80CpgG/AS0CWwIYAzIEugQEBJUD1wLrAoEDNQQvBdgEnQT7BAAGQAZbBAADqQPGBcQHkAh0B/IF5QQCBFUEagQNBUMGbgdfB+AExALPAhEEBgVOBfoEZASHA3UCDwH7AKMBQwJ2AvQAEf9o/WX9pP1A/fD8YPzn+3L7p/r2+bT56fkZ+q75hfm6+DT4Ivha+JH4Mvhp+Ab4m/dq9x33HPdO9+r3Xfje9133dvf099r4UfmR+e/5KPoQ+/n74vsL/Ar8Ev20/sH+g/5b/pb+OP9//1z/iv8cAAkB5AExAeL/0v/H/1oAugA1AMwAFQAM/+P9b/1J/7wAdwFKAF7+y/3z/Wj+V/7N/sj/Wv8W/l38BftQ+9v80P05/d/7LPsB+8H6Pvs0+yH8Uf1g/UX9dfyC/Lz8+fxE/jT/MgCgAAgAFwDg/ykA5gAdAlUD+wP5BGEG4wfrCA0K9AldCrML5Q3WEEkT/xPxEiAS+BHTEz8V4xanGDUYURf3FsIX+hhhGMgWKhYmFeUUwRVYFZUT6hCHDtINkAx/CuAIzwaFBcMDewFe/6n8L/rv9+L2H/bx9G7zMfE374XteexH7M3rsepi6Z3or+gG6YDpnOln6Q3p4egJ6ujqq+sq7S7uC/C68ur0Dvak9bv0cvWE97n7uAAMA5gD4QGtAKoBIAQ7B6UJ+Qs0DawNRA30C+sKBAupDF8PJxFxEXYPgQwSCiwIYwgeCcMJqQhLBjYEbQJCAdH/Lf7V/Ov7efsT+9H57vez9cX0GPT+8+Hz/vKI8mXx5PDG8DHxf/GF8ZHxh/Ga8dvxgvLZ8nXzjfST9er1+fW59Qj2RvfL+G/6tfsS/NL7jvux+7T8Fv7W/1QBMwImAo8BrgBwAIsBlwInBLgEFARgA1gC+wHyAa8BTAGIAckB2wFxAaUAOwCv/57/9v+wANUAagAhAD0A7ABuAZYCAwSvBJEEfgQyBdsFxwb4B+kJhgxhDQoOWg7WDVoOWA9DEo8VTxdLGGwY7xdqF7AX9xjgGmQb8xr2GjMa5Bh2F68VnBSCEwcSMRGeD18N2gpsCKsGhwRQAl0AZv5V/OX5g/f59ILygvDx7hLuyuzq6hbp1ucD577m3uaq5rbmiuYp5n3mK+cx6I7pu+oV7Cjt5e0X73zwO/JC9AX24vey+fD6kvyd/n8AUQK1A8oEwgXbBlAI4gl8C3sMDg1oDYQNkg2HDfUNUQ47DpQNTQxRC40K8glbCZMIiwfxBWQErAL1AMT/FP9j/ir9kPub+Uv4V/fA9kf2MvUt9GnzEfPH8ofyY/IZ8t7x0vE78mnyZvLW8i7zHvTs9N31M/es9xH4RPgO+Vf6r/st/T/+zv74/uv+Nf8wADQBGwKbAtYCWAJCAp0CAAOQAycDTgMPA58CiALxASwC9gGmAf4BlAHmARECDgL8Ac4AcQBv/27/wADlAv4E1QQdBG8CzgHSAqwF/Al4DDYMoQqICeUJ5wvwDj4SXxPdEkwSJROUFA0VYhWZFcYWcBf+F8cYUBdMFNURoBHVEokSeBBkDW8KNwijBjwGjQQlAXT9YPvP+oX5YfeB9LvxHe/B7ZbtN+2t6wnpDeet5sLmwOZW57Hm5OWa5fHlj+e26OfpbuuC7B7t5O1n7+LxhvQH90j5bfpf+8z83v5bATID/ATaBnwI5AnsCiAMKA0aDuUOMhB6ERUSOhKmEbURcxEPERsRvxCkD68O/Q0BDegL3gmDCEoH4AWSBAYDrAGO/1b9X/vK+Xn4n/ey9j/1TfQ68wXy/fAL8JXvXu+S76HvDe937ifutu5A76vv9O9J8ADxkfEq8430FvWX9S327PYb+Iz5xvq++/z76fwq/jH/9f8wAJEAIAEBAsUCwwPiA6wD2wMVBNcErgRxBJYE4AT0BNIEEQXhBI4ERgTpBF8FVgTEAwgFLwc3CEMIjgfEBeoEogYFC0EP7w54DIAKzAk3DKAPJRNWFI8RCRCCEdcThRUIFaYTZBOrE7UUgxbpFWMSZw+kDhIQpxCGDtILlQgKBkcFMgX7AzcAzftO+fz4Xvid9j30Q/G37oLtSO2o7LDqN+gR5xrnb+dY57bmouXE5DvlweZX6NLoLOlF6hTsye3m7jzw+vAF8oL0jfdw+ij8rfzR/XL/KgGsAwMGAAg+CS8K0QsMDTMNQg3hDU0PKRHEEcgRSxEeEE4Pfg+KECQQ3w6mDZUM+AvQCrAJUgg1BloEngOOA5kCUgAm/mX86fpV+vT5NPmF95v1Z/TQ87bzcfMw81ryKvFc8AzwofAU8TXxXfE38STxFvG/8f/yv/N+9BX19fWi9v/28ffO+IP5Cvr9+g78zPwr/Zf9iP7b/ir/PABSAfoBRQJSAgIDRwOxAgcDrgP8A7UEeAURBVIE7QKyAkoFLQhxCi8KwQfSBW8FLQhbDmsSKxEADi4L+AuiD6ATDhfTFvsTVRI4FGEXSxiuF24W9hUGF0wYJBnBF6oTqxAvER0TixOpEBEMGQn9Bu4FQgaPBFEA3fuQ+af5MPnA9mPz2O/e7C3sqezw63/pteWX4/zj4OTx5MfjQuL/4HXhV+M25QXmW+WE5YXmOujE6rjsRe5D79zwSvOZ9aj3XPlw+yn+jgG6A08FpwbmB2cKhgxAD6gQyxDGEZMSohPYFEoVoxT0FLEUnhQOFQUUsRL9D78Oyg4tDj8NMAsBCTcGMAQsA/cBgQBx/uX8Cvtx+UP4Ffao9FDzY/KJ8h3yH/Gy7zXuwu2h7g3vZ+9K7zTuL+4J7zHwWfHJ8Q/yyPIT80f0TvZk9zr4GfkG+iT7Sfzh/BL+/f59/44ATQHHAr4DDARkBHMEUQSDBD0GpQc2CBUIXAf2Bp0GFwfBB0YILAnSCtALGQuWCiAJbAhjClIOuhE/EVwP7gw8DLIOVxKeFYAVexNBEgwTYhVXF0UXlhXMFOUUFxY3FykWoRPyEGoQZRFzEaMP7AutCMoGhga9Bg4FZQEJ/Tb6UvnX+GT35PS48UTvKu6I7Vjs9el/5xjmQuaO5m/mKOU647fi6OIi5DrlO+Ui5T7lnOa+6HPqm+sA7KrsEe4F8O3ygvV29x/5Gvox+/L8uf4oAQYERwYfCOAIaQmzCgkMRw3LDvoPnhD6EKURdhIyEoERlRBNEGkQkBD7EFAQzQ6hDNUKzgknCbMIoAcgBl8EsQI0Acj/of4n/Z/7Zfpj+fb43/eE9pT1fvTB80HzyPKV8lLyB/Jb8o/yY/Kr8frwcPEm8vnyBvSW9G/0F/Qg9DH1RfYD90/4S/m6+Sv6t/o6+2n8Xv05/r3/dwBMAXYCVQMYBA4EIwR4Bo8JfgudDOcLIwqhCfYLfBF8FSwV6BKZEI8QYhMyGJ4bQhtnGIsWUxixGnccMRw4GlUZLRkrGvkapRlTFpsTZhNGFJsTfRABDUYKhQgjCHIHnQTp/9X7ePqn+hz6hvef8/Hv5+2H7bLtGO2S6tbnlOa35vvmqOaR5fvklOVu5pDnuedT5yHniuhQ6wHupO84727vKfB68Y/0QPdD+Rv7L/wh/fH9hf6y/9wBhASDBzYJiQi5B0QHCQgaCnAMwg2qDcsMNgyUDFcMHQyTC8kKiAqgCtcK/wlGCEcGoQSTAyQDCgNhAg8Bcv8N/oL8PPuF+kz5zfgx+FP3Mvew9pP25PUq9Yv04vMv9Lv0A/Yy9q31M/VZ9H30c/Vw9vX2uPeT92X3V/jl+Kv5t/nm+bz62vrh++X8gP2I/df97/5g/yIALQBuAJcB2AMKBuMGJQfZBYsFIAe4CkgOuQ4jDgUNiQ1tEMsTRBZnFagTTBOZFZcZEhx1G3cYrxZuFt4YaRv2GuoYuBXLFGgVFhWkE2YQLw2FC8cL7gsPChEGhAEV/wL+d/1S/CH6avf39MXzo/Lh8GDumexs7NXsvOyI68fpZehX6P7oB+qb6uPpk+l36gXsP+0a7sruZu+b8DLyHPRt9U72zfdz+Sn7s/zH/Tn+J//2AMIC2AQHBnUGpgbRBrMHwgjqCc4KbQt2C0YLIgvKCpMKbQo2CgsK1QkiCdoHaQYXBR8EvwMpAzICfwCH/iL9c/wy/G/7+fkI+Jj25vXO9Q72pfWN9B7zGPIX8mry6PLE8nfynPJX8o7y5fIg81PzlvOb9LT1IvZQ9t32S/cl+FH5I/oq+wn8Tv2T/sD/yQCYAPgAyALcBZcIwQk7CmYJwAgMC3oPSxNsFDUTHBJJEjYU9ReQGs4atBlYGDIZDRv/G+sb3Bp/Gssarho+GqMY4BUKFOYTexRWE8IPxQvPCIwHTAe1BlAEBgAJ/Or5Lvk4+ET2m/Mt8WbvVu6P7cPrs+kz6Ajo5+jr6PPnOOb65DTlhOab6AXqIuqZ6fzpeutV7Vvv3PCT8u/zY/Vc9+T4Tfro+xL+UgCVAhgE5ATUBdQGzQgZC4QMYg1PDQsNmA2UDnQPzA9GDz0O5w29Db8NMA27C1sKEglcCNsH+AZVBQkDAgGv/8j+TP5G/af74/km+Eb32vYm9iH18fON8t3x6PFn8nvyjvGV8MHv4++88PDxIvOg8uXxHfJu8vrzPvXA9Zb2jPbr9mv4d/ls+oT74PsF/bb98P3Q//8BDgRjBdAF1QXoBTgHeApODvwPVg+fDu8OmhAzE6YV5xZoFp4VgxafGIwZ2RjGF8UXpBihGfoZXhiXFQoTrxJfFLwUehLPDkkLYQlVCWwJjAiKBSQBdP7P/W79ffxV+jb3+PSd8zHzVfO18QfvgO3F7PDsGO1o7MnryOrp6abqz+vt69brq+tM7ELtOO6W73nwB/F48WbyEfSu9f72wfhG+pb7rvxO/cb+jwAdAmIE9QVsBt0GEgf2B2wJkgpiC/QL5wvDC8MLiwt7C2cLIQv1Cq4KhwlHCDYH+AVdBdsE2QO0AvsAV/83/uj85fsf+/350fib9032HfXt82TzXfML84Ly4PFV8ebwlPDp8FjxX/HO8XPyCvOP88/zYvRB9Sb2jvdf+Xr7Xf2g/pX/cQB3AWEDxwa/CoQNMw4EDhcOZA9+Ek4WWhlMGooZFRkaGvYbUR3mHdwdjh2IHZodrB1rHOMZBhhUFxkXOxZJFE0RQg6/CwMKowhBBhYDBACv/QL8N/rY99v0BfLk777uEe6q7O7qTeku6KLnVefw5jXm1OXA5WfmTueN59fnU+hQ6Z7qnuua7KPt0u6X8NrylvR79Rz2D/fz+Cr7Kf2W/ob/eACMAQcDVQT3BDcF+wWgB98IfwmRCfoIogjJCLkJWwrACewIVAjwB8AHTActBvEE2AMtAxIDVwLlAEb/xf0o/ZX8rPuC+hn51vc69zT3pvap9YD01PPK88rzr/NA87zyYfKq8qHzJfRv9Hj0w/Sl9Vr2Xfe9+Jv6a/wY/ij/WP+K/3oAcQOYB6YKzAuiCzMLsQs2DuIR/BSRFocWqBYtFwsYNxn/GX4aCxvZGyIc5hvYGkYZYRhHGGMY0hdXFiYU6RFqED8PBg4xDLUJnAePBewDqQLwANb+v/y7+tb4JPd29f/z0fLf8afwI++P7UDsjetk63jrg+vQ6hnqHeoz6t/qkusQ7JPs9ezN7QvvNvB+8f3yVvRP9WX2pvf3+I76Rvwo/mv/9f96AI4BsgL7Az4F6gWnBt0GBQeXB9EHsAdwB4EHsAeDB9cGBwZ1BXQE5AOqA+sCDALMANj/Jv9s/nX9Z/y9+xn7ifr2+Rz5+vfu9nP22fb49ln2HfZ49ej0OfVX9Z/1WPU69a72SPir+Uj6zfkh+VH5Vfvz/nICHAQABEgDQwOSBEEHlwpIDbMONQ+2D5EQLxHVEf4ShBQaFkoX2xeCFzQW9RTHFGIV7xWaFXMUxRLwEKgPoQ5sDbwLVwloBywG4QSmA9ABe/8z/TX7YvrS+XX4zPYR9YzzlvJC8ibyj/Fr8FXv8u7+7mnv+e9P8LPwwPDS8HbxIPLy8vjzMfXX9vH3pPii+Uf6/foy/JP9Vf+9AJ8BVQJmAloCqAKKA+EE7AVxBkQGrgUlBQEFegXYBd0FagWjBP0DPgO/AlECWwGEAPL/S//u/hH+6PxC/Bf7RPoZ+of5FflH+Hv3Dvdx9gn2rfXG9cj1i/XN9Zb1F/W89Gb0cPVJ92z4XPlg+Vn47ffS+KD7QP/MAaYCCQJ/Ab8B/gOfB20KbwwRDTsNNQ4mD+0P0hC7EfYSoRTtFTMWWRWXE3QSvRK2EzYUlBPsEQoQqg6YDY4MzwqZCJ0GcgXiBKIDpgEs/8X8XPuM+rf5dvjE9kj1p/ST9B30F/Ny8TLwJPDz8N/xLfLJ8SvxQvHh8YzyF/N18yr0a/XO9gH4tvje+Dn5bfor/Oj9Jv/4/5sAVgFOAjIDAARbBPUEHwYjB+0HEAjaB8kH3QczCHcIbAgcCOAHtgdUB8UGAQYNBU0E1gN2AyYDPQLgAMT/sv7p/XX9qvzY+yb7ZfoV+uf5E/lG+Ib3NffZ91T4nfgS+N/2WvYK91L5UfuP+7v6Dvn/+Fz7bv6AASQCwgA1ANcAPQNnBucHMgjWB0QIUwpmDCUNKQwBCxILuAwUD8kPgQ5VDMEKYQuwDOcMjgs2CYsHZAcHCMEH4AXLAj4AoP/+/8j/Zv7W+9X5UPkQ+Zn4Hffc9MnzOvRW9dj1+fRM8zDykPJf87b0fPUP9Xf12/Un9uv20fYD93b4y/ll+0v8xPu9+1X8sf2a/80AQwFLAd0BogJJAxEEGARwBBYFcQXyBcoFBgXWBO0EFgVuBQsFbgQBBK8DogNyA+wCQQLsAaUBYAHFAKP/U/9U/3f/a/8p/h/9g/yZ/Ir9Hf7u/ST9oPzk/Iz9Lf44/pH+yP9vALkBewJdAXABAQLRA94GPgcFB8EGJAa4B5oJqwoKC1wKXAp5C7AMPA2LDNYLoQspDDoNFA0tDKEKTQm3CUQKywkvCPgFogRRBE4E1ANJAg0Adv4A/vX9XP18+3P5SvjH97f3T/fE9R/0/vLa8przXfNZ8kLxjvAY8VnyL/MA80by+fF28p3z1PTA9Tb2g/ZK92j4TPns+Yz6WPuA/MP9Cf+z/+f/RADmAPgB+AKbA74DxwMABEUEiARFBMQDggNfA2kDagPbAtsBEwFsADUANAB+/5j+9P1I/cf8kPzL+x37sPoM+gX6n/no+LP4ovgE+Yv5ivks+f74Mvn4+VP7If2R/hT/SP8l/3//1wDgAokFbAdZCKAIuAhICSoKtwtoDQEPwxDNEdgRlhG7EI4QuhGtEsAT5hPCEtgRzhDhD/0Oyw3bDEkM1QvDCgcJ4gbZBG4DiwKDAfv/Mf6L/If7oPpt+Zb3xfVi9HDzXPPr8lPy0vHH8FPwJ/DU7+PvNPDQ8KLxLfKC8v/yWPPR83b0b/Xf9mX4s/mI+hb7V/vs+zX9+f6YAIkBcAIyA8sDXATVBH8FEwbPBnMHxQfDBysHxga8BrUGmwZCBq0FPwWkBPwDWgNCAmMBcgC//4X/5/48/j399fsj+1n6oPlm+QP5iPih+GD49PeE94H2bvaq92r5/fqG+6z63vlL+gz82P4GAcsB9QGjAgQEtwX8BlcH/Qe4CfULIg4ADw8ODA2VDTgPXhFbEn4RZhCYD9YPaRDwD3EOqwymC34LWQtqCl0I1QX1A8wCPQJfAa//9P1S/CP79PmR+Db3RPU99MjzUfNP82LyN/GH8AjwBfBv8Jvwj/DY8ETxG/JP85Hze/MJ9G70AfY4+DT5YPqm+oz6qvt2/MP9Gv/4/1gBaQL6AjADGgM9Aw0EQwVVBuoGwQY6BuEF4wXzBfMF2QW5BbIFXQWpBAEERQOkAqwCTwLDAT8BEgDZ/9T/Uf8T//n9K/3F/G38uvxj/Pz7g/vw+kP7Hvvz+hX7APsK/Pz8lv0I/m39Pf2g/ez+pAC3AfACXQPBA4AElAQhBbcFhQY7CIsJRgo0CnQJTAnFCcEKoQvUC6ELCwvcCrIK9AkTCeoHYQckB/4GdQbgBIoDDQIyAe8A+P8M/939wvxg/MH7Bfv7+ZT4s/dG90b3UvfL9j72i/UO9Uv1SfWX9bT1jvXa9Sj2lPbz9mP3tPcS+K34MfnT+V/6yPqQ+zr8wPxc/dD9Uf4O/6r/KgClANoAQAHYAWsCsQLwAhADWgPSA+sDJwQbBPwDWQRtBGcEIwRKAxsD/wIZA3cDBAOEAtoB/QDPAKUAdAChAIMAVgAgALv/Wf8y/xD/N/+0/ywArQAAAeQAfwBCAGEAKgFOAkIDuwMWBBcE5gNLBFcEmgRqBecFCwe6B2EHEgc0BskFEgaIBiMHNQekBq0FygQWBHoDFQO8AisCtwE1AZkAzP9n/hP9A/x6+4L7S/vT+sL5jvgJ+Lj3o/dA96f2WfZ89gn3Nff99kb2p/UW9vn25feW+Gr4X/jf+GX5Xvr2+uT6MPuO+0L8LP2a/SH+ff4D/6f/AQBgAGcAlwAWAZEBOgKpAr0ClgJAAiYCbQIbA9EDFQT9A30D7ALuAvsCKgN6A14DhgOKAzID4QJHAsMBoAHeASgCJALTARMBfAAqAAkARwB0AE4AHgD5/+L/MQBqAFkAPADr/wEAsACNATQCQAIoAjUC1QLKA1MEmQSOBLYEmwV/BtwGxAY1BhoG1gaRBwgI0wcMB6QGjAaWBm4GuQXLBCEE5gOzA0oDYQI2AUoAoP81/+r+b/7F/Rb9L/xh+6v66Pmf+XD5TPlA+d/4lvgp+MX3wffs92n4u/je+MD4dPh9+MP4Tfnv+Vj6nfrC+r/6qfqy+un6iPte/Nj89Py//Hz8sfxF/cv9Ov5U/kr+kf7A/tD+yf7I/hv/yv9iAGAAXgAgAC0AEAFaAbIB1QFxAQ8CdgKGAsYCbQKYAloD1QM3BBQEgwNkA7ADJwR9BGUEHgT3Aw8EIQQtBEwEawS/BBgF+QSEBBIEygMVBLME4AT7BLsEVgRxBEQETQRfBEwEoQSxBKkEQwR/Aw0DvALbAgcD4QKQAvUBYgHNAFYA4/9g/wn/lf40/rz9+/xr/NP7Q/vz+qj6i/pu+iH6t/kl+aj4ZPhr+KD4uPjQ+Nv49/gr+T/5Vvle+aD5Jfq6+lX7fPtw+3r7w/tm/P/8Z/2E/Zv91/0w/pv+mf58/mH+W/7B/gv/U/9j/y7/PP8j/zf/X/8f/yj/JP8y/7D/tv+R/2H/Ev9O//b/cwCfAM8AsADqALIBgQGBAWQBMwEAA2EEIwWDBfYDiANUBHsFcge0Bw8H4gbsBvQHlAghCGwHHwcYCI0JRQp+CdIHuAa3BskHgggUCAIHwAVrBW8FGwVlBBoDbQIzAhoC4gG8AKH/uv4k/vz9c/3l/Fr83Pt3+/X6g/oN+vP55Pmr+YP5IPko+Yr5tvnj+cn5tfkc+pH6C/to+337wPtJ/O/8gf3B/dv9GP6g/kH/x/8iADsAbgC8AAcBaQGOAaAB0QHoARoCRgI7AjECEgLmAfEB8QHNAYIBDAG7AKUAsACDAAwAiP8F/wr/Qv8o/+X+Ov6y/bz93v3i/Zv9C/2c/MT8If1Y/W39DP3C/AL9O/1l/aD9b/2H/TH+Rv6s/uv+gf4r/4T/5f/YAMgAGwFUATYBmwGvARECaAKkAtICqQLmAvECLANzA08DVgMgAzgDUwM9AxQDgwJyAlkCTQJaAsYBaAEcAQwBSAEyAdQAPgDr/77/4P8GAM7/wf9n/0X/Xv8i/xT/z/6x/uX+/v4b/+7+mf5z/pz+A/9o/4T/Wf81/zn/lP/e//v/2v+L/73/6/9HAIoALQARANr/AwB0AH8AlABVAGcAgwCLAMoAiQCkALwAzAAXAeIAsQBzAHcAXgBDAG4A+/87AC8Axf8aAG//Y//V/5P/+v/G/y3/FP/j/uf+KP8i/9X+0v6F/lD+iv5d/pL+tf6O/q3+c/5x/pv+tf7q/uH+6f71/gL/E/8Q/w7/Av8l/z//W/9j/xv/F/8s/1j/rv+0/7X/p/+A/4T/fv9p/17/XP9P/zX/7/6b/o/+m/7F/ub+vf6q/o7+jv7S/uH+6f7t/u7+JP9K/1j/Vf9c/4H/4P9ZAHgAhABwAHEA8QBGAaoB5gHIAQQCOwKbAvYCAwMhAx0DQwNvA4gDkgNcA1IDRgNNA0sDBgPhAq0CqQKsApACcQIHAtgBtQGaAZcBTAEuAfAAogBzABsA6/+2/53/h/9H/wT/lP5l/lP+V/55/lj+Pf4N/vL95/3H/cH9ov3D/er9+P0L/tD9yv3s/TD+ov7h/hD/Bv8C/xz/M/9//67/3f8jAFAAewCLAHoAbgCeANcAEgE6AewApwBtAEIAWgBAAB0A7/+w/4n/X/8//+7+pv5z/i3+DP7B/W/9NP3t/Nv8xfyV/Fb8IvwY/Bn8Nfw1/CT8Kvwo/D/8VPxn/JD80fwr/XT9rf3Q/Qb+b/7i/mr/2v8lAG4ArQAEAVQBlAHgASgChQLQAvsCDQMDAx8DZQPAAwkEGgQOBOoD4APzA/gD8AO9A30DQQMMA+MCrgJxAiQC6QG7AYIBUgEBAbMAfgA/ABQA2v+D/yz/4/66/qL+mv59/lH+If7r/en98f0I/i7+MP45/jP+Pf5o/pD+4P4p/3P/yv8CAEcAfACmAO8AQAGbAd8BBAIUAioCYgKfAuoCEwMRAxsDFgMlA0IDRANOA1ADOAMTA90CjQI4AgUC5gHPAawBTAHTAFoA8f/S/7v/i/9e/wL/q/51/jf+DP7b/ab9kv2G/YH9fv1n/Un9Ov1H/W39k/2s/bX9u/3Z/fn9Gv45/j/+Zv6j/tz+If9B/1r/hv+o/9b/8f/q//f/CQAeAEMAOwAZAAQA5f/w/xAAEgAbAAgA6P/m/8f/pP+Q/23/ZP9s/1T/Ov8d//L+9P70/t/+0P6j/pH+lf6P/pP+jP5//nX+fv6Q/pT+of6h/qf+yv7l/hD/L/84/0z/XP+A/7f/4f8DABsAMABIAGEAiACmAMYA8AAXAUsBdAGNAaoBvwHgAQ4CLgI9AjkCMgIuAioCIgIJAugByAG+AcABugGjAX4BVAEkAQUB5wC8AJcAbQBIACYA9//D/4v/V/85/yj/G/8Z/xP/Bv/w/sL+nf6E/oP+oP6t/rT+p/6Q/p3+sf7N/vb+F/9D/3b/mP+4/8//0P/o/wUAIABJAEoAUQBhAGUAjQCoAL4A2QDmAA0BKQE8AUMBLwElARUBFQEbAR0BKAElAS8BMAEsATABIgEeARABAgH6ANMAsgCFAFwAVwBUAF0AUwA3ACwAIwAzADwAMwAjAAIA8f/g/9D/wP+p/57/lP+T/5D/iv+J/47/pP+//9v/5//f/9f/y//c/+3/9//0/+L/3P/W/93/6f/s/wAAGQApAD8AOwAsACYAHQAvAEIASQBFACIABwD6/wIAIgArACQAAQDh/97/4P/0//f/4f/M/77/t/+6/7r/qP+0/7D/yf/c/8r/1f/D/8//7P/8/wUA9//a/77/sf+y/7f/r/+l/4P/cf9o/3T/ev90/2T/Tf9F/0L/QP8T//r+x/6x/rz+n/6c/m3+UP5V/ln+ef50/mH+Tf5I/kn+S/5W/j7+WP5l/nr+nv6X/rT+0f4G/zf/Zv9z/4L/pv/A//n/JwBOAFoAggCSAKEA3gDiAPcAHgEuAVMBigGYAa8BwwHWAfUB/wEfAgcCFwIWAg8CIALwAQYC2wHdAeYBwwHFAaABnAF3AWUBPQEPAfAA2ACxALUAawB5AFUAQQBAAPH/QwA6/4gAVf94/5QAGf6XANr+Gf8vADz+VgCj/n7/y/+V/rwA+P4WAFMA3P7MAGD/DQBPAF7/VABH/xYA5P9c/2kAW//4/0kAhP9eALz//f8uAM3/RADB/xAAyP/t/+b/wP89ANf/PgD//+3/AgDW/yQA3v/q/8X/nv/K/73/+P/e/9X/+//g/ysAMAA8ADsAMABjAD4AgABHAEgAVAAtAJcAbwCpAKsAgQCnAI0AwQCyALwAwACWAMoAuQC7AMUApAC4ALsAzADAAKcAlABMAFIAFgABAPv/tP/A/33/ef+G/3P/kf+P/4j/jf+X/6H/jv+m/4r/dP+B/0b/PP8U/x7/J/8j/0j/Jv8f/0f/Wf+B/6r/pv+v/63/1//o//v/HAADABEADQAYACgAFAAhABMABAAUAB4ACgADAAAA5//1/w0AKgAGAAgA7f/C/+n/2//j/67/jf90/0j/Uf8x/w7/7P7i/uf+1f7r/uP+1f7s/uz+EP8Q/xj/KP8H/yL/Tf9R/3L/eP9n/2r/ff+X/6D/uv+0/87/1v/u/w4AEgBBAFgAcwB3AIgAiACIALEAvADYAPAA9wAKARIBGwEiASQBKgEtAScBGgEkARUBFwEfAQ0BIQEcARUBGgEBAfUA9ADtAOMA2QC1AKgArwCVAJUAgQBaAFoATQA2ADQAFQAIAAYAAwAJAPX/7f/V/8v/v/+w/6P/h/93/2D/Q/8z/xH/Bf/0/s/+z/6t/r3+wf7J/tv+2/4E/w//Lv83/yz/PP8+/0f/Tv80/zz/OP9I/1n/av+D/4T/tv/R//z/JQBGAGYAdQCGAIEAfgCUAJ4AqADBALYAwQDEAMwA1wDCAK8AqwCeAJkAngCDAH4AiQCOAI4AlwCIAIIAgAB6AHUATABCADAAFAARAAMA6//l/+f/4//w//7/AAAUABsAKwAyACQANQAzAC4AJwAbAPj/1v/o/9v/7f8BAO//9P/e/+n/6f/y//3/4P/c/7r/vv+0/6j/x/+2/8r/1//O/93/vv/N/8//yP/d/87/1f/I/9//4f/z/xIAAgAVAAwACAAJAPX/8//r/9j/1//S/9P/y//b/+v/+P8NAB4AJQAfACsADwAMAAEA6v/X/8D/u/+p/6L/mf+Y/5X/nv+0/7X/pv+f/5L/l/+r/7v/wv+y/7P/mf+R/5j/kf+R/5D/mP+Y/6H/vv/O/97/8v/x/wAADAAoAEMAXgBtAHkAkgCOAKAAlgCGAJoAngCtAMQAwAC5AMsA0QDlAPMA4ADiANwA1QDbANkA2QDfANkA3ADYAMAAtAClAI4AfgBbADkAJAAPAAUABAAAAPP/4v/J/8r/v/+x/6r/k/+K/2v/cv9e/1L/Vv8u/z3/OP87/zz/MP8v/xn/H/8V/wv/A//o/uv+3f7b/uL+5/4A/w3/LP8x/0T/U/9d/3D/c/98/3H/ff91/3P/e/98/5//tv/h//v/EQA4AEoAcACCAIgAkQCFAH0AaQBtAHcAegCRAIoAlwCmAKYAvgDRANYA6ADnAOMA5wDNAMsAvQC6ALAAlwCVAHkAdQByAGwAcgBSADoAGQABAPL/yv+5/5H/f/9w/1b/Xf9D/1D/Tf9A/03/Mv8t/yf/G/8o/yr/Nf9A/zb/Rf9H/1D/VP9Y/2X/Z/+P/5z/wf/w/wgAPQBOAG0AegB2AIQAawB4AHYAgACWAJMAtQC3ANcA5gDrAAkBAQEmASsBJgEiAfsA4wDOAMEAsgC0AKgAoQCeAJgAqQCnAKwAmgB1AEcACADR/6D/f/9X/0v/Pv85/1D/Vf9u/33/iv+Y/5b/jf90/2H/Rf87/yf/Hf8g/yL/Q/9T/3z/kf+p/8n/0//y/+n/7//e/8v/3P/X//f/DAAZADIAQABZAG4AiQCeALMAtQC3AMAAsQCxAJkAiQCMAI0AkgCJAIUAhwCeALkAxgDHALUAnQCQAHgAXABJADYANQArAB8ADgD9//v/7//u/+P/2P/O/7L/rf+S/4D/dv9U/1f/Q/81/zD/E/8T/wL/+f76/u3+AP/+/gL/D/8I/x7/Iv8k/yb/Gv8i/yH/MP88/0r/av+E/7D/0//1/xAAHAAtAC8ANgA4ADEALwAnACoANgBIAGMAdgCHAJcAnACrAKsAowCiAJMAjwCCAHMAXQBAADQAJAAvADYAPABMAFAAWgBfAF8AUwBAACkACQD0/9H/uP+o/5r/qf+0/7j/wP+v/6T/oP+I/4v/gv91/4H/fP+T/6z/xv/s//7/GQApADwAUABYAGwAeQCMAJcAmwCcAJgAoAClAK0AtACwALEAsQC0ALkAtACwAKcAmgCSAIcAhACAAH0AfACBAJEAlgCbAJQAfgBuAF0ASwBBAC4AFgAQAAcACgANAPr/8P/V/8P/tv+d/4//bf9U/0j/Qf9L/0j/RP9A/zr/Rv9S/1//bP9s/3b/hf+U/6T/q/+z/77/2f/q//n/BQD5//r/6v/b/9j/yP/K/8T/z//g/+n/9//5/wQAFQAnADEAMwArACMAKwAxAEUASgBKAEoAQQBPAFMAWQBeAFAASQA/ADYALwAjABsAGQAeACgALgAzAC4AIQAaAAsA/v/p/8j/rP+V/5b/nP+t/7//z//s/wQAJgAzAD4AQQA2ADIAEwD6/9//xv+4/6X/oP+Y/6D/qP+t/7n/v//L/9D/2P/V/9D/0P/I/9D/2f/h//P/AAARAB8AHAAcAA4ABgAFAPn/+//w/+r/9f/4/wwADwASABEABQAHAPz/9P/p/9L/x/+4/67/pP+b/5n/nf+q/7n/wv/R/9//7/8JABgAJwAtACkAKQAhACMAIQAZABYACwAEAAcAAgABAAAA9P/y/+3/6//s/+z/8//0////BgALABUAFwAeACEAJQAsACwANgBCAFcAdwCSAKcAtwCyAKsAowCTAIcAeQBwAGIAVwBMAD4AOgAwACUAFAAAAO7/3P/V/9L/1P/g/+v/+P/+//r/9P/y//r/CAAXACQALgA3AEQARABBADgAKwAkACIAHgAWABEAAwD+//r/8f/s/9//0P++/7L/rf+w/7//0P/p/wIAIAA5AEUATgBKAEgARQA4ACoAGQAKAP//+f/6//n//v8BAPr/9//s/9//3P/N/8L/sP+Y/4r/d/9t/2T/Y/9v/4H/nf+7/9T/6//5//z//P/0/+3/5f/e/+H/3v/j/+r/6v/s/+j/2//N/7n/n/+P/4D/eP91/3X/ff+G/5v/rf+6/8T/xv/M/9H/2v/l//P/BwAcADIARABNAFIAVQBUAE4ASAA+ADQALgAjABMAAwDu/9r/yf+0/6X/nf+i/7P/y//o////EQAeACkAMgA2ADwAQABNAF4AbwCCAIkAhwB5AGUASwA0ACMAFQAMAAkABwALABcAIAAtADEAKgAgABAAAQDy/+f/4//m//L/AAARAB0AKQA0AD0ASQBPAFQAVABUAFAASAA8ACQADQDv/8z/t/+o/6r/uv/M/+f/AAAMABIACQD7/+v/3f/Y/9X/3v/q//j/DAAiAD0ATwBUAFAASAA9ADcAMwAyADUAOABAAEcARQBDAD0ANQA1ADYAMwAzADAALgAtACkAJgAjACIAHwAfABwAGwAfACIAJQAeABIAAgDu/9j/v/+m/5P/hf9+/3v/fv+J/53/uf/T/+D/6P/l/97/2f/M/8f/xP/F/8n/zf/O/8z/zf/J/8r/zv/d//D/AAARABsAKQA0ADgANwAoABUA/P/k/9D/vf+0/6z/q/+3/87/6P8AABMAHgAiACQAIgAbABQABQD4/+7/4//d/9b/yv+//7v/wP/M/9f/4f/m/+b/5v/j/9z/2v/X/97/9f8NACwARwBXAF4AYgBdAE4ANgAUAPH/0v/A/7//yP/b//L/CwApAD8ARgA9ACMAAwDp/9H/uf+o/5n/lP+Y/6T/t//L/97/6//3/wMADwAeADEAQwBSAFsAWQBOADwAIgAFAO3/4f/m//j/EwAtAEkAXgBmAGAASgArAA4AAAD0//P/8f/u/+//8P/x/+3/6f/r//n/DAAjADoASgBZAGAAYABfAFAAOwAeAAIA8P/n/+v/9f8BAAsAFgAXABQADQABAPP/2//G/7n/tv/A/9H/5////xUAJAAmAB0ADAD8/+v/2v/P/8b/vv+5/73/yv/h//P/AAAIAAwADwALAAAA7f/Y/8b/uP+r/6H/nv+g/7H/0v/9/y4AWwB+AJUAnACXAIQAZwA/ABoA+//m/+L/7/8MACgAPwBOAFEATgA/ACoADADs/9L/vP+z/63/sf/A/9D/5P/y//3/AwAIAA8AEwAYABkAFAANAAAA8//s/+L/2//V/9D/zv/J/8b/vv+y/6T/lv+J/4j/k/+p/8//7/8PACsAMgA0ACQADwD2/9T/v/+t/67/uv/Q/+j//v8TACIAMgA7AEsAVwBfAGQAXQBXAEoAOAAmAAwA7//N/63/lP+O/5T/qf/F/9//BAAdADYARQBMAFQAUgBWAFMAVABQAEgAPAAkAAoA5//C/6D/jf+P/57/vv/f/wYAJwA5AEQANAAdAPH/uf+N/2X/XP9d/23/hP+l/8//9/8eAEEAYAB2AIQAfgB5AGgAUgA+AB4ACAD0/97/zv+1/6X/pP+q/7r/1P/t/woALwA/AE8AUABFAEUANAAqABQABQD5/+v/7f/i/+X/5f/q//v/BwAjADsAUQBkAGsAcABoAFcANQATAPP/0v/H/7j/uf/A/8//6f8CACEANABMAFsAaQB7AIYAjACOAIIAbgBfAEAALAAGANf/uP+T/5D/m/+t/8//6v8GABsAKAApACEAFQD9//L/3P/K/7j/nP+K/2//a/9p/3r/lf+0/+b/CwA+AFwAcAB8AHAAXwA9ABQA5f+9/5z/g/93/27/ff+P/7P/3f/7/x4ANgBUAG0AgQCMAIgAcgBHAB4A6P/J/6T/if+H/3v/nP+x/9L/+P8GACQAJwAzADoANgA7ADMAMQAuACkAHAAMAPT/1//J/7P/uP++/83/8f8CACcAQgBQAF0ATQBAADQAJwAhABIACAACAAEACwAOAB4AMQBHAGgAeQCRAJcAkgCIAGcAUQAoAP//zv+O/2L/Of8m/yP/Kf89/2n/mf/T/w4ANQBoAIUAkQCUAGYAOAD7/7f/jP9f/0f/Qv9K/1//jf+///b/MwBTAHkAhACIAH4AWgAzAAYA5//I/7f/n/+X/53/rf/U/+3/EwA1AFIAgACOAJ8AlwBtAFEAEgDy/9D/qf+V/2n/Wv9T/2f/mP/V/x0AZQCaALYAvQChAIYAWwAoAAAAu/+F/1z/Lv82/zX/Sf94/5P/1P8DADsAcACbALwAyADNALwApQB4ADQA8P+w/3z/bf9h/3P/lv+z/+b/CgAwAFcAbQBzAGcASAAjAPH/u/99/0//Nv8q/zj/Q/9c/3f/nP+8//T/IABQAH0AewCLAG0AWgA6ABQAAADd/8r/nP+B/3L/dP+U/7X/4/8TAEoAdgCcAK8AnQCRAFIAHAD4/7v/qP+C/4f/sf8hAIgA+ABPAUYBjwF0AY0BswFyAWIB6QBcAOb/XP/Z/m7+7v19/Wj9RP2L/fT9QP7l/jv/wP9YANwAfgHCAdwBkwE/Ac4AcgAxAMX/dP/Y/mv+Kf4r/or+5f5E/33/q//W/xkAWgCZAMcAtACsAIsAfwCVAHMAXgAdAOz/6//6/y4ASABfAD8AJwAJAAAAFwAIAOH/a//x/nP+Qf5D/mL+wf79/l//xv8zAMoAUgG8AfwBJgItAk0CWQIiAuwBTQGmAB4AnP94/2f/SP8V//H+0/4n/6X/FACaAJgAhQBKABcAIAAnABsAyf9u/wT/8P4H/zX/kP/I/yQAcgDZAFYBvwEJAvMBvQFYAQ8BwgBWAOP/Pv/J/mD+Qv5a/pT+4/4R/2P/p/8xAKsACAFDAR4BAwGmAFsACACz/2T/8v6f/l3+fv64/ib/f/+3/x8ARACgAM4A0ADaAJsAWgAkABMAFwBcAHEAeACgAIQAsgDPAOMADAEMAegApQBYAOf/sP9P/+b+k/4X/t79rv2w/df9Kf6V/gj/nv8eAMEAOQGRAaYBgAFMAdkAjAABAH3//P5X/vn9pv2n/eH9Pf6p/hn/i/8AAJYA9wBsAZsBkAGTASsB5wCKAP3/qv8+/+v+6v75/jP/vP8lAKUASgG7AVACxALEApkCCgJJAZ4A5f9F/6b+Lf6x/V39Tv0s/Wn9nf3Q/Uv+zP52/zcA3AA+Ab8B+wEXAloCFAL5AaYBJgHgAIAAfQB0AMIA7wBCAc4B6wFNAjQCDQLPAXcBJQHJAJEA8v+c/+3+Zf5C/u79+f3K/a39ef0y/Rj96PxM/aP9Gf63/vv+rP9uAFsBaAKdA6UEjwVtBrgGjgcfCMIIngnKCQUK3glxCdYIEwgRB/EFtwQXA+4BtgCw/+X+wf3L/Lj7uvr0+Vf53fik+Hr4Pfg9+Er4p/hB+e35zfrQ+838AP4q/14AmwGuAq0DUQTKBNIEkwTeA/ICzAGVAEP/3P3K/Jz7Avty+iz6NfpV+pT6xfrY+sj6//rr+kr7gPu6++z7w/vK+5P7sfvF+/j7L/xp/Mz8J/2N/fb9jf4f/9X/oQB2AUsC7gKCA9QD1wPSA5IDlgOpA8kDIwTuA6QDIgOnAlYC/wHIAVsB4QBKAAUAHAClAHQBMwL8AikDewNWA60C5QE7AHj+jvyp+vD43/e+9kP29vYy+PH7xABSBs8MpRIxGNAdqCJFJ1orwSxvLGwpvCNrHbgVbg0DBYD7P/K76eLhOdxo2AbWdNUo1mjY6Nxw4vbo5O//9eT79ABLBQgJxwtHDZUNkgy1Ct0I5wZdBewD1QJkAo8CmAMhBUgHsQn0C7INvQ7qDgEONQwvCVMF/AD/++726/EA7XvpfueA5mrnP+nb6+zvyfN1+Af+1gKhB00L/QwiDgYOqwz1Cq8HyAPU/9X6Tva28vrv3u6Y7hLvtPDG8mD1i/i4+/X+9QEbBE0FjAXTBF8DyQBU/br5Afa88vbvDO4u7TTtG+6f7/zxy/Rt+DL8kP++AvQEuAaUB6UHOwdHBs8E1gKtAB7+Evz8+Vj4gvcp9/P36/he+g/8Ff5QAGwCjAQ5BrwHjAjTCHUIEgh9B6MGvwUhBEQDJwKFAYsBgAEUAjkCawJkAqgCeAIPAh0BTP99/pv9gf44AKsCQwa6CZEO2BOiGqUhcig0Lh0yaTW+NtA3mjY5M5ct0yRPG00QrQUC+6rwpOYf3ZbVbs+jzHXLbsxYz+fSWthI3jnlZOyH8/H5Yv8FBBgH6wlJC8kLwgvRCvEJvwiBB4cGEgYHBrQGugeiCG0Jxgm6CXIJ1wiYB9MF7wJX/4j7kPes8w/w2+wT6q/oDejq6BnrY+208An0j/fa+zYAZAQ9CNcKVwyDDR0NXgz9CjAImgUQApf+wfvJ+KD20PRg84PyXvKF8gPzvfM39C71yvU89qv2q/ao9jf2lPXL9N3z8fID8oLxnfFs8uvznfVz94z5//u//pkBPARsBhII1wgyCREJmwh+B7EFiAPDAGv+4vvR+VP43PY89q31bvXf9Qv3v/gd+zT9Av/PANYBTAPrBJgGHwgACcIIBAjTBhMFawRbA/MCtgK0AVcBuQDkALcBtQKNA0EEyATWBBkFxAQ8BKcDhAJSAhkDmAShB80K5w4RFM0ZFyFkKH0vZzXtOdo8Yj5+PkI88DcSMEkm/hoID0YDI/dn66/fNNVMzBPGVcKuwInBycNYyK/OedaE31/oCvEz+ZsAVQf+DEwRCBQcFecUFRSzEtMQkw4VDMEJAQgAB6oGhgbsBSAF7QMRA5EC1wH2AKP+//tY+U33dPZ69S/1hPTl8+3zmvTM9mf5S/wJ/0QBVwNiBTkHzgjPCe0JjQkCCIEFsgJv/6f8I/oI+N721PXm9E/0AfTS81T0i/Ty9ED1DfWj9YT1gvVa9dj0WvQ38/jxp/Cd7/ju6u6z7wTxzPLx9Hf3bfp//fQAzQMiBpYHYgguCQgJ+wiUCIIHLwYxBOcBBQDV/Tr81/pd+YT47/cp+K74yvnk+qL8A/4y/8wAlwH9AtYDmQQ4BeYEsgS4A2cCFQGT/33+dP3z/KT8xPy3/Hn8cPws/GX9gv4xADICvAPWBYYH6AjGCfYJ/QjAB8sFyQPvAg0CJQLqAncEfgiEDhcW7x5nJ0YuHjSfOLs8PUGkQ+VDJUDeN8ItGSIMFtkJq/x77kfgbdINx5i/y7o4uZ65xLvHwNHH+9Bo21Tl/u5d+K0AXgiBDswSJBVsFeQUshMSEvEPjw3/CgAJCgieB/sHPAgOCYcKPgzYDqQQrxFvEZsPPA3hCdEGWQPU/937yPfv9JDyCvLr8RPyWvJ68nbz4/Ty9jL5o/tr/ZP+3/+gAIsBPALpAX8BDgBf/tn8MvtM+h/6Dvr5+fb5dvmy+fP59fnV+R35EPjb9pn1mvQ59JbzE/Mc8iHxsvDg8MHxcfI/8xX0zPR09ov4DPsB/qf/HAENAnUCOgPMA8QDeAOoAkQBmABv//P+Vv94/6MAvwG4AuwDywTyBcMGswdWCL8I3AjpBx8HUAW6AxACBACc/az6w/eA9IHyb/Aj8HDwv/BV8njzVPai+ZL9tQGhBQYJTgsFDvUOnBCAEeEQcBAxDTIK1Qb3AvL/bf3T++76sfvY/EMB9AdyEPgb0CVSL7g2eTuOP/5Bl0NyQvs9jzXfKvAeQBK3Bij6je0X4WnVKszgxJvAhr55vnnA5cQ1zAXVJN/W6JrxSPlg/4UESwgVC8EMoA11DZsMDQvyCGkHNAY8BvAG2ge6CCIJJQoHDJQOYxFqE4EUBRR8EskQzg5PDJ4IJASK/hj5I/RI8LXtp+vL6kjqP+r76gftlO9/8kD1gPfM+YX7m/1DACUDwwWJB54HfwaJBHQCBAFj/+39O/yg+gf5WPeU9u31qvXB9E7zNPLU8Enwxu+779Lvh+9E7yfvAvCw8X70F/c/+XP6MvtE/Iv9Pf+8ADoCZQLZAb0AqP+B/yL/C//A/hP+TP1Y/RX+Mf9SARwDZwXiBmYH6gjiCTgLPwxODHQLfwntBkkEegKPAOf/ef4P/BL6Uffn9cr0UfRG9bX2IvgU+mr8nv74AW4EjwYiCG0IEQnnCfQJpwncCU0JdgrBCzYNAhABES8R4g8FDnUM1QykD8gTTRlMHbgf6yDTIDAhyyN/JeQl6iRqH/kZOxOAC/cFav8n+Ybzaeyl5eHgYdw+2i/ZOdij2UXbXd6M4lrnd+yi8aL2i/ph/+YDTAiDCxsMxAs+CloIMAdbB3sIwgnFCW0IRwcPBkEGgwekCMsJvQlJCcAIYwiFCP8IuwiPBmwDRP/2+uz2CPPC7xrt5eq16SPq/OoD7ZfvlfG68231gveW+rb94wC+A0UFywV0Be0ExQS0BDYETAKi/2P8Q/kU9331wfR/9BL04PMb9Hn0l/V49tT2gPYa9ZnzHfJ68YfxF/Kl8vvyJPN586r0T/ao+OH69PxM/r7/HwHrAmAFWwadCDEJ/wgDCf4GaQYjBc0DXgPiAmwCowIFAy8DkwSUBLEEeARfA7UDWwQkBUYF2gTrA2YDKgMMA34EvQXcBWkFYQSoA8kDSAMuAzQD8wGRAEP+qfta+cv3PfYq9bz1mvZx+qv+SAPqCpcR+xg7IOwlBC2AM503OjqkOW81AjANKHcfmBghEBUIff8E9YPsL+Ri3V7Z6Nba1sLXFdkr28/eaeMx6anv//TO+Sr9wf+0AXQC7gKkAqcB2/+d/tD9RP0c/eH7dvvK+t36Ff39/5gEsAnBDpET+he7G/EfAyS8JrooTSgjJowh0RoTE+MKxQIa+nnxKuiN30zYmtIJz1fNK86r0LrUq9pS4kXrqPNI+9sCswllEEUWmhrZHCYcixlFFXcQZAuTBsoBR/wg98fxeO2V6VDnTeeC5xHpgukO6ujqCOuw7OrutvFX9F72jfeW+HL58flN+4L8pv0j/0UALAGKAhcDvwP7A/wCbAJVAXYAzf8V/5D+I/7F/WL9if1I/sH/VwFSApoCsQLmAnwDWwQMBTQFSwQSAoP/C/1S+5369fkG+sf5uPmt+sn7Hv7sAOoDJwfvCJcKTwzSDdQPYxA0ERUR/g/3DigMCgpxB1AFWwM+AREAe/+mALcAxwINBW0I5w6wE2wbGiFzJfwpRytRLrcvPjDGLgcqLiOrGpkRBgcH/p30LO2s5n7fH9u81l3UAtTH1EbYCN1f4nvoWu6n86D4i/wZ/xoBEQJDAr0CPgLqAesAP/8m/pb9Of7O/3wCHgTQBWAH/giGDJcPmRMnF9gYcBnoFy0VpRH5DWAJhgQX/x/5RfQQ73nryuhg5ufkt+PA4wDl3ec36x3v+PLm9hH7Qv4yAe4DOQZXB2oHcgYDBYIDsAFQADP//v2J/CT6Dvd69H/yPvEE8UXx8fHT8gnzpPMm9Gj0EvUz9Zb1UvaH9xL5t/rN++z8df6b/y0BZQKyAz0FmAUGBeADCgKOAEf/jv6V/t79hPxf+m/4R/da97D4hfrE/FT+R//s/3cANgH5AVsCrAJXAhEBGwDO/hj+hf3l/E79CP2d/Y3+8v/zAcEDmAbrCIALVg1nD8IQVxAGDy0LvweHAzwA2v3j+u34+/Up89fxLfOM+C4CUw2XGhAnFjErO5tC90ozUnlWxlfDUg1JSTvXKzEbZQvZ+znsm95g0HPFNr0AuPu32bnrvvrFhc5N2EniB+wL9RP9XwKyBS0HVAcVBwUGLwQ5AoH/e/yH+qn5iPtl/6QDTggCDHsPOhMdFmcZoRs/HMQakhaDEXILpAWn/x/6c/Su7jnqQ+ao5Hnk+uXW6LDrIe8P81X3bPtJ/2MC5ASaBv8Glga5BW0ESAOXAXr//v10/Mf7R/y2/cv/9ADcAAMARf5l/Ab71fn2+DP36vSQ8svvvO1D7AHsqOxx7Uvui++W8dfzGPdJ+sD9EgHaAnkEbQXGBbQFzQT/AlQBQP82/Yn8xPua+537LPue+5D8E/2u/jsAWgEFA4YDXgTjBGUEzAPBAisBBv/c/Ib6Cfkt+FL3W/eX9zf4yvls+9/9YAAcAnYDeQTABcgG7AfOCOkJ6Ar+Ci4LXApRCbEH1wRbAj//zvxv+yL6W/qE+or71/3ZABoGFQ2NFvwg5SuzNUA9/UIGReRFnUR8QR09MzVfKxwf5RF2BEr3Pusx4C7XK8+xyVLGRsV4x3PL9tE02ffg8OjK7y72Dfte/owADgGcAHj/+/1E/Qr9jPwU/Cj8Dfwu/VD/eQL7B6oMKBH7FC0XFhl6GdQYPxe8FP8P5gmNAzH8dvbB8BXsmuno5kLmIuck6X/sNPBh83j2sPkb/Eb/IAFXAi4D9QGXAKn+y/xr+4n6Jvru+YD5KPlw+cH53PpK/NX98/4S/+z+/P1U/Fb6rfft9IPybPA+733uPO6s7nnv2fDO8kv1Wvi/+8j+BwElAtICdAJtAWkAzf6M/W37G/k/92/1cPQd9Hn0XvW992v6uv2SAQYFbwmsDDUPeBFTEpYSBRFKDvoK+AZjA2//Xvzd+YL3xfWj8wTzyfLO82H1hfd/+2D+ZQI6BQoIkgtYDUcPGxA1EBEPpg2YCl4H1QN1/qH74PiL+Pf7pgCeCN8SRR0LKfgzlTx1RUdL408QU3hSmU9cSHo9qy+/H9kOs/5r78fhbNZJzOHEQ784vbq+6MJkypDSS9tb4+DpZ++f88D29PgM+uP5QvlO+Jv34fe6+Dj6avxQ/9UCXAenDBESuRcdHF0fCCFOIJcefRtQF0kSVQyDBTP+4fZq8PPrduky6XTq0Ozx79DzLvg//AIAnAJ0AxcDRAGd/jD8NvnN9q70ofKf8fLw1vC48ePz7/YE+9r+EAI/BXQH+AhiCTIIogXMAWj88vb/8VHtIOo/50vln+SU5GbmdunH7fDy8fd4/AAApQJvBI8FqAWUBHcChP/E+8D3p/P+7zbt1+rW6fDpOuvL7erw1fRq+fn9bQLGBnQKmw3fD9QQHhFjEIwObQxWCdgGGQWiA50CNgGAADn/xv4a/tD9v/65/g4AiQBkAeYCBwRsBUYGAAd0Bs4FiQMsAcr+LPx1+8z6WPwN/40DAAsBFSUjtDIBQThNelTsVnpXK1R2UWlNB0XWO1ksJBr9B5P0HOUS2ibRj8zUyZTH5MlIzPfQ1djN3lLlWeq77BfvLvB08Onwge8n7QTrJenG6aLtI/Ra/AcFxQw+E50Zzx8tJiMs0i+JMI8tSyavHAQS/wXx+u3v1OXt3WLXJtQX1FTXdt1t5r3wcPu0BSEOKhUUGlQclhsrGHsRCApmAtL6FvWY7z/rP+hB5rzm/On67kH2Iv43BYcLwg8FEkoSxhAzDTAITgGU+W/yUuvc5Tfi6N9R3/DfYeHO5M/pDPAg9wj9sAEXBcgGZQfOB5UHPQcvBs0DVwEv/hX7ivjM9tD1nPUS9l72C/eG93L4gPkv+qH6yvqz+hf6MfoR+mH6EPyG/f7/4AKABfQI3QoIDIwMoQszCgsIfwXYAdD+o/ra9jz0tfFb8kvzhvXm+Ej8CwCLA9YGlQknDSoP0xD8EesQuhAMDxkOtg+AEtoYdx+MJtUs+DG5NkU6hj5BQHZBLz+6OacyuSffHNcPjwM0+NntMOYq4CHdG9sx24bbhNwl3v/eD+Gl4kTl8eet6TrrYevc6r7pJul76S3rTO4h8lD3A/2YA9UKZhHZF+Qc9R+rIS0hJh9tG2wV3g1hBcP8M/Xa7q7pReYX5Mfj7+VB6nDw+fcb/zAFMgoBDfkOfg+hDj4NIAq3BgsDk/59+tX2PfQ585Pz6vS+9mH4FPoS/IX9Xv9PAP3/Wf4u+y74I/X78l7xfPD074bvnu+U77HwM/Lb8731Ivek+Pr5wPqV+5T8bv09/gH/o/8LAPj/f/8i/5L+3/2i/QH9lfzD/OL8Yv3K/In7g/n09uv0jvOd83L0zPZI+SL8/f86BMwI4wwdEF0SZhObEnkRNg8wDMkIpQSIAOv8W/mU9hL14vO/9OP1aPh0+6j+ZgKMBdQIxAoKDd4NqA0/DGkJDwfYBW4GbQmGDz4XQiF2KgEzTzr/PsJB5UFZQKM8vDflMEUpzB+8FCEJIP348qTqJuZf5OfkxubW6AbrD+yG7LPr8enG5yrlbOIB4APejtyE2xXb99vw3X3hHufH7tv32AG1C6EUoRvEH3shaiCSHYwZPRSRDuYHHwEi+431uPEg78Xtbe568E70R/mC/jQDWQYbB7UFYgKB/cf4U/TS8DvuUOxs6yXrAOy07b3w//Qw+h0AVAW3CUMMogwxCxYIvANp/v34i/M+72vsO+sF7NLtSfDF8uX0oPZM+Hj5Bvri+Qb5vfel9e3y/+9N7S7rWurk6r7sV+9z8u71afnM/Mz/OgK6AxgFWAXNBNADKgK9AAX/1P3v/Gz8YPwX/Y7+PQDWAm8FIghNCqcLQQw2CxAKWQirBkoFQwOyAdr/nP7J/Xz9rP0t/kz/7f9qAZsCsgOUBL8EnATVA0oCNgD5/oz9qP3d/mMBAgdkDqQYyyTtMNc8i0YsTRlRF1H9TWNHuT7uNPQpWR98FLcKpwEB+hr0S/AG77XvuPFv8yb1UvU59DXxsuwh5zPg/dmi0wLP8MwkzZDQ3NVj3NHjSuvj8lv6hQEoCNcNNxLEFEIWphWwE7gQ+gzzCQwHlwX3BM0Fjwf+CLQKRgsnC38JuwZFAyv/cfvs94z1mPOr8m/yjfJ686Pz3fPd8x/03/TX9df3p/lM+9z7afsk+tv3pvWl8x7zs/Nj9b73U/pw/Y//cwFJAq0BDAAZ/Tv6cvdM9cLzefJ58Qrwbu7f7M7rg+sw7ALuqPDn82/3JPuZ/hAB4QHwAMX+2Ps0+Sf3dPaQ94/5pPye/8wBQAPFA/cDkAP2AvUBqgDZ//v+rP6N/jT+RP7O/a79r/3e/bz+iv9wAR4DyQRlBa4EuwPBAXUA+/4+/oD9IP0w/eT8wf3b/df+Xv9jAK4BQQKWA+MDpAXrBi4KuA57E/4aYiETKgkyBDnHPlxAsECHPL428S7bJc0dTxUzDw8K9QaDBUkFUAaqB4YJ6QnmCScIxgTo/yn58/Fa6WLh/Nmo0+fPec2+zfjPFNRR2s/gM+jP7jj0ifj9+mz8Nfy7+/36X/qi+j37Yf1KAHkESQnXDcYSlRaEGUwb0BscGxAZjRZOE0QQPw2WCqAISQfZBgcGvAVlBZUEMAPKALb9bPkp9ezwSe2M6kno+uZA5tXmxOgl6/7tN/G285P1CPet9wT4FfgN+DP4NPg1+Dr4k/jQ+WD7TP0C/1sApAGHApEDlwOFAnQAhf0T++74rveu9hT2A/av9cH1t/XS9d71N/bW9if3WvcY91P3sPeh+Kr5Nfrs+jz7Cfwk/fX+ngFQBBwHiglcC2MMewwEDGYLWwodCScH6gS3AnkAL/8J/mj9F/32/E79V/12/T39Fv0C/cv83Pzy/Ff9ov3S/VT+//7Y//AATgKvA5kEJgW8BYoGkQjbC+oPlBQQGWgduiDVIrAjeiItIJ4ccBhgFGMQ0A2HDJgM/Q3UD8kRNBOxEwwT4RB4DQMJyQPd/kH6O/Ym87XwoO9j763vg/AV8ZzxuvGH8fHwiO/A7WvrV+kU6LDnX+jm6VLsDO8M8hT18/fs+rb9dwCuAoEEAwblBqMHHQi3CD8JvwmPCiQLowu+C5ELTQvYCnMK3wniCEkHRgWuAs//+fwt+gH4Efaz9LrzvvIp8uDxb/KY8zL1BfdK+Cz5mvmz+dj5Fvpf+qn63vr++h77bfsx/Dj9l/74/+sAYwHrAPD/xv5Z/fH7T/q7+Ff3BPYs9Zn0L/Sk89byL/KV8WPxmvEt8k/zt/TQ9ir53vvX/m4BLAQ+Bu8HDQlqCdUJlAm+CQkKGAomCkMJYwhDB9sFwwSIA4oCfgE4ABT/8/1B/Y78kPsA+7362Pok+6L7dfw5/fn9d/7Q/jL/1P/BALsBCQNFBFsFEgakBi8HOgdbBxcHuQZrBuMFkgUgBfMEKgWXBTwG+QaLB/0HiQgNCW0JWgkcCb8IRQjLBw8HZgboBQkGzAZJCJkK6QwGD1YQCBESETwQDw+dDRkMZgpmCA8G8gM4AtEA2v/6/mH+5P2o/ZX9fP2e/Xr9G/2N/Pf7Rvta+ob5yvh0+HT46PiW+V/6Bftc+677Bfza/KP9Sv6b/h7+P/0s/Er7X/pk+WP4N/eC9iH2DPb/9bL1mPWB9bX1EfZ49h33sfdf+KD5Uvtz/Xr/tgApAqwCCwPkAxEFegedCIsJRwnhB+4GwwQwA8UAsv1n+i72vfOP8vLyD/Sx9Pv09vPO8tjxofE/8vjyZvNo8+PzPvWT96P6yv0JAF8B1gHxASsCcgJCA/0DrQQcBS8FSwUUBQAFtQT5A6cCuADg/kX9DvwK+176yPl5+XX5zPm9+oj7T/ya/Ln8BP1X/U/+tP85AZsCiAMZBKAEMwUlBkQHFQiVCCoICwfPBcEEQATvAwIEJQTwA4EDFgM2A8gDhQT6BGEF/wUdB7oIpAq7DFsOZg/zDyMQBBDDD34POA8BDxcPgw9AEGIR5RJ8FHYVmBWMFOcSxRBEDuALXwlBBwEFoAJvABz+EPwQ+iX4tfY89fTznPIX8eXvlu657TjtKu3R7bnu0u/v8FDyD/Qd9iX46fnd+uv6ufpV+hf6LPqY+n37UPwQ/cf9Uf5J/0kAPwE1AqECvQJFAuQB1QGqAc4BCAJrArAC8QILA+gC2QLuAnID4AOsBOwEgQSkAyYC7wBu/2D+X/06/Ev7I/o/+a34Qvi797n2e/VG9PXyP/Lh8dvxDfJ88sXzjPWk93P55Poq/ED9OP47/1cAXwEIAiUC1gGOAaEBygEUAlcCjgJDAjcBIwDt/sv9mfxZ+7H6hPrl+k37j/vW+6n7Bvur+tX6Sfv7+6b8tv3L/icABgKBAyQFCgYvBugFgwW6BScG5gbjB9sIlAmXCuMK7gogCrwIFgdKBZQE7QPhA7ADAwReAxIDyAL3AmMEhQWpCOgKTA4dERITIBVuFQQWfRVOFTIVrRRhFJITshIGEgUSmhJzExQU3RPREuoQ5A7lDEELxgm4B0EFBQJ3/pz6S/dk9LDxPO/a7P7qLun85zfnf+Yz5v7l5+U05gnnZOg36mXsku6N8GTyPPTV9WT3sfh4+Qn6bPp4+8/8q/5aAbwDMAZPCCwK1wvQDIENmQ1hDYUMPQvCCSMIyAaPBd4EigQmBDUDCQKkABf/hP3s+536Svnd92z2+/S4827y7vCE7/3tiexJ67Xq1uqI69XsAO5L74Pw/PGr85311vex+RT7LPzV/Z7/xAHeA34FigaEBtIF3AT/A4oDWAMKAzcDuwK3AaUAnP/N/hf+Fv4j/mv+rP4F/0P/vv/p/5n/Zv/P/sn+Ef76/VP+qv4UAHwBXQPuBI8Gjwc2CLoIBQl5CVgJfAlcCZgJnAlgCd8IqweJBhMF+wNJA7sCVALiAXsBbwG5AXAC/QJ2A5QD8QL7AecAZwBfAPkAxQGVAmcDqwO4A/0DswTtBUIHvggzCiwLJwwrDYIOLBBbEQkS5xEVEbYP6w2oDIgLpArcCf0IGQjWBmwFzwM+AqQANf/Q/VP87/qt+Yz4gve89ij2zvW59cv12PUE9hX2Hvb39eb1D/Zd9jD3CvjW+EL5WvlL+Vf52vnO+h78av2A/jD/wf9EANsAOgE4ASABuQAwALv/G/+O/l/+Jv7q/ZD9Uf0A/XP8Ifz8+yb8QPxR/Az8nfsv+3j6u/nh+Eb41ffJ9xD4pfiS+VH6N/vT+zf8U/wR/AX8Bfxn/Ab9uP1b/uD+M/9n//n/VQCFADMAhP/u/mL+Lf7z/RX+Sf5q/mL+9P2d/ST9ivz7+9n78/tU/M38G/23/WL+FP+L/9b/FQAQADkA0QCrAXUCKQP0A6YEGQVRBVYFEgV+BLsDCAPFAsACyALFAugCQANhA0UDwQJDAswBcgF6AYQBgAFjAQ8BjABXADIALAAYALH/Wf8L/zr/y//EAAsCLgPeA/MDtwNBA+ACwQI1A/MDsgRpBd8FOwZLBlMGhgbWBk4HbgckB7YGRQbFBT4F7QSlBBAE7QJcAZz/+P2//Pv7/PuM/HT9I/5O/kr+BP7D/Zn9q/3c/Rb+Zf7D/jv/rP/8/yYAcwDWAGgBCQKCAuUCEQNkA0QEZQWaBpQH3we4BwMH9AXhBN0D3wIBAocBOQH/AIMA5/9D/6/+Ff53/e38/Pva+qn55vie+JD4sfi3+FT4cfdn9nD11vTA9Ff1a/a/9/L4wflb+sf6C/sd+yv7NPtO+177wvuC/IP9wP7I/6cABAEbAf0A2wD1AC4BXwFUATYBzwBSAJD/wP4O/mL98Pyc/L78WP1I/kb/JQDCABYBRwGJAQwCtwJvA9gDwgMqA1gChQHbAJsAvQD1AAMB7wC7AJ4AeQBuAI4AsgDAAHcACACS/y7/uf4m/pb9F/21/H78m/wX/d39gv4C/4D/4v81AF0AVQBcAGYAXABRAGUAsgD0ACMBVQGBAYEBXgFjAbsBbQJWA2IENwWUBWUFyAQJBDwDogJAAvYBfgHBAA8AfP8S/8L+dP4D/mz95vyk/Lv8Af1l/bL90v3q/Qv+V/62/hn/a/+x/wgASQBzAJwABQG0AV8C2gJBA8IDSgTgBHQF9gUzBgsGuQWKBb0FKAalBjEHuQcJCOgHWwegBuwFPgWjBBgEeQOXAmEBBgC+/pP9gPyr+yj7z/qB+l76p/pT+xL8tvw//Zz9uP2g/YL9h/2O/V/9Cf24/HD8Cvx7+/L6ovqi+ub6afsR/K/8IP1T/U79K/32/LL8gPx6/Jv8x/zo/Pv8DP0n/Vj9rP0e/q3+W/8PAKkAFwFTAW4BigGqAagBVgG1ABQAt/+n/9z/VQAAAZ0B2AGyAYsBmwG/Ac8B0gG5AVYBkgCn/+L+UP7Q/Vn98/yj/HX8gvzV/Fv95/1S/p3+1P4C/0T/oP8TAKIAKQF9AaYBvAHGAa4BcgE/AR8B7wCzAJAAgABmAEUANwA5ADMAJQAtAFkAhACOAGkACABu/73+KP7i/QD+aP7u/k//Qf+3/un9LP3D/L/8Bf1j/an9yv3t/S/+fv6s/qL+bf4n/uz94v0d/pz+TP8YANoAYAGrAd0BCQImAhgC1QGBAW8B4wHEAqcDKgQ4BPcDpQNuA10DbQOaA+UDPAR8BJcEpQSzBLIEoQSIBEUEqgO9AsYBIAHoAAcBcQEcAusCsgNIBK0E+gQ2BU0FPAUYBfAEsgRcBAcEvgNkA9cCDwIuAWEAsf8M/2f+w/0d/XT84/t7+zL75vp9+hL60/nZ+SX6s/pT+837Evwp/Cj8L/xP/IH8q/zC/N/8G/1U/XD9mP0A/pX+Iv+b/xIAbQB/AF8ATgBpAKUA+ABkAcwB8gHCAXEBIwHDAEoA0v9j//P+fP4R/t/97v0i/nD+1f5Q/93/aADbAEoBxQE7ApYC1wL7AtsCWQKqASgB7gDgAPkASwHKASgCJQLjAZYBOwHAACkAk/8L/4X+DP7H/bb9sf27/fr9df72/kP/Vf9G/yn/D/8U/0L/ef+c/5j/cf88//7+q/4//tT9j/17/Yj93P2d/o7/VADPABABIgHzAHgA0/8g/2z+2/2O/Wz9U/03/RH92vyZ/FL8GfwW/F/85fxs/cv9Kv60/k//zv8ZACUA8P+Y/3H/sP87AOcAogFrAiQDrgMJBD8EWQRsBHkEggSWBLYE8ARGBacFHwaoBjEHugcnCGEIaghHCPYHWAdTBhUF2gPNAgwCjAE6AeUAWQCq/+/+Q/7X/bz9+v2H/iL/nf/t/xQAMAA9ABAApP8H/1L+qv04/RD9JP1h/c79fP5Z/ygAvAAZAVwBrgEkAp4C2wKmAvMB0ABr/yD+R/3r/Ov8Dv0q/Tb9I/0Z/VH9vv0//qb+xv7J/uP+Mv/A/zIASQAiAMP/Xv8y/yr/aP8NAPgAEwIZA64D1wOxA1QD8AKKAiQCxwFNAZMAoP+R/o79rfwb/BD8fPwR/ZH96/0Z/hX+7f2w/Wr9LP0M/SX9Uf1I/Qf9rvxk/Fj8jvzy/Gz96v19/hL/h//7/28AxwDYAHAAov+q/rr9Gv3r/An9WP25/fD9zP1G/Y384vt3+1z7X/tM+xD7tvqH+qD67Ppa+8v7LPx5/J78ofy2/Ab9rP2J/lr/7/8tADUAOwA8ACAA6f+v/6j/7/90ABQBuwF0AkUDFwTNBF0FxgUCBvgFtQVcBfQEkARbBFUEPwTVAwwDFwI8AaQAcACtADoB1wFdAscCEQNGA24DkQOtA5kDQgPJAlcC/gGwAV4BGQHuAOIABAFHAY4B5QFjAgIDkAPTA9oD1gPcA+AD2AO0A1QDvwIcApgBRQEeARUBFgEEAeQA1ADjAA8BUAGUAcUBxAGPAUEB9wDJAMgA2gDCAHsANwA2AI4AFgGrAS4CfwKnAssC+gItA1IDYQNjA1IDFgOdAuAB/QA1AKn/P//d/nz+Jv7i/af9ev1h/Vb9W/10/Yv9hP1m/VD9UP1Q/Tn9B/3M/Kj8u/wG/VT9Zv0i/Z38D/y0+6n78vtw/PH8Y/3D/RP+Zf6z/vP+Gv8X/+T+gv71/VH9sPwp/M77ivs2+7f6B/pK+cP4p/j++Kv5hPpY+/z7WPx3/IX8pvzZ/BD9Kv0N/cP8dfxZ/JT8Fv2T/bz9p/24/Sv+3f6Y/0gA5wBrAeQBeAIlA6wD5gPGA0oDegJ9AaoAOwAxAHQAvwDOAKUAhgCqAPkAOgFiAYsBsQHJAd8BAQInAjwCNwIIApIB2wAcAKv/tv8rAOIAsgFyAgkDaAOTA6wD0AMEBD4ETgQOBIgD9gKdAosClAKGAk0CAQLOAc8B8wEiAl4CzgKFA1YE/gRRBUUF7ARiBMgDNgPDAoQCeAKDAokCggJrAksCMAIrAjwCTwJjApgC9gJUA44DpQOsA6QDeQMaA4QCyQEPAYAALAD+/+T/5P/7/wcA2f9r/+/+rv7T/kz/2f8rACMA2/+G/1L/Sv9T/zv/8v6X/lT+JP7x/dD94v0d/ln+j/7U/h7/Sv9G/x3/3v6h/oz+qv7R/tz+0v68/o/+Sv4L/t/9vv2p/ab9mv1m/TL9Q/2k/R7+dP6I/kj+vv0u/dj8yfzo/Cv9gf2y/Y/9H/2e/FL8ZfzJ/Db9bP14/Zj9+f2W/lD/8P87AB8AzP+C/1r/Sf81/wD/o/44/uv9yf3M/er9B/77/cD9lv29/Uf+Fv/7/7cAEwEIAbgAPACc/+b+NP6i/Uz9Of1G/U39Zv3P/Zj+gP8+ALYA8gATAVABywFfAssC8gLZAngCwwHjACYAvP+Y/6b/1P8NAGAA7gCxAVkCoQKZAokCngLUAgoDHAP7ArUCZQIVAtQBvwHkAScCQQL+AWsB2QCnAPsAsgF2Av4CLwMKA5YC6QE2AbUAdABaAEMAGgDi/7v/1f8tAIwAsQCUAGUAWgB8AMAAJAGfAQsCOgIVAqkBEwFrANL/UP/v/rv+wP78/kz/mP/U//T/8v/W/7b/q//F/xkArABTAb0BqgEpAXcA3v97/1D/Ov8N/7/+jf68/lj/JgDPABwBJAEwAWYBnwGcAUsB2wCKAHcAmQC5AKgAYQAKALn/W//j/nv+av64/ib/bP90/1X/Ov9F/23/iP+E/3//lf+r/5z/cP9P/0v/UP9D/xH/uf5W/gj+3/3P/db9Df5//gz/dv+U/3j/Wf9i/4r/mP9X/9H+Tv4T/h3+Pv5X/nX+vv41/6f/4P/Z/8L/xv/g//r/AADq/9H/0v/s//3/5P+i/0z/8P6m/o/+vf4j/5X/4//9//f/BQBSANIATgGQAZABbQFUAWcBkgGdAWcBEgHOAJwAYgArACUAYgDJABoBLQENAfkAIgFpAYgBTQG9AAUAcP8+/3T/0P8MABIA9f/C/3r/Gv+4/nv+gP7B/hL/UP90/5H/wf8RAIYABgFeAWIBJAHeALcAngB0AC4A2f+N/13/Rv9G/2D/h/+c/4z/df98/6z/+f9GAHIAWgADAKP/dP+G/7b/2P/W/7j/jf9Y/y//QP+m/0IAvADNAIgAQwBEAIYA6ABBAWEBJQGjABoArv9Z/xn/Cv8l/zr/If/r/tj+Ff+K//r/VQCzAC4BqgHkAb8BXwH7AJsAHQB4/9v+gv6V/gv/q/8dACYA2P+E/2j/f/+n/9P/FABwALcAuwCBAEQAJwAiAA0Axv9X//z++P5T/8v/GgAvAB8ADAARADwAiQDnAEwBpAHVAcQBewEgAdYAmABPAP7/r/9t/z3/If8U/xP/L/92/9v/PgCQAM4A+AAAAdgAggAeAOH/9f9kAA0BrQHxAbgBKwGOABMA0P/Q/wsAYgC0AP8AUwGwAfoBEgLgAWQBsgD6/27/G/8C/yL/b/+5/7z/av/u/o7+hP7h/nz/DABrAKkA5gArAWoBiwF5ATEBxwBRAOv/rf+p/9b/EQA3ACsA6P+I/zz/Lf9d/7D///8wAE4AggDkAFoBnwF3AeoAJQBv/wH/7P4N/yH/D//7/gj/Lv9i/6v/CABlAKEArgCLAEgADAD7/wUA+P+p/y//wP59/mb+a/6M/sj+EP9F/0r/J/8P/zr/sP81AHwAVADe/3j/d//Z/zsATgAbANP/g/8g/7L+Z/5t/rn+GP9d/4L/oP/Y/zQAogD6ABIB4ACBACAA0/+Q/1H/Kv8k/x//Bf/3/ij/j//l//v/5f/T/+j/LQCNAOUAHgE5AVMBagFeASgB6wDXAPoAIAEBAYwA8P95/0j/OP8n/yT/Pf9a/2b/cP+x/z4A5gBrAZUBQwGfAPz/pv+q/7v/ov9t/0L/SP+E/8j/9/8UADMAYgB+AGgAUwBpAKAA2ADkAMQAkwBeAE0AZABoADgA8v+5/6j/q/+1/+X/LABrAJcAogCTAIUAiAC9ACIBfwGqAXUB3QAzAL//nP/A/+z/9//f/7X/v/8WAIMAzwDWALYAuQDbAO8A2ABtANz/d/9J/1X/g/+j/9b/DgAXAAoA4v+h/5L/s//g/xAACQDv/xMAPgA6AA0Aqv9K/wL/mf5D/hn+8f0D/k/+j/7U/gP/H/9g/4j/iv+k/8n/9f9CAHwAlACZAHEAHwCx/xv/wf73/nT/8v9EAEUAJgAAANz/6P/9//v/+v/t/9X/uv+m/8X/FQBwAJwAewA8AOf/jf9n/0//U/93/3n/d/+E/4P/n/+8/83/JQCtAEkB6QEnAugBZwGuAN//Lv+2/pT+uP7M/tT+A/8t/z//Qv8n/w3/K/9u//r/qQALASIB+QCcAHIAeQBgAGUAXQA1ABUArf8//zf/Vf+t/xoAOgBLACcA8/8gAFoAigC1ALEAlgAyAKD/Q/8H/xb/Zv+k/9T///87AGcAbACUAOwANQFqAUMBBAHNAHEAKgDk/77/xf+v/8D/HQBSAH8APQCg/zf/D/8P/3j/FQCvAAsBtwBNABoAKwBLAG0AIwAfAAAAkP9L/+X+Ef+O/7H/gf+f/wcA6ABqAXsBMgETAeQApwCGAPT/t/9Z/1n/Zv/E//L/BQAKAIn/YP8p/+D+7f4u/5z/ZQBTADMAFwCj/5f/3f/M/8P//P+8AZAEtwMFAbX+oP7ZAM0Avv4N/Yr94/6H/3D/w/5W/5wAKQGPACn/Gv+p/7j/Rf/M/sgAjwJ/ATj/nf4AAG4A9v8K/yP/jQBOAVUA3P+/AOEAMAEfAT8Amv/k/3oAUQDHAMIAFwCfAA8A8f51/ln+Wv9CAE0AYf6v/hEChwOUAigA8//jAcQC5wHp/6r/eQD0/8H+XP2//Lz9F/98/2z/eP8d/xT/av/T/8UAFQGlAAwAof+S/xn/jf5A/vb9vf3J/VL+2f4y/z7/9f7p/5QAKgAUAOj/1QCqAWcBegDW/5gAvQAqALn/KAAhAU4BOQFfABAAKgCp/9v/Sv9LANoCQQNGAfX/ywBJAHEAsgCN/ywAeAAuAIL/9P3n/gn/h/6k/o39Uf72/Uv95v6OBPIIGwX2ADQBQQTuAwD+8Pp+/jYBq/9C/nz8wvv1/ocAuP4d/db9ef+S/i7+IgDVAVICnwGR/9r/TQCw/mD/1/4p/u3/OAFwAUQALP5+/VMA3gIjAWn/iv+mALoCtAKkAKz/4wEOBO0Bm/7M/igAiwBSALD+oP6hAMsAHf8b/wEA/ADhAiMDpAHdADIBwAHfAYv/CP1z/dr92P07/hn+Kv13/Sv+BP8P/7/+HwC9AKwChgFw/24AGwXSBj0Acvyx/FABWQHO+5H6ufypAEEArfw+/Un/o/7X/SICLAQX/27/pQQJCbwGmAGRBJ8HgADc94X59f5m/N71aPd//DUAkgDb/sP9DP8oAKUArQH3/rn7vfs1BL8HWAn9B3cB0wKtBSIE2vpf+Ej+9P4U/W0EMwmvBYwDEAHEAQ4CRv7P/G/8dPtOAacEZAD4+4j+YAKf/EH4aPrs+Wz2UPhU/VT/D/+tAtAGlwOOAvIFmQe/Aov6R/05BZIDff2A/OUB4gVPAe7+7AFIAvr+vvtn/QUB4v42+vT9OwRRBFsApPyi/noCb/14+Bf8CgD4/wT7tfvkAFsCvwHY/+QAcgEyAEEA/gAdAaL/vADzA08FKgWfAtIAdwG9AdD//f1t/g3/VgAkANr/GgD4AFIDHgPpAAr/H//3/1cA6P7z/KT/GwLBAEP/1v8AAHL80/su/Y39I/8U/0IAzP8z/h8BYgSYBO4AEv5n/rz/bQDu/nr8Bf0KAr8DoQBA/xgApQGGAPD9Qf6e/rz+nv/BANIBVAJ2AicC/gIeAv3+DfyQ+3n+/v9x/73+Wv/g/1z/sf7x/ij/F/6X/d7+FQKuAQABVgJOA+wDngGJ/4X/iAHNAG39A/9PAy4FhQPwAGAAHQElAvEB5P6K/Ar+YQDOAE/+7P7rAVcBYwBUAHsCmgKT/qT7/Ptz/aT+/v1q+ov7bgBSA7UDegFPARUCPgBU/5f+Sv2H/e38MP54AfgBfAG5AGkAwwCn/1f+5gDeAksBpQGxAqAD2wEC/3T/pwBVABr/if9E/53+cv7i/n//CP+p/sb9KP7L/s//yv9Z/d39+/9LAQ0CiwEsAFb/kgCYAgcCUP+C/9T/cv59/8gAaQBa/zj/4gAnAuEB+wGBAVsALwBVAeQChQJfAcoATwDx/gz+1f39+zP7BfxV/okBEwDY/HP8/v6wATUB4f/o/wkAUf9j/zr/+v2X/In95/8VAdkBvwGvANH/+wFuAz8CugKwApIBzQB5AXEBmf/v/h7/aADGAPoAngDN/qX9/Pwj/Yn93f1h/Bj8Jf/rAhcE1wHVAKcBzQE4ANn+pv6C/r79Ff4GAawB3f8W/3v/5gCLAjQDRAL5AZoBy/9X/ob+pv+BAFMBOwFrAZEBwADi/63+xf/JAeQAZv/3/q7/ngDlACQBIQBD/1z+A/55/tH9vP1O/v8A8AKMAWT/3f2C/QD9ZP3Y/fL9Av/q/lH+Rv9LAS8CMwN/BEIDUQEkAWcCxQFrACYA0v9aAEwB7gBeAD8B0gGHAQIBRgAy/wv+9P2f/qL+B/+p/t/9T/66/o3/9QDaAdsAhACkAUkBrv+4/hH/yv8SAf8BFgEkATwCgAI2ArsBnQFwAYEAm//J/lL+AwAMAeT/xP8cAekAUP9n/W78gf2z/jb+Mf2U/hIAUgCq//n+3v5V/hv+//4AAFX+5fz+/AX+bADjAQYDBgOHAvMB0QByAD//3v52//z/0AAyAYQBkwBe/2v/lf+n/6n/rP9W/yb/EABzAZ8C6AFbACAAugDdAEMArv/d/hr/1/9SAAP/xP2m/i7/mwCvAc4B4v8B/uL+OgAfAOf+0P9vAJEAhgD3/3j/Of8fAMn+3f51AKoAXQD0/gX/PP83AIAAagDjALcAdAIHA8UCrAFhALn/UP71/TX+2/40/xL/nf++/xv/gP4Q/sD9b/7D/3gAhAC8/8X+Jf7r/j//Wf+zALcBbAIyAW3/bf5D/sP/GwBiAOoA3QBsATwBHwLyAS4BBwKMAu4CtQEKAI3+Of4n/97/QgBTAHYAGwDy/wgAKgApACUAbQA8AJcA2QBUAB0APwAZAVEBoACL/3f+YP7E/qX/PgCf/4D/QADIAcoC6wGLABgAqwBmAFwA8P/t/yH/Kv7n/s7+RP84/rz9hf2Z/sIA0ADIAJr/of90/zsANQHiAP4A3ADGAVMBmgEmAVsA0f/u/tT/Pf9y/8j+8P6y/x4AvgBx/xr/wP7H/woASwAGAN3+0/5V/24BqgGAAYcB+QFHAv8AGACR/sz9v/4CAH0BLALWAT0BKAC+/6X/eP/f/5j/1f+H/wL/2f9AAC0Akv9q/9v/tP8+/3r+bf3m/X/+Tf+G/2b/OACX/6T/r/91/17/eP+1AG4BkgHXAQYBsf8E/1H++f0J/hH/lv/U/5//C/+B/7j/LgBXAJYAqgDYAEUAHf/5/mT+8v7z/1QB+gF6AWQAR/8U/5z+6f5G/2kA8QCyAQAC6QElAv//mP8s/0j/NwCOAAABUADQAMwA5ABQAbwAbgCOAMH/zP6t/bv83P1n/gwAvgBTAd4B8QBCAbb/AP/l/hT/Yv8R/6j/WQCRAC8APgAWAHoAx/+H/z//Of+//4/+FP9+/3kAuAB7ALcAtAC+AK7/k/5q/VP+Cf9UADgB+wBzAfMBqANbAzMCogBO/8v/WQCgAL8ASAA5AIkABgAuAL//8/+6/1H/kP+p/l//CP+J/gT/Zv/xAEsB0ADIAOYA6QDkAOoAhQBR///+mv6R/sL/KQCyAPj/ff+7/7T/ggCLAeUBngCL/xL/of6C/mj/bgBMAfQB/ABj/8X9Z/0F/vf+yP+OAC0BbADA/03/Bv/M/nr/eQANAYIBmgAGAGX/g/8XAD8A5QDlAJ8Af/9z/5L/E/9K/x8ARAEpAUAB6ADzADEA2P7M/uz+cwDrAN4ALQD+/sn++f6FALAAwQAPAWcADQBy/yX/7v6u/+YAbgEjAdwAqgC6/0r/kP6a/k/+p/4o/53+T//F/vf/OADbAGMBTABTAbMADAETAAIABgE3AcwBRAGaAZoAhf8I/4T/rv9MAGUAwf9Z/1T+Hv+z/mz/sP/3/+0AcgDXAND/Qf/5/jD/NAAHAOr/OQB7ACYAnf/I/3wA1gBiAcwB8wB6AIEA8gBsAXcB6gF0AakBQAHt/xb/Nf53/rr+K//W/7H/yv7o/qT+xP4z/4v/8P/3/l3/gP5w/r/++P56AIAAywBQAOz/b/+3/ov+qf57/rD+h/8YAMYA7P/W/3r/r/+qAH4A4QACAL//z/7X/Rv+1/1V/mL+hf5w/rL+YP6m/fv8ovz2/WT+lP/F/5EArwCa/yYAWv8eAK7/OQArAX0AewDQ/zoAWQADAa0BZQI/AnMBQwDK/28AmgAXAoABcQEHAQkBzAGtAI4BtAEoAooC3gIhAzkBpwBbAQMC9QK3AwYEPAODAbMAKQCvAGABUwHdAZ8BiwGtAEb/7f7m/qf/6wC+Aa4B6wBlAIP/6f6n/9L/2wBqAT0BEAHE/1z/cv9zAG4AaACfANf/OAAfADYACQBbACkBiwGgAbwAawBq/9z+Sf+P/+r/LgBhAL7/pv/X/8z/z//M/xoAZgCtAHsAgwDv/x7/gP4p/iz+4/1W/mT+O/9I//D+wf69/Xz9wvwE/dr8Jv1i/ST92/3t/c/+Kv+g/mn9bvzz+8L7JPzB/Dv9Bv3A/Gr8iPxF/KP82Pwp/Oj7rPv8+wv8sfvs+6L8Wf1R/VL9n/1N/ZH9Mf61/pL+cv4u/5X/ov7a/VT+Af/q/8j/VQCk/17/2P/g/8QAXf+P/2D/DACzAJ4A2QGJATcCTwLzApYDEATMBPAFywb/BjEHcQb3Bb0ENgZ+B0IIRgi9ByoJEghOCJkIrglkCqUJEgs4Cw4MuwyWDtwQFhG3EWoRbhHQEBURsRKDE6ATQxMVE2kRxw/zDQANTgzJC8QLYAqVCPoEjANMAs0Aof+9/eb9tPwc/Mz67Pll+Yv41Plz+Rz5w/i5+f/6Jvut+tH5H/qe+XX5zPiW+AX4IvhE+LL29fWY9Mf19/VN9RX0nvLC8s/x8vKS8rzyHfMZ857zovIx8mLxRPK28o/z4/R79Qr2wPUP9Vb0RvXB9nH47vhm+AX4xfiJ+Xj6Sfsh+w386fsd+5P4Ifab9MD07vbI9zj5rPk4+dP4bvc29qD1H/ZP+PT5jvsi++j6cvvl+Ur7I/uu/H79J/3T/WX8X/7W/vcBTQOFArgDIAPWAzYDSAOXA64EBwYDB0cH6QY6BSQF5QUuBUgHMQZUB1cGmwZJC/ARFR0wItImEyQCIJoekhyQHc0ahxqGG5ogdiWQJlgk9BwNFiwRVA6sCs4GhwFs/1n/ggCJAtIC7wHZ/Vj78fbi82/xFe/n7/DwsPRF+JT8TP3u+1n6+ffl+OL5M/zV/Tv/GQDlAEQCrgBd/0P9oPtp+7X66Plk+NX2UfVt9eH2f/cX+PP3qvb39VX0LPNP8yTzovNW9O71ePbM9ij3a/ZY97b3avnf+178TfzA+zD8hfzM/Yz/PACzADb/ov13/Dz6y/iI+Mj4y/ia+AX4TvZv9FryE/Ko8/n0x/Y++FX4tPaZ9ef08/Rz9YH1//Zr93v3UPc++Jf4qPj++tf8Gv9l/17//v6h/bj8Av7XAPwBzQLEA/MEWgReBI8DrwNUA1ID3QWGBeMG0wrQFnIk9i61M5ovfynrIowiBCReI00g6B+9JJIrLTAfLoIl+RjlD28KLwh/Arr7TvgA+Sv+BQIKBGwAmvlK8vbsq+pj6FbnlOgA7HPwIPXg+Ov6dPnY9of1ivYQ+VL7o/6GALgBBwPZBOwGjgYdBUsDMAGt/tj7Ivoy+VL5pPsE/kn/Cv5Y+534m/SE8Wrv0++g8cbzZfbc9mP2QPWb9Zz2iPYR9qT1ovZf+Jb6s/zU/UH+EP9BAPcAUf/O/GD6Qvnl+Qz7Uf2G/RL9KPsw+dX25vN+8zHzifTW9Ef1HfVZ8xryDPH88AXwDu8473Xvau+/72bvTvAh8IrxEvT79V34dPde+Iv3E/nu+r77Uf7X/ikBsgHLAhwD5wFnAXABAwLCAS0CAQpLGN4oyTYSO783nCwkJbUjkyWkJlQkoCY3K5wy4zc1NSsqxRlSDpIJWQaDAYf6qPdL+Tv/oAYtB/EAZvU27OXmhuN14nviLObS63XzsvpA/T77b/bY8uTySPYZ/NkBHAaQCJMJRAufDJMNhAx7CdkGTwWABUQFIgS6Ab//uP/gACwCOAFk/of6c/dI9f/z1/Pz80/1SvY99zb3HfaU9BHzu/Pa9Mz2qPi3+kf90P6Z/0v/Yf6O/dv8V/wc+7f5W/qV+6v9K/3H+j/42fVM9pL1S/XS8pvw1O+B74TxLfFQ8Jjucu65783vtO617MvqAOtf7DnvWvDL7iXvXO/O8nTzVPSb9D70i/Zw97D6/Pru+yr9GP6d/3b/7f6e/Zn7f/tD/VcEFRNVJZI3cD6CPH8yZSj9JIclGioxKk4raS/vNl4+MT1wMzkhEw+tBLQALAAI/Sr5Evlp+40BPwPZ/TzxkuLK267Zkd1n4QLmWuwa8Wz3V/nj913zHu+08GT1vf35BEEJAgwQDIsNUw6qDjwPMQ35C1oK3Ak0CQQHowZlBlgI1ghuCKUGcQEo/fn3gPa79bH1Ofid+cb7jfpm+KD1R/I28YrxovPx9V725Pam+J/6q/3w/dT9MPws+sf5R/lD+Sn44Pgz+vn7V/xp+3j4M/Xz8hTzcPTI82/zrPF78aTwofBp8NDuge3T7G3u0O/n8C7xpfCq77jvB++Z72Tv7vCJ84X1V/jt+ID6SPpB+377Kvt5+976LfwZ/fH9eP6Y/K/63PmI/m8L5BsvLnI2gTZAML4n2ia0JvEpSSlwJ3gsyDQoQJxBvjfJJRUSMAi3BLcEcwH5+g35efyqBCgI8gG48wnjd9v52/LgfeTM5OrnuuyS9FX54PZQ8NnoIekz7/j4owFKBZIHewgNDFQPhw//DJMHTARFBGMGfgleCekGDwXnBEwHpAgECJYEYf96/Ij84v0oAIAAzP8X/+D8oPsf+L70T/NT9KP3DPur/Gb7cPqD+Zf6H/ok+Qv4wPeG+qD8SgCcAM7+9fyP+k/5APeG9Bzz4PIE9U74efkT+OTzFvF37uXs8euD6tzroeyD7yryZPMk8/3v/+3W7Pbszew+7HLske2Z8AP0I/ak9kz2pvYj+Xj6DPva+kX6HvoE+9f78vrl+iH7qgTLEnYj9TC5MSgv6CaTI2okIiWyKF4nCyxhNO88BUPNO+0tQRyzDzoNBg76DYgJ0gQJBFQHFAlzBKX4ROhw3Zfc5uE96BPq0+k263PuffLT8ZHrIOMt4BjmYPFr/UMDkQQqBfAGEwoFDCUJawPcAMcCyAjuDfMOvgyKCkkKzwzwDncM5we2Avb/iAGRBOMGswcgBxsHhQf1BWwBgPv69pj0oPVO+L/6n/zY/Kz8kPuV+Tz35fQC9JL0nPbH+D761/o3+zH8Dfxq+n/2zvIu8XnxX/TB9iX47PY29LXxEu9L7iPtqOxL7eLtFvD28ZTysvGi8Jjvve777vntNO1J7EfsRe2o7tnw6fL99fr30/kA+4r5uvcw9rz19fc1+Y/6Fv3hAYcLexZPI7onDSYOI14dIR8xIPIjmShFKuIw3TbfPbs81jIfJQYWUQ8HDf0O6g8bDQ4LNAtNDB8I8/8n8yXmNOC23z3lEerM6pfrB+zt7gfwqe0O6VXk/OSe6cLxrPdg+kH8hv6bAh8FoAbfBOYCkANTBggLjwytC6UJpwk2DM8OrQ8BDsUKtAjrCdMKSgyIC0YK/wn7CPUI1Aa9A1MAKv/j/xMBbAGC/xr9e/pA+dT3VPce9qn1f/ew+MP6FvuP+uT5e/k/+hr6F/lr9nL0BfR09UH4//ny+j/5V/bD83XxD/AY7/7uPvDa8V/zv/St9B3zOPHr7/PuY+++7+fvqPAA8L7vIfDT8A3yTfTm9hT47/g++Cb3GfdR9/D46fkh+vL7SAGLCEoRChpGHKIcqRqpGIQboRzGH1Yi7ySHKmsv8DNmMSoqgCCzFy8UZRK5EgsSXRCDD9QPhg4TCUcBMvZz7sDrD+zQ72nwrO/B7lftv+wk6tPm5uMi5GPnpezh8bXzX/SF9C32bvjq+QH7XftA/h8CXgaPCMcGhgTYAjsEyQfmCmkMywwGDUsOwA+zD6kOOAxKC2oLCQzgC04JoQYPBJwDdASoBJgDIQG8/gH9EPt2+T342fY19xv4s/mA+kP5mvj398H3pPeA90P3KPcv+Lr5kPsZ/MP74/pk+Ur4a/fh9vL2zfeg+U/7d/vr+u/4A/dW9TLzX/LJ8WDyCvQD9mT3Wvfj9bzzs/Iw8nXzr/QM9jn4Zvk2/Cj9LP1t/QL7CfpK+Rf6pv6zA2kKDBGqFDAWDRZ5FVkVghVDFxsarx2XIoAmHCk/KKEjkB8FGwAY0RacFBAToxH7EHgRfRDsDJ8HmAGi/Ev6dPmR+Mr2wPT88rfx2+9g7LDoteXi5GfmH+le683rh+vn67ztsu8k8ZbyH/Ru9u345/rV+wr8PP3b/+ECUwUwBvcFJgZuB0MKYAybDO0L9Qs9DccNGA5KDBMJAgeLBTcGhgU+A3YBwf8XAGcA3v+//WD6wfjd+L36wPu4+gn5JPeC9nz2+vXC9HzzAPRc9nj5d/tQ+8z5xvcI90X3Ovd493T3a/iJ+qv7uvsQ+pj37vUn9Vj1pfXm9UP2OffT+KL5dfly+Hb3Hvh4+Vr6kPoo+sL5kfqY/NH9W/6h/Sb86Pt8+6r72vsI/LT9zQDbBbUJvwwzDiYOExDcEIESjRSdFaYYmRvhHsogkSCuHksbmxkyGMQX7Rf7FtAWcxbFFboUMhJLDm4KFwccBJ4C+ADq/h/9OPr/9mrzee9p7Ffqq+n86VzqI+pE6bDok+hF6WrqbOu97Pjtbe9r8XrzivWY94b5hPuy/Yj/XgEXAxgF2AcWCuoL6wwvDTcNeQ0hDioOag65DbgMQwysCpYJqQd2BWIE5wKVAv0BFgExAFL+T/3U+2X6Ivkc95L2RPYe9m32y/VS9aH0GfRM9Br0Q/Sa9D71u/bE94T4svjy9133zPao9tT2wPYV9+D3LPk6+qn6i/p0+Yv4P/ie+Ln5mvpj+yL8hfyq/Hf89PtC+6X6ivrK+gP7Z/sE/J38Dv1F/YD9qv3k/dD+TABNAmgEaAamCC0K2AuxDdsOyBAuEqUTiBUdFmQXhRh6GcIa0Bp6GjEZDRiyF2oXzBeHF8cWwRUuFLgSsRC7DYgKdweqBK4C3wC3/hr86fhe9mn0l/LL8M/uOO0d7IXrP+vE6tXpf+lD6qbrBO7T77bwPfFK8bbyk/RE9lj4OfoF/cz/dQKUBN4EtwTlAz4EvQXJBoAIIQlWCWUJtghGCLwGRwVsBDsElQQIBEYDYgFP/779GfzK+zz7QvqK+VL4dvea9n/1xvST9MT0MfXE9ff1CfYk9vH1CfaC9uX2oPeA+Bj51/ls+rL6Bvs7+zP7+Prg+gT7wfv8/PD9w/7p/o/+Zf7r/Xn91Pwz/Of7uftE/JT8svzC/Er8O/wZ/PP7Hvyk/NT9Iv/IAAwC7gISBNQEIgaeB9AIdArOCyoN2A5MEIARhBKqE98UDBb9Fm4X8RdyGJgYlRj+FxIXpRZXFi4W0BVLFFESGBC/DfsLVAqtCA0HYwXRAwMCbf/2+4/4yfUT9EvzcPKQ8Zvwru857wXvh+6l7TntR+1w7lnwnvEK8y/0kvXc98z5T/vv+wb8QPw7/ZL+Pf9cAC4BOQISBPsElQXfBCUDGgJ5AYwBsQH5ATACKwIDAtYAPv/8/K76oPkk+fz43vhj+HX3tPYq9sb1rPUL9RH1m/XG9Wj2qPb19sj3lfiY+UH6gvqs+un6OvuT+0L8Df3t/Rf/VwAuARQB8f+M/ov9yvy2/Ar9MP06/fz8ofz5++T63Pkd+dL4JvnS+Yr6X/vo+4/8fv0g/v/+vv9LANoAWgFNAnoD3ATyBTQHuwjXCZwL3wySDUcOQw71DvsPKxGVEnITGBQyFKAU/xS1FCsU5xJJEh4S8xEVEmoRPRDtDtsN9QzOCyUKvweyBdMDZgJRAW//6P1h/N/6H/qy+NH2xfTA8uPx6fEo8lXyhvKu8gDz1/N49Mv0DfUy9Q32jfef+JX5gPrd+vL7a/0k/g7/bP9b//f/CgD8/zsAJQB8AEYB1AH+AZwBYgDa/tb97Pxk/GT8J/w6/Ib8DPw5+y36vfj599b36ffd+M35ZvpR+437R/sT+5j6rfpp+yT8E/0S/tT+g/8mAJAAzwDYAHQAIwAMALb/XP/m/kH+9/2w/S39lPy/+wv7yfrB+t/6Ifs4+yD7FPsS+y37X/us+1T8SP15/rv/oAAuAU8BNAFwAc0BfgKrA7oE4QX2BrYHdgjXCNgI5AgfCbAJ1ApwDMsN0g5KDxUPDw8MD/UOJQ9MD7QPoBB0EbgRcBFbEMIObA06DGELzwqcCXcIqQePBoAF+gPYAdD/2f1g/D/70vkS+ED2BPVk9Gv0rfRt9Bj0bPOy8mryFPIV8oDyRPOz9Iv2SPiJ+Tr6WPp4+q363fpx+wX80/zO/Xb+Cf8s//r+kf72/az9mf20/cT9t/2i/Tf9p/wZ/JL7Fftc+p/5VvmD+SP6G/vU+0v8nfyx/AP9X/2L/dT9IP6+/s7/4QCzARkCIQIMAg4CBgK0AR8BQgBl//b+rf5d/vb9Z/0i/SH9Cv2r/O37BPs++uX51fkW+rX6Zftg/Gf9Yf5i/+X/HgBHALUAbQEJAsICewNWBCMFdgWNBUUF5gSWBFUEZQSTBP8EpgV8BmMH5AcgCFEIoggxCQYKKAteDGsNMQ7kDoQP2w/uD/oPOBCPEOYQBBHWEIQQ9g9ED1YOBg2CC90JOQigBgwFRANSAYb/z/1i/Cz79Pmu+ED34fWP9FXzPfKO8avxJ/Lz8sTzA/QD9OnzzPMF9GD0vvR79Y72zPcN+an5gPkK+XT4Kvh2+Az5qvk8+qT6x/rh+qv6Hfrj+cz5EvrN+i/7dvu++9X7K/yY/Nj8O/2w/Sn+9f7y/80AqQFcArgCCwM7AzsDMwP3AqwCnQKcAn4CewJXAtwBEwG8/zf+5PzN+137gPu3+9n7wftG+5b65fmD+aT5Jfr2+vb78fy8/UH+nv7o/jn/rf8iALIAZQEQAqUC+wInAx0D6AK1AoACawJYAlsCkwLbAh8DQANLA1cDlQPxAzEEhATEBAsFxAXEBiIInwnNCvQLxQw1DZUNxA3lDSEOqA50DzQQmRB6EAgQXQ+FDqENmwyJC6wKBwqRCRIJKAjGBg4FJAM+AY7/If4f/X/8CPyi+/b61/l4+DT3ZvYV9gL2FvZg9sX2P/eO94D3H/dr9q71FPXF9L702vQl9YL12/UR9gv2CfYX9kX2r/Yg96f3JviU+CL5pPk2+uP6oPuF/GH9M/4M/97/uQCPATECrgIVA24DuAPxAx4EIwQfBPkDtwNVA5gCzQHkAN7/9v4y/q79Zv1N/SX9p/zL+7v6CvoL+pf6lPuI/CL9jf2t/Zv9h/1t/XD9zf18/lX/PQDhADUBXQFPARsB0wBZANr/r//I/yYAlQDEALkAdgArAP3/+f/Z/4r/YP9i/8j/qwDIAfkCBASYBM0EvgSQBL8EdwWOBu4HWQlSCuMKLQtFC2kLWQsrCzMLgwsUDNMMkQ0HDjoODQ5mDXMMPAvxCeEIJQjaB+kH6geiBwkHJQblBHMD9QGDAGH/dP7W/ZT9d/1e/fb8GvzX+mT59Pe49uD1Z/Us9SP1O/U89fz0YfSQ88jyQvIm8nzyHPPN85X0UfXZ9S/2U/Zw9rL2KffX98746/kX+z38Mf39/Zr+Ff9//9T/BQAMAAUABAARACUAOQA6ACEA5v+g/3H/Rf/4/nr+6/1w/T39bP37/br+Rv9x/yj/o/42/hT+M/6L/jX/IAAXAcgBJwI1AgACzQG5Ab0BrAGEAYUBtgHlAeoBjwHXAOz/G/+6/rf+7P4g/zv/T/9R/1H/Tv9Z/3H/k/+6/7b/of+f/9b/WAABAbIBVAKwAsMCsAKCAlgCRgJTAocC8QKSA2QESwUUBrYGHQdSB1gHSwdiB8oHsAjsCUkLewwbDRwNqAwXDLkLpAu4C90LDgw5DD4MEQyRC68KcwneBzQGiATzAqwBtgAIAGn/rv6x/V785fpq+SP4Ivc39mD1tfRC9DH0d/Th9Dz1RfXx9HT0G/QX9IH0PvUY9gr38fek+CH5XPll+Wr5b/mM+c35K/qo+iv7tfsl/FP8N/zj+6f7mPun+9r7FPxR/Jn88PxV/a395f32/fT9C/5V/ur+rf+LAIABRAKeAncCAwKRAUsBTwGWARMCkwL3AkoDiQObA2ED2AIYAlEBpwAiAMX/hf9n/2T/W/88//r+g/7u/Un9sfw7/PL77vsv/K78PP2v/eT9vf1G/ar8NPwR/Er81/yP/Uj+1f4c/y3/Hv8L/xb/Sf+j/wsAeAD1AIUBJQK+AkEDkwOoA7QD7QN2BD0FLAYuBz4IXwlvCkYL2AtADJwM+gxfDcsNNg6SDvYObA/ND88PUQ9kDjIN6gu+CsAJ3Aj9ByoHeAbWBR4FQwRDAycCAQHs/wX/Uf69/T79x/xF/Lj7JfuR+gD6f/kn+fz44Pi0+HD4Hfi/90n3tvYJ9mL17/S59KX0j/Ri9Bn00fO18+XzRvSY9MX09vRS9dj1cPYc9/j3FPlj+sf7Cf3v/YD+B//B/7AAsAGqApcDcwRFBQ0GqgbqBskGdAYtBh4GPwZmBnYGbwZVBh0GrAXtBOgDuAKKAY0A4f9//0H/Bv/K/oX+Ff5j/YD8i/ux+h764vnl+Qj6QfqP+uz6O/tk+1v7Ovsi+yP7QPth+3b7jfvN+0b80Pww/Ur9Kf3h/JD8U/w4/E38ofw3/f/9x/5a/6T/u//W/xEAbwDjAGIB/wHXAuoD/QTLBT0GYgZdBmEGnwY3ByUIQQlcClwLMwzSDCkNQA05DTkNZg3NDWcOFQ+/D0sQkBB4EAwQYg+KDqYN5QxgDPELUwtYChEJvAeKBnMFRgTbAjoBlf8M/pz8Ofvn+bH4pvfd9lr29/Vv9aX0ufPl8kny3PGJ8VHxYPHR8XzyEfNe83TzivPP81P0CPXT9Y32LffZ97v4zvnd+rH7Q/y//F39Nv4x/yQA+QCsATACegKNAoQChgKiAtkCIgNwA7UD4gPyA+cDuwNmA+UCSgLAAW8BYAFsAW0BXwFOATMB9gCbAEUADwDj/5r/I/+Y/if+9/0Y/mT+lf5s/t39Dv04/Ib7BPus+n/6ifrC+gf7MPsm+/T6rPpb+g/62/nd+Tv6AvsK/AX9sf36/fP9yf2y/c/9GP56/v3+rf92AC0BsgH+AR8CLwJIAoAC2AJQA/QDxASbBVQG1gYaBzEHQAd6B/QHlAgwCbcJMwqzCkELyQswDG4MmQzHDAUNVQ2nDeAN8Q3nDeIN7A3oDaUNCg07DG0LvAoYCloJgQiiB9sGPQaxBQUFBwSzAjwB5f/P/vL9KP1X/I/78/qN+jL6p/nZ+O73HPeM9j72DfbY9aD1evVv9XL1cvVZ9Rv10fSo9Kj0qPR89CT0zPOX85jzxfMI9FL0k/TI9Pz0SfXB9WX2Iffq97z4kflq+lP7Wvxu/XT+U/8GAJQADwGJAQgChgICA3IDugPCA5kDZQNOA1wDfAOKA20DIAOtAhgCbQG9ABMAdv/u/of+NP7c/Wz94vw//I/76fps+iz6OPqL+vv6RvtF+xn7APsk+4X7Efyz/FP93v1R/rr+Jf+b/wwAbQC/ABgBiwEcAsUCcAP2AzsEQAQnBB0EMgROBFAEOgQyBFwEoATNBMMEhAQtBN8DrAOMA3UDdwO3A0UE+gSTBeMF8AX1BTQGswY1B30HkQeyByAI4gi2CVIKngrFCvIKKAtHCz4LGwsHCzALnAsTDEgMHAy4C1IL9wqKCusJEAkaCDUHdAa3BdsE2wPMAsMBvwC7/7D+ov2b/Jf7hvpm+UP4Pfdu9tn1a/X79HL01PM/88fya/Il8u7xx/G58bzxu/Gu8a/x5vFc8uryZ/PG8xn0fPT09Gn1wPUC9kX2ofYu9/r38/jp+cL6g/s1/Mn8Lv1v/a39CP6L/h//ov8KAGkAyQAZAU4BbwGGAZMBlAGUAZcBogG7AeUBEwI2AkoCSAIrAgAC5QHWAbsBjQFdATwBGwHoAKwAeQBYAEgAPAAgAPn/1v+9/5j/VP/8/qj+b/5c/m7+iv6a/pz+pP7P/hT/T/9b/z7/MP9V/6f/AgBNAI4A1QAzAaQBBgJDAmQCiAK/AgEDNQNOA08DWAOMA+0DWQSuBN8EBAU8BYgFyAXfBeAF8wUuBoUG3wYtB2kHmAfIB/sHIAgpCCMIKghICHgItAjmCPgI8gj3CBYJOglJCT4JJgkOCfUIzwiTCDwIzQdIB7YGNwbcBZIFKgWBBJcDiwKFAaUA7P9G/6z+FP57/d78PvyX+8/63/nj+Ab4U/e69iv2pPUm9aP0BvRE83HywvFb8TjxPPFR8Wrxf/GT8bTx5PER8jjyc/Lm8pPzXvQp9d31iPY79/n3t/hv+Sv6+fre+878rv1x/ib/6f/IALEBhAItA6UD8AMbBDcETwRpBJQE3gQ7BY8FtgWpBYEFUwUZBbYELQSyA4ADrAMQBGYEbgQcBJUDBANzAtwBRAHOAJ8AwwAVAUkBGgGIAN3/Vf/7/rH+Zv4s/iT+X/64/vD+5v6y/ob+g/6h/sT+zf67/rj+5v49/4v/t//V/wUATQCOAKUAhABHAB8ALQBsALwADgFjAcIBIAJhAmsCPAL4Ac8B3AEcAm8CugL0AiMDPQMoA+QClwJuAoMCxQIaA20DsQPiAwEEDgQCBOQD1gP8A2EE8QSNBSQGrgYYB08HSgcTB74GdwZvBrMGFAdbB3cHfQd8B1wHBQd3BssFGwWKBCsE8QO7A3QDHwPBAk4CqgHIALz/pv6s/eT8SfzK+1n79Pqg+k363Pk++YH4v/cT94r2Kvb29ev1/PUW9if2Hvb49cD1j/WD9az1BvaL9jD34/eJ+BL5gfnt+W76Cvu6+3P8Of0g/ij/LgACAZUB/QFaAsMCRQPZA3EEBAWiBVAG7wZNB0kHAAetBoMGiQaeBqMGlAaLBpsGrQaSBisGgwXBBAoEaAPJAhkCZQHPAGUACwCZ//L+Gv45/Xv88fuB+xL7qvpk+kr6SfpC+h764vmt+aH5u/ne+e757/nz+QP6F/ol+jL6RPpu+r76MPun+wv8YPyw/Az9bP2//fn9Hv41/kL+Vv6B/r7+BP9U/6r/9f8ZABQA/f/q/9//3/8CAFUAwgAlAWQBgAGAAWYBQQElARYBDAERAToBkAH+AWYCtwLzAicDZAOnA+IDDwQ/BIgE6ARLBZ0F4QUlBnIGzwYxB38HrgfEB9gH+gcwCHAIpgjFCM8IwQh9CPoHXAfNBlgG9QWeBVcFHwXzBMIEbQTcAxMDOAJ2AeQAhwBMAB0A7P+z/1//0v4G/hn9O/yR+yj7+frm+tD6vvrA+sT6p/pl+ir6E/oT+g/6APry+fL5FPpj+s76Mft3+6r73/si/Gb8n/zR/Bj9lv1S/i7/8P99AOcAPQF5AZMBngGyAdgBEQJkAsMCHANcA3cDcANJAwkDxQKMAl8CQQI0Ai0CFgLfAYQB9wA8AGn/rf4w/un9s/1l/fX8e/wM/J77HfuP+hH6uvmJ+Xf5efl4+WP5Svk8+Tz5M/kL+c34mPiR+Mj4Mvm1+Tz6xfpN+7n77/v0++r79Psp/JX8Pf0N/uL+nv8vAJYA0QDgANEAwQDcACwBnwEaApACBANpA6wDxwPIA7oDnQN7A20DhAO7A/4DRQSNBMkE8AT2BNsEqgR5BFMENgQcBBAEGwQ2BFEEXQRaBE0EMwQGBMwDmANyA1UDPQM4A08DfAOrA9AD8QMUBDEEPARDBFMEbQSEBI4ElwSvBOcEMQVtBYwFmgWoBbQFsAWaBXUFSwUvBS8FSwVrBXAFSwX8BJQEHgSYA/0CWQLMAWcBBAFmAIH/gP6e/fX8gPwv/Ob7kfsx+8z6WfrP+Tj5qPgx+Of32Pfw9wD49Pfh99z31Pew94D3cfeZ9+z3WPjT+FH50flT+sP6CPsi+zn7X/ua+/j7g/wi/ab9Cv5j/r/+B/88/3j/z/88AK0ACgFDAWEBfQGfAbcBtAGfAYMBWQEbAdoArQCZAJMAkwCRAIEAVgAQALb/W/8W/+r+yP6r/p3+mP6E/kf+7/2f/XL9aP1m/Wb9dP2g/dr9Cv4k/jL+PP5F/lv+h/7B/u3+B/8j/1n/ov/r/y0AfgDyAIkBMgLJAjIDegO7A/4DMgRFBEMESQRmBJIEwATnBAUFDwUCBe0E2AS4BIkEYQRjBI4EuAS0BHoELgTtA6kDRQPAAjMCvAFoATAB/AC4AHEARQA7AEMASwBJAC0A+//M/77/wP+j/2f/RP9p/8D/FABQAH4ApwDCAMoAywDaAPMACwEkAVMBnAHdAfgB8QHiAcUBhAEmAc0AkgB7AIQAqQDhACUBcAG0AdsB5AHqAf0BDQIEAukBywGmAWwBJwHsALoAhAA9APH/rv98/1H/Hv/k/rL+hv5Q/g7+1f29/cP92/33/Qb+9v3D/Xz9Mv3v/Lz8ovyZ/JP8kvyg/LP8s/yW/Gz8TPw3/Cz8KPwv/EX8Z/yO/K/80Pz2/B/9P/1i/aH9+/1M/oH+qv7U/vv+F/8v/1z/o//8/1YAnwDNANsAyQCYAFgAMAAxAFQAhwDKABgBVwFxAWIBOQH/ALgAcQA0AAsA//8QADgAXABrAGYASgAQAMH/ev9Z/1j/W/9S/0z/V/9x/4r/nv+x/8P/y//I/8X/yP/N/8j/xv/c/wsASgCEAKcAuAC9AMQAwwCuAIMAUQAiAPL/y/+9/87/5v/w//r/CwAYAAsA6P/L/8b/0P/h/wQAPwB/AKUApgCSAHMAUAAZAM//h/9I/x3/Bv/6/v3+B/8F//v++P4F/xv/Nf9e/67/HACAALIAtgCcAHMAXwB6AMEAEAFNAXYBnAG9Ab4BmgFnAT8BNwFYAY0BuwHiAegB5QH0AfIB5wHGAawBrwHVAR8CXwKXAq8CugLSAtcCyAKyAp4CjAKAAoICgQJ8AmkCQAIcAvoB3wHTAc0BzwHcAfsBAgLwAfQB7AH3AQoCBAL2AcMBhAElAdAAggAeAM//WP/k/pD+UP4p/h7+Of5M/mj+fP52/nL+Yf5Y/lv+Y/5e/kr+QP4l/gX+/v0A/v79DP4J/u79z/2r/X/9af11/YP9r/3a/ez9E/44/kT+Xf5c/kH+MP4v/nD+xv4U/4H/y/8TAGgAhwCiAKEAiAB4AGcAPQALAOL/pP99/4D/gP9+/3b/Uv9b/2n/fP+2/9T/+f8dAEQAdQCEAJAAdABMAD0AOgBCABwA/f+6/3z/Zv83/y//P/8l/yL/Sf9M/0n/JP+w/jT+8f3Q/bn9q/2y/cH9zv0p/i/+GP5q/q79mP3K/Z/9Gv9R/+n/kwCR/3AAiv+Z/h//df3H/cT94PyX/Sr9sf0H/kH+PP/Z/qT/nf/i/o3/3v7s/hj/lv7z/oL+tv7F/l3+Df/O/vT+hf9h/woAbQDAADYBKgGbAcAB3gF2ApcC3gJPA3MDiwO3A8ADaANjA3YDXgPfAy4E/APcA4wDCwPCApkCAgJnAf0AcgBKAHMAcwBiADsA5f+S/8X/AAAbAHEAZwCOANgAzADXAG8A+f/q/7f/IQC8AOkAQQE9AQ8BMQElAQgB9ACgAG0AkgDhABIBKQEqARgBiwEEAkUCyQLDAl8CMQL+ARYCLAJLAh8CxQHUAUkBDAEoAdMA9ADaAL8A1QClAI4AIgBPAI8AWADAAKkAogDKACYBvgEmAl0DmAJPAWEBfP8m/6n/Zf4i/zT/cv6Z/j/+CP5g/Uz9IP3E/NL9sv21/Vn+dP1z/WD9+fwq/dD83vwl/ZH9MP5N/kv+DP6x/Zn9pf0V/sT9Lv09/RT9/vwn/fT88fw8/W39tv0D/hD+nv1S/Rb9p/yc/N/8Wvwx/Bj8vftZ/Fb8K/yB/Kj8Ff3D/Xj+P/9i/4v/eP+O/04AXgBbAFoAMQCcADsBuAHbATkBFwG6AI4AoAB3AQ0EzQX2BbkGGAnPCWAHogJR/qr86vx2/NP7gvua+qj6nfx+/6IA4//Q/Yj7Cfp7+dH6gf11/7gAGwFaAhUEKgSLA98B5/88/tD9iP/nAoUF7waLB5MH0Qc5CIEICQcSBfMCzQIBBtAIlQn+BzcF/wJAA2YEEgRRAsf/mv6P/yQBPQH0/xP+Gfxx+nP5fvk1+iL7JPzZ/JX9Lv7q/qj/cf9j/tj8oPy2/rMC8gREBW8E6wJdA7EEjQVZBHwCgAE6AlYEXQW4BFoDQwIAAh0CFwHs/6/+RP5O/xcAkABmAP7/nf8p/1n/Hv+y/tn+tP98ANb/8f7y/QP+5/78/kH+b/0X/Ub9Of5Z/53/vP6m/hr/qf8d/zj9L/wV/An9yf3i/d39Iv2S/Eb8+vs/+x/6fPmo+Q763fnE+dD5oPqK+9/7dvvl+vz6ivs4/J38e/wA/HL8mv2t/hD/0/6o/ln/CQC1AKYAdwAdAK//9/8AACwA1v/U/7X/y/+U/y//oP4W/pj9qfxE/Av8gfya/K785Px9/V/+Sf8VAAQAXv+W/o3+CP/E/ysAoADrABABbgE7AnQDsQNaA8kCkQJGAsUBXAFBAY8B3wFgArUCJwNNA1MDFwPgAmYCUQK0AgADDQNJA3wEsAVIBlAG6AaDB0kIFAlRCicLxQv5DMUPrRPsFtsYMhmZGboZPRubHI8cfhonF/YTBRHdDsYM8Qq8BzMEjAHM/yj+rfur+IL1gvKS8DDwQfC675/uPe4w7xzx6vJN9DP1yfVY9m33P/nl+jL8Mf18/sj/UQH/AmMEIQUBBdQELARqBGcEAgTjApIA3v4g/QP9qPxc+yv5wPYI9UnzEvOf8vTyIfP68lf0r/UR93H33/eJ+En5a/ot+zD83vyb/fr9uv42/wD/M//J/kj+OP02/CT7P/p3+fr4oPjE97H3APeL9iD2mvW09fH1DvaG9ar01fPf8+HzOPTV9DT1r/Xg9dX2ffcP+Gb4rfiU+QT64/re+3v9Z/4q/2AA0ACvAVsCvgKNAqwBRAGfAYYCTgMmA94DFAQ/BIoE+wXQBq8FngbzBb4GYgZwBkQGFAXjBP8C8QQSBKwEqAVLBNQEVwTvBY8I4glsChsORxTjHJApfzq7R8pLjUgsQkg7pjH8KuEiYRqEES8IqQlfDmYPEg1JB6QAIvrt8njsPebh21PUc9Tx2ezhpuhd7e/wWPSb9xz+eAM+BW4EdwJUAxoEwQSABgIIyAg9ChkOEBQEFvkR4wluAIX4+/BW6yvn9+Pn4fThZOar63Hw5POK9fz2Xfbn9aj1//Xw9g74C/wuAVEHvAzpEAkTnBLUEVIQvw76C0cIvQS/AcX/yf//AFYB8gBRAI//Af4X+0r5uflb98j0IfN78+D0K/OB8vPzA/WA9RX2YPYU9/j0NPNO87byefFq8UvyTPOC9Af1MfhJ+S35nvrO+7/7j/py+QL6y/o9+X75i/qf+238//zD/WL9Ffxl+0f8JPwo+7T6/vpM+8r6Zfvf/PP9hP2n/Bn9/fzI/Kv7G/uD+zj7+Pus/H397v2T/Tn+mv4F/4v/Hf/a/ij9fPt5+3X7yvyd/XX+iwCyAYcDcAQYBfMEUgRYBDgFfQdjCAsJfQjKB0sHPQd5B8UH3wXJA1QDBQScBboENgQcA3UDpgVJDM0VtB8PKR4yZjyYQstFZENxPbUycyW/G5wUXA9tBzUAePtX+RD6yfrr+qb3S/JB73/uC+467Crpk+fS5zDqj+/u9Zf6XP1EAHcEbwmXC3cKRQcHAv78SPlq99b3GPjs98f4VPqs/G/9W/xY+Zf0RO946lTolucX6BbqDO6d88T59f9dBdMI9wh2CMcIkAkhClwJIAgIBmsDhgG+AY8CoQK+Am4CWAMPAx0CkgDF/aP7A/lD+Av4f/gv+vP6PPxn/ZL+RwA8AFH/4/2n+6L58vd39y/3L/c+9sr1b/bS9hn4kPjv+D36kfuK/O/8PPww/Of8EP3V/Hz8e/zE/RD//v4Z/5/+dv5H/oT9rvwa/F761/hq+AD49fgG+af5pvoK+yj7B/yt/BH91/yY+0z8d/yR/Xr+lf4R/wD/pf9YADUA0v/h/rL9qfwg++f6rPo9+1v7YPuB+7/6evrG+EH4WvdL96P3Gvgl+vz7DP6m/uL/GQEZA7UDcQQHBlMHwgkECgQMCQ1NDVsMygnDB4EEGAIDADAAKwA3AA4Atf8hAB4AHgQrCpATuR3PKas3+0B+RyxGV0KkOTIsyiA7FXwM4wI9+2P3efdl+CD5lPqo+U753feo9/j2LPQW8UfvJO8S72Xws/Fq9eP5wf+LB8UNWRJxE9ARKw73CNcCuv30+fD2zfSq85H0XPYP+Pn49fq9/Lv8ivs4+eP35fXE85HyG/M89QP4yvxpAg8IkgyJENgTJRVdE3EPcgpWBGX+sPlZ9zT2MPZM9yT66/1HAekEsgcwClcLogoECcsFOAKE/sT7Cvoq+Zn5L/v5/aj/+wAwAawAL//D+xv5xvW48jPw2e5E8GTzH/f7+l7/gwKMBcsGhwZpBfgBdv4M+sn1PvI98M3vF/Cg8c7zpvZp+Lv4UfhQ9w72m/T88vnx5vFm8mnzHfWr98n6wv3H/9ABJAPUAwMEbgMqAur/XP3i+nD5oPeE9sT11/WJ9h72KfYC9TT0GPOT8kzzpvMC9fr1afeV+PT5Efxe/qD/LgC9AJkAugBpAHwA8gApAq8C+gTIBugHDwnsB1oIMAcvByIGVwV4BL4AuP9p/XL97P6l/mMAcgETApADgQMVBgkLUhHtGvElSDRdQORIWEyuSs1F/zoGMOMiKBUfCPz6x/Lk7VzrhutV7YfvxvIM97P7MAD9AID/C/6F+yL5/PZm9g730vgQ/RcDvApiEEUTKxSjEtoPJgyCBw0C1vst9fjvje167Ujvt/J99lr6df26/9UBKgKFACj9SPle9sn0ofSr9Uj4xPvH//4DTge6CQ4KdggFBmsCb/4M+oX16PFF77XuM/DF8y35nv72A1cIrQukDZcOvQ5oDSgKdgVeAX798Pnl9hX2jfYA94X3qPdB+Nj3qfZj9Qr1N/Rr8z/zl/NZ9rj45Pte/x8C5wRSBhgHcwYWBU8C0v4A+/H2lPTp8YPwR/AK8RnzL/Wp90/5sfr/+jv7hvtA+1r74vqS+oH6jPqu+jT7sfvw+2n7i/qV+Vz4wffI9iH2FfUx9L3zqPPc8x301vT49Iz16fUI9174afk8+n76+fqG+yv8av3t/oP/awBcAAUB5wAbAN7/8v62//D/RQFgA1QFXAf2CN8JswpDCycKPQrQCakJ7wh/B1sGjwR7AzAB7v/+/gb+w/45/57/jAAaARgDkwdbDVsWqiC9LVE660OTSn9KoEfKPlszcyfjGV0N+wAD+EzybvAn8HjxGfSY9ob6gf5MA3gGPQfrBS0Dx/8w/NL5MviQ+C/6+/1uA5UI9Ay8Dj0OEQxECXwFKgGR/M/3LfS08Anv8+4e8LHySvUp+Lz6AP0v/qP+wP0l/Cr6dvd99aXzTPP78871Evi1+iD+9gC4AxEFgAVeBJgCUgDU/eD7WvmJ+HP4GvrK/d8Bjga7CXoLiwuNChsJEgZyAgz+GfqA9gHzB/Fo8DzxoPKg9PL2Ovk6+8L8Zv1Y/ZP8HPxU/ML7tPsy+3b7GPwt/J38O/zP+1f6Dfls9yj1uPPh8fbwWfAu8F3xvvKJ9JH2uPju+pn8u/3f/ej8qfuh+ar3Hfaw9ED0OfTg9Eb28Pdo+Wj6efqQ+XT4Cvfb9Q71YvR09CH1EfaD93r40/ls+4L8AP6D/jr/j//m/nj+bP2v/ef+of8jANv/5//CAGYB+gF7Aq4CPQLQAYQBMwFcAhsCgwHQAeQAdQKEAy4E7gW8BagFJAUABP8BMwAc/cz6zflc+B36/vqR/S0A7gFfBMYFQwh9Cp8QBBcBHyYmeisjMzQ3uzs6PCA58zJLKQogixbBD1sIxAI9/RD5Evjc94D6R/z9/ZH+jv+dAHcBNQLfALz/WP3//I/9SP+JAYwDYgagB6UJdwoKC0wKvAePBLoAUv33+Xf45/ZU9p31FPXe9Xr22Pec+GX5Afm1+Df4v/du+Cb4YPno+jb9lQBEA1MGUwiRCf0J8AmZCWoICAfQBLMCvQDa/pT9i/wU/F78FP0w/kf/5v8HAA8AGgD+/5j/j/7X/WX9fv2I/YX9YP3j/Pn8OfzH+8D6ufl/+cD4sfhf+In4hfgU+FT34fUb9ZTz8fEn8Hfu1e0y7Sbtk+2l7vXvWPGY8hbzkfPJ8y30d/Sm9Ez03fPC8+rzGfUW9oX3Yfi/+PH4+vg5+bL4gfg++Mv4FvqU+0P9eP6+/2AA9QCKAf4BUAKtAXgAFf+q/ff7efq1+D/3k/ZK9kX3evjT+fH60PuH/On8sv2Y/vD/YAE2AsYCBwMUAzMEHgV+BocHSAdWBz4GIgZpBXYEuQOoAhYDHQP2AyEEsgQIBREFawUFBQEG6QWaBn4HTgj3CZkKfQpwCZcIJwfiB7MJuA0mFscf2yteNns9qkC8P6U6QzNMK6sgNBeKDUoFswCc/fP8Nv5q/xQBGgQSBjAJ8wqKCv4IygQEAMr6MPfJ9Ev0HPW692f8lgCrBOYGPwirB4wF0wKf/5L8y/iH9XDyCvEL8GbwNPLq8+n2efiN+hD8rPzZ/H/7Cfqt92b2l/WB9g35hPtg//ECCwa5CKwJgQncCJcGvgOWALH8//ik9QTzXPIg9N/2Q/vN/6MD5QaGCBAJRQh6BkgDGQDy/LH5t/de9oT2ZPdp+IL5lvqr++772vud+nX41fVA8x/xWO+I7t7tge4e8AfyBPUz97j40/mG+Sf5Yvje9n/1sfNc8nrxFfED8o/zx/US+OH5ffvl/PP9kP6b/sf9n/xQ+/f5iPl/+dX5x/rh+2j97v4yAKwAawCR/2b+g/13/F/7EPrn+E74O/gH+WD6svs0/b/9x/0D/jr9P/3+/IL8gvyW+0P7WvtV/Jj9Df9lAFABkAIVA9cDrAP7AkMCmAHZASEC1gKVA74ExAV5B70ImwmWCtEJCQopCSsISwfsBK8DdgJAAigD2gPwBDkGmAZ2B+cHqAdhCKwIDQvnD+gXLyI3LeY2qDv1Paw6BjUiL94l6R2iFWkN5wgOBt4E8gV9BVUEFgRnA6EEHwYlBqcEMwEo/BL3T/Ng8L3vYfBG8vv1Nvqt/sMCWAXeBWcEFQHg/Y36q/d69VjzYvJ58fHxdvMj9QD3yPeD+Cr5xPme+un6PPru+Ej3VvZ49ob3Qvl5+zT+mQA7AxAFCgZMBrUEYAJ1/xb88viN9qH0KvSu9Dv2jPnr/O4AngNyBWwGbwVuBAoCgf8D/Y/5I/fh9ZP17/bE+Or6Sv3s/jMAKwDY//T9VPtJ+Rv2tPSK8+fyg/PT83D0CvWu9T71RPU89UL1zfV/9Uj1/vTa9F70WvQs9BP09fTC9br36PkQ/Kr9Of7q/fv8/fvT+pL6bvr9+qf7X/sU+1b6yfnb+eb5A/rZ+mr7S/xe/aT9Iv6z/fP8UPzf+/L7Mfzx/Bb9cf2l/Xb9nf0N/aj8nfzL/Er99f0z/zIAEwGbAdcBmQIEA7gDaQR1BJYE/gOjA30DCwPmAv0BQwH3AP4AEwJcAwEFSgZFB1EIhQjiCOEIogjvCKIIRwg/CMcHugeMCAkJJAo2C0ALowv9CugJ4whNB7AG6wYkCLMKoA58E4YY5RzjH/sgDCByHlEcRBp2GDsWSxSUEgIR8Q8xDzkO0Q3gDfsNgg4KDrIMiApIBwQEaAGz/6z+Rv74/cH9j/0j/Rb9Kf06/RL9qvwQ/EL70vor+kj5B/hr9nH1CfVS9e/1mPYo95/3GfhO+Pz4O/kx+VT5Ivlu+Rz5PPgv98D17/S19PT0xfXg9gP4P/mO+uj71fxs/Qj+S/5d/tX99/xS/OL7h/sn+/v60/pK+zv86vyo/T/+e/6y/oL+Hf6m/X386/oo+b73wvZP9qf2e/fC+Kf5FPqA+RH4XfaY9LrzGvPw8mXzL/TQ9LL0YPQy9Hf0/vSL9bD1FPb39Rz1vvSL89ryBfOJ8yP16Pb4+LL6zfsk/Ir76foy+rj5vPnm+V/62fqT+qv5sfgh+Er4PPmg+mz8aP6x/0wAMwDu/9f/jf9s/3z/7P+MADgB0gE4As4CDAMSAz0DTwNLA7ICdgFlALb/XP81/zP/gP/X/7gA8QHeAsoDhgQaBaAFSAYHB8oHIQgmCMMIbAlTCsMK0QqeC+0LHwwZDKULFwtiCukJCQmpCEEICAipCF4IVAjFCJYJuQv8Du0SexaBGRwbJRvQGsAZLhgXF00WDhbJFg0XGReaF24XKhcrF+MWeRaGFeoTDhLCDw0NDgrVBgwExgHF/17+b/2Q/Cz8mvtZ+hP5PPee9ab0sPM986/yDfKR8cbwE/Cp71rvRe/d7y/xUPO+9Xz3cvid+A74N/cD9m70YvPg8qHyvvLU8hbziPMi9DP1sfaA+J761/zM/g4AXAAjAHD/ev6+/Wr9P/0O/Sn9IP1M/VP9Zv0f/lz+1f6S/n/9nvy4+gX5effQ9eX0/fMZ89TyYvMh9Aj1F/Yd9yz4X/je91n3xPZW9jT2mPZc9+n3Pfjk9/n2Bvbk9DL0zfOF87PzXvQr9SL1X/Qd8xjy4vFT8rzzffVV98b4Mfny+Gv4EvhD+FH56PrJ/IL+tP9/AJUAFQB6/3z/NwBUAXcC1QJAAvcAgv9b/tn9Lv5C/9UAcAJqA0oDggJUAQIAQ/9l/zsAaAHQAp0DWgODAjMB8/9L/2P/WgC4AckCPAP9AloCbQHFABABWgKCBJAGaAgBCuAKOAvVCrkKRQvRC4sMuQx4DFkMIwz3C5ILDAvpCr8KPgqdCeoIhwj6CEkKzAw/EDMT7RXqF1MY2RjIGI0Ynxl/GnIbfBuUGW0XWhXCEykTVhM+FEoVsBXdFLMSvQ+KDNYJ+AduBmcFTgRHAr3/0fyh+q/5fPma+k/8gP24/Wj8IPqv94j1KfTn85j04PU29+D3iPdp9pf1iPX+9RT3XviR+SH6dPn391b2DPVh9KH0zPVz9wP5TvpK+/L7nfz5/P38VP0N/qr+wv4q/hb9S/y8+2X7v/uU/Kv9Qv5L/gP+9PzF+8T6vPkt+VD5kvmQ+Wn50/ji9/H2A/a59Qr2qfah9/33hPeh9mP1GfTx8qDykfMg9Wf2Bfc399v2zPUp9JbyyPGw8Q7yuvKZ81D0qvQZ9bP1JvZt9o32zPYL9x/3i/cX+Jb45/gk+Yj5b/k7+Uv5vPml+pf74PxW/kv/Zf+//sb9Bv3K/PH8qf2p/o7/AAD7/7b/Rf8I//L+dv9/AG8BcQICA9ICLAJ0AXwBJwLGArID2gRpBTwFmQTyA5IDegPBA3EEfgVGBlMGJgadBeMEhAQjBKQETgYVCLwJtwr1Cp8KpwmSCM0HjAelBwIIgwjECJUIzwewBg4G8gVQBhcI0ApiDq8S0xXlF2UZPBkeGHoXzxZ5FpwWvBZgFzAXMxakFekUgxTyFBMWshfiGNMYbxfdFPsQcQyzCAYGWASuA1MDUQP+AmUB1//v/lH+J/4h/hb+n/3n+zD5RPal883x7PAH8e7xDvPi8xb05fOz84zzbfM/8yfzgvPL85LzF/N78nzy7/J781X0IPUU9uP2zvdU+f/6LvyU/LL8UPwi+z75uvd29wH4PfmH+nf7vftK+8b6qfrt+mz7W/wm/Sv9WPyx+tf4lffo9hH3IPhN+Yj6+Ppq+sv5Cvm9+N74P/kj+lj6nvl4+M72VfXR9AL19/WZ9//4xPk7+Qb4e/cI95v2W/Zk9h/3gPfR9k32sfZ891/4IPm7+Vb6TPqf+XD5/fnV+iH7B/tO+5D7ovt9+7371/wS/ir/5/9AAG4AOgC6/4j/BwDSAGABoAFwATQBpQDO/97/OgDqACcCiAIQAikB3v94/1UA9gFmBDcGpgZABvIESQMfApcB8gFEA0EEeQT4A6ICUAFmAJgAKAIMBK0F4QZPB7oGWQUxBG0ElAXXBu0HdwiECH4HoAXPBGYF9AY8CTULmAw1DTIMwgoOCn8KMQ3LEGEUwRdRGRcZsRfoFa0UYBQmFYEWlxeuF8MWHRVEEw0SphHtEd0SFRToFJIUkhJOD+gLMwkrB7QFrATSA34CogDk/jX9zfvX+o36f/qz+Yv4EvcR9c3ywvA370ruVe7P7lHv7e+u8JPxTPL98vnzUvWb9oT3uvdk90f30vYm9jb2qvYH91r36fcv+aT6o/ut/GP96v2Z/qb+Kv5u/ZP86PuR+8D7YPzI/A39ff2u/Zn9b/3R/Pz7h/uQ+0n80/wE/R79zPxJ/GH7jfo0+l76yvo1+7P7oPts+pX4tvb29Aj0kfOj86P0wPXB9pz28fQ98yDyg/Ed8nbzvPTw9Tr27fV29bT0cvTB9Hf1x/Yo+CT5Yfna+ET4PPgv+W/69PsL/tD/zwDQAC8Ay//j/xsAhQD+ABcB0wAfAGr/dv/y/1QA5gC5AbECGQPLAowCSgLpAYwBiwGOATYBnADB/33/EgDvAJ4B2QGoAXgBTwGuACcAOgDIAMwBSQIQApMBwQAqAAgA2wBUAr8DOQViBskGEwZKBfoEKAXKBWoGxwfqCJkJTgoqCm4KSgtXCwELOAowCYwJ5gkbCrQLRw34D7sTVRbCGOgZBRmLGLEXXBbuFeoUsxRWFaEUJhQpFGgUIRXAFXEW6BaFFkgVQxO8EEIO+wuWCcYGUwSTAi4BVwCq/xT/7v6a/oj90vtr+TX3aPW88yPzwfLx8TzxufCK8G7wkPCj8arzB/YV+N74gfir9wD2J/Si83z0o/XZ9Vr1PPX19HP0wPSC9lD5I/wo/vX+bf54/O35kPc09kP2//aX9+/3efjB+Oj4MPkF+q37UP2z/kT/0/6U/aT7bfqr+p77MfwH/PL74vso+yr6cfkd+XH5uvrE+zb7kPno95T2W/Uo9WT2LPe09ir2dfU79CbzkPIW82L0jfVd9nv25/Wb9KDyu/Ee80v1I/e1+B76KvvQ+2n86fx9/YT+zv9OALj/5P7X/cf8WP1T/1kAfQDLAM4AKAB8/3L/n//s/2IApgCvAMcAxwAAADn/Wf/Q/73/Pf8S//X+5v6B/yEAOQBPAKYAgQGqAocDRASlBBoFlAXfBE4D7QFeAWkBCAKpA2UFNgbrBRMFKgSMA88DQgTKBO4FqQatBkoGdQXBBL4EuwU/B0EItQiRCLgH+AZABuYFIwdJCVQMTxBkE44VZxcrGCYYhxg5GS0Z4xgWGckY3xeoFl0ViBToEw8UMxUPFkcW+xVwFR0VVRR6ElkQMA48C5UHCwSKAQIAhf52/Sf9xfzc+1f6/PhO+Pb3yPew95n3Zfa78xvx7O567SLtxO39763yWfQ+9Qj1GPR28wvzrPID8xH0OvQK8xXyxvEw8e/w5PGD87D1M/jO+Yj6Pvuz+637qPvX++T72vs5/Pz8/Pxt/In8zPwp/Q3+eP8NAYwCKwQgBasEtQOrAhUBvv+1/qL9F/01/ZL9cP1q/T7+s/4v/gL+Mf5E/af74Pnq93b2bPWI9HDzZfIF8qbxnfGp8s/z4vOX8w/0f/Rc9D/0GfSF9Pf1Ove+9+H3Jvj690v3wPc8+Z76yvv4/OD9+v2b/Sf9jfwY/dT+pP/B/9v/PP/y/c78wPzP/cX+jf/NAD4BoQCi/zz+jf0T/mf/RwEoA38EvAQdBJ4D/QJnAtcCSQTvBREHsgdlBx0GsAQSBPMD8gOQBOcEbAS6A2cDvwNgBBkFDQa1BsYGQQZnBc4EbARdBKIEKQVmBYsFbQb4BnIH/giHCyQOSRBsEjwUahUbFpoWLhcmGE8ZTRogG9sb/xtcG3caXxm4GJ0YLxn0GfEZwhnWGIAWpRO6EPMNfwtwCcgH0QViA+gA2/3M+vf4Z/jO+BT6EPw//Xb8Qvqd9xT1GfP78dnxePKJ8iHx0O6G7RvuYe9K8Tv0//Ya+Lb3kPYa9cfzMfMP9Er1t/Xz9GTzSPLo8SjyP/SU+LT8v/7P/kb+8/z9+kD6Pvug/SgAnAE9AbH/Ef44/cL9wf/tAuAFqQfDBwgG/gLh/wf+vf3S/iAAhwAdAOL+ovy1+qf6yPwx/3cANAEVAML8uvjN9Xj01/Nb9O71WfdW93b1T/PO8qrzxvQb9ln4QfoF+iX42/XZ8zPyD/KI80712/aB9xT3kfYT9zz4Kfoi/d3/FwG1ALP/7f2n+7D6yPtn/aD+hP+7/zz/VP7C/eD9Pv+bAYMD8AONA4MCowDp/uv9K/6U/ln/gQAEAU8BSwGQAR8C7QKxA/YDUwSlBMAEkgSjBFYEYgMDA6QDNgXbBRkG+gXuBK8E7wS/BmAIPAmzCbYJswqpC2QMkQyxDl8T/Rn0IMMm1yvnLTMtyylMJV4hzh2rGx0a2ReWFN0Q7Q0aDPUKTAtkDB0NXwyiCXgGAQNa/777Nfnx97r23vTE8kjx1/DL8sz2IvvZ/Uf+Ff1G+9r5kPjz9tr1s/Yh+HT4qfeS9gb2kfYU+Wf88v61AN0BZwHQ/jv74/ds9d/zTPM289PzWPUJ97n48vrC/bT/TAArAK7//v4Y/sP8v/oa+aL4jvia+MP5VPwS//sB+gTDBloGkAQRA0wBKv/h/Jb6dvjY9t31uPWg9nX4gPqF+/j7L/uY+Tb4Xfex9ob1tPRe9AX0VPN18/r0tPfK+tD83v3k/RH9f/vm+Or2CPYn9vD23PYV9nz0pfNe9CT2v/gT+5z8Zvwe+3z5ZPeB9R304fOn9Oj1a/fO91z3TPfh9z75C/sz/fL+1/6a/ZD8y/tF++H6Wvu//Kz9/f26/Uf9b/1I/tf/gAHMAmsDdAOMAooB+ADpAO0BaAJRAzkEbASZA9cBLgGUAREDcAVFCP4JQgvrC40MEg7QEacZpiM3LpU2QDvJO9M4+zLEK0okyBxRFV4ODQlzBCYAtvyC+2v8iP9dAywGfAbwA3QAp/yM+XP3ePZh9lX2Gfah9lH4e/uu/1IElAiLCr8JZgY2Aqj9lvkY98728ff2+Fj6P/td+7n6Bvtt/Jn9h/7Y/kH+U/xY+rr5kfpM/Ij+4wCBA7MFWQfOCMMJMAp2CRMI3wUfA30AUf6Y/Jr79vvL/Jz9T/5F/9UAgwJoBKQFZAVmBCgCsv8X/TP7gPrs+cD5Qfl++In2v/SJ9FT2bPgW+eD4u/dD9kb0zPGw79fuke/R8bjzKPWE9f/1g/ev+Hn5vvlJ+iH6ivl/+D734fUJ9kb4nPpp/Hj9Nf4m/gr9Mfum+YD4R/j198f3oveA9rb1NPZR+GH6B/yk/Q3/yv4T/UP6N/di9YL03vR39Wv2Xvd+9wb3r/bG9jT4yvrq/RIA7f+m/lX8XPof+Tv52fmx+mf8x/3u/cD8kPwC/XP9df7Y//8AFAFhAEUAdgFFBlAOjBelIZkquTEnNQY2vzWHMzkvyCcHHsYT6gpxBEQAiP7D/r3/7wDZAUMClAGcAPz/af8f/yv+Lv2d+8v5tvhn+D/6AP79AqsHlwowDHAM7wp/CFsFpgGR/cb5a/cY9if2bPfx+Jn6dfzZ/U7+bf7L/lj+XvxZ+uf4Yvhh+OH4E/rR/FABlgWiCA0KgQpFCUQHDQbmBJoD7AEJAP39eftw+p/7Tv6GAmoGtAlrC3sMgQ3EDLEKwQdPBTcC2v3U+QP3ufU69Qj1e/VT9kj3D/dB9fPyIfEG8aPxzfJn85fzQvQe9Nf0j/bo+DX7Ifyd/Lb7UPlT9+L15fQl9PDzpvRY9Sz2JfeQ+Af6F/sX/MX8iv1U/Qv8N/o/+PT2fvYO92H44fnm+kX7k/tp/Dr97v3k/d39f/78/hz/wv1H/LL74fqG+rX6c/v1/Nj9jv4h/hD9AP1N/eH9uf2K/Vf9+/wM/cL8xvye/IL88vxN/gkDjgoDFIgdZyUOK4sslSunKKAjgB3SFu8RBA3DB2UEWwKmAdkAfAAzATMCagMuAw4BA/59+/75a/kM+m36nPqH+wP9zf7UABMEhAcFCcUIVQdiBNr/IPut98L1bvV59ir4Uflm+ZH5cfrW+zf+GgBQANH+I/wt+t742fh5+lL8Rv6mANQCfAQMBhwIFwoqCyILMgp4CF4GDwXsA74DsgSxBqwJrwyODi8OowzUCjgJMwfWBGUC7f+0/ZX8bPy0/Nz8f/w4/I37qPrk+f/5O/pj+hr6tPnn+bH5VPlc+dn62/ws/oD+fv53/UL7/fiT9jj0gPLF8Yrwke+d7xrx7fIM9P71WPi4+jn9If/i/1v/HP0H+9X5J/lB+VT6NvzN/cP+GP/v/+f/0P9qAGcATwD9/pb9Jv0s/a78FPw5/Af9iP0h/YD9Wv5f/ir+IP9AAAQBhADr/x3/5/yA/IMAAgiREMAZQyKnKV4tFi6JLUsqZyXUHTMUugrIAtL8ffkL+GH3hPdP+CL6a/u8+5b8Z/18/C37rflw+M32i/QS9Df1IPho+9D+UAEmArQBlgCz/0L+ffxT+m/33/Mw8Trvi+5c7zbxSvSh9gn4H/gD98v15PR49PH04fWr9gj3ZfcK+e77g/9CAzcIsQxJDzsPHA6iDlAPDhChDhAMpwkNBzsFoAPnApgC9QG8AWkBVwDg////cgCuAFABQgIpAqEAbv7f/PP7xPxU/gQAAgEqAGX+ZPx3+p74cvc094H32vYV9qX1bPVh9nv4rvsq/n7/vP+0/iv9pPtZ+8j7HPt5+W73rvXK9PXz+fM79cD3NfvM/ev+0f7v/Rb9jP1w/oT/CQHVAn4EqAQEBFcDHANFAyUDIQJUABr+IPyx+uz5bvq3+wb9y/3U/oYCUwlrEY4aiSMZK/4vpzGuMTYu9CauHUQT/QnDAT/7xfdj9iz2OfYY90X55PvA/T7/rwAuAG7+r/z2+rr5Wvhv+LH6Qv2nAIAEPwjLCtEK+gnzCM8GDQMC/qD4dfMb75/sl+zZ7hbxQ/MN9pD31/c690X3+vdn9wT26/NR8hLyB/KV8vT0o/kx/xoE7Ae7CpwM/wyrDM8KKQeKA/7+hfr79oP02/OO80/0wvZ6+i7/SQS4CFAL1wvKClMJ1wcKBjUDyP/d/RH+l/5p/pH9ivw4+xj5d/eL9pL1jvSX88jyP/Kd8mj0Afct+jj9gf8OAe8Ab/+h/Ar6SPhM9qL1jvVb9ZL16/WK9nL3s/jo+pP9vf4Q/yj/r/6Q/h3+zv1h/Ub8bPx6/En8jvyC/c3/bAF/AlEDeAR7B4kMYBMvGx0k2yvLMKQzwDTANNUxXSuZIlUZnBBzCCECeP1e+pH4G/eb9lr3Q/ni+2D9wfwa/Cv8u/ui+g35X/mq+sj7+v4kA/sHZQwLD4MQKhAtDqAKAQYzARH92/l797D2k/ba9U/0/fLO8ubzAfZ2+FX60fpt+237jPqu+oT7Uv2H/k7/iAG4A+YFNAgTCm4LoAvsCegGswNO/2370Pin9rj1xvQM9az2mPjK+lr8v/06/lf96fvn+d73V/bB9EnzafIZ8hXyD/Jr8hnzsvMT9B30zfPx8rLxgPAB8FXwrfDV8OHwZPHE8rP0+Pa8+PP5X/v5/JL9lPx8+6r77Pvc+vb5EPp5+/j8Df6g/3QAygHnAiYDBQMGAuMBkgG6Ab8BUwE9A0sGlQu5EfgXuh/vJSUq6CtKLPwqayY1IW8bURXyDpAICwRgAej+hfzb+4P89f1m/kr+6v5U/v38Vvug+uf6D/vT+/X8Vf4k/+z/PgDH/yUANQHYAggDjAHX/yz+Ef36+377M/xB/lwA0gGrAkACKAIVAvgBDgHD/nz9Zv3H/lEAwgHSA6sF9AYJBlMEPwJDAKX/hf6e/XL8r/p5+Q74ovap9lj5lfwi/g7+Q/0b/AP68Pcx9wP4i/nk+l772vqv+mn79/tK+y760Pmg+dX4Nvcg9U7zKfLA8cnxVPLV87z1qvYA98n3pfgJ+kT7wfuu+yP67Ph9+Cr4Fvko+8v9dP+g/5wA+AEHAmgBagDv/4L+lfwN/LP65/jY9yv7nAKICgcUzB2nJtcr2y1CLjQrOSa6H2UZWhN6DWIJmwWrATP+6vtr+pf5oPlk+i/77/rg+cL3SfVr84Ty0/JW9BD3jPr4/pMEwwk2DLMMvAyuC0sJGAayAn3/Ffzu+LP2l/Rc8z/1efmB/fwA+gONBh0HHQWAA3ACMwJBAbL+p/wK++H6zvrf+Vz5AvoZ/IH9/f1V/hn+ufyl+nT4JfaG86fxmPJ09Y74D/tc/Yn/rgB/AFP/G/7x/Pb75Ppw+c73IvZR9J/yQfFT8NHwWvJH9N319PcP+6r9Uf/t/xAAnv/B/vr8tvuM+2j72Pz2/Y3+LP+K/yYA0QDtAYoC8wL0Ap8CswF4AMYAbgPHCP4OMxYZHicl8CnaKz4rEicwIQobARXpDq8I/gOfANr97/vY+yP9e/5IABADhgSOA60Buf9k/mr8vfor+8X8SP9wAUwDZAVTBmoGbgbeBqUHIQduBp0FOgP3/7v9kv4O/+T96P0gAPEDaAXqBfUGUgZDBW4DEwGT/tf7hvqs+YH45vfs+Nb6hvt4+2T7vftN/H786/um+W328vKj8BXwYPCj8f3ze/fz+Zb6SfrF+QH6yfkG+WX4a/fa9dPzwvE78APwb/Eq8wD1bfdo+QH7FPva+Yv4H/ce96r3e/h7+S76ovvj/O/9IP/u/yEA/v+B/3D+k/3X/M/7b/sv/SYBVwY3DFwTbhuPIewkwCZtJ7olriDlGXESIAs/Bf8AA/4p/Dr8LP6c/x3/+/2z/QT+CP3r+jT58vdY9+P2GfeH+IT64vzX/uIAtAJbBEwFkwQ6AzABigB3AJb/F/+g/r7/3gFPBEoGEweEB6YGPATX/zr6OvUM8j/xE/Kx88j18vdW+vj8S/+VArsFYgd6B+wF7wMIAbn9cvpZ+J/32vac9tj2mveW+IH5gfn++Mf4bPgB+Cr3YPbh9UP2jvdx+Rb8g/5U/+L+KP7o/Oj7+PrG+uD65vrG+7/85/0Y/n7/BALJA7AEigMBA9gCywIZA0ECJwFYAKwBuAU1C78RAxllIBAmASlUKiEqgCdwIhYcPhZGEesMMwlABpgDMAHK/1D/x/5G/tP+Kf9E/nb8b/rN96705/IL81L0SfXS9tT4pvoo/ZcBYQc8C98MIAx3ClkIIgUNAiH+1Ppr+GP2qvSq8pbxo/C/7h7teu0f70Lw8fDl8QjzCvVL97X44vnk+qv8k/5IACsBXQA8/9T9hvxX+0z6j/mB+Kr2kvQF84ry2/Is8xT0lfQa9Zf1dfbZ+Jj62fvM+8r6UPnG92/3Zvca+eD6XvsT+yj6Cfoo+o/6s/om+838KP5t/uX+YgBVAe0BngOeBzUNThJYF5UcyCB7IzglQiWTIzohAx85HQwaehUNET0NJwnWBIYCegFTABr/3/2H/eb90P5SACIBegBX/6v/cwHZAnYDngOBBNYFZwZOBwcJyArqCnAJMQZ6AJ36Fvax8m3wZ+8x737v5O7H7ULuEPBO8hTzBPPA8jHyOvKs8gXzbPL98uz0/fZU+GP44fi8+T36uvm7+CP42/dY9w73n/fM+D/6wvpA+9v7KP0M/3r/t/7c/br+bAAIAan/bv3K+x77C/vh+iH8Zv1r/rH/+wBnAqoDBgboB+QIAAl7CGkI4gj+ClMNRw+BEfITsRY5Gbwa0BtsHCYbVBioFIwRfg48C14JBAj+BucGrQfwB9AGLAVtA9IB1v8s/bv6wvkN+279pP8JAQ0C0QOpBYwHTQlQC3YNng0SDDkJjwSx/s754fZZ9dn0RvTw8xH0JvTP8z7zLPMh80DywvAf8B3xePKR8knyHfP19C33MvnJ+hb8fPyC+x766Pfv9Czy0u/S7djsQu5U8Zf0Q/eq+Wb7CvwK/Ob7avz//Jv9s/0f/Sf8Gvt2+3X9IgC5AosF4wZmBqAE9QEaAMb+t/6j/u79qv0r/kcALgM+B/sLqRCXFOoWaBi+GQ0bIRuNGQQXEBT2EJgOFg0QDGML+AkACEUGRAVMBOcCwwHdAPr/Xf8S/yP+h/0F/mv/KgLaBCwG1gX7BGcE2gKUALT9cvqw91X1RvSU9FH1G/Ya9v70rvN584n0C/UI8+3vru6G7xfxMvI789n0cfbm9xT5i/mv+UH6Qvph+Kr1vPNs8yH11PeN+TD6a/rC+i77Xvu0+7H8Ov7h/pT+Yf4z/xYASgAEAfoB4gMCBkAHOgfQBfgEjwNwAjECiwHJAbUC8wTZBqUHWQmjC/oOpxEnE/UUXBZHF1cXghYDFWYTxBLwETgQCw7sC8IKSQrbCgwMQgwACzYJtgexBUUDMgLgAhIE+gVQCE4K3ArwCYwIfgasBEsCTgCj/nj7cPgo9sr0S/M68sXyOvS/9RD2x/WH9bv09/JR8UzwZvCh8a/yEPNu8qfxKfF/8cPx1/DO7+jubu5U7v3ubO9A72zvcO+H78bwtPNp9+X6nfxj/FD7jfpn+sj6TPzz/fD/2gF1AhYCiQHUAL7/0v42/xkBjAIhA5YCzAHyAAUA6/8YAOoBDgU0CVINhhBeE+4UVRXOFKwU9BRPFVsV4RRXFFYS5A8nDs8MDAvjCCcH0gXTBLADNgMtA1wCFgC3/df8RP01/1kBBQMaA5MBRQBU/53+8P3D/Ub97/sb+uL44fiV+Jf4C/kw+RX5+vh0+a75D/kH+Af38vWF9L/zTPSy9Xr35Pin+Ar3ffXI9CT1wfWl9gD4DPnW+bX6BPur+hr6Wvmm+Jf4Rfr7/Hj/rQAjAXYBXQEuArcDEAaBB44HlgbAAyUBj/9uAAsCNwNhBaEGgAeXCFQKtgw5DjkP5Q9WEHsQwhBrEjsUExUsFUcUSBJ2Dz0NygsXC5ELiQx7DegMXgs6CakGfQQSAr0AQAAwAGIAJQDq/8f/cv8K/kT8WPuH+038Uv12/TL8Yfq/+CD40Pd19yr3dvfR94/3t/ZW9d/z1/H878bu9+6C8MTx4/Ha8H/v/+2G7Grryuvo7ZPwjfJw8xj0afU793f4gvlp+i76j/hb9//3fPk++7H8r/0K/hf+Qf4l/2UBrAOQBLYD2QI0Ar8BkQG0AfkDiQacB9sHLAiXCMkICAkoCnoLlgtECwUKXwkVCYcI/QfoBp0HXwksC5YL7gpzCiEJnwdxBkMG7gUcBh0HHQgtCVgJSAp4C9YLLwvDCTUIsQWAA+sCcwOKAvgAZwAx/2r9zvtL/GX9pf26/f38QvxU+0z7Gfzb/Jf9Rf0l/IT6lvkD+rL6dPqy+ev4MPj593r3p/a/9f/1pPYE9m31MPWI9ZL1X/ad+Mz5fPlE+MD3z/dT+Ev5ePlx+Sj6f/s8/DH9Yv9pAZcBnADu/5j/g/9M/2H/AQAKAd0BswKMBEMGHgchCNkIugdQBnYGJwgHCoUKjwoKCqIJVQuWDR4PHhBSEO4OoAtQCOcGWgcQCMwI3AlqCvcJawj4BrIFqQTQA6ECiwJNAnICwgO6A3oDJQKh/5r9X/ub+mf7ivxf/Wf9Yf3k/Ev75fll+n370/tW/Or8Ivxq+r/5s/jx9RL0N/Q/9bX1Bfb29sb2UfX88xDzk/LJ8nz08Pa1+Fz66/vc/M38Vvyo/Ev9zv3I/Wv90fy4/LP96v7g/0kADwEnAVMAj/+Z/6kAhQBaAEAABQBQAZsCrgPEBLMERgOfASsBIQIEA98DbgU4Bk4GhQbNBrcGgQZXBtUFCgbhBskG7gUSBmcG2QWhBKwDcwQtBcMFjQYWB8YHCQfxBBQCav/X/YX9If5d/mL/fgGQA0cEHwPpAK39XPsX+6f7BvwY/Ur/9v+n/r/8pfuA+6j7FvxO+3/6GPvv+mD5ovfJ9m33hvg7+Sb6bPvz/K/9Hv3a+3T6NfpE+1v9qv9VAXgC9wJrAtMAC//V/Tv+5/5s/zwAl//2/wcCtwOLBB4ETgNWAl0C3AOWBRgGYAVrBDUC7P/e/8wCfAY9COIIqAh2B60FVwSbAxADLwSHBbAEQQOZA3kE6gMZA4MCCQG2/77/2f9j/x3/Z/+N/xL/Ov5y/T3+CACkALH/af7R/Xr9c/3e/Vz+0P7B/6wAzQDCANv/Iv/n/pP9S/wv+6v6aPuw/DP+cf6u/Fz6kPjx9rL2qPjk+lP8Bv1O/cf8Svzo/Iz96P3a/Vv+XP8e/yP+f/xl+kr5gfmx+m78OP53APoCiANPATz+L/yw+/L8MP+QAbsDCQU7BVgEXwMWAl8B6gLxA4QCfQC7AHACyQMiBI0C9QCaALsB4AIWBMEGHgj1B3cGFwReAvQBqQMnBisIxAhGCZEJIAePA2EBYwAM/yX/3gBQAbsA5f9n/uX7avp0+zL82vvG/Ob9Wv7s/jf+bvyk+h36W/tI/bv/LgKwAzEDawF3/3795fsT+8f7lv3c/6QAUv85/cX6Uvl2+Y/7YP4gAAMBEwE9AOv91fsg/P796/9GAUQCBwLJAMT/Kf8A/xP/nf+nAHMBlQFcARwBawBo/3D/xADHAX8BJQHGAb4CYgMSAz4CEgIuAlYCXwLhAYQB1AA3APMAdQEDAeAAtAGBAqUCZgOmAy4CkgD5/2P/Sf5G/hr/g//PAGwDTAR5A7sD0APnASz/Hf45/mr9y/zr/Wn/Lf84/r/9Cf33+8H7Hvy/+x77ffpX+lj7Zf3U/tj+7f5+/kj9jvwC/dz96/12/dD8qvsU+of5ovrl/P3+yf84/zP+Rf7r/Z/8WfwW/j8AwwEBA6cC3gFrAaIBFwLjAW8CDAPjAyUE0QPsAzUEUAVuBbIEcgTLBA4FYQSFAhIAnf8uADoBAAOBBMwF6AWoBN0CUwKIAi8CfAJ5A7QDcwNFBLkEJgTCAwIE+wMHA7QCPwIMARwA4v/x/2X/tv6H/gj/Zv/+/l7+av7q/oj+z/yI+yD8Dv36/Tn+6/wn+xz6hfpd+6X8Vf26/D38tfvu+/r82P0//t39wfyy+3/7C/zu/H/9hf1C/Qf9ufw+/eD+Sv9U/s39Df6V/Rn86/pw+x79Xv11/ZX+0f+qAKIAfQCy/4/+qP5r////bADfAOAA4v8j/5X/xwBtA/cFTgbhBJQCmABX/3T/CAELAxUDaAFPAXsB5QCmAE0BMwJBAnECqQIlA6UDXASTBe4EBAONAQIB8QBVAY4CSwNyA9oCQAEG/779wP4BAH0B+gK7Av8BMgFCAH3/3P6j/kL+E/6O/k4AigPbBOQCpAC1/2f/j/+1AEoB3AApASwBgQDn/wr/Y/4g/pr+KP99/h39+/vW+2D8VP2D/nr/UQA/AGP/Rv5h/RH+Af+9/tP+9P6N/Tn8V/w+/Lj75fxN/v/9Wf7z/v3+bP/W/r7+0P/UALQCqwI4AJ/+3f2X/db93v6EAIEBygH5AUYBN/9F/mH/7P+h/3UAAQEmAN3/Bv+L/Zz92/4YARoD3AN4BGIENALK/7T/WQCTAKUBgwKdAtMDCQVPBE0Cyf8k/hf+fv8rAa4BSwGN/2r9hPwx/eD+4v7Z/jgCQAVQBZsEeQI9/nr6iPp3/toCFgaJBosD2v9X/bP8gP2Y/n7/VgBJATkBUP+y/Db7YPol+bb5Af1zANECUQMLAsIArP9v/n/9df4kADsAewBuARwCGQHU/o3+Kf6h/K39JwCvAYMC5wFEAPH+rP34/dz/2v+k/tT+RP/O/0ABDQGf/xMAUwGGAgkDjAHj/mn9+P6VAEIBEgI/AWsA4v/D/oj+Rf/RAAgCcAKMAcz/vP8hAML/TgCEAUgBhgBsACsAKgHJAZkAOADW/yYAnAIOA34AHP+2/kX+Yv95AIkA/ACpAjsDLwEQARwCCQEZADD/hf0F/Uf/HwFsAE4AMgCV/8n/DAA/AIgAfAFoAVn/1v5j/+r9fPxd/ED7sfvW/2YCpwEyAfQALP5s+4n9TgEpAd3/CgKJAi4A1ADb/4X7E/m3+5wC9gQJAj//F/35+yT7+fuX/tABAAQsAi0BUQJ6AIX9fPuk+GL5gAEACJYHeQUqAxoAdP1J++b7SQF2BYMExwEpAD0BXQKfAmsCdf9x/sL/7QBLAt7/iv58/7f8JPpT/d0DhAUkA28CBQHI/kr+mv/ZAtAC7P3p/b0DQgQBAO3/sv9M+w38ngJOBK8Blv6e/Ez8WvzP/2wBC//v/d7/uASvBaQBIf3x+pj88P1bALsD2gPTAZv+HP6X/Qr83f4SAJj9hv6OApYDxQHz/u77rvvp/rAC2AGF/5T/T/5u/Yz+zf7q/uQA5wEmABMBTgIK/wP+l/+1/x3+F/8NBCcFyQHo/fz87f6fAAIA0f0Y/6QChgNPAqsBgQDk//j/4P3L/RoB3wHgAlQEgwHB/WH85v6nAK//5f9gAdMBbAG3A6sEsABL/bP9Tv/Z/8YBRwM9AKr85/vt/6MFrwUZAZr95v2k/kb/i/7R/B8AiQKIAIcAkgQVBH3/mgAt/4P78vtX/pL/r/sE/UoEUgX8AT3/mf4j/1n9nP2UAL4A5/2B+8H8m/8CBDsE6/yo+P794QW3Ba0Bg/77+t76AABTA+gAxP5P/Wn73vswBOwJ1//5+UP+kfud+YEC8wbNAOD+AQNcAZP+OQK3AUX9w//CAoL/Sv+uAuYDBQJu/AH7gv8qBR4GQQN6AmD/efzc+1D9Xv9jAWIEtQJqAswEbwE2/T/8iPvi+rP7aQWeDq8H6f2b+zz9w/1t/hT/qPoh+9UDHwc8Atj+Fvwn+HH7agFeAzAGXQRa/Gn8BAFFATn/Cfzy/Cz/hgBCAmQBFf/I+K/zsfmdAZgCHQHcAmUFKwG6/LD9PwBtALD9b/zb/n4BOwK2AH771fmN/9sGHAXhAXMEIQDI/Pn+Wf5c/lL+0fyO/QcA0QUQBxgAXP1HAKoBh//nAE4DtAH2AiYFyQCW+lD+OQb4BOX/jALIBkQDj/7t/TH9mPtS/+0CUwVuCSYHdQBK+2z7pP3b/UoAYwZNCCcCWv7N/TX6PPqV/Q0APQIvA/UBr/3k/zME1v+V+CT7OgNQATP9Qf+r/2H9DP2Q9nz3MQMSBfP/ZQFlCQoB/PS7+P3+/wOuAdT4TfeN/aMDlAHV/mkCx/9K9z/3EALpBtwEdAGj+nv2bPi6ANsHJQu/A8D5OP2hAMwD/QbLArr8A/h++goB8QkbDnIBbPY59pL6TADjCOgPhwfO+Kv2/fw9AfAH/whPAen9VwEDA1gEzgZcAzj9k/dp/DAGHQrXCAoBffeG9rEC7AaI/xn9hgE2AwL9Sf3hBfkGV/6U+f77rv0AAdUFEwNN/QkAyAFS/Br7r/98ALD8Lf5kAPT+pf/AAh//5vZY/MIE4QFw/V77o/vZ/UoDEgUd+2X4t/tu+iH/cAZeBO78xvnV+J/+AwYj/7f06vx6Bk4BQf+BA1gFpf7A+Ib56/wXAxwCfPwEAOkF0QRS/zX+5wPuAjL+uQDpBkkEmvuU/oYC0fvV+XIARQJr/+AAuQHNAAsEMAWnA4EAavvN+vH9HAWCCikEHfw3/rAEEgPi+4L9oAStAbz6LgCPCR0I0wDm+uH2rPgvAP8Byf+uAjUBHvv4+/MDpwbbAab/ff62+fv3dwHfBhYAcPxrAakCQ/zW/Dj/dP2bACsFRQVYAc3+7vnE8gL5MAN0AvH+DwIlB0ECfPyi/jT8rPdc/PkCpgHB/Kb/3wTYA8/+YgDpBbr8t/Ih+n0JSQw9BbD+O/aB9Ev+sgk5Bk/8H/qNAHoKkwogARn2OPXZ/Cn+vv5oBFsI9gZ5/7/7S/7H/J762v4/BCcCzwA2B0cEUPhj+qMH/QWW92v4KwPNCPcLCwpd/zTzwfP/+sEBMghlBkf+2Pqx/wUEQAOxAKD7Qvis+f0APwrMB17/i/0H/t322PdrA18Dif85AXgBQgD7BVgGw/6D+4X43vb6/QwJXgiIBEr/UPX69UL+fQU3BYoA6//L/SH71v0jBAIIKgLs993zi/iTA80KOQd9/7v8yf7LAZECcP80/a/7p//jA7UD1ARAAUT+bPev9kYD0wukBDj29Pt3B2AGeQErAdL94vc5/cQGegl6BV8CGv1597r4BAHCBUYB5wA6AL39iAAnCIsJOf6n9sr1rfwOBOEHRAv4BoP8ovRl/JUFkAWy/iv6B/5B/xX/8QMJCDP9FfKO9bMAoQUAA6IBCAB2/+P9Sf0xAEL/Tvon+wkCqwpQC44BI/yQ+Mf5tPwB/goE5QKF/w/8rQCVBbQAw/6K+4X7gfyXARACb/9T/q34M/1/BYUJTwDu9wH+6gSdCUsJtgTN+bPx3fppCIUJ/wAl+/v7+v0iAWsFpwTl//f9Rv96+3j85gUGBAD/mwDsA8kAHvvX/aL/RAEOAvYC0ADY+BX9Mgg8BZX2xfT7/H7/pAVyCxYEK/zk+br4+fw7BlQL7gDB/O8Ax/v2+58D7wdl/4L3pPxUAS4AFwAvAlMAif+H/un/AQWv/wb30fZA/2AGkAYyB/8DVPnW8F75Gwp0DPcENv52/AD8gv3DAl8BUP+f/NT7jgNKDNkJ6fg689r5nv2P/8IFwAgR/qz7ZwHw/9cBvwOQ+xz3vP/6BNQFrwocAPPvPfbABkQJMwHe/gj/P/z8/vYHNAhHAGv5OPYC98n9MQpdDLMCYQATASj4V/fdAcECSv6g/y8Drv8f/bMGHgbH+xv2C/d2/5MFRQrnBe79wP3u+0/8Vf7sACIDsgAe/c/9uQZyCLkA4voK98D0GvzPDeUPJf8s+SMDmgRE/I/74f7H9zX2lgV5DHUGbwIsAYb6LPks/xH9ZP5eA1X/tfubAC0IEQe/ASL+V/WY+gsNXgak9nr+LwqHAqr6CwE2/yP2efyQChYHPPspANYH1P5B9gn62/2K//8BowTwBnYEH/8b+vb58wF9ACb+jAUZA777xvt6AFYCLQHA/zP/bPyM/4YFAwKVAnUA+vgg92P7hgFtAvoCMwaZBhT+L/kSAKoBa/7//LH6MP3YBM4JggXN/qT9JvuA9av7zwWzAPX/YAFVATMDDQGbAzD9S/PT+eAIogmdACsADAMB/qb6lAC2AMQAGgIQ/lH9VwO4BWP/P/jc+yT+BfsRBeEK2wKM/bMBDQI/+0350f01/8v7E/+DCEsKUAEW/0793fhp+tEDsAnl/9X9jQLwA7kBt/sr+gr7sP2YA/oDif8HAxcG0P+0+7D9tP1I/IX7KAS6Bx//jwEPA5r9NfzTANwAOvvO+0ABoASdBJEFYAQi+4L1A/zn/uEBTgSLAlr+dfyPBeMEkPpj+5IBdf0y+04EAggV/bb4UAANAOX95QXqCKL9Tv0NAIv50/k3A6kKmAKO+qX8Sv0LAXEIIwirAeD6MvPN9ZUEjQeyBM8Ffv6k9a77dQ1uDCb+IveQ8dD2RgYZEMwJKPvy90n9Pv1HAfIGkgAA/NT+PAGf/IUA7wnU/x73nP59BCgBcAGPAGn7ggM6B4D+bPik+uf/vvvd/IkGsggLA1MA0f6G+ej76wAC/7r8nwKlAin+1wYIBAv2RPmVBS4Ex/2wAJkASQBm/eH+OwesAb38Mv40AU//Av58APj+BwW2A3r5R/m3+8f5ewIRCg4Ejvze+fYCZQai/9L69Pp8AEr/UAGOBiAC2/9X/pb7kfrQBQAMwf3D9aH77QZ/A+z9uAKjBHIAiPvtAKkByP6c+yn9iwSqAQcAuAJVAsD8gf0MBI4AsPiZ/VgG+QDi/K3/IgFgAtkEXANX+Wv5lv9L/24HVQgXAXj8QPpf/Yb/nv76/sgHLgKg+hgAuAQmBE/9Rfw09wr4tQENCh8JfPoa+scE/AJk/RT9kvvG+w4AIQVEByoG3P+F++7/kP3j9Z4AUQnd/lv1mfp3Da0LYP00+sv7Uvq2/j4KIAFW+O/98/8n/lICtAWB/5z8cgGIA/b4vfq8DAMJ9feS91P+qP63AcsGNAOk/MT9IwhrCtP/fPuu+tT5PfucAK0DYgQJB0kA6vtY/uAD4wXY+5z2Vvr0/CMD8AcuA4QAYf9o/br7EwEUBSD++ADEAX38JwHVAR8AdP/+AKwChfv7/moGmAbQ/dzwVvj6AZsASQUMBQ39Ev0BAuwEgf8S94n04PwJBYADWwkdCFP7H/4jA2v9+fiN+df74v2yBroJGgZtA3T5ufkRASoBRgUlAU30//rRB4IFNv9fA5ADQfc6+fYECAmoBSL7lvin/BH79AMyCaP85/kb/kkBfgfvA9L/HgI4+wL3ePyxA+MJhgfQ/Cb4gwGHAt36WAHeBlcBWvtR9zgD7QxS/uv0+/peAZcDcQHLALsHOwdA+Un3hgLRA/7/df2v+dD/JwkBBnMCCAP6+o/1mPw4A2MCsgAoA8n/u/6fB1YHSPyI8mf4cQWRALP9FAPC/3YDOwR7/SP6EPo/AUT+xvv4CFkIzv/CAP38Pvcp+QsBwQG/AmsHKv+9+7QB8P0o/oUDq/3n+sf/ngDM/30B6/++/Sr9wgEwB/oAjv07/X/6kP/0BVwGCgIC+9r6T/sv/24JYwN3/VoFAQGX+J/9lAHk/3gDoAZh/Ir7oAYcAbH3kv5mBngAnPy2AP0DuAJoACMBlP39/NcFYgbp9ujv+/6dCe0GnAfXBlH/Gv5U/hT2Cvo+Aqf+jQP7BCcAeARlAy/94/sZ/N376P4WBTUBf/t5AJcBKwUKB0X9avcl96z92gOcAez/1AEgAPj3ivz6BnYBnPto+mP+xwlMCM39evhY9cD4SAJSChkLywBL+3/9VfyF/qcDkgS//Z37cQFHBa8G+wCV+Dv23/zsB+4J9QBO/Iz/vv7FAB8FXv9nBnQKt/dZ8zb6gALjCZwEXgPPAMT45v0xA4ECBADfANwC5P/DBB8BCfq7/8301PF7CWkMSAZcBb37lfZ3+IYB5Qbz/vn5lfvf+Xn8DQffBsUAcQFe/tD42fga/6v/M/31A6kGtAOIA3wCxvfs8sn9BwMUAsL/jgKlCAgEK/+5+4T3R//SBzcDGf+O/ev5qP3/BZIFS/+l/gz8FfzaBRgHqQOkARL97vrH+2wCTAaQ/k/5ZP75A1cIzQfm/mD1ifPp/T0HrAh3A1j/lf/rAcUHuP+a+3X/1vvk/7T/igElBXgAof/X/FoAHATXAVABt/02/oT9Pvmq/AwDKgRnA+/+dPw7AtQErALV/BT9YP3j9//6hP7rAvMDvf+7AB/+9/1EACj9x/uZ/rcEzQdhBscE1QG8+vb0wPqsA2IAVgBvB0wD//7L/eX78vjU9rD/tgTnAyMDnv4TADMDngHt+4v2WP1tAy7/ewIACDAF3QOX/q75J/8sAccAYQMv/wL+jAN5ANH/vAKs/3wBsgSVA3IBAABM/cv9bwNx/RD45f63AbYD0gMF/7/+cP4A/KL80fs7+sD8MQAOAtMEEQjyBNv/hvzH9iz7gAL4AT8JiQdM+yz7FPwk/3kD8gM6Atz80f7wAIEDcwXuAf8B//qZ+OD87P2YAoX/xvk3+k4EUBD/Clv+yfb88kv0O/xRAzsGxQHb+9D/iwOPBbwD7QBn/LT1FP9HBnEG+gUx/T77ef5ZAosHmgKg/H0B0gLmAAICg//w/t/9ffzgAGgC6AH6BZoCqPpi/e76LvZv+6r9jf1PAucI/wOL/eP+e/8PASv79ffc+w8ASwlLDSMKaAGt+vH67fvj/nQBtf8K/VoANwR/BJAEvALb/fL6qP0V/10CIAX2/sv38vhqAYsEEwUWAycALAAL+fb65P3t+ef+B//W/acBAgPdAgUF6gWF/2r6g/qq/aD+fgFaBkoDjwLMA8wB7wBi/rn67/of/Sz/6gLfAnMCcgAQ+aL4h/vr/50IMAmYAjv/jQAS/yf7GP5h/8r7dPslATAH7AOWA5sHYgMhAcQBgPwu+bv9fACC/W0A1AVdBRsDnwNuAFH5tv3FAtwB3QGXAMX/Hvwc/GEBAwJ3An0Cd/+G/K754fgW+C36mf+IAq4GdghdBIEAhv2C+1f7LPzu/H38QP3XAc0HbQfGA3ACmP4a/Pv7APsH/BP/ZgJHA8oCgAOkAL/5evhm+5P+igPBB3IJpQSR/wz9r/kQ+lL74frO+yEDxAk7CQUGJAHO/Q/8Zfze/WT+/fzP/dMDFQYPBFIBpv9T/r78xv5oAkgEIgJXAEgApv3X/MT9vP48/xkAPgRnBQYCSQDe/pn6r/k4/E/92v/3BFAH1wUUBiwEGQAE/dX5b/n3+8z+pAL8BhwI5wVXAdD+b/sx96j4Bv2uAPECvAPnAQQAav+A/ST8Pv2H/ggB6wPxA8wCuABy/vb8M/xz/Ef8Wf0bAD0CEgPSAucAYP30+7n9OQC3AUIDFgQUBJgDIwJAAQP/dPxS+2f80f8eAmYCdQAt/mz9L/23/UP/vgBzABYAvwBGALT9ePxX/98A8QFiBRkGdgMGAm0BOP+V/kIAZAHmAJ8A0wCrAI3/Af98AJAA9wA9AkMC//8c/z0AU/9B/+/+H/05+zn8jP6i/y0CHQSEAxoBZf4h/Db6Vvr++/H9awBoAiYECQVGBIsBe//n/kj9i/xP/lYBlgGHAQIDhQINAVP/i/+x/3v+Lf58/Z/+gQBj/4j9/f1w/tH9Gv+hAFQB3QBCAOMBpwFCANr/pP+H/zIAngG2AFoArgDo//T/hAEnBDgF6gUDBQIBGv4V/Yj8TfuP+7n92v+dAUYDWwSZAuf+PvwE/Hf7b/ys/64AVAESApMCowLD//v72fhl+sL+CAE/BMgDuAAB//r+VgBYAAsBYAGx/5z+N/9C/9//qAEJA74CQAH0/6j+af1O/MX91P80AYQBUf/x/NL7/vww/xMCkAPJApYCqgIpA2gB+P5i/Qv8zfz8/Q8BxwOnBWgHdwVZAs//sP1a+4T7FP5Q/3ICGAb6Ba8DVAHA/db7CP21/Z7+SgBRAbL/7P0v/tr9tvwU/bX/+gBxAZoDIgRtAmQAD/+X/uT98/6dAFMAzP/X/+8A1AAAAY8AePzq+wT+VQAIAjID/AT/AukA4ABUASsCVAKhAsIAz/z/+vP5F/ut/Vf/bACA/1r/af4a/U/95vy0+537/f5BAjsE1ARRA5ACXAKnA4MDygE2AO39Cf3Q+zP9m/5V/p7/iv9Y/2MATAIPAjQAmf99/9X///+2/8H9CvwX/Z7/FALTAjACNgFfAGoA7QBeAP7/Jf+v/PD7oP1FAfwDoAT1BDAF6wMhAasAbwCq/nb96P1n/+H/t//T/+3/D/8D/nD+YAAAAx4EqwOgAyICOf8o/gj/wf6R/Z/8vfvd/eMA+wKAA0sBd/9l/Xf7RfwG/14AgP/5/0sAoP9TAFoBDwF2ANIBRAPhBI4F1QI1/rz7Pf5P/7D+v/6A/Ov6s/wSAD4DBAU5A6j+Jvvi+cv6lv4HAqQCfAI1AmoCCgNMAtEA7v5j/Jb67fvD/k4AkwLsA0UDnANBBCYDsQDV/Zb9ZgCNA2AFDQSXAMX8Vfuc+wT8U/3n/uMArAHsAFkA7/98/Z36u/qT/NwApgVKCAgJYgbvAm0AP/5E/Ab7+/oK/M79qP7UAFgDnwMdAgYAYf52/Ur/LgCh/w0BZgLpAgACxQAqAO/+T/6e/q7/DgCgADsC3QCb/bT6t/nc+nH8p/5KADwCYAS0BCgExwLFAEn/av56/ub/DQElATwB4f9c/nj+Zf/M/x0AjwHTAYwBLQFGAGj/qf7D/cX8cf1f/sH/+gD6/6L+z/0F/iT+gf5x/8b+/v6MALkAXQD7AH0BZwFQALv/OQG1AcsB2gIUBOgCXACu/z7+RP0c/iUAhgEXAUEBOAEiAvkC3QE4AboA4/8P/pf8XfwI/P785P3o/Yr+m/6m/uD/JQGBATEB7wCFAIn/mv3s/PD9vv6sAGIDSgbHBlQENQK2ANT/tP3r+xj8yfxy/XT+x/9D/+T+u/65/vH/gQGeAqkBZwGLAIf+tv1C/bX9Cv0P/cL/wAIoBNQExgVwA7r/Vv2e+zH8Of7g/0IB9QFpAq4C/wHaAFL/cv+o/9P+hP8h/9v9iP1F/7YCpAM0A+gCfwHk/nj8X/3F/k/+L/+zAHYCEANmAjABY/74/AT8Wv0IANMATwK1AsACjgGlAPAAZf+B/r7+5v9gAFYBwwEPAa4AiP54/af8gf2c/38BtQOHA/IDUALD/zj+Vvy4/C/9nv4yAHYBJwKEAf8BWgDA/Zj8OPza/Nn8N/5QARMDbQLgADEA5P0R+xH8c/5V/wUAIQENAWcAFgAi/+f+qf/AALwBGALiAYMBqwBF/xr/uP8sAPYA6QIZBKUEJAWRA+0ABf2A+oH6xvvh/d3/AwPxA+ECRAHZ/xz/2v2i//MBvwL0AfkAzwD5/pH9Mf3G/rQAJgLzA6sEPQReAZb+DPxU+n76ZPs1/rf/Vv/i/nz/gQD5/8P/3v+U/6j/bv/2/kT+o/zE+1X9df+IAOkBUQNwAtsAhAA1/+L8QPzb/BL9ff38/lABmAJ8AskAHf/j/sr+4v/LAFcBAQLiAe0ALP+U/gD+gfy0++b7F/2//hoAywDHAVUC4AJQBMsEIwO7ABMB0AA3/zX/7/5I/0z/MgAuARwA6P+b/m/+df7Z/gwBrQB4AewB8QBM/xX+qf6y/SH+Pf9/ALQB2AFdAdP/cv4Y/Bn8n/xc/tQBdwSNB5YIGAxwDqMQbRM4E98TpREdEfsPhA2zCksFDgKu/S/78/i897f4nvnW/HD/YALJAscCoAG0/lb9Ovzk/cL+xf8dABIA7QDT/zYArP9F/5/+qPwC/Ef8vf2V/In6avnB93r1i/R79lz4Dvme+lj9S/30+4/6LPnV9k30AvSB9Lz3pPml+lz8YP3Z/e78SP7e/q3++/6I/qz+ov2q/B78gfu2+4f8c/6e/0wA6gH8AVwBggGGAeMA7wBrAkcDlANyBD8EugKdATIAl/4a/TH8JvyL/F799P3R/m3/K/8m/7z+wP1K/qL/HwEKAssBKAHJ/+r+lf2Q/D78F/yO/df+i//I/57/TP6G/G770fod/O3+zwFjAy8F8QUXBd4E3wKEAKr/1QCSAv0CfASTBB4EPgPGASQCtACTAPoASQKWBC4GYAjvBkAGUwRsApIBVAAlAYAAVgLcAkYDJgN2AaAC+wNcC6IVriB6KuYw4zUfNcgzTzBqKVchlxYyC63/XPjK8x7xMfHb8Wz0rveM+9v+4AAvAEH+lf3b/IP9E/9iAZUCYQOxBK0FZwflBxwHAwW8An0AXP5p/BL5k/RM8EDtoOs87VLwpvPm9uf55ftZ/Jb7BPmH9iH0B/MA9AH4m/ycAHADgAOyAkcA8/0N+5D58/gN+ND34/ao93L4F/ja9wX6Wv1C/xwBcgKYAioCwAAU/wb+XP2n/D/8KfxQ+w/6ifdi9TD0tvMV9Fv1VvZZ9Xf00fKj8SXyQvQp9pL3Vvms+Zb5ivly+Pj1S/Tz8+n04vYr+kr9Uf8dAC//Kv7C+wz6A/nn+A37xv0fAP4AdwGRAID+QP0z/P/7oP2F/w8C9ANOBDIDMgFCAPT+Yf/tACAD7QURB+0HKAcRBb0CiAB5/oD7w/qH+5j7o/z5/BP9B/3H/S7/GwAKAkoCCgO1Aw0EUQX9BakGTwb1BXYFNgWTBV4FdAR6A20CqgL2AbkBJgPUA7oEGAREBZYEwQP5A1IGZA54GDUm7TAdObQ8XTy5OSUzsitKIJMUBQg1/mr3w/Lz7wftzOx97XbwaPSE+Qb9rf4ZADAAyv+Y/i/+mvwe+3T6uvt6/xsEhwjpCdEJmgfgA43/F/uR95T0dPMQ8xD0nvXe9YL1NvVC9hP4vfqR/VL/0v/t/6IAcQFPAvcC5AIDAkEBrQBnAAsA/P5X/RX7LPnC90L3UPe699T3/feO+Vf7mfyQ/bz+7v6p/vT+9f41/uH9Hv6Q/WT9cv2X/Nz69/m8+Fn2xPTP85/zN/Oq89v0sfUA97z45Ppw+677Avw2+zD7QPsT+w36Hfka+E72Nfal9rn3TvkL+4b87f2MAGIBDAF4ADX/i/3l+1P78frw+i/78fta/Fb7ePvx/Cv9wvy//bv+tP5F/pX+sf/LAIUCqgM4BEkDmwKhApkBPgKNAk8CvABq/53/of4r/mT9F/01/Er7pvsy/Lv87/xI/QX+7P5z//IAxQBMAMH/Ov+t/+r/nQErAqgCcQHh/mP90Ps1+4X8pv45ARoEngZNCKMJrhFUHVcq/zSPPJ5CfEKkQNk5qjBFJAMVxgX69kLuq+gg5qHlG+g/7EDxrfYx+939ZP5G//X/JgKtAugCEQJxAM7/YP9WASUDBga6B5IJVwthCqIHTQOs/nL4+/Od8UzxGfKi80v2BfkJ/SMAVwOeBKAEhQPBAdYBawEuAu8BcgGmANwAtQNOBY8GkQZ2BpUFggNYAscA3v4e/O74rvbD9Qf2o/XX9OX01PUS+HD6WPyQ/nYAYwERAo4Bef8H/CD4s/SD8gHzn/N09Ev0+/Ik8oPxLPKF8lvzE/Tr9Az2n/bM9sz18fT+857zS/Nu80f0FPUi9un2rvg++hT7afsp+077ZPtf/Bf+5f77/rn+pP7b/ZT8Xfw0/EH8JfzD/F/+9P9KAVABzQB6/4X+Z/7P/iD/X/94AHkAuQD0AMwAOQBY/87+gf2u/UP9J/xK+6n5xPjO+AT6lvoO/LT9qf4iAKYBTALbAaAB1f/3/mf+oP6i/6oAvwGYAUgCeAH0AU0CSgE8/9H9nf2Y/bT/tgB9AtMDPgp0FlQmczXAP59IrkolSntF3T3sMrIjkxNqApD2bO6X6pno+edh6hPv+fOH90D7YPtB+a/3oflR+9r7evwK/Cf8HvzP/sECDwfeCtsOaBKWE8cT3RHUDCkFUP7S91LzLfHa8ETyyPSK+Lf7j//IAZMC0AFCAOD+if0u/eL8X/0K/Wr9pP5tAC8CWwPxA7YDuwR7BqsHOwcvBn4DLQA+/VX7vPoF+9j7Uvs1/PT9tv9pACz/yv3Q/Hv74Pih9nD1MvRS83LzT/Ts9nv4d/j596D2cvRs8U7wmPAs8uXzo/QT9fL09vTE9Ib0aPRN9G707fQE9lL3YPhw+Rr6VfrU+h/8v/wo/ND7EfzO/MP9E/90/3T+mPzA+iX5R/iE+BT6Z/xr/vcAnwJrA4ED7QPBBHkFgAbMBvoGsQY/BSIDGgHu/kr8ZvnZ9+P2n/bw9jv2TPaj9s72OPe798H3u/Yp9kP2FPfu+SH8FP4WAJAA3AFTApcD/wM9BGMF1wTrBWEFtAWFBawEFgROArgBXP+M/hr9Evx4+0n8Pv5uAu8OOR81MNg71UU+TOJOsk23Rp4+1zBBIeAQVQM0+M/uxegy5Fnli+n77tzzf/c0+Nn2WfY39274yfe89x74ufk7+3P+ZAN3B08LHg6bEQwTIBIDDwoLcgdgA9n/ifzD+bz2WfQd8xT09fXY91j5t/lv+eH3Mfd/9uz14/Wq9qj4lPp9/Fn+RgGPBE0H+wrYDokQnxCaD0MNTQkgBKr+OfrO9yz2UfW/9Zj2HPc0+KH5s/up/cf+xv7J/Rf9TPts+SD3JvWq9Dz18PY6+M34//dR9k309vEd8GbvUe/a74jx3vN/9lD49vmk+w39T/7C/kb/TP/9/l/+Mv3x+xD6t/dh9bfzM/N788rz6PRI9gP4Fvkz+W35+fjB+Sb7ff1qAKICHgTMAwUEnASTBHcEJASaA0QCWwGpAPz+Rv2D+/v58/hp+Jv4Yvl7+XX5pPnY+LD3k/bK9ij2y/UX9qX2xvgE+pr7Z/zk/RH//v4wAJkASgFrAYcBpAHCABEAA/9K/8j/DgHDAjUD6AIXAvEBXQBMAE0ANADzAJYFxxCKHvgtkzhJQYZGZUlnSblDZjt4Lx8kchd7DaAEI/w69czvDO8a8U715fdC+VX4BPbI85zx6u+J7b/s7+3K8XP2Gfox/fj/MASMCB0Meg2TDRwObA4rD2oOXAx8CEkE9QAg/pz8lfuK+1z7Yfvw+tj5cvet82bwoO6A7nfvufFK8/P0xPZv+WX8Xv4EAZkEfglHDbAPhhDiD6EOlQyFCsoH5wQxAsf/Qv6X/dj86/s/+w37CvxN/bD9DP0B/PX6Xflq+Bf31fXW9F3zc/KQ8bbxVfEg8fPw4fDP8aPy4PMl9cr2o/iF+jr7n/sY/If8sPzq/Hz96v3e/p7/FgCI/0n+nfwA+0T5gvjC+Iv5I/o2+qH6Yvrt+kH7+PsF/Vz+af+s/wEAov8G//b9wfzX+gD6E/rQ+tH6XPq4+sD6A/t3+qn6ZPrg+VH5pfhj+Cb4e/j699/2x/Ue9pj2Jvd892D32vcj+E35g/qF/DH+Cf+NAP0AWgFrAQECtwJoAtYCDAPVA5kE8QTDBD0EhARmBCMEawR8BUwGTwepCD0MDxIyGIoeeiMHKOYqqiypLO4q5ChfJLYf/hrsFtQT9hBFDxEO6w1/DWsM0go4CJ4F9wIHAND8hPlW9qrzYvGh7wjuAO3V7Wfv3/EP9CX23vfY+AX7lPzP/fj9Df5U/+MATQPtBPAFOAbLBRUFrwN1Al8BPgCe/4r/r/84/3n9nPsY+q35lvoM/Gn+3wCyAw4GYwc/B8EFiQQMAwcCBwGo/1f+Q/2R/O37W/sF+xX7mvsb/ez+egAOATQB7AAyAJT/Bf4Z/Bz6/fc59gz1evQe9KzzR/PQ8tjyCfMZ82TzzvPh9KX1Uvb/9mD3CPhp+S77fPws/sf/WwBNAKb/Sv6c/Mb6UvlT+Or3yPdm91j3bvcY+OL4tfmi+gz7YfvN+zH8OfzT+yz7f/oO+l/64/qM+6T8sv2s/pH/BwDT/1H/zf40/nv91/z4+yn7sPrI+sf6Mfqh+Rb51vjO+Bz52/g1+Nb3Afhg+Ub7nf33/ykClgRZBjUHogeCB/MGpAYrB+wHaQhICEYHgwbxBRMFvAS/BJsE9QRZBXAFeQUmBVkEXgNLAkABxgBoAI0AIQGUAWwCoANJBIMEZQXKBUgGcwdjCM0JfQvIDPINHw9uD80PjhAuEVoSrBPOFNgVvhaKFmkWtRZBFkIWKhatFYoVbRUSFd4UyBRRFPQTJRNoEYsPPA0ACsQGEwSjAen/ov42/QP8e/qU+BX3dfW2893ylPJF8k/yy/Lr8r/yCPMM8xfzJvOA8ojxT/A579zuE++O7/jv+u9P8Fnx5fLY9Cj3yvkf/Ff+MQBVARwCOAI0AkACCQI5AmsC2QH8ADQAT/+k/rP9L/wV+3T6uPn0+LP4bfhQ+I/4sfgv+cT54Pla+hz7ivs5/Ib8mPwl/Ez7uvow+rb5A/na+Lz4Vvgs+Br46PfA92f3+vbw9sH2iPYg9lP1P/Rv8/DyzvJ+8xP1Cvf2+OT6gvyq/U/+of5r/jP+Tf7l/qj/XAArAcMBmwLiArEC+QHeAOj/9/54/hT+L/6h/vT+gP9TAFkBpwKuA04E1ARMBWwFsATkA7kCigEjAc0AmgCKAPEAVgFnAacBtgHIAcsB4wEcAhcCAAKbARUB4gDMAKQAkwCJAKEAuwAMAXABtQEPAjgCvwJqA/gDfgS1BBYFdwXkBYwGKAe1BxkIyQiXCUgKMwuHC6kLiAvMCkUK8QndCcwJFQqJCrcKygqxCtoK+QrnCksL/AtWDNAMvw1UDoEOzQ7bDqQOoQ6eDvcOow8XEBwQvQ+DD7gONw2mCykKEwnaB8AGkAVmA/8AdP6a+7v4b/bk9LfzS/MN86TycfIe8nfx2fCH8FLwUvDq8DXypPPP9LH1lvYt92v30PfN99T3JPh1+LD4sPic+BX4ePcj9wb3GPcP90X3uPct+Nn4p/lY+gb76fu+/KP9t/6h/woAHAAxAMj/Hv9+/sz9Of2f/H38uvzE/Lb8o/xm/ML77Ppa+s75CPl8+P/3uvec95D3A/il+LH5sfpE+5r7S/uN+uD5UPne+MP46vgE+UD5u/kq+pT65vox+3j7lfvJ+wj8Lfwx/JL8DP1f/e79cP7v/pn/gwCMAY8CQwODA10D0QJCAtYBjAFUATsBBAG3AIkAfADWAHoBcgKYA7EEawWtBeEFtwUkBW8ExQM/A84CjAJyAoQClwJSAuIBUQHBAFAA5/+p/5r/zf8mAIoAzADxAFkB8gGxAswDFwUhBi4HOAinCFAIpwcABzEGgQUxBXgFLwY7B4MIdwkHCkYKigqgCmkKdArCCikLWQtAC0wLcgt9C8YLfAxTDRAOgg5/DjoO+g2RDfkMawzbC1EL4gptCu4JTwlaCCYH7AWlBKYD9AI4ApEBGwG6ABQAOP96/vj9jv0h/Zz82Psa+3n6zfn9+Dj4rvdt91r3K/fn9qn2cfb29Uj1YvRv89PyV/IM8tzx3PH+8Uny1/J581T0NPUD9tH2yPeo+Cj5Z/lV+Q/56PgE+Vf56fl++g/7k/vr+zP8XvyV/Mn8Iv20/TD+l/6L/vz9af3u/Gv80ft1+4T77Put/F792f0y/mH+NP6D/Z38rvvO+iD6wvnH+Ub6Mvsq/Mv88vzq/Mz8i/wo/O/70fvD+zn89fyp/Vj+Lv/d/zMAmAD3ADwBZQGnAS8CvAIcAyYDzgIfAj4BZwDG/2f/cP/E/xYAWABsACUApP8r/7H+kP4H/7D/WQAIAZQBxQGwAU8BtwBxAIYAuABBARgCAgPNAzgETgQbBOwD+QNUBPMEuwWzBnQHxwfBB0wHXAZ7BRsF1wSWBJ0EyASyBGEEGgQJBA4EHQRWBKMEGAWQBfsFQAZVBooG4AZrBwgInQhQCRAKpwrECncKHwrkCaUJbQl5CaUJogmACUkJzwgnCH8H2QYfBnoF0ATjA/4CVwLnAbkB5AFhAtQCJQNeAz8DtQK1AX4AWf+B/iX+//3s/fr9FP7p/Wn94/w6/DT7OvqW+QX5aPjM9+T2s/Xs9Ij0YPTn9A32P/c/+DH5oflf+fL4cfjH9zX3/Pb09tr2yfbv9u/21vYK9433JPjd+O751/qb+4b8VP3b/Ur+u/7Q/rL+gf5M/mb+yP5A/6L/HQCkAOUA0gCKAAgAZP/e/o3+M/6s/WT9Nf2r/A/8wvvG+937J/ym/Bb9c/2n/aT9fP1o/Y39tv3K/dH97/0k/m3+4P5a/8L/zP99/zT/+/6S/gb+vf2l/ab97/2D/u/+LP98/6j/pf+a/77/7/8PADUAUQB0AKwA8gAwAU0BZQGPAYoBZwF7Aa8BtwHSAQsCBQIAAmICBQNaA4oD3wNNBOAEggUNBmQGlwakBogGRwYGBsgFgwVCBdoEUgTHA2wDJAPZAt4CFQMxAyYD/QK/Ap4CggJVAnAC8QKXA0QEEwW+BfkFGAY6BjoGGAbsBeIF+QUGBgcG7gWVBQsFgwQiBNUDvgPfA/UDDQQtBB0E5APFA6kDcANFAxUDxwJpAuIBPQGoAFcAQABEAEkAMwD//6P/Iv90/tP9T/3Y/H78P/w8/Hr81/wd/Uj9Zf11/X/9hP18/Wz9TP39/Hz82ftO+8T6JfqG+QD5uPiH+Gn4Uvgy+AT4rPc299b2n/a89lf3JPgY+UT6cftl/Of8E/0k/Sf9DP0U/W39B/6T/tj+Av/R/mT+4v1E/cf8hPy1/Cn9p/3//ST+PP4x/kH+eP6q/vr+e/8BAE0AcwCaAKYAZAC9/+L+JP6y/Y39sP2+/a/9nf1j/RD9pfxU/CL8M/xp/K/8J/2H/Yz9TP1B/TX9IP1V/an92v0U/nj+vf7j/vH+wv58/or+1v43/6H/GgCLAJcAVgDr/5f/gv+3/1MABwGfAToCFAP7A7gEdQUVBqsGQQfhB2UIYwj5BzwHhAbZBTwF0gRdBP0DmgM7A+UCeALxAYIBVgFxAfMBjQINA3ED7gN7BMYE8wQOBRcFEwX8BNYEfATvA48DYgMyA9sCbgIbAuoB8gEKAiACEQL/ARYCQwKDAqQC0AILAzMDewPDA8oDygO6A2sDDgO3AnYCTwL2AXEBAQHBAJsAUQAAAH3/y/47/tn9u/0C/sr+wP+LABQBfgHOAbkBNwGfAB0Ao/82/9D+T/66/Wr9F/2Z/Ev8IPzV+577pvud+077y/qA+lb6VPp0+sP6Z/sY/AD96/2S/gv/Uv+W/6X/dv87//j+FP9F/2X/zf/z/27/3v4k/h79cvwG/NP7vvs6/O/8R/2//db9nP2M/bL9LP6o/vX+gv9RAPIAGAEUAfgAeAASAOn/uf9n/zH/N/9e/0v/v/4j/pr9+fyR/Kz8B/2a/VX+9f5H/2H/Tf88/wv/l/45/jD+Tv5Z/qb+4v7d/r7+mf56/hX+tP2o/b796/0h/mn+xv4H/0f/Nv8J//b+8f4M/wb/GP93/z0AzQClAGoAWgAqAMz/c/9Q/2D/xv9YAMAA2gCuAGEADQAGAAAAOADNAG0B5AEMAi0C/gHwAR8CBgLrATkC8AK2AygEOQQhBPADugNCA4UCzwHBAUYCwQIrA5cDwQPZAw8E3APHA9wDxgMlBKEECwUOBc0E3wQtBBkE2wPGAu0CmQJTAgkCWwPnBH0DeAE0/yT/WgBXAJT+C/yk+6z8hv0J/X374/vF/m0AIQB4/x8ASgFJAWsAo/7+/goBqgGyAO/+BP9LABIBGADX/c/9LP9eAMAAKQDV/+3/7f/g/83+A/6q/iH/BQDbAHEDwQS6AhoAlf0z/jsAOAHP/6/9ev2i/kT/zP3t+0j8jP47/xn/tP5h/ov/+v+//h/9Lf2v/f39B//B/v79Lf7u/s7+p/55/uL94f6t/zAAaQCXABgAgv/1/6//xv9sAG8BxAGYAdwAAQB2/4b+of6R/nb+of7m/hD/U/5k/gv+pf1i/tz+IP/1/xsD7QVxBVcC2f+G/47/Qv9m/uH91v2Z/3IA1v0+/Dj92f2+/Fr7Ivof+oT8a/5U/cX8pf4C/7b9FP2m/Cn9Wf4m/6L+Qf7K/Z/7QPwF/rL9Ov0j/v3+lv7v/7oAoP6W/qkAPgFrAbsBCwH+/yEAGwFFAbUAiQAwAVIC5AHMAJYA6ACQAeMBwwGZAOsAvgK8A2ED4wJQA4oC3QH3ASoBWQD3AGQCLQNAA8gChQHHAMkB6AIAA+kC7gIEAycDhgISAdb/dv/k/50ARQBJ/9D+9v8QARYAWf+b/rL+PgDEADj/9v0L/w0AEQDc/03/df/R/5//ZP/x/qX+RP9pAA8Axf56/uD+M/6A/pX/6v/iALUBggKNAlkDJwRaBHoEzAR5BcIFgweKCDAIfQd7CHYJYAlcCUgIPgevBt8GugUQBbwEOgTrA3MDfgP7AtQCcQLcAuwCRQJvAcYAjQAHAFwALABCALcAkwB/AOkASgGSAL//Ov8S/5f+B/5K/mb+pf4//lj9lvzN+/H7Ovym/NX8Fv1c/RH90fwK/PL7Xfu7+pL6xPoD+/L5pvlu+Zb5UPkT+Tr4/vbw9oD2GfcC9+n2PfaK9VP1T/S486XylPK78gDz5/Kx8rfyDfL78RLy5vJl887zPPSd9Kn1V/YL9zn34/c6+Wb6pvsW/BD9Bf47/kD+af5l/hP+B/81/wz/Nv+t/xAAZQC3ASoCXwLxAmMCjgE+AWoBMwIYASUB/QHZAF0AFgQqDuEZaCpkOrdAQUKcQ6xGMEa3RfRA2DXDKlAfyRZzDwULBAYJBJYGygfgBk8Bbvnl8LjqX+bS4dPa9dGUy2XK380p1M7cz+Mn6zb0VPvh/6oB/QL4A1QH7gtjDoUPgQ76DgASohcoHG8fZyCgHXcZaxX2EIAJiQKM/Gf5OvWF8Hjroufh5YflVOjK6d/quel06aHpFeuk7CLuGvA78tz1mPk//gUBiQQkB9wL1Q+aEG8OqApkCOQEAQTWAQ7/RPtG+H72efSa8+Hw6+927ybvIe0W6o/mdeI+4NreJ+CY4fnhYOHp4u3lnegj7DTu6e/08ZD18fhA/BT/RQFBBfgIGgsZDOgLLQqjCKMHvQbGBaACTf3LAKUNoRptKK06qEo+UelWi1vBXCJZWU9HQMgwXyK/EHsCX/mh8iDux+9T85n0e/Pe77/rh+fZ4nncKdaDztnHwcQbxjvMX9al4fHtU/wNCFEPkhXZGmccMR6gITUj9iAUHVQZRhcGF6QX7xigGrgZbBUqDsEF0vzg8Dzm7uGg4+XfW9vk2zPg9ONc6ZTy8/gY/o/+kP9u/1IAUv+k/3EBvgB+AegBJwSCAtEDiwZXDNYOMgylCOEEfgJQ/Qn8E/pC+XH2r/R783Txxu+N7aDvu+9p75vtsu2o62/nQubi56/rTuzP7XjuVO9H8BfyfPXH98X6ovsX/Ar78fkU+un6s/x6/nkAogC4/4z+ivx3+4r81vs6+3j6dfms96D+CQz3F74nNzrpSgFRt1bmWeZa9labTBBAfjGOI7MRUQbc/dL4cPY1+Df6J/in9XPvJOqq4oPbFtXTz9vJc8LHv97B+shO03nfPe4q/aEJehNxHBsjqSSjJZ8mgyVmIToc4he+FAsTjhNkFQAX4RU3EHAJNQOxAPf5avDv54Xi8t172PrXaNgG3D/fMuWX633yK/hD/Z4CBgSyBsAI5AsKCB4E8QD9ADwDNgPMBN0DeAZzBj4HegXPAiEAd/uW96TxRu2a59Xkg+F+4KHhiuSK5+XnTemJ6ebsP+6j7zbwSu/u7ansUO7m7RnuLPB19NT4efx/AD8EIAcgCTgKtwlgBx4F2wFY/Cb2LfM982ny2fJC9+4FtBRuIncwtEFCUMlUl1mTWJtW10y5QYk0MCXhGOEJFALr+ij5AfgD+Wf6KPfi9EXwEezc4/Tct9fV07jR09BL05PXkd/Y54Dydf4cChgTuxl6IGcjXSUFJZckRyEnHJQZmBdWF98T3hPwE/8SnhBiDCkJywE2/B/z4+p/44/e79sc2M/Y99oF4v7nOO8O+FgBBAl4DOgOOw6GDHAIoQTlAFn/af6J/iwAGwJCBYIHkwt8DI4MMgriBg4CYfqA9C3tXeg348jgwt5N3T/ekN2G3hTg+eOb5ULmGecJ52jnBOgm6iPtHvGg9Cr4IPx0AIoERAh7CZgJXwvvC8cIjQO5///72PbY8SjvOvQ3/9oJkxWrJZ05mkXSTKxRvFPeT7BEfjmOKTIa1Qjn+xLysuvZ6+js6u/g7jvwfPA/8BbtOOdm4ijdT9jG0VTPj9BA1bvbVOa788MAXwuzE9UbKyFEJHQkuyMIH/IWWQ+QCdIEgACJ/10BlAMjBw4L5A1eDggMbQgVAfj6WfNs7Czm3uFm4TDhwedU7hP3uv1YBbELjAzHDc0K5wdnAIL7I/Yp8WrvOO+A8uP1n/1bA4IIvAq3C/EJNwZEAvL84/dA8Z/uRew2627p+eqG7RjuGu8p753wKO8Q7q7s3Oyf7PHqKeuz7ZjxLPVp+jUBKgg1DAEPQhDmEuUR4w6yCuEFCAKz+yz5hPhgArgN1hmEKMY4kUeYTdNU9FVPVLlLzEBsMpMg0g/4/u/zPepU55znnutL7a7twe5n8I7y0O+I7M7njOTQ3KvVKdRj12ncnOFp7Y76QQaiDuMVRRxNHggfXh0yGVYSMwq1BEL/+/3c/uACjwdDCVkL8wvODWgJtQNN/RD3nvBQ6bLlsOKk4/vkLeop8DD4xgCrCJIN9g0EDk4LkweT/hX3b/Bt7VPrtOqx7Q/wo/Q39w78fP04/gn9OfnU84zs9udm4+rhlOA34cnjr+gW7Vzv2/Hn9Bj4xPgK+cX38PWI8sDvSO5K7sDxXPWf+SL9xQLGCJUMFxCGEWETShA8DGwH4AH4/eD+DQrZFC0iQzGBQkFNBlPaWEtZmVQcSes83SpJGAUGF/eo6+Hl5+Xq5a3ouOpe7dnsGu8x8ADuoeot57bjn9zY2Qva5NwY4fvpMPZvAEAKPhOGG5sgjCISIsAe9xhzEEMIwQOUAagAHf/e/3QBXQJGArwBJAGh/Tr6JfY08prsD+g/5Xfk7+U46YHvTPYc/kADpAhmDb8RthI3EfsOcgmVBPD/Cv7F+jj5TflD+Un5Mvko/Lb8dfwq+7X5X/Yx8S7swuU64avdeNx33Krdm9+14WnlN+lr7mvyevYr+tj8MP5W/v//LgDJAOX/sQHWBBYHVAk6C7sOkA0MDjQNNAylCcAKMBFMFgogSCySOx5D/UkYT6VQkk7MR7U+9y9GI20TKgVY+N/wwOut5pPkHeS05nzmnefB5m/lXeSx5Ibj792P2SrXkdgJ227h2+s09/UAzQgXEQIXnRuVHvgeYxwAGa0WIRHoCIoB5v6Q/ej7dvtU+4r5IPVZ8fjty+tG6XHmbeK33gTdJ9694pTpr/Jp+/YDXwq3DgEQBRBbDmAK/gVcAq7/RftG+Ov23PcM+Tb8KgDxAFD/D/20+wb4efUM9O7xf+0S6bvmweQm43/hPOK14yzlf+YX6EjqUu3P8Azz8vVD+tH8Cv3l/fwAOwQDB8YKQw5wEJ4PhQ8RD64N0QvQDVEUmBlrIQ8tUDxVRa5LM1LpVvxWm1G/Sik+ODC2H8YRBQXr+qDyUeuI6MbmcOgK6rzu4u/67ZTsLOwd6irjQd7i2dHXE9bp2I3gLer/87/8FwjmEZYZyh5TIpciAiAHHtYZrhLKC0AHBAOW/lL9Xf2w/KH5+fVQ8lTu8epd5lziwt1n3DHcJ949497p1vF/+UQDGwqeD/0S7BS3EycQZQ3UCXwG4gAB/Mf2bvNO8ozyN/T+9Xv4gvhk93z1MfSP8VHuL+yw6rDpb+cN5gnknuIZ4vDjFec66Kzphuv77GDtOvAS9Sz5EvxI/tAASQMFBskHXApzDOsMxwsgCa8FkgJpBKgJ4hIfIGAwlD3dRjlPclRAV6ZW71OpSoQ9ES6dHY4OqwGc+HvwVur95TvlheUn57vpDOyK7Y/tf+2o6qPm2+A8233XDNag2JLdzOSz7Cr2OAHXDGIYciHqJwIrIiu5J5MiDx3KFf0NGgeFAiz+cfrx99/0+PCa7C7pQuZo41Dgr91n3Krc0N7o4n7pe/CF99r9TwNCCHQLpQ3cDO4LkQtQCr4HAATXAQP/Ovx6+g/7N/xX/LP8UvzN+1f73/vs+vT47vbM8xTwYexi6tzo4Ofb5+DoU+pZ6yjsO+xL7MTsPO5K8E/zD/eQ+Sj8qP6/AWoEqga3CYkK+wn9B3wGhARdA8sG2gw3FS4g/S5tPO9GDVA6WDBd1F2aW5RU80k7O40rXhzHDq0B6vTp6ujihd0c22zd3OD74wvnb+oF7KXpcOWu36bZZdSo0cfSMNdG3YzkD+zx9IL+oQhREpQbEiVcKtIs8y0mLkYqqCOlHGYUUgrz/2X4evG/63/mQ+MH4AHejNym2QfYJ9jg2b3abd9s5tbsvfCM9Kn40vpC/rgB7wQiBg0IYQksCPUFyAMdAikAvP4D/pb+a/7Y/bb8efx4/OD7Kvw//IX8+Pus++z6Gvns9svzju/Z6jrnqeRS42bjreXY6Ifr2+0C8FjxK/Ed8mX12fnh/XoCMQcPCfIHbAbdBWAEYgOqA+4FSwsVE0wd6Si/NJo+nEZwTRBSrFS3VSJU209NSM49MzKdJVYXMQei+ajvc+cW4h7hjOLl4l/jYOWR5+Hojeo865np0uba463gbN3G2wTcbNz83dni9el38X/5jQIQClkPthQjGice5iCzIgMj7R+CG2QWkg8pCEj/YPf78NrtpOwf6zfq2+lc6ejn2Ofd6DXq5+ve7hDxGPO79d32PPZ79Izz1PGW8ZLz+fUC+Jr66v7FARgDXwSYBgQIZwkyC28LuwvgCwoLDgkaB4kFfANiAUUA5f4y/PT4E/YL9BfydPEj8ZTxqfM/9aL1EvX49e/2NvYz9mv3Z/l/+wr/GANfBZQGXwdeBxMFmANkA9MDKQWIBrMI2QlFC0sMiQx1DdYPMBN0FXEYyxqAG4AakBh6FUkRLQ8/DlcN8AuMC6oK5AjOBwsG6wTgA/QC5wFcAYwBQgFXAUcBvgDq/ij9Bvwm+t33OPb/9EDzbfFA73vsOurz6sLs7u2F8R33wfoI+/r6bPvV+ZT3nfd9+Nn4QPoR/N373Poj+2D7tfqz+gL8i/z4+9X8kv4T/9v+/v4w/xP/P/+XAEsCbQMQBMEEJAYbB3sH7AfhCBgJLgiEB44GEgVsAyMCQgFYANoAswHiAC4AUv9//Vn7VPrO+Of1OfSV847ydfC176Lv0O6G7l7v/vBD85D2wfmm/AD/oQFIA3sDBQQgBVwGygaZCLMKvQqFCmUKvAgQBpUFdwasBacEbwSSBH0DoAE7AaQA9P7B/cz+WP/W/hX/RQBAAjICBgLAA5gGSAn5CnANmBDjEtATeRMAEscPTQ4gDv4MPQyNDfoNjgz4CqsJ5Ae+BiYHZwcKB+EGyAYiBd8BMP/t/Hr6ePq6/Pn9xf+aAt0D3AIEAjsBQP5D+7z5Efl498723feX9+P2E/cP91T1f/SJ9kX4Zfgo+bT6I/v4+fL4VPhn96j3kfjd+Fj4kfeP9tn03fLm8JTwnfHB8qb0qfdI+pX7ofwT/bn77PgZ93r2Bfaf9bn1UvZl9i72XPXQ9PL08PXv94D66f1KAQUEwwURBywH6ga7BwcJ8AmICgYMmQxhC0kJbgcXBT4CxQCUAO8AYgFdAqwCXAL5AWEA6/2p+xP7L/vI+qD6m/vu/E398fx4/LL8efzw/G7+JADGAd4CaARTBbYF3wXTBpwIzgnuCr8Mkw3VDM8LJgodCLYGPQbeBQ4GzAa1BtkFkAUNBf8DcwQwBxIKhwsUDswQkBAgDhMMfgqCCH0H/wdUCUALlQ1iD64Pnw9EDx4N3ApDCSoILwecBhcGXwTfAVP+rfrw99H1yfPq8rny2vFQ8NLuxuyM6d3nQuhS6Xjq0exn79jvTO6X7GnrMeqQ6THq8Otu7n/xg/Md9ML0i/XE9a72aPmj/D3/+wG9BFcFSwRMA2oCTgE1AcoCFgXnB0YKPAt3CusHnATSAWMAQQBkASIEBwdmCHAIHgc1BEQByP/A/wMBZwOhBqYIVghSBgcDbv90/En7S/tJ/H3+JgBRAHL/n/7V/Zr8rfsJ/AD9Ov3B/OD7Efp99wr1ZvON8rzylPQl94n5pvsv/Wf9M/zU+k364Prp/G4A+QRdCecLcwwiDFkL3AkjCf4KSQ4lEVIUrhcYGbIY8xdnFg4UXhOOFLMVERckGc4Z5RftFAUSiw5VC+AJ5QhcB60GcwZ1BFsBq/4M/Ab5t/aB9ZH09PPr81PzpfFW8ITvN+547bXutfB18nv0CPbO9Q70hfLV8bTxqPIl9Qf46/ng+rD6Q/mv97/2avbq9kP4WPqE/Br+cP5k/T788fpN+XX4WvmF+1H+8wDLAqIDjAO3Ag8B2v/j/8cA0AFmA4QFxAbwBvEGrAb5BbYF4gXEBZQFHwbSBQkE1QFJ/zf8PPpi+tn6Uft+/Gr92PyJ+xD6FvhK9vz16fYP+Cv5+fke+ln5z/eA9iT2t/Yl+Hj6x/1pADUCtwONBEgEZAPyAyUFqwVMBucHCwnJCIUIvgheCGEHhQcUCEIIfQndC0gNOw0+DcUMegsyCyMMcQyYDDMO5A7yDMkKNAklB4AFTAVoBTQF8AVeBkEFYwSgBAgFJgXqBXsGzQULBeYEJgQNA/UC3gItAsQBGgJzAfT/8f5Z/TL7e/l1+M/3Bfgl+Sn5RPgO+CP3MPTq8KHv8+5Y7nHvzPFl8yv0OvVP9c706vRt9UP1APYL+AD5Vflm+pv7Avvb+nz86v2a/kP/sv+K/oH8t/qN+MT2vvaU9wL5a/se/uH/YQAIACf/pP5G/0QAAgFvAl0E1wTyArUAFv9U/X/8rf1WALUDlwdCCmwKhwkWCHQFrAKtAcUBvAExA14FsgUOBS0EZwE0/er63vpV+x/9FwCoAYABrACp/s/7X/q2+9X9OgC0AxEGjwU4A9EAHP4b/Ez83v3r/2gCRwQyBC0DLwIqAacAKQLnBOwHqAuwDxoS5hGPEAsOmArcByEHQgiTCl4OIRLzEjIRIQ6fCZAFAwS7BLQGIwqUDRkObQwCCocGVQNCAtUC7wNUBdgGxQbSBAMCqv7x+8f6kfrX+rj8TP88AJT/BP7E+m32JvM18ZPvU+/78MLxbPDz7c/q8OY15JHj8eO35cXpNe6C8HTx1/F98QfwS+9o8GLyGfXj9wf66vpT+2X7IPt5+2P9zwBtBNwHNAoUCzgKMAi4BXUDFwOEBKsGpAhtCjwLjgobCa0HXwa0BakGqAfmB7sHAgdOBVMD1AEiAKv+4f07/dH8dP3B/tr/1wAYATcAx/6j/Zj82fub/DL+j/9lAGoBkwGjAF8AKAERAgED/QRKBsQFeQQ1A3oBHgCbAMwB5wLDA/wDBwPBAcEAU/8u/kr+E//m/5cBjQNQBHME8QTOBBMEbgSwBegG9wjtC/wNAw/AD2IPSw2xCywLsgrMCkYM0Q2yDTkNYgyIClEIwgb6BWoFqgVRBhIGyQRqA1oBEv/2/db90P0R/mr/qP9Y/u78cPtf+fv23fUZ9oj2wvbx9vr25vZ89r31TPWx9dv23Pe/+JX5hPk8+LX2SvUi8z7xcfEr8xL1C/ch+br6nPuG+zn6HPn1+FD5+vnt+vn7Lfy/+1j7NfrK+Nv4Kvo1+9L7e/y4/KH8M/3M/Wj+agAdA64E+QQhBcIEuQOeA1QEmwTZBNMFUwbbBRYFAgTmAvABSgHRAI8A5gCZAQEC/AFWASIAoP4M/dz78fp7+0L9jf7e/m7+y/1t/K76PfqO+8v9bwB/AmADzwINATn/rP3d/LP89P3Q/+cAhAHRATcBjP9c/tT93P3Z/j0BfQOxBM8FcwbkBboE2gRiBVwGzAjtCwsOIw6jDToMBgrLCHcJHQv/DPQO9w9/DwsOVwxgCvAJJgt6DKUNrQ5HD1kO5AzKCyIKYQiJBx8HcgZpBgMH4gYJBvcE8gL1/9f93/xw/Mn8av3q/Mb6offH8+fvQe1w7PrsHO7U7pLufu0A7Lvq8+kA6jTrvuyB7Zrtgu0V7ffsJO4r8Dvy3/MC9br1+vVv9lH3YPjr+BD5PPmh+E/4d/mn+8T95P/fAY0CBQIwARgB4QE/A14EhQWaBskGSwbiBSsGrAY+B7cHCQiWB1gGigUaBa4EHAS5AxgDtQHo/1n+9f37/cb9B/4s/8n/Mf8Y/5X/Vv+N/pL+zP4t/mn9xPxU/Kr8bv0N/jP/eQCfAP3/LP+w/QD84/vs/OL9A/+MAFwBPgFEAdAA5P/G/68AjAHeAm4FUQfcB5cIFQlZCL8H2QjjCsIMag/yEeMSWROzE24T/RJIE3wTIROUEvQQdg62DD4MKQxfDCIN/w04DpwNogx4CyQKzgiqB4gGpgUVBbIEagS3A70COgE6/xv9t/qJ+GH3vPZ/9a70qfQv9ArzofKw8szxF/Eu8UbxxvAz8PrvT++g7qHuoO6f7hrvau8x79ju2O4d7wfw9fFj9MD2OPhZ+I33h/aO9QD1pfUv93v4ffl0+hH7Wvsj/I79yP7t/2YAIQDk/xQATAFDAwEFpQWSBfUEkwM9Au4BsQLyAzoFowXEBI0DrwL3AfEBRwPYBDAFjwTtAvD/m/1E/d/9Nf9iAR4DTgOpAsEBIwDA/h/+wv2D/aH9O/4G/8QA8gLQAxMDpwFP/wH8nvrm+8f9JgDNAlsDegH5/oP82vqf+wP+4P+iAd4CWAJyAcwBYQObBHAF8wYSCB8IUgjICSYLiAvxC7ELZgqwCX8KBQweDn4QSxHxD1gODQ2pC/QLeg4pEXISUxNaE1wREw+pDfIMcQy7DK8NtQ3xDEcMKQsdCcYGQQRFAfH+Kv7B/Zb9m/1//B/6SvdX9C3xBO/T7qXvf/Bg8STy6PG48BXwBPAv8HjxYPOJ9Fn0pvNf8u3vK+5R7j3vD/C38Qr0OPWN9eL1mvXX9LH04/RJ9cv2JvlD+6b8Zv0F/dr77fqd+hr7H/2dAJUDIAUrBf0DOQLeAK4AlQH/A50G8gcYCEEHIwXMAqwBMwEbAY8BIwLmASEB8P9T/jb9hPzw+9P7nfyp/bf+xv9ZACIAIf/p/c/8LvxZ/DT9ff7Y/yYAwv7h/LT7xPod+kj7ff3E/ij/9f4U/sv8yftT+5/77vxr/gwASgLtAzkEFQQQBJUD+QKAA8kEVQb6B3IJvwo9C38LFAzpDAwObA/ZEDMRLBFQEW8QqA84EOYQxRCOEKcQMhAaECIRgBHQEZ4SqxJcESgQXBALEJoPog+sDmoM7glZCKQGTAVZBf0EVgMJAUT+3Pri9/H2oPYG9uj1GPU480bxQvCf7zXv5O/d77vuq+3S7ErsZuzM7TjvC/CO8EPwJvBM8HbwE/Gb8bPxVfEk8TnxqvEx83v0FfWh9Vb1dfQT9ND0Ifbe90b6Ovx6/Wb+4v7M/sr+fP/O/2v/hv9GABQB9QFPAywEqgNfAqIAZv9V/xgAGQHEAQYCDwEg/8v9hv38/az+Rv9h/5f+gv2l/B38g/zZ/Uf/9P8VAPP/Yv8M/xT/z/55/pT+n/6g/lj/OwDKAGUBqwHrAND/mP/u/0YA5wCpAVQCpgLqAosDSgQ9BeEFsQVoBZcFPQYnB4kIGAr3CmYLHwsLClkJ1wjkBzgHuQfFCLoJZgtlDbkOUA8KDxIOAw2ODPQMGA5jDyQQnxClEEMQLxBxEBoRVxLHExYUFhMOEscQaw+JDt4Nmg18DdwMJwscCaAHhgXXAp0A2f5S/ev7Dvsf+mH4UfYS9OPxFfD97r3u8e5P71Pv3O4S7sLsHOsW6l3qFOuk61bs9Oz37Izstuwm7V/tTO5r73Pvye6i7uLuDO/w71DxYPJ085D0rPXO9sL3YvjO+ED5pfm5+sv89/6wALMB3QEKAbz/Kf/+/6MB/wIeBOwEewQpAzsCQAKaAukCOgPLAsoBywA6AEgAMgAsAFAA9/9i/zr/xP9qAOYAFwFkAKj/bv+a//8A/wKqA9UCogGo/x79Tvyb/Uj/igCTAfgBTQFoABEANQDHALEBigLOAsICBQN4AygEIwW9BdwFFgYgBuUFPgYBBx0HxgZhBmwFhwTNBM4FzAbRB2cIBwhyB0kHxAcPCZIKGQxvDdENcw0VDfAMpwyLDMQMmQydDHANZQ4ZD58PcQ8SDlYM+grsCeAJ+wr8C08MJwz7CpsIjwaCBZ8EtgP6AuMBGADh/dX7ffqd+dv4v/dp9kT1ufPO8Xrw6O9H72fu1u0z7ZvszOwj7TjtOO1T7Wvtle1K7kzvnfDa8WrypPKc8oDysPIj87nzPPTk9Hn1pfVG9of36vhc+q77SfwZ/Lj7k/s1/H79pf6r/5wA7ACvANcA2wHeAoMD2QOYAy0DzAIKA3kEDgbpBjIH7AbsBcoEnAQcBXcFngUkBfYDvwK+AT8BqwHYAeYAsf9Q/rH89Pvp/J7+vv/7/3//h/5o/af83fyy/TT+Vv5E/tr9xf23/gYAGwG1AcABXAEfAesBTwOnBJAFkQWcBE0DuwL8AskDnQTLBIwElwNeAh0C3gI8BPEE6QS4BBAEdwOKA8UEJAa/Bi4H7gZNBpQGwQddCTELAg3VDXMNmQyuC1YLRQthC+ALRQyUDL4MxQyqDDUMYwtOCt4JcAoNC+ULAQ0kDboLfgk0B98EaAN8A00EDwVIBXUEHAKJ/vH6Hfga9r70FfTA857ypvBr7kDsVOoi6Tbp/OkW66rsW+5V767v/e+J76nugO6h7oPvsPFI9Fj2iPfC93X22vR39OT0I/Z9+CH7m/yY/Mb7tfq3+WT5Uvo2/JH+zAAJAjcCfgFmAGn/Pv7Z/a7+AAC/AYYDWgQkBH8DgAKCAZcBEwP9BMIGKgh0CHEHnwXDA3cCiQE1AagB+gFOAqcCRQJYAT8Aof6A/A772fp2+/X8Lv+xAGQAcf69+335r/iu+Vb8zv/3AVgBz/4M/L75pfjL+dv8HAAIApkCXwJCAfj/0/+tAKsBhAKPA14E9AQABoUGKAZCBQ8E9QI9Av0C0AR1BoMHHAdHBSEDlgEZAe4BLwSuBo4ImQmsCREJVgiICH4JiAoADNANQQ/SD/IPlA8YDn4Mfgs8Cx8MwQ3hD74R/xFxEC0OLQxzCpsJdwppDMgNkg0rDG8JaQXWAdn/G/8f/8T/GgCk/rz7p/hI9fTxAPCb79bvV/Aa8RTxZfDE79buCu467lPvqPBS8in0TvWq9TL1SvRW84fy3PLy81T1QffY+Hr5Qvni+EX4PvcB9/H3Wfnd+qj8fP5H/7L+5v1O/ZH8jPwv/lwANQIABM4ENgT3AokBHADY/z8BygJ1BEcGZgYCBT8DCAEE/yP+u/46AOQBSwPbAwkDrwD1/fj7dvrm+Tf7N/3j/uL/kP/h/TL7Z/iL9q32uPi0+9f+AwEBAe/+Ffxg+bH3gffl+Ir7Tv4GAG8A/f/t/pD95fxL/XT+bACmAmQEVQU/BRsEjQJQAbkAMgEaA3QFngauBvsFKwRkAYb/Q/+D/58AqgLTBBUGywZoB+AGegYtB9EHBQmYC3cOGxAaEVcSKRLiEJoPGA4uDQINnQ1YD5AR9hJ0EnYQlA0mCpsHJgcYCegLyw1KDtQMzwlABvQD1QMLBa4GcwegBhoElACY/fH7TPvx+lb6Xfno90X2bvUQ9V30KfNL8TTvlu0x7XbuwPAy84z0SPQz88zx2vAt8QDzg/XK9175lvnq+D/4nfdy9zf4JPnG+Zb61vsb/Uz+ef8dACkAcP+5/iP/XQDLAS4DlgTVBGsDHQLTAdIB9gH2AjkEXARcA+sBqADY/4T/EgB1AYMClwJbAtUB3wDb/wD/V/6e/QT9t/zJ/DL9Pv1e/Kv6aPgw9sr06vRh9h/4sPmL+jb6xvj89iL2hPbd9/H5S/wG/jL+KP2++5P6IfoM+0v9aP/3AFoBOgDw/sL98vwt/cj+5QCfAkEE9wSvBE4EJwMjAhECuQHvAV0D5wR4BbUFygUbBEMCwgEHArYDqAaqCbcLiQxyDMALuwuzDN4Nhg8AETASCRNOE4UT+hLfEY4QPw9qDoAO0Q++EMQQoBByD1cN4QtoC5QLIgwPDbENOA0SDF4KWwg1Bq8E+AMvA7ECmwKCAkgBNf8N/WT6kffs9JrzjfOB80bznPKt8UbwcO5Y7RztWe337fLu7/BP87T0JPUX9ar01PPK84L1Gfjf+qr85vz9+xf6RfiC92b4B/rH+479HP6u/dX83vsX+0T7i/yn/a7+LgBUAc0BLQLjAdIAcv8z/sj9VP6i/xYBFwLgAUkAff4V/Xf8Qv3h/lsAxAAFAJP+rvzg+tz5IPrO+jz7WPsx+3r62fiV9133M/fZ9h33nvfB9+v3sPiM+UP6wvqe+oT6qfq++rr6X/s9/IL86vxy/VX92Pyh/D/8FPzc/AH+Mv++ALMB7wElAvMB7AGrAtADwwTQBe4GcwfHByAIPghmCFUICggPCGAI/AjPCUgLlAxeDXcOog/TEJISHRV9F4AZ8BrRG34c9BxZHfsdcR5IHcYbpBrpGFUXLhYsFAIRUQ1ECXYFygIqAd7+Hfz++KP0ifB57crr3Opi6kHqUemj6HfoqejY6YTrsuw07aztT+7V7zbyCvWg90H5ifkm+Wz5QPrW+wH+eQCYAboB0wGwAaYC/AN/BYgGZAdxBwAGtwW1Ba8ERgQ1BBcDvwFIAHX+h/xH+7H54fe+92D3+/Zr9wX4XviH+Lv4XPge+Hj4vPia+f76uvvt+3v7C/uN+oz65vpj+4z8rPxO/Az87vsJ/I38Nf2r/Qb+8f0q/vb+4P/P/yv/lf1T+6X5hPjU+Dz6g/uN+3z62/jV9pD1Ava69/n58vuG/Sr+/v2f/ZL82vvE+zr82vyJ/l8A0ACgAKr/PP7s/D/9nP6GAE4CPAOsAooB0gA5ADcBPQLEA/0DMwR5BMADWAQVBIsEzAMHA6YCQgLtAlwDYgRfBBMECQMSA9cDYQbLCWkNFBK4FEkY9hnxHG8g5SLEJl0pGyzyK7MrvCpKKDMmUCO2H3EbaxZcD2kJRgOa/VD45PNw71XpBeVk4JndFdzh28LcHd343U7eCeDn4rrmiOu18O/0RPgq+6H9DgAsAoYEIwasB5kI6wibCUYJ3AffBYADrwGSALgAxwFDAiICLgAe/kL8P/tT/ED+MQHDAvoCYwI8AckAtQB5AdcCVAOCAj8BGQCu/hX94vzq/Iv8Hvzn+g36r/lY+UT5tPkf+jz5Bfht98X2f/aX9o33c/gL+Jn3//ZU9hf2a/YP95f32Pel9x/3OPez9/z3OPjh9y/37fVN9YT1HPYK96/3+vcZ92H2IfY49j/38Pis+ir8jP1//i7/tv+mAOwAmwHPAkcDgwRDBTkFSQTvAn8BAwDu/1UA/ACpAZIBHAGSALr/7/+yAE0BJQIuA0MEbASWBW0G3AZ7BwYHvwZkBhkG0AURBu0FTwWYBEQErANbA+oEgAZaCW8MvBAGFTgZXh5+IssmsSkMLc0vpTHLMukyaDJqLworiSXrH9oY1xE7C7AEsP2O9ejuseda4Q/cLdgt1vDUu9Q61bDXhtr13bjiaOic7XbyA/jZ/HMB1QXTCWwMHw7/Dh0OdgxfCoUILwbtA7sB6v43/Cz5OPYS9LnyAPJK8k/zwPST9tD4cvta/pcB+gSECC4LWw00D44QRxF7EXgRdA8aDGkIjwTbANn9/Puo+kr48/SX8QPu1OsZ627s2u7P8EjyZfJ98qny7PNX9gD5YftL/J38PfyV+5X7CvxT/ML7afqr+Bb3SfYh9lr2rfYf9o305vIH8gDyN/ML9dr2FPgU+G34z/jY+QD8MP5PAOIBKAPIA0wEUwVUBngGGAY7BUgEdgNoAjsCcgGsAIv+9PuJ+tf4IvmO+Sj7D/zl+6T8FPw6/db+IQEmBCsGlQcoCIwIQwh7CF0JCAp/CRQJ9wezBU4E6QJYAtYAJwBU/0T+df81APMCtAUbCSYMvg5IEw4X5hzpIoMo7CyzL+4wUDCWL7EtIyxIKTMliR9DGR0SyQkfAhf6FvMU7DfnM+NJ4NzevtyZ20/a6NrQ3A7hYeea7bDzCfiL+1D+9QCfA0oH7Aq2DFwNxgxqCyQJ/Qb7BHsDuwEn/879xPwG/AL7n/oH+2P6hPpz++n8DP57/2cBHwPyBH4GSQg8CcUJaQlLCXYJbgnoCUIJmgcuBH4A2vwJ+ln4lvdA94z1sfN/8ervA+/I7zLxovIR9F30QvVe9l34Pvod/ND9mv3Q/Pr7Zfso+8P6NvpT+Qj4j/aY9EbzoPIM8kjx9PBr8eXx1/LL81L12vag91D4a/m9+tf7bv17/1gBRQLEAhYDkwJUAbIA7QBkAQQCcwJwAmEBXP8A/fL73PuY+x/8A/3F/Gj7cfrH+R35SfiS+CP5AfnJ+XL6FvxM/T3+lP5e/rP+Uv4lANYBVASbBpIHighmB4wG4gRuBGIEgASFBiQHbgc9BqAEvgJeAcACXwViCgEQdhWuGdocOyBjI7sncSwjMRo0cDUvNIMxTy4sKQwkNx3lFdkMkwMl/Cz1s+/B6f3k2t932vrWqtX/1mjZld024uLmWeuz73r0v/m6/vQCzwexC7wOThEbE0MTFBFeDg0LggdWBVoExQM6ArL/yvxv+fT2r/Ui9iP4h/nF+d75lPlY+WL5jvoX/XP+rf8iAOYAKwGKAQoEdwUhB9MGzwV6BLgBZQBNAH4BqwFzAF3+Dfv89kDzmvHK8kr0YfU89gr25vTz8tbyhvTb9jn5O/tN/EH8o/vP+nz6XfqU+Sn4afdz9of1C/Wi9Eb0ZPNv8mDyd/MN9er20Ph++hT7I/ub++/8e/6q/6YA1wBwAK//4P/0AAwCTgLSAaoAhP4A/d/8Kf5x/+7/+P/J/qn89voD+6787v3d/nz/iP7s/DL7LfvW+3j8kv3R/R7+Gf20/JL9xv5NAI0BIQMLBLQEMgXoBl0IbwkgCj8KXgrSCEoIRwcxBzwHLQZlBroEYgTfA+IDtgaMCVUOSBJhFzwcLR9+I80mcisjL64x7jNBM+4wyiuOJcke1RayDm0HLABR+K7wt+kX46XccNl916/Xrdmd3NLhIuYT6+jvivVB+1f/YwQuCTYNdw/RELwRwA8hDDgIfARMAaL+RP0q/C76RPdo9D3yBfGk8afzqvYR+R36z/rP+/j8mv2e/qf/K/8B/j79x/2e/yABugLSAggCnAAr/yIB/wNaCKILsgwkDIsIcwW2AssBzwEdAXIApf12+VT1v/G577rt9uyd7aXtxO7m78Px1POH9F31CfYG97b3nPh7+iH78/ru+WH4lffE9cP0D/UZ9YH1G/Z/9xj5+vlZ+sr63/vJ/Mb9bwBwAlUDPAPjAQoBcv/2/nL/DQCCAGf/ZP5c/YL8avwk/TT+iP5v/mb+Sf5k/nL+qf4N/3L+1v3n/QX+X/5f/ij+sf1+/PP8IP4DAIsCFgQsBWQEBQSvA/wD7gXsBrcI9wgHCNoG/ASsBL4DbgNoA58CVwL9AI0ABwC0/vb9Z/yg/Bz9zP5VAnYFZAoxDqoRCRYiG7gglSapLfAzyDhTOwA7aji/M9wrLSSlHG0UjwyUA2X7YfFf58ve2NeJ1ALTKNUh2bPdw+I/5+rsLPJK9/z8JQIsB4kK8QxZDrQN8wvbCPkEGgEI/rP7J/qD+bL5X/mi+Pb3uvcA+Sb6/PxzAHADWgWxBJgDXwHa/hX8PPpS+WT31fVw9K/z9vPW9HL2cviS+rP8P/92A5cIsw3DEVUTLRK3DsUKmwf5BVQFFAQmATf8KPbD8D/tsuyZ7tvwxfLh86b02/Vb+AH8VP+FAe8BqQBm/9j+zf6k/sP9FPsu9qnxku4q7unvcvK79HX1e/Vg9Wb3gvu2AEIFqAc3CMMGqQVBBbgG3wg3CcsHtQPR/sD60fhr+YH7nv3z/UD82fmc9/v2Zfjk+oj9af4s/m38DfoT+TX5d/rY+4P82vxs/AT8QPxt/WQAnwGwAhMD5AGAASoAHwHvATECCwKXAMb/if0P/VH9GP5v/zMArQE/ArgCSQOnA+oDhwPPAvwCGAN6Ao8CxgHv/yv+m/wU/Zf+TAL6BnQLrBCEFJYZiR73I7opAC52Mc0xBDFWLq8pEyTLHAgVEwwlAzr7N/Ru7uLpzuYU5UTkMeX65x7rge+t8yv3h/rq/BH/4wCvAUYB/v+y/Uz7M/ks+O335PdM+Db5evq8+87+TwLFBQUJ9gpUDBkM2AoeCQIHbgS2AI78JPhN85buPuuM6XXpXOp57K/vyvJf9on6yv9vBc4Kgw+WErwTSBKGD5YM0gltB0cFNgNDALr8h/k092f24/ZU+LX6YPxb/Sn+Mf4V/oP95vz1+9L6Zfnp9932+vR/8w/yPvFI8RryvPS397z6Rv1q/1UBngL3A5YFwgYHBwoGkgQPA6kBggAm/yD+IvyP+Rn3sfXs9eH22/hj+lb7E/vV+ev4wfgL+o/7Ef0B/qH9lfyc+5j7Q/xA/oYA0QHtAvgCwAJvAg4C1QFHAUYAx/6F/Vr8wvtu+jn5tveR9Q309fL38031rvfK+PP4svgL9473u/cv+rP8Qf5q/7H+zv5Y/SD+7v4RAOYBcQKfBGIFBAe+BwEJyAm0CM8IfAjoCRAKwQqBC+MKZApHCSALsw1wEfwVCxtYIO4jPSiRK28uKS+gLQIrLCbmIOwaeBX1DmMHp/+l97XwBuvV6PfoVupz7N3ugPGN8yH2ivmC/dgA5AIKBGoESAOPAd3/C/5i/Kv6A/rW+SP6gfpJ+wD8H/we/dz9If/L/6b/Cv8J/bL6xffW9TH0ovJt8Vzwb/AU8ZnzCPc7+5P/dgJnBEEFPAahB1QJcgpnCrkIQQXkAFT8N/lh9wb3wved+L/5Hfv4/O3+nAEOBCYGpAfJB9wHdgdxBnMEzQFB/i/6dfZ08xXyIfHg8CDxTvGa8RLysPO29eH3bfmH+lX7EPsE+/D65vpb+hn5/Pfk9v31zfXD9g74LvkM+pz6WPtb/IX95P76/1cADQCN/wH/YP5B/hj+v/3b/OH75fr5+f/5m/ld+Xv4eveO9rb1b/V69HD0QfM48kXxl/BB8bDxEPML82vzmvIQ8qvyV/NJ9qz3lvmy+Wv5RflC+e/7G/5kAmkEYwZoB+0GGAgKCHwKaQu0DIgMKQs1CpwH0AedBtwGSgYzBYkEjwLGAocClQRZBasFFwauBX4GigYfCXELXA4fEXIT6xbsGYceIiMOKIIrZS0/LnMtHSy0KQgnkyIhHHEUpQx1Bav/zfs6+cX3gPWn87PyafOu9e74Qv1FAOkBTgFBAFn/n/7h/vf+Of/v/U78QPtj+3b9dwBEBNsGHAjuB4EHHQfXBoMHfgfxBcgBcPzt9jfyVe/B7lfwYvIq9Dz1gvYa+Eb6Tv2SAIEDQwWRBZ8EXAP3AZMAYf/q/aH8nftj+wz8b/3t/0gCHQQWBYIFTwWNBF4DJwEL/5z8G/rs91D2UPV69AD0svMv9Cz1J/fP+Vn8i/6V/47/Gf+k/gf+9/3o/fj8bPtj+af3yPaJ9iz3WPix+EH4aPcI9tT0JPT68wH0TfOm8bHvKe5D7YHtse6u8HPy6PKH8vfx4vH/8Rbzy/QA9jH2hPV59GrzLvNy81n1nveC+f36APxA/VX9l/2g/XT9zvvV+Sj4xvXX9K7z5PMV9Br0OvRW9EP18fVV+LP6Cv64AKYCyARwBTUGTwarB3cJEAvrDP8OJxEBEp0SjRJeEkkS9xEgEmQStBFjEEsObgt+CP8F3ARUBEwEFAQrBJUEhgTQBboHaArSDH8O5A/eEDMTbBVTGfYcSyAkIxgkyyVyJiEoJCk0Kd8mjiL2HagX0RJNDj0LVwjfBLEBof6K/DX7JvtH+5P7/fqV+vP5afmA+R75ifiw9l71C/RA9Ov1d/g6/A3/WQLiBJgGQwi0Cc8KUAqvCI4GrwM0ALb87fnJ97f1QPRR85ry2vG78c7y7PM49fr2ZPg7+Yf5N/lZ+cX5vfo2/Gb9tf5D/wwAwgDXAZQD/wPJA/MBtP+7/Vn7zfpx+lT7AvzV+7T89Pxc/pr+Vf+y/+T+Fv58/O/7+fmg9+z0nvGf7nXsCezy7FLur+++8Jnxt/EZ8pHzF/Xu9W/1JPUf8y7xffDB8G7x1fGK8lzy2fIv83n0a/ZB+Iv5y/nm+Gz3HPes96T5yvt0/rz/1/9M/9r9Gv7j/qIAEALhAu8CRAHg/0n+Z/2e/bX9xv3V/XH+Cv/K/1UBPQIeAm4Bef/K/Q39IP37/Vv+LP+B/qj9Rf0E/WD+Xf8MAdQC0wMRBIUE6gSsA2EC9gFpAawBjgNhBeoHlwgBCE0HEAZeBuoGAwr/C0cMnAxGC7AKVQkBCnkLSAzBDBAMPAxVDFQNzQ7RD2YP4Q0MDBULJwz3D5QVDxs4IMoisyOFIysj3CNEJVwmzCWGIxwfqRkHFI8PkQzZCiQK5QljCUcINwe6BekD+AAC/mX7XvgE9rj0YfTX8xrzyPGV8FzvYO4d7xrxCPRu9u74Z/o8+jD5zffS9m/1I/Xu9SX3pPjq+f366vrT+er4KPjx90/4gPna+p36O/nR9rjzH/HU79jwlvOm9r/58Pu0/L37n/oB+nD5nPmf+dj5uPnz+Jv4Lvjj97P3qfd7+Nr41Pql/SQAjwI8AgcBYv3c+VP3//WS92b4Hvpj+u/4Rfd/9Vr1xvWG9mf3EveO9nz1WPSj9Bv0YvM78mrx9fBE8fPzRfdK+qn75foq+UD3oPWW9jv5cfzu/tf/av97/TL8EfwG/vYAqQPXBfIGXgZrBKoCZQFJAIP/bP9T/mP9I/02/S/+Tf/2/0v/HP6l/GT7Hvw4/pwAnwLrAnsB+P4R/RT9Lf+oAqUFUwdKB4cFPQMGArYBUQLUApsCBQOPA5MEJQYjCD8J9QcIB0IG3AbiCaAMaRBHEYcPxwwNCX8IxwhMCw4OHg8KD8sMxwvaCqAKdwt/C7oL1gp5CqkLsQxrDoYOTQ0HC0gIjQdTCIMLXQ8SEv8SYhJrETkR8xLXFdQZ0B1cH3cebRz0GOsUTBE4Dv4LAAqxCMgHkAe9BxkHaQZkBC8B0v1M+8D5nfjK+Lj4effT9Bfys++O7ofvHfLA9QD4cvhw98/1rfOZ8lnz1PQg9gD3jve99yD4N/ju+Gf5MPlb+ET4Rfkg+gf8Vv35/Gv7efmI9xn3Hvid+Z/7efwM/DH6dPhV9zf2xvW99Vf20fYP9773hPiM+Kj32fac9ln3Rvnx+0P+sv87/0791/um+pb6pfsL/Yj9Jv22/Of7V/u8+sr5Q/iT9qL0dfPy82j1Qvct+Lf3E/YI9JTyrPJw9MP2Nvja+AX48PUz9FfzI/Sp9fD38vkf+5L7Nfsr+8f6UfoO+pD6YPsJ/Lr9rf+IAagCAgOpAvQAD/+b/Yn9MP60/q7/IABD/2z9RPwm/AX9Af+DAewD2ARVBDwDRQKwAXsBUwJXAwoEigTOBIkFWwUnBHUChAAc/xD+L/+LAX0DtARLBMgCaADo/tz+cABlA8sFrQfoCFQJzQhaCGkIQwi/CFAJbArWC+4Mtw1dDS4MFgrMB0EGEwY5B2MJewudDDEMEQrwBwsGWgUYBhcIjAqaCysMwQuyCn0JhghwCe4KJg0WEJ4SIhWGFsMWcRYNFS8ToxFREcARXRItEzUT6hEJD9sLhwmJCI4JjQtUDY0NOAt5BiABzvwB+iz5XPl4+fH4/feb9nr1IvWo9L/z9vEM74HsPuzK7ULwA/OZ9PTzofFx7zXvPfIU9+T7Of+v//r8qPhU9dfzW/WU+Mn7fP5q/0b/gP6I/a38wPv/+k364Plq+sD7Dv27/Rj9bvt5+cv32fZR9yf5ofpG++H6ePk49z30svLg8lH0z/b0+VX9+f5e/x3/Rf7o/Bb7NfpY+ib77fsc/VT+gv3t+h34sPU79Jz02/ag+dv6IPqx99H0FvL67y7w+/FK9GH26Pfk+NH47/eP9lz1pvRJ9Bz1aPdf+rv8VP6z/qn9YPxo+/r7Df7oAGsDuwSyBP0C+wBx/8H+4P6m//AAYALyAxUFdAV/BBACnP5u+wD62vq2/U8BZgRkBdID6gAN/pX8BP0a/+QB3gMtBB0DWAGZ/0n+Vv4bAPEB2QPABRcHrQdMBxIHegamBdUEiwT+BTIIowoBDaEOKw6YC08IpAX+BLIG7gk/DZQPKw9EDKIIvQUEBW0Gjgl6DCMOAA6qCwgJ4gawBfcFCgduCKQJ1QrLCy8MhAwQDO0K+gnaCScLzQ1FEecT1BSGE6sQBA52DIEMAQ6JEKoSpxOkE+0S5RFhEL0OOQ1pDDYMPQygDJEMZgttCBgEBwBA/Rr8kPw4/or/EP9Z/Fv4/fM08DTuWu5f8JzyWfQW9Tv0GvKx7yXugO3s7YLv3vG484H0afS/88LyjfFd8VvyOfRm9qb4U/pc+uL4IPZg83Lx7vA68u/0zvdW+X35d/i99uH09fOx9H/2pPhx+vL7v/xd/Jb79Pq8+rH6Bvtd/CT+9/9iAeUB/QBp/kT7pfh/90H4mPpF/Xz+o/0C+w/4Ifa29Qn3/via+hn7bfqE+bL4Hfin9wb3Y/Y19qP2C/jT+Rb7cvtS+lr4gvbU9ZL2kfgi++v8m/3y/Iz7U/rY+W365vsH/vf/7QAgATcBYAGBAdcBhQJEA3QDOAONA2MELQWiBccFOwX7A1IDuAMEBaYGJAiuCAQIxQZzBcYEuQQvBYIFlgVFBdkE6AQxBbwFlAWgBAkDXwGGAMYASwJPBDkG1QYBBmcE5QLyAo4ETQevCUQK6ghLBtoDhAIgAy4FAQe3BzcHRgb8Bc0GYQhAClQLpgqqCOYGtAbqB+0J+QveDMULNAnSBoIFngXzBr0IGgruCZYIRAeWBgkHHAg7CUAK1QobC7QL2Aw8DhgP3Q7bDUgMzAslDS8PhxEiEzkTphEcDzENywxRDbgNCQ77DdAMyQrLCAMHUQWUA9cBKgBe/ur8gfvf+UP43/XJ8qrvyuzX6lPq6uq46x/scuuO6RTnZOWe5UfnzOka7ILtru277EnsAO1m7sXv6vC48f/xPPIs88T0BfYv9l71RvR286bzKPWd9wH67Ppn+in5wvcv98v3F/nV+hD8OfzM+wX7H/o/+fz4dPku+h/7W/yQ/ZP+8/55/of9Yfwq/OD8n/5oAXQDHQTkAnUARP4U/aH9ef9/AYMC2AECABD+oPwH/EL8DP19/XL9vP0F/oT+3v5i/lz9Hvxg+0j7jPxT/xoCzAOwA/UBuf/g/SP9d/6FAWME2AV8BXQD6QDO/ur98P4PAd0CrANzA6kClgHYAP4AQgFvAZcBbwGVAZkC+AMNBXoFfASUAqcAMv9i/zsBjQMaBQsFKAMfAJD9ovxh/V//lwG9ArQClwELADf/Zv88ADwBKQJwAlICdAKxAi0DsAPNA3cDrwJaAuECpAO8BPYFHQeTB1UHaAdTB+0G/Ab2BwgJmwkdChgKEQl8B/UFEgVWBSEG5wZaBwgH3AVpBKEDdAMfBGMFlAYfB9MGdAYRBjQGUAclCQULPwywDIMMZQynDNYNyA94EQoSLBHBD2sO6Q3XDkcQCRFyECMO9ApdCDQHVwf0B/MHGga7AsL+IPs3+eP4U/k2+bH3M/W98a3uDu1p7Aft6O3y7Unt/Ot26qHpBuoO6zTs1Oxd7HLru+q76t/r/O0n8AHxhvCv7+fuXu+k8Wj0o/a090T3OPYJ9hH3J/ny++X9Ev5b/cf8e/wK/e/+xgCEAZIBDAF3AEgAvQAsAnEDsQNTA7UCsAHMAAcB0gGQAjkDRANkAoABNQFlAbMBsQFQAW4ASv88/mb+sf+DAMoATQDF/vX8B/wD/KL87f3D/oX+o/1i/Cj7xPo4+xH8svyh/DP8mfvy+qz6RPvG+5r7gftf+3T7Cvxb/VD/fwBSAGD/lP56/ib/GAFwA3wEPAQlAxgCFAL7AmAEhAV1BTAE3AJ4AgcDIgQ1BWoFdAS1AiQB9ADqAQ4DAQRMBHkD+wHEAGEAvgDUATIDrwOFAwcDFAKmAfsBogKUA1IELQSCA/ACoAIYAzUEGgVpBQ8FagTbA58D3wNhBMIEvASzBH0ExANrA3oDUgNnA+cDcAT2BOoEIwRNA7wCswI8A28ExQXYBd0E7wMtAwYD0gPxBLsFuQUiBSsEkAPEA0MEfQWaBt4GrwbkBXwF3QWhBuIHJwmRCcgIIwg6CG4IvwmNC0UM/guHCvYIagi6COsJAAvsCoUJcQemBagE2gR4BSQFfwMhAdz+Hf1M/BP8cfsP+uL3aPVM8+nxjvGe8SzxIPAE7/vtEe337JPtM+7F7gDvte507rruau9U8LbxA/Nn80DzLfO68/L0gfZu+Av6afra+XT5zPnV+qX80/5YAPsALwEcAbYAkgBCASoCygJaAyMEzATNBKMEmAR6BFMEMwRXBLEE7QToBM0EzARHBEQDgQL1AboB8QGyAl4DFgMxAn0Ahv5o/Un9R/4y/6D/AwBE/879o/ys+3n7yvta/DD9l/2M/Tr9ePxk+7P61fpW+/z7pfwl/Sr9m/wu/A/8APwn/KD8kP2e/m7/VwDlAM4AYgCG/wv/b/8jAGIB+QLaA5gDfwIaAdj/ff/EAAgD8gSzBWcFVQSfAnABpQG4AtMDegSCBMMD+gKTAhMCzwFqAXUA1v/z/7gA4gHcAusCpAG8/yv+0f3D/k8ACgL8Ak8CVQBh/mX9Jf0N/qn/qwBKAVEBpAAtABQAEQAlAEQATwCcAFYBJQJcA4UEWgRYA0wCLgHcACUCOQQRBtQGGwaRBMICRwFCAecCtgSLBaAF4gS/A8YCIgKHAngDGgRjBJcEDAV5BQsG2wYEB10GwAWvBUsGqAd1CRELgQuBCmIJrwg7CAoJ2wpcDAYNQwzRCqoJ7AjBCK0IkghPCGoHgwY9BhIGOAVzA0wBRf+O/cT8Df2k/XX9+fs0+Vj1//HX8JHx1PKv85nzMvIR8NftOOwn7ILtce8F8cPxqfEk8ffwlPHc8vDzoPSK9Vz26vbW92b5KftH/JX8j/w6/Cb8jf0vAL0CaQTdBCEE0wLOAZYBfQJCBNkFjQZXBocFxQQxBKsDXgM/AzsDQwN7A7kDeAOyAmABp/+J/pz+U/9LAN4AQwDa/gD9dftP+1r8vf15/kf+Qv21+8P6ovpl+5389vyw/Ov7uPr8+U76evtv/Pn80/wE/Jr7h/vS++D8CP6C/jz+fv2c/Ef8Hv2g/h4A7QBIAD3/kf7p/ef9K//oAMcBjgG2AN//Z/+U/1AA5AArAR4BXwHYAdkBMwKvAiEC8gA7AEwAYgHnAqIDcwOXAukA5/4C/oT+4f9CAfgBBQITAZT/kv6h/lf/XwDYAdgCvAIAAkABfwA1AM4AegHMAekBzwHTATMCzgJyA3ADqwLyAdoBagKVAz8Ffwa8Bv8FlwRGA8sCTgM6BDcFAgZqBkUGcwUeBH8CNwEUAVACLATCBS4GDAX7AosAhP4+/sb/uQGOA18EtgOLAj0BSAAYAOwAsQLLBGwGGQczB7EGsgUYBaIFAAdDCB0JbwlDCWwJDwpvCp0KagqcCY8IBgjgCIYKEAx+DGYLPQk9BswDJAPxAzsF7wV/BZwDbADM/OX5hPiA+Ff5Zfq9+oT5kPZG8xbxjPB18fbyX/T69Gj0MfNh8kbyxPLK89D0YPVm9ZT1g/bC9734LPn0+In4j/hJ+Zj6+vtx/bf+R/8u/4v+5P2l/S3+M/8+AF8BTQJ3Aq4BowDX/1b/J/+V/2QAzwDwANsAiwDk/+v++/1X/Vz94v2Q/vr+qf6o/WP8yPsG/JP8K/1Q/eH8TvwB/Fn8/fxh/VD91/zV+5n6MfrD+qr7LPzQ+8r6w/k9+VP5Cfq0+nb6G/pd+ln6T/rk+tj72vxL/S39zvyO/ML8h/2i/nL/4/8UACsALQBfALwAHgG7AUECRgLrAQYCnQJ6Ay0E1wPAAqABNgGMAXoCWQOZA4gD+gIxApUBhwEmAs0C3AJqAvYB1wFDArsC1wJuAo4BtgB0AOkAyQGlAgED8wJXAoUBEQFBAWkCvAN/BHEEBwSEA/ACCgPOA8gEUgUrBbUENwTnAycEKwX0BbsFEwWRBDgEfQSDBXcGjgaABdwDlQJZAvoCYATuBSMGyASMAo4AhP+//zoB9wInBBwE0QIeAbj/Hf/V/60BewNTBCQEhwPnAqMCBgMCBBsFdwVcBWwFsQU8BjwHTQh1CMkHFAfSBioHCAgmCREKdAo+CssJPQljCF4HpgZVBkwGxAY3B+4GlAXmAtP/xP1C/bX9c/7//l7+IPwW+VT24fQI9b71UfaS9iX25vQz8+nxdvHX8WryxfJV88/zwvOJ89DzevQD9UX1MvVJ9dr1lfaE96b4YflL+an4HPj792z4efmg+pj7Ivwk/AH88Pvw++j7+vti/DL96P1M/sL+zf4E/iP9/vxr/Qr+0/5T/zb/1/6e/oH+hP6h/s/+6/7X/gD/df/7/0kAQwAHAJX/GP/M/iH/AwCIADkAzP+f/y7/df7a/df9Lf54/q3+rP6o/mf+4P00/Zn8dfya/Ar9y/17/rP+iP5N/gX+3/0W/n7+Gv8DAKMAOAEzAvoCOAMXA80CBQJyARICfAM3BZgGDQdZBpkElwJ4AdQBAgNqBPcF+AaLBkwFDgS9AqkBUQHvAf4C9AOXBNQEkwR8Ay4CagErARMBYwGEAvkDTQXiBYIFewS8AsIA6P8rAbADMAbtB94H0gXeAmwAbf9TAMYCXAWPBisGxwTYAlsBHAHgAaQCFANoAycDvgKeAoACZAI2AqsBWwA9/y3/9f9lAagCFQNgAr0A3v4+/bT8ov1l/zgBjQKoAkgBS/+W/XD8GPwS/TT/QAFoArQC3wEPAI3+Jv7O/mAApwKmBKIFMQYjBnMFvgRNBL0EEQbUBzIJ8QmXCuIKRQrECMcHyQeZB4cHNAjLCMwIuAhvCDIHFgXAApIAef/n/7UAVwHDARYBpv5g+2X4A/Y+9Tb21/c1+W/5ePiV9hf0s/Fg8JnwMvIx9HX17PW49RD1HvRU8xPzsfKc8rjzivVt9z35j/p5+vf40/ZX9cL1CPgy+xf+2f8RANH+yPxc+yX75fuf/cv/cwFIAr8CkQJpAfj/sf42/uv+xwAZA7EEQQVqBH0CZgDF/j/+Df/7AOUC/ANPBLADFwL6/zL+SP1m/Xz+QQAJAuYCjwIKAZ7+bPw8++X6Gfyl/oYAWQFNAQgA+f1D/IT7Tvvo+0n9lv7l/zYByAEnAbr/7/0N/AX7zPso/j8BOASkBXAEfgFl/vP7cfu7/WwBrwSmBtMGEgUuArf/0v5X/6sAkgJhBEEFWwUPBQgEqAKRAX4A8/+PANsBIAOVBMcF9ASCAkEA3v6F/nT/VAE+A1wERARVA8YBNABa//f+Ov9ZAPgBMwPUA/8DIQNeAX7/Uf4M/gL/9ACIAn0DeQMTAgIARP4u/Sb9xv7iAFkCDQOzAkYBdv/s/RH9sf0u/38AlAFGAlUCdAFxAH3/O/5o/az9If/cAE8CIgPdAl8BOP/l/aX9Xv4AAOUBUAOcA/4C3QHpAHAAWACGAEQB+wJ7BFsFEgYYBu8EvgOVA3YD4gOVBYUH9AiGCTEJ1ActBlQFTgXDBcoGHAhWCJEHmQYUBSoDNQJSAgwCqgHmAfIBNAEqAED/AP58/Ab77/mf+SD6C/tx+2j76voz+Qz3z/WH9d71SveI+Q37PvuQ+j75hPdB9mv2M/jJ+g79WP5N/i39xfuA+uD5pfpD/L79M/8xAO3/FP9C/jH9XfyE/A/9bP1q/tP/iQCgAFkAZP+8/Zf8hvwh/cT+MgEPA3QDpwL4ALL+ZP0O/tr//gFgBJgFawRlAuIAs/9G/1MApAH1ATQCrgIuAhUB0gBnACn/Pv6O/fP8Iv12/sX/yP8W/8L9aftY+RX5G/qr+979ff9J/7/92Pvu+cH4WflQ+4v9h//pAJkAsf7r/Of7UvuD+wn9+v4xAN4AFwFbAO3+1f3V/OX7Lfxl/d/+swAgAtEB8v+1/bz7p/p7+zH+/gCMAs4CtQGB/2f9vfxp/db+zgA4AlMCKwIsArsBUQE4AdoAHwDZ/2oAaQH+ApEEzgSzA/UB8f88/ir+3P/8AcEDrAQrBDoCuf/q/XL9NP7e/48BkQK3AtcBWADH/tf9rv30/RH/nwCZAasBUAGeAEv/QP7e/Sj+bf8yAeUCtAMTA7IBCQCM/lb+if9CAQsDmwTMBFcD5QHDAOT/MgBdAaACiwNHBKgENwS/A4cDXANlA9kD6QQ1BgII7wmCCiAKogm7CMcHlgdiCMwJbAvrDL4Ngg37C78JpQfXBe4EEgWjBUgGggboBSMEtwGB/4T9Q/wS/ET8Lfy3+0r7o/rZ+Zj5VPmj+O73kveQ9/H3Rvnu+pX7g/v9+qn5cvjD+GX6R/xE/sj/Zf+I/bn7gPp5+hb8If4F/9/+Nv7k/JH7XPsX/Mj8MP0l/SD8rfoR+qP6uPvm/Lr9V/04/Hz7H/tJ+5D8Gv63/qb+VP7c/cT9aP5m/ysAfACEAJEAlABoAF8AeQBIACoAWACjAIQBogLIAvIB4ACC/xL+Nv7W/z0BWQIAA00CrQAi/zr+JP7u/v//TgD//33/wv4a/gf+kv6p/hP+sv0d/T78MPwO/fP9mP7h/v79Wvxg+yj7hfvJ/GD+I/8M/27+/Py7++X7dPy9/Fr9+/0N/uL92v2o/XX9Zf35/JD8tvw7/fP9wv55/1L/Ov6x/f39ZP46/30AGgGdAAIAtP+i/2YAhwEkAmUCaQLnAT8BVgHZAQUCPAKsArUCSAJLAvICTAPsAm8CDQJ6ARgBhQFVAggDsgONA4QCuAHqALj/RP8sAEYB8AGzAtMCagFS/7n9Af1l/QH/QgHlAi8DMgILAAv+mv2I/jgANALYAwgE9gIgAroBwwGcAqgD6AN9AxsDvwKrAncDmAQuBf4EBQSYAtIBQwJ9A0AF0wYbB/0FdASBA5QDDAWOBzQKFAwlDLkK3QhQB+cGDwhQCogMsg05DZwLvQmyBxcGnQWvBYoFKgWPBIcDNAKyACP/x/2k/Hb7XvrO+ar5iPkw+dX4IPjF9r/1gvUF9i/3bfgk+RL5sfgf+G73X/dd+Br6yfsn/ej9mP3Q/Av8TPvr+oX7ffwT/fv93/6g/nT9I/y6+lP5QPmG+uf7Fv2J/W38Yvrx+H74+PjY+nr9Af///mD+QP0r/GD89/3f/1MBcwLXApQCjALSAhAD5QKJAjYCuwGiAW0CQwMuA7cC4gEeAMD+y/41/2D/yP+Q/7f9GfwV/Lb8kf32/iEArP+A/rf9qPxm/Ab+6v+FANMANwFYAHr/4P8sAPT/BQADABv/bv4W/zcA9AA2AZkAyP6P/DH7Efv++z7+vwCOAb0AAf+I/Cb6rvlP+0n9Gv+oABUBFgDK/ub9Jf3Y/E/9Df6a/nf/ZwDDAO4A0AASAOv+W/6u/jv/UgD4ARkDGgOsAiICIQFWAHAACQEWArED1QRaBa0FCQWHA1QC6gExAmkDMgVQBqgGXwYtBd4DHwPNAvoCfQPcA6oDcAPjAzsE+QMnA/cBYQC8/n3+hf83ATMDHgToAiMAgP2x+4f7ov27AAcD0wMpAwEBj/6P/V3+0/9YAQYD3AOAA/YC3wKDAtgBcAGvANr/HQCsAS0DPwT4BN0DJgHK/sf9rv3l/tIBKgTMBGYEBAPmAKn/sgC/AsEE8waHCLMIHgjHB1IHwAZOB3cIFAm2CaQK3QoUCjkJ3weUBYgDCAL0AKEAYQFJAvEBWADD/dH6HviB9mX2pfYC93j3Zvei9sv1KfVQ9P7zcvTi9C/11PXN9rr3j/jz+MX4TfhE+C75qPo0/ID9Vv48/lH9Yfzs+yb89fwX/if/1//7/5n/yv7H/Q/9q/yO/M78cP1G/gX/tf+m/0j+oPzZ++77sfyV/uAA6gG8ASUBz/8u/qn9Xv6O/9oAMwLiAvQC3QIaAq8AWv+P/in+Yf69/3kBXAJcAm0BPf+5/Gr7nvtu/Kj9Vf+DAIYAfv9C/nD9A/1J/fL9gP5U/3YARQGIAYQBnAC8/nn9Mf1I/Xr+7QDlAigDGgI9AOL9Lfz6+x/9HP8qAXECYgJSAR8AT//q/uf+Mv9y/7n/ZgBsAScCPwLsAeUAP/8X/kP+Zf/bAIICfgPNAgQBef/q/l7/vABgAiwD/QJdAqEBQQHMAcwCKwPvArYCXwL0AV4CnQNSBPYDPwOIArwBqwHIAroDvgNJA3QCXQEhAVACsgOFBJYESgMgAbr/2//iAGUCAQRrBBkDFAGw/wb/If9bAIUBUAFhAND/d/9a/z4ARQEAAQIAAv/5/XL9Z/4lAOYABwHoAPb/v/5t/un+Pv+3/x4Ah//v/lb///9RALcASwEwAZgAlQBSAWYCeANjBKsEMQQoBFEFLQciCboKZAvYCrIJ4wjSCK4JDQsODBUMPAvjCWAIRgfaBmkGOgWQA5MBUv9R/TL88fvj+6379/qC+Vf36/Tp8rLxyvFm83L1pPaa9nf1uvOD8sLyLvRh9s/4WfqO+iD6h/nx+A/5Q/rq+5L9Zv++AOcAAQCr/kn9T/yT/OX9yf+IATsCsAFCAJf+R/3o/GL98/2M/kn/tP/l/wQADADY/2D/7P6d/sv+g/+4AEsCagOEA7gCNwHt/6z/RABJAZ8C1wPUA+cCxgFIAOP+Vf5Z/oT+UP+hAFIB3wDE/xr+Avxd+hn6+vpx/H/+aAAEATsAwv63/N76aPo++xz9+P/bAlgENwT3AtgAz/7q/Qr+EP+/ALQCaQQqBeMEmAOgAXD/9f0U/lH/FgHXAn0DpgL0ACj/uP08/Qn+Kf82AEEBogH/AMr/nv5b/Vn8VPxZ/Rr/IgHEAjcDGQL4/5P9lvvz+hf8e/4BAUcDmQQNBDECAgAc/v/8cf0u/zUBGwOeBDkFpQQfAzsBwf9O/0EASQKXBC0GTwbOBE0CBADl/lX/HAGMA4EFHgY0BSADiQA+/i79g/2r/lEANQKIA3QDGQIXAL39vPvu+nj74/yo/kcA8ACEAGf/9P20/Bv8PfzC/Ij9W/7g/ir/gf+0/4n/M//d/l/+7P1M/mD/ZQAsAasBewG7ACYADACKAK0BFwMGBD8EBwSwA2wDawMWBPsErwWxBsIH+AfiBzYI4QfFBk0GagZgBs0GqAf3B8MHQwdGBgoFEQQPA9YB3gAyAL3/iv/I/9n/C//b/d384Puw+tn5eflW+Yv57/k7+nP6ivoe+oL5Xvmm+Sz6AfsC/H38g/yz/BX9Yf2s/Uf+1/4q/1f/b/+D/8H/MAB1ALMAAQEKAY8A6v8v/2v+cP6R/xQBIAJ8AsMBGwBv/lf9N/0v/t7/WwFBAqICYAKDAYIAvP9D/x//iP+AAHsBPALWAt8C9wHZAO3/1f4n/p7+if8gALsA5ACv/xH+LP2t/Hz8Mf1x/vv+uv5J/oX9mPxQ/MD8I/2E/TX+uf7T/hL/bf9s/4n/9//5/zr/dv5G/qL+qv9hAfMCkAMWA20BKv+T/Uv95P3z/noAnQG+AVcBmQCD/3H+8v3N/Z790P2K/if/h//q/+D/OP+X/mL+Gv4J/qv+YP+4/8f/zP+Q/yz//v4g/4P/BgCuAAgBxgAlAI3/Vv+p/z8A7ACvASUC2QEFAVwA+v9CAGYBoAI9A0kDqgIjAZf/K/8AAI4BhAPSBJMEJQMvASz/vP3q/Yf/WAGuAkoDtQIfAY7/hf7r/dP9PP6S/gT/t/8WABkA1f/l/lf9I/z8+3X8Zv3P/uL//v/6/sH9wfz9+zT8Kv1e/mr/JgBEALT/Vf8E/5P+qP5s/3UAbQGFAp4DGAQTBAIEuQMuA98CRQNGBIsFDgdfCEMJqQlsCeQIQAiGB54GAQZDBjcHYAhLCZsJ9ghzB3YFgQP2ASIB6wAAAfUAegDs/yL/Dv70/PD7/vpM+ij6/PmW+Xb5Y/nh+Fr4bviv+PT42Pkr+9r7y/ux+1v78foK+9v7Df0z/nP/PwBUADEAUACTAM0AdAH+AasB2wBDALv/iv8XAAIBIAIIA2MDxAJiAZj/6P3q/KL8Xf3h/pgAJAIJA2sCdwAv/kv8VPv0+y7+yQC8AisDIQLr/239DPwu/KP9vf/wAfwCUwKsAHL+L/z2+pP7Lf3s/osATwF1AIj+Gv17/F/8xPxT/XH97/wE/f398P7a/4oAUQD1/pf99PzA/ET9bf58/wwAJQAAAND/qf+0/5X/Av9f/ib+Vf6e/mT/eQAIAc8AAAAe/17+8P2A/tT/7QBWATUBagDz/hf+SP7c/tn/OwE1AjMCugEDAbv/if5V/qH+BP8TAJEBOgL7AawB7ACp/9H+vf7z/mz/KQCQAK0A2wD9AMoAnQClAIAAYgBoAEgAMQDCAIUB1QFQAiUDcwMZA9ECPAI4AfcAxgGuAokDvQQqBfEDKwLQAMv/rf83AUUDNgQEBCcDVQEb/8/9xf1g/m7/AwEWAt4BxACT/2/+c/13/XX+mP9xADIBZwGgAPL/+//+/6H/u/9DAKQAbQHUAtsDsAPmAs0BNAAx/9T/jAEjA5AEuAVHBWIDtgGoACAAtwBdAucD0gSxBekFCAXpAzID/AI+Ax4EGgWQBbEFoAU8BdYEvgTeBPkE3ARYBDED7AHkADEAOgDqAJEBRAEZAGL+F/z7+Tz58/kW+y38xfzO+1z5D/fe9cH1JPcD+sT8uf0e/dH7/fmU+Pz4CvtS/VX/9wBlAZsAp/80/0T/6f80AZACCQOOAvwBhgGyAP//JwB8AG0AigDBAEwAYf+y/tb9iPyx+8z7dvxZ/XP+Mf/L/o/9BPzN+n76SPvL/Cv+IP9r/zH/4f6I/mb+vv5I/3H/ef/t/zQAHAA5ADwAxP9C/zj/PP9V//z/fgBbAOH/gP/8/nT+af6L/ov+1v6x/1YAlgDEAGQALP/p/Sn9j/yY/Nf9c/93APgAMwGUAEb/Q/7D/Xf9Yv3+/c3+Rv/h/8cAUQEAAXwA5f+e/jT96vyA/Rn+Jf/NAKQBGQGQACAAAP/j/eD9Rf5V/h7/vACYAWIBHAGOACD/xP3c/d/+XACIAlkEUARwAlIAjv5v/f79UwADA8oEpgVvBdMDqgFhACsAnACjARkDCgQtBFkEsgSMBOQDRANOAv4ALgBIAN0AyAEHA6sDLAMBAp8AEv/l/d39iv4n/+L/nACNAMz/Hf9q/m39Df2l/XD+Zf/bANABagFbAFH/Gv5//ZP+fQAYAoYDqgQ/BIoCGgFkAPb/hABFApgDDARIBF8EeQNaAhAC+gH8Aa4C5AM4BMgDkgMxAzMCtgFtAlMDCQQABYAFWwSiAs8BhAF3AWcCBwS3BDYEmgPtAvMBmwE6Ao4C9AFOAa4AZf9b/sL+lf+h/2b/Ef+s/db7VvvC+xL8n/xA/Yv8svpc+dP4xvjc+RL8xf1U/vz91/wf+wX6O/oF+1/8Lf6T/+P/q/9i/8/+cP6S/s3+D/+t/xYA5P+j/5L/Zv9t//D/QwAoAOL/Nf8P/jT9Gf2M/VL+Ev8t/4X+mP2u/Cn8aPw0/fn9Zv5i/tj9IP3S/Aj9nf1Y/uP+K/9H/zj/GP9M/6z/uP+D/zv/0f6v/oL/3AASAhQDdANxAoQA5/7u/ZL9a/5UAAICtQKEAokB2/9s/vb9Hv6R/k//HgByAFMAQwA8APn/lP9O/yL/9/4M/5D/OwCzAOYA5gBtAIL/yv6S/pH+1/60/7YAOQFsAXwBzwBb///9Sf0m/eP9v//lAW8D/wMxA+QAJ/5x/EP8e/3b/6oCywRnBWgEbQJvABb/q/5d/+MAggLIA5sEmQSqA4QCkQGxAFoAJgFvAl4DHgSYBBUE5QIAAlkB2AAnAf8BawKuAkADfQMhA8gCSgJCAVoABwD4/1EAXwFSAnYCIAJnARgA2f5q/oL+v/5F/67/Z//0/gD/L/8y/2j/iv/v/iD+2/3a/S7+av/kAH8BdQE0AVoAYf9R/+f/bwA3AUkCzAKnAoUCSgKcAQEB8AD6APgAaQE3AsYC8AK7AtgBYwAh/3r+Wv7l/jgAzwG9AoQCUgGX/7L9Tvw9/Hf9K//GAOEBxAF1AAL/Af5b/WD9Of4a/5D/CQBuADQAxv+2/4D/tv7z/Zb9bP3P/RD/ZgAJASoBuQBB/2b9Zfx0/Gn9d//VAfwCqwJ3AVv/8fwR/D39M/86ARQDqQNqAlgAc/4p/RT9W/4NAD8BwgGPAZoAUP93/k7+ZP6I/gr/v/8UACIARAAhAH7/zf4q/mz9N/0m/qL/4ACqAYwBFQDq/Tf8lftJ/In+ewFzA6kDaALm/9L8/fpj+yz9l/9rAk4E8gMuAi0A5f0X/DP8qv0w/xoBTgMBBNUCPQGK/4r9kvxw/e3+WgAaAk4DxQJQASAA6P66/a39pf6M/2kAjgErAuUBhAEDAc7/mP5Q/of+/P48AMIBWQIiArMBsgAz/z3+Jf5g/vf+OACGAQgC4AF5AZwATv93/n/+1/59/8kA2gHHAVkBKQF4AGn/Lf+O/5X/rv9xADABgwH3AWMC/wH1AAsAZ/8U/6r/OQG9AmYDUQOMAgsBiv/5/mD/QQBTARkC+gEXASYAoP+Q//L/sgBdATUBLwAn/6b+kv4u/4gAlQGSAe4A0f8j/hD9g/2R/n3/lwBHAbAAsP8u/6r+OP62/qD/7/8IAFcAQwD8/1QAxwBuAMn/ff84/w//r//GAHoBzAHHAdsAYv+I/o3+Iv9sAAQCqgIUAvwAp/9n/jX+Q/+rANYBbgLYATIAlf63/ar9hP4OAHgBCwKTAUQAs/6c/Xj9Rf6V/8wAeAFWAWgATv/M/t3+If+h/yQACwB8/y7/MP9g/x4AJAFqAdMA8//j/u799f0D/0UAcgFkAlsCNAHe/8P+4f3d/Qn/fgB7AR0COwJ6AVoAhP/r/qH+A//G/2sAIAHFAbwBJwGQAL7/pP4X/kj+nf4//3AAWAFpAScBgwAi/+v9uP3//ZH+8v97ARQC+QF6ARcASf5y/cv9rP4GAJ8BZwL1Ae8Ax/+t/k/+Ev9AAAgBSwEeAYkA+P/u/1wA2gAoAQoBYgCN/x7/Qf/R/6wAfAHIAXcBxgDl/xH/sf7s/oj/RQD8AFsBPgH6AKYABABM//n+5/7t/m3/RQDSACgBhAE9ASoARP/G/jv+Mv5E/5gAcQERAjACJQGX/5X+G/4R/gL/pQDBAdwBVwE6ALf+y/0O/gH/LwBbAbABxQCN/9/+ov75/ioAeQHzAaEBywCV/5X+Zf77/h0AXgHvAYoBrACd/57+a/4z/zEA3AApAesALgCN/2D/mv8xANMA7wBuALL//f6l/hX/FQDzAFIBFwEhAMP+wv2d/Ur+lf//AMQBjwGqAG//SP7n/YP+e/9IAOQABAFYAH//OP9U/3b/3P9bADsAp/9e/1T/W//2/wsBjQEnAW4Aiv+b/mP+Hf8pACMB3gHQAd0Asv/Q/k/+fP6D/8YAfAF1AdAAyf/i/qn+NP8aAOoAQwHbANr/5/6M/u/+8v8IAWoB0gCx/5H+6v1B/pf/HgH/AfMBGwHH/5H+J/6+/t7/5QB2AV4BnQCb/+z+xf4L/53/QACeAHsA+v95/0P/V/+Q/+H/LwBOADwAGwANAB4ANwBBAEUANwD4/7X/tf/q/z4AwwAnAfYAXQC//yr/3P5J/1cAegFGAmEClQEnAMH+AP4//nH/EQFQAmwCZgHo/2X+Mf0d/YH+WgCeATAC8QGzACj/Tv5E/tH+4v/6AGkBJgGiABMAnv94/6v/6//8/9T/hf9R/4X/EACeAB8BiQFfAWIAK/9h/kL+9f5QAJQBOgI2AlsBt/8w/oz9rf1q/rn/+QB0AUcBzgALAD//3/7b/uz+RP/w/3YAsADlAPsAlQDi/0D/rP5N/pX+bv9FAOoASQERAU8Aif8O/+f+N//s/4MAsACiAH8ARwAhACEAFwDz/8r/kv84/wH/KP9///L/jADzAMEANQCx/y3/wv7o/qj/eAANAWYBVgHAAPj/XP/2/r/+1f4+/8H/GgBLAHcAhQBIANn/eP8y//n+8P5K//b/zACYAd4BbgGdAKb/n/4P/nD+W/9PADwBwgFjAX0Aqf8E/7P+/v6t/0sAzAAgARQB3wCoAEAA3f/V/83/cP9Q/7//JwBaALAA7gB+AKT/HP/r/uv+cf95AFQBswG2ATcBJwAp/8z+5P5L/xAA5wBQATkBtgDW//f+qf7s/mD/7v+MANcAjwAoAAIA+f/w/zQAmgCHABkAzv+U/y//N//h/2IAkwDBAIQAj/+s/mX+YP7A/vH/KQGuAcwBkgGgAFn/v/7E/u7+hv95APkA1ACXAEoA2/+k/6f/c/8s/0P/e/+i/ygADwG0AeEBmgGbADT/RP4o/qf+qf8CAecB1wEtAToAEP8R/r39B/6//tn/7QBzAVAB0gALADv/v/6p/gL/sf9oALMAmQB6ABMAdf8d/w7/A/8b/5n/IgAuAAAAAQDn/8//JgCfAKQAbwBpACkArP+t/ykAYABoAIkAYQDH/2H/ef9v/1f/of8WAC8ALABFABEAuf+4/wcAPABvAJ8AfgBIAEAAEgC//7//5//L/4v/mP+u/6n/6P9DAF8AOQAPAPP/vP+K/6b/+P97AP8ABAHCAGAAx/81/yj/rP8MACgASgBOAAMAmf9k/2f/kf/Z/yEAVwByAFMA8v+d/4H/nP/n/zMAWQBJABMA1f+P/2T/c/+M/57/xf/q/w8AWACZAJQAPwDT/3P/UP+j/y4AsQACASAB1QA2AIL/xP5x/q7+cv9uABkBTAEaAYwAtv/j/qX+C/+q/zkAfQC9APIAxwBwAC4A6f9L/8r+6v5Z/8b/XAACARABrgBZANr/E//A/jT/6/+fAFQBnwFFAXsAl//2/tD+Iv+V/x8AjACHADYA8f/X/87/v//C/+X/3P+6/9n/IgBrAJkAnwBzAAcAlP9Q/0//Xv95/8D/IgB4AH4AOADD/0f/+/4S/5n/YADWAJYAQAAnAN//qf/f/zEAMAAIAAkA2P+I/5b/2P80AGwAaABtADEAyf9y/0n/gf/8/3YA9AAaAZAA5f+m/8z/3f/o/yQAMADj/6X/z/8YAEQAcwBkAB8A9/+z/3H/iP+D/5b/MACeAOgA9gBxALn/If/5/k7/3v89AFkAcgB/AFcACAC6/5D/ef9u/4n/vP8xAN0APwE4AeEAGgA+/7/+pf4X/77/VQAMAb8BswGjAGv/Gv5x/U3+xP8MAc0BvgHXANr/V/8L/xf/bf/A/yAAjADnAPoAdQDU/6D/X/9i/8D/3P/j//r/FAA3AEoAQgAqAM3/QP/x/iz/6P/fALsBagFtAKz/rf6D/iX/9//jABIB3QCwACwAS/+u/pL+2P57/4UArAHvATcBTQCD/+/+tf4C/2//4f+EANAA/gAzAaAAvv8b/7X+xv4B/4n/XQAGAXEBmQHlAKb/1f5w/rD+Uf8pAP8AEgHJAHgA8/9C/6L+nf57/1cAsgDRAGIAjv8r/2r/4f8hABUAAgD3/wYAHwAAAAoA9f/6/x8A9/+n/zj/n/9fAMAA0wBJAIH/FP8f/2r/wv8lAHsAugD0ANEAHwBS/+3++v4l/5L/eQDbAKkAjQCqAGcAqv+r/w4Ayv9V/1H/lP/Q/+//ewAzAUMBzgArAK7/HP+S/tH+i/9BANMAJAEWAagATADL/yb/Ev9W/6b/HwBYADcAEgDr//D/FgBRAE8A6P+m/2T/Sf9Y/6L/fQAAAZoAHAA5ACMApP/2/1YA3f95/5T/NgCtAGsAFAC//3j/y/+vANUACABF/+D+3f5y/60AfgFFAaIAJACl/0j/LP9Q/8v//P8PABkASgARAR4BZAC8/zT/Of9+/+D/VwD3/y//sv8JAXkBSQHQALX/cv4S/tz+/v+8AMgApABhACMAdACAAAkAzf9x/2H/u//k/xwAKQAOAI8AOwEkAY4Aef+L/lf+A/8fAAMBgAEdAa4ATQBY/+X+LP9Z/7f/IgAvAF4A6QD2AGUA2/+h/17/If+Y/zkALgDe/x8AigCVAIcAigAJALT+/f31/oEAbAGiASABw/+U/uz+7/8YAPj/4v8FAPAAJwFZAKb/8v6+/jb/yP+vADgBngCy/yv/Nv+u/zsAwAByADv/jf4P/wsA4ACeAQ8Bvv+t/5j/S//h/xMAuP8UAEEAlABXAfIAZgCp/4T+0P7M/3UAwACJABYAt//p/2AAfQASAJ//Vf/L/qL+qf+WAO8AdQEBAcL/+v70/iD/OP9k/3//BwDDAFoBVwGdANv/J/+r/pv+c/+9AAIBeQA7AA8Asv/O/ysAbwADANv+9v7V/ywAiwDXAMUAYgCA/8r+A/+L/x8ACACm/87/BQB5ADQBVQEZAKP+H/6d/qv/lQAeAdsATgDp/5D/2/+fANsAIwA3/8L+8/7K/70AWwEbATcAi/8u/0r/2f8cALr/9P/xAPoAUgD7/87/Yv/8/pr/nQDwACsBMQEyANf+sP5I/5//lQA0AVcAkP8DAJ0AcQD+/+D/uf84/1L/FwCbAKIAzAC8AP7/5f9dAOn/7/6R/vP+4/8hAR4CqgEHADD/dv+b/4T/AwC8AHgA+P9SAJwACwCR/zsAkgA4AE8AQwC2/wf///50/9//zABxAecAdwBtAA0Atf9//zn/1/7v/hYAIwEbAfsANAHoABUALf9S/hH+j/5d/0sANAHTAcsBVAFmAFv/vf4+/mP+Vf+FABoBwQBXADEA7/+Q/9j/RADV/1j/fv+x/4r/f//U/1wALgGeAUwBwwCb/x/+4v3R/vX/zQD6AN8AogAvAMn/Uv/e/tT+U/+y/xcADAFRAbEALgC8/4n/y//t/7n/kP+h/6L/3/+hABsBowDK/1//A/+O/gX/VgDoAKQAIQBc/zT/mv/7/04ARwDG/1//q/9dAPwAzgAaAJv/+v7A/mj/KgB1AIwAYgC7/5b/MAB1ACMArf9P/zH/p/9mAB0BTgGoAPz/R/+Z/tX+s/+pACsBwAAcAL7/6P9RAFAABwCB/yz/Uf/A/0sAiwCKAH4AZAAUAKT/gv+o/4T/Vf+V/9X/PQAsAVcBVQCL/xr/AP+T/ygAfgDCAOAAvwBAAO3/IgBYAOb/H/8A/zP/yv8EAacBIAEVAEj/8f40//X/dgCDAIMAagBTAE0ASAB7AFIAlf8D/yP/6v+hAOIA1AAeAG7/ff+6/+D/JwCdAGYA2f/O/7L/i/8FAAUBTwGDAPP/4f+j/3D/lv/F/43/kP8lAHoAvwAWAb8A9P9w/2D/xP8kAF8AfAAhALf/vf8GAE8AiwCPAIQAkwBHAHr/t/5z/u7+9v+fAOUAKwHhAB4A1f/0/8z/S/8p/4D/0/84AMAAEAGYAPP/tP9x/z3/Nf9B/zb/a/8nAJUAewByAGYALgDV/4//Z/81/z7/p/8yAK4ADQHeAE8AAADa/5L/Q/9d/8n/EAAtAHsAnwANAFz/Nv+E//P/MgAvACcAKAAJAMf/rf+o/4j/Xf9l//n/ygDuAG0AAQB2/+T+3/6H/3oA9gDIAGkAMADs/57/lv+t/73/3v/K/8P/SwCdADMA0//u/z0AaQBcACsAr/8p/+3+O//6/40ABwE2AdMAKABt//v+Ff+r/z8AdQCCAFYA7v+x/7H/2/8eAEEAJAAPACgAWgB+ADAAnP9k/7j/IgBmAGgACQCh/6L/NADpABkBsQAXAI//OP82/6X/SACFACkAwP/E/yYAowDTAJAA/v9g/wb/Lv+R/+n/YwDCAMQAiwA/AOr/rf+T/4n/nf/R/0oAzQDAACoAnP9g/0j/bv8BAIUAqwBsANr/aP+D/zIAswDFAKEA7//5/qv+Uf8qAHAAZACQAMAAwwC9AHwAzf8R/6n+hv7u/gkA+wAiAfgA4ACXAO3/bP9l/0v/Hf89/5P/4/8eAFkApQDOAJcAJQC3/5//2P/M/1f/L/9z/5//DQATAc0BfwGHALn/av9E/xf/Jf9g/3j/qP8qAMgARAFFAaMA0P9R/yX/Ev8h/33/7f8EAAcAUAChAMkArgBQAN3/Yf///uT+O//e/1UAgQCUAI0AIgCN/2D/jf+m/9f/ZQDZALEANwC0/zD/H/+a/xYAcACcAE4Aw/+E/5n/0v8eAFoAegBfAPz/v//E/8P/0////w8AKABYAFIALwAkABIAAwAfACgA3f9t/xb/+f48/9r/pQBjAbUBPwE9AFj/2/7L/ib/sf8HABEACgAzAH0AqAC2ALwAmQBKAP//qv9l/2z/bf86/3X/RADjABgBVAFuAekAGQCa/1T/AP/O/uj+Nf+u/1UA9QBWAXYBPwFvAFT/uP66/ur+S//Q/w0ACgAUAC8AewAKAVMB7QA+AKf/EP+i/uL+uv9WAG0AiQDZAOwAnQBAAPL/fv8B/93+KP+l/xAAOwBOAJgAzQCIAB0A3f+G/wv/yf4C/5j/QQDbAGABeAHmABQAaf/o/rr+C/+Q//X/PAB4AKkAywC7AG8ACQCb/yf/2f7g/iz/hf/P/zQAzgBAATcB3QBdAKb/3f5b/lb+6f7j/9kAigHUAZsB9QAyAJD/H//Y/r/+3v4m/5D/IQDKAGcBxQGkAQoBNwBV/4/+PP5x/uH+XP/+/7wAQAFrAW8BQAGgALX/5P5K/vT9CP6T/nr/owC+AVcCRwKvAbIAg/+W/k3+jP7//o3/NwDQABUBDgEDAf0AtQAlAJ3/Qv/6/ub+SP/3/4EAtQC3AK4AlwB3AFUAMgD9/6z/WP83/2X/pv/V/yMAiACtAJMAawAfAKP/O/8Y/zP/kf8lAK4A6QDaAJAA//9a/xL/N/94/7r/EgBeAHMAagBsAHQAXgADAG//7/67/tT+Qf8UAAEBcwFHAcUAIgB1//r++/5c/9D/IwA+ACMA7/+//6r/yf8pALQAFAEAAX0AuP/q/mP+cf4d/xIA2QA6AUkBCwGAAPT/rf+c/4b/Yf9W/3j/tP8AAHEA/ABjAXMBKwGvAAUANP+M/mj+vP5S/xQA6AB/AZEBJQGWACEAyP9+/zj/7P6z/sT+NP/2/+EAnAHFAVQBjACm/9z+g/7A/lL/2f85AIgAqwCHAE0AJgADAOD/0v/h//j//v/r/+X/CgA4AFAAbQCXAJ0AaQAoAPz/3P++/7j/0f/x/wYACgAEAAkAIQA0ADAAGwDu/6j/dP98/8D/HQBxAJ4AmABtAC0A4v+p/47/ef9n/3//y/8lAHAArQDWAMEAXADl/4P/K//y/hX/l/8uALAAEAEvAeoAXgDS/1j/+v7k/iH/iv8BAIIA4wD1AMQAagDx/3z/Qf9N/5b/DwCAAJ4AYwAAAJL/PP8z/37/5v9HAKAAygChADIAqP8l/9v+8f5X/+f/ewDhAOsAqABLAPH/tf+v/8T/v/+l/5X/l/+3/wEAZQC8AO8A5QCNABIAr/9g/y3/SP+z/xMAPQBbAHQAVwASAPH////3/6z/Sv8g/0H/f//K/0IAxwDuAKYATwAdAOH/lv+H/8H/7f/Z/7X/wv/0/x4AQQBwAJEAaQD6/4j/Ov8M/wT/Rv/S/2sA1ADqALkAZAACAKj/e/+L/67/vv/P//n/IwA1AEUAagCAAFsADADH/5b/eP+J/+f/ZACsAK0AlwBuABMApv91/4z/uP/a/w4ATwBuAF0ATwBeAF0AIADB/3z/av9+/6//BgB3AM8A4QCsAFMA7v+E/z//WP/C/ywAYQB3AH4AWgD7/5L/Y/93/6f/3v8iAGAAYgAfANz/yf/F/7H/sf/g/w4AFgAZAC0AMQALAN7/0v/a/8v/q/+k/8L/7f8YAE4AgQCOAGwAOAAGAM3/j/9t/4P/vv/8/z0AigDBAL0AiwBGAPf/pf9t/2L/ef+1/xYAgADRAPwA7ACNAAAAgf8y/x3/Tv+5/ykAdwCWAIMASQADAMT/lf+N/6r/xv/N/8//3//y/wAAHABCAFkAWQBCABYA3v+n/3//eP+l//L/OABqAJIAqwCXAFoAFgDS/4T/P/88/4j/8/9KAIsAtgCoAFEA3P+E/13/Xv+P/+7/SgBuAFQAJwAAAM//mP+C/6H/1f/3/w8ANQBRAEgAKQAQAPH/uv+I/4z/wP8AAEAAgwC4AL8AkwBEAO3/mv9V/zD/Q/+N//L/XgDLACIBNgH3AHgA2P80/7T+fv6p/jj///+9AEgBigFdAbAAyv8L/5f+cP6y/lv/GACiAO8AEQH+ALEARgDe/4b/Qf8Z/yr/gf/9/2QAnQCpAHkADgCl/3H/ZP9p/4r/yv8TAE0AcAB7AHIAXgA5AAMAz/+p/4r/ev+S/8//DwA7AGAAgQCCAFgAHADr/8P/nP+N/7n/DwBaAIYAogCjAGgAAACs/4T/eP99/6b/9P87AFwAaQB4AHkAUQAYAPX/7P/m/+L/7v//////8v/v/wAAEgAUAP3/0/+i/3f/Yv+B/9v/SgClANQAzwCOAB8At/+F/4//w/8OAF4AkACJAE4A+v+v/3T/SP86/1b/i//J/x8AiADVAOQAvwB5AAYAdP8C/9z+Af9l//3/pQAjAUwBGAGhAAkAbP/k/pr+sf4W/5//NgDKAC0BPwEEAZEA8/9F/8L+j/67/jz/4v90ANkAAwHfAHgAAwCn/2D/M/87/3j/x/8WAGsAvwDvANsAigAdALD/TP8K/xP/bv/0/3UA1wD6AMgAVADX/3//Wv9q/6P/9/9JAIkArQC0AKQAegA5AOz/qv+D/3n/jf/C/xIAYgCQAJcAgQBKAPn/qv+D/4T/mP+5//L/MABUAFQARgAzABYA8P/L/7P/qv+v/8T/7P8WAC4AMgAuACcAEgD5/+3/6P/j/+X/6//3/xYASABmAFsAOQAJAMf/gv9s/43/w/8CAEkAhQCPAFkAAACj/13/N/9G/57/IwCTAM0A2AC1AF0A6P+J/1z/Wv+A/8r/IgBsAJEAkAB2AE4AHwDu/8T/sP+v/7P/xf/3/z4AewCYAJsAhABEAOT/jf9q/3n/nv/U/xsAWABiAD4AFwACAPD/3v/i//j////y//D/DQA1AFQAbQBzAFEABwC1/3//cf+D/6v/2v/4//3/7v/a/87/zv/Z/+j/8//z/+j/0//A/8D/2P/7/xUAKAA6AEMANAANAOf/yP+v/6j/wP/y/ygAWwCAAIcAawA6AAYA3f/I/9P/+/8nADgAKQAMAOv/w/+q/7b/3/8JACsAPAArAPX/uv+V/4v/nv/P/w0AOwBPAFUAVABEACMA/f/U/6f/f/90/4v/sv/o/zMAgQCpAKEAhABaAA8Asf9t/2L/fP+k/+T/QgCSAKIAeAAxANr/bv8R//L+Fv9j/8j/NQCTAMAAqgBbAPn/qf+D/4b/rP/x/zoAZwByAHIAZAAwAN3/lf9t/1T/U/+K//3/eADGAOMA3gCpADYArf9U/0D/V/+S//f/YwCpALkAnABUAPL/k/9R/zP/OP9e/5z/6/9EAJgAzgDiAMoAhAAbAK3/Vf8h/x7/Sv+f/w8AfADBAMsAqABiAAIApv9r/1n/cP+s/wAAVwCVALIAsACMAEIA7f+q/4P/fv+n//X/QgB2AJAAjgBnACMA5P++/7L/wf/y/zMAbQCJAIYAawA6APb/sP92/0n/MP9C/4//CwCLAOgADwHyAIcA5P9A/9X+v/4H/6P/aAAbAYMBiAEuAZYA6f9C/8j+m/7A/ib/vv9rAAQBXwFnASQBoQD7/1b/2f6p/tP+Pv/O/2oA7QAlAQoBsgA2AKv/Mf/m/s7+7v5G/8r/WADMAAwBBAG1ADcAt/9Z/zP/TP+g/xAAdACxALkAhwApAMT/cf8//zn/X/+i//D/RQCSALsAuQCIACoAtP9I/wr/Ef9b/87/QwCfAMkArQBUAOD/c/8n/wn/H/9f/7n/HgB7AL4A3wDWAKAARwDm/47/Uf8//2D/rv8PAGsArADAAKUAVwDq/33/Jf/x/vD+K/+Z/xwAmQD2AB8BBwGwADMAtv9W/yn/NP92/93/OwBzAIAAaQA3APn/xP+n/6b/uf/Z/wEAKwBLAFAAPQAhAAQA5v/Y/+j/AgAQABwAMwBCADcAFQDv/8b/oP+L/5X/wf8AAD8AdwCjAK8AiQA5AOD/kv9a/1H/gP/O/xoAUQBlAFoANQABAM7/pf+R/5T/rP/Z/xUATABsAHkAfgB1AE0AFQDn/8X/qv+i/7j/4P8FACUAPgBLAEcAOAAmABMAAQDx/+v/+f8TACsAOQA6ADIAHgD8/9j/wf/B/8v/2f/2/xIAGAAHAPX/7P/g/97/9f8XADIAQwBSAFMAQQAkAAkA8f/U/7r/q/+p/7X/zP/r/wsAJwA0ADAAHgABAOT/0f/S/9//8v8JACQAPQBRAGIAagBhAEIAEgDZ/6n/lf+b/7f/5f8bAEkAXwBbAEQAJAD//97/zv/R/9j/2v/j//z/DgAUABMACQDu/8T/of+Z/63/0v/8/yAAOAA2ACEAEgARABUAEwALAAQA///y/+f/5//w////CAAIAAQA9//e/8L/sf+0/8X/4/8DAB0AIQAQAAAA/f8GABIAEQACAO3/1f/B/7r/yP/g//D/9//+/wAA9P/r//X/BAAHAAMA/f/u/93/2f/q/wgAJwA4ADAAEQDo/7n/nP+k/8r///8sAEkATAA1ABMA+P/s/+v/7f/0////BgAJAA0AFgAcABUABQDt/83/p/+O/47/q//d/xAAPgBVAEkAIwD5/9//0P/N/9f/6f/8/wsAGAAnADUAOAAoAAsA7f/Q/7b/qv+z/87/8/8dAEsAcgB/AGsARAAbAPf/2P/H/8v/3P/1/xYAOwBWAF8AVgBDACkADQD0/9v/yP+5/7L/sf/B/+n/FwA+AFYAXgBSADUADwD0/+z/8P/5/wMAFQAqADYAMwAmABYACAAEAAsAFQAcAB0AHQAZAA4A+v/e/8v/xP/G/9X/9v8iAEcAVwBUADkACwDU/6P/iv+L/6D/wv/q/xQAOABRAF4AUAAnAO//t/+N/3n/hP+t/+3/NABsAIcAhwBvAD8A///H/6j/mf+f/7z/7P8ZADgARQBFADoAIQAAAN//x/+1/7D/w//l/wcAJQBAAFIAUgBAACMACAD5//P/9P/7/wYADgALAAIA+f/0//b/+v8AAAoACwAAAPD/4//c/9n/2P/a/+L/5//o/+z/8v/6//7/AwARAB4AIQATAAAA8f/k/9v/3P/r/wEAGAAvAEQATQBGADAAEwDw/87/vf/G/+H/BAArAE0AXgBRACkA9//G/5//h/+E/5X/tv/l/xYAQQBdAGEATgAmAPj/y/+p/6L/uf/k/xgASQBsAHYAXwAzAAEA1/+6/67/uv/b/wAAGgApACwAIgACANv/vf+y/7j/zP/y/x0APwBJAEAALAALAOT/xf+6/8H/2f8BADAAWABnAFgANQAHANn/uf+y/8T/3//9/yAAQABOAEcANgAgAAAA3v/F/8H/yv/W/+j///8WACkAMgA1AC8AGgD//+r/4f/l/+//9v/9/wEAAwACAAQAAgD+//b/7f/n/+L/3//d/+H/7P/9/w8AHwApACgAGQADAPL/6P/l/+v/+/8LABEACwACAP7/+P/t/+b/6f/x//D/6P/i/9//3v/g/+r//f8QABsAIAAeABUABQD4//H/7v/t/+//9f/6//v//P8FABUAIgAkABoABgDo/8T/o/+X/6P/yP/5/y0AWgByAG0AUAArAAQA3f+6/6X/pf+4/9b/9/8YADIAOwAuABYA+//f/8v/wf/C/9X/8/8UAC0ANgAzACYAEgD//+//5P/j/+n/9/8EAA0AEAANAAgABwAMABUAHwAkACMAIgAeABYABQDt/9P/wf++/8z/6P8HACIAMwA2ACoAFAD7/+H/yv+5/7P/vP/N/+H//P8bADkARgBAACoACADi/7//sv/A/+L/CwAwAE4AXQBcAFEAPwAnAA0A9f/f/9H/zP/Y//T/EgAqADgAPQA9ADYAKAASAPz/6P/e/97/4f/n//D//v8OAB4AKgA1ADgALQAVAP3/7v/p/+v/8f/+/w0AFwAaABgAGgAcABsAGQATAAoA///5//r///8FAAsAEgAVABMADwAHAAEAAQAGAAcAAQD8//b/6//g/9v/5//3/wYAFAAcABgABQDs/9P/wf+z/67/t//O/+z/CAAkADUANAAlAA0A9v/d/8n/wf/F/9X/7f8LACsAPwA+AC4AGAAAAOr/1P/J/83/3v/4/xIAJAAmABgABgD8//f/+P/7//v/+v/7//3//P/y/+T/2f/V/9j/3v/n//D/+P/+//z/8v/h/9H/zP/Q/9n/4//y/wMAFQAgACAAGQAOAAcAAQD//wEAAwACAAAA///+//r/8//y//j//v8CAAUACAAFAPz/9v/3//z///8DAA0AFwAcABsAGAATAA0ACQAIAAgACQAKAAsACQAHAAMAAQD///z//P8BAAgACwAKAAcABQABAPr/9P/x//H/9f/8/wUAEAAYABkAFQARAA0ACQAEAP3/9f/z//r/CAAZACoANgA2ACwAHQAPAAQA+f/w//D/+/8NACAALQAwACYAEQD5/+f/3f/d/+T/8/8JAB8AKAAfAAwA+v/s/+X/4//m/+r/7P/v//f//f8BAAMABQAHAAcABQADAAMABgAKAA0AEAASABAACgAAAPb/7//n/9//3P/m//L/+v/9//v/+P/y//H/9//8//z/+v/+/wMABgADAP7/9//w/+7/8//+/wUABgADAP3/9P/t/+b/4f/d/9v/3v/g/+D/5P/r//P/+f/+/wAAAAD9//P/5//d/9z/5v/1/wcAFwAhACAAEwACAPX/7//u//H/+v8KAB4ALgA1ADgANAAvACgAIAAcABcAFwAaAB8AJAAkACIAGgAKAPf/5v/Z/87/yP/N/9j/3//k/+////8PABgAGAANAP//8P/p/+//+v8HABIAHQAgABsADQD7/+z/4f/h/+r/+f8IABUAGAAPAAUA/f/4//b/+f/+/wAACAAVACQALAAtACkAIAATAAkACwATABsAHwAjACUAJwAlABsAEAAIAAMAAAAAAP//+v/1//j//f///wAA/v/+//f/8P/p/+b/7//8/wgAEAATABMACQD8/+//6f/r//P/AAANABYAGQAYABMADQAIAP7/8//y//L/8f/3/wMADQANAAkABgADAPf/5P/S/8n/yv/X/+n/+v8AAPj/7f/i/9z/3v/l//D/+/8CAAUACAAKAA4AFwAfACYALQAzADcALQAeABAADAAOAA0ABgD8//P/7//u//D/9v/7//z/9f/p/93/1f/V/9//6v/0//n/9v/t/97/1v/W/9r/4P/o//T/AQAHAAYAAAD7/wAAAwAGAP7/8v/s/+n/7//5/wQACwAJAAUAAQD+/wAAAQADAAMAAwAGAAIAAQACAAYADQAXACIAKQAtACgAGQAIAP3/9f/v/+z/9P8AAAYADQARABMADwAGAAIA///+///////+/wAAAgD9//X/8v/t/+n/7P/u/+v/5P/e/9j/0v/V/+H/7f/6/wIAAgD6//D/6v/m/+b/6v/x//P/9P/7/wYADAAPABAADAAJAAUA/v/0/+7/7f/w//r/CAASABUAFQAVAA4AAQD3//H/8f/4/wUAEwAcACAAJQApACcAJgAkACIAJQArADAANgA6ADoANgArABwABwD0/+n/6v/u//b//v8AAAMACQAQAA4ABwD///b/7v/o/+f/6P/t/+//8v/0//f/+P/2//j/+f/9/wMABgADAAAA+v/2//P/9v8EABUAIwAoACgAHwARAAAA6//c/9X/1f/e/+r/8v/7//7//v8AAP7//P/6//T/7P/s//b/+/8AAAoAGwAqAC4ALAAjABkACgD8/+7/6P/p//D//P8NAB8AJgApACAAEwAAAO3/4//c/+D/7v///wkAFgAkACYAIAAVAA8ACAAFAAAA/f/3//L/8v/y/wAACwAQAAwAAADx/+L/1v/Q/9P/2//n/+//+P/6//j/8P/m/+T/6P/x//b//v8CAP//+P/0//j/+P/1/+//6P/n/+f/6P/w//z/BwATAB0AKQAsACUAGAAKAAAA+P/4//n//v8HABEAFAARAAwAAAD6//P/7v/u/+//+f8CAA0AFgAWABMAEAALAAYAAwAEAAEA//8BAAQAAgD8//b/8v/x//f//v8GAAsACAAAAPf/9f/t/+b/4v/j/+n/8P///wwAEwAYABQADQADAAAAAAAAAAIABgANABYAHwAlACMAHAARAAMA8v/g/9T/0f/U/9z/6v/5/wIABgAEAPz/+P/5//j//P8BAAoACwAGAAEAAAABAAAABgAIAAsADwAUABgAHwAoACoALAAwADMAMgAvACoAJAAcABIABgD2/+L/1P/R/9b/4f/r//H/8P/p/97/0f/K/87/2P/m//P///////z//P8AAAMAAAAAAPz/9v/y//X/+/8CAAsAEAASABIADwAMAAgAAgD7//L/9f8AAAwAGwAoADAAMwAuACAADgD6/+r/4//j/+f/9P8AAAwAGQAlACwALAAnABsAEAANABEAGQAeAB4AGAAJAPj/6f/g/9v/3v/h/+P/5f/o/+v/7v/0//j/+f/3//D/6//m/+j/6//z//z/AAACAP3/8f/j/9r/2P/g/+v/9P/9/wQADQATABYAFAANAAAA8P/o/+j/7f/0//n/+v/6//7/AAAAAPz/+f/5//b/+v/8//7/AAADAAYABwALAAwACQAAAPb/8f/q/+b/5//u//T/+v/9//7///8AAAMACQARABcAHQAhACAAHwAVAAwABQAAAAAAAwALAA4ADgAMAAgAAwD8//f/8f/q/+j/6//0//3/AgAHAAcAAwAAAPr/8f/u//L/8//0//n//v8CAAkAFAAbABsAIAAkACUAIwAbABQADgAQABEAFAAYABkAFgAPAAYA/P/y/+//8v/1//j/+/8AAAkAEwAeACYALAApACUAHQAUAAwABgAAAPj/9P/u/+r/6//u//P/+P/5//T/6//f/9P/zP/O/9n/5//3/wAAAwD///j/+P/9/wcADgAQAA8ADQALAAoACgAJAAwADwAVABYAFAAOAAEA+P/y//T/9P/2//j/9P/0//X/8//v/+3/8f/1//3/AgABAPn/7//u/+j/5f/o/+//+f8DABMAHQAdABkADQD5/+f/2//V/9n/5v/w//j//v////3//P/+/wMACQAJAAUAAAD//wAABwAQABgAHQAeABgACQD+//T/7//y//3/CAANABEAEQAIAP//9//r/97/2f/a/+X/8f/+/wkAEgAdAB0AEAD+/+n/1//O/9H/2v/n//L/8v/u/+n/4//j/+b/6v/v//n/BwATAB4AJAAiAB0AFQATABIAGAAgACIAIgAaABIACgADAAYACwASABgAFwARAA4AEgAZACQALwAzADMAKwAjABoADwACAPv/+v/3//b/8f/l/93/1P/T/9b/3P/l/+b/4//f/9j/2f/f/+v/+P8AAAcABgACAAAA/v8AAAgAFwAqADUAOQAzACgAGwAPAAgACAAQAB4ALgA6AD0ANAAlABMABwADAAYACwAOAA8ADAAFAAAAAwAJAA0ADgALAAIA+P/z//H/9/8AAAUABQAAAPf/6f/f/97/5//y//3/BwAPABYAFwAOAAEA9v/y//T/+/8FAAkABwABAP///f/6//n/8v/p/9//1f/R/8v/zf/S/9n/6f/3//z/+f/z/+3/5//h/9v/2P/b/97/5//z//7/BAD+//b/8v/u/+//8//9/wgAFQAcABoAFgAMAAQAAwAFAA8AGAAaABgAEAAEAPv/9P/y//H/8//6/wIABQAFAP7/9P/u/+T/2//X/9T/0P/P/8//1P/b/+L/6P/x//r/AQAFAAAA+v/y/+//8//8/wgAFQAiACgAKgAmAB4AFwASAA4ADQAEAP3/9f/z//v/AgANABEAEAAOAAYAAQD8//T/7f/q/+3/9f8CAA8AFwAXAA4A///w/+j/5//t//b//f8CAAcADAASABgAGwAZABEAAwDz/+X/2//c/+f/9v8EAAsADAAIAP7/9f/0//P/9v/4//7/BQAOABkAIwArAC4AJwAeABgAEgARABIAGAAcABwAHQAWABEAEAAQABMAEQAPAAsABgAFAAUACgASABwAIgAeABcABQD0/+r/4v/j/+///v8MABUAGAAWABIACwACAP7/9f/p/+H/2//c/+P/7v/9/wsAGwAkAB4ADADw/9P/wf/A/8z/5f8DABkAKQAsACkAJAAaABQADAAIAAcAAwD+//j/+P/6/wEACgALAAoAAQD1/+f/2v/X/9f/3P/h/+b/7P/v//X//v8HABEAEwAWABcAGAAYABYAEgAOAAUA/v/8//7/AQAJAA0ACwADAPr/8//w//T/+f/7//7/AAAFAAoAEAASAA4ACgACAPr/8//s/+X/3//e/+D/5//y////CQAQABIADgAHAAEA/v/7//z//v8AAAUADAAQABMADwAIAAEA+v/1//T/9v/4//3/AAACAAQAAwABAPv/8P/p/+f/6v/w//L/8f/t/+3/7P/p/+r/5//l/+H/4P/j/+n/9f8BAAoAEQAVAA8ACQABAPn/8f/t/+//+P8EABEAGgAaABoAGQAVABEADwARABQAFgAYABgAEgALAAAA+f/2//X/9f/2//f/9P/1//3/BQARABwAJAAlAB4AEwAIAAAABQAPABgAHAAZABQADgAMAAoABQD9//j/8f/q/+z/7f/y//n/BQASABoAGQAQAAQA+v/z//D/8//1//T/9P/3//r/+//6//j/9v/1//X/8//1//X/9v/5//T/7//s/+7/9P/9/wIABgAGAAUABQAHAAcABgADAAQADQAVAB0AIAAhACAAGwAbAB0AHwAeABYACgD7/+7/6f/o/+z/9f/7/wEABQADAP//9//u/+j/6//3/wYAEQAVAA8AAAD1/+7/8f/2//j/9v/0/+//7f/w//X/+//9/wEABQAJAA4ADgAMAAgABQADAAQABgAIAAcAAgD7//T/7v/u//D/9P/9/wUADgAUABcAFAAQAAsABQAEAAMABAAAAPv/8//m/9v/0//S/9P/1P/W/9L/0//Z/+H/6v/1/wAABwAKAAgABAD///b/8//y//T/+f/9/////v/8//v/+v/7//3//v/+/wAAAAAEAAgACQAKAAgABwAHAAgACAAGAAAA9//t/+X/4f/i/+r/9f/+/wIABwAMABAAEwAWABcAGAAcACEAIwAhABoACgD5/+v/3v/U/87/yf/F/8j/0P/e/+7//f8HAA0ADgAMAAUAAAAAAAIADgAiADUAQABDAD4AKgAVAAIA8//q/+b/5v/m/+b/5//t//T/+/8BAAMAAQD7/+7/4v/c/9//6//7/wwAFwAZABkAFQARAAwABwADAP7//v8DAAgADwAUABUAEgALAAUA///5//b/+P/7////AAD8//X/6//n/+f/6f/w//r/AAADAAcADAASABYAGAAWABUAEwAPAAsABwAIAA4AFwAfACIAHgAVAA0ABAAAAP7/+v/6////AgABAP3/+f/2//j//f8AAAIA///1/+v/5v/n/+7/9v/+/wUADgATABIAEQATABgAHQAeABcACgAAAPz//v8CAAUABAAAAPv/9v/0//X/8//w//P/+P8BAAwAFwAgACcAKgAgABIAAQDz/+3/8v/6/wMACwAPAA8ACgAGAAAA+//2//X/+P/6//7//v/9//r/9//3//X/8v/w/+3/6v/s//P//f8IABQAIAAkACMAHQATAAsACwAQABYAHAAXAAsA/f/t/+L/2P/U/9P/1//e/+T/6P/o/+v/8f/3/wAABwANABEAFAAbACUALQAwAC4AJgAZAA0AAQD5//P/8f/v/+z/7f/t/+v/6f/n/+n/7P/u//L/9P/5/wAABQALAAwADAAKAAUA/v/1//L/7f/o/+b/6f/x//v/BAALAA4AEQAUABIADAAAAPL/6P/m/+//+v8CAAMA///4//P/8f/u/+X/3f/Z/9j/3v/o//X///8EAAkACQAIAAkABQAAAP7//f/9//z//v8BAAUACQAJAAgACAAMABEAEQAPAAkABQAFAAUAAgD6/+7/4//c/9r/3P/k/+3/9v/+/wIACAANABMAEgAQAA8ADgARABAACgADAAEAAQABAAQABAADAAAA//8BAAUACQAHAAMAAQD8//n/+P/7/wIACgAPAA4ACwAHAAEAAAD+//3/AAAGAAwAEAASABIAGAAgACgALgAvACoAHgATAA0ACAAHAAkABwAHAAYACgAPABMAEgANAAkABAAFAAgADAAPAA0ACwAHAAQAAwABAAEAAAD///v/9//z//D/8P/v/+7/7v/t/+3/6//r//D/+P///wMACwANAAwACwAJAAQA/f/2/+//6f/k/+n/8////wcADgASABMAEwAKAP//8P/i/9b/z//P/9T/2v/g/+f/8f/8/wUADwAXABwAHAAXAAwA///z/+7/8P/z//f/+f/3/+3/4//c/9n/2//f/+L/5P/m/+T/3//b/9j/2//m//f/BQAPABUAFwAVABMAEQAPAAwACwAPABQAGwAdABwAGAASAA8ADQAGAP3/9//w/+3/7P/v//L/8f/w/+//8f/y//P/8//y/+7/7P/s/+3/8P/z//f/+/8AAAMABQAFAAUABQAHAAwADQAMAAkABQABAP/////+/wEACAARABkAHwAlACcAKQAsACsAKwAnACAAHAAaABsAFwAUABIAEgAXAB0AIgAhABoADwAFAAAA/f/9/wEABwAMABIAFAATABAADQAHAAQAAAD8//r//P8AAAUADAAVAB8AIwAkACEAGwAXABMADgAIAAEA/f/8//v/+v/3//L/7v/r/+7/8f/0//T/8//y//D/8P/t/+v/6f/k/9//3//j/+r/8v/4//j/9P/v/+3/8f/2//r/AAAHAAcABAAEAAkAEgAcACUAJgAhABUABgD6//L/6v/h/9z/2P/Y/93/5P/q/+z/7f/r/+r/6//p/+X/4P/c/9n/2v/g/+r/+P8AAAEA///2/+b/2//Y/93/5f/r/+3/6v/m/+L/3f/h/+v/+P8EAA8AEgAPAAsABAABAAEAAgABAAAA//8AAAAABgAKAA0ADgAOABAAFAAXABYAEwANAAUAAAACAAYACwANAA4ADgAJAAIA+//0//H/9P/7/wIABwANABIAFAAUABcAHQAgACQAJgAhABgADwALAAkADwAYABwAGwAUAAsABQADAAkAEQAcACUAKQAtACoAIQASAAEA+P/w/+r/5P/e/97/5f/1/wMADAAQABEAFAATABIAFAAUABgAIgAnACQAGQAOAAQAAwAIAAsADAAIAAUABAAJABMAHQAqADIANgAxAB8ACAD1/+r/5//p/+3/8f/1//z/AwANABEADQAGAAEAAQAHAAsADQAQABEAFAATABIACgAAAPn/8//y//L/9P/1//X/9f/w/+n/4//m//T///8IAAoAAgD3/+n/3//Z/9r/4f/r//n/AwAHAAgABAAAAPj/8v/x//L/8v/o/97/1P/W/+T/8f///wcACQAHAAIAAAD8//f/9//4//z////+//b/5f/U/8b/wv/F/8f/xf/C/73/uP+7/8b/0v/d/+P/5f/k/+P/5v/u//f/AAADAP3/7v/g/9L/yv/L/9D/0//T/93/6//2/wEABwAHAAEA+v/1//L/8v/y//L/8f/y//X/8//z//T/9f/4////BQAIAAwADwASABgAIgAuADIAMwAqABYABgD+//v/9v/1//P/8f/t/+r/8P/6/wsAHwA0AEMASABGADwALQAeABAABwAAAPr/+f/9/wIABgAGAAgADgARABYAGwAbABwAHAAbABsAHgAgACQAKAArACwALAAtACwAJQAgACAAIAAkACsALgArACUAHAAWABcAHQAdABUADQALABAAFwAdAB0AGgAaAB0AIAAfABsAGQAaAB0AIAAfABgAEgANAAwACQAGAAUABQAJAA4AFAAaABsAHAAcAB4AHgAZABQAEQAKAAUA/f/t/9r/yv/J/9H/4P/x//7/AwD///r/9f/z//j/AAALAA0AAwDy/+L/0P/E/8D/wf/I/9L/2v/i/+b/7f/6/wgAGAAgACEAHQATAAcA+v/n/9f/y//L/9L/1//X/83/zf/U/9//7//4//3/+//6//v/+f/1/+z/6P/r//D/8//u/+T/2//W/9f/1//V/9X/2//r////DAAPAAwACgAFAAIA+//w/+v/6P/s//H/9P/z//D/7P/r/+z/6//r/+z/6//t/+3/7f/w//P/+v/9/////f/6//v/+f/+/wAAAwALABYAHgAhACAAHAAcABwAGwAVAAcA+//2//v/BgARABYAEgAIAAIAAAD+//v/9P/w//L/+P8AAAUACQAOABMAFgAZABcAEAAEAPr/9f/u/+7/8P/3/wQADwAXABwAHwAiACgALwAtACQAFgAJAAAA/P/9/wAAAAAAAAQACQATACEAKAAsACcAIQAeABsAFwAPAAYA/P/0//X/9//0/+z/4v/c/97/5//x//r//v8AAAMACgANAA0ADwATABgAGwAbABEA/f/i/8b/uf+3/8P/0//d/97/2P/R/9H/2f/o//r/BwANAAwABwACAP///v/8//n/+P/0/+//6P/k/+f/8v/+/wcADAAIAP3/8P/t//b/BAATABoAFgAGAPP/4f/Y/9P/0f/S/9T/3P/o//b/AwALAA4AEQAWABoAIAAhAB8AGAARAAsABwAEAP7/9v/u/+3/8//7/wAA///7//n//P8CAAkACgAHAAAA//8DAAkACwAHAAEA/P/7/wAABQAEAAEA//8AAAYADAAUABgAGAAcACEAKwAvAC8AKgAnACUAHwAbABYAFgAaAB8AIgAeABQABwD9//X/9f/0//L/8P/p/+X/4P/c/9v/4f/r//r/CgAVAB0AHQAbABcAEgAPAA4ACwAGAAUABwANABEAEQALAAIA/P/1//b//f8EABEAGwAjACIAGwAPAAQA/f/6//f/7v/h/9f/2f/n//v/CgATABgAGwAeACMAJAAgABcADwAMAAoABQD2/+P/1f/U/+H/7f/w/+v/4f/c/+H/7P/9/wYACQAKAAUAAgAAAPz/8//n/97/2f/Z/9j/2//i/+b/7P/x//r/AAADAAUACgAQABMADwABAO//4P/b/+H/6P/s/+b/4f/j/+7/AwAVACIAIwAfABsAGAAYABUAEQAHAP7/8f/j/9b/0P/T/9j/4f/o//L//v8HAA0AEgAZAB0AHgAWAAMA7v/d/93/6v/6/wQAAQD2//D/8/8AABAAGgAdABoAEwALAAcACQAQABgAGgAPAPv/4v/N/8X/x//V/+P/7f/0//n/+//9/wYAFQAmAC8AJgAMAO//3P/Z/+L/6P/n/+D/2P/f//L/CwAeACcALAAvADoARABGAD4AMAAgAA4A/P/q/+D/2v/a/97/6f/4/wEACAALAAsACAAKAA8AEAAJAPr/5f/Y/9n/5P/x//D/6f/j/+b/9P8CAAwACAADAAsAGwAsADQAMQAlABYADAAEAP//+v/4//7/CAAPAAwACgALABQAKQBAAE0ATQA+ACIABQDw/+b/6//4////+P/j/87/x//R/+f/AQAaACYAKAAlACAAIQAgABwAFgANAPz/5v/Q/77/t/+4/8H/z//d/+v/9v///wwAGAAeAB0AFQAJAAAAAAAEAAkAEwAYABIABwD3/+T/1P/L/9D/3f/s//7/EQAlADIANwAyACIADQD8//H/6f/n/+j/7f/3/wAABwAJAAcAAgD9//v//v8BAAYADAAPAA0A///l/83/xP/K/93/8P/5//v/9//1//v/BgAXACMAKAAiABQABQD3//D/8//6//r/8v/q/+P/5v/w/wMAFgAdABwAFAALAAEA+////wUACAAIAAAA8v/l/93/3v/k/+z/9f/7////AAAAAP//AQAHAA4AEAAMAAUAAQAFABAAGAAYAAoA+v/t/+f/7//+/w4AFwAZABsAHQAfAB0AGgAPAAIA+//4//v//P/3/+z/5f/j/+X/6v/x//X/9//6//3/AQAAAP///f///wUADQARAAwACgALABAAFQAVAAsA+v/n/9X/zf/X/+//CwAgACYAHAANAAEA/f///wAA/f/2/+r/3v/Q/8X/v//H/93/+/8JAAcAAAD2//X/AAAPABsAJQAlACAAGgAOAAEA+v/2//L/8//1//j/AAAQACEALQArACEAEgAHAAMA/f/1//H/7//u//D/7f/j/+b/9/8KABQADQAAAPf/+v8KABMAFAATABQAGgAfAB4AEgD+/+7/5P/i/+b/6v/v//j/BgATAB4AKAAtADIANAApABgAEQAKAAIA/P/z/+z/7//6/wEAAQD8//j/BAAhADoAPwAvABQABAACAAkABgDw/9T/uP+r/7X/yv/g//f/AgAKABIAFwAlADQAPwBJAEkAQwA4ACQADgD4/+T/2//i//L/+//4/+7/6f/y/wYAHAAlACAAHQAcACcANwA4ACcABADf/8X/vf/M/+X//f8JAAQA/f/+/wMAEgAhACYAIAAeABwAEwABAOb/yf+1/7T/vf/E/8b/xP/S/+//EQAoADEALwAnACAAIQAjABgAAADd/7r/n/+U/5r/qf/A/9P/4v/s//v/EwAsADYANgA0AC4AKAAeAAoA8f/j/+H/5//r/+L/zv+5/7z/2v8AABsAKwAtACwAMwA7ADkAJgALAOv/0P++/7T/sv+6/8X/zf/V/9r/6f/7/w4AIQAxAD0AOwAvABoAAADf/8H/s/+7/87/1//R/8f/0P/t/xQAPABfAG0AbABoAGEAWgBFACUAAgDh/8v/v/+1/7H/u//M/+T/+P8IABgAIAAoAC4ANAA6ADkALwAbAPr/2//E/7z/xf/P/9L/0f/X/+f/AAAfAEMAZAB0AHoAeABnAEQAIgAIAPf/7f/o/+H/1//Q/9D/4P/8/x4ANwBBAEQARABFAEcATQBOAEEAJwAJAPb/7//r/+r/6v/r//L/9f/4/wUAHAA3AEsATQA6ABYA9f/T/63/kv+H/4T/h/+b/6r/uf/O/+L/9v8GABEAFwAaABoAHAAbABUA/f/a/73/sP+3/8L/0//e/9v/1f/W/+L/9P8NACYANAA2AC4AFADm/77/wv+4/4//pv/c//L/6f/n/w8AMgBFAGAAaQBdAFEAPQAtAC8ARgBDAAwA2v+4/6z/sf/J/+7/6//Y/97//f8nAE0AbAB3AGkAWwBFADMALwAeAAwA8f/a/9H/wf+7/73/vv/K/9//9P8DAAQABQDw/9j/2f/k/+v/3f/P/8T/sP+k/6z/vP/C/8L/vf+5/8H/yv/A/63/of+i/6b/pf+g/5T/jf+E/33/if+Y/6H/of+f/53/lv+V/5v/mf+Q/43/k/+l/77/2P/r/wAAEQAWAB8AOABbAHAAfQCPAJsAoQCfAI8AeABsAHcAhACGAIoAhAB3AH8AnwC7ANIA8QAIAQ8BEgEaASgBKQEWAQcBCAETARcBFwEgASgBLgE3AUYBUwFhAXEBdgF2AYABfQFdAS0B+gDJAKYAnQCmAK0AqACcAJEAjACXAKIAnQCKAG0ASAAkAAMA5v/L/7T/l/92/1r/QP8x/0D/XP9l/13/Uv86/xX/+v7t/t3+yP6w/pD+Xf4v/hf+B/4D/gf+CP4G/gf+EP4k/kT+ZP5v/l3+QP4j/gH+0/2o/ZT9jf2A/W/9aP1z/ZH9uv3q/SP+U/5s/mz+bf6A/o/+oP67/tn+5P7Y/tL+3P75/jT/bv+Q/6n/zP/5/x4ATwCRAL0A0gDvABIBJgEpATcBSgFWAWMBbAF1AZABvwH0ASMCUgJ4AoACdgJtAnACdgJ7AoICdwJbAjsCGAIHAg0CGgIfAh0CJQIwAjgCRwJcAmECTAIqAgQC1QGjAXsBZgFbAUcBHgHuANEA0QDXANwA7QAEAQsB+gDiAMgAowB3AFEAKwDx/6j/ZP81/xL/8f7W/r3+nP5p/i7+CP4E/g7+Dv7+/eH9sv10/Tz9Hv0b/SD9D/3k/LT8lPyA/HL8efyU/Kj8sPzA/Nf84fzi/O78+/z2/Or83fzS/M/81PzP/L/8v/zM/Mr8yvz0/Df9cf2n/eb9Gv4r/if+Mf5P/nD+kP64/t/+8P7r/vH+Gf9d/67/BABTAJYA1AABASQBUwGBAYwBeQFuAXQBhAGnAd4BDQIiAicCNgJmArwCHQNrA6YDyQPHA7EDrAPGA+0DEAQiBCQEGwQOBP8DBgQzBGgEhgSTBJkElgSNBIgEhAR0BEwEBgSyA2gDLQP8At0C1gLHApsCZAI+AjQCPAJLAlMCTgI0AvgBpQFaASwBDgHtAMUAlgBaABUA3f+//7X/sP+l/43/X/8k//L+0P65/p/+bf4e/sT9cf0l/ev82Pzi/OH8z/y8/K78pvyo/LD8rvyd/H/8Wvw2/CD8Efz/++774/vO+6z7m/uz++n7Jvxj/JL8o/yc/Jn8qvzO/Ov84/y4/ID8UPwr/BT8Gfw7/GX8hPyi/M38/vwu/WT9pP3P/dP9vf2k/Y79fP1y/W/9ef2I/Yz9hv2W/dn9QP6p/gf/Uv97/4j/k/+2/+b/BgANAPz/2v+u/4P/cv+K/8T/CgBIAHgAnQDFAPEAKgFtAaQBtQGjAYgBagFGASgBHQEhASQBHgEYASABRgGIAdYBGwJKAmQCdQKIAp4CrQKwAqgCmQKEAmECNQIUAg8CHwI+AmwCngLFAuMCCAMvA1EDbQN2A2kDTwM3AxwD+wLfAsgCpwJ6AlUCSgJeAowCxwL8Ah8DLwMzAy8DJwMSA+cCrgJ5AkwCFgLaAaoBlQGcAa4ByAHrAQ0CJwI3AkcCVAJYAkkCLAINAu0BzQGwAZwBlAGFAWwBVQFUAXABogHhASACVgJyAnICYQJEAhoC5gG5AZgBfQFYATEBGQEgAUABZwGKAakBxwHgAe8B8gHrAdsBxQGoAX0BSAEVAfEA3QDTAMwAxgDEAM0A4gD6AA8BHwEwAT4BPQEiAegAlgA6AOj/pf9t/z7/G/8I/wb/Fv8v/0f/XP9w/4D/f/9r/07/Kf/8/sf+iP5B/vf9u/2S/Xr9b/1z/YP9kf2Y/Z/9rv3E/d/98/30/dj9qP1u/TD99PzC/Jz8ffxv/Hv8k/yu/M788fwM/R/9M/1K/Vr9XP1Q/Tr9Hv3//N/8wvys/J/8oPyv/MT81vzd/OP89fwb/UP9YP10/YD9g/16/Wv9V/0+/ST9Ev0R/Rr9Kv1B/WT9lv3L/fX9F/43/k/+XP5l/mz+bP5l/lr+Uf5K/kv+Wv52/p3+yf7p/vz+FP88/2v/lv+5/8r/yP+1/6D/lP+L/4L/eP9z/3f/hv+f/8D/4f/9/xQAKwBEAF0AaQBhAE4AOQAmABAA///y/+b/3//n//z/EQAjACgAJwAoADQASwBjAG8AaABYAEYAMwAdAAQA6P/S/8v/0P/X/97/6//8/wsAGwArADcAQABGAEIAMgAfAA0A+f/g/8T/rv+o/7n/3v8BABUAGwAZACIAOABOAFQARwA0ACoALgA4ADoAMQAmACkAPQBVAGkAegCQALYA5wAQASgBMAE0ATgBOwE4AS4BIgEXAQ8BEAEXASkBRwFrAY4BrgHPAfABFwJDAmkCewJ9AnkCeAJ5AnsCgAKFAosCjwKVAqECtwLPAucCCQMuA1EDaQNzA2gDTgM1AycDKgMxAy8DIQMRAw8DFAMZAx4DKAM6A1MDcgOJA5MDigN1A10DSAM3AycDGwMSAwkD+gLiAswCuwK3ArwCwAK9ArMCogKUAoUCagJDAhcC+AHnAdUBuQGOAWcBTAE+ATsBOgE3AS0BKAEqASgBFwH2AMkAmQBzAFcAPQAlAA0A9f/S/63/kP9+/3z/hP+M/4b/dv9g/0j/Kv8J/+P+vv6i/pT+i/59/mv+Vf5B/i/+I/4f/h/+H/4d/hr+G/4X/gb+7f3Y/c79xf26/a79n/2N/Xn9aP1d/Vj9V/1Y/Vz9YP1m/Wz9bv1o/Vj9RP01/S79Jv0e/Rb9D/0F/ff87fzq/O78+fwI/Rn9Jv00/UH9S/1Q/Uz9Qv07/Tr9O/03/TH9MP0w/TH9Nv08/UH9S/1d/Wz9c/1u/Wb9Zf1w/YD9if2L/Y/9l/2h/a/9wP3P/d797f38/Qr+GP4m/jD+N/5B/lT+bv6K/pz+n/6Z/pv+qP67/tD+4f7r/vD+8v70/vX+8/7x/vj+DP8p/0b/Vv9d/2P/bf94/4X/lv+o/77/1v/o/+//5//b/8//yv/N/9D/1v/k//7/FwAjABwADAABAAYAHgA/AGMAiAClALUAugCzAKMAkwCSAKgAyADjAPMA+gD4APYA+QAHASUBSwFnAW8BZAFTAUYBQwFMAVUBWAFdAWkBfAGOAZUBjwGCAXwBhQGcAbcByAHOAcoByAHKAckBxAG8AbIBrQGyAcMB1gHiAeQB4gHjAekB+QEMAhsCHwIaAg8CBgL/AfIB3QHGAb4BxgHaAewB7wHjAdMBywHTAeYB+wEFAgQC+gHsAdMBsQGUAYUBhAGIAYsBigGHAYYBhQGBAX0BfgGDAY8BmgGZAYgBbwFWAUEBLwEdAQ0BAAH+AAMBCwEOAQwBCgEJAQ4BGQEqAT4BTwFVAUYBJwEHAeoA1ADBAKwAlQCHAIkAjwCMAHkAYABRAFQAXgBjAFgAQgArABgACAD9//P/5//e/97/5v/z//3//v/3/+7/6P/l/+f/8P/3/+//1v+3/6D/k/+L/4H/bv9W/0b/Rv9U/2L/Y/9Z/1D/Uv9b/1//VP88/yD/Dv8F///+9P7l/t/+5/7z/vn+9P7r/uX+6/70/vn++/75/vX+7f7c/sj+vP7A/sr+zP7E/rj+qv6g/qL+sf7I/tn+4v7l/uT+4f7W/sz+x/7K/tD+1P7W/tP+yf69/rj+vf7I/tD+0v7Q/sn+xP7E/sT+vP6q/pn+lf6e/qz+s/6v/qj+n/6W/pL+lv6k/r/+3/75/gj/C/8L/wn/A//4/u3+7P74/gr/G/8k/yX/Jv8o/y//O/9F/0r/Sf9C/zX/JP8S/wj/C/8d/zz/Xf93/4P/gf92/2v/aP9u/4D/mf+u/7f/sP+i/5P/h/+C/4T/jv+f/7L/v//D/8H/vf+7/77/xf/P/93/7v/7//7/8//g/9P/3v/+/yQAPwBGAEIAQQBGAE4ASwA9ADMAPABTAGgAagBZAEIAMAArADYASwBeAGoAbwB1AIgAogC9ANIA1wDNALsArgCqAKYAmAB9AGIAVgBiAIMAqwDJANgA4QDxAAgBHgEnASIBFQELAQkBCwEEAfQA4gDTAMoAvwCxAKMAnQCkALUA0QDvAAYBFwEgAR4BFwEMAQMB+gDvANsAwgCvAKwAvQDYAPMACAEbAS4BQwFWAVsBUgFAATIBLAEnARoBAwHrANsA0ADEALgAsgC5AM0A4gD1AAgBGQEmASkBHgELAfUA4QDQAL0AogCCAGkAYABiAG0AeAB+AIIAhQCJAIsAkACTAJQAkwCRAIwAgABqAFEAOQAnABgACgAAAP//BgATACAALgA5AEQASwBOAFAAUABMAEAAKgAJAOP/vv+h/5D/iv+F/37/dP9r/2f/Zf9r/3r/j/+q/8T/1P/Q/8H/qv+T/3//Zf9M/zv/Nv86/z7/PP8z/y//Nv9G/1r/av9x/2j/Wf9L/0H/Nv8m/xf/DP8I/wn/DP8P/wv/BP8C/wX/EP8n/0b/Yf9r/2T/Uv9C/zj/Lf8c/wX/8/7s/u/+9/76/vf+9f4C/yT/Sv9s/37/gP97/3b/ef97/3f/a/9Y/0f/O/84/z7/Q/9C/zz/Of9B/1j/dP+L/5b/lP+N/4z/lf+b/5r/mv+c/57/mP+K/3n/c/9//5z/vP/M/9L/1f/c/+b/6//w//n/CQAXABQAAADg/8T/tv+7/8X/y//L/87/4/8DACUAOAA6ADcANgA/AEsAWABcAFAAOQAdAAAA5f/e/+7/CQAlADUANgA1AD0ATQBhAHAAfACJAJoAqACmAJIAdABcAFYAYQBtAGoAWwBMAE0AXABzAIYAkgCaAKYAvgDaAOkA4gDHAKkAkgCFAHsAdQB2AHgAfACBAIsAmQClALUAzADlAPoAAgH7AOEAxACxAKkApQCbAI4AggCBAIYAiwCNAIoAjgCcALIAwwDMAM8AzgDNAMEArgCXAH4AbgBjAF8AVgBIAEAAQwBQAFcAWgBYAFcAXgBpAHYAewB3AG8AYwBTADwAIwAPAAcABgAFAAAA9v/v/+3/9P8AAAwAGAAiACkAKgAhAA8A/P/w/+//+P8FAAoABgD9//b/+P/8/////v8AAAIABQAJAAEA6//W/8n/wv/B/8P/vv+0/6v/p/+r/7H/tv++/8//5f/6/wUA+v/a/7j/o/+e/6X/r/+w/6b/mv+O/4j/jP+b/7H/yv/k//b/+f/q/9T/xv/H/9T/3//i/9f/xP+r/47/dv9h/1f/Wv9o/4D/mf+y/73/u/+t/5v/jv+J/43/kv+T/4b/cf9c/03/Tf9a/2//h/+g/7T/v/+//7X/pP+Z/6D/sf+8/7v/r/+c/47/iv+R/5z/rP/B/9j/7v/6//3/9//r/+D/1f/S/9T/1v/N/7r/ov+M/4H/ff+F/5P/pf+4/8X/yP/I/83/2v/s//j//P/4/+r/0/+5/6L/kf+P/5P/nf+k/6j/s//C/9H/3P/p//b//v8AAP3/7//b/8z/yf/S/+D/7P/0//X/+v8AAAoAEwAYAB0AIgAmACwAKwAhAAwA7v/P/7f/rP+t/7b/wv/P/97/7f8CABoAMQBCAFAAXQBjAGEAUQA0ABIA+f/q/+T/5P/c/8//wP+4/8H/2P/1/w8ALQBJAF8AaABgAEoALQARAAAA/P/+//3/8v/l/9n/2P/m//7/GgA2AE8AYgBxAHYAagBSADYAHQAOAAMA+f/t/97/1v/V/9n/5/8AACMASABmAH8AiwCGAHMAXQBGAC8AGQAHAP7/7//f/9L/zf/R/+T/AAAfADoASQBSAFMATgBHAEMAQAA+ADwAMwAoABYABgD+//n//f8IACIAQwBiAHQAdwB1AHMAdwB8AHoAbABPAC0ADwD6/+3/8f8AABMAIwAsAC4ALgAxAD0AUgBjAGkAZABbAE8AQwA3ACoAHwAVABAACAAFAAYACQAXACcANwBFAFAAVwBYAFIAQgAuABEA8v/U/73/sv+0/8X/4P/6/w0AHAAlADIARgBdAHAAcABcADgAEADt/9T/yP/C/8D/vP+5/7P/sf+3/8v/6v8NACwAOAA0ACMADwABAPv/+//6/+7/2v/G/7P/pf+h/6j/uf/P/+H/7f/x/+3/7P/t//H/8//s/+P/1f/G/7b/qf+l/6v/tP+0/7L/tP/C/93/9v8JABUAGgAcABkADQABAPf/6v/b/87/xP+3/6r/nP+a/6L/s//L/+D/8f/8/woAGwAmACIADgD0/9z/0v/O/8r/xf/D/8b/y//Q/9X/4P/z/wkAHQAmACEADgDy/9f/xP/C/87/3v/r/+z/4P/X/9T/3P/q//3/EQAiACgAJgAiABQAAQDv/+P/4//o/+z/5//Z/8P/tf+0/8D/2f/4/xMAIQAhABkAEwALAAcABgAFAAQAAAD5/+3/6P/q//b/CAAbACsAMgAwACYAGwAVABkAIwAoACcAIgAXAAgA+f/x//L/+f8AAA0AIQA4AEkATQBDAC8AHwAWABMADQACAPH/4v/W/9P/2P/d/+v/AAAZADQASwBcAGEAXABPAEcAQwA/ADIAHQAHAPD/2f/F/8D/x//Y/+z/AAAZACsAOAA9AD8AQwBCAD8AMwAiAAsA+P/q/+D/4f/r//r/CQAYACQALQAyADcAQABEAEAAMwAgAA8A///4//z/AwAIAA0AEgAWABUAEgAVACEANQBKAFgAXgBVAEEAKwAYAAgA+v/w/+b/2P/J/8P/zP/d//b/EgArAD0ARABGAEUAQQA7ADcANAAqABgA///j/8v/uv+4/8T/0v/f/+3/+v8FAA8AGAAlADIANQAtAB0AAgDh/77/pv+d/6T/tv/T//X/DAAbACAAJAApADUAPgBBADkAKAATAPn/1f+y/5z/mP+h/6//uv/A/8f/zP/c//b/FwA1AEgATQA+ACgADAD1/+P/1f/M/8T/wP/A/8H/xP/I/83/2v/u/wMAFwAkACkAJAAXAAcA+v/w//H/+v8BAP7/7//Z/8H/sv+z/8f/5v8GAB8AJQAfAA4AAgADAAkADgALAAAA5f/F/6v/pP+0/9L/8v8NACAAIgAeABEACAAGAAcAEAAWABEAAADu/93/0f/M/87/3f/1/xAAJwAxAC4AHgARAAcABAAGAAsAEQANAAAA5//R/8P/w//X//X/EgAlAC0ALAAqACcAJgAnAC8APQBKAEsAPAAkAAkA8v/m/+n/9f8AAAMAAQD6//D/7P/x//3/CAARABQAFwAZABUAEAASABYAGgAaABMACgAAAP//BAASABwAGwAWABMAFAAXABsAGAAPAAYA/v/4/+//4//a/9X/0//V/93/6f/1/wIAEgAcABsADgABAPv//f8DAA0AEwAQAP//5v/R/8j/0v/p/wsAKQA7ADsAMAAjABkAIAAqADoARwBMAEcAMQASAO//0v/F/8X/0f/g/+//+/8BAAMAAgACAAQADAAWACQALwAsABsAAADr/+H/4//w/wAAEgAWABEABgD+//n/+v8DABIAJgAwACwAIQAQAAMA9v/r/+D/2//f/+f/9v8CAAwAEgAUAA8ACAAAAPn/9//5//r/+f/z/+v/5P/g/+P/7v/6/wEABQAGAA4AGQAlACsALAAnACAAGwAVABEADQAGAPn/6//e/9r/3v/j/+3/+f8CAAgACgAJAAcAAwACAAIAAgAEAAQAAgD+//T/6v/g/9f/zv/K/9L/3f/o/+7/8f/w/+r/5v/o//T///8GAAgABQD+//D/5//l//P/BwAcACwALwAkABQACQAIABAAFgAQAAYA+P/x/+7/6v/o/+T/3//Y/9X/3P/m//H/9//6/wAACQAMABIAGwAlACoAIAANAPP/2f/I/8n/2P/v/wUAGwAsADIALwApACgALwA+AEsAUgBRAEEALQAYAAMA7v/a/8v/xv/M/9f/4P/m/+j/6v/r/+v/7v/z/wAAEgAfACEAEQD9/+r/4f/k/+3/9f/7//7/AAAFAAYABwAHAA8AHQAsADcAOQA4ADMAKAAWAAEA5v/R/8f/zP/e//X/CgAUABMABwD9//T/8v/9/woAHwApACUAFAD8/+L/yv+5/7b/wf/X//P/CwAeACQAJAAgACAAJAAtADwASgBPAEEAIwD8/9T/t/+s/7r/1f/y/wYADAAAAOv/1//S/+D/9/8OABwAGgALAPT/2//I/73/u//A/83/3//w//3//v/4//X/8v/w/+//8v/9/woAGQAgABsADAD3/+v/8v8LACgAPABDADkAKAAWAAsACwAOABUAGwAdABkADQD9/+n/2f/P/9D/3f/z/woAHAAfABkACwD9//X/9f8AAA8AHgAnACYAGAAHAPX/6P/v/wEAGQArAC0AHwAKAPn/7v/v//n/BgAVABwAGQARAAkA/f/u/+P/4v/x/wkAIQAwAC0AHAAFAPD/4//d/97/6P/+/xIAIQAiABcABADy/+//+f8NAB4AKQAqACIAFQAHAP//+f/6/wYAHQAwADcAMwAjAAwA7v/X/83/0v/i//T/AQAGAAIA9f/j/9H/xv/N/+H//v8ZACgAJwAVAPv/4f/R/9H/3//6/xUAKQArABwAAADq/93/3P/t/wUAHQAmACUAFwD9/+b/1P/S/9z/9P8NAB4AIwAYAAMA7//k/+z/AQAaAC0ALwAhAAgA7P/Z/9j/5P/0/wgAHwAnACEADQD2/+X/3v/h/+z/+P8AAAQACQAOAA8ACgAIAAsAEwAeAB8AGAAIAPj/7f/s//T///8IAAkACQADAPv/8f/o/+H/4v/w/wAADgAUABQADgAGAAYACgALAAwABwAAAPv/8//x//T/+v8AAAAAAAD9//j/+P/9/wAA+//4//r//f8AAAAA+//x/+3/8P/4//3/+v/t/+H/3f/h/+3/+P8AAAgACwAQABIAFAAQAAcAAAD5//T/9f/7/wIABAAAAP///P/5//v///8JABMAHwAnACQAGgAMAAIAAAABAAUABgAAAPf/8P/w//T/9f/z//L/7//v/+7/6v/k/97/4v/p//b/AgANABUAFAAVABUAFwATABAAEAAOAAwACwAOABMAGQAeACEAHgAVAAcA+P/s/+L/4P/p//X///8GAAsADwAMAAEA+v/y/+7/8f/y/+7/5//g/+L/7P///xIAIAArAC0ALAAiABkAFAASABYAGwAjACEAFQAFAPr/8v/t//D/+f8HABcAIgAjABwACwD7//n/AAAQACIALQArABcA+//Y/8D/vf/K/+L/AQAXAB0AEwACAPH/4v/c/+T/9/8OACMAKgAlABEA8f/S/73/uf/H/+H//v8RAB0AGgANAAQAAgAMABkAKQA0ADQALQAaAAQA8v/m/+P/6f/0////BgAJAAoABQAAAAAAAQAKABcAKQA8AEYAQAApAAYA3/+7/6n/q/+7/9X/8f8GABIAFQANAAIA+//9/woAIAAzADcAKgANAOf/w/+1/77/3f8CACUAOAA0ACAABQD0/+r/7f/4/wYAEwARAAUA8//g/9b/1//k//X/BgAXABwAHgAcABgAEAAHAAYABQAMABAAEAAIAPX/2v++/7H/r//B/93//f8WAB8AGAAEAPL/6f/x/wQAGgAoACYAEADv/83/tf+v/73/2v/5/xIAIgAlACAAFgAQABMAEwAUABoAHwAkAB4ADgD0/9T/wf++/8v/5v8FACEALQAsAB8ADAD///3/CQAhADkAQAAxAA8A5f+7/6X/pP+7/+P/DwA3AE8AWABNADkAHgAMAAsAGAAqADMALAAWAPr/3P/H/7n/vP/M/+b/BgAhAC8AKAAXAP//6//h/+n//P8SACcALgAqABYA+P/X/7r/sP+6/9T/9f8SACIAIQARAPj/4f/S/87/2f/w/wsAIQAqAB4AAQDl/9D/z//k/wgAMgBRAFgAQwAbAPD/0v/L/97//P8UACIAHAAJAPP/4//c/9//8P8IACAALAAkAA8A9v/g/9P/zv/V/+H/8f8FABgAHwAaAAsA/v/6/wIAFAAjAC8AKgAeAAoA9//q/+f/8P/8/wcACQABAPL/4v/Y/9z/7P8AABYAJwApABoABADp/9X/0P/d//H/AgAOAA8ACQD+//T/8f/4/wUAFgApADgAOQAvAB4ACQDw/9r/0//c/+7/AgAUAB4AGAAHAPT/4f/a/+j/BAAmAEMAUQBOADoAGgD8/+T/2v/h//D/AwAQABAAAQDq/9H/wP/E/9z/AQAsAFIAZQBfAEQAHgD9/+T/1//V/9v/4//p/+P/1//J/7z/vP/K/+n/CQAlADUANgAqABcABwD8//j/+P8AAAUACQAIAAMAAAD9/wAAAwAFAAQABAAGAA0AFgAUAAsA+//n/9v/2f/d/+b/7//3////AgAKABIAGQAgACEAIQAeAB0AGgAXABMACQD///H/6v/p/+b/5//t//j/AAAHAA8AFQAYABgAFgAPAAYA///8//7/AgAEAAMABQAFAAMABAACAPz/+v/5//b/8f/x//T/9v/x/+L/0P/B/8D/1P/y/wwAHAAhAB0AFwASABQAGgAdAB4AGAAQAAQA9v/t/+3/9P/2//b/8//0//j/AgAUACYAMAAuAB8ABwDy/+L/4P/r//v/AgAAAO7/0//E/8T/2P/5/xoANQA6ADAAHgAOAAMA//8AAAMA///y/+P/0v/H/8P/zP/Y/+b/8//+/wkADwATABAACQD///f/+P/8/wgAEgAUAAsA+P/j/9H/yf/P/+D/8f/+/wQABQADAAUADwAaACIAJQAjACAAGgASAAYA/f/2//H/7//x//X/+v8AAAUAEQAkADMANwAsAA8A9P/k/+T/8v8GABoAIQAeAA4A/f/v/+r/9v8HAB4ALgAxACsAIgAYABIAFgAbACIAJQAjABgABgDz/+X/3P/b/+n//P8OABYAGAAYABEADAAIAAMAAAABAAIA///9//r/9v/1//z/AAD///3/9//1//z/CQATABgAFgANAAAA8f/r/+b/7P/3/wMAEgAfACsALgAoABoACQD8//v/AgAGAAgABAD9//P/6//n/+n/6//x//b/8f/w//H/9v/8/wAAAgAAAAIABAAHAAgABgADAAAAAAD//wEACAAMAAsABQD9//X/7v/n/+H/3//a/9D/yv/G/8z/2//v/wUAFwAjACEAEwD9/+X/2v/Z/+D/5v/p/+7/7f/o/+H/2P/T/9T/3v/v/wIAGQAqADIAMQAnABoABQD2//D/8////wMAAADz/+X/4P/f/+P/8v8CABIAHgAhAB0AFgAOAAMA+//z/+3/7P/x//3/AwACAP3/8f/n/97/3//l/+7/AAALABgAHgAUAAoABAAFAAwAFQAfACcAKQAoACUAIQAbABcAGgAfACYAKwAvAC0AKgApACUAIQAVAAEA8v/n/+X/6f/v/+//5//e/9j/1P/T/9X/4P/w/wAAEwAhACoALAAkABsAEgAOAAYAAAD6//f/9v/6/wQADgAVABcAGgAcAB4AIwAlACUAIQAdABYADQAFAP//9f/r/+P/2v/Z/9//6//6/wQABgAAAPf/8P/x//P//f8CAAEA+f/p/9v/z//N/9b/5P/6/w0AGwAdABkADwAGAAUACAAPABYAHAAiACEAHAAVAAkA+v/u/+f/6P/u//r/BQAMABAADAAEAPj/7//z/wIAEgAfACEAGAALAP//9v/y//L/8//w/+r/4v/Y/8//yv/J/8v/1v/m//T/AAAIABAAFQAUAA8ACgAFAP//9v/v/+n/5//m/+r/8v/6//7/AAAAAP//AgAPACIANwBKAFIATwA9ACUADQD2/+f/3//d/97/2P/T/8//0P/b/+r/+/8LABcAIAAjACQAJAAnACQAFgACAO7/4f/g/+f/7v/v/+//7P/m/+j/6v/u//j/AgANABMAEQAOAAkABAACAAAAAAABAAAA/v/8////BQANABMAFwAWAAsA/v/v/+v/8f/7/wYACgAJAAQA/v/5//n//v////7//P/1/+3/5f/g/9//4//x/wIADwAXABcADwAGAAAA/f///wgAEgAYABYADgAHAAEAAQAFAAMA/f/z/+r/5//t//v/BgALAAwACwANABIAGgAlACwANAA2AC0AHwAQAAUA/P/3/+//6f/q//D/+v8CAAoADgAQABEAEQATABQAFwAWABMADgACAPP/6//t//T/AAAFAAQA/f/y/+z/7v/4/wYAFgAjACkAKQAiABgACgD7//H/8v/4/wAABgAJAAYA///4//P/6//n/+n/7f/1//3/AwAEAAAA///9//n/+f/4//b/9//6//r//P8AAP//+//1/+//6P/e/93/3v/e/+T/6f/t//H/9P/x/+z/6//q/+7/9v///wsAEgAUABMADQAIAAcACQASAB4AKgAxADAAIQAMAPv/7v/s//P//v8JAAkABQD9//L/6f/k/+P/4P/d/+D/6v/2/wAACgAMAAkAAQD8//z/AAACAAIABAAHAAYAAQD6/+7/4//k/+3/+/8HABMAGgAYABMADwANAAsACwALAAwAEAAOAAgA/f/u/+P/2//Y/9r/3v/k/+r/8v8AAA0AGgAcABQADQAIAAgACwAQABEACgD8/+n/1f/G/8P/xf/R/+f/+v8HAAsACgALAA4AEgAaAB4AIAAfABoAFgAUABoAKQA0ADQAJwARAPj/4v/b/+f/AAAVACEAIgAcABMACAABAPz//P8AAAAA/P/z/+v/5v/k/+P/6v/1/wIADAAPABUAGQAcACAAIQAYAAoA///3//f//P8GAA4ADgALAAMA///9////BQAOABgAHAAdABgAEAAHAAAA+v/0//X/8P/o/+X/5P/m/+n/6f/q/+v/8f///wwAFgAZABMACgACAP3/+P/z//H/9P/+/wcADgANAAYABAAAAP//+v/0/+//8P/3/wAAAwABAAAA//8AAAYAEAAVABUAEQALAAUA/P/z/+v/6v/v//T/9f/z//D/5f/a/9b/1v/g//D/BAAVABwAGwATAAYA/P/8/wAABwALAAoAAwD9//v/AAAEAAkADAAKAAgABAAAAPr/8v/r/+b/4//d/9v/1v/T/9P/1f/c/+f/+P8HABYAIQAkACIAGgARAAgABQAFAAsAEQAUABUADgAGAAIAAwADAAIAAAD+//z//f///wAA///7//P/7//t/+7/7v/t//L/8//3//j/8P/n/+f/9v8JACEAMAA3ADYAKwAhABcAEQANAAwADgAOAA0ACgACAPj/8P/y//7/DAAaACEAIQAaABEADgAOAA8ADgAIAP7/9f/2//b/8//x//P/+/8FAA8AEwASABIACwD//+3/2P/K/8j/0v/h//X/AQACAAAA/////wEABgAMABMAHQAkACQAHAAPAP//9P/x//T/9//+/wMACAAPABUAGgAZABYAEwARABAACwAHAAkADQARAA8ACQAAAPn/+P/4//3//v/8//r/+f/8////AgD///b/8v/v/+z/6f/t//P/+/8CAAYABwADAAAA+v/2//T/9/8AAAYACQAHAAcABQAHAAsADAAIAP//9P/o/+H/4P/i/+T/7P/4/wAABAD+/+//4f/a/97/5//x//r///8FAAwAFAAaABgAEwAIAP//9P/u/+7/8P/0//r//v/8//v//P/6//n//P/8//v//f/6//n/9f/y//X/+//+//3///8EAA0AFwAZABgAFQAUABIADQAGAPz/9//7/wQACwAQAA0AAQD6//n///8IABMAHQAiACIAIAAWAAcA/P/4//v/AgAJAA8AEwATAA4AAgD9//v/+f/1/+//7f/u//P/9//9//7//v8AAAUACwAPABMADgAFAP7/9//0//D/7//u//H/9//8//7/AAACAAEAAgABAAQABwAFAP3/9P/z//f///8GAA4AEwASAAsAAAD2//H/8//3////AgACAAAA+v/6/wAACAAPABMAFAAQAAkAAgD2/+//7//y//j/+///////AgADAAMAAwAAAP7/+v/5//3/BQAOABEAEwARAA4ABAD1/+b/2//h/+3//P8GAAoABAD7//X/8v/z//T/9v/1//r//f/6//f/8//y/+//7P/q/+f/6v/z//3/BAAHAAwAEgAWABoAGwAUAAUA+f/w/+3/8f/3//n/9//6/wAAAwAIAAUAAAD6//n/+f/6////AAD///T/6v/q/+7/9v///wIABAAJAAwADwATABgAHQAcAB8AJAAnACQAHAATAA0ADwAVAB8AJQAhABUABwD///3/AAAAAAMABgAEAAQABQAAAPv/+v/6//7//v/3/+z/4f/d/9v/4//q//D/9v/4//3/AwAFAAAA+v/1//T//P8JABMAEwANAAMAAAAFAA8AFgAXABEADQARABQAGAAVAA0AAgD9////AgAIAAoABgAFAAUAAAD8//f/8v/r/+f/6//y//z/AAD//wAAAAD//wIAAgD///z/+P/4//7/BgAKAAcAAgD5//D/6f/o/+j/6f/r/+z/7f/v/+7/7P/u//X/+v8AAAEAAQADAAIABQAJAAwACwAHAAAA+v/6////BQAKAAoACAAGAAAA+//w/+f/5f/l/+j/7P/w//D/8P/3/wAACAAPABIAEwAZAB4AIQAfABsAFwAVABgAFQARAAsACAAHAAoAEgAWABUADQAEAP///f/6//f/9f/w/+v/6//t//D/8//3//v///////7//P/9//7/AAAJABIAGQAbABcADwAEAPn/8f/w//f//f////7/9v/w/+//9f8AAAkADQAIAAAA+f/7/wAACAALAAcAAAD5//b/9//7//z/+v/9/wAA/f/4//D/5//k/+T/6//3/wEACQAPABoAIAAhAB0ADwAGAAcADQAVABgAFAAHAP3/9//4////CQASABkAHAAXAAsA/P/v/+v/7f/2//3/AAD7//P/7//u/+3/7f/s/+j/6f/v//f///8EAAgACQAJAAUAAgAHAAoAEAAbACUAMAA1ADUAMQAqACYAIgAZAAkA9//o/9//4//v//j/9v/u/+P/3f/d/+L/5v/p//D/9f/5//3//f/3//L/8f/1//n//P/9//7//P/+/wcAEgAXABcAEwAMAAYABQAGAAoACQACAPf/7v/t//P/AAAMABgAHAAXABAACwALABAAFwAdACMAJwAiABYACgD9//b/9P/v/+v/5v/o/+z/9/////7/9//r/+b/5f/p/+//8v/z/+7/5//h/+H/6v/0//j//P///wAAAAABAAUACQALAAwACgAFAAAA+P/3//X/+P/+/wIAAgD5/+3/5P/i/+b/7//+/wwAFwAjACYAJAAiAB0AGQASAA4ACwALABAAEQARAA0ABAD3/+n/4P/g/+f/8v///wkADwAPAAUA+//v/+//9f/9/wYADAAOAAsACAAHAAUAAgD7//j/+P/9/wQACQARABQAFAARAA8ADQAFAAAA/f/6//v//P/4//H/6//p/+///P8GAAwADgANAA4ADAAHAAUAAgACAAQACQAIAAEA+f/y//P/+f8AAAAAAAD9//j/9f/y//L/9P/0//H/7v/q/+X/3f/Z/9r/4v/t//T/+f/9/wAABgAMABIAGAAcABwAFAAGAP3/9v/y//P/8v/3////BwALAAMA9f/m/+P/6v/5/wwAGQAiACMAHAARAAEA9//t/+f/5//s//L/7v/o/9//1//W/9j/3v/j/+j/6v/t//D/9v/8/wAACgAWACMALAAuACUAFQAIAAUACAAPABYAGQAYABIADQALAA0AEgAXABkAGAAPAAEA9//z//L/9/8EABEAGgAdABUABgD3/+v/6//z//z/AwADAPn/7v/m/+P/5f/x//7/CAAOABEAFAAWABUAEAARABMAGwAoADAAOwBAAD0ANwAwACcAHgAXABUAEAAFAPf/6f/e/9X/1f/c/+T/6//q/9//0v/H/8f/0//j//L//f8AAP///f/5//f//f8GABAAFQATAA8ADQAMAAsADwATABcAIwAvADYANQAoABgACgADAAYACQAKAAwACgAJAAsADgAQABQAEgALAAMA9v/s/+j/7v/8/wsAFwAaABYACwD///D/4f/Y/9f/3v/o//D/8P/u/+v/5f/i/+T/5//j/9//3//f/97/3f/e/+L/7v/7/wcACwAIAAQA/v/8////CQARABgAGQATAAYA///6//r/AQAEAAAA9v/s/+v/8f/3//7//v/6//T/7//w/+v/6f/p/+f/6P/r//D/7P/l/+D/3f/j/+7/+f8AAAUACwAUAB8AJgAqACQAGgATAA0ADwAbACUAKAAqACQAGQARAAsABwAHAAcAAwD///7/+//5//j/9P/t/+X/2//T/9L/2v/j/+n/6P/k/+b/8P/7/wAAAAD6//X/8v/u/+7/9f8AAA4AHQAkACUAIAAWAAwACQALAA4AFQAYABgAFQAMAAcAAwABAPv/8f/n/+P/7P/5/wEA/v/1/+7/7f/3/wUAFQAdACEAIAAaABEABQD+//3/BgAUABwAGwAUAAcA///+//z///8GAAsADwAVAB0AJQAtADEALwAsACkAIQAZABkAGQAaAB0AFgALAAQABAAHAAoADAAGAP3/+v/7/wAAAwAGAAAA+v/2//n//f///wUABQAAAPr/8v/r/+v/9P/9/wYADAALAAUA/P/y/+z/6f/m/+j/6//t//L/9v/3//P/7//q/+f/5v/n/+j/5//q/+//9P/5//v/+f/1/+//5//e/9z/3//m/+v/7P/v/+z/6v/n/+T/5v/t//f///8GAAkABwAIAAUABAABAP///v/6/wEADgAYABkAFwANAAIA//////7//P////3/+P/v/+j/5P/l/+3/9f/+/wYACwAIAAAA9P/i/9f/0//Z/+f/+f8GAAsABwABAPr/+P/6//r/AAADAAoAFAAhACsAKQAhAA8A/v/y/+3/7P/u/+3/7P/p/97/0//N/8z/0P/Y/9//5f/v//r/AAAAAP3/+f/8/wEACgAWACEAKgAuAC8AKwArAC0ANABAAEUAQQAyACIAFgALAAcAAQD9//n/8f/p/+T/4//n/+//9v/9/wYADQAXACUAMwA4ADwAOgAzADEAMQAuACsAKQAgABMABwD8//b/9f/7/wEABQADAPv/8v/q/+X/5v/q//H/+v/5//X/8f/t/+//9f/6//v//v8BAAMACwARABEADgAIAAMABAAGAAwADwAQAAsABgABAPv//P/5//v/+//8//j/9f/6//r/+v/2/+//6f/q/+z/7f/x//P/7v/m/+D/3v/l//H//f8MABcAGgAbABYAEQAMAAkABgACAAUABwAKAAoAAgD8//P/6//l/+X/5//t//b/+P/7//z//P/8//3/+//3//r//P///wQABwALABAAEwATAA4ACAD8//X/7//s/+v/6//t//L/+P/7/wQACgARABkAGQATAAwADgASABoAJQAlAB8AHAAVABEAEgARAA4ABQD5/+v/4v/h/+n/9v8AAAUABAD///n//P/9/wAACwAQABAACgADAPz/9P/w/+z/7f/t/+n/4v/i/+L/4//p/+3/8f/t/+D/2P/W/93/5//2/wAAAQAEAAMAAwAIAA8AFgAbABgADgABAPn/9v/8/wYADQAQAA8ACgALABAAEQAUABQADAABAPf/6f/f/+H/6v/5/wQABAD5/+j/4P/g/+j/+f8MABsAIgAhACAAFwAKAAMA/P/6//z//f/+//v/9v/t/+z/9P/7////AAD///z//P///wAA/P/z/+v/4v/h/+b/5//r/+3/8P/y//T/+v/+/wMADwAXABsAIwApACkAJgAdABcAEAAOAA0ABgD+//L/7//0//7/CgAKAAYABgAIABEAHQAmACgAIwAYAA0AAQD3/+7/5f/j/+H/4v/j/+L/5f/n/+j/6P/k/+D/4//r//f/AAAJAA8ADQAHAAAA9f/t/+j/5//p/+3/8//2//r/AQAKABEAFgAaABkAEwAOAAYA/f/w/+T/1//R/9X/3//u/wEAEAARAAwAAwD8//3/BwAVABsAGAAOAAIA/P/+/wYADAAQAA8ABgD///3/+v/6////BAACAAAA/////wMADQATABQAFwAYABoAHwAkACQAIAAYABAADAALAA8AEQAUABUAFgAYABYAEQAJAAUABAAJAA8AFgAXABMACQD+//n/+v8BAAcACwAGAPv/8P/k/97/4f/p/+//9/8AAAwAEAAVABQADQAJAAYABgADAAYABAABAAAA+//0/+r/5P/c/9n/2//i/+z/8v/5//z//v/+/wEABAADAAMAAAD+/wAAAAACAAAA///+/wAABgANABIAFQAYABQADQAGAAEA/v/1//D/6v/p//L/+/8DAAQAAwAEAAYACwAMAAgABAD+//r//f8CAAYACQADAPv/8f/n/+P/4f/l/+r/6//u//T/+P/9//z/9v/1//j///8HABAADwAKAAwADgAXACEAJAAhABQACAAAAPn/8//w/+3/5f/j/93/2f/Z/9v/4P/k/+v/8v/6/wEABAAHAAwAEwAZABsAGwAYABMADgAIAAMA/v/3//L/8f/x//L/8//w//D/8v/1//j/AAALABYAIQAlACMAHQAYABUADwAIAP//9f/o/+D/3P/a/93/4//t//P/+P/9//7///////7///8CAAUACQAMAA4ACwAIAAkACAAIAAgACQAJAAgACAAIAAkADAAQAAsABQACAPz/9v/z//L/7//u//H/9v/+/wMACAAJAAUAAAD+//v/9//0/+//6//p/+v/7v/v/+z/5//k/+T/6f/w//n/AQAFAAYABwAFAAYADgASABIADgANAA4ADQAMAAUA+v/t/+j/5//k/+L/2//W/9P/1P/c/+X/7//2//r/AQANABkAIAAmACYAIQAiACAAIgAiABwAFgANAAgAAQD7//X/+f8BAAkAEgAVABEACgADAAIABQAJAA4AEwAaACAAIQAaABQAEwAWAB0AIwAmACgAIQAaABQABwD+//T/7v/r/+z/7f/p/+j/4v/c/9f/1//c/9z/3v/h/+f/8P/8/wYADQAUABMAEQARAAwACAAEAAIAAgAAAP7//P/+//7////+//j/9P/1//n/AAAHAAoACgAEAAUADQAVABwAHQAaABUAFAAWABgAGwAXABAACQACAP///v8AAP7/+v/6//3/AAAAAAAA/v8AAAQABQAHAAYABwAIAAkACwAOABIAFAAUABEADwANAAwACgAGAAAA+//5//b/+P/+/wAAAgD///v/9v/2//X/9P/6//z//f/+//3//P/7//7/AAABAAEA/f/5//j/8v/s/+X/3//c/9f/1P/S/9L/2P/f/+r/9P///wgADgARABMAEgAOAAwABAD9//v/+f/4//X/7P/j/97/4v/p/+7/8v/z//b/+v8BAAcACAACAPv/9f/5/wEACQAMAAkABwADAAYADQASABIADgANAAkACgAOABAAEwASABEADQAGAAIA/v/6//r//P/9//z/+//6//r///8BAAQACQAKAAkACAAGAAcACgAIAAUAAgAAAAMADAAUABoAGgAYABAACgAHAAEAAAD+//r/+f/7/////v/9//v/9f/z//P/9P/3//r/AQAMABYAIgAlAB4AFAAKAAEA+//5//T/7v/s/+r/6//w//f//v8AAAMAAwAFAAgACgALAAYABAD///n/8v/s/+v/7f/0//3/AgADAAIAAAACAAcACwALAAYABAAAAP3/+v/2//L/7f/w//L/+f8BAAgADQAPABMAEAAKAAcAAgD+//3///8BAAQABgADAAAAAQAEAAYABwAIAAYABQAHAAsADQAKAAYAAAD8//v//P/7//n/9v/0//L/8v/z//D/8P/x//T/+f/9/wEABAAEAAMAAQABAAAA/v/8//f/9v/2//f/+f/4//T/7v/q/+v/7v/3/wAAAAD///v/9//8/wIACAALAAsACAAHAAsAEQAXABcAFgATAA8ACwAJAAgAAQD8//T/7f/r/+v/6v/o/+r/6v/t/+z/6//r/+v/8v/3////AgAAAP//+v/4//v//v/6//f/8P/o/+n/7v/y//T/+////wEACAAMABMAGAAbABoAFgAPAAYA/P/z/+3/6v/o/+n/6P/o/+//9v/8//r/9//z/+//8v/5/wAACQALAAoABwACAAMABgANABIAGQAfAB8AHgAbABQAEwAWABoAHgAbABIABQD5//L/7P/r/+//8f/x//P/9v/3//z/AQAGAAsAEAAUABMAEwASABEAEQARABAADQAJAAYAAgABAAYACQAPABcAHAAhACMAJQAkACIAGAAIAPz/8P/n/+P/5f/o/+3/8f/z//T/+f8AAAQACgAJAAsABQD+//v/+/8CAAkAEQAYABkAFgALAAAA/v/7//v//P/3//L/7//v/+7/6v/o/+X/5P/j/+P/6v/s/+7/8P/1/wIADAAVAB0AHwAdABgAEwAPAA8AFAAYABcAFAAQAAoABwACAP7/+//7//r/+v//////+v/2//H/7f/t/+7/6//p/+f/4v/g/9z/1v/S/9X/2P/g//L/AgARABsAHQAaABMABwAAAP//BAANABQAIAAqAC4ALAAiABMAAQDw/9//1P/M/8j/yP/H/8b/xf/C/8P/x//P/9v/6P/y//r/AQALABcAIgAsADMAPAA5ADcANAAtACwAJAAeABYADQAJAAoADQAQABMACgABAPb/6v/g/93/3f/W/9X/0f/Q/9T/2v/e/+D/4P/f/+T/6//2/wIAEwAjACoAMQAzAC4ALgAqACUAIgAdABkAFwAYABgAGAAUAA8ABQD+//n/9f/z/+//7//v//L/9//8/wAABgAMAA4ADwALAA0ADQAPABYAGwAdAB8AHQAXABMADAAEAPr/7v/g/9b/1v/V/9n/3v/i/+j/7f/z//X/+P/8//3//P/7//v///8HABEAHQAlACYAJAAiACEAJQArACYAIwAZABAAEAARABQADQACAPX/5v/e/9v/2v/Y/9b/1//c/+H/7//5//3//f/3//T/8v/4/wEADAAVABwAIAAiACAAFwASAA4ACgAGAAIAAAAAAAMABgALAAgAAAD6//L/7v/u//X/+P/7//v/9//1/+7/6f/m/+T/6P/v//P/8f/w/+//7//x//P/+P/5//3/AwAMABcAJAAwADoAPwA3ADAAKQAgABcADwAKAAEAAAAAAP3//f/5//j/9//1//b/+f8AAAYACAAKAAsACAACAPv/8//s/+b/5f/m/+f/5//i/9z/1v/U/9n/4//w//r/AAAFAAoAFAAbACEAHQASAAYA/f/6//r/AgAMABgAJAAsADEANAA3ADUAMQAoAB4AFwAOAAwACwAKAAsABgD+//D/3v/Q/8P/vf++/8D/xP/E/8j/zf/U/+T/8f/5//7///8AAPv/+P/8////AQACAAYADQARABcAGAAXABcAFgAVABQAFAARAA0ACAABAPr/8//w//D/8P/z//X/9P/y/+7/6f/i/+X/7P/1/wIAEAAdACcAJQAhABkAEgAPAAkACgALAAoABwABAAAA9//y//H/7f/v//H/9P/1//H/7v/r/+r/6v/r/+v/7v/y//f/9//2//X/9v/5//v/AAADAAUABAACAPz/9v/z//T/+v8AAAMAAAD2/+z/6//r/+3/8P/w//L/8//5//z//f8AAAAAAQACAAsAFgAdACYALAAtACoAJAAdABcAFwAWABUAFQAPAAcA/f/z/+z/5f/k/+X/5v/m/+T/4v/f/9//3P/d/+D/5f/t//X//f8EAA4AGQAlADIAOwA9AD0AOAAvACYAGwARAAoABQABAP3/+f/7//v//v8AAAMABQAEAAoAEAAXABsAHAAeABoAEwALAAMAAAAAAAEAAAAAAAAA/v/5//j/9f/3//v//v8AAPz/+P/x/+7/6f/m/+P/3P/a/9r/3//q//n/BwATABsAHQAdAB0AHgAgACMAIwAhAB8AGgATAAwACgAMAA0ADAAIAAMA///5//b/8f/o/9z/0P/N/8v/0f/Y/9v/3f/d/+L/6P/v//L/8f/3//z/AwALAA8AFAAWABoAIwAuADYAPAA/ADwAOgA1AC4AIwAUAAcA///4/+//6P/f/9P/y//H/8X/xv/I/8n/0P/T/9j/3v/h/+P/4f/j/+X/5v/o/+j/6v/u//L/+f/9//3//v///wUADAAQAAwABgABAAAAAwALABQAGwAiACUAKAAtAC4ALgAtACwAKgAoACIAHQAWABEADQAMABMAFgAVAA8ACAACAPr/8v/q/9//1//V/9v/4v/p/+3/7v/w//L/+f8BAAoAEwAZACAAJAAoACsALQAzADoAQgBKAE8ATwBIAD8ANAApAB8AEQADAPn/7//p/+T/3v/a/9f/1f/V/9T/0//U/9b/2//k/+z/8v/1//T/7//s/+n/6v/q/+j/5v/l/+b/6f/y//7/AwAGAAgABwAHAAUABQAEAAMABAAHAAoACwAPABEAEwARABAAEAARABMADwAKAAgACAALAAwACwAHAAQABwAMABQAGgAaABMABwD9//j/8//u/+r/6f/m/+H/3f/Y/9H/zP/M/9T/4f/v//n/AQAGAAsAFAAdACIAIwAjACIAIAAgACAAGwATAAoAAAD3/+//6v/m/+X/5f/m/+b/4//g/93/3f/i/+v/8P/z//D/7//t/+n/5v/k/+j/6P/r/+//8f/y//L/8v/2//z/BAAMABIAGAAdAB8AGgAWAA4AAQD1/+z/6P/j/+H/3//g/+T/7f/z//n/AAACAAcADAAOAA0ACgADAPf/7f/n/+f/7//7/wkAFwAgACUAJAAeABIACwAEAAEABAAHAAgACAAGAAAA/f/6//j/+f///wIABgAKAAkACAAFAAUACAAJAAYABQAFAAMAAwAFAAcACwARABQAFAATAAkAAAD6//f/9f/2//j/9v/x/+3/6//r/+v/6//s/+3/8f/4//7/AQAIAA4AEAAWABoAGwAYABUAEgAPAA4ADgAOAA8AEAAQABIAFwAbABoAFgAUABEADgAKAAoACgAIAAUAAQD9//v//v8CAAoAEgAYABoAHAAcABkAFAANAAIA+P/y/+7/7v/z//v/AAABAPz/9v/w/+b/2//S/8//0//c/+f/9P8BAA4AFwAgACkAMAAyACwAIQASAAUA+v/y/+r/5P/f/9z/3v/g/+H/5P/l/+j/7P/t/+//8f/0//b/9//+/wEABQAFAAIA/f/1/+//6v/o/+j/6//v//P/8//z//b/9v/1//H/7f/m/+f/7v/4/wAABAAGAAcACAAFAAUAAwABAAAAAAD9//z//f/9/wAAAgACAAIABQAJAA8AEwATABUAFwAWABQADwAIAAIA/v/9//7/AAAAAAMACAAOABQAFQAWABUAFwAYABgAGQAXABMADQAKAAsADQARABUAEwAPAAYA/f/2//D/6//m/+b/5//o/+v/7//0//z/AAABAP//+f/1//H/8P/y//j/AQAHABAAGAAdACAAIQAfAB4AHAAaABMADAAJAAkADwAVABoAGAASAAoABQADAAEAAAD7//T/7f/s//L/+/8DAAkADwAUABIADQAKAAMA/v/6//j/+//9/wAAAwAEAAcACQAOABMAFgAZABgAFAAMAAIA/P/0/+v/5f/k/+f/6//t//P/9//5//z/+//7//n/9v/v/+b/2//T/9D/zv/T/9j/3P/g/+P/6f/s//T//v8CAAgACAAJAAYA///3/+//7f/q/+n/6P/l/+H/4f/l/+n/7f/x//b/+P/9/wEACQASABoAIwAnACcAIgAbABEABwD9//H/5P/c/9j/2P/c/97/4//o/+//9f/9/wMACwAQAA4ADAAKAAYABQAIAAYAAwABAAIAAQAEAAcADQAZACAAIwAkACIAHAAXABIACAAAAPb/7f/q/+z/7f/v//H/8v/y//P/9//9/wIABwAMABAAEAANAAgABAD///r/+f/6//r/+f/6//3/AQADAAMABQAEAAMAAAD9//3///8DAAsAGAAhACkALgAuACsAJQAlACEAHwAWAA0ACQADAAEAAAAAAAIABQALAAwACQACAPn/7//o/+T/4f/d/9//4f/m/+7/+f8CAAoAEQASABcAFQAPAAsABwAEAAYADQATABoAIAAlACkALgAvAC4AKwAkAB8AFgAJAP7/9P/u/+v/6P/n/+T/3//c/93/5P/q//b/AAAHAAwACgAGAAAA+P/x/+z/7P/t//D/9v/6//3/AAAAAAIABgAEAAIAAwAGAAkACQAEAPv/8f/r/+3/9f8AAAkADwASAA8ADQAIAAYABgABAP7/9//y/+v/5v/j/+H/4P/e/9//3P/X/9D/zP/H/8P/w//D/8X/x//M/9T/3P/l/+7/9v8DABEAHAAnACoAJgAaABAAAgD8//v//P8AAAUABwAFAAUABAAHAAwAEQAZACAAJAAoACsAKgAmACQAIwAdABUADgACAPP/6P/i/9//5f/v//T/9f/2//f/+v/9////AQADAAMAAAD/////BAAOABcAIwArADIANAAxACoAIQAYAA0ABAD///z/+P/1//L/7//r/+r/7v/w//H/8//1//n//f8DAAoADgASABQAEgAOAAsABQABAAAA+v/8/wIADgAeACkAMgAzAC8AJgAcABMABwD///r/7//q/+f/4f/d/9n/2f/c/+X/8v/+/wMABgAIAAkABwAHAAUAAQD/////AgAEAAgACwAPAA8ADQAPAA8ADAACAPr/8//w//D/8//0//P/8v/v/+7/7P/q/+j/5//p/+3/7//x//T/9f/2//v//v8AAAEA/v/5//T/7v/n/+b/5P/h/+D/4v/o/+//8f/t/+j/4f/f/9//4v/p/+3/8v/3//v///8EAA4AEgAWABIACgABAPr/9//0//P/8v/0//f/+v/7//z/+//2//X/+P/9/wAABQAEAAQACAANABIAEwARAAkA/v/w/+b/4P/c/+H/6v/2/wAACwAVABsAHwAiACQAJQAoACsAKAAnACUAIgAgACAAIAAdABsAGwAbABsAGgAXAA8ABQD+//P/6v/j/9v/1P/P/9T/3//p//L//f8EAAoAEQAWABYAFgASAA0ACwANAA4ADgARABUAGgAaAB4AHgAcABgADAAAAPb/6//g/9n/1v/T/9f/4f/s//n/AAAGABAAGAAjACwAMwA0ADIAKQAfABkAEQANAAoACwAMAAsADAAMAAcA/P/y/+j/3f/U/87/zP/M/87/z//Q/9X/3P/j/+n/9v8DAA4AFgAdACUALwA5AD4APgA1ACgAHwASAAgABAD///f/8f/q/+T/3//e/+P/5v/t//P/9//3//b/9v/u/+//8f/w//D/7f/v/+//8v/3//z/AgAFAAsADQAJAAMA+v/w/+z/6f/n/+T/4//i/+D/4P/j/+n/7P/x//f/+/8AAAEABQAHAAkADQAOABAADgAOAAsACAAIAAcAAADz/+X/2v/R/8z/z//T/9r/4v/t//r/BAAOABQAGAAbAB8AHQAXABgAGQAYABQADQAEAP3/+v/5//f/+v/9////AwALABEAEQALAAIA9f/p/+P/4P/i/+H/5f/r//H/+v8AAAgACwAOABIAFAAVABMACQD+//D/5v/i/9//3//d/+L/6P/w//r/AAAHABAAHAAkACkAKQAjAB0AFAASABQAFAAXABgAGAAZABsAGgAYABQADQAIAAMA///5/+//5f/e/9r/3P/i/+j/7f/t//L/+f/+/wUADAAWAB0AJAArACsALgApAB8AFwARAA0ABgD+//H/6v/m/+b/6//t/+j/5P/k/+D/3f/g/+r/9/8EABEAEwAUABUAGQAgACQAKAAqACUAKAAtACoAJQAfABkADgAAAPn/8v/v//H/8v/w//H/8P/w//T/8f/t/+r/6f/w//j//v8EABMAIQAtAC8AKgAnACUAIgAgAB0AGAAOAAIA+f/w/+z/5v/i/9//3//e/93/4//q//L/+f8BAAUACAALAA0AEQAVABoAHQAcABsAGAAUABMAEQANAAwADwAOAAgA/v/y/+v/3//X/9P/1v/g/+j/7f/q/+j/6P/q/+//+P8CAA0AGAAcAB0AFQARAA4ADAAUABUADwAHAP3/7//n/+X/6P/s/+z/6f/o/+v/7f/u/+7/8//7/wEAAQD//wAABAAMABEAFAATAA8ADAAHAP//9//z//D/8v/w/+n/4v/e/+D/4P/a/9j/3f/i/+f/5v/n/+v/7//6/wUAEgAdACIAJgApACcAHgAXAA8ACgADAPn/7f/g/9D/xP/F/8v/1v/d/+H/6P/x//v/BwAWACUAMgA8AD0AMwAsACYAJQAiABYADQAIAAIA/P/y/+X/3v/e/97/3P/Z/9j/1v/Z/+H/5v/q/+3/7f/x//b/+//+/wEACAAQABkAIwArADEALQAiABoAFQAUABIAEAAKAAYABAABAAAA+f/1//b/+//8//b/7v/r/+r/6//w//P/+v8CAAkADwAQABIAFQAZABkAFgAXABwAIgAiAB4AHQAdABkAEAADAPb/6v/l/+f/5//k/+T/6f/w//X/+P/7//z//v8AAAgAEgAXABYAFgAaAB8AHwAYABUAEwARABIAEQASABAADQAOAA8ADAADAPT/5f/Z/9H/yP+//77/wv/P/9z/4v/o//P/BgAcACcAKQAqAC4AMwAyAC4AKQApACoAJAAbAAwA///3//D/6P/i/93/2//e/+P/4//i/+j/9f8AAAMAAgACAAQACAALAAsADwASABMADgAGAAAA/P/6//f/8v/s/+j/5v/n/+T/3f/Y/9j/3v/p//j/AAAIABMAGgAXABQAGgAkACsAIwAaABcAGQAYABMAEAAMAAoABgADAP3/7//f/9b/2f/e/97/4P/q//b/+//5/wAACQALAAcAAQAEAA4AEwAQAA0ACgALAA0ADAADAPb/6P/h/+D/3//b/9f/3f/l/+v/8v/8/wsAGAAZABMACgAHAA4AFwAeACkALwAtACoAJAAZAAcA9//s/+f/4v/X/9H/1v/e/93/3P/i//H/AQAAAPv/AQASABsAGAAYACMAMAAzADMAKwAcAAoA/////wAA9f/j/9//8f8AAPb/3//W/+D/5v/f/9j/4P/u//z/CAAQABYAGAAdACoANQA3ADMAMAA2ADoAMwAnACIAIAAWAAgA///7//T/6v/e/9n/1v/L/8P/xv/U/+T/8P/6/wkAFwAgACYALgA1ADMAKgAkACMAIgAaABIADAAEAAAA/f/5//L/5//f/+D/6f/p/97/1v/W/9r/2//W/9r/5//w//n/BwAcACgAJwAkACQAJQAbAAgA//8EAAsABgD7//b/9//v/+D/2P/d/+L/4f/Z/9X/1v/W/9v/5v/w//X/8v/t/+n/6P/r//H/+P8CAAUABwAKAAwADAAGAAAAAAADAAUAAwD3/+n/5v/p/+r/5v/a/9X/3v/t//f/9//6/wAADQARAA0ACQAJAA4AEAAPAA0AEAARAA4ACwAIAAUABgAGAAEA+v/q/9//3v/g/+L/5v/6/xAAGwAeABwAIQAjABgACgADAAkACwAFAPb/5v/i/+X/6f/v//H/8P/0//7/AwD8//X/+/8NACIAKwArACkALQA3ADsANgAxAC8AMwA3ADQALgAkAB0AHgAhACIAIAAaABAABAD8//P/6f/j/+H/4f/g/+H/5//w//X/9v/5//7////5//D/6P/u//v/AgAAAPv/BAARABIADgAPABkAIAAbAAwABAAGAAgACAANABQAFAARABAAFQAXAAwA///5/wAABQD+//H/6v/q/+T/2//c/+P/4//d/9z/5f/t//D/8P/z//z/AQACAAAAAAD///7//P/4//7/AgAFAAcADgATABEACwD+//P/5v/d/9P/xv+9/8H/yv/N/8//2v/u//r/+f/4////CAAIAAUACQAUABoAEgAHAAUADAAMAAAA8v/l/9//2//a/9z/3f/e/97/6f/1//D/4P/b//D/CgARAAwAEAAmADUAKQAaABgAIQAiABAACQAQABMADQARACcAKQASAPr/9v8DAP//6v/h//P/CAAPAAwAAgAEAAUABAD+//r//f///wAA//8DAAkADwAVABwAIgAhABwAHAAZAA0AAAD7//7/9//p/+T/8P8CAAgACwAUACEAKQAuAC8ALAApACEAIAAcABMABgABAA0AEgAPAAsADAAPAAsABQABAP7//v8BAAgADgAJAAUABwAOABUAEgAMAAoADQALAAQA/v/6//7/+v/v/+X/5//q/+j/6f/u//r/+v/w/+f/6//3/wAABQAHAA8AGAAcACEAIAAYABEADAAGAAIA///2/+//7f/p/+f/5P/f/9v/0//G/7//yP/S/9j/2f/Z/+X/8v/3//f//P8FAAwADQAJAAYAAAD+//n/9v/2//P/8//s/+n/6v/n/+X/6P/w//r//P/2//X/9//+//3//P8CAA0AEwALAAQAAAAAAPz/9//3//D/5//g/+T/7//1//T/8f/0//b/7//p/+v/8P/4//z//v8GABIAGAAVABEAEgAbACAAGQATABcAIwAnACQAKAAwADEAIwAYABIAEAAHAPz/+P/7/////P/7/wAABwAHAAMABAAGAAIA/f/6//v/AAAFAAIA///+/////f/9//7/AwAKAAsACQAGAAgADAASABYAFQAVABMAEQATABoAIgAnACsAMAAzAC8ALgA5AEMAPwAxACwAMwAzACEABQD0//H/8P/v/+z/6//t/+r/5f/f/9b/0f/S/9b/2P/Y/9n/4P/o//H//f8JABgAJAAoACMAHwAdABwAGgAQAAMA9P/l/9r/0//N/8L/uP+4/8H/y//O/9L/3P/m/+z/7P/w//f/+v/7//v/+//6////BQALAA0ADAAOAA8ACwABAP3/+//4//D/5P/e/97/4f/c/9b/2P/i//D/9v/2//T/8f/t/+b/5//u//b/AAAOAB0AKAAvADQAOgA3AC0AIAAZABAAAQDy/+j/5//n/+n/6//x//j//P///wAABAAHAAkACwAOABMAGAAZABYAFQAVABUAFQAXABkAFgANAAUABQAEAAAA9//v/+z/6f/j/9r/0v/R/9T/2v/h/+f/7f/1/wAADQAYABsAGgAZABcAFQAZACQALwAtAB4ADwAOABsAIwAeABYAEgASAA8ACAD9//L/7P/o/9//1P/R/9L/1P/T/9r/6//6/wAAAwAMABoAHwAbABcAFAALAPz/8P/p/+f/6P/s//f/BQAQABEADwARABMAFgAVABAADQAMAAwACgAMABAAFAAVAA0ABgAGAAkADwAOAA8AEwATABMADgAEAPf/6v/n/+T/5P/k/+P/5f/j/+L/4//k/+r/7//1//7/AwAGAAQA///5//T/9v/1/+7/5//k/+T/4P/Z/9n/3//n/+3/9P8AAAoADQAGAAAAAgAKAA8ACgADAAAAAQAIAA4ADgAMABAAFwAZABcAFwAXABcAFwAWABoAGwAXABAACQAFAAgACwAKAA0AFAAeACQAJQAlACUAJQAmACYAJAAhAB0AHwAgABoADgACAPv/8f/o/+P/3//Z/8v/vP+0/7j/wf/I/83/0//Z/+D/6//5/wAAAAADAAgADwATABMAEQAQABEAEwAXABQABwD6//b/+P/6//f/8f/s/+f/5f/g/+D/4v/m/+f/6//z//f/+v/8/wAABgALAA4ADAAIAAUAAwAGAAYA///3//D/7f/o/+P/4//k/+b/5//l/+L/5P/l/+D/3//i/+v/+P8AAAgAFQAdACQALgA7AEIARQBCAD4APwA8ADkANQAyADEALwAlABoAEwALAAEA9//w/+//7//v//L/9P/1//X/9v/4//v//v///wQACgARABAAEQAYAB0AGgAHAPH/5//o/+3/6//n/+j/6f/r/+r/6f/n/+b/5//i/+b/8//5//v/8f/r/+3/8P/1//P/7P/q//L/+f/5//T/8//2//z/AAAEAA8AGAAcAB0AGgAYAB0AIQAdABkAGwAnAC8ALQAnACYAKgAtACYAFgAPAAwABwABAAAAAwAAAPr/8//2////AgD6/+7/5v/n/+f/5P/k/+T/7//3//f/8v/r/+X/3v/Y/9z/5v/r/+j/3v/f/+X/6f/u/+z/6P/l/+n/7f/y//b/+v8AAAkAEwAVABQAEgAWABkAGwAfACYAJwAkACkAMwBCAEYAPwAzAC0AMQA0AC0AGgAMAAMA/f/2/+v/4f/Y/9v/3f/a/9r/2v/Z/9X/0v/X/+D/7f/2//H/9v/6////AQD///3/8f/m/9v/1f/X/9z/3v/g/97/3v/e/9n/2P/b/+X/9P/9/wIACgASAB4AKwAwADAAKwAlABkAEAASABYAFQASABAADgANAAcA+v/u/+3/8//5//7/AgAHAAsACgAFAAcABwANABEADgAQAA8AEwATAAwABgABAAMABAACAAAA+v/0/+7/5v/k/+j/8f/9/wIABQADAAAA+//x/+z/6f/n/+b/5P/f/+L/6v/v//P/+f8AAA4AFAAOAAUA/P/4//n/+//9//j/9v/0/+//6//p/+7/7v/t/+3/8P/7/wYACwAFAAUACgAUACAAJAApACkAJgAhABQADQAPAA8AFAAbACAAIgAcABUADgANAA8AFAAfACgAKgAmACQAJQAoACUAHwAcABsAHAAYABAACwADAPz/9//4////AAD+//f/8v/3/wAACAAOABEAEAANAAcA///3/+7/4f/X/9b/2f/e/+H/4f/m/+//9f/2//j/AAAFAAcAAAAAAAcADQAMAAAA/P/5//T/6//m/+T/4v/g/97/5v/s//H/8//4////AQACAAAABQANABQAFQAPAAcABQAFAAQABQAIAA8ADgAQABIADgAIAAcADAAWACEAJQApACsAKQAjABgAFQASAA8ABwD///r/9P/u/+L/3P/Z/9v/4P/j/+f/4v/l/+X/4v/e/97/3v/Y/9j/3f/h/+H/3f/Z/9b/2f/d/+P/5v/n/+T/4//q//T///8IABEAGgAiACMAIAAdABsAGwAZABoAGgAVAA4ABwADAAAA/f/6//n/+f/5//b/8v/2/wAACgASABQAGAAYAA8AAwD2/+7/6//t//P/+/8AAAUAAgD6//L/6v/q//D/9////wMABwAKAA4AEQAPAA8AEgAYAB4AIgAjAB0AFgARABEAFAAYABoAFgATAA8AEAAUABYAFwARAAsABQACAAEA/f/0/+//7v/w/+7/6f/l/9z/1f/X/+D/6v/y//P/8f/1//3/AwADAAEA/v/7//v/+//7//n/+f/6//3/AAAIABEAFQARAAYABQAKABEAEwASABMAEQATABYAFgASAAsAAgD6//r//f8CAAQAAgD7//X/9v/3//P/6v/p/+7//f8IAA4AEgARAA4ABgABAP7//f////3/+//7//7/+v/1/+3/5//m/+X/7f/y//P/8P/t//P/+v8BAAUAAQABAAAA/v8CAAgADgAPABAAEwAWABoAGgAaABsAHAAaABsAHAAZABoAEgAKAAcACQAJAAYABQABAAAA+v/z//D/8v/0//H/8v/0//b/+//9//j/9P/0//L/8f/x//P/9v/3//n/+f/5//n/9v/0//H/8//5//3/AQAFAA0AGAAlADQANAAuACgAJgArAC8ALwAlABoADgAGAAQACAAMAAwACgAHAAYAAwD///j/8f/t/+3/9P/5//n/7//j/9b/z//P/8//0//U/9X/2P/c/+T/6f/p/+X/6P/r/+z/7//0//j/+/8EAAoAEQAWABgAFgAUABYAGAAaABEABgD9//n/+v/9/wQACQAMAA4ADAAOABAAFQASAAwADgAOAA8ADAAEAP3/9f/u/+v/6//r/+f/4f/a/9r/4P/q/+3/6v/m/+X/5v/r//L/+f///wUAEQAbACcAKwAmACAAGgAXABgAGAASAAgA/v/3//T/9f/0/+//6P/k/+b/6P/r/+z/8P/x//P/9//8/wUABgAAAPz/+//7//z///8AAAMAAAD3//D/7//v/+z/5v/k/+H/3//d/9j/1v/Y/+H/7//7/wYADAATABgAGwAfACIAIAAgACMAJQApAC0AMwA0AC8AKwArACcAIgAWAAsAAwD9//T/6//k/+L/5f/r//P/AAAMAAkAAAD+//v//f/////////8//z/+P/2//f/8//z//H/6//l/+L/3v/Z/9z/5P/s//T//P8BAAYACAAJAAwADgAQABQAGgAfACQAJAAgABsAFQALAAYABgAHAAwADQAKAAYAAQD5//f/+P/7//3/AAADAAEAAAD8//n/9v/4//j/9//7//v//P/6//r//f8BAAEAAAD9//n/9f/s/+f/4//0/wMAAAABAAAAAgAAAP//AAD//wAAAAAAAAAA//8AAAEAAAAAAAEAAAAAAP//////////AAAAAP//AAAAAAAAAAAAAP//AAAAAAAAAQAAAP//AAD///7/AAAAAAAAAAD//wAAAAAAAAAAAAAAAAEAAAAAAAEAAAAAAP//AAABAAEAAAAAAAAA//8AAAAA/////wAAAAAAAAIAAAD+//7//v8AAAAA//////7///8AAAAAAAAAAP////8AAAAAAAAAAAEAAAAAAAAAAAAAAAAAAAAAAAAAAQAAAAAAAQAAAAAAAAD/////AAAAAAAAAAAAAAAAAAAAAP//AAAAAAAAAAAAAP//AAABAAAAAAAAAAEAAQABAAAAAAABAAAAAQAAAAAAAQAAAAAAAAAAAAAAAAABAAAAAAAAAP//AAD//wAAAQAAAP///////wAAAAAAAAAAAAAAAAAAAAD//wAAAAAAAAAAAAAAAAAAAAA=\" type=\"audio/wav\" />\n",
              "                    Your browser does not support the audio element.\n",
              "                </audio>\n",
              "              "
            ]
          },
          "metadata": {}
        }
      ]
    },
    {
      "cell_type": "markdown",
      "source": [
        "## All the audio files are in .mp3 format we need to convert them into .wav format for faster processing."
      ],
      "metadata": {
        "id": "G6B_8_ijlvpz"
      }
    },
    {
      "cell_type": "code",
      "source": [
        "!pip install pydub"
      ],
      "metadata": {
        "id": "baU4wlNzmjFj",
        "colab": {
          "base_uri": "https://localhost:8080/"
        },
        "outputId": "4bc21812-d032-4a34-f9b8-b6de193259ad"
      },
      "execution_count": null,
      "outputs": [
        {
          "output_type": "stream",
          "name": "stdout",
          "text": [
            "Audio Label : 195102    বাকি অর্ধেক ডানা সাদা বর্ণের।\n",
            "Name: sentence, dtype: object\n",
            "Looking in indexes: https://pypi.org/simple, https://us-python.pkg.dev/colab-wheels/public/simple/\n",
            "Collecting pydub\n",
            "  Downloading pydub-0.25.1-py2.py3-none-any.whl (32 kB)\n",
            "Installing collected packages: pydub\n",
            "Successfully installed pydub-0.25.1\n"
          ]
        }
      ]
    },
    {
      "cell_type": "code",
      "source": [
        "import os\n",
        "import skimage.io\n",
        "\n",
        "import time\n",
        "\n",
        "from tqdm.notebook import tqdm\n",
        "tqdm.pandas()\n",
        "\n",
        "import shutil\n",
        "\n",
        "from pydub import AudioSegment\n",
        "\n",
        "from joblib import Parallel, delayed\n",
        "\n",
        "import librosa\n",
        "\n",
        "import io\n",
        "import soundfile as sf"
      ],
      "metadata": {
        "id": "v8ht0Ukalxik"
      },
      "execution_count": null,
      "outputs": []
    },
    {
      "cell_type": "code",
      "source": [
        "# extract_path = '/content/input/dlsprint'\n",
        "TRAIN_PATH = os.path.join(extract_path,'train_files') \n",
        "TEST_PATH = os.path.join(extract_path,'test_files')\n",
        "VALIDATION_PATH = os.path.join(extract_path,'validation_files')\n"
      ],
      "metadata": {
        "id": "siWJkBB9mulc"
      },
      "execution_count": null,
      "outputs": []
    },
    {
      "cell_type": "code",
      "source": [
        "#---------------\n",
        "# data filtering\n",
        "#---------------\n",
        "def filter_votes(x):\n",
        "    up=x[\"up_votes\"]\n",
        "    down=x[\"down_votes\"]\n",
        "    # if up-down<=0:\n",
        "    if up<down:\n",
        "        return None\n",
        "    # elif up==0:\n",
        "    #     return None\n",
        "    else:\n",
        "        return up"
      ],
      "metadata": {
        "id": "EFtWQuVlpj0R"
      },
      "execution_count": null,
      "outputs": []
    },
    {
      "cell_type": "code",
      "source": [
        "print(\"Total Data before filtering:\",len(train_df))\n",
        "train_df[\"up_votes\"]=train_df.progress_apply(lambda x:filter_votes(x),axis=1)\n",
        "train_df.dropna(subset = ['up_votes'],inplace=True)\n",
        "print(\"Total Data after filtering:\",len(train_df))\n",
        "train_audio_files=train_df[\"path\"].tolist()\n",
        "train_df.to_csv('new_train.csv')"
      ],
      "metadata": {
        "id": "WtSKaKj9rwek",
        "colab": {
          "base_uri": "https://localhost:8080/",
          "height": 84,
          "referenced_widgets": [
            "8e543921912f4a999518aa63f79c7c9c",
            "f263ce8de0d141869804ed836f869b4a",
            "8382767c4e624d4c805ef643d13d253a",
            "9efbd91e8f534e7b99a0638d45f19551",
            "5046699736ca4289a053ca6774ba82ca",
            "b07793c6a34e42f78510a50101ccf86d",
            "a9dfe7303e754cf5b580108bd12ce3e0",
            "69efcd58d59d4c6aa5d86747a676afd7",
            "740643ce65cd47c9987d3aec3fad84b5",
            "7ec7d7e858b84ef9888c19ae0b97e458",
            "de142fd8c4ba4b9b922257d043c0c457"
          ]
        },
        "outputId": "ae01d8e7-d56c-49fd-e8ba-066f2efbc3a0"
      },
      "execution_count": null,
      "outputs": [
        {
          "output_type": "stream",
          "name": "stdout",
          "text": [
            "Total Data before filtering: 206950\n"
          ]
        },
        {
          "output_type": "display_data",
          "data": {
            "text/plain": [
              "  0%|          | 0/206950 [00:00<?, ?it/s]"
            ],
            "application/vnd.jupyter.widget-view+json": {
              "version_major": 2,
              "version_minor": 0,
              "model_id": "8e543921912f4a999518aa63f79c7c9c"
            }
          },
          "metadata": {}
        },
        {
          "output_type": "stream",
          "name": "stdout",
          "text": [
            "Total Data after filtering: 201414\n"
          ]
        }
      ]
    },
    {
      "cell_type": "markdown",
      "source": [
        "## Creating a list of trian files"
      ],
      "metadata": {
        "id": "rimnSQ5CsP_u"
      }
    },
    {
      "cell_type": "code",
      "source": [
        "# list to store files\n",
        "test_audio_files = []\n",
        "\n",
        "# Iterate directory\n",
        "for path in os.listdir(TEST_PATH):\n",
        "    # check if current path is a file\n",
        "    if os.path.isfile(os.path.join(TEST_PATH, path)):\n",
        "        test_audio_files.append(path)\n",
        "len(test_audio_files)"
      ],
      "metadata": {
        "id": "Wuneu3sCsTxB",
        "colab": {
          "base_uri": "https://localhost:8080/"
        },
        "outputId": "6fba47b2-f295-4334-dfea-95c9e2f43906"
      },
      "execution_count": null,
      "outputs": [
        {
          "output_type": "execute_result",
          "data": {
            "text/plain": [
              "7747"
            ]
          },
          "metadata": {},
          "execution_count": 21
        }
      ]
    },
    {
      "cell_type": "code",
      "source": [
        "# extract_path = '/content/input/dlsprint'\n",
        "drive_path = '/content/gdrive/MyDrive/kaggleProject/dlsprint'\n",
        "new_dir = ['new_train','new_validation','new_test']\n",
        "for folder in new_dir:\n",
        "    newFolder = os.path.join(extract_path,folder)\n",
        "    # newFolder = os.path.join(drive_path,folder) \n",
        "    print(newFolder)\n",
        "    if not os.path.exists(newFolder):\n",
        "        os.makedirs(newFolder)"
      ],
      "metadata": {
        "id": "uMcKn92Zs-NP",
        "colab": {
          "base_uri": "https://localhost:8080/"
        },
        "outputId": "a313310c-bc9c-4376-e0aa-16e596e6bdc5"
      },
      "execution_count": null,
      "outputs": [
        {
          "output_type": "stream",
          "name": "stdout",
          "text": [
            "/content/gdrive/MyDrive/kaggleProject/dlsprint/new_train\n",
            "/content/gdrive/MyDrive/kaggleProject/dlsprint/new_validation\n",
            "/content/gdrive/MyDrive/kaggleProject/dlsprint/new_test\n"
          ]
        }
      ]
    },
    {
      "cell_type": "code",
      "source": [
        "# extract_path = '/content/input/dlsprint'\n",
        "drive_path = '/content/gdrive/MyDrive/kaggleProject/dlsprint'\n",
        "# New_Train_Dir = os.path.join(extract_path,'new_train') # './new_train' \n",
        "# NEW_Validation_Dir = os.path.join(extract_path,'new_validation') # './new_validation'\n",
        "# New_Test_Dir = os.path.join(extract_path,'new_test') # './new_test'\n",
        "\n",
        "# For save to drive \n",
        "New_Train_Dir = os.path.join(drive_path,'new_train') # './new_train' \n",
        "NEW_Validation_Dir = os.path.join(drive_path,'new_validation') # './new_validation'\n",
        "New_Test_Dir = os.path.join(drive_path,'new_test') # './new_test'"
      ],
      "metadata": {
        "id": "_4W5CniBvfuv"
      },
      "execution_count": null,
      "outputs": []
    },
    {
      "cell_type": "code",
      "source": [
        "print(New_Train_Dir)"
      ],
      "metadata": {
        "id": "4qxJbPlKwGM1",
        "colab": {
          "base_uri": "https://localhost:8080/"
        },
        "outputId": "87b4caf5-0cf4-4f18-a988-980e9d9b6995"
      },
      "execution_count": null,
      "outputs": [
        {
          "output_type": "stream",
          "name": "stdout",
          "text": [
            "/content/gdrive/MyDrive/kaggleProject/dlsprint/new_train\n"
          ]
        }
      ]
    },
    {
      "cell_type": "markdown",
      "source": [
        "## Converting the train .mp3 files into .wav and saving it inside a new directory"
      ],
      "metadata": {
        "id": "5zTxdhpDwUcA"
      }
    },
    {
      "cell_type": "code",
      "source": [
        "def save_fn(filename):\n",
        "    \n",
        "    \n",
        "    path = f\"{TRAIN_PATH}/{filename}\"\n",
        "    save_path = f\"{New_Train_Dir}\"\n",
        "    if not os.path.exists(save_path):\n",
        "        os.makedirs(save_path, exist_ok=True)\n",
        "    \n",
        "    if os.path.exists(path):\n",
        "        try:\n",
        "            sound = AudioSegment.from_mp3(path)\n",
        "            sound = sound.set_frame_rate(16000)\n",
        "            sound.export(f\"{save_path}/{filename[:-4]}.wav\", format=\"wav\")\n",
        "        except:\n",
        "            print(path)"
      ],
      "metadata": {
        "id": "lGJ6og87wT4W"
      },
      "execution_count": null,
      "outputs": []
    },
    {
      "cell_type": "code",
      "source": [
        "import os, platform, subprocess, re\n",
        "\n",
        "def get_processor_name():\n",
        "    if platform.system() == \"Windows\":\n",
        "        return platform.processor()\n",
        "    elif platform.system() == \"Darwin\":\n",
        "        os.environ['PATH'] = os.environ['PATH'] + os.pathsep + '/usr/sbin'\n",
        "        command =\"sysctl -n machdep.cpu.brand_string\"\n",
        "        return subprocess.check_output(command).strip()\n",
        "    elif platform.system() == \"Linux\":\n",
        "        command = \"cat /proc/cpuinfo\"\n",
        "        all_info = subprocess.check_output(command, shell=True).decode().strip()\n",
        "        for line in all_info.split(\"\\n\"):\n",
        "            if \"model name\" in line:\n",
        "                return re.sub( \".*model name.*:\", \"\", line,1)\n",
        "    return \"\"\n",
        "\n",
        "get_processor_name()"
      ],
      "metadata": {
        "id": "6SyzsBdqxkLK",
        "colab": {
          "base_uri": "https://localhost:8080/",
          "height": 35
        },
        "outputId": "e91e897a-c6bf-44e7-97f1-f03004eed126"
      },
      "execution_count": null,
      "outputs": [
        {
          "output_type": "execute_result",
          "data": {
            "text/plain": [
              "' Intel(R) Xeon(R) CPU @ 2.20GHz'"
            ],
            "application/vnd.google.colaboratory.intrinsic+json": {
              "type": "string"
            }
          },
          "metadata": {},
          "execution_count": 27
        }
      ]
    },
    {
      "cell_type": "code",
      "source": [
        "import time\n",
        "start = time.time()\n",
        "\n",
        "Parallel(n_jobs=-1, backend=\"multiprocessing\")(\n",
        "    delayed(save_fn)(filename) for filename in tqdm(train_audio_files)\n",
        ")\n",
        "\n",
        "end = time.time()\n",
        "print(\"total time to process: {x} seconds\".format(x=end-start))"
      ],
      "metadata": {
        "id": "kZOxmAy4wr_S",
        "colab": {
          "base_uri": "https://localhost:8080/",
          "height": 49,
          "referenced_widgets": [
            "169d1a296d17409e8e4dab1c98404cb4",
            "7eb7a69dd8ad46a4ab729a821e802c24",
            "fab539c0e4644341b4ea170620fb98d9",
            "44ed9806041344b6ba7a270dd0e4b132",
            "48e6779632144167981c19cdd7b739e1",
            "14a5d2087f9348b3a4f9faa5f62c97bf",
            "e67552f75b354f11b2beb0a4542ed5bc",
            "e7652605d4fb4bd39e27138460d46cb4",
            "eb8826494d2d4439ab08f0986ad5094d",
            "cce5951fa7954dc09add701d50842780",
            "9248f92538cd43ee94a773dcef5d0b42"
          ]
        },
        "outputId": "f25a5fcf-de70-4fe3-909a-9ab41ad26285"
      },
      "execution_count": null,
      "outputs": [
        {
          "output_type": "display_data",
          "data": {
            "text/plain": [
              "  0%|          | 0/201414 [00:00<?, ?it/s]"
            ],
            "application/vnd.jupyter.widget-view+json": {
              "version_major": 2,
              "version_minor": 0,
              "model_id": "169d1a296d17409e8e4dab1c98404cb4"
            }
          },
          "metadata": {}
        }
      ]
    }
  ]
}
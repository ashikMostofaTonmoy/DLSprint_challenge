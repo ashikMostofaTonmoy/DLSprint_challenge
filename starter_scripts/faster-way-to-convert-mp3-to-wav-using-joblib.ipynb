{
 "cells": [
  {
   "cell_type": "markdown",
   "id": "921d981e",
   "metadata": {
    "execution": {
     "iopub.execute_input": "2022-07-02T16:19:04.757537Z",
     "iopub.status.busy": "2022-07-02T16:19:04.757196Z",
     "iopub.status.idle": "2022-07-02T16:19:04.764002Z",
     "shell.execute_reply": "2022-07-02T16:19:04.762854Z",
     "shell.execute_reply.started": "2022-07-02T16:19:04.757508Z"
    },
    "papermill": {
     "duration": 0.005065,
     "end_time": "2022-07-06T16:34:34.634741",
     "exception": false,
     "start_time": "2022-07-06T16:34:34.629676",
     "status": "completed"
    },
    "tags": []
   },
   "source": [
    "In my previous [notebook](https://www.kaggle.com/code/mbmmurad/mp3-to-wav-conversion), we tried to convert mp3 audio files to wav files. But it took almost 25 minutes to convert the Validation files. In this notebook we'll try a different way to convert the mp3 files to wav files using joblib. This notebook takes only 8-9 minutes to process the validation files. \n",
    "(3times faster)\n",
    "\n"
   ]
  },
  {
   "cell_type": "markdown",
   "id": "8ea4e518",
   "metadata": {
    "papermill": {
     "duration": 0.003451,
     "end_time": "2022-07-06T16:34:34.642156",
     "exception": false,
     "start_time": "2022-07-06T16:34:34.638705",
     "status": "completed"
    },
    "tags": []
   },
   "source": [
    "**Reference** :\n",
    "\n",
    "Idea is from this notebook : https://www.kaggle.com/code/kingabzpro/asr-mp3-to-wav-dataset?fbclid=IwAR3D61p3PW9lY-IGTOLrjf52b1_SQkc2FFuHl9kEbGumVlgHLqVOGJoQl5w"
   ]
  },
  {
   "cell_type": "markdown",
   "id": "738e00c5",
   "metadata": {
    "papermill": {
     "duration": 0.003468,
     "end_time": "2022-07-06T16:34:34.649418",
     "exception": false,
     "start_time": "2022-07-06T16:34:34.645950",
     "status": "completed"
    },
    "tags": []
   },
   "source": [
    "# Importing Necessary Libraries"
   ]
  },
  {
   "cell_type": "code",
   "execution_count": 1,
   "id": "584cd3cf",
   "metadata": {
    "execution": {
     "iopub.execute_input": "2022-07-06T16:34:34.660213Z",
     "iopub.status.busy": "2022-07-06T16:34:34.658763Z",
     "iopub.status.idle": "2022-07-06T16:34:36.080361Z",
     "shell.execute_reply": "2022-07-06T16:34:36.078950Z"
    },
    "papermill": {
     "duration": 1.430173,
     "end_time": "2022-07-06T16:34:36.083375",
     "exception": false,
     "start_time": "2022-07-06T16:34:34.653202",
     "status": "completed"
    },
    "tags": []
   },
   "outputs": [],
   "source": [
    "import os\n",
    "import cv2\n",
    "import skimage.io\n",
    "from tqdm.notebook import tqdm\n",
    "import zipfile\n",
    "import pandas as pd\n",
    "import numpy as np\n",
    "import shutil\n",
    "\n",
    "from pydub import AudioSegment\n",
    "from joblib import Parallel, delayed"
   ]
  },
  {
   "cell_type": "code",
   "execution_count": 2,
   "id": "5370af97",
   "metadata": {
    "execution": {
     "iopub.execute_input": "2022-07-06T16:34:36.093167Z",
     "iopub.status.busy": "2022-07-06T16:34:36.092542Z",
     "iopub.status.idle": "2022-07-06T16:34:36.096500Z",
     "shell.execute_reply": "2022-07-06T16:34:36.095713Z"
    },
    "papermill": {
     "duration": 0.011415,
     "end_time": "2022-07-06T16:34:36.098714",
     "exception": false,
     "start_time": "2022-07-06T16:34:36.087299",
     "status": "completed"
    },
    "tags": []
   },
   "outputs": [],
   "source": [
    "ROOT_PATH = \"../input/dlsprint/train_files\"\n",
    "OUTPUT_DIR = \"./train_files_wav\""
   ]
  },
  {
   "cell_type": "code",
   "execution_count": 3,
   "id": "36deff41",
   "metadata": {
    "execution": {
     "iopub.execute_input": "2022-07-06T16:34:36.108495Z",
     "iopub.status.busy": "2022-07-06T16:34:36.107843Z",
     "iopub.status.idle": "2022-07-06T16:34:36.112385Z",
     "shell.execute_reply": "2022-07-06T16:34:36.111462Z"
    },
    "papermill": {
     "duration": 0.012121,
     "end_time": "2022-07-06T16:34:36.114693",
     "exception": false,
     "start_time": "2022-07-06T16:34:36.102572",
     "status": "completed"
    },
    "tags": []
   },
   "outputs": [],
   "source": [
    "os.mkdir(OUTPUT_DIR)"
   ]
  },
  {
   "cell_type": "code",
   "execution_count": 4,
   "id": "d63cc637",
   "metadata": {
    "execution": {
     "iopub.execute_input": "2022-07-06T16:34:36.125288Z",
     "iopub.status.busy": "2022-07-06T16:34:36.124239Z",
     "iopub.status.idle": "2022-07-06T16:34:36.132167Z",
     "shell.execute_reply": "2022-07-06T16:34:36.130952Z"
    },
    "papermill": {
     "duration": 0.015871,
     "end_time": "2022-07-06T16:34:36.134749",
     "exception": false,
     "start_time": "2022-07-06T16:34:36.118878",
     "status": "completed"
    },
    "tags": []
   },
   "outputs": [],
   "source": [
    "def save_fn(filename):\n",
    "    \n",
    "    path = f\"{ROOT_PATH}/{filename}\"\n",
    "    save_path = f\"{OUTPUT_DIR}\"\n",
    "    if not os.path.exists(save_path):\n",
    "        os.makedirs(save_path, exist_ok=True)\n",
    "    \n",
    "    if os.path.exists(path):\n",
    "        try:\n",
    "            sound = AudioSegment.from_mp3(path)\n",
    "            sound = sound.set_frame_rate(16000)\n",
    "            sound.export(f\"{save_path}/{filename[:-4]}.wav\", format=\"wav\")\n",
    "        except:\n",
    "            print(path)"
   ]
  },
  {
   "cell_type": "code",
   "execution_count": 5,
   "id": "9da52ca2",
   "metadata": {
    "execution": {
     "iopub.execute_input": "2022-07-06T16:34:36.144250Z",
     "iopub.status.busy": "2022-07-06T16:34:36.143842Z",
     "iopub.status.idle": "2022-07-06T16:34:38.714488Z",
     "shell.execute_reply": "2022-07-06T16:34:38.713142Z"
    },
    "papermill": {
     "duration": 2.578757,
     "end_time": "2022-07-06T16:34:38.717370",
     "exception": false,
     "start_time": "2022-07-06T16:34:36.138613",
     "status": "completed"
    },
    "tags": []
   },
   "outputs": [],
   "source": [
    "#-------------------------------\n",
    "# imports\n",
    "#-------------------------------\n",
    "import os \n",
    "import pandas as pd \n",
    "from tqdm.auto import tqdm\n",
    "import warnings\n",
    "import librosa\n",
    "import io\n",
    "import soundfile as sf\n",
    "tqdm.pandas()\n",
    "warnings.filterwarnings('ignore')\n"
   ]
  },
  {
   "cell_type": "code",
   "execution_count": 6,
   "id": "8caf62f7",
   "metadata": {
    "execution": {
     "iopub.execute_input": "2022-07-06T16:34:38.727543Z",
     "iopub.status.busy": "2022-07-06T16:34:38.727133Z",
     "iopub.status.idle": "2022-07-06T16:34:45.853614Z",
     "shell.execute_reply": "2022-07-06T16:34:45.852012Z"
    },
    "papermill": {
     "duration": 7.135773,
     "end_time": "2022-07-06T16:34:45.857127",
     "exception": false,
     "start_time": "2022-07-06T16:34:38.721354",
     "status": "completed"
    },
    "tags": []
   },
   "outputs": [
    {
     "name": "stdout",
     "output_type": "stream",
     "text": [
      "Total Data before filtering: 206950\n"
     ]
    },
    {
     "data": {
      "application/vnd.jupyter.widget-view+json": {
       "model_id": "54af7265d9bb4d589dc7930ec14c9ff5",
       "version_major": 2,
       "version_minor": 0
      },
      "text/plain": [
       "  0%|          | 0/206950 [00:00<?, ?it/s]"
      ]
     },
     "metadata": {},
     "output_type": "display_data"
    },
    {
     "name": "stdout",
     "output_type": "stream",
     "text": [
      "Total Data after filtering: 37404\n"
     ]
    },
    {
     "data": {
      "text/plain": [
       "37404"
      ]
     },
     "execution_count": 6,
     "metadata": {},
     "output_type": "execute_result"
    }
   ],
   "source": [
    "#---------------\n",
    "# data filtering\n",
    "#---------------\n",
    "def filter_votes(x):\n",
    "    up=x[\"up_votes\"]\n",
    "    down=x[\"down_votes\"]\n",
    "    if up-down<=0:\n",
    "        return None\n",
    "    elif up==0:\n",
    "        return None\n",
    "    else:\n",
    "        return up\n",
    "# ------------------------- train data----------------------------------------\n",
    "train_df=pd.read_csv(\"../input/dlsprint/train.csv\")\n",
    "print(\"Total Data before filtering:\",len(train_df))\n",
    "train_df[\"up_votes\"]=train_df.progress_apply(lambda x:filter_votes(x),axis=1)\n",
    "train_df.dropna(subset = ['up_votes'],inplace=True)\n",
    "print(\"Total Data after filtering:\",len(train_df))\n",
    "audio_files=train_df[\"path\"].tolist()\n",
    "len(audio_files)\n"
   ]
  },
  {
   "cell_type": "code",
   "execution_count": 7,
   "id": "472cacb8",
   "metadata": {
    "execution": {
     "iopub.execute_input": "2022-07-06T16:34:45.867800Z",
     "iopub.status.busy": "2022-07-06T16:34:45.867399Z",
     "iopub.status.idle": "2022-07-06T17:18:08.452912Z",
     "shell.execute_reply": "2022-07-06T17:18:08.449415Z"
    },
    "papermill": {
     "duration": 2602.595168,
     "end_time": "2022-07-06T17:18:08.456893",
     "exception": false,
     "start_time": "2022-07-06T16:34:45.861725",
     "status": "completed"
    },
    "tags": []
   },
   "outputs": [
    {
     "data": {
      "application/vnd.jupyter.widget-view+json": {
       "model_id": "dcaea5600edc4d69a933f4a89037b937",
       "version_major": 2,
       "version_minor": 0
      },
      "text/plain": [
       "  0%|          | 0/37404 [00:00<?, ?it/s]"
      ]
     },
     "metadata": {},
     "output_type": "display_data"
    },
    {
     "name": "stdout",
     "output_type": "stream",
     "text": [
      "total time to process: 2602.5732564926147 seconds\n"
     ]
    }
   ],
   "source": [
    "import time\n",
    "start = time.time()\n",
    "\n",
    "Parallel(n_jobs=8, backend=\"multiprocessing\")(\n",
    "    delayed(save_fn)(filename) for filename in tqdm(audio_files)\n",
    ")\n",
    "\n",
    "end = time.time()\n",
    "print(\"total time to process: {x} seconds\".format(x=end-start))"
   ]
  },
  {
   "cell_type": "code",
   "execution_count": null,
   "id": "b519e8d7",
   "metadata": {
    "papermill": {
     "duration": 0.004569,
     "end_time": "2022-07-06T17:18:08.466127",
     "exception": false,
     "start_time": "2022-07-06T17:18:08.461558",
     "status": "completed"
    },
    "tags": []
   },
   "outputs": [],
   "source": []
  }
 ],
 "metadata": {
  "kernelspec": {
   "display_name": "Python 3",
   "language": "python",
   "name": "python3"
  },
  "language_info": {
   "codemirror_mode": {
    "name": "ipython",
    "version": 3
   },
   "file_extension": ".py",
   "mimetype": "text/x-python",
   "name": "python",
   "nbconvert_exporter": "python",
   "pygments_lexer": "ipython3",
   "version": "3.7.12"
  },
  "papermill": {
   "default_parameters": {},
   "duration": 2627.570782,
   "end_time": "2022-07-06T17:18:11.106739",
   "environment_variables": {},
   "exception": null,
   "input_path": "__notebook__.ipynb",
   "output_path": "__notebook__.ipynb",
   "parameters": {},
   "start_time": "2022-07-06T16:34:23.535957",
   "version": "2.3.4"
  },
  "widgets": {
   "application/vnd.jupyter.widget-state+json": {
    "state": {
     "01a951d0500049918ea73fc0196d0a95": {
      "model_module": "@jupyter-widgets/base",
      "model_module_version": "1.2.0",
      "model_name": "LayoutModel",
      "state": {
       "_model_module": "@jupyter-widgets/base",
       "_model_module_version": "1.2.0",
       "_model_name": "LayoutModel",
       "_view_count": null,
       "_view_module": "@jupyter-widgets/base",
       "_view_module_version": "1.2.0",
       "_view_name": "LayoutView",
       "align_content": null,
       "align_items": null,
       "align_self": null,
       "border": null,
       "bottom": null,
       "display": null,
       "flex": null,
       "flex_flow": null,
       "grid_area": null,
       "grid_auto_columns": null,
       "grid_auto_flow": null,
       "grid_auto_rows": null,
       "grid_column": null,
       "grid_gap": null,
       "grid_row": null,
       "grid_template_areas": null,
       "grid_template_columns": null,
       "grid_template_rows": null,
       "height": null,
       "justify_content": null,
       "justify_items": null,
       "left": null,
       "margin": null,
       "max_height": null,
       "max_width": null,
       "min_height": null,
       "min_width": null,
       "object_fit": null,
       "object_position": null,
       "order": null,
       "overflow": null,
       "overflow_x": null,
       "overflow_y": null,
       "padding": null,
       "right": null,
       "top": null,
       "visibility": null,
       "width": null
      }
     },
     "0c0b41a2c83c4d1e8b21bca1936051ff": {
      "model_module": "@jupyter-widgets/controls",
      "model_module_version": "1.5.0",
      "model_name": "FloatProgressModel",
      "state": {
       "_dom_classes": [],
       "_model_module": "@jupyter-widgets/controls",
       "_model_module_version": "1.5.0",
       "_model_name": "FloatProgressModel",
       "_view_count": null,
       "_view_module": "@jupyter-widgets/controls",
       "_view_module_version": "1.5.0",
       "_view_name": "ProgressView",
       "bar_style": "success",
       "description": "",
       "description_tooltip": null,
       "layout": "IPY_MODEL_edfab430d5cb4dccadb9aa8efa8224f0",
       "max": 37404.0,
       "min": 0.0,
       "orientation": "horizontal",
       "style": "IPY_MODEL_5e9c4789173746d0b98cbd970fc93aea",
       "value": 37404.0
      }
     },
     "0e22430577224237b215ece6af21bdc4": {
      "model_module": "@jupyter-widgets/controls",
      "model_module_version": "1.5.0",
      "model_name": "ProgressStyleModel",
      "state": {
       "_model_module": "@jupyter-widgets/controls",
       "_model_module_version": "1.5.0",
       "_model_name": "ProgressStyleModel",
       "_view_count": null,
       "_view_module": "@jupyter-widgets/base",
       "_view_module_version": "1.2.0",
       "_view_name": "StyleView",
       "bar_color": null,
       "description_width": ""
      }
     },
     "24b1cea6fca24ffdb824da9668dc9c8e": {
      "model_module": "@jupyter-widgets/controls",
      "model_module_version": "1.5.0",
      "model_name": "DescriptionStyleModel",
      "state": {
       "_model_module": "@jupyter-widgets/controls",
       "_model_module_version": "1.5.0",
       "_model_name": "DescriptionStyleModel",
       "_view_count": null,
       "_view_module": "@jupyter-widgets/base",
       "_view_module_version": "1.2.0",
       "_view_name": "StyleView",
       "description_width": ""
      }
     },
     "2b08b6f4a2124efaa5c44d5a42b7b3d2": {
      "model_module": "@jupyter-widgets/controls",
      "model_module_version": "1.5.0",
      "model_name": "DescriptionStyleModel",
      "state": {
       "_model_module": "@jupyter-widgets/controls",
       "_model_module_version": "1.5.0",
       "_model_name": "DescriptionStyleModel",
       "_view_count": null,
       "_view_module": "@jupyter-widgets/base",
       "_view_module_version": "1.2.0",
       "_view_name": "StyleView",
       "description_width": ""
      }
     },
     "41dec15eb6e54bb19d85f56f3e4febeb": {
      "model_module": "@jupyter-widgets/controls",
      "model_module_version": "1.5.0",
      "model_name": "HTMLModel",
      "state": {
       "_dom_classes": [],
       "_model_module": "@jupyter-widgets/controls",
       "_model_module_version": "1.5.0",
       "_model_name": "HTMLModel",
       "_view_count": null,
       "_view_module": "@jupyter-widgets/controls",
       "_view_module_version": "1.5.0",
       "_view_name": "HTMLView",
       "description": "",
       "description_tooltip": null,
       "layout": "IPY_MODEL_8c434a85a5be49109a064e725293a995",
       "placeholder": "​",
       "style": "IPY_MODEL_2b08b6f4a2124efaa5c44d5a42b7b3d2",
       "value": " 206950/206950 [00:04&lt;00:00, 44934.96it/s]"
      }
     },
     "54af7265d9bb4d589dc7930ec14c9ff5": {
      "model_module": "@jupyter-widgets/controls",
      "model_module_version": "1.5.0",
      "model_name": "HBoxModel",
      "state": {
       "_dom_classes": [],
       "_model_module": "@jupyter-widgets/controls",
       "_model_module_version": "1.5.0",
       "_model_name": "HBoxModel",
       "_view_count": null,
       "_view_module": "@jupyter-widgets/controls",
       "_view_module_version": "1.5.0",
       "_view_name": "HBoxView",
       "box_style": "",
       "children": [
        "IPY_MODEL_7cefb56fd7ee4548883269d93814f695",
        "IPY_MODEL_f3831d1761ec43869eaaedb370c47692",
        "IPY_MODEL_41dec15eb6e54bb19d85f56f3e4febeb"
       ],
       "layout": "IPY_MODEL_01a951d0500049918ea73fc0196d0a95"
      }
     },
     "5e9c4789173746d0b98cbd970fc93aea": {
      "model_module": "@jupyter-widgets/controls",
      "model_module_version": "1.5.0",
      "model_name": "ProgressStyleModel",
      "state": {
       "_model_module": "@jupyter-widgets/controls",
       "_model_module_version": "1.5.0",
       "_model_name": "ProgressStyleModel",
       "_view_count": null,
       "_view_module": "@jupyter-widgets/base",
       "_view_module_version": "1.2.0",
       "_view_name": "StyleView",
       "bar_color": null,
       "description_width": ""
      }
     },
     "738b454954a84ec590a04eb4f794d1ed": {
      "model_module": "@jupyter-widgets/base",
      "model_module_version": "1.2.0",
      "model_name": "LayoutModel",
      "state": {
       "_model_module": "@jupyter-widgets/base",
       "_model_module_version": "1.2.0",
       "_model_name": "LayoutModel",
       "_view_count": null,
       "_view_module": "@jupyter-widgets/base",
       "_view_module_version": "1.2.0",
       "_view_name": "LayoutView",
       "align_content": null,
       "align_items": null,
       "align_self": null,
       "border": null,
       "bottom": null,
       "display": null,
       "flex": null,
       "flex_flow": null,
       "grid_area": null,
       "grid_auto_columns": null,
       "grid_auto_flow": null,
       "grid_auto_rows": null,
       "grid_column": null,
       "grid_gap": null,
       "grid_row": null,
       "grid_template_areas": null,
       "grid_template_columns": null,
       "grid_template_rows": null,
       "height": null,
       "justify_content": null,
       "justify_items": null,
       "left": null,
       "margin": null,
       "max_height": null,
       "max_width": null,
       "min_height": null,
       "min_width": null,
       "object_fit": null,
       "object_position": null,
       "order": null,
       "overflow": null,
       "overflow_x": null,
       "overflow_y": null,
       "padding": null,
       "right": null,
       "top": null,
       "visibility": null,
       "width": null
      }
     },
     "7cefb56fd7ee4548883269d93814f695": {
      "model_module": "@jupyter-widgets/controls",
      "model_module_version": "1.5.0",
      "model_name": "HTMLModel",
      "state": {
       "_dom_classes": [],
       "_model_module": "@jupyter-widgets/controls",
       "_model_module_version": "1.5.0",
       "_model_name": "HTMLModel",
       "_view_count": null,
       "_view_module": "@jupyter-widgets/controls",
       "_view_module_version": "1.5.0",
       "_view_name": "HTMLView",
       "description": "",
       "description_tooltip": null,
       "layout": "IPY_MODEL_c5b052ac899247dfa91679fc39d9b194",
       "placeholder": "​",
       "style": "IPY_MODEL_a26e798fac754254804a9eba508034e5",
       "value": "100%"
      }
     },
     "8519c7432cbc40a98594558f1002e2d9": {
      "model_module": "@jupyter-widgets/controls",
      "model_module_version": "1.5.0",
      "model_name": "DescriptionStyleModel",
      "state": {
       "_model_module": "@jupyter-widgets/controls",
       "_model_module_version": "1.5.0",
       "_model_name": "DescriptionStyleModel",
       "_view_count": null,
       "_view_module": "@jupyter-widgets/base",
       "_view_module_version": "1.2.0",
       "_view_name": "StyleView",
       "description_width": ""
      }
     },
     "8c434a85a5be49109a064e725293a995": {
      "model_module": "@jupyter-widgets/base",
      "model_module_version": "1.2.0",
      "model_name": "LayoutModel",
      "state": {
       "_model_module": "@jupyter-widgets/base",
       "_model_module_version": "1.2.0",
       "_model_name": "LayoutModel",
       "_view_count": null,
       "_view_module": "@jupyter-widgets/base",
       "_view_module_version": "1.2.0",
       "_view_name": "LayoutView",
       "align_content": null,
       "align_items": null,
       "align_self": null,
       "border": null,
       "bottom": null,
       "display": null,
       "flex": null,
       "flex_flow": null,
       "grid_area": null,
       "grid_auto_columns": null,
       "grid_auto_flow": null,
       "grid_auto_rows": null,
       "grid_column": null,
       "grid_gap": null,
       "grid_row": null,
       "grid_template_areas": null,
       "grid_template_columns": null,
       "grid_template_rows": null,
       "height": null,
       "justify_content": null,
       "justify_items": null,
       "left": null,
       "margin": null,
       "max_height": null,
       "max_width": null,
       "min_height": null,
       "min_width": null,
       "object_fit": null,
       "object_position": null,
       "order": null,
       "overflow": null,
       "overflow_x": null,
       "overflow_y": null,
       "padding": null,
       "right": null,
       "top": null,
       "visibility": null,
       "width": null
      }
     },
     "945dd128d2a246339d356355a273b3ee": {
      "model_module": "@jupyter-widgets/controls",
      "model_module_version": "1.5.0",
      "model_name": "HTMLModel",
      "state": {
       "_dom_classes": [],
       "_model_module": "@jupyter-widgets/controls",
       "_model_module_version": "1.5.0",
       "_model_name": "HTMLModel",
       "_view_count": null,
       "_view_module": "@jupyter-widgets/controls",
       "_view_module_version": "1.5.0",
       "_view_name": "HTMLView",
       "description": "",
       "description_tooltip": null,
       "layout": "IPY_MODEL_738b454954a84ec590a04eb4f794d1ed",
       "placeholder": "​",
       "style": "IPY_MODEL_24b1cea6fca24ffdb824da9668dc9c8e",
       "value": " 37404/37404 [43:21&lt;00:00, 14.18it/s]"
      }
     },
     "a26e798fac754254804a9eba508034e5": {
      "model_module": "@jupyter-widgets/controls",
      "model_module_version": "1.5.0",
      "model_name": "DescriptionStyleModel",
      "state": {
       "_model_module": "@jupyter-widgets/controls",
       "_model_module_version": "1.5.0",
       "_model_name": "DescriptionStyleModel",
       "_view_count": null,
       "_view_module": "@jupyter-widgets/base",
       "_view_module_version": "1.2.0",
       "_view_name": "StyleView",
       "description_width": ""
      }
     },
     "c3a2186cf353486c9fccdf0ffe5db7ac": {
      "model_module": "@jupyter-widgets/base",
      "model_module_version": "1.2.0",
      "model_name": "LayoutModel",
      "state": {
       "_model_module": "@jupyter-widgets/base",
       "_model_module_version": "1.2.0",
       "_model_name": "LayoutModel",
       "_view_count": null,
       "_view_module": "@jupyter-widgets/base",
       "_view_module_version": "1.2.0",
       "_view_name": "LayoutView",
       "align_content": null,
       "align_items": null,
       "align_self": null,
       "border": null,
       "bottom": null,
       "display": null,
       "flex": null,
       "flex_flow": null,
       "grid_area": null,
       "grid_auto_columns": null,
       "grid_auto_flow": null,
       "grid_auto_rows": null,
       "grid_column": null,
       "grid_gap": null,
       "grid_row": null,
       "grid_template_areas": null,
       "grid_template_columns": null,
       "grid_template_rows": null,
       "height": null,
       "justify_content": null,
       "justify_items": null,
       "left": null,
       "margin": null,
       "max_height": null,
       "max_width": null,
       "min_height": null,
       "min_width": null,
       "object_fit": null,
       "object_position": null,
       "order": null,
       "overflow": null,
       "overflow_x": null,
       "overflow_y": null,
       "padding": null,
       "right": null,
       "top": null,
       "visibility": null,
       "width": null
      }
     },
     "c5b052ac899247dfa91679fc39d9b194": {
      "model_module": "@jupyter-widgets/base",
      "model_module_version": "1.2.0",
      "model_name": "LayoutModel",
      "state": {
       "_model_module": "@jupyter-widgets/base",
       "_model_module_version": "1.2.0",
       "_model_name": "LayoutModel",
       "_view_count": null,
       "_view_module": "@jupyter-widgets/base",
       "_view_module_version": "1.2.0",
       "_view_name": "LayoutView",
       "align_content": null,
       "align_items": null,
       "align_self": null,
       "border": null,
       "bottom": null,
       "display": null,
       "flex": null,
       "flex_flow": null,
       "grid_area": null,
       "grid_auto_columns": null,
       "grid_auto_flow": null,
       "grid_auto_rows": null,
       "grid_column": null,
       "grid_gap": null,
       "grid_row": null,
       "grid_template_areas": null,
       "grid_template_columns": null,
       "grid_template_rows": null,
       "height": null,
       "justify_content": null,
       "justify_items": null,
       "left": null,
       "margin": null,
       "max_height": null,
       "max_width": null,
       "min_height": null,
       "min_width": null,
       "object_fit": null,
       "object_position": null,
       "order": null,
       "overflow": null,
       "overflow_x": null,
       "overflow_y": null,
       "padding": null,
       "right": null,
       "top": null,
       "visibility": null,
       "width": null
      }
     },
     "c7ebdbfabd5044b085a1562b06dd23e0": {
      "model_module": "@jupyter-widgets/base",
      "model_module_version": "1.2.0",
      "model_name": "LayoutModel",
      "state": {
       "_model_module": "@jupyter-widgets/base",
       "_model_module_version": "1.2.0",
       "_model_name": "LayoutModel",
       "_view_count": null,
       "_view_module": "@jupyter-widgets/base",
       "_view_module_version": "1.2.0",
       "_view_name": "LayoutView",
       "align_content": null,
       "align_items": null,
       "align_self": null,
       "border": null,
       "bottom": null,
       "display": null,
       "flex": null,
       "flex_flow": null,
       "grid_area": null,
       "grid_auto_columns": null,
       "grid_auto_flow": null,
       "grid_auto_rows": null,
       "grid_column": null,
       "grid_gap": null,
       "grid_row": null,
       "grid_template_areas": null,
       "grid_template_columns": null,
       "grid_template_rows": null,
       "height": null,
       "justify_content": null,
       "justify_items": null,
       "left": null,
       "margin": null,
       "max_height": null,
       "max_width": null,
       "min_height": null,
       "min_width": null,
       "object_fit": null,
       "object_position": null,
       "order": null,
       "overflow": null,
       "overflow_x": null,
       "overflow_y": null,
       "padding": null,
       "right": null,
       "top": null,
       "visibility": null,
       "width": null
      }
     },
     "d5d48db528e5442b993a8b24ae8d9ce7": {
      "model_module": "@jupyter-widgets/base",
      "model_module_version": "1.2.0",
      "model_name": "LayoutModel",
      "state": {
       "_model_module": "@jupyter-widgets/base",
       "_model_module_version": "1.2.0",
       "_model_name": "LayoutModel",
       "_view_count": null,
       "_view_module": "@jupyter-widgets/base",
       "_view_module_version": "1.2.0",
       "_view_name": "LayoutView",
       "align_content": null,
       "align_items": null,
       "align_self": null,
       "border": null,
       "bottom": null,
       "display": null,
       "flex": null,
       "flex_flow": null,
       "grid_area": null,
       "grid_auto_columns": null,
       "grid_auto_flow": null,
       "grid_auto_rows": null,
       "grid_column": null,
       "grid_gap": null,
       "grid_row": null,
       "grid_template_areas": null,
       "grid_template_columns": null,
       "grid_template_rows": null,
       "height": null,
       "justify_content": null,
       "justify_items": null,
       "left": null,
       "margin": null,
       "max_height": null,
       "max_width": null,
       "min_height": null,
       "min_width": null,
       "object_fit": null,
       "object_position": null,
       "order": null,
       "overflow": null,
       "overflow_x": null,
       "overflow_y": null,
       "padding": null,
       "right": null,
       "top": null,
       "visibility": null,
       "width": null
      }
     },
     "dcaea5600edc4d69a933f4a89037b937": {
      "model_module": "@jupyter-widgets/controls",
      "model_module_version": "1.5.0",
      "model_name": "HBoxModel",
      "state": {
       "_dom_classes": [],
       "_model_module": "@jupyter-widgets/controls",
       "_model_module_version": "1.5.0",
       "_model_name": "HBoxModel",
       "_view_count": null,
       "_view_module": "@jupyter-widgets/controls",
       "_view_module_version": "1.5.0",
       "_view_name": "HBoxView",
       "box_style": "",
       "children": [
        "IPY_MODEL_dd30fca52ace47f9b3cd6590da177354",
        "IPY_MODEL_0c0b41a2c83c4d1e8b21bca1936051ff",
        "IPY_MODEL_945dd128d2a246339d356355a273b3ee"
       ],
       "layout": "IPY_MODEL_d5d48db528e5442b993a8b24ae8d9ce7"
      }
     },
     "dd30fca52ace47f9b3cd6590da177354": {
      "model_module": "@jupyter-widgets/controls",
      "model_module_version": "1.5.0",
      "model_name": "HTMLModel",
      "state": {
       "_dom_classes": [],
       "_model_module": "@jupyter-widgets/controls",
       "_model_module_version": "1.5.0",
       "_model_name": "HTMLModel",
       "_view_count": null,
       "_view_module": "@jupyter-widgets/controls",
       "_view_module_version": "1.5.0",
       "_view_name": "HTMLView",
       "description": "",
       "description_tooltip": null,
       "layout": "IPY_MODEL_c3a2186cf353486c9fccdf0ffe5db7ac",
       "placeholder": "​",
       "style": "IPY_MODEL_8519c7432cbc40a98594558f1002e2d9",
       "value": "100%"
      }
     },
     "edfab430d5cb4dccadb9aa8efa8224f0": {
      "model_module": "@jupyter-widgets/base",
      "model_module_version": "1.2.0",
      "model_name": "LayoutModel",
      "state": {
       "_model_module": "@jupyter-widgets/base",
       "_model_module_version": "1.2.0",
       "_model_name": "LayoutModel",
       "_view_count": null,
       "_view_module": "@jupyter-widgets/base",
       "_view_module_version": "1.2.0",
       "_view_name": "LayoutView",
       "align_content": null,
       "align_items": null,
       "align_self": null,
       "border": null,
       "bottom": null,
       "display": null,
       "flex": null,
       "flex_flow": null,
       "grid_area": null,
       "grid_auto_columns": null,
       "grid_auto_flow": null,
       "grid_auto_rows": null,
       "grid_column": null,
       "grid_gap": null,
       "grid_row": null,
       "grid_template_areas": null,
       "grid_template_columns": null,
       "grid_template_rows": null,
       "height": null,
       "justify_content": null,
       "justify_items": null,
       "left": null,
       "margin": null,
       "max_height": null,
       "max_width": null,
       "min_height": null,
       "min_width": null,
       "object_fit": null,
       "object_position": null,
       "order": null,
       "overflow": null,
       "overflow_x": null,
       "overflow_y": null,
       "padding": null,
       "right": null,
       "top": null,
       "visibility": null,
       "width": null
      }
     },
     "f3831d1761ec43869eaaedb370c47692": {
      "model_module": "@jupyter-widgets/controls",
      "model_module_version": "1.5.0",
      "model_name": "FloatProgressModel",
      "state": {
       "_dom_classes": [],
       "_model_module": "@jupyter-widgets/controls",
       "_model_module_version": "1.5.0",
       "_model_name": "FloatProgressModel",
       "_view_count": null,
       "_view_module": "@jupyter-widgets/controls",
       "_view_module_version": "1.5.0",
       "_view_name": "ProgressView",
       "bar_style": "success",
       "description": "",
       "description_tooltip": null,
       "layout": "IPY_MODEL_c7ebdbfabd5044b085a1562b06dd23e0",
       "max": 206950.0,
       "min": 0.0,
       "orientation": "horizontal",
       "style": "IPY_MODEL_0e22430577224237b215ece6af21bdc4",
       "value": 206950.0
      }
     }
    },
    "version_major": 2,
    "version_minor": 0
   }
  }
 },
 "nbformat": 4,
 "nbformat_minor": 5
}
